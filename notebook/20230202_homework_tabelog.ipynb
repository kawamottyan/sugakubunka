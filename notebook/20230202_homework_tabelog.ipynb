{
 "cells": [
  {
   "cell_type": "code",
   "execution_count": 1,
   "id": "fae9f459",
   "metadata": {},
   "outputs": [],
   "source": [
    "#ダウンロード必要\n",
    "#!pip install selenium\n",
    "#!pip install chromedriver-binary-auto\n",
    "#!pip install webdriver-manager"
   ]
  },
  {
   "cell_type": "code",
   "execution_count": 2,
   "id": "748996ba",
   "metadata": {},
   "outputs": [],
   "source": [
    "#インポート\n",
    "import os\n",
    "import time\n",
    "from selenium import webdriver\n",
    "from selenium.webdriver.support.ui import Select,WebDriverWait\n",
    "from selenium.webdriver.support import expected_conditions as EC\n",
    "from selenium.webdriver.common.by import By\n",
    "from webdriver_manager.chrome import ChromeDriverManager"
   ]
  },
  {
   "cell_type": "code",
   "execution_count": 3,
   "id": "b9a66ea4",
   "metadata": {},
   "outputs": [
    {
     "name": "stderr",
     "output_type": "stream",
     "text": [
      "C:\\Users\\kawam\\AppData\\Local\\Temp\\ipykernel_21616\\3760023011.py:2: DeprecationWarning: executable_path has been deprecated, please pass in a Service object\n",
      "  driver = webdriver.Chrome(ChromeDriverManager().install()) #DL済みならパス指定\n"
     ]
    }
   ],
   "source": [
    "#立ち上げ\n",
    "driver = webdriver.Chrome(ChromeDriverManager().install()) #DL済みならパス指定\n",
    "wait = WebDriverWait(driver,10)"
   ]
  },
  {
   "cell_type": "code",
   "execution_count": 4,
   "id": "db559387",
   "metadata": {},
   "outputs": [],
   "source": [
    "#URLの設定\n",
    "URL = \"https://tabelog.com/\""
   ]
  },
  {
   "cell_type": "code",
   "execution_count": 5,
   "id": "39566b50",
   "metadata": {},
   "outputs": [
    {
     "data": {
      "text/plain": [
       "<function selenium.webdriver.support.expected_conditions.presence_of_all_elements_located.<locals>._predicate(driver)>"
      ]
     },
     "execution_count": 5,
     "metadata": {},
     "output_type": "execute_result"
    }
   ],
   "source": [
    "#URL検索\n",
    "driver.get(URL)\n",
    "time.sleep(1)\n",
    "wait.until(EC.presence_of_all_elements_located)"
   ]
  },
  {
   "cell_type": "code",
   "execution_count": 6,
   "id": "45716f79",
   "metadata": {},
   "outputs": [],
   "source": [
    "#検索条件の設定\n",
    "station = \"新宿駅\"\n",
    "keyword = \"ラーメン\""
   ]
  },
  {
   "cell_type": "code",
   "execution_count": 7,
   "id": "cd2aa707",
   "metadata": {},
   "outputs": [
    {
     "data": {
      "text/plain": [
       "<function selenium.webdriver.support.expected_conditions.presence_of_all_elements_located.<locals>._predicate(driver)>"
      ]
     },
     "execution_count": 7,
     "metadata": {},
     "output_type": "execute_result"
    }
   ],
   "source": [
    "#検索の開始\n",
    "station_element =driver.find_elements(By.CSS_SELECTOR, '#sa')\n",
    "station_element[0].send_keys(str(station))\n",
    "keyword_element =driver.find_elements(By.CSS_SELECTOR, '#sk')\n",
    "keyword_element[0].send_keys(str(keyword))\n",
    "submit = driver.find_element(By.CSS_SELECTOR,\"#js-global-search-btn\")\n",
    "submit.click()\n",
    "time.sleep(5)\n",
    "wait.until(EC.presence_of_all_elements_located)"
   ]
  },
  {
   "cell_type": "code",
   "execution_count": 8,
   "id": "70e87544",
   "metadata": {},
   "outputs": [],
   "source": [
    "#保存先の設定\n",
    "data_dir = \"data\"\n",
    "if not os.path.isdir(data_dir):\n",
    "    os.makedirs(data_dir)\n",
    "path = data_dir+\"/\"+str(station)+\"-\"+str(keyword)+\".txt\""
   ]
  },
  {
   "cell_type": "code",
   "execution_count": 9,
   "id": "8cdd8819",
   "metadata": {},
   "outputs": [],
   "source": [
    "#書き込み開始\n",
    "with open(path, mode='w',encoding='utf-8') as f:\n",
    "    while True:\n",
    "        time.sleep(5)\n",
    "        wait.until(EC.presence_of_all_elements_located)\n",
    "        all_rows = driver.find_elements(By.CLASS_NAME,'list-rst__area-genre')\n",
    "        for row in range(0, len(all_rows)):\n",
    "            shop_names = driver.find_elements(By.CLASS_NAME,'list-rst__rst-name-target')\n",
    "            f.write(shop_names[row].text+\"\\n\")\n",
    "        try:\n",
    "            target = driver.find_elements(By.LINK_TEXT,\"次の20件\")[0]\n",
    "            driver.execute_script(\"arguments[0].click();\", target) \n",
    "        except IndexError:\n",
    "            break"
   ]
  }
 ],
 "metadata": {
  "kernelspec": {
   "display_name": "Python 3 (ipykernel)",
   "language": "python",
   "name": "python3"
  },
  "language_info": {
   "codemirror_mode": {
    "name": "ipython",
    "version": 3
   },
   "file_extension": ".py",
   "mimetype": "text/x-python",
   "name": "python",
   "nbconvert_exporter": "python",
   "pygments_lexer": "ipython3",
   "version": "3.9.13"
  }
 },
 "nbformat": 4,
 "nbformat_minor": 5
}
