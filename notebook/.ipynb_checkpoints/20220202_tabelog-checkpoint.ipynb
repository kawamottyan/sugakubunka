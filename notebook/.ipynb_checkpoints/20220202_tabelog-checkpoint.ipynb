{
 "cells": [
  {
   "cell_type": "code",
   "execution_count": 1,
   "id": "ff44ac51",
   "metadata": {},
   "outputs": [],
   "source": [
    "#!pip install selenium\n",
    "#!pip install chromedriver-binary-auto\n",
    "#!pip install webdriver-manager"
   ]
  },
  {
   "cell_type": "code",
   "execution_count": 2,
   "id": "0708bfe3",
   "metadata": {},
   "outputs": [],
   "source": [
    "import time\n",
    "import os\n",
    "from selenium import webdriver\n",
    "from webdriver_manager.chrome import ChromeDriverManager\n",
    "from selenium.webdriver.support.ui import Select,WebDriverWait\n",
    "from selenium.webdriver.support import expected_conditions as EC\n",
    "from selenium.webdriver.common.by import By\n",
    "import pandas as pd"
   ]
  },
  {
   "cell_type": "code",
   "execution_count": 3,
   "id": "fbb4f964",
   "metadata": {},
   "outputs": [
    {
     "name": "stderr",
     "output_type": "stream",
     "text": [
      "C:\\Users\\kawam\\AppData\\Local\\Temp\\ipykernel_17812\\343654982.py:2: DeprecationWarning: executable_path has been deprecated, please pass in a Service object\n",
      "  driver = webdriver.Chrome(ChromeDriverManager().install())\n"
     ]
    },
    {
     "data": {
      "text/plain": [
       "<function selenium.webdriver.support.expected_conditions.presence_of_all_elements_located.<locals>._predicate(driver)>"
      ]
     },
     "execution_count": 3,
     "metadata": {},
     "output_type": "execute_result"
    }
   ],
   "source": [
    "#立ち上げ\n",
    "driver = webdriver.Chrome(ChromeDriverManager().install())\n",
    "wait = WebDriverWait(driver,10)\n",
    "\n",
    "#URLの設定\n",
    "URL = \"https://tabelog.com/rstLst/?Srt=D&SrtT=rt&sort_mode=1\"\n",
    "\n",
    "#URL検索\n",
    "driver.get(URL)\n",
    "time.sleep(1)\n",
    "wait.until(EC.presence_of_all_elements_located)"
   ]
  },
  {
   "cell_type": "code",
   "execution_count": 4,
   "id": "72d292a0",
   "metadata": {},
   "outputs": [
    {
     "data": {
      "text/plain": [
       "<function selenium.webdriver.support.expected_conditions.presence_of_all_elements_located.<locals>._predicate(driver)>"
      ]
     },
     "execution_count": 4,
     "metadata": {},
     "output_type": "execute_result"
    }
   ],
   "source": [
    "#検索条件の設定\n",
    "station = \"新宿駅\"\n",
    "keyword = \"ラーメン\"\n",
    "\n",
    "#検索の開始\n",
    "station_element =driver.find_elements(By.CSS_SELECTOR, '#react-search-header > form > div.sc-gJqSRm.sc-evzXkX.AXZc.elZTDN > input')\n",
    "station_element[0].send_keys(str(station))\n",
    "keyword_element =driver.find_elements(By.CSS_SELECTOR, '#react-search-header > form > div.sc-gJqSRm.sc-fHSyak.AXZc.ctDCgi > input')\n",
    "keyword_element[0].send_keys(str(keyword))\n",
    "submit = driver.find_element(By.CSS_SELECTOR,\"#react-search-header > form > div.sc-dkBdza.kbEejG > button\")\n",
    "submit.click()\n",
    "time.sleep(5)\n",
    "wait.until(EC.presence_of_all_elements_located)"
   ]
  },
  {
   "cell_type": "code",
   "execution_count": null,
   "id": "42f10d00",
   "metadata": {},
   "outputs": [],
   "source": [
    "#保存先の設定\n",
    "data_dir = \"data\"\n",
    "if not os.path.isdir(data_dir):\n",
    "    os.makedirs(data_dir)\n",
    "path = data_dir+\"/\"+str(station)+\"-\"+str(keyword)+\"c.txt\"\n",
    "\n",
    "#書き込み開始\n",
    "with open(path, mode='w',encoding='utf-8') as f:\n",
    "    while True:\n",
    "        time.sleep(5)\n",
    "        wait.until(EC.presence_of_all_elements_located)\n",
    "        all_rows = driver.find_elements(By.CLASS_NAME,'list-rst__area-genre')\n",
    "        for row in range(1, len(all_rows)):\n",
    "            shop_names = driver.find_elements(By.CLASS_NAME,'list-rst__rst-name-target')\n",
    "            #for shop_name in shop_names:\n",
    "            f.write(shop_names.text+\"\\n\")\n",
    "        try:\n",
    "            target = driver.find_elements(By.LINK_TEXT,\"次の20件\")[0]\n",
    "            driver.execute_script(\"arguments[0].click();\", target) \n",
    "        except IndexError:\n",
    "            break"
   ]
  },
  {
   "cell_type": "code",
   "execution_count": 8,
   "id": "61cc6f5f",
   "metadata": {},
   "outputs": [
    {
     "name": "stdout",
     "output_type": "stream",
     "text": [
      "15\n"
     ]
    }
   ],
   "source": [
    "print(len(all_rows))"
   ]
  }
 ],
 "metadata": {
  "kernelspec": {
   "display_name": "Python 3 (ipykernel)",
   "language": "python",
   "name": "python3"
  },
  "language_info": {
   "codemirror_mode": {
    "name": "ipython",
    "version": 3
   },
   "file_extension": ".py",
   "mimetype": "text/x-python",
   "name": "python",
   "nbconvert_exporter": "python",
   "pygments_lexer": "ipython3",
   "version": "3.9.13"
  }
 },
 "nbformat": 4,
 "nbformat_minor": 5
}
