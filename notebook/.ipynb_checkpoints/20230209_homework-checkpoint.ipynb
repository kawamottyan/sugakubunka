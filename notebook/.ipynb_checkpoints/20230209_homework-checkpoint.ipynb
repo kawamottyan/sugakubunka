{
 "cells": [
  {
   "cell_type": "markdown",
   "id": "99722835",
   "metadata": {},
   "source": [
    "Q1.2022年度以降の加速度は-10した方が正しい。この修正をほどこした値を持つ列\"加速度_修正\"を作ってください。\n",
    "Q2.2022年度以前の加速度,2023年以降の加速度について平均,sdを計算してください。\n",
    "Q3.2022年以降のデータだけを抽出して、加速度_修正/速度を計算してください。"
   ]
  },
  {
   "cell_type": "code",
   "execution_count": 3,
   "id": "38e8cdee",
   "metadata": {},
   "outputs": [],
   "source": [
    "import pandas as pd"
   ]
  },
  {
   "cell_type": "code",
   "execution_count": 4,
   "id": "f7e9b89d",
   "metadata": {},
   "outputs": [],
   "source": [
    "df = pd.DataFrame({'id':[1,2,3,4,5],\n",
    "                   '年度':[2020,2021,2022,2023,2024],\n",
    "                   '速度':[68,62,71,68,65],\n",
    "                   '加速度':[12,18,34,29,32]\n",
    "                  })"
   ]
  }
 ],
 "metadata": {
  "kernelspec": {
   "display_name": "Python 3 (ipykernel)",
   "language": "python",
   "name": "python3"
  },
  "language_info": {
   "codemirror_mode": {
    "name": "ipython",
    "version": 3
   },
   "file_extension": ".py",
   "mimetype": "text/x-python",
   "name": "python",
   "nbconvert_exporter": "python",
   "pygments_lexer": "ipython3",
   "version": "3.9.13"
  }
 },
 "nbformat": 4,
 "nbformat_minor": 5
}
