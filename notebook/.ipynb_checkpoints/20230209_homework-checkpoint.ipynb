{
 "cells": [
  {
   "cell_type": "markdown",
   "id": "99722835",
   "metadata": {},
   "source": [
    "Q1.2022年度以降の加速度は-10した方が正しい。この修正をほどこした値を持つ列\"加速度_修正\"を作ってください。  \n",
    "Q2.2022年度以前の加速度,2023年以降の加速度について平均,sdを計算してください。  \n",
    "Q3.2022年以降のデータだけを抽出して、加速度_修正/速度を計算してください。  "
   ]
  },
  {
   "cell_type": "code",
   "execution_count": 1,
   "id": "38e8cdee",
   "metadata": {},
   "outputs": [],
   "source": [
    "import pandas as pd\n",
    "import numpy as np"
   ]
  },
  {
   "cell_type": "code",
   "execution_count": 2,
   "id": "f7e9b89d",
   "metadata": {},
   "outputs": [],
   "source": [
    "df = pd.DataFrame({'id':[1,2,3,4,5],\n",
    "                   '年度':[2020,2021,2022,2023,2024],\n",
    "                   '速度':[68,62,71,68,65],\n",
    "                   '加速度':[12,18,34,29,32]\n",
    "                  })"
   ]
  },
  {
   "cell_type": "code",
   "execution_count": 3,
   "id": "b266f05f",
   "metadata": {
    "scrolled": false
   },
   "outputs": [
    {
     "data": {
      "text/html": [
       "<div>\n",
       "<style scoped>\n",
       "    .dataframe tbody tr th:only-of-type {\n",
       "        vertical-align: middle;\n",
       "    }\n",
       "\n",
       "    .dataframe tbody tr th {\n",
       "        vertical-align: top;\n",
       "    }\n",
       "\n",
       "    .dataframe thead th {\n",
       "        text-align: right;\n",
       "    }\n",
       "</style>\n",
       "<table border=\"1\" class=\"dataframe\">\n",
       "  <thead>\n",
       "    <tr style=\"text-align: right;\">\n",
       "      <th></th>\n",
       "      <th>id</th>\n",
       "      <th>年度</th>\n",
       "      <th>速度</th>\n",
       "      <th>加速度</th>\n",
       "    </tr>\n",
       "  </thead>\n",
       "  <tbody>\n",
       "    <tr>\n",
       "      <th>0</th>\n",
       "      <td>1</td>\n",
       "      <td>2020</td>\n",
       "      <td>68</td>\n",
       "      <td>12</td>\n",
       "    </tr>\n",
       "    <tr>\n",
       "      <th>1</th>\n",
       "      <td>2</td>\n",
       "      <td>2021</td>\n",
       "      <td>62</td>\n",
       "      <td>18</td>\n",
       "    </tr>\n",
       "    <tr>\n",
       "      <th>2</th>\n",
       "      <td>3</td>\n",
       "      <td>2022</td>\n",
       "      <td>71</td>\n",
       "      <td>34</td>\n",
       "    </tr>\n",
       "    <tr>\n",
       "      <th>3</th>\n",
       "      <td>4</td>\n",
       "      <td>2023</td>\n",
       "      <td>68</td>\n",
       "      <td>29</td>\n",
       "    </tr>\n",
       "    <tr>\n",
       "      <th>4</th>\n",
       "      <td>5</td>\n",
       "      <td>2024</td>\n",
       "      <td>65</td>\n",
       "      <td>32</td>\n",
       "    </tr>\n",
       "  </tbody>\n",
       "</table>\n",
       "</div>"
      ],
      "text/plain": [
       "   id    年度  速度  加速度\n",
       "0   1  2020  68   12\n",
       "1   2  2021  62   18\n",
       "2   3  2022  71   34\n",
       "3   4  2023  68   29\n",
       "4   5  2024  65   32"
      ]
     },
     "execution_count": 3,
     "metadata": {},
     "output_type": "execute_result"
    }
   ],
   "source": [
    "df"
   ]
  },
  {
   "cell_type": "markdown",
   "id": "3670d3e7",
   "metadata": {},
   "source": [
    "# Q1\n",
    "2022年度以降の加速度は-10した方が正しい。この修正をほどこした値を持つ列\"加速度_修正\"を作ってください。"
   ]
  },
  {
   "cell_type": "code",
   "execution_count": 6,
   "id": "b485b356",
   "metadata": {},
   "outputs": [
    {
     "data": {
      "text/html": [
       "<div>\n",
       "<style scoped>\n",
       "    .dataframe tbody tr th:only-of-type {\n",
       "        vertical-align: middle;\n",
       "    }\n",
       "\n",
       "    .dataframe tbody tr th {\n",
       "        vertical-align: top;\n",
       "    }\n",
       "\n",
       "    .dataframe thead th {\n",
       "        text-align: right;\n",
       "    }\n",
       "</style>\n",
       "<table border=\"1\" class=\"dataframe\">\n",
       "  <thead>\n",
       "    <tr style=\"text-align: right;\">\n",
       "      <th></th>\n",
       "      <th>id</th>\n",
       "      <th>年度</th>\n",
       "      <th>速度</th>\n",
       "      <th>加速度</th>\n",
       "      <th>加速度_修正</th>\n",
       "    </tr>\n",
       "  </thead>\n",
       "  <tbody>\n",
       "    <tr>\n",
       "      <th>0</th>\n",
       "      <td>1</td>\n",
       "      <td>2020</td>\n",
       "      <td>68</td>\n",
       "      <td>12</td>\n",
       "      <td>12.0</td>\n",
       "    </tr>\n",
       "    <tr>\n",
       "      <th>1</th>\n",
       "      <td>2</td>\n",
       "      <td>2021</td>\n",
       "      <td>62</td>\n",
       "      <td>18</td>\n",
       "      <td>18.0</td>\n",
       "    </tr>\n",
       "    <tr>\n",
       "      <th>2</th>\n",
       "      <td>3</td>\n",
       "      <td>2022</td>\n",
       "      <td>71</td>\n",
       "      <td>34</td>\n",
       "      <td>24.0</td>\n",
       "    </tr>\n",
       "    <tr>\n",
       "      <th>3</th>\n",
       "      <td>4</td>\n",
       "      <td>2023</td>\n",
       "      <td>68</td>\n",
       "      <td>29</td>\n",
       "      <td>19.0</td>\n",
       "    </tr>\n",
       "    <tr>\n",
       "      <th>4</th>\n",
       "      <td>5</td>\n",
       "      <td>2024</td>\n",
       "      <td>65</td>\n",
       "      <td>32</td>\n",
       "      <td>22.0</td>\n",
       "    </tr>\n",
       "  </tbody>\n",
       "</table>\n",
       "</div>"
      ],
      "text/plain": [
       "   id    年度  速度  加速度  加速度_修正\n",
       "0   1  2020  68   12    12.0\n",
       "1   2  2021  62   18    18.0\n",
       "2   3  2022  71   34    24.0\n",
       "3   4  2023  68   29    19.0\n",
       "4   5  2024  65   32    22.0"
      ]
     },
     "execution_count": 6,
     "metadata": {},
     "output_type": "execute_result"
    }
   ],
   "source": [
    "for i in range(len(df)):\n",
    "    if df['年度'][i] >= 2022:\n",
    "         df.at[i, '加速度_修正'] = df.at[i, '加速度'] - 10\n",
    "        #df['加速度'][i] = df.apply(lambda x:x['加速度'][i]-10,axis=1) \n",
    "    else:\n",
    "        df.at[i, '加速度_修正'] = df.at[i, '加速度'] \n",
    "df"
   ]
  },
  {
   "cell_type": "markdown",
   "id": "8958f10e",
   "metadata": {},
   "source": [
    "# Q2\n",
    "2022年度以前の加速度,2023年以降の加速度について平均,sdを計算してください。"
   ]
  },
  {
   "cell_type": "code",
   "execution_count": 5,
   "id": "dbb8039f",
   "metadata": {},
   "outputs": [
    {
     "name": "stdout",
     "output_type": "stream",
     "text": [
      "21.333333333333332 30.5\n",
      "9.285592184789413 1.5\n"
     ]
    }
   ],
   "source": [
    "early = []\n",
    "late = []\n",
    "for i in range(len(df)):\n",
    "    if df[\"年度\"][i] <= 2022:\n",
    "        early.append(df[\"加速度\"][i])\n",
    "    else:\n",
    "        late.append(df[\"加速度\"][i])\n",
    "print(np.mean(early),np.mean(late))\n",
    "print(np.std(early),np.std(late))"
   ]
  },
  {
   "cell_type": "markdown",
   "id": "4a6da3ac",
   "metadata": {},
   "source": [
    "# Q3\n",
    "2022年以降のデータだけを抽出して、加速度_修正/速度を計算してください。"
   ]
  },
  {
   "cell_type": "code",
   "execution_count": 7,
   "id": "c2354841",
   "metadata": {},
   "outputs": [
    {
     "data": {
      "text/html": [
       "<div>\n",
       "<style scoped>\n",
       "    .dataframe tbody tr th:only-of-type {\n",
       "        vertical-align: middle;\n",
       "    }\n",
       "\n",
       "    .dataframe tbody tr th {\n",
       "        vertical-align: top;\n",
       "    }\n",
       "\n",
       "    .dataframe thead th {\n",
       "        text-align: right;\n",
       "    }\n",
       "</style>\n",
       "<table border=\"1\" class=\"dataframe\">\n",
       "  <thead>\n",
       "    <tr style=\"text-align: right;\">\n",
       "      <th></th>\n",
       "      <th>id</th>\n",
       "      <th>年度</th>\n",
       "      <th>速度</th>\n",
       "      <th>加速度</th>\n",
       "      <th>加速度_修正</th>\n",
       "      <th>加速度_修正/速度</th>\n",
       "    </tr>\n",
       "  </thead>\n",
       "  <tbody>\n",
       "    <tr>\n",
       "      <th>0</th>\n",
       "      <td>1</td>\n",
       "      <td>2020</td>\n",
       "      <td>68</td>\n",
       "      <td>12</td>\n",
       "      <td>12.0</td>\n",
       "      <td>NaN</td>\n",
       "    </tr>\n",
       "    <tr>\n",
       "      <th>1</th>\n",
       "      <td>2</td>\n",
       "      <td>2021</td>\n",
       "      <td>62</td>\n",
       "      <td>18</td>\n",
       "      <td>18.0</td>\n",
       "      <td>NaN</td>\n",
       "    </tr>\n",
       "    <tr>\n",
       "      <th>2</th>\n",
       "      <td>3</td>\n",
       "      <td>2022</td>\n",
       "      <td>71</td>\n",
       "      <td>34</td>\n",
       "      <td>24.0</td>\n",
       "      <td>0.478873</td>\n",
       "    </tr>\n",
       "    <tr>\n",
       "      <th>3</th>\n",
       "      <td>4</td>\n",
       "      <td>2023</td>\n",
       "      <td>68</td>\n",
       "      <td>29</td>\n",
       "      <td>19.0</td>\n",
       "      <td>0.426471</td>\n",
       "    </tr>\n",
       "    <tr>\n",
       "      <th>4</th>\n",
       "      <td>5</td>\n",
       "      <td>2024</td>\n",
       "      <td>65</td>\n",
       "      <td>32</td>\n",
       "      <td>22.0</td>\n",
       "      <td>0.492308</td>\n",
       "    </tr>\n",
       "  </tbody>\n",
       "</table>\n",
       "</div>"
      ],
      "text/plain": [
       "   id    年度  速度  加速度  加速度_修正  加速度_修正/速度\n",
       "0   1  2020  68   12    12.0        NaN\n",
       "1   2  2021  62   18    18.0        NaN\n",
       "2   3  2022  71   34    24.0   0.478873\n",
       "3   4  2023  68   29    19.0   0.426471\n",
       "4   5  2024  65   32    22.0   0.492308"
      ]
     },
     "execution_count": 7,
     "metadata": {},
     "output_type": "execute_result"
    }
   ],
   "source": [
    "for i in range(len(df)):\n",
    "    if df['年度'][i] >= 2022:\n",
    "         df.at[i, '加速度_修正/速度'] = df.at[i, '加速度']/df.at[i, '速度']\n",
    "        #df['加速度'][i] = df.apply(lambda x:x['加速度'][i]-10,axis=1) \n",
    "    else:\n",
    "        continue\n",
    "df"
   ]
  }
 ],
 "metadata": {
  "kernelspec": {
   "display_name": "Python 3 (ipykernel)",
   "language": "python",
   "name": "python3"
  },
  "language_info": {
   "codemirror_mode": {
    "name": "ipython",
    "version": 3
   },
   "file_extension": ".py",
   "mimetype": "text/x-python",
   "name": "python",
   "nbconvert_exporter": "python",
   "pygments_lexer": "ipython3",
   "version": "3.9.13"
  }
 },
 "nbformat": 4,
 "nbformat_minor": 5
}
