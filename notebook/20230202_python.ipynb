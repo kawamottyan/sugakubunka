{
 "cells": [
  {
   "cell_type": "markdown",
   "id": "c28766e6",
   "metadata": {},
   "source": [
    "Q1 x,yを引数に持ち、x+y-1を返す関数を2通りの方法でコーディングしてください。'def'は1回まで。"
   ]
  },
  {
   "cell_type": "code",
   "execution_count": 2,
   "id": "02b89619",
   "metadata": {},
   "outputs": [],
   "source": [
    "def keisan1(x,y):\n",
    "    return x+y-1"
   ]
  },
  {
   "cell_type": "markdown",
   "id": "f94e3176",
   "metadata": {},
   "source": [
    "①dev文  \n",
    "②lambda文"
   ]
  },
  {
   "cell_type": "code",
   "execution_count": 6,
   "id": "f5eba98e",
   "metadata": {
    "scrolled": true
   },
   "outputs": [
    {
     "data": {
      "text/plain": [
       "5"
      ]
     },
     "execution_count": 6,
     "metadata": {},
     "output_type": "execute_result"
    }
   ],
   "source": [
    "keisan2 =lambda x,y:x+y-1"
   ]
  },
  {
   "cell_type": "markdown",
   "id": "31b0b5db",
   "metadata": {},
   "source": [
    "Q2 人の名前をインスタンス変数にでき、「その人の名前さん、おはよう。」という文章を返すメゾットを持つクラスを作ってください。"
   ]
  },
  {
   "cell_type": "code",
   "execution_count": 3,
   "id": "b08d650d",
   "metadata": {},
   "outputs": [],
   "source": [
    "class morning:\n",
    "    name = ''\n",
    "    def ohayou(name):\n",
    "        print(name + 'さん、おはよう。')\n",
    "morning.name(name='morning')"
   ]
  },
  {
   "cell_type": "code",
   "execution_count": 7,
   "id": "725915d4",
   "metadata": {},
   "outputs": [],
   "source": [
    "class Greet(): #()は継承クラスがあるときに、それを設定する。最初大文字。\n",
    "    def __init__(self,name): #selfじゃなくてもいい。defが続いたときにわからなくなるから\n",
    "        self.name =name #self.nameがインスタンス変数\n",
    "        self.name ='川本' #クラス変数\n",
    "    def say(self): #メゾット\n",
    "        sent = self.name+\"さん、おはよう。\"\n",
    "        return sent"
   ]
  },
  {
   "cell_type": "code",
   "execution_count": 9,
   "id": "008198ee",
   "metadata": {
    "scrolled": true
   },
   "outputs": [
    {
     "data": {
      "text/plain": [
       "'川本さん、おはよう。'"
      ]
     },
     "execution_count": 9,
     "metadata": {},
     "output_type": "execute_result"
    }
   ],
   "source": [
    "kawamoto = Greet(name = '川本')\n",
    "#kawamoto.name ->'川本'\n",
    "kawamoto.say()"
   ]
  },
  {
   "cell_type": "markdown",
   "id": "70e2a99b",
   "metadata": {},
   "source": [
    "Q3 ``` \n",
    "    from sklearn . linier_model import LinerRegression \n",
    "    model = LiniearRegression()\n",
    "    model.fit(x,y)\n",
    "    model.coef_```\n",
    "    \n",
    "    (1)LinearRegressionはクラス or 関数？\n",
    "    ->クラス\n",
    "    (2)model.coefはメゾットですかインスタンス変数ですか？\n",
    "    ->インスタンス変数　#かっこがついてないから\n",
    "    (2-2)fitは？\n",
    "    ->クラス内にある関数のことをメゾットと言います。\n",
    "    ->メゾットであり、広義では関数である"
   ]
  },
  {
   "cell_type": "markdown",
   "id": "662000a0",
   "metadata": {},
   "source": [
    "Q4 data=pd.read_csv(\"~.csv\")\n",
    "   data.describe()\n",
    "   ->メゾット　()があるから"
   ]
  },
  {
   "cell_type": "code",
   "execution_count": 17,
   "id": "6df89ea5",
   "metadata": {},
   "outputs": [
    {
     "data": {
      "text/html": [
       "<div>\n",
       "<style scoped>\n",
       "    .dataframe tbody tr th:only-of-type {\n",
       "        vertical-align: middle;\n",
       "    }\n",
       "\n",
       "    .dataframe tbody tr th {\n",
       "        vertical-align: top;\n",
       "    }\n",
       "\n",
       "    .dataframe thead th {\n",
       "        text-align: right;\n",
       "    }\n",
       "</style>\n",
       "<table border=\"1\" class=\"dataframe\">\n",
       "  <thead>\n",
       "    <tr style=\"text-align: right;\">\n",
       "      <th></th>\n",
       "      <th>x</th>\n",
       "    </tr>\n",
       "  </thead>\n",
       "  <tbody>\n",
       "    <tr>\n",
       "      <th>count</th>\n",
       "      <td>10.00000</td>\n",
       "    </tr>\n",
       "    <tr>\n",
       "      <th>mean</th>\n",
       "      <td>4.50000</td>\n",
       "    </tr>\n",
       "    <tr>\n",
       "      <th>std</th>\n",
       "      <td>3.02765</td>\n",
       "    </tr>\n",
       "    <tr>\n",
       "      <th>min</th>\n",
       "      <td>0.00000</td>\n",
       "    </tr>\n",
       "    <tr>\n",
       "      <th>10%</th>\n",
       "      <td>0.90000</td>\n",
       "    </tr>\n",
       "    <tr>\n",
       "      <th>50%</th>\n",
       "      <td>4.50000</td>\n",
       "    </tr>\n",
       "    <tr>\n",
       "      <th>90%</th>\n",
       "      <td>8.10000</td>\n",
       "    </tr>\n",
       "    <tr>\n",
       "      <th>max</th>\n",
       "      <td>9.00000</td>\n",
       "    </tr>\n",
       "  </tbody>\n",
       "</table>\n",
       "</div>"
      ],
      "text/plain": [
       "              x\n",
       "count  10.00000\n",
       "mean    4.50000\n",
       "std     3.02765\n",
       "min     0.00000\n",
       "10%     0.90000\n",
       "50%     4.50000\n",
       "90%     8.10000\n",
       "max     9.00000"
      ]
     },
     "execution_count": 17,
     "metadata": {},
     "output_type": "execute_result"
    }
   ],
   "source": [
    "import pandas as pd\n",
    "import numpy as np\n",
    "data = pd.DataFrame({'x':np.arange(10)})\n",
    "#help(data.describe) #ドックストリングで書いたもの\n",
    "data.describe(percentiles=[0.1,0.9])"
   ]
  },
  {
   "cell_type": "markdown",
   "id": "231f5bde",
   "metadata": {},
   "source": [
    "for文(繰り返しの計算)\n",
    "Q5 (1)1から100までの和をfor文で計算してください。\n",
    "   (2)[\"a\",\"b\",\"c\",\"d\",\"e\"]を'abcde'にしてください。"
   ]
  },
  {
   "cell_type": "code",
   "execution_count": 39,
   "id": "ece81a69",
   "metadata": {},
   "outputs": [
    {
     "data": {
      "text/plain": [
       "5050"
      ]
     },
     "execution_count": 39,
     "metadata": {},
     "output_type": "execute_result"
    }
   ],
   "source": [
    "num = 0\n",
    "for i in range(1,101):\n",
    "    #print(i)\n",
    "    num += i\n",
    "num"
   ]
  },
  {
   "cell_type": "code",
   "execution_count": 46,
   "id": "700019ca",
   "metadata": {},
   "outputs": [
    {
     "data": {
      "text/plain": [
       "'abcde'"
      ]
     },
     "execution_count": 46,
     "metadata": {},
     "output_type": "execute_result"
    }
   ],
   "source": [
    "list = [\"a\",\"b\",\"c\",\"d\",\"e\"]\n",
    "ans = ''\n",
    "for i in range(len(list)):\n",
    "    #print(i)\n",
    "    ans+=(list[i])\n",
    "ans"
   ]
  },
  {
   "cell_type": "code",
   "execution_count": 48,
   "id": "ae5ca300",
   "metadata": {},
   "outputs": [
    {
     "data": {
      "text/plain": [
       "'abcde'"
      ]
     },
     "execution_count": 48,
     "metadata": {},
     "output_type": "execute_result"
    }
   ],
   "source": [
    "#別解\n",
    "result = ''\n",
    "for i in [\"a\",\"b\",\"c\",\"d\",\"e\"]:\n",
    "    #print(i)\n",
    "    result += i\n",
    "result"
   ]
  },
  {
   "cell_type": "markdown",
   "id": "3e5afd13",
   "metadata": {},
   "source": [
    "Q6 伊集院がとある(ラーメン屋)に(何番目)に行った。"
   ]
  },
  {
   "cell_type": "code",
   "execution_count": 56,
   "id": "4907841e",
   "metadata": {},
   "outputs": [
    {
     "name": "stdout",
     "output_type": "stream",
     "text": [
      "伊集院が日高屋に1番目に行った\n",
      "伊集院が一風堂に2番目に行った\n",
      "伊集院が天下一品に3番目に行った\n",
      "伊集院が中本に4番目に行った\n"
     ]
    }
   ],
   "source": [
    "shoplists = [\"日高屋\",\"一風堂\",\"天下一品\",\"中本\"]\n",
    "for i,shop in enumerate(shoplists):\n",
    "    #print(i)\n",
    "    print(f\"伊集院が{shop}に{i+1}番目に行った\")\n"
   ]
  },
  {
   "cell_type": "markdown",
   "id": "e778683a",
   "metadata": {},
   "source": [
    "課題：新宿付近のラーメン屋のリストを作れ(Hint,スクレイピング)"
   ]
  },
  {
   "cell_type": "markdown",
   "id": "31c8f7fd",
   "metadata": {},
   "source": [
    "list内包表記"
   ]
  },
  {
   "cell_type": "code",
   "execution_count": 59,
   "id": "68fc071f",
   "metadata": {},
   "outputs": [
    {
     "data": {
      "text/plain": [
       "[0, 1, 2, 3, 4, 5, 6, 7, 8, 9, 10]"
      ]
     },
     "execution_count": 59,
     "metadata": {},
     "output_type": "execute_result"
    }
   ],
   "source": [
    "result = []\n",
    "for i in range(10+1):\n",
    "    result.append(i)\n",
    "result"
   ]
  },
  {
   "cell_type": "code",
   "execution_count": 68,
   "id": "4c85da41",
   "metadata": {},
   "outputs": [
    {
     "data": {
      "text/plain": [
       "[0,\n",
       " 2,\n",
       " 4,\n",
       " 6,\n",
       " 8,\n",
       " 10,\n",
       " 12,\n",
       " 14,\n",
       " 16,\n",
       " 18,\n",
       " 20,\n",
       " 22,\n",
       " 24,\n",
       " 26,\n",
       " 28,\n",
       " 30,\n",
       " 32,\n",
       " 34,\n",
       " 36,\n",
       " 38,\n",
       " 40,\n",
       " 42,\n",
       " 44,\n",
       " 46,\n",
       " 48,\n",
       " 50,\n",
       " 52,\n",
       " 54,\n",
       " 56,\n",
       " 58,\n",
       " 60,\n",
       " 62,\n",
       " 64,\n",
       " 66,\n",
       " 68,\n",
       " 70,\n",
       " 72,\n",
       " 74,\n",
       " 76,\n",
       " 78,\n",
       " 80,\n",
       " 82,\n",
       " 84,\n",
       " 86,\n",
       " 88,\n",
       " 90,\n",
       " 92,\n",
       " 94,\n",
       " 96,\n",
       " 98,\n",
       " 100]"
      ]
     },
     "execution_count": 68,
     "metadata": {},
     "output_type": "execute_result"
    }
   ],
   "source": [
    "#リスト内包表記\n",
    "[i for i in range(10+1)]\n",
    "#偶数だけ\n",
    "[i*2 for i in range(50+1)]\n",
    "[i for i in range(0,101,2)]"
   ]
  }
 ],
 "metadata": {
  "kernelspec": {
   "display_name": "Python 3 (ipykernel)",
   "language": "python",
   "name": "python3"
  },
  "language_info": {
   "codemirror_mode": {
    "name": "ipython",
    "version": 3
   },
   "file_extension": ".py",
   "mimetype": "text/x-python",
   "name": "python",
   "nbconvert_exporter": "python",
   "pygments_lexer": "ipython3",
   "version": "3.9.13"
  }
 },
 "nbformat": 4,
 "nbformat_minor": 5
}
