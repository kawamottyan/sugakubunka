{
 "cells": [
  {
   "cell_type": "code",
   "execution_count": 1,
   "id": "93b5ab0d-abea-4308-bd3f-a2114b8ff1c0",
   "metadata": {},
   "outputs": [
    {
     "data": {
      "text/plain": [
       "1.9771083137421e-06"
      ]
     },
     "execution_count": 1,
     "metadata": {},
     "output_type": "execute_result"
    }
   ],
   "source": [
    "210*(0.01**4)*(0.99**6)"
   ]
  },
  {
   "cell_type": "code",
   "execution_count": 2,
   "id": "d0bdce8d-203a-496a-b269-be5bdb325d6c",
   "metadata": {},
   "outputs": [
    {
     "data": {
      "text/plain": [
       "0.205078125"
      ]
     },
     "execution_count": 2,
     "metadata": {},
     "output_type": "execute_result"
    }
   ],
   "source": [
    "210/1024"
   ]
  },
  {
   "cell_type": "code",
   "execution_count": 3,
   "id": "cfb93e76-5390-4574-9989-1a5a2805fc20",
   "metadata": {},
   "outputs": [],
   "source": [
    "import numpy as np\n",
    "import scipy as sp\n",
    "\n",
    "import matplotlib.pyplot as plt"
   ]
  },
  {
   "cell_type": "code",
   "execution_count": 4,
   "id": "d21772ec-b2c0-4314-912a-a5a6289f178e",
   "metadata": {},
   "outputs": [],
   "source": [
    "def L(x):\n",
    "    return -210*(x**4)*(1-x)**6"
   ]
  },
  {
   "cell_type": "code",
   "execution_count": 5,
   "id": "fb8beab1-8b0a-4712-8dde-d41a9774e780",
   "metadata": {},
   "outputs": [
    {
     "data": {
      "text/plain": [
       "-1.9771083137421e-06"
      ]
     },
     "execution_count": 5,
     "metadata": {},
     "output_type": "execute_result"
    }
   ],
   "source": [
    "L(0.01)"
   ]
  },
  {
   "cell_type": "code",
   "execution_count": 6,
   "id": "709810eb-0666-492e-8914-bdd55ecaf072",
   "metadata": {},
   "outputs": [
    {
     "data": {
      "text/plain": [
       "-0.205078125"
      ]
     },
     "execution_count": 6,
     "metadata": {},
     "output_type": "execute_result"
    }
   ],
   "source": [
    "L(0.5)"
   ]
  },
  {
   "cell_type": "code",
   "execution_count": 7,
   "id": "a7a10122-c798-4600-a65b-a6e17861cb13",
   "metadata": {},
   "outputs": [
    {
     "data": {
      "text/plain": [
       "      fun: -0.25082265599999987\n",
       " hess_inv: array([[0.09570267]])\n",
       "      jac: array([3.7252903e-09])\n",
       "  message: 'Optimization terminated successfully.'\n",
       "     nfev: 16\n",
       "      nit: 4\n",
       "     njev: 8\n",
       "   status: 0\n",
       "  success: True\n",
       "        x: array([0.39999999])"
      ]
     },
     "execution_count": 7,
     "metadata": {},
     "output_type": "execute_result"
    }
   ],
   "source": [
    "sp.optimize.minimize(L, x0=0.1)"
   ]
  },
  {
   "cell_type": "code",
   "execution_count": null,
   "id": "84060dc5-564f-4f93-bc1c-a32270ee27ca",
   "metadata": {},
   "outputs": [],
   "source": []
  },
  {
   "cell_type": "code",
   "execution_count": 8,
   "id": "0b6b0b05-cee3-4bf2-95a6-d8d487512cbd",
   "metadata": {},
   "outputs": [
    {
     "data": {
      "text/plain": [
       "array([49.52830405, 61.8416655 , 41.43256942, 39.18364438, 47.72046143,\n",
       "       28.11645667, 46.99364886, 59.33541713, 39.77239227, 42.92556805])"
      ]
     },
     "execution_count": 8,
     "metadata": {},
     "output_type": "execute_result"
    }
   ],
   "source": [
    "sample = sp.stats.norm.rvs(loc=50,scale=10,size=10)\n",
    "sample"
   ]
  },
  {
   "cell_type": "code",
   "execution_count": 9,
   "id": "02c7ae1e-cf02-4d5a-a492-011d1a00f595",
   "metadata": {},
   "outputs": [
    {
     "data": {
      "text/plain": [
       "45.68501277625727"
      ]
     },
     "execution_count": 9,
     "metadata": {},
     "output_type": "execute_result"
    }
   ],
   "source": [
    "sample.mean()"
   ]
  },
  {
   "cell_type": "code",
   "execution_count": 10,
   "id": "784fdf52-e1a0-408f-b6f6-b2038f942c2f",
   "metadata": {},
   "outputs": [
    {
     "data": {
      "text/plain": [
       "(39.48694856232724, 51.88307699018729)"
      ]
     },
     "execution_count": 10,
     "metadata": {},
     "output_type": "execute_result"
    }
   ],
   "source": [
    "sample.mean()-1.96*np.sqrt(10), sample.mean()+1.96*np.sqrt(10)"
   ]
  },
  {
   "cell_type": "code",
   "execution_count": 11,
   "id": "6d2f3356-58bf-4e67-aa6c-40ee4164cfa7",
   "metadata": {},
   "outputs": [
    {
     "data": {
      "text/plain": [
       "(39.48694856232724, 51.88307699018729)"
      ]
     },
     "execution_count": 11,
     "metadata": {},
     "output_type": "execute_result"
    }
   ],
   "source": [
    "lw = sample.mean()-1.96*np.sqrt(10)\n",
    "up = sample.mean()+1.96*np.sqrt(10)\n",
    "\n",
    "lw,up"
   ]
  },
  {
   "cell_type": "code",
   "execution_count": 12,
   "id": "2bbf2577-629c-4e4f-8481-2c6d96917178",
   "metadata": {},
   "outputs": [
    {
     "data": {
      "text/plain": [
       "1"
      ]
     },
     "execution_count": 12,
     "metadata": {},
     "output_type": "execute_result"
    }
   ],
   "source": [
    "True*True"
   ]
  },
  {
   "cell_type": "code",
   "execution_count": 13,
   "id": "2d971d56-21aa-47f6-b516-f4fe1b536ac1",
   "metadata": {},
   "outputs": [],
   "source": [
    "result = []\n",
    "for i in range(10000):\n",
    "    sample = sp.stats.norm.rvs(loc=50,scale=10,size=10)\n",
    "    lw = sample.mean()-1.96*np.sqrt(10)\n",
    "    up = sample.mean()+1.96*np.sqrt(10)\n",
    "    result.append((lw<50)*(50<up))"
   ]
  },
  {
   "cell_type": "code",
   "execution_count": 14,
   "id": "6fc182a1-b614-4139-8445-0e88a45331ef",
   "metadata": {},
   "outputs": [
    {
     "data": {
      "text/plain": [
       "0.9519"
      ]
     },
     "execution_count": 14,
     "metadata": {},
     "output_type": "execute_result"
    }
   ],
   "source": [
    "np.mean(result)"
   ]
  },
  {
   "cell_type": "code",
   "execution_count": 15,
   "id": "05ee7415-e540-4c50-b8bf-7508a5e5111a",
   "metadata": {},
   "outputs": [],
   "source": [
    "#母平均の区間推定\n",
    "weight = np.array([12,13,12,17,10,14,18,9,12])"
   ]
  },
  {
   "cell_type": "code",
   "execution_count": 35,
   "id": "03693a0f-1c7f-474b-a8e0-a552617bcbab",
   "metadata": {},
   "outputs": [
    {
     "data": {
      "text/plain": [
       "(13.0, 2.958039891549808)"
      ]
     },
     "execution_count": 35,
     "metadata": {},
     "output_type": "execute_result"
    }
   ],
   "source": [
    "weight.mean(), weight.std(ddof=1),"
   ]
  },
  {
   "cell_type": "code",
   "execution_count": 17,
   "id": "db7fec39-18fb-4c36-8638-5a38b1a4445e",
   "metadata": {},
   "outputs": [],
   "source": [
    "xbar = weight.mean()\n",
    "s = weight.std(ddof=1)\n",
    "n = len(weight)"
   ]
  },
  {
   "cell_type": "code",
   "execution_count": 18,
   "id": "b7c9abd8-929f-4f0d-a605-1f86af7d6a9d",
   "metadata": {},
   "outputs": [
    {
     "data": {
      "text/plain": [
       "1.959963984540054"
      ]
     },
     "execution_count": 18,
     "metadata": {},
     "output_type": "execute_result"
    }
   ],
   "source": [
    "sp.stats.norm.ppf(q=0.975,loc=0,scale=1)"
   ]
  },
  {
   "cell_type": "code",
   "execution_count": 19,
   "id": "ce8d3a88-38a2-4a88-b616-ab0e995141f2",
   "metadata": {},
   "outputs": [
    {
     "data": {
      "text/plain": [
       "2.3060041350333704"
      ]
     },
     "execution_count": 19,
     "metadata": {},
     "output_type": "execute_result"
    }
   ],
   "source": [
    "sp.stats.t.ppf(q=0.975, df=n-1)"
   ]
  },
  {
   "cell_type": "code",
   "execution_count": 20,
   "id": "3272daf3-0676-438e-95ea-505130e91fc8",
   "metadata": {},
   "outputs": [
    {
     "data": {
      "text/plain": [
       "(11.067413937520792, 14.932586062479208)"
      ]
     },
     "execution_count": 20,
     "metadata": {},
     "output_type": "execute_result"
    }
   ],
   "source": [
    "xbar - 1.96*s/np.sqrt(n),xbar + 1.96*s/np.sqrt(n)"
   ]
  },
  {
   "cell_type": "code",
   "execution_count": 21,
   "id": "c29e12a8-238c-49bc-b54a-533684080d73",
   "metadata": {},
   "outputs": [
    {
     "data": {
      "text/plain": [
       "(10.726249259497493, 15.273750740502507)"
      ]
     },
     "execution_count": 21,
     "metadata": {},
     "output_type": "execute_result"
    }
   ],
   "source": [
    "xbar - sp.stats.t.ppf(q=0.975, df=n-1)*s/np.sqrt(n),xbar + sp.stats.t.ppf(q=0.975, df=n-1)*s/np.sqrt(n)"
   ]
  },
  {
   "cell_type": "code",
   "execution_count": null,
   "id": "ad4ae73b-670d-402a-b67c-7b24c5849096",
   "metadata": {},
   "outputs": [],
   "source": []
  },
  {
   "cell_type": "code",
   "execution_count": 22,
   "id": "100d7857-cd4f-42ed-af43-23b8bda2af4f",
   "metadata": {},
   "outputs": [
    {
     "data": {
      "text/html": [
       "<div>\n",
       "<style scoped>\n",
       "    .dataframe tbody tr th:only-of-type {\n",
       "        vertical-align: middle;\n",
       "    }\n",
       "\n",
       "    .dataframe tbody tr th {\n",
       "        vertical-align: top;\n",
       "    }\n",
       "\n",
       "    .dataframe thead th {\n",
       "        text-align: right;\n",
       "    }\n",
       "</style>\n",
       "<table border=\"1\" class=\"dataframe\">\n",
       "  <thead>\n",
       "    <tr style=\"text-align: right;\">\n",
       "      <th></th>\n",
       "      <th>A</th>\n",
       "      <th>B</th>\n",
       "    </tr>\n",
       "  </thead>\n",
       "  <tbody>\n",
       "    <tr>\n",
       "      <th>0</th>\n",
       "      <td>10.1</td>\n",
       "      <td>5.2</td>\n",
       "    </tr>\n",
       "    <tr>\n",
       "      <th>1</th>\n",
       "      <td>11.2</td>\n",
       "      <td>4.5</td>\n",
       "    </tr>\n",
       "    <tr>\n",
       "      <th>2</th>\n",
       "      <td>12.5</td>\n",
       "      <td>10.3</td>\n",
       "    </tr>\n",
       "    <tr>\n",
       "      <th>3</th>\n",
       "      <td>10.2</td>\n",
       "      <td>11.1</td>\n",
       "    </tr>\n",
       "    <tr>\n",
       "      <th>4</th>\n",
       "      <td>5.1</td>\n",
       "      <td>7.2</td>\n",
       "    </tr>\n",
       "    <tr>\n",
       "      <th>5</th>\n",
       "      <td>6.7</td>\n",
       "      <td>9.8</td>\n",
       "    </tr>\n",
       "    <tr>\n",
       "      <th>6</th>\n",
       "      <td>8.1</td>\n",
       "      <td>6.5</td>\n",
       "    </tr>\n",
       "    <tr>\n",
       "      <th>7</th>\n",
       "      <td>9.9</td>\n",
       "      <td>4.5</td>\n",
       "    </tr>\n",
       "    <tr>\n",
       "      <th>8</th>\n",
       "      <td>10.3</td>\n",
       "      <td>6.8</td>\n",
       "    </tr>\n",
       "    <tr>\n",
       "      <th>9</th>\n",
       "      <td>11.4</td>\n",
       "      <td>5.4</td>\n",
       "    </tr>\n",
       "  </tbody>\n",
       "</table>\n",
       "</div>"
      ],
      "text/plain": [
       "      A     B\n",
       "0  10.1   5.2\n",
       "1  11.2   4.5\n",
       "2  12.5  10.3\n",
       "3  10.2  11.1\n",
       "4   5.1   7.2\n",
       "5   6.7   9.8\n",
       "6   8.1   6.5\n",
       "7   9.9   4.5\n",
       "8  10.3   6.8\n",
       "9  11.4   5.4"
      ]
     },
     "execution_count": 22,
     "metadata": {},
     "output_type": "execute_result"
    }
   ],
   "source": [
    "import pandas as pd\n",
    "drink = pd.read_csv(\"./data/drink_t.csv\", encoding=\"cp932\")\n",
    "drink"
   ]
  },
  {
   "cell_type": "code",
   "execution_count": 23,
   "id": "2a71942c",
   "metadata": {},
   "outputs": [],
   "source": [
    "A = drink['A'].values\n",
    "B = drink['B'].values"
   ]
  },
  {
   "cell_type": "code",
   "execution_count": 24,
   "id": "b5f95fd9",
   "metadata": {},
   "outputs": [
    {
     "data": {
      "text/plain": [
       "2.420000000000001"
      ]
     },
     "execution_count": 24,
     "metadata": {},
     "output_type": "execute_result"
    }
   ],
   "source": [
    "A.mean()-B.mean()"
   ]
  },
  {
   "cell_type": "code",
   "execution_count": 25,
   "id": "0f370b7c-8c10-48b9-a9fb-4533e041fc6f",
   "metadata": {},
   "outputs": [],
   "source": [
    "import pingouin as pg"
   ]
  },
  {
   "cell_type": "code",
   "execution_count": 26,
   "id": "3ef6bb78-5920-4dd3-885f-b878c5a0f658",
   "metadata": {
    "scrolled": true
   },
   "outputs": [
    {
     "data": {
      "text/html": [
       "<div>\n",
       "<style scoped>\n",
       "    .dataframe tbody tr th:only-of-type {\n",
       "        vertical-align: middle;\n",
       "    }\n",
       "\n",
       "    .dataframe tbody tr th {\n",
       "        vertical-align: top;\n",
       "    }\n",
       "\n",
       "    .dataframe thead th {\n",
       "        text-align: right;\n",
       "    }\n",
       "</style>\n",
       "<table border=\"1\" class=\"dataframe\">\n",
       "  <thead>\n",
       "    <tr style=\"text-align: right;\">\n",
       "      <th></th>\n",
       "      <th>T</th>\n",
       "      <th>dof</th>\n",
       "      <th>alternative</th>\n",
       "      <th>p-val</th>\n",
       "      <th>CI95%</th>\n",
       "      <th>cohen-d</th>\n",
       "      <th>BF10</th>\n",
       "      <th>power</th>\n",
       "    </tr>\n",
       "  </thead>\n",
       "  <tbody>\n",
       "    <tr>\n",
       "      <th>T-test</th>\n",
       "      <td>2.292538</td>\n",
       "      <td>17.894071</td>\n",
       "      <td>two-sided</td>\n",
       "      <td>0.034216</td>\n",
       "      <td>[0.2, 4.64]</td>\n",
       "      <td>1.025254</td>\n",
       "      <td>2.192</td>\n",
       "      <td>0.582919</td>\n",
       "    </tr>\n",
       "  </tbody>\n",
       "</table>\n",
       "</div>"
      ],
      "text/plain": [
       "               T        dof alternative     p-val        CI95%   cohen-d  \\\n",
       "T-test  2.292538  17.894071   two-sided  0.034216  [0.2, 4.64]  1.025254   \n",
       "\n",
       "         BF10     power  \n",
       "T-test  2.192  0.582919  "
      ]
     },
     "execution_count": 26,
     "metadata": {},
     "output_type": "execute_result"
    }
   ],
   "source": [
    "#CI95% が95信頼区間\n",
    "#correction=True 等分散仮説なし\n",
    "pg.ttest(x=A,y=B,correction=True)"
   ]
  },
  {
   "cell_type": "code",
   "execution_count": 39,
   "id": "7eea5a2b",
   "metadata": {},
   "outputs": [
    {
     "data": {
      "text/plain": [
       "0.20129131832953506"
      ]
     },
     "execution_count": 39,
     "metadata": {},
     "output_type": "execute_result"
    }
   ],
   "source": [
    "# CI95%\n",
    "A.mean()-B.mean() + sp.stats.t.ppf(q=0.975,df=17.89)*np.sqrt(A.var(ddof=1)/10+B.var(ddof=1)/10)\n",
    "# CI95%\n",
    "A.mean()-B.mean() - sp.stats.t.ppf(q=0.975,df=17.89)*np.sqrt(A.var(ddof=1)/10+B.var(ddof=1)/10)"
   ]
  },
  {
   "cell_type": "code",
   "execution_count": 27,
   "id": "e5789e55-7f20-4251-a669-f116e32999c2",
   "metadata": {},
   "outputs": [
    {
     "data": {
      "text/html": [
       "<div>\n",
       "<style scoped>\n",
       "    .dataframe tbody tr th:only-of-type {\n",
       "        vertical-align: middle;\n",
       "    }\n",
       "\n",
       "    .dataframe tbody tr th {\n",
       "        vertical-align: top;\n",
       "    }\n",
       "\n",
       "    .dataframe thead th {\n",
       "        text-align: right;\n",
       "    }\n",
       "</style>\n",
       "<table border=\"1\" class=\"dataframe\">\n",
       "  <thead>\n",
       "    <tr style=\"text-align: right;\">\n",
       "      <th></th>\n",
       "      <th>day</th>\n",
       "      <th>price</th>\n",
       "    </tr>\n",
       "  </thead>\n",
       "  <tbody>\n",
       "    <tr>\n",
       "      <th>0</th>\n",
       "      <td>1</td>\n",
       "      <td>190</td>\n",
       "    </tr>\n",
       "    <tr>\n",
       "      <th>1</th>\n",
       "      <td>2</td>\n",
       "      <td>200</td>\n",
       "    </tr>\n",
       "    <tr>\n",
       "      <th>2</th>\n",
       "      <td>3</td>\n",
       "      <td>230</td>\n",
       "    </tr>\n",
       "    <tr>\n",
       "      <th>3</th>\n",
       "      <td>4</td>\n",
       "      <td>200</td>\n",
       "    </tr>\n",
       "    <tr>\n",
       "      <th>4</th>\n",
       "      <td>5</td>\n",
       "      <td>230</td>\n",
       "    </tr>\n",
       "    <tr>\n",
       "      <th>5</th>\n",
       "      <td>6</td>\n",
       "      <td>250</td>\n",
       "    </tr>\n",
       "    <tr>\n",
       "      <th>6</th>\n",
       "      <td>7</td>\n",
       "      <td>220</td>\n",
       "    </tr>\n",
       "    <tr>\n",
       "      <th>7</th>\n",
       "      <td>8</td>\n",
       "      <td>190</td>\n",
       "    </tr>\n",
       "    <tr>\n",
       "      <th>8</th>\n",
       "      <td>9</td>\n",
       "      <td>200</td>\n",
       "    </tr>\n",
       "    <tr>\n",
       "      <th>9</th>\n",
       "      <td>10</td>\n",
       "      <td>210</td>\n",
       "    </tr>\n",
       "  </tbody>\n",
       "</table>\n",
       "</div>"
      ],
      "text/plain": [
       "   day  price\n",
       "0    1    190\n",
       "1    2    200\n",
       "2    3    230\n",
       "3    4    200\n",
       "4    5    230\n",
       "5    6    250\n",
       "6    7    220\n",
       "7    8    190\n",
       "8    9    200\n",
       "9   10    210"
      ]
     },
     "execution_count": 27,
     "metadata": {},
     "output_type": "execute_result"
    }
   ],
   "source": [
    "stock = pd.read_csv('./data/price.csv')\n",
    "stock"
   ]
  },
  {
   "cell_type": "code",
   "execution_count": 29,
   "id": "8dda2ef2",
   "metadata": {},
   "outputs": [
    {
     "data": {
      "text/plain": [
       "(212.0, 395.55555555555554, 19.888578520235065)"
      ]
     },
     "execution_count": 29,
     "metadata": {},
     "output_type": "execute_result"
    }
   ],
   "source": [
    "price = stock['price']\n",
    "price.mean(),price.var(ddof=1),price.std(ddof=1)\n",
    "#標本分散 395 標本偏差19"
   ]
  },
  {
   "cell_type": "code",
   "execution_count": 30,
   "id": "d6661107-4f3f-4c58-8186-0f2c4169d168",
   "metadata": {},
   "outputs": [],
   "source": [
    "s2 = price.var(ddof=1)\n",
    "n = len(price)"
   ]
  },
  {
   "cell_type": "code",
   "execution_count": 31,
   "id": "00c58f95-445e-4bc6-a906-796f8696eeb5",
   "metadata": {
    "scrolled": true
   },
   "outputs": [
    {
     "data": {
      "text/plain": [
       "(2.7003894999803584, 19.02276779864163)"
      ]
     },
     "execution_count": 31,
     "metadata": {},
     "output_type": "execute_result"
    }
   ],
   "source": [
    "sp.stats.chi2.ppf(q=0.025,df=n-1),sp.stats.chi2.ppf(q=0.975,df=n-1)"
   ]
  },
  {
   "cell_type": "code",
   "execution_count": 33,
   "id": "b63612d6-bfab-47e8-a9d5-042035cd05a9",
   "metadata": {},
   "outputs": [
    {
     "data": {
      "text/plain": [
       "(187.14416522784927, 1318.3283374586867)"
      ]
     },
     "execution_count": 33,
     "metadata": {},
     "output_type": "execute_result"
    }
   ],
   "source": [
    "#95%　母分散\n",
    "(n-1)*s2/sp.stats.chi2.ppf(q=0.975,df=n-1),(n-1)*s2/sp.stats.chi2.ppf(q=0.025,df=n-1)"
   ]
  },
  {
   "cell_type": "code",
   "execution_count": 34,
   "id": "52d707a7-2fd9-40b6-b38d-b561f06a825d",
   "metadata": {},
   "outputs": [
    {
     "data": {
      "text/plain": [
       "(13.6800645184096, 36.30879146238121)"
      ]
     },
     "execution_count": 34,
     "metadata": {},
     "output_type": "execute_result"
    }
   ],
   "source": [
    "#95 標準偏差\n",
    "np.sqrt((n-1)*s2/sp.stats.chi2.ppf(q=0.975,df=n-1)),np.sqrt((n-1)*s2/sp.stats.chi2.ppf(q=0.025,df=n-1))"
   ]
  },
  {
   "cell_type": "code",
   "execution_count": 41,
   "id": "8d316d2b-adc8-4e86-8caa-fed97d2241c4",
   "metadata": {},
   "outputs": [],
   "source": [
    "#母比率\n",
    "n = 1000\n",
    "p = 100/n"
   ]
  },
  {
   "cell_type": "code",
   "execution_count": 42,
   "id": "7df6e586-68e5-4114-bc60-2df3783248ba",
   "metadata": {},
   "outputs": [
    {
     "data": {
      "text/plain": [
       "(0.08140580735820993, 0.11859419264179008)"
      ]
     },
     "execution_count": 42,
     "metadata": {},
     "output_type": "execute_result"
    }
   ],
   "source": [
    "p - 1.96*np.sqrt(p*(1-p)/n),p + 1.96*np.sqrt(p*(1-p)/n)"
   ]
  },
  {
   "cell_type": "code",
   "execution_count": null,
   "id": "579200c5-f261-4f05-afe3-dbf26d314ce0",
   "metadata": {},
   "outputs": [],
   "source": []
  },
  {
   "cell_type": "code",
   "execution_count": 50,
   "id": "82c1ce06-83ea-4be0-a909-b401d3091bc9",
   "metadata": {},
   "outputs": [],
   "source": [
    "#母平均の検定\n",
    "\n",
    "xbar = 139.5\n",
    "s = 20\n",
    "n = 100\n",
    "\n",
    "mu0 = 135"
   ]
  },
  {
   "cell_type": "code",
   "execution_count": 52,
   "id": "9c73a2b4",
   "metadata": {},
   "outputs": [
    {
     "data": {
      "text/plain": [
       "2.25"
      ]
     },
     "execution_count": 52,
     "metadata": {},
     "output_type": "execute_result"
    }
   ],
   "source": [
    "t = (xbar - mu0)/(s/np.sqrt(n))\n",
    "t"
   ]
  },
  {
   "cell_type": "code",
   "execution_count": 53,
   "id": "6eb8aa6c",
   "metadata": {},
   "outputs": [
    {
     "data": {
      "text/plain": [
       "0.013331186128795025"
      ]
     },
     "execution_count": 53,
     "metadata": {},
     "output_type": "execute_result"
    }
   ],
   "source": [
    "#p-value\n",
    "1-sp.stats.t.cdf(x=t,df=n-1)"
   ]
  },
  {
   "cell_type": "code",
   "execution_count": 54,
   "id": "bcb17709",
   "metadata": {},
   "outputs": [
    {
     "data": {
      "text/plain": [
       "1.6603911559963895"
      ]
     },
     "execution_count": 54,
     "metadata": {},
     "output_type": "execute_result"
    }
   ],
   "source": [
    "sp.stats.t.ppf(q=0.95, df=n-1)"
   ]
  },
  {
   "cell_type": "code",
   "execution_count": 59,
   "id": "71a77f77",
   "metadata": {
    "collapsed": true
   },
   "outputs": [
    {
     "name": "stdout",
     "output_type": "stream",
     "text": [
      "1 6.313751514800932\n",
      "2 2.919985580355516\n",
      "3 2.3533634348018264\n",
      "4 2.13184678133629\n",
      "5 2.015048372669157\n",
      "6 1.9431802803927816\n",
      "7 1.894578605061305\n",
      "8 1.8595480375228424\n",
      "9 1.8331129326536335\n",
      "10 1.8124611228107335\n",
      "11 1.7958848187036691\n",
      "12 1.782287555649159\n",
      "13 1.7709333959867988\n",
      "14 1.7613101357748562\n",
      "15 1.7530503556925547\n",
      "16 1.74588367627624\n",
      "17 1.7396067260750672\n",
      "18 1.7340636066175354\n",
      "19 1.729132811521367\n",
      "20 1.7247182429207857\n",
      "21 1.7207429028118775\n",
      "22 1.717144374380242\n",
      "23 1.7138715277470473\n",
      "24 1.7108820799094275\n",
      "25 1.7081407612518986\n",
      "26 1.7056179197592727\n",
      "27 1.7032884457221265\n",
      "28 1.701130934265931\n",
      "29 1.6991270265334972\n",
      "30 1.6972608943617378\n",
      "31 1.6955187891366663\n",
      "32 1.6938887423906548\n",
      "33 1.6923603038977453\n",
      "34 1.6909242507706543\n",
      "35 1.6895724539637709\n",
      "36 1.6882977108049164\n",
      "37 1.6870936167109873\n",
      "38 1.685954457643814\n",
      "39 1.6848751194973992\n",
      "40 1.68385101138658\n",
      "41 1.6828780004112913\n",
      "42 1.6819523559426\n",
      "43 1.681070701847763\n",
      "44 1.6802299753652514\n",
      "45 1.6794273915744247\n",
      "46 1.67866041259169\n",
      "47 1.67792672077558\n",
      "48 1.6772241953450393\n",
      "49 1.6765508919142629\n",
      "50 1.6759050245283311\n",
      "51 1.6752849498502618\n",
      "52 1.6746891532047905\n",
      "53 1.6741162362294313\n",
      "54 1.6735649059209428\n",
      "55 1.6730339648966592\n",
      "56 1.6725223027163505\n",
      "57 1.6720288881322787\n",
      "58 1.671552762153672\n",
      "59 1.6710930318274826\n",
      "60 1.6706488646505926\n",
      "61 1.670219483539925\n",
      "62 1.669804162296528\n",
      "63 1.6694022215079607\n",
      "64 1.669013024840352\n",
      "65 1.6686359756775713\n",
      "66 1.6682705140701908\n",
      "67 1.667916113961428\n",
      "68 1.6675722806611726\n",
      "69 1.6672385485425922\n",
      "70 1.6669144789387698\n",
      "71 1.666599658219398\n",
      "72 1.6662936960297958\n",
      "73 1.665996223676495\n",
      "74 1.6657068926453513\n",
      "75 1.6654253732396658\n",
      "76 1.6651513533271265\n",
      "77 1.6648845371855607\n",
      "78 1.6646246444385238\n",
      "79 1.6643714090726742\n",
      "80 1.6641245785296965\n",
      "81 1.6638839128662524\n",
      "82 1.6636491839760918\n",
      "83 1.663420174869025\n",
      "84 1.6631966790019561\n",
      "85 1.6629784996576567\n",
      "86 1.6627654493673436\n",
      "87 1.6625573493735006\n",
      "88 1.6623540291297123\n",
      "89 1.662155325834565\n",
      "90 1.6619610839969403\n",
      "91 1.6617711550302645\n",
      "92 1.6615853968734788\n",
      "93 1.661403673636714\n",
      "94 1.6612258552697985\n",
      "95 1.6610518172519086\n",
      "96 1.6608814403008005\n",
      "97 1.6607146101002037\n",
      "98 1.6605512170440568\n",
      "99 1.6603911559963895\n",
      "100 1.66023432606575\n"
     ]
    }
   ],
   "source": [
    "for n in range(100):\n",
    "    print(n+1,sp.stats.t.ppf(q=0.95, df=n+1)) "
   ]
  },
  {
   "cell_type": "code",
   "execution_count": 62,
   "id": "a32300f2",
   "metadata": {},
   "outputs": [],
   "source": [
    "#母平均の差の検定\n",
    "d = pd.read_csv('./data/tokyo_osaka_salary.csv',encoding='cp932', skiprows=1)"
   ]
  },
  {
   "cell_type": "code",
   "execution_count": 63,
   "id": "9749ca51",
   "metadata": {},
   "outputs": [
    {
     "data": {
      "image/png": "[encoded data removed]",
      "text/plain": [
       "<Figure size 640x480 with 1 Axes>"
      ]
     },
     "metadata": {},
     "output_type": "display_data"
    }
   ],
   "source": [
    "import seaborn as sns\n",
    "import matplotlib.pyplot as plt\n",
    "sns.violinplot(x='place', y='salary', data=d)\n",
    "plt.show()"
   ]
  },
  {
   "cell_type": "code",
   "execution_count": 65,
   "id": "1a223038",
   "metadata": {},
   "outputs": [
    {
     "data": {
      "text/html": [
       "<div>\n",
       "<style scoped>\n",
       "    .dataframe tbody tr th:only-of-type {\n",
       "        vertical-align: middle;\n",
       "    }\n",
       "\n",
       "    .dataframe tbody tr th {\n",
       "        vertical-align: top;\n",
       "    }\n",
       "\n",
       "    .dataframe thead th {\n",
       "        text-align: right;\n",
       "    }\n",
       "</style>\n",
       "<table border=\"1\" class=\"dataframe\">\n",
       "  <thead>\n",
       "    <tr style=\"text-align: right;\">\n",
       "      <th></th>\n",
       "      <th>number</th>\n",
       "      <th>salary</th>\n",
       "    </tr>\n",
       "    <tr>\n",
       "      <th>place</th>\n",
       "      <th></th>\n",
       "      <th></th>\n",
       "    </tr>\n",
       "  </thead>\n",
       "  <tbody>\n",
       "    <tr>\n",
       "      <th>Osaka</th>\n",
       "      <td>80.0</td>\n",
       "      <td>451.504444</td>\n",
       "    </tr>\n",
       "    <tr>\n",
       "      <th>Tokyo</th>\n",
       "      <td>29.0</td>\n",
       "      <td>567.307018</td>\n",
       "    </tr>\n",
       "  </tbody>\n",
       "</table>\n",
       "</div>"
      ],
      "text/plain": [
       "       number      salary\n",
       "place                    \n",
       "Osaka    80.0  451.504444\n",
       "Tokyo    29.0  567.307018"
      ]
     },
     "execution_count": 65,
     "metadata": {},
     "output_type": "execute_result"
    }
   ],
   "source": [
    "d.groupby(['place']).mean()"
   ]
  },
  {
   "cell_type": "code",
   "execution_count": 68,
   "id": "b359e794",
   "metadata": {},
   "outputs": [],
   "source": [
    "tokyo = d.salary[d.place=='Tokyo']\n",
    "osaka = d.salary[d.place=='Osaka']"
   ]
  },
  {
   "cell_type": "code",
   "execution_count": 69,
   "id": "4e47a1be",
   "metadata": {},
   "outputs": [
    {
     "data": {
      "text/html": [
       "<div>\n",
       "<style scoped>\n",
       "    .dataframe tbody tr th:only-of-type {\n",
       "        vertical-align: middle;\n",
       "    }\n",
       "\n",
       "    .dataframe tbody tr th {\n",
       "        vertical-align: top;\n",
       "    }\n",
       "\n",
       "    .dataframe thead th {\n",
       "        text-align: right;\n",
       "    }\n",
       "</style>\n",
       "<table border=\"1\" class=\"dataframe\">\n",
       "  <thead>\n",
       "    <tr style=\"text-align: right;\">\n",
       "      <th></th>\n",
       "      <th>T</th>\n",
       "      <th>dof</th>\n",
       "      <th>alternative</th>\n",
       "      <th>p-val</th>\n",
       "      <th>CI95%</th>\n",
       "      <th>cohen-d</th>\n",
       "      <th>BF10</th>\n",
       "      <th>power</th>\n",
       "    </tr>\n",
       "  </thead>\n",
       "  <tbody>\n",
       "    <tr>\n",
       "      <th>T-test</th>\n",
       "      <td>5.391759</td>\n",
       "      <td>98.120125</td>\n",
       "      <td>two-sided</td>\n",
       "      <td>4.817719e-07</td>\n",
       "      <td>[73.18, 158.42]</td>\n",
       "      <td>1.06244</td>\n",
       "      <td>2.809e+04</td>\n",
       "      <td>0.999544</td>\n",
       "    </tr>\n",
       "  </tbody>\n",
       "</table>\n",
       "</div>"
      ],
      "text/plain": [
       "               T        dof alternative         p-val            CI95%  \\\n",
       "T-test  5.391759  98.120125   two-sided  4.817719e-07  [73.18, 158.42]   \n",
       "\n",
       "        cohen-d       BF10     power  \n",
       "T-test  1.06244  2.809e+04  0.999544  "
      ]
     },
     "execution_count": 69,
     "metadata": {},
     "output_type": "execute_result"
    }
   ],
   "source": [
    "pg.ttest(x=tokyo, y=osaka, correction=True)"
   ]
  },
  {
   "cell_type": "code",
   "execution_count": 70,
   "id": "db6a6067",
   "metadata": {
    "scrolled": true
   },
   "outputs": [
    {
     "data": {
      "text/html": [
       "<div>\n",
       "<style scoped>\n",
       "    .dataframe tbody tr th:only-of-type {\n",
       "        vertical-align: middle;\n",
       "    }\n",
       "\n",
       "    .dataframe tbody tr th {\n",
       "        vertical-align: top;\n",
       "    }\n",
       "\n",
       "    .dataframe thead th {\n",
       "        text-align: right;\n",
       "    }\n",
       "</style>\n",
       "<table border=\"1\" class=\"dataframe\">\n",
       "  <thead>\n",
       "    <tr style=\"text-align: right;\">\n",
       "      <th></th>\n",
       "      <th>T</th>\n",
       "      <th>dof</th>\n",
       "      <th>alternative</th>\n",
       "      <th>p-val</th>\n",
       "      <th>CI95%</th>\n",
       "      <th>cohen-d</th>\n",
       "      <th>BF10</th>\n",
       "      <th>power</th>\n",
       "    </tr>\n",
       "  </thead>\n",
       "  <tbody>\n",
       "    <tr>\n",
       "      <th>T-test</th>\n",
       "      <td>4.47098</td>\n",
       "      <td>56</td>\n",
       "      <td>greater</td>\n",
       "      <td>0.000019</td>\n",
       "      <td>[542.13, inf]</td>\n",
       "      <td>0.592196</td>\n",
       "      <td>1064.728</td>\n",
       "      <td>0.997208</td>\n",
       "    </tr>\n",
       "  </tbody>\n",
       "</table>\n",
       "</div>"
      ],
      "text/plain": [
       "              T  dof alternative     p-val          CI95%   cohen-d      BF10  \\\n",
       "T-test  4.47098   56     greater  0.000019  [542.13, inf]  0.592196  1064.728   \n",
       "\n",
       "           power  \n",
       "T-test  0.997208  "
      ]
     },
     "execution_count": 70,
     "metadata": {},
     "output_type": "execute_result"
    }
   ],
   "source": [
    "#tokyoの母平均が500より高いかの検定\n",
    "pg.ttest(x=tokyo, y=500, alternative='greater',correction=True)"
   ]
  },
  {
   "cell_type": "code",
   "execution_count": 73,
   "id": "a04d17ea",
   "metadata": {},
   "outputs": [
    {
     "data": {
      "text/plain": [
       "(39.42857142857143,\n",
       " 2.7428022661917792e-09,\n",
       " 2,\n",
       " array([[40., 35., 25.],\n",
       "        [40., 35., 25.]]))"
      ]
     },
     "execution_count": 73,
     "metadata": {},
     "output_type": "execute_result"
    }
   ],
   "source": [
    "cross = np.array([[60,30,10],[20,40,40]])\n",
    "sp.stats.chi2_contingency(cross)\n"
   ]
  },
  {
   "cell_type": "code",
   "execution_count": null,
   "id": "1a257c1a",
   "metadata": {},
   "outputs": [],
   "source": []
  }
 ],
 "metadata": {
  "kernelspec": {
   "display_name": "Python 3 (ipykernel)",
   "language": "python",
   "name": "python3"
  },
  "language_info": {
   "codemirror_mode": {
    "name": "ipython",
    "version": 3
   },
   "file_extension": ".py",
   "mimetype": "text/x-python",
   "name": "python",
   "nbconvert_exporter": "python",
   "pygments_lexer": "ipython3",
   "version": "3.9.13"
  }
 },
 "nbformat": 4,
 "nbformat_minor": 5
}
