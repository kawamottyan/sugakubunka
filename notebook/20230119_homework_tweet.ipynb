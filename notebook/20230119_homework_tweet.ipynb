{
 "cells": [
  {
   "cell_type": "markdown",
   "id": "a1d5d567",
   "metadata": {},
   "source": [
    "# 問題"
   ]
  },
  {
   "cell_type": "markdown",
   "id": "271f9a87",
   "metadata": {},
   "source": [
    "1. *seabornパッケージ*を用いて**n_charとlikeのヒストグラム散布図**を書いてください。（ただしimageごとに色を分けてください）\n",
    "\n",
    "2. *sklearn.linear_model.PoissonRegression*はintercept_とcoef_を出力できる。これを用いて、*likeの期待値＝imageとn-charの式*　を答えてください。\n",
    "\n",
    "3. *statsmodels*パッケージで**②と同様の計算**をしてください\n",
    "\n",
    "4. image=1, n_char=115のツイートのいいね数の95%予測区間を作ってください"
   ]
  },
  {
   "cell_type": "code",
   "execution_count": 1,
   "id": "7bdb9844",
   "metadata": {},
   "outputs": [],
   "source": [
    "#ライブラリの取得\n",
    "import numpy as np\n",
    "import pandas as pd\n",
    "import seaborn as sns\n",
    "import matplotlib.pyplot as plt\n",
    "from sklearn.linear_model import PoissonRegressor\n",
    "\n",
    "import statsmodels.formula.api as smf\n",
    "import statsmodels.api as sm\n",
    "\n",
    "import math"
   ]
  },
  {
   "cell_type": "code",
   "execution_count": 2,
   "id": "c9252b9e",
   "metadata": {},
   "outputs": [
    {
     "data": {
      "text/html": [
       "<div>\n",
       "<style scoped>\n",
       "    .dataframe tbody tr th:only-of-type {\n",
       "        vertical-align: middle;\n",
       "    }\n",
       "\n",
       "    .dataframe tbody tr th {\n",
       "        vertical-align: top;\n",
       "    }\n",
       "\n",
       "    .dataframe thead th {\n",
       "        text-align: right;\n",
       "    }\n",
       "</style>\n",
       "<table border=\"1\" class=\"dataframe\">\n",
       "  <thead>\n",
       "    <tr style=\"text-align: right;\">\n",
       "      <th></th>\n",
       "      <th>id</th>\n",
       "      <th>image</th>\n",
       "      <th>n_char</th>\n",
       "      <th>like</th>\n",
       "    </tr>\n",
       "  </thead>\n",
       "  <tbody>\n",
       "    <tr>\n",
       "      <th>0</th>\n",
       "      <td>1</td>\n",
       "      <td>0</td>\n",
       "      <td>100</td>\n",
       "      <td>0</td>\n",
       "    </tr>\n",
       "    <tr>\n",
       "      <th>1</th>\n",
       "      <td>2</td>\n",
       "      <td>0</td>\n",
       "      <td>110</td>\n",
       "      <td>0</td>\n",
       "    </tr>\n",
       "    <tr>\n",
       "      <th>2</th>\n",
       "      <td>3</td>\n",
       "      <td>0</td>\n",
       "      <td>120</td>\n",
       "      <td>2</td>\n",
       "    </tr>\n",
       "    <tr>\n",
       "      <th>3</th>\n",
       "      <td>4</td>\n",
       "      <td>0</td>\n",
       "      <td>130</td>\n",
       "      <td>1</td>\n",
       "    </tr>\n",
       "    <tr>\n",
       "      <th>4</th>\n",
       "      <td>5</td>\n",
       "      <td>0</td>\n",
       "      <td>140</td>\n",
       "      <td>3</td>\n",
       "    </tr>\n",
       "    <tr>\n",
       "      <th>5</th>\n",
       "      <td>6</td>\n",
       "      <td>1</td>\n",
       "      <td>100</td>\n",
       "      <td>0</td>\n",
       "    </tr>\n",
       "    <tr>\n",
       "      <th>6</th>\n",
       "      <td>7</td>\n",
       "      <td>1</td>\n",
       "      <td>110</td>\n",
       "      <td>3</td>\n",
       "    </tr>\n",
       "    <tr>\n",
       "      <th>7</th>\n",
       "      <td>8</td>\n",
       "      <td>1</td>\n",
       "      <td>120</td>\n",
       "      <td>2</td>\n",
       "    </tr>\n",
       "    <tr>\n",
       "      <th>8</th>\n",
       "      <td>9</td>\n",
       "      <td>1</td>\n",
       "      <td>130</td>\n",
       "      <td>4</td>\n",
       "    </tr>\n",
       "    <tr>\n",
       "      <th>9</th>\n",
       "      <td>10</td>\n",
       "      <td>1</td>\n",
       "      <td>140</td>\n",
       "      <td>3</td>\n",
       "    </tr>\n",
       "  </tbody>\n",
       "</table>\n",
       "</div>"
      ],
      "text/plain": [
       "   id  image  n_char  like\n",
       "0   1      0     100     0\n",
       "1   2      0     110     0\n",
       "2   3      0     120     2\n",
       "3   4      0     130     1\n",
       "4   5      0     140     3\n",
       "5   6      1     100     0\n",
       "6   7      1     110     3\n",
       "7   8      1     120     2\n",
       "8   9      1     130     4\n",
       "9  10      1     140     3"
      ]
     },
     "execution_count": 2,
     "metadata": {},
     "output_type": "execute_result"
    }
   ],
   "source": [
    "#データフレームの作成\n",
    "df_tweet = pd.DataFrame(\n",
    "        data = {'id'     : [1,2,3,4,5,6,7,8,9,10],\n",
    "                'image'  : [0,0,0,0,0,1,1,1,1,1],\n",
    "                'n_char' : [100,110,120,130,140,100,110,120,130,140],\n",
    "                'like'   : [0,0,2,1,3,0,3,2,4,3]}\n",
    ")\n",
    "\n",
    "#データフレーム出力\n",
    "df_tweet"
   ]
  },
  {
   "cell_type": "markdown",
   "id": "ed583aa1",
   "metadata": {},
   "source": [
    "## 上記のデータセットを考えます\n",
    "\n",
    "# 1. seabornパッケージを用いてn-charとlikeのヒストグラム散布図を書いてください。（ただしimageごとに色を分けてください）"
   ]
  },
  {
   "cell_type": "code",
   "execution_count": 3,
   "id": "adaf6be6",
   "metadata": {},
   "outputs": [
    {
     "data": {
      "image/png": "[encoded data removed]",
      "text/plain": [
       "<Figure size 558.875x500 with 6 Axes>"
      ]
     },
     "metadata": {},
     "output_type": "display_data"
    }
   ],
   "source": [
    "#散布図の作成\n",
    "sns.pairplot(df_tweet[['n_char', 'like', 'image']], diag_kind='hist', hue='image',markers=['o','*'])\n",
    "plt.show()"
   ]
  },
  {
   "cell_type": "code",
   "execution_count": 4,
   "id": "3a07530f",
   "metadata": {},
   "outputs": [
    {
     "data": {
      "image/png": "[encoded data removed]",
      "text/plain": [
       "<Figure size 640x480 with 1 Axes>"
      ]
     },
     "metadata": {},
     "output_type": "display_data"
    }
   ],
   "source": [
    "#散布図の作成\n",
    "sns.scatterplot(x='n_char', y='like', size='image', hue='image', alpha=0.6, data = df_tweet, markers=['o','*'])\n",
    "\n",
    "#グラフの表示\n",
    "plt.show()"
   ]
  },
  {
   "cell_type": "code",
   "execution_count": 5,
   "id": "87aa201d",
   "metadata": {},
   "outputs": [
    {
     "data": {
      "image/png": "[encoded data removed]",
      "text/plain": [
       "<Figure size 640x480 with 1 Axes>"
      ]
     },
     "metadata": {},
     "output_type": "display_data"
    }
   ],
   "source": [
    "#ヒストグラムの作成\n",
    "sns.histplot(df_tweet, x='n_char',bins=10, hue='image', multiple='dodge')\n",
    "plt.show()"
   ]
  },
  {
   "cell_type": "code",
   "execution_count": 6,
   "id": "f5f04499",
   "metadata": {},
   "outputs": [
    {
     "data": {
      "image/png": "[encoded data removed]",
      "text/plain": [
       "<Figure size 640x480 with 1 Axes>"
      ]
     },
     "metadata": {},
     "output_type": "display_data"
    }
   ],
   "source": [
    "#ヒストグラムの作成\n",
    "sns.histplot(df_tweet, x='like',bins=10, hue='image', multiple='dodge')\n",
    "plt.show()"
   ]
  },
  {
   "cell_type": "markdown",
   "id": "a443ae22",
   "metadata": {},
   "source": [
    "# 2. *sklearn.linear_model.PoissonRegression*はintercept_とcoef_を出力できる。これを用いて、*likeの期待値＝imageとn-charの式*　を答えてください。"
   ]
  },
  {
   "cell_type": "code",
   "execution_count": 7,
   "id": "c75c51d2",
   "metadata": {},
   "outputs": [
    {
     "name": "stdout",
     "output_type": "stream",
     "text": [
      "切片 =  -4.995325655977786\n",
      "n_charの係数 =  0.04174610359579233\n",
      "imageの係数 =  0.6931471219064667\n",
      "---------------------------\n",
      "λ0 = exp( -4.995325655977786 ) =  0.006769516206549829\n",
      "λ1 = exp( 0.04174610359579233 ) =  1.0426297252040493\n",
      "λ2 = exp( 0.6931471219064667 ) =  1.999999882693046\n",
      "---------------------------\n",
      "likeの期待値 = imageとn_charの式\n",
      "likeの期待値 = λ0 + λ1*n_char + λ2*image\n"
     ]
    }
   ],
   "source": [
    "PR = PoissonRegressor(alpha=0)\n",
    "\n",
    "#目的変数Y=like, X=説明変数n-char, imageを定義\n",
    "X = df_tweet[['n_char', 'image']].values\n",
    "Y = df_tweet['like'].values\n",
    "\n",
    "#モデルの作成\n",
    "model_skl = PR.fit(X, Y)\n",
    "\n",
    "#結果を代入\n",
    "coef = PR.coef_\n",
    "intercept = PR.intercept_\n",
    "\n",
    "#結果の出力\n",
    "print('切片 = ', intercept)\n",
    "print('n_charの係数 = ', coef[0])\n",
    "print('imageの係数 = ', coef[1])\n",
    "print('---------------------------')\n",
    "λ0 = math.e**intercept\n",
    "λ1 = math.e**coef[0]\n",
    "λ2 = math.e**coef[1]\n",
    "print(\"λ0 = exp(\",intercept,\") = \",λ0)\n",
    "print(\"λ1 = exp(\",coef[0],\") = \", λ1)\n",
    "print(\"λ2 = exp(\",coef[1],\") = \", λ2)\n",
    "print('---------------------------')\n",
    "\n",
    "print('likeの期待値 = imageとn_charの式')\n",
    "print('likeの期待値 = λ0 + λ1*n_char + λ2*image')\n"
   ]
  },
  {
   "cell_type": "code",
   "execution_count": 17,
   "id": "7c8e2558",
   "metadata": {},
   "outputs": [
    {
     "data": {
      "text/plain": [
       "121.90356592425356"
      ]
     },
     "execution_count": 17,
     "metadata": {},
     "output_type": "execute_result"
    }
   ],
   "source": [
    "def E(n_char,image):\n",
    "    return λ0  + λ1*n_char + λ2*image\n",
    "\n",
    "E(115,1)"
   ]
  },
  {
   "cell_type": "markdown",
   "id": "82962059",
   "metadata": {},
   "source": [
    "# 3. *statsmodels*パッケージで**②と同様の計算**をしてください"
   ]
  },
  {
   "cell_type": "code",
   "execution_count": 9,
   "id": "59604922",
   "metadata": {
    "scrolled": false
   },
   "outputs": [
    {
     "name": "stdout",
     "output_type": "stream",
     "text": [
      "Optimization terminated successfully.\n",
      "         Current function value: 1.352168\n",
      "         Iterations 6\n"
     ]
    },
    {
     "data": {
      "text/html": [
       "<table class=\"simpletable\">\n",
       "<caption>Poisson Regression Results</caption>\n",
       "<tr>\n",
       "  <th>Dep. Variable:</th>         <td>like</td>       <th>  No. Observations:  </th>  <td>    10</td> \n",
       "</tr>\n",
       "<tr>\n",
       "  <th>Model:</th>                <td>Poisson</td>     <th>  Df Residuals:      </th>  <td>     7</td> \n",
       "</tr>\n",
       "<tr>\n",
       "  <th>Method:</th>                 <td>MLE</td>       <th>  Df Model:          </th>  <td>     2</td> \n",
       "</tr>\n",
       "<tr>\n",
       "  <th>Date:</th>            <td>Wed, 25 Jan 2023</td> <th>  Pseudo R-squ.:     </th>  <td>0.2211</td> \n",
       "</tr>\n",
       "<tr>\n",
       "  <th>Time:</th>                <td>11:03:44</td>     <th>  Log-Likelihood:    </th> <td> -13.522</td>\n",
       "</tr>\n",
       "<tr>\n",
       "  <th>converged:</th>             <td>True</td>       <th>  LL-Null:           </th> <td> -17.359</td>\n",
       "</tr>\n",
       "<tr>\n",
       "  <th>Covariance Type:</th>     <td>nonrobust</td>    <th>  LLR p-value:       </th>  <td>0.02154</td>\n",
       "</tr>\n",
       "</table>\n",
       "<table class=\"simpletable\">\n",
       "<tr>\n",
       "      <td></td>         <th>coef</th>     <th>std err</th>      <th>z</th>      <th>P>|z|</th>  <th>[0.025</th>    <th>0.975]</th>  \n",
       "</tr>\n",
       "<tr>\n",
       "  <th>Intercept</th> <td>   -4.9953</td> <td>    2.405</td> <td>   -2.077</td> <td> 0.038</td> <td>   -9.709</td> <td>   -0.282</td>\n",
       "</tr>\n",
       "<tr>\n",
       "  <th>n_char</th>    <td>    0.0417</td> <td>    0.019</td> <td>    2.251</td> <td> 0.024</td> <td>    0.005</td> <td>    0.078</td>\n",
       "</tr>\n",
       "<tr>\n",
       "  <th>image</th>     <td>    0.6931</td> <td>    0.500</td> <td>    1.386</td> <td> 0.166</td> <td>   -0.287</td> <td>    1.673</td>\n",
       "</tr>\n",
       "</table>"
      ],
      "text/plain": [
       "<class 'statsmodels.iolib.summary.Summary'>\n",
       "\"\"\"\n",
       "                          Poisson Regression Results                          \n",
       "==============================================================================\n",
       "Dep. Variable:                   like   No. Observations:                   10\n",
       "Model:                        Poisson   Df Residuals:                        7\n",
       "Method:                           MLE   Df Model:                            2\n",
       "Date:                Wed, 25 Jan 2023   Pseudo R-squ.:                  0.2211\n",
       "Time:                        11:03:44   Log-Likelihood:                -13.522\n",
       "converged:                       True   LL-Null:                       -17.359\n",
       "Covariance Type:            nonrobust   LLR p-value:                   0.02154\n",
       "==============================================================================\n",
       "                 coef    std err          z      P>|z|      [0.025      0.975]\n",
       "------------------------------------------------------------------------------\n",
       "Intercept     -4.9953      2.405     -2.077      0.038      -9.709      -0.282\n",
       "n_char         0.0417      0.019      2.251      0.024       0.005       0.078\n",
       "image          0.6931      0.500      1.386      0.166      -0.287       1.673\n",
       "==============================================================================\n",
       "\"\"\""
      ]
     },
     "execution_count": 9,
     "metadata": {},
     "output_type": "execute_result"
    }
   ],
   "source": [
    "#モデルの作成\n",
    "model_smf = smf.poisson('like ~ n_char+image', data=df_tweet).fit()\n",
    "model_smf.summary()"
   ]
  },
  {
   "cell_type": "code",
   "execution_count": 10,
   "id": "f20589c5",
   "metadata": {},
   "outputs": [
    {
     "name": "stdout",
     "output_type": "stream",
     "text": [
      "λ0 = exp(-4.9953) =  0.00676968988733521\n",
      "λ1 = exp(0.0417) =  1.042581657332697\n",
      "λ2 = exp(0.6931) =  1.9999056411060796\n",
      "---------------------------\n",
      "likeの期待値 = imageとn_charの式\n",
      "likeの期待値 = λ0 + λ1*n_char + λ2*image\n"
     ]
    }
   ],
   "source": [
    "#結果の出力\n",
    "λ0 = math.e**-4.9953\n",
    "λ1 = math.e**0.0417\n",
    "λ2 = math.e**0.6931\n",
    "print(\"λ0 = exp(-4.9953) = \",λ0)\n",
    "print(\"λ1 = exp(0.0417) = \", λ1)\n",
    "print(\"λ2 = exp(0.6931) = \", λ2)\n",
    "print('---------------------------')\n",
    "\n",
    "print('likeの期待値 = imageとn_charの式')\n",
    "print('likeの期待値 = λ0 + λ1*n_char + λ2*image')"
   ]
  },
  {
   "cell_type": "markdown",
   "id": "2df85555",
   "metadata": {},
   "source": [
    "# 4. image=1, n_char=115のツイートのいいね数の95%予測区間を作ってください"
   ]
  },
  {
   "cell_type": "code",
   "execution_count": 11,
   "id": "f6c6e8a4",
   "metadata": {
    "scrolled": false
   },
   "outputs": [
    {
     "name": "stdout",
     "output_type": "stream",
     "text": [
      "sklearnモデルでのいいね数予測 [1.64645317]\n",
      "stats_modelモデルでのいいね数予測 0    1.646453\n",
      "dtype: float64\n"
     ]
    },
    {
     "name": "stderr",
     "output_type": "stream",
     "text": [
      "C:\\Users\\kawam\\anaconda3\\lib\\site-packages\\sklearn\\base.py:443: UserWarning: X has feature names, but PoissonRegressor was fitted without feature names\n",
      "  warnings.warn(\n"
     ]
    }
   ],
   "source": [
    "#model_skl #sklearnで作成したモデル\n",
    "#model_smf #stats_modelで作成したモデル\n",
    "\n",
    "df_pred = pd.DataFrame(\n",
    "            data = {'n_char':[115],\n",
    "                    \"image\":[1]})\n",
    "pred_skl = model_skl.predict(df_pred)\n",
    "pred_smf = model_smf.predict(df_pred)\n",
    "print(\"sklearnモデルでのいいね数予測\",pred_skl)\n",
    "print(\"stats_modelモデルでのいいね数予測\",pred_smf)"
   ]
  },
  {
   "cell_type": "code",
   "execution_count": 12,
   "id": "18531b51",
   "metadata": {},
   "outputs": [
    {
     "name": "stdout",
     "output_type": "stream",
     "text": [
      "[0.85115357] ≦λ≦ [2.44175277]\n"
     ]
    }
   ],
   "source": [
    "#95%信頼区間\n",
    "λ = pred_skl\n",
    "n  = 10\n",
    "UPPER = λ + 1.96*np.sqrt(λ/n)\n",
    "LOWER = λ - 1.96*np.sqrt(λ/n)\n",
    "print(LOWER, \"≦λ≦\", UPPER)"
   ]
  },
  {
   "cell_type": "markdown",
   "id": "d8441d53",
   "metadata": {},
   "source": [
    "# ゴミ"
   ]
  },
  {
   "cell_type": "code",
   "execution_count": 13,
   "id": "7205e0ec",
   "metadata": {},
   "outputs": [
    {
     "name": "stdout",
     "output_type": "stream",
     "text": [
      "                            OLS Regression Results                            \n",
      "==============================================================================\n",
      "Dep. Variable:                   like   R-squared:                       0.684\n",
      "Model:                            OLS   Adj. R-squared:                  0.593\n",
      "Method:                 Least Squares   F-statistic:                     7.565\n",
      "Date:                Wed, 25 Jan 2023   Prob (F-statistic):             0.0178\n",
      "Time:                        11:03:45   Log-Likelihood:                -11.799\n",
      "No. Observations:                  10   AIC:                             29.60\n",
      "Df Residuals:                       7   BIC:                             30.51\n",
      "Df Model:                           2                                         \n",
      "Covariance Type:            nonrobust                                         \n",
      "==============================================================================\n",
      "                 coef    std err          t      P>|t|      [0.025      0.975]\n",
      "------------------------------------------------------------------------------\n",
      "const         -7.2000      2.560     -2.812      0.026     -13.254      -1.146\n",
      "n_char         0.0700      0.021      3.326      0.013       0.020       0.120\n",
      "image          1.2000      0.595      2.016      0.084      -0.207       2.607\n",
      "==============================================================================\n",
      "Omnibus:                        2.215   Durbin-Watson:                   3.465\n",
      "Prob(Omnibus):                  0.330   Jarque-Bera (JB):                0.913\n",
      "Skew:                           0.221   Prob(JB):                        0.634\n",
      "Kurtosis:                       1.588   Cond. No.                     1.04e+03\n",
      "==============================================================================\n",
      "\n",
      "Notes:\n",
      "[1] Standard Errors assume that the covariance matrix of the errors is correctly specified.\n",
      "[2] The condition number is large, 1.04e+03. This might indicate that there are\n",
      "strong multicollinearity or other numerical problems.\n"
     ]
    },
    {
     "name": "stderr",
     "output_type": "stream",
     "text": [
      "C:\\Users\\kawam\\anaconda3\\lib\\site-packages\\scipy\\stats\\_stats_py.py:1769: UserWarning: kurtosistest only valid for n>=20 ... continuing anyway, n=10\n",
      "  warnings.warn(\"kurtosistest only valid for n>=20 ... continuing \"\n"
     ]
    }
   ],
   "source": [
    "#説明変数\n",
    "x = df_tweet[['n_char', 'image']]\n",
    "x = sm.add_constant(x)\n",
    "\n",
    "#目的変数\n",
    "y = df_tweet['like']\n",
    "\n",
    "#モデルの設定(OLS:最小二乗法)\n",
    "model = sm.OLS(y, x)\n",
    "\n",
    "#回帰分析の実行\n",
    "results = model.fit()\n",
    "\n",
    "#結果の詳細を表示\n",
    "print(results.summary())"
   ]
  },
  {
   "cell_type": "code",
   "execution_count": 14,
   "id": "383d9f5d",
   "metadata": {},
   "outputs": [
    {
     "name": "stdout",
     "output_type": "stream",
     "text": [
      "likeの期待値 = imageとn_charの式\n",
      "likeの期待値 = -7.20 + 0.07 * n_char + 1.20 * image\n"
     ]
    }
   ],
   "source": [
    "print('likeの期待値 = imageとn_charの式')\n",
    "print('likeの期待値 = -7.20 + 0.07 * n_char + 1.20 * image')"
   ]
  },
  {
   "cell_type": "code",
   "execution_count": 15,
   "id": "f5f507ee",
   "metadata": {},
   "outputs": [
    {
     "data": {
      "image/png": "[encoded data removed]",
      "text/plain": [
       "<Figure size 640x480 with 1 Axes>"
      ]
     },
     "metadata": {},
     "output_type": "display_data"
    }
   ],
   "source": [
    "sns.set_style(\"ticks\")\n",
    "sns.set_context(\"paper\", font_scale=2)\n",
    "\n",
    "sns.barplot(x=\"image\", y=\"like\", data=df_tweet, \n",
    "            palette=[\"skyblue\", \"tomato\"],\n",
    "           capsize=0.1, errwidth=1.2)\n",
    "\n",
    "plt.show()"
   ]
  },
  {
   "cell_type": "code",
   "execution_count": null,
   "id": "7fd0c143",
   "metadata": {},
   "outputs": [],
   "source": []
  }
 ],
 "metadata": {
  "kernelspec": {
   "display_name": "Python 3 (ipykernel)",
   "language": "python",
   "name": "python3"
  },
  "language_info": {
   "codemirror_mode": {
    "name": "ipython",
    "version": 3
   },
   "file_extension": ".py",
   "mimetype": "text/x-python",
   "name": "python",
   "nbconvert_exporter": "python",
   "pygments_lexer": "ipython3",
   "version": "3.9.13"
  }
 },
 "nbformat": 4,
 "nbformat_minor": 5
}
