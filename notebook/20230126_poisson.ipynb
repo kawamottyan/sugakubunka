{
 "cells": [
  {
   "cell_type": "markdown",
   "id": "45bbee5a",
   "metadata": {},
   "source": [
    "# 問題\n",
    "1. `seabornパッケージ`を用いてn_charとlikeの**ヒストグラム**と**散布図**を書いてください。（ただしimageごとに色を分けてください）\n",
    "\n",
    "2. `sklearn.linear_model.PoissonRegression`はintercept_とcoef_を出力できる。これを用いて、**likeの期待値＝imageとn-charの式**を答えてください。\n",
    "\n",
    "3. `statsmodelsパッケージ`で②と同様の計算をしてください\n",
    "\n",
    "4. image=1, n_char=115のツイートのいいね数の**95%予測区間**を作ってください"
   ]
  },
  {
   "cell_type": "markdown",
   "id": "aa8758ab",
   "metadata": {},
   "source": [
    "## 問題①\n",
    "**seabornパッケージを用いてn_charとlikeのヒストグラムと散布図を書いてください。（ただしimageごとに色を分けてください）**"
   ]
  },
  {
   "cell_type": "markdown",
   "id": "386385ae",
   "metadata": {},
   "source": [
    "### Step 1:ライブラリのインポート"
   ]
  },
  {
   "cell_type": "code",
   "execution_count": 1,
   "id": "57003c7b",
   "metadata": {},
   "outputs": [],
   "source": [
    "#インポート文\n",
    "import pandas as pd\n",
    "import numpy as np\n",
    "import matplotlib.pyplot as plt\n",
    "import seaborn as sns\n",
    "from sklearn import linear_model\n",
    "import statsmodels.formula.api as smf"
   ]
  },
  {
   "cell_type": "markdown",
   "id": "fee22ad3",
   "metadata": {},
   "source": [
    "### Step 2:学習データを作成し、説明変数（X_train）と目的変数（y_train）に分割\n",
    "drop関数でlikeの列を削除したものと、likeの列のデータセットをそれぞれ`X_train`、`y_train`とする。"
   ]
  },
  {
   "cell_type": "code",
   "execution_count": 2,
   "id": "aa022925",
   "metadata": {},
   "outputs": [],
   "source": [
    "#データ作成\n",
    "df_train = pd.DataFrame(\n",
    "            data = {\"image\":[0,0,0,0,0,1,1,1,1,1],\n",
    "                    \"n_char\":[100,110,120,130,140,100,110,120,130,140],\n",
    "                    \"like\":[0,0,2,1,3,0,3,2,4,3]}\n",
    "          )\n",
    "X_train = df_train.drop('like', axis=1)\n",
    "y_train = df_train['like']"
   ]
  },
  {
   "cell_type": "code",
   "execution_count": 3,
   "id": "083ae1dd",
   "metadata": {},
   "outputs": [
    {
     "data": {
      "text/html": [
       "<div>\n",
       "<style scoped>\n",
       "    .dataframe tbody tr th:only-of-type {\n",
       "        vertical-align: middle;\n",
       "    }\n",
       "\n",
       "    .dataframe tbody tr th {\n",
       "        vertical-align: top;\n",
       "    }\n",
       "\n",
       "    .dataframe thead th {\n",
       "        text-align: right;\n",
       "    }\n",
       "</style>\n",
       "<table border=\"1\" class=\"dataframe\">\n",
       "  <thead>\n",
       "    <tr style=\"text-align: right;\">\n",
       "      <th></th>\n",
       "      <th>image</th>\n",
       "      <th>n_char</th>\n",
       "      <th>like</th>\n",
       "    </tr>\n",
       "  </thead>\n",
       "  <tbody>\n",
       "    <tr>\n",
       "      <th>0</th>\n",
       "      <td>0</td>\n",
       "      <td>100</td>\n",
       "      <td>0</td>\n",
       "    </tr>\n",
       "    <tr>\n",
       "      <th>1</th>\n",
       "      <td>0</td>\n",
       "      <td>110</td>\n",
       "      <td>0</td>\n",
       "    </tr>\n",
       "    <tr>\n",
       "      <th>2</th>\n",
       "      <td>0</td>\n",
       "      <td>120</td>\n",
       "      <td>2</td>\n",
       "    </tr>\n",
       "    <tr>\n",
       "      <th>3</th>\n",
       "      <td>0</td>\n",
       "      <td>130</td>\n",
       "      <td>1</td>\n",
       "    </tr>\n",
       "    <tr>\n",
       "      <th>4</th>\n",
       "      <td>0</td>\n",
       "      <td>140</td>\n",
       "      <td>3</td>\n",
       "    </tr>\n",
       "    <tr>\n",
       "      <th>5</th>\n",
       "      <td>1</td>\n",
       "      <td>100</td>\n",
       "      <td>0</td>\n",
       "    </tr>\n",
       "    <tr>\n",
       "      <th>6</th>\n",
       "      <td>1</td>\n",
       "      <td>110</td>\n",
       "      <td>3</td>\n",
       "    </tr>\n",
       "    <tr>\n",
       "      <th>7</th>\n",
       "      <td>1</td>\n",
       "      <td>120</td>\n",
       "      <td>2</td>\n",
       "    </tr>\n",
       "    <tr>\n",
       "      <th>8</th>\n",
       "      <td>1</td>\n",
       "      <td>130</td>\n",
       "      <td>4</td>\n",
       "    </tr>\n",
       "    <tr>\n",
       "      <th>9</th>\n",
       "      <td>1</td>\n",
       "      <td>140</td>\n",
       "      <td>3</td>\n",
       "    </tr>\n",
       "  </tbody>\n",
       "</table>\n",
       "</div>"
      ],
      "text/plain": [
       "   image  n_char  like\n",
       "0      0     100     0\n",
       "1      0     110     0\n",
       "2      0     120     2\n",
       "3      0     130     1\n",
       "4      0     140     3\n",
       "5      1     100     0\n",
       "6      1     110     3\n",
       "7      1     120     2\n",
       "8      1     130     4\n",
       "9      1     140     3"
      ]
     },
     "execution_count": 3,
     "metadata": {},
     "output_type": "execute_result"
    }
   ],
   "source": [
    "#(不要)確認用\n",
    "df_train"
   ]
  },
  {
   "cell_type": "markdown",
   "id": "f8aa59e3",
   "metadata": {},
   "source": [
    "### Step 3:seabornパッケージを用いて学習データのヒストグラムと散布図を作成\n",
    "pairplot関数を使えば、同時に出力可能。引き数に`hue='image'`でimageの値ごとに色分け。"
   ]
  },
  {
   "cell_type": "code",
   "execution_count": 4,
   "id": "4de9674a",
   "metadata": {},
   "outputs": [
    {
     "data": {
      "image/png": "[encoded data removed]",
      "text/plain": [
       "<Figure size 558.875x500 with 6 Axes>"
      ]
     },
     "metadata": {},
     "output_type": "display_data"
    }
   ],
   "source": [
    "#グラフ作成\n",
    "sns.pairplot(df_train, hue='image', diag_kind=\"hist\")\n",
    "plt.show()"
   ]
  },
  {
   "cell_type": "code",
   "execution_count": 5,
   "id": "c0af6f1c",
   "metadata": {},
   "outputs": [
    {
     "data": {
      "image/png": "[encoded data removed]",
      "text/plain": [
       "<Figure size 640x480 with 1 Axes>"
      ]
     },
     "metadata": {},
     "output_type": "display_data"
    }
   ],
   "source": [
    "#(不要)拡大版ヒストグラム\n",
    "sns.histplot(data = df_train,\n",
    "  x = 'like',\n",
    "  hue='image',\n",
    "  multiple = 'dodge',\n",
    "  bins=10,)\n",
    "plt.show()"
   ]
  },
  {
   "cell_type": "markdown",
   "id": "1c8704a8",
   "metadata": {},
   "source": [
    "## 問題②\n",
    "**sklearn.linear_model.PoissonRegressionはintercept_とcoef_を出力できる。これを用いて、likeの期待値＝imageとn-charの式　を答えてください。**"
   ]
  },
  {
   "cell_type": "markdown",
   "id": "b319296b",
   "metadata": {},
   "source": [
    "### Step 1: scikit-learnを用いて、モデルを作成\n",
    "`X_train,y_train`で学習させたモデルを`result_skl`とおく。"
   ]
  },
  {
   "cell_type": "code",
   "execution_count": 6,
   "id": "69a7c58a",
   "metadata": {},
   "outputs": [],
   "source": [
    "#モデル作成\n",
    "clf = linear_model.PoissonRegressor(\n",
    "                        alpha=0, \n",
    "                      )\n",
    "result_skl = clf.fit(X_train,y_train)\n",
    "\n",
    "#スコア\n",
    "#print(\"score:\", result_skl.score(X_train, y_train))"
   ]
  },
  {
   "cell_type": "markdown",
   "id": "a04847d4",
   "metadata": {},
   "source": [
    "### Step 2: 切片(intercept)と偏回帰係数(coefficient)を確認\n",
    "先ほどのモデルの切片と偏回帰係数2つをそれぞれ`inte`,`coef`とおく。\n"
   ]
  },
  {
   "cell_type": "code",
   "execution_count": 7,
   "id": "3ce763c5",
   "metadata": {
    "scrolled": false
   },
   "outputs": [
    {
     "name": "stdout",
     "output_type": "stream",
     "text": [
      "切片: -4.995325655977788 偏回帰係数: [0.69314712 0.0417461 ]\n",
      "E(x) = λ = exp(-4.9953 + 0.6931*image + 0.0417*n-char)\n",
      "E(x) = λ = exp(切片 + 偏回帰係数[0]*image + 偏回帰係数[1]*n-char)\n"
     ]
    }
   ],
   "source": [
    "#切片と偏回帰係数\n",
    "inte = result_skl.intercept_ \n",
    "coef = result_skl.coef_ \n",
    "print('切片:',inte,'偏回帰係数:',coef)\n",
    "\n",
    "#λの確認\n",
    "#lamd0 = np.exp(inte)\n",
    "#lamd1 = np.exp(inte+coef[0])\n",
    "#lamd2 = np.exp(inte+coef[1])\n",
    "#print('λ0:',lamd0,'λ1:',lamd1,'λ2:',lamd2)\n",
    "\n",
    "#期待値の式\n",
    "print('E(x) = λ = exp(-4.9953 + 0.6931*image + 0.0417*n-char)')\n",
    "print('E(x) = λ = exp(切片 + 偏回帰係数[0]*image + 偏回帰係数[1]*n-char)')"
   ]
  },
  {
   "cell_type": "markdown",
   "id": "06080d72",
   "metadata": {},
   "source": [
    "### Step 3:あってそうか確認\n",
    "問4で使用する、データを使いモデルの予測値と合ってるかを確認する。"
   ]
  },
  {
   "cell_type": "code",
   "execution_count": 8,
   "id": "d4de0cc4",
   "metadata": {},
   "outputs": [
    {
     "data": {
      "text/plain": [
       "1.6464531686252402"
      ]
     },
     "execution_count": 8,
     "metadata": {},
     "output_type": "execute_result"
    }
   ],
   "source": [
    "#期待値確認用\n",
    "def E(image,n_char):\n",
    "    return np.exp(inte + coef[0]*image + coef[1]*n_char)\n",
    "\n",
    "E(1,115)"
   ]
  },
  {
   "cell_type": "code",
   "execution_count": 9,
   "id": "ff788717",
   "metadata": {},
   "outputs": [
    {
     "data": {
      "text/plain": [
       "0.8319899123784682"
      ]
     },
     "execution_count": 9,
     "metadata": {},
     "output_type": "execute_result"
    }
   ],
   "source": [
    "#(不要)期待値確認用②\n",
    "lamd0 = np.exp(inte)\n",
    "lamd1 = np.exp(inte+coef[0])\n",
    "lamd2 = np.exp(inte+coef[1])\n",
    "\n",
    "def E(image,n_char):\n",
    "    return lamd0 + lamd1*image + lamd2*n_char\n",
    "\n",
    "E(1,115)"
   ]
  },
  {
   "cell_type": "markdown",
   "id": "36577a74",
   "metadata": {},
   "source": [
    "## 問題③\n",
    "**statsmodelsパッケージで②と同様の計算をしてください**"
   ]
  },
  {
   "cell_type": "markdown",
   "id": "e0990a3f",
   "metadata": {},
   "source": [
    "### Step 1:statsmodelsでモデル作成\n",
    "モデルを作成し、`summary()`でサマリーを出す"
   ]
  },
  {
   "cell_type": "code",
   "execution_count": 10,
   "id": "970ca04a",
   "metadata": {
    "scrolled": true
   },
   "outputs": [
    {
     "name": "stdout",
     "output_type": "stream",
     "text": [
      "Optimization terminated successfully.\n",
      "         Current function value: 1.352168\n",
      "         Iterations 6\n"
     ]
    },
    {
     "data": {
      "text/html": [
       "<table class=\"simpletable\">\n",
       "<caption>Poisson Regression Results</caption>\n",
       "<tr>\n",
       "  <th>Dep. Variable:</th>         <td>like</td>       <th>  No. Observations:  </th>  <td>    10</td> \n",
       "</tr>\n",
       "<tr>\n",
       "  <th>Model:</th>                <td>Poisson</td>     <th>  Df Residuals:      </th>  <td>     7</td> \n",
       "</tr>\n",
       "<tr>\n",
       "  <th>Method:</th>                 <td>MLE</td>       <th>  Df Model:          </th>  <td>     2</td> \n",
       "</tr>\n",
       "<tr>\n",
       "  <th>Date:</th>            <td>Thu, 26 Jan 2023</td> <th>  Pseudo R-squ.:     </th>  <td>0.2211</td> \n",
       "</tr>\n",
       "<tr>\n",
       "  <th>Time:</th>                <td>14:36:05</td>     <th>  Log-Likelihood:    </th> <td> -13.522</td>\n",
       "</tr>\n",
       "<tr>\n",
       "  <th>converged:</th>             <td>True</td>       <th>  LL-Null:           </th> <td> -17.359</td>\n",
       "</tr>\n",
       "<tr>\n",
       "  <th>Covariance Type:</th>     <td>nonrobust</td>    <th>  LLR p-value:       </th>  <td>0.02154</td>\n",
       "</tr>\n",
       "</table>\n",
       "<table class=\"simpletable\">\n",
       "<tr>\n",
       "      <td></td>         <th>coef</th>     <th>std err</th>      <th>z</th>      <th>P>|z|</th>  <th>[0.025</th>    <th>0.975]</th>  \n",
       "</tr>\n",
       "<tr>\n",
       "  <th>Intercept</th> <td>   -4.9953</td> <td>    2.405</td> <td>   -2.077</td> <td> 0.038</td> <td>   -9.709</td> <td>   -0.282</td>\n",
       "</tr>\n",
       "<tr>\n",
       "  <th>image</th>     <td>    0.6931</td> <td>    0.500</td> <td>    1.386</td> <td> 0.166</td> <td>   -0.287</td> <td>    1.673</td>\n",
       "</tr>\n",
       "<tr>\n",
       "  <th>n_char</th>    <td>    0.0417</td> <td>    0.019</td> <td>    2.251</td> <td> 0.024</td> <td>    0.005</td> <td>    0.078</td>\n",
       "</tr>\n",
       "</table>"
      ],
      "text/plain": [
       "<class 'statsmodels.iolib.summary.Summary'>\n",
       "\"\"\"\n",
       "                          Poisson Regression Results                          \n",
       "==============================================================================\n",
       "Dep. Variable:                   like   No. Observations:                   10\n",
       "Model:                        Poisson   Df Residuals:                        7\n",
       "Method:                           MLE   Df Model:                            2\n",
       "Date:                Thu, 26 Jan 2023   Pseudo R-squ.:                  0.2211\n",
       "Time:                        14:36:05   Log-Likelihood:                -13.522\n",
       "converged:                       True   LL-Null:                       -17.359\n",
       "Covariance Type:            nonrobust   LLR p-value:                   0.02154\n",
       "==============================================================================\n",
       "                 coef    std err          z      P>|z|      [0.025      0.975]\n",
       "------------------------------------------------------------------------------\n",
       "Intercept     -4.9953      2.405     -2.077      0.038      -9.709      -0.282\n",
       "image          0.6931      0.500      1.386      0.166      -0.287       1.673\n",
       "n_char         0.0417      0.019      2.251      0.024       0.005       0.078\n",
       "==============================================================================\n",
       "\"\"\""
      ]
     },
     "execution_count": 10,
     "metadata": {},
     "output_type": "execute_result"
    }
   ],
   "source": [
    "#statsmodels\n",
    "result_smf = smf.poisson(\"like ~ image + n_char\", data=df_train).fit()\n",
    "result_smf.summary()"
   ]
  },
  {
   "cell_type": "markdown",
   "id": "0510c33f",
   "metadata": {},
   "source": [
    "## 問題④\n",
    "**image=1, n_char=115のツイートのいいね数の95%予測区間を作ってください**"
   ]
  },
  {
   "cell_type": "markdown",
   "id": "b0423ecd",
   "metadata": {},
   "source": [
    "### Step 1:予測する\n",
    "画像あり、文字数115のツイートのデータセットを作成する。そして、先ほど作成したモデルで予測を行う。"
   ]
  },
  {
   "cell_type": "code",
   "execution_count": 11,
   "id": "225a785f",
   "metadata": {},
   "outputs": [
    {
     "name": "stdout",
     "output_type": "stream",
     "text": [
      "sklearnの予測は [1.64645317] statsmodelsの予測は 0    1.646453\n",
      "dtype: float64\n"
     ]
    }
   ],
   "source": [
    "#予測\n",
    "Predict_data = pd.DataFrame(\n",
    "            data = {\"image\":[1],\n",
    "                    \"n_char\":[115]}\n",
    "          )\n",
    "\n",
    "pre_ski = result_skl.predict(Predict_data)\n",
    "pre_smf = result_smf.predict(Predict_data)\n",
    "print('sklearnの予測は',pre_ski,'statsmodelsの予測は',pre_smf,)"
   ]
  },
  {
   "cell_type": "markdown",
   "id": "c79315fd",
   "metadata": {},
   "source": [
    "###### Step 2:95%区間を推定する\n",
    "sk-learnで作成したモデルの上記データセット予測を`λ`とおく。\n",
    "\n",
    "ポアソン分布は\n",
    "\n",
    "$$E(X)=λ$$\n",
    "$$V(X)=λ$$\n",
    "である。\n",
    "\n",
    "\n",
    "母平均の95%区間\n",
    "\n",
    "$$\\bar{x}-1.96\\sqrt{\\frac{\\sigma ^2}{n}}\\le \\mu\\le \\bar{x}+1.96\\sqrt{\\frac{\\sigma ^2}{n}}$$\n",
    "\n",
    "より\n",
    "\n",
    "$$λ-1.96\\sqrt{\\frac{λ}{n}}\\le λ\\leλ+1.96\\sqrt{\\frac{λ}{n}}$$\n",
    "\n",
    "参考：https://stats.stackexchange.com/questions/15371/how-to-calculate-a-confidence-level-for-a-poisson-distribution"
   ]
  },
  {
   "cell_type": "code",
   "execution_count": 12,
   "id": "c97a3b39",
   "metadata": {},
   "outputs": [
    {
     "name": "stdout",
     "output_type": "stream",
     "text": [
      "[0.85115357] ≦λ≦ [2.44175277]\n"
     ]
    }
   ],
   "source": [
    "#95%\n",
    "λ=pre_ski\n",
    "n= 10\n",
    "UPPER =λ+ 1.96*np.sqrt(λ/n)\n",
    "LOWER =λ- 1.96*np.sqrt(λ/n)\n",
    "print(LOWER,'≦λ≦',UPPER)"
   ]
  }
 ],
 "metadata": {
  "kernelspec": {
   "display_name": "Python 3 (ipykernel)",
   "language": "python",
   "name": "python3"
  },
  "language_info": {
   "codemirror_mode": {
    "name": "ipython",
    "version": 3
   },
   "file_extension": ".py",
   "mimetype": "text/x-python",
   "name": "python",
   "nbconvert_exporter": "python",
   "pygments_lexer": "ipython3",
   "version": "3.9.13"
  }
 },
 "nbformat": 4,
 "nbformat_minor": 5
}
