{
 "cells": [
  {
   "cell_type": "code",
   "execution_count": 1,
   "id": "97e51e1d",
   "metadata": {},
   "outputs": [
    {
     "name": "stdout",
     "output_type": "stream",
     "text": [
      "Collecting webdriver-manager\n",
      "  Downloading webdriver_manager-3.8.5-py2.py3-none-any.whl (27 kB)\n",
      "Collecting python-dotenv\n",
      "  Downloading python_dotenv-0.21.1-py3-none-any.whl (19 kB)\n",
      "Requirement already satisfied: tqdm in c:\\users\\kawam\\anaconda3\\lib\\site-packages (from webdriver-manager) (4.64.0)\n",
      "Requirement already satisfied: requests in c:\\users\\kawam\\anaconda3\\lib\\site-packages (from webdriver-manager) (2.27.1)\n",
      "Requirement already satisfied: packaging in c:\\users\\kawam\\anaconda3\\lib\\site-packages (from webdriver-manager) (21.3)\n",
      "Requirement already satisfied: pyparsing!=3.0.5,>=2.0.2 in c:\\users\\kawam\\anaconda3\\lib\\site-packages (from packaging->webdriver-manager) (3.0.4)\n",
      "Requirement already satisfied: urllib3<1.27,>=1.21.1 in c:\\users\\kawam\\anaconda3\\lib\\site-packages (from requests->webdriver-manager) (1.26.9)\n",
      "Requirement already satisfied: certifi>=2017.4.17 in c:\\users\\kawam\\anaconda3\\lib\\site-packages (from requests->webdriver-manager) (2021.10.8)\n",
      "Requirement already satisfied: charset-normalizer~=2.0.0 in c:\\users\\kawam\\anaconda3\\lib\\site-packages (from requests->webdriver-manager) (2.0.4)\n",
      "Requirement already satisfied: idna<4,>=2.5 in c:\\users\\kawam\\anaconda3\\lib\\site-packages (from requests->webdriver-manager) (3.3)\n",
      "Requirement already satisfied: colorama in c:\\users\\kawam\\anaconda3\\lib\\site-packages (from tqdm->webdriver-manager) (0.4.4)\n",
      "Installing collected packages: python-dotenv, webdriver-manager\n",
      "Successfully installed python-dotenv-0.21.1 webdriver-manager-3.8.5\n"
     ]
    }
   ],
   "source": [
    "#!pip install selenium\n",
    "#!pip install chromedriver-binary-auto\n",
    "!pip install webdriver-manager"
   ]
  },
  {
   "cell_type": "code",
   "execution_count": 2,
   "id": "46d21851",
   "metadata": {},
   "outputs": [
    {
     "name": "stderr",
     "output_type": "stream",
     "text": [
      "[WDM] - Downloading: 100%|████████████████████████████████████████████████████████| 6.79M/6.79M [00:00<00:00, 73.7MB/s]\n",
      "C:\\Users\\kawam\\AppData\\Local\\Temp\\ipykernel_1532\\1027089030.py:13: DeprecationWarning: executable_path has been deprecated, please pass in a Service object\n",
      "  driver = webdriver.Chrome(ChromeDriverManager().install())\n"
     ]
    },
    {
     "data": {
      "text/plain": [
       "<function selenium.webdriver.support.expected_conditions.presence_of_all_elements_located.<locals>._predicate(driver)>"
      ]
     },
     "execution_count": 2,
     "metadata": {},
     "output_type": "execute_result"
    }
   ],
   "source": [
    "import time\n",
    "\n",
    "from selenium import webdriver\n",
    "from selenium.webdriver.support.ui import Select,WebDriverWait\n",
    "from selenium.webdriver.support import expected_conditions as EC\n",
    "from selenium.webdriver.chrome.options import Options\n",
    "from selenium.webdriver.common.by import By\n",
    "from webdriver_manager.chrome import ChromeDriverManager\n",
    "\n",
    "#options = Options()\n",
    "#options.add_argument('--headless')    # ヘッドレスモードに\n",
    "#driver = webdriver.Chrome(options=options)\n",
    "driver = webdriver.Chrome(ChromeDriverManager().install())\n",
    "wait = WebDriverWait(driver,10)\n",
    "\n",
    "URL = \"https://db.netkeiba.com/?pid=race_search_detail\"\n",
    "driver.get(URL)\n",
    "time.sleep(1)\n",
    "wait.until(EC.presence_of_all_elements_located)\n",
    "\n",
    "# 月ごとに検索\n",
    "year = 2023\n",
    "month = 1\n",
    "\n",
    "# 期間を選択\n",
    "#start_year_element = driver.find_element_by_name('start_year')\n",
    "start_year_element =driver.find_element(By.NAME,\"start_year\")\n",
    "start_year_select = Select(start_year_element)\n",
    "start_year_select.select_by_value(str(year))\n",
    "#start_mon_element = driver.find_element_by_name('start_mon')\n",
    "start_mon_element = driver.find_element(By.NAME,\"start_mon\")\n",
    "start_mon_select = Select(start_mon_element)\n",
    "start_mon_select.select_by_value(str(month))\n",
    "#end_year_element = driver.find_element_by_name('end_year')\n",
    "end_year_element = driver.find_element(By.NAME,\"end_year\")\n",
    "end_year_select = Select(end_year_element)\n",
    "end_year_select.select_by_value(str(year))\n",
    "#end_mon_element = driver.find_element_by_name('end_mon')\n",
    "end_mon_element = driver.find_element(By.NAME,\"end_mon\")\n",
    "end_mon_select = Select(end_mon_element)\n",
    "end_mon_select.select_by_value(str(month))\n",
    "\n",
    "# 中央競馬場をチェック\n",
    "for i in range(1,11):\n",
    "    #terms = driver.find_element_by_id(\"check_Jyo_\"+ str(i).zfill(2))\n",
    "    terms = driver.find_element(By.ID,\"check_Jyo_\"+ str(i).zfill(2))\n",
    "    terms.click()\n",
    "        \n",
    "# 表示件数を選択(20,50,100の中から最大の100へ)\n",
    "#list_element = driver.find_element_by_name('list')\n",
    "list_element = driver.find_element(By.NAME,\"list\")\n",
    "list_select = Select(list_element)\n",
    "list_select.select_by_value(\"100\")\n",
    "\n",
    "# フォームを送信\n",
    "#frm = driver.find_element_by_css_selector(\"#db_search_detail_form > form\")\n",
    "frm = driver.find_element(By.CSS_SELECTOR,\"#db_search_detail_form > form\")\n",
    "frm.submit()\n",
    "time.sleep(5)\n",
    "wait.until(EC.presence_of_all_elements_located)"
   ]
  },
  {
   "cell_type": "code",
   "execution_count": 3,
   "id": "cd03d835",
   "metadata": {},
   "outputs": [],
   "source": [
    "with open(str(year)+\"-\"+str(month)+\".txt\", mode='w') as f:\n",
    "    while True:\n",
    "        time.sleep(5)\n",
    "        wait.until(EC.presence_of_all_elements_located)\n",
    "        #all_rows = driver.find_element_by_class_name('race_table_01').find_elements_by_tag_name(\"tr\")\n",
    "        all_rows = driver.find_element(By.CLASS_NAME,\"race_table_01\").find_elements(By.TAG_NAME,\"tr\")\n",
    "        for row in range(1, len(all_rows)):\n",
    "            #race_href=all_rows[row].find_elements_by_tag_name(\"td\")[4].find_element_by_tag_name(\"a\").get_attribute(\"href\")\n",
    "            race_href=all_rows[row].find_elements(By.TAG_NAME,\"td\")[4].find_element(By.TAG_NAME,\"a\").get_attribute(\"href\")\n",
    "            f.write(race_href+\"\\n\")\n",
    "        try:\n",
    "            #target = driver.find_elements_by_link_text(\"次\")[0]\n",
    "            target = driver.find_elements(By.LINK_TEXT,\"次\")[0]\n",
    "            driver.execute_script(\"arguments[0].click();\", target) #javascriptでクリック処理\n",
    "        except IndexError:\n",
    "            break"
   ]
  },
  {
   "cell_type": "code",
   "execution_count": 4,
   "id": "0bf27301",
   "metadata": {},
   "outputs": [],
   "source": [
    "import os\n",
    "import requests\n",
    "\n",
    "save_dir = \"html\"+\"/\"+str(year)+\"/\"+str(month)\n",
    "if not os.path.isdir(save_dir):\n",
    "    os.makedirs(save_dir)\n",
    "        \n",
    "with open(str(year)+\"-\"+str(month)+\".txt\", \"r\") as f:\n",
    "    urls = f.read().splitlines()\n",
    "    for url in urls:\n",
    "        list = url.split(\"/\")\n",
    "        race_id = list[-2]\n",
    "        save_file_path = save_dir+\"/\"+race_id+'.html'\n",
    "        response = requests.get(url)\n",
    "        response.encoding = response.apparent_encoding\n",
    "        html = response.text\n",
    "        time.sleep(5)\n",
    "        with open(save_file_path, 'w') as file:\n",
    "            file.write(html)"
   ]
  },
  {
   "cell_type": "code",
   "execution_count": 5,
   "id": "51e28a3f",
   "metadata": {},
   "outputs": [
    {
     "ename": "NameError",
     "evalue": "name 'race_data_columns' is not defined",
     "output_type": "error",
     "traceback": [
      "\u001b[1;31m---------------------------------------------------------------------------\u001b[0m",
      "\u001b[1;31mNameError\u001b[0m                                 Traceback (most recent call last)",
      "Input \u001b[1;32mIn [5]\u001b[0m, in \u001b[0;36m<cell line: 12>\u001b[1;34m()\u001b[0m\n\u001b[0;32m      9\u001b[0m horse_race_csv \u001b[38;5;241m=\u001b[39m CSV_DIR\u001b[38;5;241m+\u001b[39m\u001b[38;5;124m\"\u001b[39m\u001b[38;5;124m/horse-\u001b[39m\u001b[38;5;124m\"\u001b[39m\u001b[38;5;241m+\u001b[39m\u001b[38;5;28mstr\u001b[39m(year)\u001b[38;5;241m+\u001b[39m\u001b[38;5;124m\"\u001b[39m\u001b[38;5;124m-\u001b[39m\u001b[38;5;124m\"\u001b[39m\u001b[38;5;241m+\u001b[39m\u001b[38;5;28mstr\u001b[39m(month)\u001b[38;5;241m+\u001b[39m\u001b[38;5;124m\"\u001b[39m\u001b[38;5;124m.csv\u001b[39m\u001b[38;5;124m\"\u001b[39m\n\u001b[0;32m     11\u001b[0m \u001b[38;5;66;03m# race_data_columns, horse_data_columnsは長くなるので省略\u001b[39;00m\n\u001b[1;32m---> 12\u001b[0m race_df \u001b[38;5;241m=\u001b[39m pd\u001b[38;5;241m.\u001b[39mDataFrame(columns\u001b[38;5;241m=\u001b[39m\u001b[43mrace_data_columns\u001b[49m )\n\u001b[0;32m     13\u001b[0m horse_df \u001b[38;5;241m=\u001b[39m pd\u001b[38;5;241m.\u001b[39mDataFrame(columns\u001b[38;5;241m=\u001b[39mhorse_data_columns )\n\u001b[0;32m     15\u001b[0m html_dir \u001b[38;5;241m=\u001b[39m \u001b[38;5;124m\"\u001b[39m\u001b[38;5;124mhtml\u001b[39m\u001b[38;5;124m\"\u001b[39m\u001b[38;5;241m+\u001b[39m\u001b[38;5;124m\"\u001b[39m\u001b[38;5;124m/\u001b[39m\u001b[38;5;124m\"\u001b[39m\u001b[38;5;241m+\u001b[39m\u001b[38;5;28mstr\u001b[39m(year)\u001b[38;5;241m+\u001b[39m\u001b[38;5;124m\"\u001b[39m\u001b[38;5;124m/\u001b[39m\u001b[38;5;124m\"\u001b[39m\u001b[38;5;241m+\u001b[39m\u001b[38;5;28mstr\u001b[39m(month)\n",
      "\u001b[1;31mNameError\u001b[0m: name 'race_data_columns' is not defined"
     ]
    }
   ],
   "source": [
    "import numpy as np\n",
    "import pandas as pd\n",
    "from bs4 import BeautifulSoup\n",
    "\n",
    "CSV_DIR = \"csv\"\n",
    "if not os.path.isdir(CSV_DIR):\n",
    "    os.makedirs(CSV_DIR)\n",
    "save_race_csv = CSV_DIR+\"/race-\"+str(year)+\"-\"+str(month)+\".csv\"\n",
    "horse_race_csv = CSV_DIR+\"/horse-\"+str(year)+\"-\"+str(month)+\".csv\"\n",
    "\n",
    "# race_data_columns, horse_data_columnsは長くなるので省略\n",
    "race_df = pd.DataFrame(columns=race_data_columns )\n",
    "horse_df = pd.DataFrame(columns=horse_data_columns )\n",
    "\n",
    "html_dir = \"html\"+\"/\"+str(year)+\"/\"+str(month)\n",
    "if os.path.isdir(html_dir):\n",
    "    file_list = os.listdir(html_dir)\n",
    "    for file_name in file_list:\n",
    "        with open(html_dir+\"/\"+file_name, \"r\") as f:\n",
    "            html = f.read()\n",
    "            list = file_name.split(\".\")\n",
    "            race_id = list[-2]\n",
    "            race_list, horse_list_list = get_rade_and_horse_data_by_html(race_id, html) # 長くなるので省略\n",
    "            for horse_list in horse_list_list:\n",
    "                horse_se = pd.Series( horse_list, index=horse_df.columns)\n",
    "                horse_df = horse_df.append(horse_se, ignore_index=True)\n",
    "            race_se = pd.Series(race_list, index=race_df.columns )\n",
    "            race_df = race_df.append(race_se, ignore_index=True )\n",
    "            \n",
    "race_df.to_csv(save_race_csv, header=True, index=False)\n",
    "horse_df.to_csv(horse_race_csv, header=True, index=False)"
   ]
  },
  {
   "cell_type": "code",
   "execution_count": null,
   "id": "fcbeb082",
   "metadata": {},
   "outputs": [],
   "source": [
    "# 時間情報を抜き出して、日付情報と結合。datetime型にする\n",
    "race_df[\"time\"] = race_df[\"time\"].str.replace('発走 : (\\d\\d):(\\d\\d)(.|\\n)*', r'\\1時\\2分')\n",
    "race_df[\"date\"] = race_df[\"date\"] + race_df[\"time\"]\n",
    "race_df[\"date\"] = pd.to_datetime(race_df['date'], format='%Y年%m月%d日%H時%M分')\n",
    "# もともとのtimeは不要なので削除\n",
    "race_df.drop(['time'], axis=1, inplace=True)\n",
    "\n",
    "# 何ラウンド目かのカラムに余分なRや空白・改行が含まれているので取り除く\n",
    "race_df['race_round'] = race_df['race_round'].str.strip('R \\n')"
   ]
  }
 ],
 "metadata": {
  "kernelspec": {
   "display_name": "Python 3 (ipykernel)",
   "language": "python",
   "name": "python3"
  },
  "language_info": {
   "codemirror_mode": {
    "name": "ipython",
    "version": 3
   },
   "file_extension": ".py",
   "mimetype": "text/x-python",
   "name": "python",
   "nbconvert_exporter": "python",
   "pygments_lexer": "ipython3",
   "version": "3.9.12"
  }
 },
 "nbformat": 4,
 "nbformat_minor": 5
}
