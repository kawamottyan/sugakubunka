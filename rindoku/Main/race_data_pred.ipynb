{
 "cells": [
  {
   "cell_type": "code",
   "execution_count": 1,
   "id": "b7bb64b6",
   "metadata": {},
   "outputs": [],
   "source": [
    "import numpy as np\n",
    "import pandas as pd"
   ]
  },
  {
   "cell_type": "code",
   "execution_count": 2,
   "id": "cabc04d2",
   "metadata": {},
   "outputs": [],
   "source": [
    "race_df = pd.read_csv(\"../Scraping/csv/race-2018-1.csv\", sep=\",\")\n",
    "horse_df = pd.read_csv(\"../Scraping/csv/horse-2018-1.csv\", sep=\",\")\n",
    "for year in range(2019, 2023):\n",
    "    race_tmp_df = pd.read_csv(\"../Scraping/csv/race-\"+str(year)+\"-1.csv\", sep=\",\")\n",
    "    horse_tmp_df = pd.read_csv(\"../Scraping/csv/horse-\"+str(year)+\"-1.csv\", sep=\",\")\n",
    "    race_df = pd.concat([race_df, race_tmp_df], axis=0)\n",
    "    horse_df = pd.concat([horse_df, horse_tmp_df], axis=0)"
   ]
  },
  {
   "cell_type": "markdown",
   "id": "35762eca",
   "metadata": {},
   "source": [
    "# Data Cleaning\n",
    "参照：https://github.com/unonao/race-predict/blob/master/data_clean.ipynb"
   ]
  },
  {
   "cell_type": "markdown",
   "id": "201df404",
   "metadata": {},
   "source": [
    "## race_df"
   ]
  },
  {
   "cell_type": "code",
   "execution_count": 3,
   "id": "bc118d09",
   "metadata": {},
   "outputs": [
    {
     "data": {
      "text/html": [
       "<div>\n",
       "<style scoped>\n",
       "    .dataframe tbody tr th:only-of-type {\n",
       "        vertical-align: middle;\n",
       "    }\n",
       "\n",
       "    .dataframe tbody tr th {\n",
       "        vertical-align: top;\n",
       "    }\n",
       "\n",
       "    .dataframe thead th {\n",
       "        text-align: right;\n",
       "    }\n",
       "</style>\n",
       "<table border=\"1\" class=\"dataframe\">\n",
       "  <thead>\n",
       "    <tr style=\"text-align: right;\">\n",
       "      <th></th>\n",
       "      <th>race_id</th>\n",
       "      <th>race_round</th>\n",
       "      <th>race_title</th>\n",
       "      <th>race_course</th>\n",
       "      <th>weather</th>\n",
       "      <th>ground_status</th>\n",
       "      <th>time</th>\n",
       "      <th>date</th>\n",
       "      <th>where_racecourse</th>\n",
       "      <th>total_horse_number</th>\n",
       "      <th>...</th>\n",
       "      <th>hukusyo_second</th>\n",
       "      <th>hukusyo_third</th>\n",
       "      <th>wakuren</th>\n",
       "      <th>umaren</th>\n",
       "      <th>wide_1_2</th>\n",
       "      <th>wide_1_3</th>\n",
       "      <th>wide_2_3</th>\n",
       "      <th>umatan</th>\n",
       "      <th>renhuku3</th>\n",
       "      <th>rentan3</th>\n",
       "    </tr>\n",
       "  </thead>\n",
       "  <tbody>\n",
       "    <tr>\n",
       "      <th>0</th>\n",
       "      <td>201805010101</td>\n",
       "      <td>1 R</td>\n",
       "      <td>3歳未勝利</td>\n",
       "      <td>ダ左1400m</td>\n",
       "      <td>天候 : 晴</td>\n",
       "      <td>ダート : 不良</td>\n",
       "      <td>発走 : 10:10</td>\n",
       "      <td>2018年1月27日</td>\n",
       "      <td>1回東京1日目</td>\n",
       "      <td>16</td>\n",
       "      <td>...</td>\n",
       "      <td>250</td>\n",
       "      <td>210</td>\n",
       "      <td>8,620</td>\n",
       "      <td>8,970</td>\n",
       "      <td>2,500</td>\n",
       "      <td>1,700</td>\n",
       "      <td>810</td>\n",
       "      <td>22,830</td>\n",
       "      <td>12,060</td>\n",
       "      <td>108,820</td>\n",
       "    </tr>\n",
       "    <tr>\n",
       "      <th>1</th>\n",
       "      <td>201805010102</td>\n",
       "      <td>2 R</td>\n",
       "      <td>3歳未勝利</td>\n",
       "      <td>ダ左2100m</td>\n",
       "      <td>天候 : 晴</td>\n",
       "      <td>ダート : 不良</td>\n",
       "      <td>発走 : 10:40</td>\n",
       "      <td>2018年1月27日</td>\n",
       "      <td>1回東京1日目</td>\n",
       "      <td>16</td>\n",
       "      <td>...</td>\n",
       "      <td>220</td>\n",
       "      <td>330</td>\n",
       "      <td>290</td>\n",
       "      <td>510</td>\n",
       "      <td>300</td>\n",
       "      <td>540</td>\n",
       "      <td>1,440</td>\n",
       "      <td>640</td>\n",
       "      <td>2,380</td>\n",
       "      <td>5,260</td>\n",
       "    </tr>\n",
       "  </tbody>\n",
       "</table>\n",
       "<p>2 rows × 28 columns</p>\n",
       "</div>"
      ],
      "text/plain": [
       "        race_id race_round race_title race_course weather ground_status  \\\n",
       "0  201805010101        1 R      3歳未勝利     ダ左1400m  天候 : 晴      ダート : 不良   \n",
       "1  201805010102        2 R      3歳未勝利     ダ左2100m  天候 : 晴      ダート : 不良   \n",
       "\n",
       "         time        date where_racecourse  total_horse_number  ...  \\\n",
       "0  発走 : 10:10  2018年1月27日          1回東京1日目                  16  ...   \n",
       "1  発走 : 10:40  2018年1月27日          1回東京1日目                  16  ...   \n",
       "\n",
       "   hukusyo_second  hukusyo_third  wakuren  umaren  wide_1_2  wide_1_3  \\\n",
       "0             250            210    8,620   8,970     2,500     1,700   \n",
       "1             220            330      290     510       300       540   \n",
       "\n",
       "  wide_2_3  umatan renhuku3  rentan3  \n",
       "0      810  22,830   12,060  108,820  \n",
       "1    1,440     640    2,380    5,260  \n",
       "\n",
       "[2 rows x 28 columns]"
      ]
     },
     "execution_count": 3,
     "metadata": {},
     "output_type": "execute_result"
    }
   ],
   "source": [
    "race_df.head(2)"
   ]
  },
  {
   "cell_type": "code",
   "execution_count": 4,
   "id": "c8b09337",
   "metadata": {},
   "outputs": [
    {
     "name": "stdout",
     "output_type": "stream",
     "text": [
      "<class 'pandas.core.frame.DataFrame'>\n",
      "Int64Index: 1343 entries, 0 to 271\n",
      "Data columns (total 28 columns):\n",
      " #   Column               Non-Null Count  Dtype \n",
      "---  ------               --------------  ----- \n",
      " 0   race_id              1343 non-null   int64 \n",
      " 1   race_round           1343 non-null   object\n",
      " 2   race_title           1343 non-null   object\n",
      " 3   race_course          1343 non-null   object\n",
      " 4   weather              1343 non-null   object\n",
      " 5   ground_status        1343 non-null   object\n",
      " 6   time                 1343 non-null   object\n",
      " 7   date                 1343 non-null   object\n",
      " 8   where_racecourse     1343 non-null   object\n",
      " 9   total_horse_number   1343 non-null   int64 \n",
      " 10  frame_number_first   1343 non-null   int64 \n",
      " 11  horse_number_first   1343 non-null   int64 \n",
      " 12  frame_number_second  1343 non-null   int64 \n",
      " 13  horse_number_second  1343 non-null   int64 \n",
      " 14  frame_number_third   1343 non-null   int64 \n",
      " 15  horse_number_third   1343 non-null   int64 \n",
      " 16  tansyo               1343 non-null   object\n",
      " 17  hukusyo_first        1343 non-null   object\n",
      " 18  hukusyo_second       1343 non-null   object\n",
      " 19  hukusyo_third        1343 non-null   object\n",
      " 20  wakuren              1343 non-null   object\n",
      " 21  umaren               1343 non-null   object\n",
      " 22  wide_1_2             1343 non-null   object\n",
      " 23  wide_1_3             1343 non-null   object\n",
      " 24  wide_2_3             1343 non-null   object\n",
      " 25  umatan               1343 non-null   object\n",
      " 26  renhuku3             1343 non-null   object\n",
      " 27  rentan3              1343 non-null   object\n",
      "dtypes: int64(8), object(20)\n",
      "memory usage: 304.3+ KB\n"
     ]
    }
   ],
   "source": [
    "race_df.info()"
   ]
  },
  {
   "cell_type": "markdown",
   "id": "99d05260",
   "metadata": {},
   "source": [
    "### race_round"
   ]
  },
  {
   "cell_type": "code",
   "execution_count": 5,
   "id": "f90b2a4f",
   "metadata": {},
   "outputs": [
    {
     "data": {
      "text/plain": [
       "array(['1 R', '2 R', '3 R', '6 R', '7 R', '8 R', '9 R', '11 R', '12 R',\n",
       "       '4 R', '10 R', '5 R'], dtype=object)"
      ]
     },
     "execution_count": 5,
     "metadata": {},
     "output_type": "execute_result"
    }
   ],
   "source": [
    "race_df['race_round'].unique()"
   ]
  },
  {
   "cell_type": "code",
   "execution_count": 6,
   "id": "c5dcf1ff",
   "metadata": {},
   "outputs": [],
   "source": [
    "#Rの削除\n",
    "race_df['race_round'] = race_df['race_round'].str.strip('R \\n')"
   ]
  },
  {
   "cell_type": "code",
   "execution_count": 7,
   "id": "9f66e552",
   "metadata": {},
   "outputs": [],
   "source": [
    "#数値タイプに変換\n",
    "race_df['race_round'] = race_df['race_round'].astype(int)"
   ]
  },
  {
   "cell_type": "markdown",
   "id": "3d0a8e48",
   "metadata": {},
   "source": [
    "### race_title"
   ]
  },
  {
   "cell_type": "code",
   "execution_count": 8,
   "id": "9503b967",
   "metadata": {},
   "outputs": [
    {
     "data": {
      "text/plain": [
       "array(['3歳未勝利', '3歳新馬', '4歳以上500万下', '3歳500万下', '4歳以上1000万下', '銀蹄ステークス ',\n",
       "       '第32回根岸ステークス(G3)', '金蹄ステークス ', 'バレンタインS ', '白嶺ステークス ',\n",
       "       'ヒヤシンスステークス ', '第35回フェブラリーS(G1)', '大島特別 ', 'オアシスステークス ',\n",
       "       '鎌倉ステークス ', '春光ステークス ', '立夏ステークス ', 'ブリリアントS ', '立川特別 ',\n",
       "       '青竜ステークス ', 'BSイレブン賞 ', '是政特別 ', '日吉特別 ', '丹沢ステークス ', '富嶽賞 ',\n",
       "       '欅ステークス ', '薫風ステークス ', '3歳以上500万下', '麦秋ステークス ', '三浦特別 ', '八王子特別 ',\n",
       "       'アハルテケステークス ', '小金井特別 ', '2歳新馬', '青梅特別 ', '第23回ユニコーンステークス(G3)',\n",
       "       '日野特別 ', '夏至ステークス ', '清里特別 ', '2歳未勝利', '西湖特別 ', 'テレビ静岡賞 ',\n",
       "       '3歳以上1000万下', 'グリーンチャンネルC ', 'プラタナス賞 ', '赤富士ステークス ', '秋嶺ステークス ',\n",
       "       'ブラジルカップ ', '神無月ステークス ', '河口湖特別 ', '三峰山特別 ', '晩秋ステークス ', 'オキザリス賞 ',\n",
       "       '第23回東京中日S杯武蔵野S(G3)', '伊勢佐木特別 ', '錦秋ステークス ', '霜月ステークス ', 'カトレア賞 ',\n",
       "       '銀嶺ステークス ', 'シャングリラ賞 ', '第33回根岸ステークス(G3)', 'ヒヤシンスステークス(L)',\n",
       "       '第36回フェブラリーS(G1)', 'オアシスステークス(L)', 'ブリリアントS(L)', '3歳以上1勝クラス',\n",
       "       'スレイプニルS ', '第24回ユニコーンステークス(G3)', '3歳以上2勝クラス', 'グリーンチャンネルC(L)',\n",
       "       '昇仙峡特別 ', 'ブラジルカップ(L)', '第24回東京中日S杯武蔵野S(G3)', '3歳1勝クラス',\n",
       "       '4歳以上1勝クラス', '4歳以上2勝クラス', '第34回根岸ステークス(G3)', '第37回フェブラリーS(G1)',\n",
       "       '第25回ユニコーンステークス(G3)', '第25回東京中日S杯武蔵野S(G3)', '秋色ステークス ', '東村山特別 ',\n",
       "       'カトレアステークス ', '第35回根岸ステークス(G3)', '第38回フェブラリーS(G1)',\n",
       "       '第26回ユニコーンステークス(G3)', '甲州街道ステークス ', '第26回東京中日S杯武蔵野S(G3)',\n",
       "       'シャングリラS ', 'アプローズ賞 ', '第36回根岸ステークス(G3)', '第39回フェブラリーS(G1)',\n",
       "       '横浜ステークス ', '第27回ユニコーンステークス(G3)', 'ペルセウスステークス ', '神奈川新聞杯 ',\n",
       "       '第27回東京中日S杯武蔵野S(G3)'], dtype=object)"
      ]
     },
     "execution_count": 8,
     "metadata": {},
     "output_type": "execute_result"
    }
   ],
   "source": [
    "race_df['race_title'].unique()"
   ]
  },
  {
   "cell_type": "markdown",
   "id": "f2df74ae",
   "metadata": {},
   "source": [
    "### race_course"
   ]
  },
  {
   "cell_type": "code",
   "execution_count": 9,
   "id": "94dba46e",
   "metadata": {},
   "outputs": [
    {
     "data": {
      "text/plain": [
       "array(['ダ左1400m', 'ダ左2100m', 'ダ左1600m', 'ダ左1300m'], dtype=object)"
      ]
     },
     "execution_count": 9,
     "metadata": {},
     "output_type": "execute_result"
    }
   ],
   "source": [
    "race_df[\"race_course\"].unique()"
   ]
  },
  {
   "cell_type": "code",
   "execution_count": 10,
   "id": "c9b00794",
   "metadata": {},
   "outputs": [],
   "source": [
    "#obstacle = race_df[\"race_course\"].str.extract('(障)', expand=True)\n",
    "#ground_type = race_df[\"race_course\"].str.extract('(ダ)', expand=True)\n",
    "\n",
    "#各文字の抜き出し\n",
    "is_left_right_straight = race_df[\"race_course\"].str.extract('(左|右|直線)', expand=True)\n",
    "distance = race_df[\"race_course\"].str.extract('(\\d+)m', expand=True)\n",
    "\n",
    "is_left_right_straight.columns = {\"is_left_right_straight\"}\n",
    "distance.columns = {\"distance\"}\n",
    "\n",
    "race_df = pd.concat([race_df, is_left_right_straight], axis=1)\n",
    "race_df = pd.concat([race_df, distance], axis=1)\n",
    "race_df[\"distance\"] = race_df[\"distance\"].astype(int)"
   ]
  },
  {
   "cell_type": "code",
   "execution_count": 11,
   "id": "db6158bd",
   "metadata": {},
   "outputs": [],
   "source": [
    "#コースのカラム削除\n",
    "race_df.drop(['race_course'], axis=1, inplace=True)"
   ]
  },
  {
   "cell_type": "markdown",
   "id": "477e5b3a",
   "metadata": {},
   "source": [
    "### weather"
   ]
  },
  {
   "cell_type": "code",
   "execution_count": 12,
   "id": "95e10548",
   "metadata": {},
   "outputs": [
    {
     "data": {
      "text/plain": [
       "array(['天候 : 晴', '天候 : 曇', '天候 : 雨', '天候 : 小雨'], dtype=object)"
      ]
     },
     "execution_count": 12,
     "metadata": {},
     "output_type": "execute_result"
    }
   ],
   "source": [
    "race_df[\"weather\"].unique()"
   ]
  },
  {
   "cell_type": "markdown",
   "id": "ed92b235",
   "metadata": {},
   "source": [
    "### ground_status"
   ]
  },
  {
   "cell_type": "code",
   "execution_count": 13,
   "id": "6130ffa9",
   "metadata": {
    "scrolled": true
   },
   "outputs": [
    {
     "data": {
      "text/plain": [
       "array(['ダート : 不良', 'ダート : 重', 'ダート : 良', 'ダート : 稍重'], dtype=object)"
      ]
     },
     "execution_count": 13,
     "metadata": {},
     "output_type": "execute_result"
    }
   ],
   "source": [
    "race_df[\"ground_status\"].unique()"
   ]
  },
  {
   "cell_type": "markdown",
   "id": "cdd85f72",
   "metadata": {},
   "source": [
    "### time"
   ]
  },
  {
   "cell_type": "code",
   "execution_count": 14,
   "id": "623fe239",
   "metadata": {},
   "outputs": [
    {
     "data": {
      "text/plain": [
       "array(['発走 : 10:10', '発走 : 10:40', '発走 : 11:10', '発走 : 13:00',\n",
       "       '発走 : 13:30', '発走 : 14:01', '発走 : 14:35\\r\\n\\r\\n過去の銀蹄ステークス',\n",
       "       '発走 : 13:05', '発走 : 13:35', '発走 : 14:05',\n",
       "       '発走 : 15:45\\r\\n\\r\\n過去の根岸ステークス', '発走 : 11:00', '発走 : 11:30',\n",
       "       '発走 : 12:01', '発走 : 16:25', '発走 : 11:40',\n",
       "       '発走 : 15:10\\r\\n\\r\\n過去の金蹄ステークス', '発走 : 15:10\\r\\n\\r\\n過去のバレンタインS',\n",
       "       '発走 : 15:10\\r\\n\\r\\n過去の白嶺ステークス', '発走 : 10:05', '発走 : 10:35',\n",
       "       '発走 : 11:05', '発走 : 13:25', '発走 : 14:25\\r\\n\\r\\n過去のヒヤシンスステークス',\n",
       "       '発走 : 15:40\\r\\n\\r\\n過去のフェブラリーS', '発走 : 16:25\\r\\n\\r\\n過去の大島特別',\n",
       "       '発走 : 15:45\\r\\n\\r\\n過去のオアシスステークス', '発走 : 10:45',\n",
       "       '発走 : 15:10\\r\\n\\r\\n過去の鎌倉ステークス', '発走 : 10:15', '発走 : 11:15',\n",
       "       '発走 : 15:10\\r\\n\\r\\n過去の春光ステークス', '発走 : 09:55', '発走 : 10:25',\n",
       "       '発走 : 10:55', '発走 : 12:45', '発走 : 13:45', '発走 : 16:10',\n",
       "       '発走 : 14:35\\r\\n\\r\\n過去の立夏ステークス', '発走 : 12:25',\n",
       "       '発走 : 15:01\\r\\n\\r\\n過去のブリリアントS', '発走 : 16:25\\r\\n\\r\\n過去の立川特別',\n",
       "       '発走 : 12:55', '発走 : 10:30', '発走 : 15:01\\r\\n\\r\\n過去の青竜ステークス',\n",
       "       '発走 : 16:25\\r\\n\\r\\n過去のBSイレブン賞', '発走 : 11:45',\n",
       "       '発走 : 15:10\\r\\n\\r\\n過去の是政特別', '発走 : 12:20',\n",
       "       '発走 : 13:50\\r\\n\\r\\n過去の日吉特別', '発走 : 16:30\\r\\n\\r\\n過去の丹沢ステークス',\n",
       "       '発走 : 14:35\\r\\n\\r\\n過去の富嶽賞', '発走 : 15:45\\r\\n\\r\\n過去の欅ステークス',\n",
       "       '発走 : 12:35', '発走 : 16:30\\r\\n\\r\\n過去の薫風ステークス',\n",
       "       '発走 : 15:45\\r\\n\\r\\n過去の麦秋ステークス', '発走 : 13:55',\n",
       "       '発走 : 16:25\\r\\n\\r\\n過去の三浦特別', '発走 : 14:35\\r\\n\\r\\n過去の八王子特別',\n",
       "       '発走 : 15:45\\r\\n\\r\\n過去のアハルテケステークス', '発走 : 14:35\\r\\n\\r\\n過去の小金井特別',\n",
       "       '発走 : 12:30', '発走 : 16:30', '発走 : 15:10\\r\\n\\r\\n過去の青梅特別',\n",
       "       '発走 : 15:45\\r\\n\\r\\n過去のユニコーンステークス', '発走 : 11:35',\n",
       "       '発走 : 14:35\\r\\n\\r\\n過去の日野特別', '発走 : 15:45\\r\\n\\r\\n過去の夏至ステークス',\n",
       "       '発走 : 14:50\\r\\n\\r\\n過去の清里特別', '発走 : 16:15',\n",
       "       '発走 : 15:10\\r\\n\\r\\n過去の西湖特別', '発走 : 15:10\\r\\n\\r\\n過去のテレビ静岡賞',\n",
       "       '発走 : 15:45\\r\\n\\r\\n過去のグリーンチャンネルC', '発走 : 14:35\\r\\n\\r\\n過去のプラタナス賞',\n",
       "       '発走 : 10:20', '発走 : 12:10', '発走 : 12:40', '発走 : 13:10',\n",
       "       '発走 : 14:50\\r\\n\\r\\n過去の赤富士ステークス', '発走 : 15:10\\r\\n\\r\\n過去の秋嶺ステークス',\n",
       "       '発走 : 12:15', '発走 : 13:15', '発走 : 15:30\\r\\n\\r\\n過去のブラジルカップ',\n",
       "       '発走 : 15:10\\r\\n\\r\\n過去の神無月ステークス', '発走 : 16:20', '発走 : 12:50',\n",
       "       '発走 : 14:25\\r\\n\\r\\n過去の河口湖特別', '発走 : 16:30\\r\\n\\r\\n過去の三峰山特別',\n",
       "       '発走 : 10:00', '発走 : 11:20', '発走 : 14:50\\r\\n\\r\\n過去の晩秋ステークス',\n",
       "       '発走 : 14:20\\r\\n\\r\\n過去のオキザリス賞', '発走 : 15:30\\r\\n\\r\\n過去の東京中日S杯武蔵野S',\n",
       "       '発走 : 16:05', '発走 : 14:20\\r\\n\\r\\n過去の伊勢佐木特別', '発走 : 10:50',\n",
       "       '発走 : 14:50\\r\\n\\r\\n過去の錦秋ステークス', '発走 : 15:30\\r\\n\\r\\n過去の霜月ステークス',\n",
       "       '発走 : 09:50', '発走 : 13:40', '発走 : 14:15\\r\\n\\r\\n過去のカトレア賞',\n",
       "       '発走 : 14:50\\r\\n\\r\\n過去の銀嶺ステークス', '発走 : 14:25\\r\\n\\r\\n過去のシャングリラ賞',\n",
       "       '発走 : 14:35\\r\\n\\r\\n過去の白嶺ステークス', '発走 : 15:10\\r\\n\\r\\n過去の銀蹄ステークス',\n",
       "       '発走 : 14:00', '発走 : 12:00', '発走 : 14:10',\n",
       "       '発走 : 14:25\\r\\n\\r\\n過去の青竜ステークス', '発走 : 14:25\\r\\n\\r\\n過去の日吉特別',\n",
       "       '発走 : 16:25\\r\\n\\r\\n過去の丹沢ステークス', '発走 : 09:40',\n",
       "       '発走 : 14:15\\r\\n\\r\\n過去の薫風ステークス', '発走 : 15:45\\r\\n\\r\\n過去のスレイプニルS',\n",
       "       '発走 : 15:01\\r\\n\\r\\n過去の麦秋ステークス', '発走 : 15:10\\r\\n\\r\\n過去の八王子特別',\n",
       "       '発走 : 14:35\\r\\n\\r\\n過去の青梅特別', '発走 : 14:15\\r\\n\\r\\n過去の清里特別',\n",
       "       '発走 : 14:50\\r\\n\\r\\n過去の夏至ステークス', '発走 : 15:10\\r\\n\\r\\n過去のグリーンチャンネルC',\n",
       "       '発走 : 14:30\\r\\n\\r\\n過去の三峰山特別', '発走 : 15:05\\r\\n\\r\\n過去のテレビ静岡賞',\n",
       "       '発走 : 14:35\\r\\n\\r\\n過去の昇仙峡特別', '発走 : 15:10\\r\\n\\r\\n過去の赤富士ステークス',\n",
       "       '発走 : 16:25\\r\\n\\r\\n過去の西湖特別', '発走 : 13:20',\n",
       "       '発走 : 15:01\\r\\n\\r\\n過去の錦秋ステークス', '発走 : 11:25', '発走 : 14:35',\n",
       "       '発走 : 13:01', '発走 : 14:35\\r\\n\\r\\n過去の日吉特別',\n",
       "       '発走 : 14:25\\r\\n\\r\\n過去の丹沢ステークス', '発走 : 16:25\\r\\n\\r\\n過去の是政特別',\n",
       "       '発走 : 16:30\\r\\n\\r\\n過去の小金井特別', '発走 : 15:10\\r\\n\\r\\n過去の三浦特別',\n",
       "       '発走 : 14:35\\r\\n\\r\\n過去の清里特別', '発走 : 14:15\\r\\n\\r\\n過去の日野特別',\n",
       "       '発走 : 14:50\\r\\n\\r\\n過去のテレビ静岡賞', '発走 : 15:01\\r\\n\\r\\n過去の秋嶺ステークス',\n",
       "       '発走 : 16:25\\r\\n\\r\\n過去の河口湖特別', '発走 : 13:50',\n",
       "       '発走 : 14:50\\r\\n\\r\\n過去の秋色ステークス', '発走 : 14:15\\r\\n\\r\\n過去の西湖特別',\n",
       "       '発走 : 14:50\\r\\n\\r\\n過去の伊勢佐木特別', '発走 : 15:25\\r\\n\\r\\n過去の霜月ステークス',\n",
       "       '発走 : 14:15\\r\\n\\r\\n過去の東村山特別', '発走 : 14:15\\r\\n\\r\\n過去のカトレアステークス',\n",
       "       '発走 : 09:31', '発走 : 13:50\\r\\n\\r\\n過去の是政特別',\n",
       "       '発走 : 15:10\\r\\n\\r\\n過去の夏至ステークス', '発走 : 16:40',\n",
       "       '発走 : 15:10\\r\\n\\r\\n過去の日野特別', '発走 : 14:50\\r\\n\\r\\n過去の甲州街道ステークス',\n",
       "       '発走 : 14:35\\r\\n\\r\\n過去の伊勢佐木特別', '発走 : 14:15\\r\\n\\r\\n過去の銀嶺ステークス',\n",
       "       '発走 : 14:20\\r\\n\\r\\n過去の晩秋ステークス', '発走 : 14:50\\r\\n\\r\\n過去のシャングリラS',\n",
       "       '発走 : 14:25\\r\\n\\r\\n過去のアプローズ賞', '発走 : 14:35\\r\\n\\r\\n過去の横浜ステークス',\n",
       "       '発走 : 14:50\\r\\n\\r\\n過去のブリリアントS', '発走 : 15:10\\r\\n\\r\\n過去の立夏ステークス',\n",
       "       '発走 : 16:40\\r\\n\\r\\n過去の丹沢ステークス', '発走 : 14:35\\r\\n\\r\\n過去の三浦特別',\n",
       "       '発走 : 15:01\\r\\n\\r\\n過去のペルセウスステークス', '発走 : 16:25\\r\\n\\r\\n過去の秋嶺ステークス',\n",
       "       '発走 : 14:25\\r\\n\\r\\n過去の神奈川新聞杯', '発走 : 14:25\\r\\n\\r\\n過去の晩秋ステークス',\n",
       "       '発走 : 14:15'], dtype=object)"
      ]
     },
     "execution_count": 14,
     "metadata": {},
     "output_type": "execute_result"
    }
   ],
   "source": [
    "race_df[\"time\"].unique()"
   ]
  },
  {
   "cell_type": "code",
   "execution_count": 15,
   "id": "72d566b4",
   "metadata": {},
   "outputs": [],
   "source": [
    "hour = race_df[\"time\"].str.extract('(\\d\\d)', expand=True)\n",
    "hour.columns = {\"hour\"}\n",
    "race_df = pd.concat([race_df, hour], axis=1)\n",
    "race_df[\"hour\"] = race_df[\"hour\"].astype(int)"
   ]
  },
  {
   "cell_type": "code",
   "execution_count": 16,
   "id": "207313b3",
   "metadata": {},
   "outputs": [],
   "source": [
    "#タイムのカラム削除\n",
    "race_df.drop(['time'], axis=1, inplace=True)"
   ]
  },
  {
   "cell_type": "markdown",
   "id": "8b8425f5",
   "metadata": {},
   "source": [
    "### date"
   ]
  },
  {
   "cell_type": "code",
   "execution_count": 17,
   "id": "744aa2d7",
   "metadata": {},
   "outputs": [
    {
     "data": {
      "text/plain": [
       "array(['2018年1月27日', '2018年1月28日', '2018年2月3日', '2018年2月4日', '2018年2月11日',\n",
       "       '2018年2月12日', '2018年2月17日', '2018年2月18日', '2018年4月21日',\n",
       "       '2018年4月22日', '2018年4月28日', '2018年4月29日', '2018年5月5日', '2018年5月6日',\n",
       "       '2018年5月12日', '2018年5月13日', '2018年5月19日', '2018年5月20日',\n",
       "       '2018年5月26日', '2018年5月27日', '2018年6月2日', '2018年6月3日', '2018年6月9日',\n",
       "       '2018年6月10日', '2018年6月16日', '2018年6月17日', '2018年6月23日',\n",
       "       '2018年6月24日', '2018年10月6日', '2018年10月7日', '2018年10月8日',\n",
       "       '2018年10月13日', '2018年10月14日', '2018年10月20日', '2018年10月21日',\n",
       "       '2018年10月27日', '2018年10月28日', '2018年11月3日', '2018年11月4日',\n",
       "       '2018年11月10日', '2018年11月11日', '2018年11月17日', '2018年11月18日',\n",
       "       '2018年11月24日', '2018年11月25日', '2019年1月26日', '2019年1月27日',\n",
       "       '2019年2月2日', '2019年2月3日', '2019年2月11日', '2019年2月10日', '2019年2月16日',\n",
       "       '2019年2月17日', '2019年4月20日', '2019年4月21日', '2019年4月27日',\n",
       "       '2019年4月28日', '2019年5月4日', '2019年5月5日', '2019年5月11日', '2019年5月12日',\n",
       "       '2019年5月18日', '2019年5月19日', '2019年5月25日', '2019年5月26日',\n",
       "       '2019年6月1日', '2019年6月2日', '2019年6月8日', '2019年6月9日', '2019年6月15日',\n",
       "       '2019年6月16日', '2019年6月22日', '2019年6月23日', '2019年10月5日',\n",
       "       '2019年10月6日', '2019年10月15日', '2019年10月21日', '2019年10月14日',\n",
       "       '2019年10月19日', '2019年10月20日', '2019年10月26日', '2019年10月27日',\n",
       "       '2019年11月2日', '2019年11月3日', '2019年11月9日', '2019年11月10日',\n",
       "       '2019年11月16日', '2019年11月17日', '2019年11月23日', '2019年11月24日',\n",
       "       '2020年2月1日', '2020年2月2日', '2020年2月8日', '2020年2月9日', '2020年2月15日',\n",
       "       '2020年2月16日', '2020年2月22日', '2020年2月23日', '2020年4月25日',\n",
       "       '2020年4月26日', '2020年5月2日', '2020年5月3日', '2020年5月9日', '2020年5月10日',\n",
       "       '2020年5月16日', '2020年5月17日', '2020年5月23日', '2020年5月24日',\n",
       "       '2020年5月30日', '2020年5月31日', '2020年6月6日', '2020年6月7日', '2020年6月13日',\n",
       "       '2020年6月14日', '2020年6月20日', '2020年6月21日', '2020年6月27日',\n",
       "       '2020年6月28日', '2020年10月10日', '2020年10月11日', '2020年10月17日',\n",
       "       '2020年10月18日', '2020年10月24日', '2020年10月25日', '2020年10月31日',\n",
       "       '2020年11月1日', '2020年11月7日', '2020年11月8日', '2020年11月14日',\n",
       "       '2020年11月15日', '2020年11月21日', '2020年11月22日', '2020年11月23日',\n",
       "       '2020年11月28日', '2020年11月29日', '2021年1月30日', '2021年1月31日',\n",
       "       '2021年2月6日', '2021年2月7日', '2021年2月13日', '2021年2月14日', '2021年2月20日',\n",
       "       '2021年2月21日', '2021年4月24日', '2021年4月25日', '2021年5月1日', '2021年5月2日',\n",
       "       '2021年5月8日', '2021年5月9日', '2021年5月15日', '2021年5月16日', '2021年5月22日',\n",
       "       '2021年5月23日', '2021年5月29日', '2021年5月30日', '2021年6月5日', '2021年6月6日',\n",
       "       '2021年6月12日', '2021年6月13日', '2021年6月19日', '2021年6月20日',\n",
       "       '2021年6月26日', '2021年6月27日', '2021年10月9日', '2021年10月10日',\n",
       "       '2021年10月16日', '2021年10月17日', '2021年10月23日', '2021年10月24日',\n",
       "       '2021年10月30日', '2021年10月31日', '2021年11月6日', '2021年11月7日',\n",
       "       '2021年11月13日', '2021年11月14日', '2021年11月20日', '2021年11月21日',\n",
       "       '2021年11月27日', '2021年11月28日', '2022年1月29日', '2022年1月30日',\n",
       "       '2022年2月5日', '2022年2月6日', '2022年2月12日', '2022年2月13日', '2022年2月19日',\n",
       "       '2022年2月20日', '2022年4月23日', '2022年4月24日', '2022年4月30日',\n",
       "       '2022年5月1日', '2022年5月7日', '2022年5月8日', '2022年5月14日', '2022年5月15日',\n",
       "       '2022年5月21日', '2022年5月22日', '2022年5月28日', '2022年5月29日',\n",
       "       '2022年6月4日', '2022年6月5日', '2022年6月11日', '2022年6月12日', '2022年6月18日',\n",
       "       '2022年6月19日', '2022年6月25日', '2022年6月26日', '2022年10月8日',\n",
       "       '2022年10月9日', '2022年10月10日', '2022年10月15日', '2022年10月16日',\n",
       "       '2022年10月22日', '2022年10月23日', '2022年10月29日', '2022年10月30日',\n",
       "       '2022年11月5日', '2022年11月6日', '2022年11月12日', '2022年11月13日',\n",
       "       '2022年11月19日', '2022年11月20日', '2022年11月26日', '2022年11月27日'],\n",
       "      dtype=object)"
      ]
     },
     "execution_count": 17,
     "metadata": {},
     "output_type": "execute_result"
    }
   ],
   "source": [
    "race_df[\"date\"].unique()"
   ]
  },
  {
   "cell_type": "markdown",
   "id": "45ff8bcd",
   "metadata": {},
   "source": [
    "### where_racecourse"
   ]
  },
  {
   "cell_type": "code",
   "execution_count": 18,
   "id": "6b4423f5",
   "metadata": {
    "scrolled": true
   },
   "outputs": [
    {
     "data": {
      "text/plain": [
       "array(['1回東京1日目', '1回東京2日目', '1回東京3日目', '1回東京4日目', '1回東京5日目', '1回東京6日目',\n",
       "       '1回東京7日目', '1回東京8日目', '2回東京1日目', '2回東京2日目', '2回東京3日目', '2回東京4日目',\n",
       "       '2回東京5日目', '2回東京6日目', '2回東京7日目', '2回東京8日目', '2回東京9日目', '2回東京10日目',\n",
       "       '2回東京11日目', '2回東京12日目', '3回東京1日目', '3回東京2日目', '3回東京3日目', '3回東京4日目',\n",
       "       '3回東京5日目', '3回東京6日目', '3回東京7日目', '3回東京8日目', '4回東京1日目', '4回東京2日目',\n",
       "       '4回東京3日目', '4回東京4日目', '4回東京5日目', '4回東京6日目', '4回東京7日目', '4回東京8日目',\n",
       "       '4回東京9日目', '5回東京1日目', '5回東京2日目', '5回東京3日目', '5回東京4日目', '5回東京5日目',\n",
       "       '5回東京6日目', '5回東京7日目', '5回東京8日目', '5回東京9日目'], dtype=object)"
      ]
     },
     "execution_count": 18,
     "metadata": {},
     "output_type": "execute_result"
    }
   ],
   "source": [
    "race_df[\"where_racecourse\"].unique()"
   ]
  },
  {
   "cell_type": "code",
   "execution_count": 19,
   "id": "299671b0",
   "metadata": {},
   "outputs": [
    {
     "name": "stderr",
     "output_type": "stream",
     "text": [
      "C:\\Users\\kawam\\AppData\\Local\\Temp\\ipykernel_22020\\3042939588.py:1: FutureWarning: The default value of regex will change from True to False in a future version.\n",
      "  race_df[\"where_racecourse\"] = race_df[\"where_racecourse\"].str.replace('\\d*回(..)\\d*日目', r'\\1')\n"
     ]
    }
   ],
   "source": [
    "race_df[\"where_racecourse\"] = race_df[\"where_racecourse\"].str.replace('\\d*回(..)\\d*日目', r'\\1')"
   ]
  },
  {
   "cell_type": "markdown",
   "id": "31d08579",
   "metadata": {},
   "source": [
    "### その他"
   ]
  },
  {
   "cell_type": "code",
   "execution_count": 20,
   "id": "f190121f",
   "metadata": {},
   "outputs": [],
   "source": [
    "#,を抜いてint型に\n",
    "race_df['tansyo'] = race_df['tansyo'].apply(lambda x: int(x.replace(\",\", \"\")) if type(x) is str else int(x))\n",
    "race_df['hukusyo_first'] = race_df['hukusyo_first'].apply(lambda x: int(x.replace(\",\", \"\")) if type(x) is str else int(x))\n",
    "race_df['hukusyo_second'] = race_df['hukusyo_second'].apply(lambda x: int(x.replace(\",\", \"\")) if type(x) is str else int(x))\n",
    "race_df['hukusyo_third'] = race_df['hukusyo_third'].apply(lambda x: int(x.replace(\",\", \"\")) if type(x) is str else int(x))\n",
    "race_df['wakuren'] = race_df['wakuren'].apply(lambda x: int(x.replace(\",\", \"\")) if type(x) is str else int(x))\n",
    "race_df['umaren'] = race_df['umaren'].apply(lambda x: int(x.replace(\",\", \"\")) if type(x) is str else int(x))\n",
    "race_df['wide_1_2'] = race_df['wide_1_2'].apply(lambda x: int(x.replace(\",\", \"\")) if type(x) is str else int(x))\n",
    "race_df['wide_1_3'] = race_df['wide_1_3'].apply(lambda x: int(x.replace(\",\", \"\")) if type(x) is str else int(x))\n",
    "race_df['wide_2_3'] = race_df['wide_2_3'].apply(lambda x: int(x.replace(\",\", \"\")) if type(x) is str else int(x))\n",
    "race_df['umatan'] = race_df['umatan'].apply(lambda x: int(x.replace(\",\", \"\")) if type(x) is str else int(x))\n",
    "race_df['renhuku3'] = race_df['renhuku3'].apply(lambda x: int(x.replace(\",\", \"\")) if type(x) is str else int(x))\n",
    "race_df['rentan3'] = race_df['rentan3'].apply(lambda x: int(x.replace(\",\", \"\")) if type(x) is str else int(x))"
   ]
  },
  {
   "cell_type": "code",
   "execution_count": 21,
   "id": "74ac5d07",
   "metadata": {
    "scrolled": true
   },
   "outputs": [
    {
     "name": "stdout",
     "output_type": "stream",
     "text": [
      "<class 'pandas.core.frame.DataFrame'>\n",
      "Int64Index: 1343 entries, 0 to 271\n",
      "Data columns (total 29 columns):\n",
      " #   Column                  Non-Null Count  Dtype \n",
      "---  ------                  --------------  ----- \n",
      " 0   race_id                 1343 non-null   int64 \n",
      " 1   race_round              1343 non-null   int32 \n",
      " 2   race_title              1343 non-null   object\n",
      " 3   weather                 1343 non-null   object\n",
      " 4   ground_status           1343 non-null   object\n",
      " 5   date                    1343 non-null   object\n",
      " 6   where_racecourse        1343 non-null   object\n",
      " 7   total_horse_number      1343 non-null   int64 \n",
      " 8   frame_number_first      1343 non-null   int64 \n",
      " 9   horse_number_first      1343 non-null   int64 \n",
      " 10  frame_number_second     1343 non-null   int64 \n",
      " 11  horse_number_second     1343 non-null   int64 \n",
      " 12  frame_number_third      1343 non-null   int64 \n",
      " 13  horse_number_third      1343 non-null   int64 \n",
      " 14  tansyo                  1343 non-null   int64 \n",
      " 15  hukusyo_first           1343 non-null   int64 \n",
      " 16  hukusyo_second          1343 non-null   int64 \n",
      " 17  hukusyo_third           1343 non-null   int64 \n",
      " 18  wakuren                 1343 non-null   int64 \n",
      " 19  umaren                  1343 non-null   int64 \n",
      " 20  wide_1_2                1343 non-null   int64 \n",
      " 21  wide_1_3                1343 non-null   int64 \n",
      " 22  wide_2_3                1343 non-null   int64 \n",
      " 23  umatan                  1343 non-null   int64 \n",
      " 24  renhuku3                1343 non-null   int64 \n",
      " 25  rentan3                 1343 non-null   int64 \n",
      " 26  is_left_right_straight  1343 non-null   object\n",
      " 27  distance                1343 non-null   int32 \n",
      " 28  hour                    1343 non-null   int32 \n",
      "dtypes: int32(3), int64(20), object(6)\n",
      "memory usage: 299.0+ KB\n"
     ]
    }
   ],
   "source": [
    "race_df.info()"
   ]
  },
  {
   "cell_type": "markdown",
   "id": "3c9fd763",
   "metadata": {},
   "source": [
    "## horse_df"
   ]
  },
  {
   "cell_type": "code",
   "execution_count": 22,
   "id": "2209cf5f",
   "metadata": {},
   "outputs": [
    {
     "data": {
      "text/html": [
       "<div>\n",
       "<style scoped>\n",
       "    .dataframe tbody tr th:only-of-type {\n",
       "        vertical-align: middle;\n",
       "    }\n",
       "\n",
       "    .dataframe tbody tr th {\n",
       "        vertical-align: top;\n",
       "    }\n",
       "\n",
       "    .dataframe thead th {\n",
       "        text-align: right;\n",
       "    }\n",
       "</style>\n",
       "<table border=\"1\" class=\"dataframe\">\n",
       "  <thead>\n",
       "    <tr style=\"text-align: right;\">\n",
       "      <th></th>\n",
       "      <th>race_id</th>\n",
       "      <th>rank</th>\n",
       "      <th>frame_number</th>\n",
       "      <th>horse_number</th>\n",
       "      <th>horse_id</th>\n",
       "      <th>sex_and_age</th>\n",
       "      <th>burden_weight</th>\n",
       "      <th>rider_id</th>\n",
       "      <th>goal_time</th>\n",
       "      <th>goal_time_dif</th>\n",
       "      <th>time_value</th>\n",
       "      <th>half_way_rank</th>\n",
       "      <th>last_time</th>\n",
       "      <th>odds</th>\n",
       "      <th>popular</th>\n",
       "      <th>horse_weight</th>\n",
       "      <th>tame_time</th>\n",
       "      <th>tamer_id</th>\n",
       "      <th>owner_id</th>\n",
       "    </tr>\n",
       "  </thead>\n",
       "  <tbody>\n",
       "    <tr>\n",
       "      <th>0</th>\n",
       "      <td>201805010101</td>\n",
       "      <td>1</td>\n",
       "      <td>3</td>\n",
       "      <td>6</td>\n",
       "      <td>2015100407</td>\n",
       "      <td>牝3</td>\n",
       "      <td>54.0</td>\n",
       "      <td>1077</td>\n",
       "      <td>1:28.0</td>\n",
       "      <td>NaN</td>\n",
       "      <td>\\r\\n\\r\\n**\\r\\n\\r\\n</td>\n",
       "      <td>2-2</td>\n",
       "      <td>39.6</td>\n",
       "      <td>22.9</td>\n",
       "      <td>8.0</td>\n",
       "      <td>450(+2)</td>\n",
       "      <td>\\r\\n\\r\\n</td>\n",
       "      <td>1076</td>\n",
       "      <td>843030</td>\n",
       "    </tr>\n",
       "    <tr>\n",
       "      <th>1</th>\n",
       "      <td>201805010101</td>\n",
       "      <td>2</td>\n",
       "      <td>1</td>\n",
       "      <td>1</td>\n",
       "      <td>2015100131</td>\n",
       "      <td>牝3</td>\n",
       "      <td>54.0</td>\n",
       "      <td>422</td>\n",
       "      <td>1:28.3</td>\n",
       "      <td>2</td>\n",
       "      <td>\\r\\n\\r\\n**\\r\\n\\r\\n</td>\n",
       "      <td>1-1</td>\n",
       "      <td>40.0</td>\n",
       "      <td>5.8</td>\n",
       "      <td>4.0</td>\n",
       "      <td>474(+12)</td>\n",
       "      <td>\\r\\n\\r\\n</td>\n",
       "      <td>1079</td>\n",
       "      <td>399030</td>\n",
       "    </tr>\n",
       "  </tbody>\n",
       "</table>\n",
       "</div>"
      ],
      "text/plain": [
       "        race_id rank  frame_number  horse_number    horse_id sex_and_age  \\\n",
       "0  201805010101    1             3             6  2015100407          牝3   \n",
       "1  201805010101    2             1             1  2015100131          牝3   \n",
       "\n",
       "   burden_weight  rider_id goal_time goal_time_dif          time_value  \\\n",
       "0           54.0      1077    1:28.0           NaN  \\r\\n\\r\\n**\\r\\n\\r\\n   \n",
       "1           54.0       422    1:28.3             2  \\r\\n\\r\\n**\\r\\n\\r\\n   \n",
       "\n",
       "  half_way_rank  last_time  odds  popular horse_weight tame_time  tamer_id  \\\n",
       "0           2-2       39.6  22.9      8.0      450(+2)  \\r\\n\\r\\n      1076   \n",
       "1           1-1       40.0   5.8      4.0     474(+12)  \\r\\n\\r\\n      1079   \n",
       "\n",
       "   owner_id  \n",
       "0    843030  \n",
       "1    399030  "
      ]
     },
     "execution_count": 22,
     "metadata": {},
     "output_type": "execute_result"
    }
   ],
   "source": [
    "horse_df.head(2)"
   ]
  },
  {
   "cell_type": "code",
   "execution_count": 23,
   "id": "f7bc1e3c",
   "metadata": {
    "scrolled": true
   },
   "outputs": [
    {
     "name": "stdout",
     "output_type": "stream",
     "text": [
      "<class 'pandas.core.frame.DataFrame'>\n",
      "Int64Index: 20337 entries, 0 to 4087\n",
      "Data columns (total 19 columns):\n",
      " #   Column         Non-Null Count  Dtype  \n",
      "---  ------         --------------  -----  \n",
      " 0   race_id        20337 non-null  int64  \n",
      " 1   rank           20337 non-null  object \n",
      " 2   frame_number   20337 non-null  int64  \n",
      " 3   horse_number   20337 non-null  int64  \n",
      " 4   horse_id       20337 non-null  int64  \n",
      " 5   sex_and_age    20337 non-null  object \n",
      " 6   burden_weight  20337 non-null  float64\n",
      " 7   rider_id       20337 non-null  int64  \n",
      " 8   goal_time      20196 non-null  object \n",
      " 9   goal_time_dif  18853 non-null  object \n",
      " 10  time_value     20337 non-null  object \n",
      " 11  half_way_rank  20226 non-null  object \n",
      " 12  last_time      20196 non-null  float64\n",
      " 13  odds           20337 non-null  object \n",
      " 14  popular        20250 non-null  float64\n",
      " 15  horse_weight   20337 non-null  object \n",
      " 16  tame_time      20337 non-null  object \n",
      " 17  tamer_id       20337 non-null  int64  \n",
      " 18  owner_id       20337 non-null  int64  \n",
      "dtypes: float64(3), int64(7), object(9)\n",
      "memory usage: 3.1+ MB\n"
     ]
    }
   ],
   "source": [
    "horse_df.info()"
   ]
  },
  {
   "cell_type": "markdown",
   "id": "958aa9ed",
   "metadata": {},
   "source": [
    "### rank"
   ]
  },
  {
   "cell_type": "code",
   "execution_count": 24,
   "id": "e01cf37c",
   "metadata": {},
   "outputs": [
    {
     "data": {
      "text/plain": [
       "array(['1', '2', '3', '4', '5', '6', '7', '8', '9', '10', '11', '12',\n",
       "       '13', '14', '15', '16', '取', '中', '除'], dtype=object)"
      ]
     },
     "execution_count": 24,
     "metadata": {},
     "output_type": "execute_result"
    }
   ],
   "source": [
    "horse_df[\"rank\"].unique()"
   ]
  },
  {
   "cell_type": "code",
   "execution_count": 25,
   "id": "862389b8",
   "metadata": {},
   "outputs": [],
   "source": [
    "horse_df = horse_df[(horse_df['rank'] != \"取\") & (horse_df['rank'] != \"除\") & (horse_df['rank'] != \"中\")]"
   ]
  },
  {
   "cell_type": "code",
   "execution_count": 26,
   "id": "35c6e36d",
   "metadata": {},
   "outputs": [
    {
     "data": {
      "text/plain": [
       "array(['1', '2', '3', '4', '5', '6', '7', '8', '9', '10', '11', '12',\n",
       "       '13', '14', '15', '16'], dtype=object)"
      ]
     },
     "execution_count": 26,
     "metadata": {},
     "output_type": "execute_result"
    }
   ],
   "source": [
    "#入賞を1に、着外を0に\n",
    "#horse_df['rank'] = horse_df['rank'].apply(lambda x: 1 if x in ['1', '2', '3'] else 0)\n",
    "\n",
    "horse_df['rank'].unique()"
   ]
  },
  {
   "cell_type": "markdown",
   "id": "a1f36397",
   "metadata": {},
   "source": [
    "### sex_and_age"
   ]
  },
  {
   "cell_type": "code",
   "execution_count": 27,
   "id": "0f3fb5e2",
   "metadata": {},
   "outputs": [
    {
     "data": {
      "text/plain": [
       "array(['牝3', '牡3', '牡5', '牡4', 'セ5', '牝5', '牡7', '牝4', '牝6', '牡6', 'セ6',\n",
       "       'セ4', 'セ7', '牝7', '牡8', 'セ3', '牡11', 'セ9', 'セ8', '牡9', '牡10', '牝2',\n",
       "       '牡2', '牝8', 'セ2'], dtype=object)"
      ]
     },
     "execution_count": 27,
     "metadata": {},
     "output_type": "execute_result"
    }
   ],
   "source": [
    "horse_df['sex_and_age'].unique()"
   ]
  },
  {
   "cell_type": "code",
   "execution_count": 28,
   "id": "aeb8ccb3",
   "metadata": {},
   "outputs": [],
   "source": [
    "is_senba = horse_df[\"sex_and_age\"].str.extract('(セ)', expand=True)\n",
    "is_senba.columns ={\"is_senba\"}\n",
    "horse_df = pd.concat([horse_df, is_senba], axis=1)\n",
    "\n",
    "is_mesu = horse_df[\"sex_and_age\"].str.extract('(牝)', expand=True)\n",
    "is_mesu.columns ={\"is_mesu\"}\n",
    "horse_df = pd.concat([horse_df, is_mesu], axis=1)\n",
    "\n",
    "is_osu = horse_df[\"sex_and_age\"].str.extract('(牡)', expand=True)\n",
    "is_osu.columns ={\"is_osu\"}\n",
    "horse_df = pd.concat([horse_df, is_osu], axis=1)"
   ]
  },
  {
   "cell_type": "code",
   "execution_count": 29,
   "id": "caabc2b6",
   "metadata": {},
   "outputs": [],
   "source": [
    "horse_df.fillna(value={'is_osu': 0}, inplace=True)\n",
    "horse_df['is_osu'] = horse_df['is_osu'].replace('牡', 1)\n",
    "horse_df.fillna(value={'is_mesu': 0}, inplace=True)\n",
    "horse_df['is_mesu'] = horse_df['is_mesu'].replace('牝', 1)\n",
    "horse_df.fillna(value={'is_senba': 0}, inplace=True)\n",
    "horse_df['is_senba'] = horse_df['is_senba'].replace('セ', 1)\n",
    "## 余分な文字を削除\n",
    "horse_df['sex_and_age'] = horse_df['sex_and_age'].str.strip(\"牝牡セ\")\n",
    "horse_df['sex_and_age'] = horse_df['sex_and_age'].astype(int)"
   ]
  },
  {
   "cell_type": "code",
   "execution_count": 30,
   "id": "55da8f82",
   "metadata": {},
   "outputs": [],
   "source": [
    "horse_df = horse_df.rename(columns={'sex_and_age': 'age'})"
   ]
  },
  {
   "cell_type": "markdown",
   "id": "64f56883",
   "metadata": {},
   "source": [
    "### goal_time"
   ]
  },
  {
   "cell_type": "code",
   "execution_count": 31,
   "id": "d5023f20",
   "metadata": {},
   "outputs": [
    {
     "data": {
      "text/plain": [
       "array(['1:28.0', '1:28.3', '1:28.8', '1:29.0', '1:29.9', '1:30.4',\n",
       "       '1:30.9', '1:31.4', '1:31.6', '1:34.8', '2:14.8', '2:15.2',\n",
       "       '2:17.0', '2:17.6', '2:18.5', '2:18.6', '2:18.9', '2:19.5',\n",
       "       '2:21.3', '2:21.9', '2:24.0', '2:26.1', '2:26.2', '2:26.5',\n",
       "       '1:39.5', '1:40.6', '1:40.9', '1:41.3', '1:41.5', '1:41.8',\n",
       "       '1:43.2', '1:43.8', '1:45.0', '1:45.7', '1:46.1', '1:46.3',\n",
       "       '1:46.4', '1:24.1', '1:24.2', '1:24.4', '1:24.9', '1:25.1',\n",
       "       '1:25.2', '1:25.3', '1:25.9', '1:26.8', '1:30.1', '1:30.3',\n",
       "       '1:31.5', '1:37.4', '1:37.7', '1:37.9', '1:38.8', '1:39.2',\n",
       "       '1:39.3', '1:39.6', '1:39.8', '1:40.7', '2:11.0', '2:11.1',\n",
       "       '2:11.8', '2:12.1', '2:12.2', '2:12.4', '2:12.6', '2:12.7',\n",
       "       '2:12.8', '2:13.2', '2:13.3', '2:13.5', '2:13.6', '1:22.6',\n",
       "       '1:23.0', '1:23.1', '1:23.2', '1:23.3', '1:23.4', '1:23.6',\n",
       "       '1:24.0', '1:24.5', '1:24.6', '1:24.7', '1:26.0', '1:20.2',\n",
       "       '1:20.5', '1:20.7', '1:21.0', '1:21.1', '1:21.3', '1:21.6',\n",
       "       '1:21.8', '1:21.9', '1:22.1', '1:22.9', '1:27.3', '1:27.5',\n",
       "       '1:27.7', '1:28.1', '1:28.2', '1:29.2', '1:29.8', '1:30.5',\n",
       "       '1:31.7', '1:33.2', '1:38.3', '1:38.5', '1:39.4', '1:39.7',\n",
       "       '1:39.9', '1:40.1', '1:40.3', '1:40.5', '1:41.0', '1:43.0',\n",
       "       '1:43.5', '2:11.9', '2:12.0', '2:12.9', '2:14.0', '2:14.4',\n",
       "       '2:14.5', '2:15.1', '2:15.4', '2:20.9', '1:37.6', '1:38.0',\n",
       "       '1:38.4', '1:38.6', '1:38.9', '1:39.0', '1:39.1', '1:40.0',\n",
       "       '1:41.7', '1:23.5', '1:23.7', '1:25.4', '1:25.5', '1:25.7',\n",
       "       '1:26.1', '1:21.5', '1:22.0', '1:22.4', '1:22.7', '1:23.8',\n",
       "       '1:24.8', '1:19.6', '1:20.3', '1:20.4', '1:20.6', '1:20.9',\n",
       "       '1:21.2', '1:27.2', '1:27.4', '1:27.6', '1:28.5', '1:28.7',\n",
       "       '1:29.4', '1:29.6', '1:30.8', '1:40.8', '1:42.1', '1:43.1',\n",
       "       '1:23.9', '1:24.3', '1:25.6', '1:25.8', '1:26.3', '1:27.0',\n",
       "       '1:27.1', '1:36.1', '1:36.3', '1:37.1', '1:37.5', '1:37.8',\n",
       "       '1:38.7', '1:41.1', '1:36.9', '1:37.0', '1:37.2', '1:25.0',\n",
       "       '1:26.2', '1:26.4', '1:26.6', '1:27.8', '2:14.6', '2:15.0',\n",
       "       '2:15.3', '2:15.7', '2:15.9', '2:16.2', '2:16.3', '2:16.9',\n",
       "       '2:17.8', '2:18.0', '2:18.4', '1:40.4', '1:40.2', '1:42.3',\n",
       "       '1:42.7', '1:49.0', '1:49.2', '1:26.7', '1:26.9', '1:27.9',\n",
       "       '1:17.4', '1:17.5', '1:17.6', '1:17.7', '1:17.8', '1:17.9',\n",
       "       '1:18.1', '1:18.2', '1:18.3', '1:18.4', '1:18.7', '1:18.8',\n",
       "       '1:19.0', '2:09.1', '2:09.2', '2:09.3', '2:09.6', '2:09.7',\n",
       "       '2:10.0', '2:10.3', '2:10.4', '2:10.6', '2:10.7', '1:28.4',\n",
       "       '1:28.6', '1:28.9', '1:29.7', '1:30.0', '1:30.2', '1:30.6',\n",
       "       '1:20.8', '1:21.7', '1:22.8', '1:41.2', '1:41.6', '1:41.9',\n",
       "       '1:42.0', '1:42.8', '1:43.4', '1:44.2', '1:44.5', '1:44.7',\n",
       "       '1:45.4', '1:46.0', '2:14.7', '2:15.6', '2:16.1', '2:16.6',\n",
       "       '2:16.7', '2:17.5', '2:12.5', '2:13.7', '2:13.8', '2:14.1',\n",
       "       '2:14.2', '2:14.3', '2:15.5', '2:17.1', '2:17.2', '1:29.3',\n",
       "       '1:29.5', '1:31.1', '2:15.8', '2:17.4', '2:18.1', '2:18.2',\n",
       "       '2:19.0', '2:19.3', '2:19.7', '2:20.0', '2:20.4', '1:43.3',\n",
       "       '1:43.9', '1:38.1', '1:38.2', '1:26.5', '1:21.4', '1:22.2',\n",
       "       '1:32.2', '1:32.3', '1:32.6', '1:34.4', '1:41.4', '1:43.7',\n",
       "       '1:44.4', '1:42.9', '1:31.2', '1:42.4', '2:19.6', '2:20.7',\n",
       "       '2:20.8', '2:22.1', '2:22.6', '2:24.6', '1:19.3', '1:19.8',\n",
       "       '1:20.1', '1:22.3', '1:36.0', '1:36.6', '1:36.7', '1:29.1',\n",
       "       '1:30.7', '1:31.0', '2:17.3', '2:18.7', '2:20.1', '2:20.3',\n",
       "       '2:20.5', '2:22.0', '1:44.6', '1:45.2', '1:45.9', '1:36.8',\n",
       "       '1:37.3', '1:42.2', '1:42.5', '1:31.9', '1:46.7', '1:32.1',\n",
       "       '2:14.9', '2:16.0', '2:16.4', '2:16.8', '2:12.3', '2:13.0',\n",
       "       '2:13.4', '2:13.9', '1:32.0', '1:34.1', '1:42.6', '1:43.6',\n",
       "       '2:17.7', '2:19.2', '2:21.6', '1:44.9', '1:35.4', '1:36.5',\n",
       "       '1:44.0', '2:10.8', '2:11.2', '2:11.5', '2:11.7', '2:13.1',\n",
       "       '1:45.1', '2:16.5', '2:18.8', '2:19.4', '2:21.2', '1:18.5',\n",
       "       '1:18.9', '1:19.1', '1:19.2', '1:19.4', '1:19.7', '1:19.9',\n",
       "       '1:48.9', '1:20.0', '2:18.3', '2:22.7', '1:44.1', '1:33.5',\n",
       "       '1:34.5', '1:19.5', '1:34.6', '1:55.0', '1:35.3', '1:35.7',\n",
       "       '1:35.8', '1:35.9', '1:36.4', '2:21.5', '1:51.6', '2:10.1',\n",
       "       '2:11.3', '1:35.5', '1:36.2', '2:36.2', '1:16.7', '1:17.1',\n",
       "       '1:18.0', '1:18.6', '1:35.2', '1:35.0', '1:35.6', '1:44.3',\n",
       "       '1:22.5', '1:31.3', '2:11.4', '1:52.5', '1:17.2', '2:09.8',\n",
       "       '2:09.9', '2:10.2', '2:10.5', '1:44.8', '1:46.8', '2:10.9',\n",
       "       '1:33.1', '1:45.6', '1:45.3', '1:34.7', '1:34.9', '2:24.5',\n",
       "       '1:45.8', '1:32.5', '1:46.9', '2:20.6', '2:21.4', '2:21.7',\n",
       "       '2:24.2', '2:17.9', '1:32.4', '2:20.2', '1:46.5', '1:45.5',\n",
       "       '1:47.7', '2:19.8', '1:33.0', '2:11.6', '1:46.6', '2:22.8',\n",
       "       '1:49.5', '1:59.0', '2:08.1', '2:08.2', '2:08.3', '2:08.4',\n",
       "       '2:08.6', '2:08.7', '2:08.8', '2:09.5', '1:47.6', '1:16.6',\n",
       "       '1:17.0', '1:17.3', '1:50.1', '2:19.9', '1:59.9', '1:32.8',\n",
       "       '1:33.9', '1:16.9', '2:08.9', '2:09.0', '2:09.4', '2:08.0',\n",
       "       '1:35.1', '1:47.8', '2:27.2', '1:47.0', '1:31.8', '1:32.7',\n",
       "       '1:34.2', '2:22.4', '1:48.8', '1:49.1', '2:19.1', '2:34.5',\n",
       "       '2:21.8', '1:47.5', '1:47.4', '1:53.2', '1:48.0', '2:26.7',\n",
       "       '2:23.0', '1:33.6', '1:33.3', '1:50.3', '2:27.5', '2:28.4',\n",
       "       '2:28.9', '1:52.1', '2:22.9', '1:32.9', '2:22.2', '1:33.8',\n",
       "       '1:34.3', '2:07.1', '2:07.4', '2:07.5', '2:07.8', '1:16.8',\n",
       "       '2:31.4', '2:46.6', '2:08.5', '2:07.9', '1:16.2', '1:49.3',\n",
       "       '1:48.6', '1:49.9'], dtype=object)"
      ]
     },
     "execution_count": 31,
     "metadata": {},
     "output_type": "execute_result"
    }
   ],
   "source": [
    "horse_df['goal_time'].unique()"
   ]
  },
  {
   "cell_type": "code",
   "execution_count": 32,
   "id": "88c60302",
   "metadata": {},
   "outputs": [],
   "source": [
    "horse_df['goal_time'] = pd.to_datetime(horse_df['goal_time'], format='%M:%S.%f') - pd.to_datetime('00:00.0', format='%M:%S.%f')\n",
    "horse_df['goal_time'] = horse_df['goal_time'].dt.total_seconds()\n",
    "horse_df.fillna(value={'goal_time': horse_df['goal_time'].max()}, inplace=True)\n",
    "horse_df.fillna(value={'last_time': horse_df['last_time'].max()}, inplace=True)"
   ]
  },
  {
   "cell_type": "markdown",
   "id": "e8542c0f",
   "metadata": {},
   "source": [
    "### half_way_rank"
   ]
  },
  {
   "cell_type": "code",
   "execution_count": 33,
   "id": "0b3385cf",
   "metadata": {},
   "outputs": [
    {
     "data": {
      "text/plain": [
       "array(['2-2', '1-1', '3-3', ..., '10-9-11-10', '4-5-4-6', '12-12-12-15'],\n",
       "      dtype=object)"
      ]
     },
     "execution_count": 33,
     "metadata": {},
     "output_type": "execute_result"
    }
   ],
   "source": [
    "horse_df['half_way_rank'].unique()"
   ]
  },
  {
   "cell_type": "code",
   "execution_count": 34,
   "id": "6668149e",
   "metadata": {},
   "outputs": [],
   "source": [
    "from statistics import mean\n",
    "horse_df[\"half_way_rank\"] = horse_df[\"half_way_rank\"].apply(lambda x: mean([float(n) for n in (x.split(\"-\"))]) if type(x) is str else float(x) )\n",
    "horse_df[horse_df[\"rank\"] == 20] = horse_df[horse_df[\"rank\"] == 20].fillna({'half_way_rank': 20})\n",
    "horse_df[\"half_way_rank\"] = horse_df[\"half_way_rank\"].fillna(horse_df['half_way_rank'].mean())\n",
    "horse_df[\"half_way_rank\"].isnull().sum()\n",
    "horse_df[\"half_way_rank\"] = horse_df[\"half_way_rank\"].astype(float)"
   ]
  },
  {
   "cell_type": "markdown",
   "id": "69ae1577",
   "metadata": {},
   "source": [
    "### horse_weight"
   ]
  },
  {
   "cell_type": "code",
   "execution_count": 35,
   "id": "ec5a2a85",
   "metadata": {},
   "outputs": [],
   "source": [
    "horse_weight_dif = horse_df[\"horse_weight\"].str.extract('\\(([-|+]?\\d*)\\)', expand=True)\n",
    "horse_weight_dif.columns ={\"horse_weight_dif\"}\n",
    "\n",
    "horse_df = pd.concat([horse_df, horse_weight_dif], axis=1)\n",
    "\n",
    "horse_df['horse_weight'] = horse_df['horse_weight'].replace('\\(([-|+]?\\d*)\\)', '', regex=True)\n",
    "\n",
    "horse_df['horse_weight'] = horse_df['horse_weight'].replace('計不', np.nan)\n",
    "horse_df['horse_weight'] = horse_df['horse_weight'].astype(float)\n",
    "horse_df['horse_weight_dif'] = horse_df['horse_weight_dif'].astype(float)\n",
    "\n",
    "no_records = horse_df[horse_df['horse_weight'].isnull()]['horse_id']\n",
    "for no_record_id in no_records:\n",
    "    horse_df.loc[(horse_df['horse_id'] == no_record_id)&(horse_df['horse_weight'].isnull()), 'horse_weight'] = horse_df[horse_df['horse_id'] == no_record_id]['horse_weight'].mean() \n",
    "    horse_df.loc[(horse_df['horse_id'] == no_record_id)&(horse_df['horse_weight_dif'].isnull()), 'horse_weight_dif'] = 0 "
   ]
  },
  {
   "cell_type": "markdown",
   "id": "a5b819c0",
   "metadata": {},
   "source": [
    "### odds"
   ]
  },
  {
   "cell_type": "code",
   "execution_count": 36,
   "id": "335addae",
   "metadata": {},
   "outputs": [
    {
     "data": {
      "text/plain": [
       "array(['22.9', '5.8', '5.6', ..., '426.0', '306.7', '344.1'], dtype=object)"
      ]
     },
     "execution_count": 36,
     "metadata": {},
     "output_type": "execute_result"
    }
   ],
   "source": [
    "horse_df['odds'].unique()"
   ]
  },
  {
   "cell_type": "code",
   "execution_count": 37,
   "id": "623163ff",
   "metadata": {},
   "outputs": [],
   "source": [
    "horse_df = horse_df[horse_df['odds']!='---']"
   ]
  },
  {
   "cell_type": "code",
   "execution_count": 38,
   "id": "829c6070",
   "metadata": {},
   "outputs": [],
   "source": [
    "horse_df['odds']= horse_df['odds'].astype(float)"
   ]
  },
  {
   "cell_type": "code",
   "execution_count": 39,
   "id": "f744b64e",
   "metadata": {},
   "outputs": [],
   "source": [
    "horse_df.drop(['time_value'], axis=1, inplace=True)\n",
    "horse_df.drop(['goal_time_dif'], axis=1, inplace=True)\n",
    "horse_df.drop(['tame_time'], axis=1, inplace=True)"
   ]
  },
  {
   "cell_type": "code",
   "execution_count": 40,
   "id": "2196cfaa",
   "metadata": {},
   "outputs": [
    {
     "data": {
      "text/html": [
       "<div>\n",
       "<style scoped>\n",
       "    .dataframe tbody tr th:only-of-type {\n",
       "        vertical-align: middle;\n",
       "    }\n",
       "\n",
       "    .dataframe tbody tr th {\n",
       "        vertical-align: top;\n",
       "    }\n",
       "\n",
       "    .dataframe thead th {\n",
       "        text-align: right;\n",
       "    }\n",
       "</style>\n",
       "<table border=\"1\" class=\"dataframe\">\n",
       "  <thead>\n",
       "    <tr style=\"text-align: right;\">\n",
       "      <th></th>\n",
       "      <th>race_id</th>\n",
       "      <th>race_round</th>\n",
       "      <th>race_title</th>\n",
       "      <th>weather</th>\n",
       "      <th>ground_status</th>\n",
       "      <th>date</th>\n",
       "      <th>where_racecourse</th>\n",
       "      <th>total_horse_number</th>\n",
       "      <th>frame_number_first</th>\n",
       "      <th>horse_number_first</th>\n",
       "      <th>...</th>\n",
       "      <th>umaren</th>\n",
       "      <th>wide_1_2</th>\n",
       "      <th>wide_1_3</th>\n",
       "      <th>wide_2_3</th>\n",
       "      <th>umatan</th>\n",
       "      <th>renhuku3</th>\n",
       "      <th>rentan3</th>\n",
       "      <th>is_left_right_straight</th>\n",
       "      <th>distance</th>\n",
       "      <th>hour</th>\n",
       "    </tr>\n",
       "  </thead>\n",
       "  <tbody>\n",
       "    <tr>\n",
       "      <th>0</th>\n",
       "      <td>201805010101</td>\n",
       "      <td>1</td>\n",
       "      <td>3歳未勝利</td>\n",
       "      <td>天候 : 晴</td>\n",
       "      <td>ダート : 不良</td>\n",
       "      <td>2018年1月27日</td>\n",
       "      <td>東京</td>\n",
       "      <td>16</td>\n",
       "      <td>3</td>\n",
       "      <td>6</td>\n",
       "      <td>...</td>\n",
       "      <td>8970</td>\n",
       "      <td>2500</td>\n",
       "      <td>1700</td>\n",
       "      <td>810</td>\n",
       "      <td>22830</td>\n",
       "      <td>12060</td>\n",
       "      <td>108820</td>\n",
       "      <td>左</td>\n",
       "      <td>1400</td>\n",
       "      <td>10</td>\n",
       "    </tr>\n",
       "    <tr>\n",
       "      <th>1</th>\n",
       "      <td>201805010102</td>\n",
       "      <td>2</td>\n",
       "      <td>3歳未勝利</td>\n",
       "      <td>天候 : 晴</td>\n",
       "      <td>ダート : 不良</td>\n",
       "      <td>2018年1月27日</td>\n",
       "      <td>東京</td>\n",
       "      <td>16</td>\n",
       "      <td>6</td>\n",
       "      <td>12</td>\n",
       "      <td>...</td>\n",
       "      <td>510</td>\n",
       "      <td>300</td>\n",
       "      <td>540</td>\n",
       "      <td>1440</td>\n",
       "      <td>640</td>\n",
       "      <td>2380</td>\n",
       "      <td>5260</td>\n",
       "      <td>左</td>\n",
       "      <td>2100</td>\n",
       "      <td>10</td>\n",
       "    </tr>\n",
       "  </tbody>\n",
       "</table>\n",
       "<p>2 rows × 29 columns</p>\n",
       "</div>"
      ],
      "text/plain": [
       "        race_id  race_round race_title weather ground_status        date  \\\n",
       "0  201805010101           1      3歳未勝利  天候 : 晴      ダート : 不良  2018年1月27日   \n",
       "1  201805010102           2      3歳未勝利  天候 : 晴      ダート : 不良  2018年1月27日   \n",
       "\n",
       "  where_racecourse  total_horse_number  frame_number_first  \\\n",
       "0               東京                  16                   3   \n",
       "1               東京                  16                   6   \n",
       "\n",
       "   horse_number_first  ...  umaren  wide_1_2  wide_1_3  wide_2_3  umatan  \\\n",
       "0                   6  ...    8970      2500      1700       810   22830   \n",
       "1                  12  ...     510       300       540      1440     640   \n",
       "\n",
       "   renhuku3  rentan3  is_left_right_straight  distance  hour  \n",
       "0     12060   108820                       左      1400    10  \n",
       "1      2380     5260                       左      2100    10  \n",
       "\n",
       "[2 rows x 29 columns]"
      ]
     },
     "execution_count": 40,
     "metadata": {},
     "output_type": "execute_result"
    }
   ],
   "source": [
    "race_df.head(2)"
   ]
  },
  {
   "cell_type": "code",
   "execution_count": 41,
   "id": "b1eaa8c0",
   "metadata": {
    "scrolled": true
   },
   "outputs": [
    {
     "data": {
      "text/html": [
       "<div>\n",
       "<style scoped>\n",
       "    .dataframe tbody tr th:only-of-type {\n",
       "        vertical-align: middle;\n",
       "    }\n",
       "\n",
       "    .dataframe tbody tr th {\n",
       "        vertical-align: top;\n",
       "    }\n",
       "\n",
       "    .dataframe thead th {\n",
       "        text-align: right;\n",
       "    }\n",
       "</style>\n",
       "<table border=\"1\" class=\"dataframe\">\n",
       "  <thead>\n",
       "    <tr style=\"text-align: right;\">\n",
       "      <th></th>\n",
       "      <th>race_id</th>\n",
       "      <th>rank</th>\n",
       "      <th>frame_number</th>\n",
       "      <th>horse_number</th>\n",
       "      <th>horse_id</th>\n",
       "      <th>age</th>\n",
       "      <th>burden_weight</th>\n",
       "      <th>rider_id</th>\n",
       "      <th>goal_time</th>\n",
       "      <th>half_way_rank</th>\n",
       "      <th>last_time</th>\n",
       "      <th>odds</th>\n",
       "      <th>popular</th>\n",
       "      <th>horse_weight</th>\n",
       "      <th>tamer_id</th>\n",
       "      <th>owner_id</th>\n",
       "      <th>is_senba</th>\n",
       "      <th>is_mesu</th>\n",
       "      <th>is_osu</th>\n",
       "      <th>horse_weight_dif</th>\n",
       "    </tr>\n",
       "  </thead>\n",
       "  <tbody>\n",
       "    <tr>\n",
       "      <th>0</th>\n",
       "      <td>201805010101</td>\n",
       "      <td>1</td>\n",
       "      <td>3</td>\n",
       "      <td>6</td>\n",
       "      <td>2015100407</td>\n",
       "      <td>3</td>\n",
       "      <td>54.0</td>\n",
       "      <td>1077</td>\n",
       "      <td>88.0</td>\n",
       "      <td>2.0</td>\n",
       "      <td>39.6</td>\n",
       "      <td>22.9</td>\n",
       "      <td>8.0</td>\n",
       "      <td>450.0</td>\n",
       "      <td>1076</td>\n",
       "      <td>843030</td>\n",
       "      <td>0</td>\n",
       "      <td>1</td>\n",
       "      <td>0</td>\n",
       "      <td>2.0</td>\n",
       "    </tr>\n",
       "    <tr>\n",
       "      <th>1</th>\n",
       "      <td>201805010101</td>\n",
       "      <td>2</td>\n",
       "      <td>1</td>\n",
       "      <td>1</td>\n",
       "      <td>2015100131</td>\n",
       "      <td>3</td>\n",
       "      <td>54.0</td>\n",
       "      <td>422</td>\n",
       "      <td>88.3</td>\n",
       "      <td>1.0</td>\n",
       "      <td>40.0</td>\n",
       "      <td>5.8</td>\n",
       "      <td>4.0</td>\n",
       "      <td>474.0</td>\n",
       "      <td>1079</td>\n",
       "      <td>399030</td>\n",
       "      <td>0</td>\n",
       "      <td>1</td>\n",
       "      <td>0</td>\n",
       "      <td>12.0</td>\n",
       "    </tr>\n",
       "  </tbody>\n",
       "</table>\n",
       "</div>"
      ],
      "text/plain": [
       "        race_id rank  frame_number  horse_number    horse_id  age  \\\n",
       "0  201805010101    1             3             6  2015100407    3   \n",
       "1  201805010101    2             1             1  2015100131    3   \n",
       "\n",
       "   burden_weight  rider_id  goal_time  half_way_rank  last_time  odds  \\\n",
       "0           54.0      1077       88.0            2.0       39.6  22.9   \n",
       "1           54.0       422       88.3            1.0       40.0   5.8   \n",
       "\n",
       "   popular  horse_weight  tamer_id  owner_id  is_senba  is_mesu  is_osu  \\\n",
       "0      8.0         450.0      1076    843030         0        1       0   \n",
       "1      4.0         474.0      1079    399030         0        1       0   \n",
       "\n",
       "   horse_weight_dif  \n",
       "0               2.0  \n",
       "1              12.0  "
      ]
     },
     "execution_count": 41,
     "metadata": {},
     "output_type": "execute_result"
    }
   ],
   "source": [
    "horse_df.head(2)"
   ]
  },
  {
   "cell_type": "code",
   "execution_count": 42,
   "id": "f8dd6e21",
   "metadata": {},
   "outputs": [],
   "source": [
    "race_df.to_csv(\"../Scraping/csv/cleaned_race_data.csv\", index=False )\n",
    "horse_df.to_csv(\"../Scraping/csv/cleaned_horse_withrank_data.csv\", index=False )"
   ]
  }
 ],
 "metadata": {
  "kernelspec": {
   "display_name": "Python 3 (ipykernel)",
   "language": "python",
   "name": "python3"
  },
  "language_info": {
   "codemirror_mode": {
    "name": "ipython",
    "version": 3
   },
   "file_extension": ".py",
   "mimetype": "text/x-python",
   "name": "python",
   "nbconvert_exporter": "python",
   "pygments_lexer": "ipython3",
   "version": "3.9.13"
  }
 },
 "nbformat": 4,
 "nbformat_minor": 5
}
