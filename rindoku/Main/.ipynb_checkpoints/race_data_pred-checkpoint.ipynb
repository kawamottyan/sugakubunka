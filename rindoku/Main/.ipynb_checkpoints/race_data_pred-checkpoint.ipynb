{
 "cells": [
  {
   "cell_type": "code",
   "execution_count": 1,
   "id": "b7bb64b6",
   "metadata": {},
   "outputs": [],
   "source": [
    "import numpy as np\n",
    "import pandas as pd"
   ]
  },
  {
   "cell_type": "code",
   "execution_count": 2,
   "id": "cabc04d2",
   "metadata": {},
   "outputs": [],
   "source": [
    "for year in range(2022, 2023):\n",
    "    race_df = pd.read_csv(\"../Scraping/csv/race-\"+str(year)+\"-1.csv\", sep=\",\")\n",
    "    horse_df = pd.read_csv(\"../Scraping/csv/horse-\"+str(year)+\"-1.csv\", sep=\",\")"
   ]
  },
  {
   "cell_type": "markdown",
   "id": "35762eca",
   "metadata": {},
   "source": [
    "# Data Cleaning\n",
    "参照：https://github.com/unonao/race-predict/blob/master/data_clean.ipynb"
   ]
  },
  {
   "cell_type": "markdown",
   "id": "201df404",
   "metadata": {},
   "source": [
    "## race_df"
   ]
  },
  {
   "cell_type": "code",
   "execution_count": 3,
   "id": "bc118d09",
   "metadata": {},
   "outputs": [
    {
     "data": {
      "text/html": [
       "<div>\n",
       "<style scoped>\n",
       "    .dataframe tbody tr th:only-of-type {\n",
       "        vertical-align: middle;\n",
       "    }\n",
       "\n",
       "    .dataframe tbody tr th {\n",
       "        vertical-align: top;\n",
       "    }\n",
       "\n",
       "    .dataframe thead th {\n",
       "        text-align: right;\n",
       "    }\n",
       "</style>\n",
       "<table border=\"1\" class=\"dataframe\">\n",
       "  <thead>\n",
       "    <tr style=\"text-align: right;\">\n",
       "      <th></th>\n",
       "      <th>race_id</th>\n",
       "      <th>race_round</th>\n",
       "      <th>race_title</th>\n",
       "      <th>race_course</th>\n",
       "      <th>weather</th>\n",
       "      <th>ground_status</th>\n",
       "      <th>time</th>\n",
       "      <th>date</th>\n",
       "      <th>where_racecourse</th>\n",
       "      <th>total_horse_number</th>\n",
       "      <th>...</th>\n",
       "      <th>hukusyo_second</th>\n",
       "      <th>hukusyo_third</th>\n",
       "      <th>wakuren</th>\n",
       "      <th>umaren</th>\n",
       "      <th>wide_1_2</th>\n",
       "      <th>wide_1_3</th>\n",
       "      <th>wide_2_3</th>\n",
       "      <th>umatan</th>\n",
       "      <th>renhuku3</th>\n",
       "      <th>rentan3</th>\n",
       "    </tr>\n",
       "  </thead>\n",
       "  <tbody>\n",
       "    <tr>\n",
       "      <th>0</th>\n",
       "      <td>202205010101</td>\n",
       "      <td>1 R</td>\n",
       "      <td>3歳未勝利</td>\n",
       "      <td>ダ左1400m</td>\n",
       "      <td>天候 : 曇</td>\n",
       "      <td>ダート : 良</td>\n",
       "      <td>発走 : 10:05</td>\n",
       "      <td>2022年1月29日</td>\n",
       "      <td>1回東京1日目</td>\n",
       "      <td>16</td>\n",
       "      <td>...</td>\n",
       "      <td>180</td>\n",
       "      <td>200</td>\n",
       "      <td>590</td>\n",
       "      <td>1,560</td>\n",
       "      <td>580</td>\n",
       "      <td>760</td>\n",
       "      <td>540</td>\n",
       "      <td>3,500</td>\n",
       "      <td>3,450</td>\n",
       "      <td>19,720</td>\n",
       "    </tr>\n",
       "    <tr>\n",
       "      <th>1</th>\n",
       "      <td>202205010102</td>\n",
       "      <td>2 R</td>\n",
       "      <td>3歳新馬</td>\n",
       "      <td>ダ左1400m</td>\n",
       "      <td>天候 : 曇</td>\n",
       "      <td>ダート : 良</td>\n",
       "      <td>発走 : 10:35</td>\n",
       "      <td>2022年1月29日</td>\n",
       "      <td>1回東京1日目</td>\n",
       "      <td>16</td>\n",
       "      <td>...</td>\n",
       "      <td>110</td>\n",
       "      <td>200</td>\n",
       "      <td>330</td>\n",
       "      <td>350</td>\n",
       "      <td>180</td>\n",
       "      <td>700</td>\n",
       "      <td>450</td>\n",
       "      <td>890</td>\n",
       "      <td>1,420</td>\n",
       "      <td>6,330</td>\n",
       "    </tr>\n",
       "  </tbody>\n",
       "</table>\n",
       "<p>2 rows × 28 columns</p>\n",
       "</div>"
      ],
      "text/plain": [
       "        race_id race_round race_title race_course weather ground_status  \\\n",
       "0  202205010101        1 R      3歳未勝利     ダ左1400m  天候 : 曇       ダート : 良   \n",
       "1  202205010102        2 R       3歳新馬     ダ左1400m  天候 : 曇       ダート : 良   \n",
       "\n",
       "         time        date where_racecourse  total_horse_number  ...  \\\n",
       "0  発走 : 10:05  2022年1月29日          1回東京1日目                  16  ...   \n",
       "1  発走 : 10:35  2022年1月29日          1回東京1日目                  16  ...   \n",
       "\n",
       "   hukusyo_second  hukusyo_third  wakuren  umaren  wide_1_2  wide_1_3  \\\n",
       "0             180            200      590   1,560       580       760   \n",
       "1             110            200      330     350       180       700   \n",
       "\n",
       "  wide_2_3 umatan renhuku3 rentan3  \n",
       "0      540  3,500    3,450  19,720  \n",
       "1      450    890    1,420   6,330  \n",
       "\n",
       "[2 rows x 28 columns]"
      ]
     },
     "execution_count": 3,
     "metadata": {},
     "output_type": "execute_result"
    }
   ],
   "source": [
    "race_df.head(2)"
   ]
  },
  {
   "cell_type": "code",
   "execution_count": 4,
   "id": "c8b09337",
   "metadata": {},
   "outputs": [
    {
     "name": "stdout",
     "output_type": "stream",
     "text": [
      "<class 'pandas.core.frame.DataFrame'>\n",
      "RangeIndex: 272 entries, 0 to 271\n",
      "Data columns (total 28 columns):\n",
      " #   Column               Non-Null Count  Dtype \n",
      "---  ------               --------------  ----- \n",
      " 0   race_id              272 non-null    int64 \n",
      " 1   race_round           272 non-null    object\n",
      " 2   race_title           272 non-null    object\n",
      " 3   race_course          272 non-null    object\n",
      " 4   weather              272 non-null    object\n",
      " 5   ground_status        272 non-null    object\n",
      " 6   time                 272 non-null    object\n",
      " 7   date                 272 non-null    object\n",
      " 8   where_racecourse     272 non-null    object\n",
      " 9   total_horse_number   272 non-null    int64 \n",
      " 10  frame_number_first   272 non-null    int64 \n",
      " 11  horse_number_first   272 non-null    int64 \n",
      " 12  frame_number_second  272 non-null    int64 \n",
      " 13  horse_number_second  272 non-null    int64 \n",
      " 14  frame_number_third   272 non-null    int64 \n",
      " 15  horse_number_third   272 non-null    int64 \n",
      " 16  tansyo               272 non-null    object\n",
      " 17  hukusyo_first        272 non-null    object\n",
      " 18  hukusyo_second       272 non-null    object\n",
      " 19  hukusyo_third        272 non-null    object\n",
      " 20  wakuren              272 non-null    object\n",
      " 21  umaren               272 non-null    object\n",
      " 22  wide_1_2             272 non-null    object\n",
      " 23  wide_1_3             272 non-null    object\n",
      " 24  wide_2_3             272 non-null    object\n",
      " 25  umatan               272 non-null    object\n",
      " 26  renhuku3             272 non-null    object\n",
      " 27  rentan3              272 non-null    object\n",
      "dtypes: int64(8), object(20)\n",
      "memory usage: 59.6+ KB\n"
     ]
    }
   ],
   "source": [
    "race_df.info()"
   ]
  },
  {
   "cell_type": "markdown",
   "id": "99d05260",
   "metadata": {},
   "source": [
    "### race_round"
   ]
  },
  {
   "cell_type": "code",
   "execution_count": 5,
   "id": "f90b2a4f",
   "metadata": {},
   "outputs": [
    {
     "data": {
      "text/plain": [
       "array(['1 R', '2 R', '3 R', '4 R', '7 R', '8 R', '9 R', '11 R', '12 R',\n",
       "       '10 R', '6 R', '5 R'], dtype=object)"
      ]
     },
     "execution_count": 5,
     "metadata": {},
     "output_type": "execute_result"
    }
   ],
   "source": [
    "race_df['race_round'].unique()"
   ]
  },
  {
   "cell_type": "code",
   "execution_count": 6,
   "id": "c5dcf1ff",
   "metadata": {},
   "outputs": [],
   "source": [
    "#Rの削除\n",
    "race_df['race_round'] = race_df['race_round'].str.strip('R \\n')"
   ]
  },
  {
   "cell_type": "code",
   "execution_count": 7,
   "id": "9f66e552",
   "metadata": {},
   "outputs": [],
   "source": [
    "#数値タイプに変換\n",
    "race_df['race_round'] = race_df['race_round'].astype(int)"
   ]
  },
  {
   "cell_type": "markdown",
   "id": "3d0a8e48",
   "metadata": {},
   "source": [
    "### race_title"
   ]
  },
  {
   "cell_type": "code",
   "execution_count": 8,
   "id": "9503b967",
   "metadata": {},
   "outputs": [
    {
     "data": {
      "text/plain": [
       "array(['3歳未勝利', '3歳新馬', '3歳1勝クラス', '4歳以上1勝クラス', '4歳以上2勝クラス', '白嶺ステークス ',\n",
       "       '第36回根岸ステークス(G3)', '銀蹄ステークス ', 'バレンタインS ', '金蹄ステークス ',\n",
       "       'ヒヤシンスステークス(L)', '第39回フェブラリーS(G1)', '大島特別 ', 'オアシスステークス(L)',\n",
       "       '鎌倉ステークス ', '横浜ステークス ', 'ブリリアントS(L)', '立夏ステークス ', '立川特別 ', '日吉特別 ',\n",
       "       '青竜ステークス ', 'BSイレブン賞 ', '是政特別 ', '丹沢ステークス ', '富嶽賞 ', '欅ステークス ',\n",
       "       '薫風ステークス ', '3歳以上1勝クラス', 'アハルテケステークス ', '3歳以上2勝クラス', '麦秋ステークス ',\n",
       "       '小金井特別 ', '青梅特別 ', '八王子特別 ', '夏至ステークス ', '三浦特別 ', 'スレイプニルS ',\n",
       "       '2歳新馬', '第27回ユニコーンステークス(G3)', '清里特別 ', '日野特別 ', '甲州街道ステークス ',\n",
       "       '2歳未勝利', '西湖特別 ', '神無月ステークス ', '昇仙峡特別 ', 'グリーンチャンネルC(L)',\n",
       "       'プラタナス賞 ', 'テレビ静岡賞 ', '赤富士ステークス ', 'ブラジルカップ(L)', '伊勢佐木特別 ',\n",
       "       'ペルセウスステークス ', '秋嶺ステークス ', '神奈川新聞杯 ', '錦秋ステークス ', 'オキザリス賞 ',\n",
       "       '第27回東京中日S杯武蔵野S(G3)', '銀嶺ステークス ', '晩秋ステークス ', '霜月ステークス ',\n",
       "       'カトレアステークス ', 'シャングリラS ', 'アプローズ賞 '], dtype=object)"
      ]
     },
     "execution_count": 8,
     "metadata": {},
     "output_type": "execute_result"
    }
   ],
   "source": [
    "race_df['race_title'].unique()"
   ]
  },
  {
   "cell_type": "markdown",
   "id": "f2df74ae",
   "metadata": {},
   "source": [
    "### race_course"
   ]
  },
  {
   "cell_type": "code",
   "execution_count": 9,
   "id": "94dba46e",
   "metadata": {},
   "outputs": [
    {
     "data": {
      "text/plain": [
       "array(['ダ左1400m', 'ダ左1600m', 'ダ左2100m', 'ダ左1300m'], dtype=object)"
      ]
     },
     "execution_count": 9,
     "metadata": {},
     "output_type": "execute_result"
    }
   ],
   "source": [
    "race_df[\"race_course\"].unique()"
   ]
  },
  {
   "cell_type": "code",
   "execution_count": 10,
   "id": "c9b00794",
   "metadata": {},
   "outputs": [],
   "source": [
    "#obstacle = race_df[\"race_course\"].str.extract('(障)', expand=True)\n",
    "#ground_type = race_df[\"race_course\"].str.extract('(ダ)', expand=True)\n",
    "\n",
    "#各文字の抜き出し\n",
    "is_left_right_straight = race_df[\"race_course\"].str.extract('(左|右|直線)', expand=True)\n",
    "distance = race_df[\"race_course\"].str.extract('(\\d+)m', expand=True)\n",
    "\n",
    "is_left_right_straight.columns = {\"is_left_right_straight\"}\n",
    "distance.columns = {\"distance\"}\n",
    "\n",
    "race_df = pd.concat([race_df, is_left_right_straight], axis=1)\n",
    "race_df = pd.concat([race_df, distance], axis=1)\n",
    "race_df[\"distance\"] = race_df[\"distance\"].astype(int)"
   ]
  },
  {
   "cell_type": "code",
   "execution_count": 11,
   "id": "db6158bd",
   "metadata": {},
   "outputs": [],
   "source": [
    "#コースのカラム削除\n",
    "race_df.drop(['race_course'], axis=1, inplace=True)"
   ]
  },
  {
   "cell_type": "markdown",
   "id": "477e5b3a",
   "metadata": {},
   "source": [
    "### weather"
   ]
  },
  {
   "cell_type": "code",
   "execution_count": 12,
   "id": "95e10548",
   "metadata": {},
   "outputs": [
    {
     "data": {
      "text/plain": [
       "array(['天候 : 曇', '天候 : 晴', '天候 : 雨', '天候 : 小雨'], dtype=object)"
      ]
     },
     "execution_count": 12,
     "metadata": {},
     "output_type": "execute_result"
    }
   ],
   "source": [
    "race_df[\"weather\"].unique()"
   ]
  },
  {
   "cell_type": "markdown",
   "id": "ed92b235",
   "metadata": {},
   "source": [
    "### ground_status"
   ]
  },
  {
   "cell_type": "code",
   "execution_count": 13,
   "id": "6130ffa9",
   "metadata": {
    "scrolled": true
   },
   "outputs": [
    {
     "data": {
      "text/plain": [
       "array(['ダート : 良', 'ダート : 重', 'ダート : 不良', 'ダート : 稍重'], dtype=object)"
      ]
     },
     "execution_count": 13,
     "metadata": {},
     "output_type": "execute_result"
    }
   ],
   "source": [
    "race_df[\"ground_status\"].unique()"
   ]
  },
  {
   "cell_type": "markdown",
   "id": "cdd85f72",
   "metadata": {},
   "source": [
    "### time"
   ]
  },
  {
   "cell_type": "code",
   "execution_count": 14,
   "id": "623fe239",
   "metadata": {},
   "outputs": [
    {
     "data": {
      "text/plain": [
       "array(['発走 : 10:05', '発走 : 10:35', '発走 : 11:05', '発走 : 11:35',\n",
       "       '発走 : 13:25', '発走 : 14:01', '発走 : 14:35\\r\\n\\r\\n過去の白嶺ステークス',\n",
       "       '発走 : 10:10', '発走 : 10:40', '発走 : 11:10', '発走 : 11:40',\n",
       "       '発走 : 13:30', '発走 : 15:45\\r\\n\\r\\n過去の根岸ステークス', '発走 : 14:05',\n",
       "       '発走 : 16:25', '発走 : 15:10\\r\\n\\r\\n過去の銀蹄ステークス',\n",
       "       '発走 : 15:10\\r\\n\\r\\n過去のバレンタインS', '発走 : 13:35',\n",
       "       '発走 : 15:10\\r\\n\\r\\n過去の金蹄ステークス', '発走 : 12:55',\n",
       "       '発走 : 14:25\\r\\n\\r\\n過去のヒヤシンスステークス', '発走 : 15:40\\r\\n\\r\\n過去のフェブラリーS',\n",
       "       '発走 : 16:25\\r\\n\\r\\n過去の大島特別', '発走 : 13:05',\n",
       "       '発走 : 15:45\\r\\n\\r\\n過去のオアシスステークス', '発走 : 13:00',\n",
       "       '発走 : 15:10\\r\\n\\r\\n過去の鎌倉ステークス', '発走 : 10:15', '発走 : 10:45',\n",
       "       '発走 : 11:15', '発走 : 14:35\\r\\n\\r\\n過去の横浜ステークス', '発走 : 09:55',\n",
       "       '発走 : 10:25', '発走 : 10:55', '発走 : 13:15',\n",
       "       '発走 : 14:50\\r\\n\\r\\n過去のブリリアントS', '発走 : 16:10', '発走 : 12:35',\n",
       "       '発走 : 15:10\\r\\n\\r\\n過去の立夏ステークス', '発走 : 12:25', '発走 : 13:55',\n",
       "       '発走 : 16:25\\r\\n\\r\\n過去の立川特別', '発走 : 14:35\\r\\n\\r\\n過去の日吉特別',\n",
       "       '発走 : 10:30', '発走 : 15:01\\r\\n\\r\\n過去の青竜ステークス',\n",
       "       '発走 : 16:25\\r\\n\\r\\n過去のBSイレブン賞', '発走 : 12:20', '発走 : 12:50',\n",
       "       '発走 : 13:50\\r\\n\\r\\n過去の是政特別', '発走 : 16:40\\r\\n\\r\\n過去の丹沢ステークス',\n",
       "       '発走 : 11:45', '発走 : 14:35\\r\\n\\r\\n過去の富嶽賞',\n",
       "       '発走 : 15:45\\r\\n\\r\\n過去の欅ステークス', '発走 : 09:40', '発走 : 12:10',\n",
       "       '発走 : 12:40', '発走 : 14:15\\r\\n\\r\\n過去の薫風ステークス',\n",
       "       '発走 : 15:45\\r\\n\\r\\n過去のアハルテケステークス', '発走 : 16:30',\n",
       "       '発走 : 15:01\\r\\n\\r\\n過去の麦秋ステークス', '発走 : 16:30\\r\\n\\r\\n過去の小金井特別',\n",
       "       '発走 : 14:35\\r\\n\\r\\n過去の青梅特別', '発走 : 14:35\\r\\n\\r\\n過去の八王子特別',\n",
       "       '発走 : 15:10\\r\\n\\r\\n過去の夏至ステークス', '発走 : 14:35\\r\\n\\r\\n過去の三浦特別',\n",
       "       '発走 : 15:45\\r\\n\\r\\n過去のスレイプニルS', '発走 : 15:45\\r\\n\\r\\n過去のユニコーンステークス',\n",
       "       '発走 : 14:35\\r\\n\\r\\n過去の清里特別', '発走 : 15:10\\r\\n\\r\\n過去の日野特別',\n",
       "       '発走 : 11:25', '発走 : 13:45', '発走 : 14:50\\r\\n\\r\\n過去の甲州街道ステークス',\n",
       "       '発走 : 16:15', '発走 : 15:10\\r\\n\\r\\n過去の西湖特別',\n",
       "       '発走 : 15:10\\r\\n\\r\\n過去の神無月ステークス', '発走 : 14:35\\r\\n\\r\\n過去の昇仙峡特別',\n",
       "       '発走 : 15:45\\r\\n\\r\\n過去のグリーンチャンネルC', '発走 : 14:35\\r\\n\\r\\n過去のプラタナス賞',\n",
       "       '発走 : 11:20', '発走 : 13:40', '発走 : 14:50\\r\\n\\r\\n過去のテレビ静岡賞',\n",
       "       '発走 : 15:10\\r\\n\\r\\n過去の赤富士ステークス', '発走 : 15:30\\r\\n\\r\\n過去のブラジルカップ',\n",
       "       '発走 : 14:35\\r\\n\\r\\n過去の伊勢佐木特別', '発走 : 16:20', '発走 : 11:30',\n",
       "       '発走 : 13:20', '発走 : 15:01\\r\\n\\r\\n過去のペルセウスステークス',\n",
       "       '発走 : 16:25\\r\\n\\r\\n過去の秋嶺ステークス', '発走 : 10:00',\n",
       "       '発走 : 14:25\\r\\n\\r\\n過去の神奈川新聞杯', '発走 : 13:50',\n",
       "       '発走 : 15:01\\r\\n\\r\\n過去の錦秋ステークス', '発走 : 14:20\\r\\n\\r\\n過去のオキザリス賞',\n",
       "       '発走 : 15:30\\r\\n\\r\\n過去の東京中日S杯武蔵野S', '発走 : 14:15\\r\\n\\r\\n過去の銀嶺ステークス',\n",
       "       '発走 : 10:50', '発走 : 13:10', '発走 : 14:25\\r\\n\\r\\n過去の晩秋ステークス',\n",
       "       '発走 : 14:15', '発走 : 15:30\\r\\n\\r\\n過去の霜月ステークス', '発走 : 09:50',\n",
       "       '発走 : 14:15\\r\\n\\r\\n過去のカトレアステークス', '発走 : 14:50\\r\\n\\r\\n過去のシャングリラS',\n",
       "       '発走 : 09:31', '発走 : 12:45', '発走 : 14:25\\r\\n\\r\\n過去のアプローズ賞'],\n",
       "      dtype=object)"
      ]
     },
     "execution_count": 14,
     "metadata": {},
     "output_type": "execute_result"
    }
   ],
   "source": [
    "race_df[\"time\"].unique()"
   ]
  },
  {
   "cell_type": "code",
   "execution_count": 15,
   "id": "72d566b4",
   "metadata": {},
   "outputs": [],
   "source": [
    "hour = race_df[\"time\"].str.extract('(\\d\\d)', expand=True)\n",
    "hour.columns = {\"hour\"}\n",
    "race_df = pd.concat([race_df, hour], axis=1)\n",
    "race_df[\"hour\"] = race_df[\"hour\"].astype(int)"
   ]
  },
  {
   "cell_type": "code",
   "execution_count": 16,
   "id": "207313b3",
   "metadata": {},
   "outputs": [],
   "source": [
    "#タイムのカラム削除\n",
    "race_df.drop(['time'], axis=1, inplace=True)"
   ]
  },
  {
   "cell_type": "markdown",
   "id": "8b8425f5",
   "metadata": {},
   "source": [
    "### date"
   ]
  },
  {
   "cell_type": "code",
   "execution_count": 17,
   "id": "744aa2d7",
   "metadata": {},
   "outputs": [
    {
     "data": {
      "text/plain": [
       "array(['2022年1月29日', '2022年1月30日', '2022年2月5日', '2022年2月6日', '2022年2月12日',\n",
       "       '2022年2月13日', '2022年2月19日', '2022年2月20日', '2022年4月23日',\n",
       "       '2022年4月24日', '2022年4月30日', '2022年5月1日', '2022年5月7日', '2022年5月8日',\n",
       "       '2022年5月14日', '2022年5月15日', '2022年5月21日', '2022年5月22日',\n",
       "       '2022年5月28日', '2022年5月29日', '2022年6月4日', '2022年6月5日', '2022年6月11日',\n",
       "       '2022年6月12日', '2022年6月18日', '2022年6月19日', '2022年6月25日',\n",
       "       '2022年6月26日', '2022年10月8日', '2022年10月9日', '2022年10月10日',\n",
       "       '2022年10月15日', '2022年10月16日', '2022年10月22日', '2022年10月23日',\n",
       "       '2022年10月29日', '2022年10月30日', '2022年11月5日', '2022年11月6日',\n",
       "       '2022年11月12日', '2022年11月13日', '2022年11月19日', '2022年11月20日',\n",
       "       '2022年11月26日', '2022年11月27日'], dtype=object)"
      ]
     },
     "execution_count": 17,
     "metadata": {},
     "output_type": "execute_result"
    }
   ],
   "source": [
    "race_df[\"date\"].unique()"
   ]
  },
  {
   "cell_type": "markdown",
   "id": "45ff8bcd",
   "metadata": {},
   "source": [
    "### where_racecourse"
   ]
  },
  {
   "cell_type": "code",
   "execution_count": 18,
   "id": "6b4423f5",
   "metadata": {
    "scrolled": true
   },
   "outputs": [
    {
     "data": {
      "text/plain": [
       "array(['1回東京1日目', '1回東京2日目', '1回東京3日目', '1回東京4日目', '1回東京5日目', '1回東京6日目',\n",
       "       '1回東京7日目', '1回東京8日目', '2回東京1日目', '2回東京2日目', '2回東京3日目', '2回東京4日目',\n",
       "       '2回東京5日目', '2回東京6日目', '2回東京7日目', '2回東京8日目', '2回東京9日目', '2回東京10日目',\n",
       "       '2回東京11日目', '2回東京12日目', '3回東京1日目', '3回東京2日目', '3回東京3日目', '3回東京4日目',\n",
       "       '3回東京5日目', '3回東京6日目', '3回東京7日目', '3回東京8日目', '4回東京1日目', '4回東京2日目',\n",
       "       '4回東京3日目', '4回東京4日目', '4回東京5日目', '4回東京6日目', '4回東京7日目', '4回東京8日目',\n",
       "       '4回東京9日目', '5回東京1日目', '5回東京2日目', '5回東京3日目', '5回東京4日目', '5回東京5日目',\n",
       "       '5回東京6日目', '5回東京7日目', '5回東京8日目'], dtype=object)"
      ]
     },
     "execution_count": 18,
     "metadata": {},
     "output_type": "execute_result"
    }
   ],
   "source": [
    "race_df[\"where_racecourse\"].unique()"
   ]
  },
  {
   "cell_type": "code",
   "execution_count": 19,
   "id": "299671b0",
   "metadata": {},
   "outputs": [
    {
     "name": "stderr",
     "output_type": "stream",
     "text": [
      "C:\\Users\\kawam\\AppData\\Local\\Temp\\ipykernel_22068\\3042939588.py:1: FutureWarning: The default value of regex will change from True to False in a future version.\n",
      "  race_df[\"where_racecourse\"] = race_df[\"where_racecourse\"].str.replace('\\d*回(..)\\d*日目', r'\\1')\n"
     ]
    }
   ],
   "source": [
    "race_df[\"where_racecourse\"] = race_df[\"where_racecourse\"].str.replace('\\d*回(..)\\d*日目', r'\\1')"
   ]
  },
  {
   "cell_type": "markdown",
   "id": "31d08579",
   "metadata": {},
   "source": [
    "### その他"
   ]
  },
  {
   "cell_type": "code",
   "execution_count": 20,
   "id": "f190121f",
   "metadata": {},
   "outputs": [],
   "source": [
    "#,を抜いてint型に\n",
    "race_df['tansyo'] = race_df['tansyo'].apply(lambda x: int(x.replace(\",\", \"\")) if type(x) is str else int(x))\n",
    "race_df['hukusyo_first'] = race_df['hukusyo_first'].apply(lambda x: int(x.replace(\",\", \"\")) if type(x) is str else int(x))\n",
    "race_df['hukusyo_second'] = race_df['hukusyo_second'].apply(lambda x: int(x.replace(\",\", \"\")) if type(x) is str else int(x))\n",
    "race_df['hukusyo_third'] = race_df['hukusyo_third'].apply(lambda x: int(x.replace(\",\", \"\")) if type(x) is str else int(x))\n",
    "race_df['wakuren'] = race_df['wakuren'].apply(lambda x: int(x.replace(\",\", \"\")) if type(x) is str else int(x))\n",
    "race_df['umaren'] = race_df['umaren'].apply(lambda x: int(x.replace(\",\", \"\")) if type(x) is str else int(x))\n",
    "race_df['wide_1_2'] = race_df['wide_1_2'].apply(lambda x: int(x.replace(\",\", \"\")) if type(x) is str else int(x))\n",
    "race_df['wide_1_3'] = race_df['wide_1_3'].apply(lambda x: int(x.replace(\",\", \"\")) if type(x) is str else int(x))\n",
    "race_df['wide_2_3'] = race_df['wide_2_3'].apply(lambda x: int(x.replace(\",\", \"\")) if type(x) is str else int(x))\n",
    "race_df['umatan'] = race_df['umatan'].apply(lambda x: int(x.replace(\",\", \"\")) if type(x) is str else int(x))\n",
    "race_df['renhuku3'] = race_df['renhuku3'].apply(lambda x: int(x.replace(\",\", \"\")) if type(x) is str else int(x))\n",
    "race_df['rentan3'] = race_df['rentan3'].apply(lambda x: int(x.replace(\",\", \"\")) if type(x) is str else int(x))"
   ]
  },
  {
   "cell_type": "code",
   "execution_count": 21,
   "id": "74ac5d07",
   "metadata": {
    "scrolled": true
   },
   "outputs": [
    {
     "name": "stdout",
     "output_type": "stream",
     "text": [
      "<class 'pandas.core.frame.DataFrame'>\n",
      "RangeIndex: 272 entries, 0 to 271\n",
      "Data columns (total 29 columns):\n",
      " #   Column                  Non-Null Count  Dtype \n",
      "---  ------                  --------------  ----- \n",
      " 0   race_id                 272 non-null    int64 \n",
      " 1   race_round              272 non-null    int32 \n",
      " 2   race_title              272 non-null    object\n",
      " 3   weather                 272 non-null    object\n",
      " 4   ground_status           272 non-null    object\n",
      " 5   date                    272 non-null    object\n",
      " 6   where_racecourse        272 non-null    object\n",
      " 7   total_horse_number      272 non-null    int64 \n",
      " 8   frame_number_first      272 non-null    int64 \n",
      " 9   horse_number_first      272 non-null    int64 \n",
      " 10  frame_number_second     272 non-null    int64 \n",
      " 11  horse_number_second     272 non-null    int64 \n",
      " 12  frame_number_third      272 non-null    int64 \n",
      " 13  horse_number_third      272 non-null    int64 \n",
      " 14  tansyo                  272 non-null    int64 \n",
      " 15  hukusyo_first           272 non-null    int64 \n",
      " 16  hukusyo_second          272 non-null    int64 \n",
      " 17  hukusyo_third           272 non-null    int64 \n",
      " 18  wakuren                 272 non-null    int64 \n",
      " 19  umaren                  272 non-null    int64 \n",
      " 20  wide_1_2                272 non-null    int64 \n",
      " 21  wide_1_3                272 non-null    int64 \n",
      " 22  wide_2_3                272 non-null    int64 \n",
      " 23  umatan                  272 non-null    int64 \n",
      " 24  renhuku3                272 non-null    int64 \n",
      " 25  rentan3                 272 non-null    int64 \n",
      " 26  is_left_right_straight  272 non-null    object\n",
      " 27  distance                272 non-null    int32 \n",
      " 28  hour                    272 non-null    int32 \n",
      "dtypes: int32(3), int64(20), object(6)\n",
      "memory usage: 58.6+ KB\n"
     ]
    }
   ],
   "source": [
    "race_df.info()"
   ]
  },
  {
   "cell_type": "markdown",
   "id": "3c9fd763",
   "metadata": {},
   "source": [
    "## horse_df"
   ]
  },
  {
   "cell_type": "code",
   "execution_count": 22,
   "id": "2209cf5f",
   "metadata": {},
   "outputs": [
    {
     "data": {
      "text/html": [
       "<div>\n",
       "<style scoped>\n",
       "    .dataframe tbody tr th:only-of-type {\n",
       "        vertical-align: middle;\n",
       "    }\n",
       "\n",
       "    .dataframe tbody tr th {\n",
       "        vertical-align: top;\n",
       "    }\n",
       "\n",
       "    .dataframe thead th {\n",
       "        text-align: right;\n",
       "    }\n",
       "</style>\n",
       "<table border=\"1\" class=\"dataframe\">\n",
       "  <thead>\n",
       "    <tr style=\"text-align: right;\">\n",
       "      <th></th>\n",
       "      <th>race_id</th>\n",
       "      <th>rank</th>\n",
       "      <th>frame_number</th>\n",
       "      <th>horse_number</th>\n",
       "      <th>horse_id</th>\n",
       "      <th>sex_and_age</th>\n",
       "      <th>burden_weight</th>\n",
       "      <th>rider_id</th>\n",
       "      <th>goal_time</th>\n",
       "      <th>goal_time_dif</th>\n",
       "      <th>time_value</th>\n",
       "      <th>half_way_rank</th>\n",
       "      <th>last_time</th>\n",
       "      <th>odds</th>\n",
       "      <th>popular</th>\n",
       "      <th>horse_weight</th>\n",
       "      <th>tame_time</th>\n",
       "      <th>tamer_id</th>\n",
       "      <th>owner_id</th>\n",
       "    </tr>\n",
       "  </thead>\n",
       "  <tbody>\n",
       "    <tr>\n",
       "      <th>0</th>\n",
       "      <td>202205010101</td>\n",
       "      <td>1</td>\n",
       "      <td>1</td>\n",
       "      <td>2</td>\n",
       "      <td>2019101749</td>\n",
       "      <td>牝3</td>\n",
       "      <td>54</td>\n",
       "      <td>1092</td>\n",
       "      <td>1:26.3</td>\n",
       "      <td>NaN</td>\n",
       "      <td>\\r\\n\\r\\n**\\r\\n\\r\\n</td>\n",
       "      <td>1-1</td>\n",
       "      <td>37.2</td>\n",
       "      <td>7.9</td>\n",
       "      <td>4.0</td>\n",
       "      <td>458(+2)</td>\n",
       "      <td>\\r\\n\\r\\n</td>\n",
       "      <td>1106</td>\n",
       "      <td>318803</td>\n",
       "    </tr>\n",
       "    <tr>\n",
       "      <th>1</th>\n",
       "      <td>202205010101</td>\n",
       "      <td>2</td>\n",
       "      <td>2</td>\n",
       "      <td>4</td>\n",
       "      <td>2019102073</td>\n",
       "      <td>牝3</td>\n",
       "      <td>54</td>\n",
       "      <td>5212</td>\n",
       "      <td>1:26.5</td>\n",
       "      <td>1</td>\n",
       "      <td>\\r\\n\\r\\n**\\r\\n\\r\\n</td>\n",
       "      <td>4-4</td>\n",
       "      <td>37.0</td>\n",
       "      <td>4.2</td>\n",
       "      <td>1.0</td>\n",
       "      <td>448(+6)</td>\n",
       "      <td>\\r\\n\\r\\n</td>\n",
       "      <td>1108</td>\n",
       "      <td>149002</td>\n",
       "    </tr>\n",
       "  </tbody>\n",
       "</table>\n",
       "</div>"
      ],
      "text/plain": [
       "        race_id rank  frame_number  horse_number    horse_id sex_and_age  \\\n",
       "0  202205010101    1             1             2  2019101749          牝3   \n",
       "1  202205010101    2             2             4  2019102073          牝3   \n",
       "\n",
       "   burden_weight  rider_id goal_time goal_time_dif          time_value  \\\n",
       "0             54      1092    1:26.3           NaN  \\r\\n\\r\\n**\\r\\n\\r\\n   \n",
       "1             54      5212    1:26.5             1  \\r\\n\\r\\n**\\r\\n\\r\\n   \n",
       "\n",
       "  half_way_rank  last_time odds  popular horse_weight tame_time  tamer_id  \\\n",
       "0           1-1       37.2  7.9      4.0      458(+2)  \\r\\n\\r\\n      1106   \n",
       "1           4-4       37.0  4.2      1.0      448(+6)  \\r\\n\\r\\n      1108   \n",
       "\n",
       "   owner_id  \n",
       "0    318803  \n",
       "1    149002  "
      ]
     },
     "execution_count": 22,
     "metadata": {},
     "output_type": "execute_result"
    }
   ],
   "source": [
    "horse_df.head(2)"
   ]
  },
  {
   "cell_type": "code",
   "execution_count": 23,
   "id": "f7bc1e3c",
   "metadata": {
    "scrolled": true
   },
   "outputs": [
    {
     "name": "stdout",
     "output_type": "stream",
     "text": [
      "<class 'pandas.core.frame.DataFrame'>\n",
      "RangeIndex: 4088 entries, 0 to 4087\n",
      "Data columns (total 19 columns):\n",
      " #   Column         Non-Null Count  Dtype  \n",
      "---  ------         --------------  -----  \n",
      " 0   race_id        4088 non-null   int64  \n",
      " 1   rank           4088 non-null   object \n",
      " 2   frame_number   4088 non-null   int64  \n",
      " 3   horse_number   4088 non-null   int64  \n",
      " 4   horse_id       4088 non-null   int64  \n",
      " 5   sex_and_age    4088 non-null   object \n",
      " 6   burden_weight  4088 non-null   int64  \n",
      " 7   rider_id       4088 non-null   int64  \n",
      " 8   goal_time      4065 non-null   object \n",
      " 9   goal_time_dif  3793 non-null   object \n",
      " 10  time_value     4088 non-null   object \n",
      " 11  half_way_rank  4073 non-null   object \n",
      " 12  last_time      4065 non-null   float64\n",
      " 13  odds           4088 non-null   object \n",
      " 14  popular        4077 non-null   float64\n",
      " 15  horse_weight   4088 non-null   object \n",
      " 16  tame_time      4088 non-null   object \n",
      " 17  tamer_id       4088 non-null   int64  \n",
      " 18  owner_id       4088 non-null   int64  \n",
      "dtypes: float64(2), int64(8), object(9)\n",
      "memory usage: 606.9+ KB\n"
     ]
    }
   ],
   "source": [
    "horse_df.info()"
   ]
  },
  {
   "cell_type": "markdown",
   "id": "958aa9ed",
   "metadata": {},
   "source": [
    "### rank"
   ]
  },
  {
   "cell_type": "code",
   "execution_count": 24,
   "id": "e01cf37c",
   "metadata": {},
   "outputs": [
    {
     "data": {
      "text/plain": [
       "array(['1', '2', '3', '4', '5', '6', '7', '8', '9', '10', '11', '12',\n",
       "       '13', '14', '15', '16', '除', '中', '取'], dtype=object)"
      ]
     },
     "execution_count": 24,
     "metadata": {},
     "output_type": "execute_result"
    }
   ],
   "source": [
    "horse_df[\"rank\"].unique()"
   ]
  },
  {
   "cell_type": "code",
   "execution_count": 25,
   "id": "35c6e36d",
   "metadata": {},
   "outputs": [
    {
     "data": {
      "text/plain": [
       "array([1, 0], dtype=int64)"
      ]
     },
     "execution_count": 25,
     "metadata": {},
     "output_type": "execute_result"
    }
   ],
   "source": [
    "#入賞を1に、着外を0に\n",
    "horse_df['rank'] = horse_df['rank'].apply(lambda x: 1 if x in ['1', '2', '3'] else 0)\n",
    "horse_df['rank'].unique()"
   ]
  },
  {
   "cell_type": "markdown",
   "id": "a1f36397",
   "metadata": {},
   "source": [
    "### sex_and_age"
   ]
  },
  {
   "cell_type": "code",
   "execution_count": 26,
   "id": "0f3fb5e2",
   "metadata": {},
   "outputs": [
    {
     "data": {
      "text/plain": [
       "array(['牝3', '牡3', '牡4', 'セ5', '牡5', 'セ4', 'セ6', '牡6', 'セ7', '牝5', '牡8',\n",
       "       '牡9', '牝4', '牝8', '牡7', 'セ3', '牝6', 'セ8', '牝7', 'セ9', '牝2', '牡2',\n",
       "       'セ2', '牡10'], dtype=object)"
      ]
     },
     "execution_count": 26,
     "metadata": {},
     "output_type": "execute_result"
    }
   ],
   "source": [
    "horse_df['sex_and_age'].unique()"
   ]
  },
  {
   "cell_type": "code",
   "execution_count": 27,
   "id": "aeb8ccb3",
   "metadata": {},
   "outputs": [],
   "source": [
    "is_senba = horse_df[\"sex_and_age\"].str.extract('(セ)', expand=True)\n",
    "is_senba.columns ={\"is_senba\"}\n",
    "horse_df = pd.concat([horse_df, is_senba], axis=1)\n",
    "\n",
    "is_mesu = horse_df[\"sex_and_age\"].str.extract('(牝)', expand=True)\n",
    "is_mesu.columns ={\"is_mesu\"}\n",
    "horse_df = pd.concat([horse_df, is_mesu], axis=1)\n",
    "\n",
    "is_osu = horse_df[\"sex_and_age\"].str.extract('(牡)', expand=True)\n",
    "is_osu.columns ={\"is_osu\"}\n",
    "horse_df = pd.concat([horse_df, is_osu], axis=1)"
   ]
  },
  {
   "cell_type": "code",
   "execution_count": 28,
   "id": "caabc2b6",
   "metadata": {},
   "outputs": [],
   "source": [
    "horse_df.fillna(value={'is_osu': 0}, inplace=True)\n",
    "horse_df['is_osu'] = horse_df['is_osu'].replace('牡', 1)\n",
    "horse_df.fillna(value={'is_mesu': 0}, inplace=True)\n",
    "horse_df['is_mesu'] = horse_df['is_mesu'].replace('牝', 1)\n",
    "horse_df.fillna(value={'is_senba': 0}, inplace=True)\n",
    "horse_df['is_senba'] = horse_df['is_senba'].replace('セ', 1)\n",
    "## 余分な文字を削除\n",
    "horse_df['sex_and_age'] = horse_df['sex_and_age'].str.strip(\"牝牡セ\")\n",
    "horse_df['sex_and_age'] = horse_df['sex_and_age'].astype(int)"
   ]
  },
  {
   "cell_type": "code",
   "execution_count": 29,
   "id": "55da8f82",
   "metadata": {},
   "outputs": [],
   "source": [
    "horse_df = horse_df.rename(columns={'sex_and_age': 'age'})"
   ]
  },
  {
   "cell_type": "markdown",
   "id": "64f56883",
   "metadata": {},
   "source": [
    "### goal_time"
   ]
  },
  {
   "cell_type": "code",
   "execution_count": 30,
   "id": "d5023f20",
   "metadata": {},
   "outputs": [
    {
     "data": {
      "text/plain": [
       "array(['1:26.3', '1:26.5', '1:27.0', '1:27.1', '1:27.2', '1:27.4',\n",
       "       '1:27.7', '1:27.8', '1:28.0', '1:28.7', '1:28.9', '1:29.0',\n",
       "       '1:29.1', '1:26.6', '1:27.3', '1:28.1', '1:28.6', '1:29.2',\n",
       "       '1:29.7', '1:30.0', '1:30.3', '1:30.5', '1:31.2', '1:31.9',\n",
       "       '1:39.1', '1:39.2', '1:39.3', '1:39.4', '1:39.6', '1:40.1',\n",
       "       '1:40.8', '1:41.0', '1:41.4', '1:41.5', '1:42.2', '1:42.5',\n",
       "       '1:43.4', '1:43.6', '1:43.9', '1:36.9', '1:37.4', '1:37.6',\n",
       "       '1:37.7', '1:38.0', '1:38.1', '1:38.3', '1:39.0', '1:40.0',\n",
       "       '1:40.2', '1:25.7', '1:25.8', '1:25.9', '1:26.0', '1:26.1',\n",
       "       '1:26.2', '1:26.7', '1:26.9', '1:27.5', '1:28.3', '2:11.8',\n",
       "       '2:12.5', '2:12.6', '2:12.7', '2:13.1', '2:13.6', '2:13.8',\n",
       "       '2:14.0', '2:14.2', '2:14.3', '2:14.6', '2:14.8', '2:15.2',\n",
       "       '2:15.4', '2:16.5', '2:19.0', '1:36.2', '1:36.4', '1:36.5',\n",
       "       '1:36.7', '1:37.2', '1:37.3', '1:37.5', '1:37.8', '1:37.9',\n",
       "       '1:38.4', '1:27.6', '1:27.9', '1:30.2', '1:30.4', '1:30.6',\n",
       "       '1:32.9', '2:14.7', '2:15.5', '2:16.0', '2:16.1', '2:16.6',\n",
       "       '2:16.8', '2:16.9', '2:17.7', '2:18.7', '2:19.3', '1:40.3',\n",
       "       '1:40.5', '1:40.7', '1:40.9', '1:41.1', '1:41.7', '1:41.9',\n",
       "       '1:42.3', '1:38.6', '1:38.9', '1:39.5', '1:39.7', '1:41.8',\n",
       "       '1:42.9', '2:12.8', '2:13.2', '2:14.4', '2:14.5', '2:15.0',\n",
       "       '1:24.6', '1:25.1', '1:25.2', '1:25.6', '1:23.1', '1:23.3',\n",
       "       '1:23.4', '1:23.5', '1:23.7', '1:23.8', '1:23.9', '1:24.2',\n",
       "       '1:24.3', '1:24.7', '1:25.0', '1:26.4', '1:28.2', '1:28.4',\n",
       "       '1:29.5', '1:31.0', '1:33.2', '1:20.3', '1:20.6', '1:20.7',\n",
       "       '1:20.9', '1:21.0', '1:21.1', '1:21.3', '1:21.5', '1:21.6',\n",
       "       '1:39.9', '1:40.6', '1:41.2', '1:41.6', '1:42.0', '1:49.2',\n",
       "       '1:25.3', '1:26.8', '1:38.5', '1:38.7', '1:38.8', '1:41.3',\n",
       "       '1:38.2', '1:28.5', '1:28.8', '1:31.6', '2:15.7', '2:16.3',\n",
       "       '2:17.1', '2:17.5', '2:18.3', '2:18.8', '2:20.1', '1:42.1',\n",
       "       '1:43.1', '1:43.3', '1:43.5', '1:44.5', '1:44.6', '1:44.9',\n",
       "       '1:40.4', '1:42.6', '1:19.0', '1:19.4', '1:19.5', '1:19.7',\n",
       "       '1:19.8', '1:19.9', '1:20.4', '1:20.8', '1:21.2', '1:25.5',\n",
       "       '1:18.2', '1:18.4', '1:18.5', '1:18.6', '1:18.8', '1:19.1',\n",
       "       '1:19.2', '1:20.1', '1:20.5', '1:19.3', '1:19.6', '1:20.2', nan,\n",
       "       '1:22.8', '1:23.6', '1:24.1', '1:24.5', '1:24.9', '1:25.4',\n",
       "       '2:09.9', '2:10.3', '2:10.4', '2:10.8', '2:10.9', '2:11.0',\n",
       "       '2:11.1', '2:11.4', '2:11.5', '2:11.9', '2:12.2', '2:12.4',\n",
       "       '2:13.0', '2:13.7', '1:35.8', '1:35.9', '1:36.1', '1:36.3',\n",
       "       '1:37.0', '1:37.1', '1:31.4', '2:12.0', '2:12.9', '2:13.9',\n",
       "       '2:15.8', '2:17.8', '2:19.9', '2:22.2', '1:39.8', '1:36.6',\n",
       "       '1:36.8', '1:22.2', '1:22.4', '1:22.7', '1:23.0', '1:23.2',\n",
       "       '1:24.0', '1:24.4', '1:24.8', '1:45.5', '1:44.2', '1:44.3',\n",
       "       '1:44.4', '1:44.7', '1:46.8', '2:11.7', '2:12.3', '2:15.3',\n",
       "       '2:10.6', '2:11.3', '2:13.3', '2:15.6', '2:17.0', '1:31.3',\n",
       "       '1:35.3', '1:35.5', '1:35.6', '1:33.8', '1:34.2', '1:34.3',\n",
       "       '1:34.5', '1:34.6', '1:34.7', '1:34.8', '1:35.0', '1:35.1',\n",
       "       '1:35.2', '1:35.7', '1:42.4', '2:13.5', '2:14.9', '2:16.7',\n",
       "       '2:17.2', '2:17.9', '1:36.0', '1:35.4', '1:29.3', '1:29.4',\n",
       "       '1:42.7', '2:08.1', '2:08.8', '2:09.0', '2:09.4', '2:09.5',\n",
       "       '2:09.7', '2:09.8', '2:10.1', '2:10.2', '2:10.7', '2:11.2',\n",
       "       '2:12.1', '2:15.9', '2:17.4', '2:07.1', '2:07.4', '2:07.5',\n",
       "       '2:07.8', '2:08.0', '2:08.2', '2:08.4', '2:09.1', '1:16.6',\n",
       "       '1:16.8', '1:16.9', '1:17.0', '1:17.7', '1:17.8', '1:17.9',\n",
       "       '1:18.0', '1:18.1', '1:18.3', '1:18.9', '1:43.0', '1:20.0',\n",
       "       '1:22.3', '2:16.4', '2:19.7', '1:29.6', '1:29.9', '1:46.1',\n",
       "       '1:21.9', '1:22.5', '1:22.9', '2:14.1', '1:21.7', '1:31.1',\n",
       "       '2:19.6', '1:33.0', '1:33.1', '2:10.0', '2:11.6', '2:15.1',\n",
       "       '1:33.9', '1:21.4', '2:13.4', '2:20.2', '2:31.4', '1:30.8',\n",
       "       '2:09.2', '2:17.3', '2:46.6', '2:08.5', '2:08.7', '2:08.9',\n",
       "       '2:09.6', '1:30.9', '1:32.3', '1:33.5', '1:33.6', '1:43.2',\n",
       "       '1:22.6', '2:08.6', '2:10.5', '1:34.9', '1:43.7', '1:45.6',\n",
       "       '2:07.9', '2:09.3', '1:16.2', '1:17.2', '1:17.3', '1:17.5',\n",
       "       '1:17.6', '1:29.8', '1:46.0', '1:30.1', '1:43.8', '1:21.8',\n",
       "       '1:22.0', '2:18.2', '1:30.7', '1:44.0', '1:22.1', '1:49.3',\n",
       "       '1:48.6', '1:45.8', '1:18.7', '1:45.3', '1:48.0', '1:31.5',\n",
       "       '1:31.7', '1:49.9'], dtype=object)"
      ]
     },
     "execution_count": 30,
     "metadata": {},
     "output_type": "execute_result"
    }
   ],
   "source": [
    "horse_df['goal_time'].unique()"
   ]
  },
  {
   "cell_type": "code",
   "execution_count": 31,
   "id": "88c60302",
   "metadata": {},
   "outputs": [],
   "source": [
    "horse_df['goal_time'] = pd.to_datetime(horse_df['goal_time'], format='%M:%S.%f') - pd.to_datetime('00:00.0', format='%M:%S.%f')\n",
    "horse_df['goal_time'] = horse_df['goal_time'].dt.total_seconds()\n",
    "horse_df.fillna(value={'goal_time': horse_df['goal_time'].max()}, inplace=True)\n",
    "horse_df.fillna(value={'last_time': horse_df['last_time'].max()}, inplace=True)"
   ]
  },
  {
   "cell_type": "markdown",
   "id": "e8542c0f",
   "metadata": {},
   "source": [
    "### half_way_rank"
   ]
  },
  {
   "cell_type": "code",
   "execution_count": 32,
   "id": "0b3385cf",
   "metadata": {},
   "outputs": [
    {
     "data": {
      "text/plain": [
       "array(['1-1', '4-4', '3-3', '6-6', '15-14', '11-8', '2-2', '8-9', '11-11',\n",
       "       '13-11', '6-7', '10-11', '14-14', '15-16', '4-5', '5-4', '10-9',\n",
       "       '9-9', '8-8', '7-7', '13-13', '12-12', '14-15', '16-16', '11-12',\n",
       "       '13-10', '8-6', '4-2', '5-5', '11-13', '5-6', '10-10', '15-15',\n",
       "       '7-6', '13-14', '14-13', '7-8', '12-11', '4-3', '2-3', '9-8',\n",
       "       '6-5', '12-13', '9-10', '4-3-2-2', '2-2-3-3', '5-5-5-4', '1-1-1-1',\n",
       "       '6-6-7-6', '12-14-11-10', '9-9-7-8', '10-9-7-10', '16-15-15-14',\n",
       "       '12-11-11-10', '12-11-11-8', '6-6-7-7', '3-3-4-4', '15-15-15-14',\n",
       "       '6-6-6-10', '10-11-11-14', '11-9', '9-7', '13-12', '9-11', '5-7',\n",
       "       '2-1', '12-10', '11-10', '1-2', '8-10', '16-15', '3-3-3-3',\n",
       "       '5-5-4-4', '8-7-7-7', '6-6-6-4', '8-10-12-11', '2-2-2-2',\n",
       "       '8-9-9-10', '11-10-11-9', '6-7-7-7', '13-13-13-13', '12-12-10-11',\n",
       "       '3-2', '7-10', '13-16', '8-7', '6-4', '3-4', '5-4-3-3', '4-4-5-4',\n",
       "       '5-6-7-8', '8-8-7-9', '10-10-9-6', '12-12-9-10', '2-2-3-4',\n",
       "       '5-6-5-6', '8-8-9-10', '10-11-12-12', '4-7', '12-15', '12-16',\n",
       "       '15-12', '6-8', '13-15', '5-3', '16-10', '10-8', '4-4-3-2',\n",
       "       '7-7-5-5', '3-3-3-2', '13-14-14-14', '13-12-13-11', '10-10-9-7',\n",
       "       '9-8-9-7', '8-8-8-7', '11-12-11-11', '5-5-5-5', '5-5-5-7',\n",
       "       '12-10-11-11', '12-9', '10-7', '7-9', '12-14', '14-16', '16-13',\n",
       "       nan, '4-6', '7-12', '5-3-5-4', '7-10-11-11', '5-6-7-7', '13-9-3-4',\n",
       "       '13-14-13-13', '15-15-15-15', '10-10-8-8', '3-3-5-4',\n",
       "       '11-12-13-14', '7-7-9-9', '6-7-7-5', '14-14-12-9', '12-10-8-8',\n",
       "       '4-6-4-3', '7-8-8-6', '10-10-10-10', '10-10-11-12', '2-4-4-6',\n",
       "       '4-3-2-3', '7-4-4-10', '16-16-15-14', '15-15-16-16', '13-13-14-14',\n",
       "       '7-8-12-13', '14-11', '15-13', '9-13', '14-12', '10-13', '10-12',\n",
       "       '9-8-7-6', '2-3-3-4', '7-7-10-10', '9-9-13-11', '2-3-3-3',\n",
       "       '13-14-9-8', '13-12-14-14', '15-15-15-11', '5-5-6-6',\n",
       "       '16-16-16-16', '12-12-11-11', '8-9-11-14', '6-6-5-3', '1-2-2-1',\n",
       "       '10-9-7-5', '13-12-10-10', '14-14-13-10', '4-5-5-4', '6-7-9-8',\n",
       "       '10-7-7-6', '2-3-2-2', '8-11-10-8', '15-15-15-12', '10-12-13-14',\n",
       "       '4-4-4-6', '16-16-16-15', '8-9-12-12', '2-1-1', '11-14',\n",
       "       '10-8-7-6', '3-3-2-2', '5-5-4-5', '14-12-10-8', '8-10-10-13',\n",
       "       '8-8-7-8', '5-7-7-8', '14-15-13-8', '10-12-14-14', '12-12-16-16',\n",
       "       '16-15-14-14', '3-3-4-6', '12-10-10-8', '5-2', '3-5', '12-8',\n",
       "       '5-8', '8-11', '3-3-2-3', '9-9-6-4', '3-4-4-4', '12-12-10-9',\n",
       "       '14-14-14-13', '9-10-10-8', '13-13-10-9', '11-10-10-13', '3-5-4-4',\n",
       "       '7-6-7-11', '7-5', '7-13', '2-5', '11-15', '5-9', '3-6', '10-14',\n",
       "       '13-13-13-12', '6-6-5-5', '10-10-9-9', '8-7-5-8', '8-9-5-5',\n",
       "       '4-4-2-2', '10-10-11-9', '13-13-11-11', '12-12-13-14', '7-7-9-12',\n",
       "       '3-2-2-2', '10-9-10-10', '6-8-7-7', '6-6-2-2', '12-11-10-10',\n",
       "       '14-14-13-14', '11-11-12-12', '6-6-7-8', '16-14', '8-4', '3-7',\n",
       "       '6-6-6-3', '10-8-8-7', '13-11-10-10', '11-11-13-13', '6-7-6-7',\n",
       "       '8-10-10-10', '14-14-13-13', '11-11-10-10', '10-6', '6-5-5-5',\n",
       "       '11-11-11-10', '7-8-8-8', '14-14-14-14', '9-9-10-10', '7-7-7-6',\n",
       "       '3-4-4-3', '11-11-11-12', '5-5-5-8', '10-5', '6-9', '11-11-8-8',\n",
       "       '3-4-3-3', '11-12-11-9', '3-3-3-5', '7-7-3-3', '5-5-12-12',\n",
       "       '8-7-6-5', '5-5-7-7', '8-9-9-9', '16', '6-3', '1-2-2-2', '9-9-7-7',\n",
       "       '6-3-3-3', '14-14-16-14', '13-13-11-10', '15-15-14-11',\n",
       "       '11-11-12-11', '11-11-12-14', '16-16-14-14', '4-5-5-6', '8-8-9-9',\n",
       "       '9-9-9-11', '2-1-1-1', '4-7-7-7', '2-3-3-2', '4-4-4-4', '7-9-7-7',\n",
       "       '9-10-9-7', '7-8-8-9', '4-6-10-11', '9-6-4-4', '13-9', '6-2',\n",
       "       '9-5', '4-16', '8-8-9-6', '9-10-9-6', '9-8-8-9', '6-7-5-5',\n",
       "       '6-5-3-3', '5-6-7-6', '11-11-11-11', '3-3-5-10', '8-5', '3-4-5-4',\n",
       "       '6-4-2-2', '12-12-12-12', '5-6-6-6', '3-2-2-4', '11-10-10-11',\n",
       "       '9-6-6-6', '6-6-6-6', '6-9-6-9', '9-11-10-9', '13-13-12-12',\n",
       "       '11-12-12-12', '7-8-9-9', '7-5-3-3', '9-10-10-10', '6-7-7-6',\n",
       "       '16-16-15-15', '11-10-10-10', '15-15-15-16', '9-8-5-6', '3-3-7-6',\n",
       "       '9-6', '3-10', '1-1-2-2', '3-3-6-5', '7-6-3-6', '11-11-10-9',\n",
       "       '8-8-1-1', '5-7-8-7', '11-12-12-9', '9-8-10-9', '9-10-8-9',\n",
       "       '5-5-6-7', '11-7', '8-7-5-6', '13-12-7-8', '6-5-5-3', '10-9-11-9',\n",
       "       '10-9-7-6', '13-12-11-9', '12-12-11-12', '5-5-7-12', '7-7-14-15',\n",
       "       '8-9-7-11', '2-4', '5-6-4-3', '1-1-4-3', '5-2-1-1', '7-7-6-6',\n",
       "       '3-5-6-6', '7-9-9-9', '6-6-6-5', '10-11-11-10', '10-9-9-9',\n",
       "       '6-6-8-7', '6-6-6-7', '4-4-4-3', '11-10-9-9', '13-14-14-13',\n",
       "       '8-7-6-8', '12-12-11-9', '13-12-13-12', '2-3-2-1', '4-4-4-5',\n",
       "       '7-7-9-11', '8-10-11-13', '4-4-6-5', '1-1-1-3', '15-15-12-10',\n",
       "       '7-8-6-4', '11-12-9-9', '8-5-3-4', '5-5-3-2', '5-5-11-10',\n",
       "       '11-11-12-13', '8-8-6-7', '3-3-6-7', '2-2-1-1', '13-13-16-16',\n",
       "       '10-10-8-7', '4-3-3-2', '8-8-8-10', '9-9-8-7', '12-5', '9-12',\n",
       "       '2-8', '7-7-5-4', '2-2-2-1', '11-10-10-8', '13-12-12-11',\n",
       "       '4-6-7-6', '5-4-6-7', '1-1-1-2', '9-9-9-10', '10-12-13-15', '4-8',\n",
       "       '14-14-14-11', '9-8-8-8', '9-10-11-9', '12-13-11-11', '6-4-4-4',\n",
       "       '9-10-11-15', '12-10-8-9', '4-6-4-4', '7-8-10-11', '6-10',\n",
       "       '7-7-7-4', '6-5-1-1', '4-3-5-7', '9-10-10-9', '9-7-3-6', '4-5-8-7',\n",
       "       '2-2-5-4', '2-3-8-11', '4-10', '8-12', '4-3-4-3', '14-16-16-16',\n",
       "       '10-9-12-13', '14-14-15-15', '13-12-9-9', '16-14-14-9',\n",
       "       '12-12-12-13', '4-4-3-3', '9-9-9-8', '8-8-8-8', '10-9-9-10',\n",
       "       '10-11-11-11', '10-10-10-9', '14-12-3-4', '7-9-7-6', '11-10-12-12',\n",
       "       '7-6-10-9', '4-4-5-6', '7-6-9-9', '12-12-13-13', '11-9-4-4',\n",
       "       '6-6-4-4', '9-11-10-11', '9-9-10-8', '7-6-8-8', '7-3',\n",
       "       '9-11-13-14', '8-8-7-7', '11-9-10-9', '13-14-9-11', '15-15-13-11',\n",
       "       '13-13-13-11', '6-6-7-5', '3-4-4-7', '9-9-10-14', '5-4-4-5',\n",
       "       '7-11', '15-11', '7-5-5-5', '11-11-10-7', '7-9-10-11',\n",
       "       '11-12-13-13', '6-7-7-8', '10-10-9-8', '13-13-10-8', '9-8-7-11',\n",
       "       '7-4', '6-12', '14-10', '16-16-13-12', '15-14-13-10', '4-3-3-3',\n",
       "       '14-14-16-16', '9-9-10-12', '12-12-12-14', '5-5-5-6', '8-7-5-5',\n",
       "       '3-3-3-4', '7-2', '8-7-7-6', '10-9-7-9', '14-14-14-12',\n",
       "       '10-9-11-10', '6-5-4-4', '15-14-14-14', '8-9-10-10', '4-5-4-6',\n",
       "       '12-12-12-15'], dtype=object)"
      ]
     },
     "execution_count": 32,
     "metadata": {},
     "output_type": "execute_result"
    }
   ],
   "source": [
    "horse_df['half_way_rank'].unique()"
   ]
  },
  {
   "cell_type": "code",
   "execution_count": 33,
   "id": "6668149e",
   "metadata": {},
   "outputs": [],
   "source": [
    "from statistics import mean\n",
    "horse_df[\"half_way_rank\"] = horse_df[\"half_way_rank\"].apply(lambda x: mean([float(n) for n in (x.split(\"-\"))]) if type(x) is str else float(x) )\n",
    "horse_df[horse_df[\"rank\"] == 20] = horse_df[horse_df[\"rank\"] == 20].fillna({'half_way_rank': 20})\n",
    "horse_df[\"half_way_rank\"] = horse_df[\"half_way_rank\"].fillna(horse_df['half_way_rank'].mean())\n",
    "horse_df[\"half_way_rank\"].isnull().sum()\n",
    "horse_df[\"half_way_rank\"] = horse_df[\"half_way_rank\"].astype(float)"
   ]
  },
  {
   "cell_type": "markdown",
   "id": "69ae1577",
   "metadata": {},
   "source": [
    "### horse_weight"
   ]
  },
  {
   "cell_type": "code",
   "execution_count": 34,
   "id": "ec5a2a85",
   "metadata": {},
   "outputs": [],
   "source": [
    "horse_weight_dif = horse_df[\"horse_weight\"].str.extract('\\(([-|+]?\\d*)\\)', expand=True)\n",
    "horse_weight_dif.columns ={\"horse_weight_dif\"}\n",
    "\n",
    "horse_df = pd.concat([horse_df, horse_weight_dif], axis=1)\n",
    "\n",
    "horse_df['horse_weight'] = horse_df['horse_weight'].replace('\\(([-|+]?\\d*)\\)', '', regex=True)\n",
    "\n",
    "horse_df['horse_weight'] = horse_df['horse_weight'].replace('計不', np.nan)\n",
    "horse_df['horse_weight'] = horse_df['horse_weight'].astype(float)\n",
    "horse_df['horse_weight_dif'] = horse_df['horse_weight_dif'].astype(float)\n",
    "\n",
    "no_records = horse_df[horse_df['horse_weight'].isnull()]['horse_id']\n",
    "for no_record_id in no_records:\n",
    "    horse_df.loc[(horse_df['horse_id'] == no_record_id)&(horse_df['horse_weight'].isnull()), 'horse_weight'] = horse_df[horse_df['horse_id'] == no_record_id]['horse_weight'].mean() \n",
    "    horse_df.loc[(horse_df['horse_id'] == no_record_id)&(horse_df['horse_weight_dif'].isnull()), 'horse_weight_dif'] = 0 "
   ]
  },
  {
   "cell_type": "markdown",
   "id": "a5b819c0",
   "metadata": {},
   "source": [
    "### odds"
   ]
  },
  {
   "cell_type": "code",
   "execution_count": 35,
   "id": "335addae",
   "metadata": {},
   "outputs": [
    {
     "data": {
      "text/plain": [
       "array(['7.9', '4.2', '5.0', ..., '344.1', '48.9', '191.1'], dtype=object)"
      ]
     },
     "execution_count": 35,
     "metadata": {},
     "output_type": "execute_result"
    }
   ],
   "source": [
    "horse_df['odds'].unique()"
   ]
  },
  {
   "cell_type": "code",
   "execution_count": 36,
   "id": "623163ff",
   "metadata": {},
   "outputs": [],
   "source": [
    "horse_df = horse_df[horse_df['odds']!='---']"
   ]
  },
  {
   "cell_type": "code",
   "execution_count": 37,
   "id": "829c6070",
   "metadata": {},
   "outputs": [],
   "source": [
    "horse_df['odds']= horse_df['odds'].astype(float)"
   ]
  },
  {
   "cell_type": "code",
   "execution_count": 38,
   "id": "f744b64e",
   "metadata": {},
   "outputs": [],
   "source": [
    "horse_df.drop(['time_value'], axis=1, inplace=True)\n",
    "horse_df.drop(['goal_time_dif'], axis=1, inplace=True)\n",
    "horse_df.drop(['tame_time'], axis=1, inplace=True)"
   ]
  },
  {
   "cell_type": "code",
   "execution_count": 39,
   "id": "2196cfaa",
   "metadata": {},
   "outputs": [
    {
     "data": {
      "text/html": [
       "<div>\n",
       "<style scoped>\n",
       "    .dataframe tbody tr th:only-of-type {\n",
       "        vertical-align: middle;\n",
       "    }\n",
       "\n",
       "    .dataframe tbody tr th {\n",
       "        vertical-align: top;\n",
       "    }\n",
       "\n",
       "    .dataframe thead th {\n",
       "        text-align: right;\n",
       "    }\n",
       "</style>\n",
       "<table border=\"1\" class=\"dataframe\">\n",
       "  <thead>\n",
       "    <tr style=\"text-align: right;\">\n",
       "      <th></th>\n",
       "      <th>race_id</th>\n",
       "      <th>race_round</th>\n",
       "      <th>race_title</th>\n",
       "      <th>weather</th>\n",
       "      <th>ground_status</th>\n",
       "      <th>date</th>\n",
       "      <th>where_racecourse</th>\n",
       "      <th>total_horse_number</th>\n",
       "      <th>frame_number_first</th>\n",
       "      <th>horse_number_first</th>\n",
       "      <th>...</th>\n",
       "      <th>umaren</th>\n",
       "      <th>wide_1_2</th>\n",
       "      <th>wide_1_3</th>\n",
       "      <th>wide_2_3</th>\n",
       "      <th>umatan</th>\n",
       "      <th>renhuku3</th>\n",
       "      <th>rentan3</th>\n",
       "      <th>is_left_right_straight</th>\n",
       "      <th>distance</th>\n",
       "      <th>hour</th>\n",
       "    </tr>\n",
       "  </thead>\n",
       "  <tbody>\n",
       "    <tr>\n",
       "      <th>0</th>\n",
       "      <td>202205010101</td>\n",
       "      <td>1</td>\n",
       "      <td>3歳未勝利</td>\n",
       "      <td>天候 : 曇</td>\n",
       "      <td>ダート : 良</td>\n",
       "      <td>2022年1月29日</td>\n",
       "      <td>東京</td>\n",
       "      <td>16</td>\n",
       "      <td>1</td>\n",
       "      <td>2</td>\n",
       "      <td>...</td>\n",
       "      <td>1560</td>\n",
       "      <td>580</td>\n",
       "      <td>760</td>\n",
       "      <td>540</td>\n",
       "      <td>3500</td>\n",
       "      <td>3450</td>\n",
       "      <td>19720</td>\n",
       "      <td>左</td>\n",
       "      <td>1400</td>\n",
       "      <td>10</td>\n",
       "    </tr>\n",
       "    <tr>\n",
       "      <th>1</th>\n",
       "      <td>202205010102</td>\n",
       "      <td>2</td>\n",
       "      <td>3歳新馬</td>\n",
       "      <td>天候 : 曇</td>\n",
       "      <td>ダート : 良</td>\n",
       "      <td>2022年1月29日</td>\n",
       "      <td>東京</td>\n",
       "      <td>16</td>\n",
       "      <td>8</td>\n",
       "      <td>16</td>\n",
       "      <td>...</td>\n",
       "      <td>350</td>\n",
       "      <td>180</td>\n",
       "      <td>700</td>\n",
       "      <td>450</td>\n",
       "      <td>890</td>\n",
       "      <td>1420</td>\n",
       "      <td>6330</td>\n",
       "      <td>左</td>\n",
       "      <td>1400</td>\n",
       "      <td>10</td>\n",
       "    </tr>\n",
       "  </tbody>\n",
       "</table>\n",
       "<p>2 rows × 29 columns</p>\n",
       "</div>"
      ],
      "text/plain": [
       "        race_id  race_round race_title weather ground_status        date  \\\n",
       "0  202205010101           1      3歳未勝利  天候 : 曇       ダート : 良  2022年1月29日   \n",
       "1  202205010102           2       3歳新馬  天候 : 曇       ダート : 良  2022年1月29日   \n",
       "\n",
       "  where_racecourse  total_horse_number  frame_number_first  \\\n",
       "0               東京                  16                   1   \n",
       "1               東京                  16                   8   \n",
       "\n",
       "   horse_number_first  ...  umaren  wide_1_2  wide_1_3  wide_2_3  umatan  \\\n",
       "0                   2  ...    1560       580       760       540    3500   \n",
       "1                  16  ...     350       180       700       450     890   \n",
       "\n",
       "   renhuku3  rentan3  is_left_right_straight  distance  hour  \n",
       "0      3450    19720                       左      1400    10  \n",
       "1      1420     6330                       左      1400    10  \n",
       "\n",
       "[2 rows x 29 columns]"
      ]
     },
     "execution_count": 39,
     "metadata": {},
     "output_type": "execute_result"
    }
   ],
   "source": [
    "race_df.head(2)"
   ]
  },
  {
   "cell_type": "code",
   "execution_count": 40,
   "id": "b1eaa8c0",
   "metadata": {
    "scrolled": true
   },
   "outputs": [
    {
     "data": {
      "text/html": [
       "<div>\n",
       "<style scoped>\n",
       "    .dataframe tbody tr th:only-of-type {\n",
       "        vertical-align: middle;\n",
       "    }\n",
       "\n",
       "    .dataframe tbody tr th {\n",
       "        vertical-align: top;\n",
       "    }\n",
       "\n",
       "    .dataframe thead th {\n",
       "        text-align: right;\n",
       "    }\n",
       "</style>\n",
       "<table border=\"1\" class=\"dataframe\">\n",
       "  <thead>\n",
       "    <tr style=\"text-align: right;\">\n",
       "      <th></th>\n",
       "      <th>race_id</th>\n",
       "      <th>rank</th>\n",
       "      <th>frame_number</th>\n",
       "      <th>horse_number</th>\n",
       "      <th>horse_id</th>\n",
       "      <th>age</th>\n",
       "      <th>burden_weight</th>\n",
       "      <th>rider_id</th>\n",
       "      <th>goal_time</th>\n",
       "      <th>half_way_rank</th>\n",
       "      <th>last_time</th>\n",
       "      <th>odds</th>\n",
       "      <th>popular</th>\n",
       "      <th>horse_weight</th>\n",
       "      <th>tamer_id</th>\n",
       "      <th>owner_id</th>\n",
       "      <th>is_senba</th>\n",
       "      <th>is_mesu</th>\n",
       "      <th>is_osu</th>\n",
       "      <th>horse_weight_dif</th>\n",
       "    </tr>\n",
       "  </thead>\n",
       "  <tbody>\n",
       "    <tr>\n",
       "      <th>0</th>\n",
       "      <td>202205010101</td>\n",
       "      <td>1</td>\n",
       "      <td>1</td>\n",
       "      <td>2</td>\n",
       "      <td>2019101749</td>\n",
       "      <td>3</td>\n",
       "      <td>54</td>\n",
       "      <td>1092</td>\n",
       "      <td>86.3</td>\n",
       "      <td>1.0</td>\n",
       "      <td>37.2</td>\n",
       "      <td>7.9</td>\n",
       "      <td>4.0</td>\n",
       "      <td>458.0</td>\n",
       "      <td>1106</td>\n",
       "      <td>318803</td>\n",
       "      <td>0</td>\n",
       "      <td>1</td>\n",
       "      <td>0</td>\n",
       "      <td>2.0</td>\n",
       "    </tr>\n",
       "    <tr>\n",
       "      <th>1</th>\n",
       "      <td>202205010101</td>\n",
       "      <td>1</td>\n",
       "      <td>2</td>\n",
       "      <td>4</td>\n",
       "      <td>2019102073</td>\n",
       "      <td>3</td>\n",
       "      <td>54</td>\n",
       "      <td>5212</td>\n",
       "      <td>86.5</td>\n",
       "      <td>4.0</td>\n",
       "      <td>37.0</td>\n",
       "      <td>4.2</td>\n",
       "      <td>1.0</td>\n",
       "      <td>448.0</td>\n",
       "      <td>1108</td>\n",
       "      <td>149002</td>\n",
       "      <td>0</td>\n",
       "      <td>1</td>\n",
       "      <td>0</td>\n",
       "      <td>6.0</td>\n",
       "    </tr>\n",
       "  </tbody>\n",
       "</table>\n",
       "</div>"
      ],
      "text/plain": [
       "        race_id  rank  frame_number  horse_number    horse_id  age  \\\n",
       "0  202205010101     1             1             2  2019101749    3   \n",
       "1  202205010101     1             2             4  2019102073    3   \n",
       "\n",
       "   burden_weight  rider_id  goal_time  half_way_rank  last_time  odds  \\\n",
       "0             54      1092       86.3            1.0       37.2   7.9   \n",
       "1             54      5212       86.5            4.0       37.0   4.2   \n",
       "\n",
       "   popular  horse_weight  tamer_id  owner_id  is_senba  is_mesu  is_osu  \\\n",
       "0      4.0         458.0      1106    318803         0        1       0   \n",
       "1      1.0         448.0      1108    149002         0        1       0   \n",
       "\n",
       "   horse_weight_dif  \n",
       "0               2.0  \n",
       "1               6.0  "
      ]
     },
     "execution_count": 40,
     "metadata": {},
     "output_type": "execute_result"
    }
   ],
   "source": [
    "horse_df.head(2)"
   ]
  },
  {
   "cell_type": "code",
   "execution_count": 41,
   "id": "f8dd6e21",
   "metadata": {},
   "outputs": [],
   "source": [
    "race_df.to_csv(\"../Scraping/csv/cleaned_race_data.csv\", index=False )\n",
    "horse_df.to_csv(\"../Scraping/csv/cleaned_horse_data.csv\", index=False )"
   ]
  }
 ],
 "metadata": {
  "kernelspec": {
   "display_name": "Python 3 (ipykernel)",
   "language": "python",
   "name": "python3"
  },
  "language_info": {
   "codemirror_mode": {
    "name": "ipython",
    "version": 3
   },
   "file_extension": ".py",
   "mimetype": "text/x-python",
   "name": "python",
   "nbconvert_exporter": "python",
   "pygments_lexer": "ipython3",
   "version": "3.9.13"
  }
 },
 "nbformat": 4,
 "nbformat_minor": 5
}
