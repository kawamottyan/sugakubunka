{
 "cells": [
  {
   "cell_type": "markdown",
   "metadata": {},
   "source": [
    "# demo : logistic回帰モデルを用いた手書き文字画像の分類\n",
    "\n",
    "MNIST datasetは有名なデータセットのひとつです。手書きで書かれた0-9までの数字の画像データと、その書かれた数字を表すラベルデータから構成されています。今回はそのうち「7」と「9」の画像のみを扱うことにしましょう。\n",
    "\n",
    "**目標** : 「7」か「9」の手書き数字画像を入力すると、それが「7」か「9」かを自動で識別してくれる仕組みを作る。\n",
    "\n",
    "今回はlogistic回帰モデルというモデルを用いて「7」画像と「9」画像を自動で識別できる仕組みを作りましょう。\n",
    "\n",
    "## （与えられた画像データが「7である確率」と「9である確率=1-7である確率」をlogstic回帰モデルで予測する）"
   ]
  },
  {
   "cell_type": "markdown",
   "metadata": {},
   "source": [
    "## 1. 準備 : small MNIST datasetの読み込み\n",
    "small MNIST datasetは「0」から「9」の画像が1797枚レコードされています。画像サイズは8×8 pixel、色深度は4bit gray scaleです。\n",
    "\n",
    "`sklearn`パッケージの`datasets`モジュールにある`load_digits`メソッドを用いると、small MNIST datasetを読み込むことが出来ます。\n",
    "* data : 訓練用の画像\n",
    "* target : dataにレコードされている画像それぞれのラベル\n",
    "\n",
    "を`numpy.array`の形で得ることが出来ます。"
   ]
  },
  {
   "cell_type": "code",
   "execution_count": 32,
   "metadata": {},
   "outputs": [
    {
     "data": {
      "text/plain": [
       "((1797, 64), (1797,))"
      ]
     },
     "execution_count": 32,
     "metadata": {},
     "output_type": "execute_result"
    }
   ],
   "source": [
    "# MNISTデータセットのimport\n",
    "from sklearn.datasets import load_digits\n",
    "X, y = load_digits().data, load_digits().target\n",
    "X.shape, y.shape"
   ]
  },
  {
   "cell_type": "code",
   "execution_count": 13,
   "metadata": {},
   "outputs": [
    {
     "data": {
      "image/png": "[encoded data removed]",
      "text/plain": [
       "<Figure size 432x288 with 2 Axes>"
      ]
     },
     "metadata": {
      "needs_background": "light"
     },
     "output_type": "display_data"
    }
   ],
   "source": [
    "# 画像の確認\n",
    "import matplotlib.pyplot as plt\n",
    "plt.imshow(X[1003, :].reshape(8, 8))\n",
    "plt.colorbar()\n",
    "plt.show()"
   ]
  },
  {
   "cell_type": "code",
   "execution_count": 12,
   "metadata": {},
   "outputs": [
    {
     "data": {
      "text/plain": [
       "array([ 0.,  3., 10., 11., 12., 12.,  6.,  0.,  0.,  8., 14., 11.,  8.,\n",
       "        8.,  4.,  0.,  0.,  8., 10.,  7.,  3.,  0.,  0.,  0.,  0.,  8.,\n",
       "       16., 14., 15.,  4.,  0.,  0.,  0.,  2.,  2.,  0.,  6.,  9.,  0.,\n",
       "        0.,  0.,  0.,  0.,  0.,  4., 12.,  0.,  0.,  0.,  1.,  8.,  4.,\n",
       "       10., 10.,  0.,  0.,  0.,  2., 15., 16., 13.,  2.,  0.,  0.])"
      ]
     },
     "execution_count": 12,
     "metadata": {},
     "output_type": "execute_result"
    }
   ],
   "source": [
    "X[1003,:]"
   ]
  },
  {
   "cell_type": "code",
   "execution_count": 14,
   "metadata": {},
   "outputs": [
    {
     "data": {
      "text/plain": [
       "<matplotlib.axes._subplots.AxesSubplot at 0x2603e550908>"
      ]
     },
     "execution_count": 14,
     "metadata": {},
     "output_type": "execute_result"
    },
    {
     "data": {
      "image/png": "[encoded data removed]",
      "text/plain": [
       "<Figure size 432x288 with 1 Axes>"
      ]
     },
     "metadata": {
      "needs_background": "light"
     },
     "output_type": "display_data"
    }
   ],
   "source": [
    "import seaborn as sns\n",
    "sns.distplot(X[1003,:]) #X[1,:]のヒストグラム. "
   ]
  },
  {
   "cell_type": "code",
   "execution_count": 23,
   "metadata": {},
   "outputs": [
    {
     "data": {
      "text/plain": [
       "array([ 0.,  0.,  0., 12., 13.,  5.,  0.,  0.,  0.,  0.,  0., 11., 16.,\n",
       "        9.,  0.,  0.,  0.,  0.,  3., 15., 16.,  6.,  0.,  0.,  0.,  7.,\n",
       "       15., 16., 16.,  2.,  0.,  0.,  0.,  0.,  1., 16., 16.,  3.,  0.,\n",
       "        0.,  0.,  0.,  1., 16., 16.,  6.,  0.,  0.,  0.,  0.,  1., 16.,\n",
       "       16.,  6.,  0.,  0.,  0.,  0.,  0., 11., 16., 10.,  0.,  0.])"
      ]
     },
     "execution_count": 23,
     "metadata": {},
     "output_type": "execute_result"
    }
   ],
   "source": [
    "X[1,:]"
   ]
  },
  {
   "cell_type": "code",
   "execution_count": 15,
   "metadata": {},
   "outputs": [
    {
     "data": {
      "text/plain": [
       "(0.0, 16.0)"
      ]
     },
     "execution_count": 15,
     "metadata": {},
     "output_type": "execute_result"
    }
   ],
   "source": [
    "# 画像データの最小値と最大値\n",
    "X.min(), X.max()"
   ]
  },
  {
   "cell_type": "code",
   "execution_count": 16,
   "metadata": {},
   "outputs": [
    {
     "data": {
      "text/plain": [
       "(array([0, 1, 2, 3, 4, 5, 6, 7, 8, 9]),\n",
       " array([178, 182, 177, 183, 181, 182, 181, 179, 174, 180], dtype=int64))"
      ]
     },
     "execution_count": 16,
     "metadata": {},
     "output_type": "execute_result"
    }
   ],
   "source": [
    "# 画像のラベル\n",
    "import numpy as np\n",
    "np.unique(y, return_counts = True)"
   ]
  },
  {
   "cell_type": "markdown",
   "metadata": {},
   "source": [
    "今回は「7」画像と「9」画像のみを用いるので、ここで事前に抽出しておきます。"
   ]
  },
  {
   "cell_type": "code",
   "execution_count": 33,
   "metadata": {},
   "outputs": [],
   "source": [
    "# ラベルが7/9の画像のindexを取得する。\n",
    "index = np.where((y == 7) | (y == 9)) #|はまたはを意味する"
   ]
  },
  {
   "cell_type": "code",
   "execution_count": 34,
   "metadata": {},
   "outputs": [
    {
     "data": {
      "text/plain": [
       "((359, 64), (359,))"
      ]
     },
     "execution_count": 34,
     "metadata": {},
     "output_type": "execute_result"
    }
   ],
   "source": [
    "# ラベルが7/9の画像を抽出する。\n",
    "X, y = X[index], y[index]\n",
    "X.shape, y.shape"
   ]
  },
  {
   "cell_type": "code",
   "execution_count": 35,
   "metadata": {},
   "outputs": [],
   "source": [
    "from sklearn.model_selection import train_test_split\n",
    "X_train, X_test, y_train, y_test = train_test_split(X, y, test_size = 0.2) #訓練データとテストデータに8:2で分けている"
   ]
  },
  {
   "cell_type": "code",
   "execution_count": 36,
   "metadata": {},
   "outputs": [
    {
     "data": {
      "text/plain": [
       "((287, 64), (72, 64))"
      ]
     },
     "execution_count": 36,
     "metadata": {},
     "output_type": "execute_result"
    }
   ],
   "source": [
    "X_train.shape, X_test.shape"
   ]
  },
  {
   "cell_type": "code",
   "execution_count": 37,
   "metadata": {},
   "outputs": [
    {
     "data": {
      "text/plain": [
       "((array([7, 9]), array([138, 149], dtype=int64)),\n",
       " (array([7, 9]), array([41, 31], dtype=int64)))"
      ]
     },
     "execution_count": 37,
     "metadata": {},
     "output_type": "execute_result"
    }
   ],
   "source": [
    "# 「7」画像と「9」画像の枚数の確認\n",
    "np.unique(y_train, return_counts = True), np.unique(y_test, return_counts = True)"
   ]
  },
  {
   "cell_type": "markdown",
   "metadata": {},
   "source": [
    "「7」画像と「9」画像のみを抽出した結果、\n",
    "* 訓練データ : 「7」画像138件, 「9」画像149件, 合計287件\n",
    "* テストデータ : 「7」画像41件, 「9」画像31件, 合計72件\n",
    "\n",
    "になりました。"
   ]
  },
  {
   "cell_type": "markdown",
   "metadata": {},
   "source": [
    "## 2. データの確認\n",
    "今回の実習のように、画像を識別できる仕組みを作るタスクを**画像認識タスク**といいます。画像認識タスクでは、その難易度を自分で知っておくためにも、画像を自分の目で確認することがとても重要です。最初の10枚の画像を確認して、どれくらい手書き文字が汚いのかをチェックしておきましょう。"
   ]
  },
  {
   "cell_type": "code",
   "execution_count": 44,
   "metadata": {},
   "outputs": [
    {
     "data": {
      "image/png": "[encoded data removed]",
      "text/plain": [
       "<Figure size 720x7200 with 10 Axes>"
      ]
     },
     "metadata": {
      "needs_background": "light"
     },
     "output_type": "display_data"
    }
   ],
   "source": [
    "# 画像の確認\n",
    "import matplotlib.pyplot as plt\n",
    "n_images = 10\n",
    "plt.figure(figsize = (10, 100))\n",
    "for i in range(n_images):\n",
    "    plt.subplot(1, n_images, i + 1)\n",
    "    plt.imshow(X_train[i].reshape(8, 8))\n",
    "plt.show()"
   ]
  },
  {
   "cell_type": "code",
   "execution_count": 45,
   "metadata": {},
   "outputs": [
    {
     "data": {
      "text/plain": [
       "array([9, 7, 9, 7, 7, 9, 9, 7, 7, 7])"
      ]
     },
     "execution_count": 45,
     "metadata": {},
     "output_type": "execute_result"
    }
   ],
   "source": [
    "y_train[0:10]"
   ]
  },
  {
   "cell_type": "markdown",
   "metadata": {},
   "source": [
    "## 3. logistic回帰モデル"
   ]
  },
  {
   "cell_type": "markdown",
   "metadata": {},
   "source": [
    "### 3.1 logistic回帰モデルの実装\n",
    "logistic回帰モデルには様々な学習アルゴリズムの設定値があり、この設定によって学習の様子は大きく変わってきます"
   ]
  },
  {
   "cell_type": "code",
   "execution_count": 46,
   "metadata": {},
   "outputs": [],
   "source": [
    "# logistic回帰モデルの実装\n",
    "from sklearn.linear_model import LogisticRegression\n",
    "logistic = LogisticRegression(penalty=\"l2\", C = 100.0) #L2正則化でC=100 →λ = 287/100 = 2.87"
   ]
  },
  {
   "cell_type": "code",
   "execution_count": 57,
   "metadata": {},
   "outputs": [
    {
     "data": {
      "text/plain": [
       "LogisticRegression(C=100.0, class_weight=None, dual=False, fit_intercept=True,\n",
       "                   intercept_scaling=1, l1_ratio=None, max_iter=100,\n",
       "                   multi_class='auto', n_jobs=None, penalty='l2',\n",
       "                   random_state=None, solver='lbfgs', tol=0.0001, verbose=0,\n",
       "                   warm_start=False)"
      ]
     },
     "execution_count": 57,
     "metadata": {},
     "output_type": "execute_result"
    }
   ],
   "source": [
    "#y_trainっていう答えを元に、画像データX_trainが7か9か予測するlogistic回帰モデルのパラメータを決定する\n",
    "logistic.fit(X_train, y_train)"
   ]
  },
  {
   "cell_type": "code",
   "execution_count": 63,
   "metadata": {},
   "outputs": [
    {
     "data": {
      "text/plain": [
       "(array([-0.02282438]),\n",
       " array([[ 0.00000000e+00, -6.33803207e-02, -1.05552217e-01,\n",
       "         -1.14672606e-01, -1.31863066e-01, -5.98266788e-02,\n",
       "         -2.39943770e-01, -1.76622347e-01,  0.00000000e+00,\n",
       "          1.42465860e-01,  1.41416107e-01, -1.50228589e-01,\n",
       "         -3.53992057e-01,  1.30785948e-02, -6.45023279e-02,\n",
       "         -2.01242389e-01,  0.00000000e+00,  6.23210886e-01,\n",
       "          4.73602858e-01,  1.57346516e-01,  3.21732328e-03,\n",
       "          1.19467709e-01,  1.14159330e-01, -1.38563536e-02,\n",
       "          0.00000000e+00,  2.77402807e-01,  3.02375857e-01,\n",
       "          5.81119813e-01,  2.07284518e-01, -7.51890426e-02,\n",
       "         -1.77276619e-01,  0.00000000e+00,  0.00000000e+00,\n",
       "         -2.06119210e-01, -1.60087952e-01, -2.17969798e-01,\n",
       "         -1.44172707e-01, -9.82241422e-02, -8.54711340e-02,\n",
       "          0.00000000e+00,  0.00000000e+00,  4.32488430e-03,\n",
       "         -1.86231549e-01, -5.48468260e-01, -2.56685014e-01,\n",
       "          2.61672082e-01,  7.12341295e-02,  8.35175153e-06,\n",
       "          0.00000000e+00,  1.00987159e-02, -2.30133006e-01,\n",
       "         -1.71546033e-01,  9.93257420e-03,  4.01472516e-01,\n",
       "          1.63480291e-01,  1.02408685e-02,  0.00000000e+00,\n",
       "         -3.69915006e-02, -1.24014481e-01, -2.00538980e-02,\n",
       "          2.75359287e-01,  2.17272383e-01,  7.02519362e-02,\n",
       "          5.19759448e-03]]))"
      ]
     },
     "execution_count": 63,
     "metadata": {},
     "output_type": "execute_result"
    }
   ],
   "source": [
    "logistic.intercept_, logistic.coef_"
   ]
  },
  {
   "cell_type": "markdown",
   "metadata": {},
   "source": [
    "$p = \\sigma(-\\{-0.0222+0.0000*x_1-6.338*10^{-2}*x_2 + \\cdots +7.02519*10^{-2}*x_{63}+5.19759*10^{-3}*x_{64}\\})$"
   ]
  },
  {
   "cell_type": "code",
   "execution_count": 48,
   "metadata": {},
   "outputs": [
    {
     "data": {
      "text/plain": [
       "array([7, 9])"
      ]
     },
     "execution_count": 48,
     "metadata": {},
     "output_type": "execute_result"
    }
   ],
   "source": [
    "logistic.classes_"
   ]
  },
  {
   "cell_type": "code",
   "execution_count": 50,
   "metadata": {},
   "outputs": [
    {
     "data": {
      "text/plain": [
       "array([[3.18589599e-12, 1.00000000e+00],\n",
       "       [9.99999994e-01, 6.42649689e-09],\n",
       "       [2.27010699e-09, 9.99999998e-01],\n",
       "       [9.99999998e-01, 1.56399479e-09],\n",
       "       [1.00000000e+00, 8.32319249e-12],\n",
       "       [2.02501006e-07, 9.99999797e-01],\n",
       "       [7.03081519e-07, 9.99999297e-01],\n",
       "       [1.00000000e+00, 1.49970422e-10],\n",
       "       [9.99999643e-01, 3.57470951e-07],\n",
       "       [9.99878500e-01, 1.21499509e-04],\n",
       "       [7.31053682e-08, 9.99999927e-01],\n",
       "       [9.99999996e-01, 3.98983918e-09],\n",
       "       [5.92495830e-10, 9.99999999e-01],\n",
       "       [9.99999979e-01, 2.10495126e-08],\n",
       "       [1.00000000e+00, 1.38611751e-13],\n",
       "       [1.00000000e+00, 4.44866761e-12],\n",
       "       [1.00000000e+00, 2.84447775e-18],\n",
       "       [2.55351296e-14, 1.00000000e+00],\n",
       "       [9.19911008e-05, 9.99908009e-01],\n",
       "       [6.96008853e-08, 9.99999930e-01],\n",
       "       [1.00000000e+00, 4.35796384e-10],\n",
       "       [9.99999959e-01, 4.10471995e-08],\n",
       "       [1.97018623e-08, 9.99999980e-01],\n",
       "       [2.01514583e-10, 1.00000000e+00],\n",
       "       [3.79514420e-10, 1.00000000e+00],\n",
       "       [9.99993352e-01, 6.64823905e-06],\n",
       "       [3.22295036e-06, 9.99996777e-01],\n",
       "       [1.45397654e-05, 9.99985460e-01],\n",
       "       [1.09465104e-10, 1.00000000e+00],\n",
       "       [1.29572264e-07, 9.99999870e-01],\n",
       "       [1.67792791e-06, 9.99998322e-01],\n",
       "       [1.14774856e-12, 1.00000000e+00],\n",
       "       [1.00000000e+00, 2.46506563e-12],\n",
       "       [1.00000000e+00, 7.38524849e-13],\n",
       "       [1.18765846e-07, 9.99999881e-01],\n",
       "       [9.99953543e-01, 4.64573678e-05],\n",
       "       [9.99850921e-01, 1.49079053e-04],\n",
       "       [1.00000000e+00, 3.65704197e-10],\n",
       "       [4.44759785e-10, 1.00000000e+00],\n",
       "       [9.01177577e-10, 9.99999999e-01],\n",
       "       [2.46691556e-13, 1.00000000e+00],\n",
       "       [9.99999957e-01, 4.27226864e-08],\n",
       "       [1.15463195e-14, 1.00000000e+00],\n",
       "       [2.54098846e-08, 9.99999975e-01],\n",
       "       [4.44089210e-16, 1.00000000e+00],\n",
       "       [9.99999890e-01, 1.09919195e-07],\n",
       "       [8.20437052e-11, 1.00000000e+00],\n",
       "       [1.00000000e+00, 3.07662235e-10],\n",
       "       [6.64588085e-07, 9.99999335e-01],\n",
       "       [9.99999786e-01, 2.13556989e-07],\n",
       "       [1.11022302e-15, 1.00000000e+00],\n",
       "       [9.99814100e-01, 1.85900002e-04],\n",
       "       [5.06843234e-10, 9.99999999e-01],\n",
       "       [9.99966905e-01, 3.30950810e-05],\n",
       "       [1.25175062e-07, 9.99999875e-01],\n",
       "       [1.00000000e+00, 1.57685155e-13],\n",
       "       [9.99999996e-01, 3.71625478e-09],\n",
       "       [2.62986100e-09, 9.99999997e-01],\n",
       "       [1.31108182e-08, 9.99999987e-01],\n",
       "       [1.00000000e+00, 5.46621366e-12],\n",
       "       [1.00000000e+00, 1.01706284e-12],\n",
       "       [9.99999977e-01, 2.32168099e-08],\n",
       "       [8.41238190e-12, 1.00000000e+00],\n",
       "       [1.00000000e+00, 3.95925284e-10],\n",
       "       [1.00000000e+00, 3.17406896e-15],\n",
       "       [4.27921345e-08, 9.99999957e-01],\n",
       "       [9.99999995e-01, 4.95794882e-09],\n",
       "       [4.68971324e-05, 9.99953103e-01],\n",
       "       [9.99999962e-01, 3.79909993e-08],\n",
       "       [2.38888593e-06, 9.99997611e-01],\n",
       "       [5.49428568e-06, 9.99994506e-01],\n",
       "       [9.90499904e-10, 9.99999999e-01],\n",
       "       [1.72882887e-04, 9.99827117e-01],\n",
       "       [4.21884749e-15, 1.00000000e+00],\n",
       "       [4.93427521e-12, 1.00000000e+00],\n",
       "       [3.66441879e-08, 9.99999963e-01],\n",
       "       [2.36005156e-04, 9.99763995e-01],\n",
       "       [1.00000000e+00, 5.13839523e-11],\n",
       "       [9.99999999e-01, 7.36320872e-10],\n",
       "       [5.68656233e-13, 1.00000000e+00],\n",
       "       [6.42698322e-08, 9.99999936e-01],\n",
       "       [4.22479163e-10, 1.00000000e+00],\n",
       "       [9.99999957e-01, 4.26779776e-08],\n",
       "       [4.25681712e-12, 1.00000000e+00],\n",
       "       [2.49777976e-12, 1.00000000e+00],\n",
       "       [9.99999916e-01, 8.39056460e-08],\n",
       "       [9.99997462e-01, 2.53771943e-06],\n",
       "       [1.18330431e-08, 9.99999988e-01],\n",
       "       [9.99999972e-01, 2.82673539e-08],\n",
       "       [9.99999326e-01, 6.74340971e-07],\n",
       "       [1.33535405e-11, 1.00000000e+00],\n",
       "       [9.99999977e-01, 2.32894734e-08],\n",
       "       [2.22044605e-15, 1.00000000e+00],\n",
       "       [7.56776738e-07, 9.99999243e-01],\n",
       "       [1.37911904e-12, 1.00000000e+00],\n",
       "       [9.99981899e-01, 1.81007631e-05],\n",
       "       [3.54345442e-11, 1.00000000e+00],\n",
       "       [1.00000000e+00, 2.79835705e-10],\n",
       "       [1.80770954e-11, 1.00000000e+00],\n",
       "       [9.99991771e-01, 8.22882390e-06],\n",
       "       [3.61710661e-13, 1.00000000e+00],\n",
       "       [1.00000000e+00, 2.73486937e-11],\n",
       "       [9.99999991e-01, 9.44323075e-09],\n",
       "       [1.00000000e+00, 4.38670250e-11],\n",
       "       [2.24080754e-11, 1.00000000e+00],\n",
       "       [8.29558644e-13, 1.00000000e+00],\n",
       "       [2.41835885e-10, 1.00000000e+00],\n",
       "       [9.99961190e-01, 3.88099177e-05],\n",
       "       [1.00000000e+00, 4.67011422e-12],\n",
       "       [2.88646196e-08, 9.99999971e-01],\n",
       "       [1.00000000e+00, 2.52771027e-12],\n",
       "       [9.69269109e-12, 1.00000000e+00],\n",
       "       [1.63735390e-08, 9.99999984e-01],\n",
       "       [9.99997981e-01, 2.01858532e-06],\n",
       "       [2.12191509e-06, 9.99997878e-01],\n",
       "       [5.50852697e-11, 1.00000000e+00],\n",
       "       [9.99868886e-01, 1.31114474e-04],\n",
       "       [4.01360012e-05, 9.99959864e-01],\n",
       "       [1.03117320e-04, 9.99896883e-01],\n",
       "       [1.00000000e+00, 1.65273876e-10],\n",
       "       [2.99760217e-13, 1.00000000e+00],\n",
       "       [2.77555756e-14, 1.00000000e+00],\n",
       "       [3.29691829e-12, 1.00000000e+00],\n",
       "       [9.99999988e-01, 1.22226105e-08],\n",
       "       [9.99832383e-01, 1.67616734e-04],\n",
       "       [6.59250432e-13, 1.00000000e+00],\n",
       "       [9.99844142e-01, 1.55857537e-04],\n",
       "       [9.99881144e-01, 1.18856472e-04],\n",
       "       [2.07012185e-12, 1.00000000e+00],\n",
       "       [9.83760173e-09, 9.99999990e-01],\n",
       "       [1.00000000e+00, 1.46551138e-12],\n",
       "       [1.00000000e+00, 3.93683511e-10],\n",
       "       [9.99999979e-01, 2.14208084e-08],\n",
       "       [9.99999833e-01, 1.66967898e-07],\n",
       "       [1.00000000e+00, 2.06701585e-14],\n",
       "       [1.59761040e-07, 9.99999840e-01],\n",
       "       [1.00000000e+00, 1.28272917e-12],\n",
       "       [1.00000000e+00, 4.06036747e-13],\n",
       "       [9.99999695e-01, 3.05166834e-07],\n",
       "       [9.12103282e-10, 9.99999999e-01],\n",
       "       [9.99905438e-01, 9.45616333e-05],\n",
       "       [1.00000000e+00, 2.79378917e-10],\n",
       "       [1.81066495e-10, 1.00000000e+00],\n",
       "       [4.87094809e-10, 1.00000000e+00],\n",
       "       [1.00000000e+00, 1.32895565e-10],\n",
       "       [4.61888492e-06, 9.99995381e-01],\n",
       "       [6.45949960e-12, 1.00000000e+00],\n",
       "       [1.00000000e+00, 1.01989474e-14],\n",
       "       [1.51363366e-11, 1.00000000e+00],\n",
       "       [1.51417102e-04, 9.99848583e-01],\n",
       "       [1.80474746e-10, 1.00000000e+00],\n",
       "       [9.99999998e-01, 1.86592898e-09],\n",
       "       [5.04784737e-05, 9.99949522e-01],\n",
       "       [4.53241888e-11, 1.00000000e+00],\n",
       "       [2.07389661e-13, 1.00000000e+00],\n",
       "       [1.00000000e+00, 2.58414094e-12],\n",
       "       [5.32907052e-15, 1.00000000e+00],\n",
       "       [2.00814920e-11, 1.00000000e+00],\n",
       "       [9.99999135e-01, 8.65129127e-07],\n",
       "       [9.99999977e-01, 2.32603997e-08],\n",
       "       [1.75415238e-14, 1.00000000e+00],\n",
       "       [2.07163142e-04, 9.99792837e-01],\n",
       "       [9.37028233e-14, 1.00000000e+00],\n",
       "       [1.00000000e+00, 2.17047076e-10],\n",
       "       [9.99995939e-01, 4.06071873e-06],\n",
       "       [9.99999962e-01, 3.84182678e-08],\n",
       "       [1.00000000e+00, 4.36044023e-14],\n",
       "       [1.00000000e+00, 4.26665540e-10],\n",
       "       [1.00000000e+00, 3.83934233e-14],\n",
       "       [1.00000000e+00, 2.20078242e-10],\n",
       "       [9.99999986e-01, 1.38594979e-08],\n",
       "       [1.00000000e+00, 1.57649418e-11],\n",
       "       [1.34254778e-07, 9.99999866e-01],\n",
       "       [1.00000000e+00, 9.94154194e-12],\n",
       "       [1.02503591e-08, 9.99999990e-01],\n",
       "       [1.00000000e+00, 9.63783079e-11],\n",
       "       [1.66445019e-06, 9.99998336e-01],\n",
       "       [6.99799774e-10, 9.99999999e-01],\n",
       "       [1.00000000e+00, 1.96258135e-10],\n",
       "       [2.24487096e-13, 1.00000000e+00],\n",
       "       [1.39116940e-10, 1.00000000e+00],\n",
       "       [3.70814490e-13, 1.00000000e+00],\n",
       "       [8.80051587e-12, 1.00000000e+00],\n",
       "       [2.86922308e-09, 9.99999997e-01],\n",
       "       [1.00000000e+00, 1.62512699e-13],\n",
       "       [1.00000000e+00, 4.69210058e-12],\n",
       "       [1.00000000e+00, 2.37517416e-14],\n",
       "       [9.99969192e-01, 3.08077957e-05],\n",
       "       [1.50213479e-07, 9.99999850e-01],\n",
       "       [3.10205195e-11, 1.00000000e+00],\n",
       "       [1.00000000e+00, 7.08912273e-12],\n",
       "       [1.00000000e+00, 1.17055709e-13],\n",
       "       [3.58157948e-12, 1.00000000e+00],\n",
       "       [9.80133752e-11, 1.00000000e+00],\n",
       "       [4.79616347e-14, 1.00000000e+00],\n",
       "       [1.62758695e-13, 1.00000000e+00],\n",
       "       [9.99999999e-01, 8.57040300e-10],\n",
       "       [3.30180328e-13, 1.00000000e+00],\n",
       "       [9.99999990e-01, 9.58946973e-09],\n",
       "       [3.94129174e-13, 1.00000000e+00],\n",
       "       [7.43541206e-09, 9.99999993e-01],\n",
       "       [9.99999659e-01, 3.40511948e-07],\n",
       "       [2.75176898e-08, 9.99999972e-01],\n",
       "       [9.99999992e-01, 7.63444882e-09],\n",
       "       [1.00000000e+00, 1.27717953e-10],\n",
       "       [9.99979592e-01, 2.04084823e-05],\n",
       "       [1.14146249e-08, 9.99999989e-01],\n",
       "       [1.71223458e-09, 9.99999998e-01],\n",
       "       [3.40397288e-09, 9.99999997e-01],\n",
       "       [5.35921760e-08, 9.99999946e-01],\n",
       "       [1.00000000e+00, 1.76406052e-11],\n",
       "       [9.99999940e-01, 6.02359938e-08],\n",
       "       [6.31139585e-12, 1.00000000e+00],\n",
       "       [9.99999711e-01, 2.89445963e-07],\n",
       "       [1.27903150e-06, 9.99998721e-01],\n",
       "       [3.90419742e-06, 9.99996096e-01],\n",
       "       [1.00000000e+00, 2.02671492e-10],\n",
       "       [2.22044605e-16, 1.00000000e+00],\n",
       "       [2.47039278e-10, 1.00000000e+00],\n",
       "       [9.99998624e-01, 1.37554656e-06],\n",
       "       [3.79936083e-11, 1.00000000e+00],\n",
       "       [9.99999632e-01, 3.68491054e-07],\n",
       "       [9.99999992e-01, 7.54296675e-09],\n",
       "       [7.07627995e-08, 9.99999929e-01],\n",
       "       [1.64680871e-04, 9.99835319e-01],\n",
       "       [1.14575016e-13, 1.00000000e+00],\n",
       "       [1.00000000e+00, 3.98900356e-12],\n",
       "       [1.79474657e-10, 1.00000000e+00],\n",
       "       [1.00000000e+00, 6.03998587e-12],\n",
       "       [9.99999976e-01, 2.37269222e-08],\n",
       "       [2.77555756e-14, 1.00000000e+00],\n",
       "       [9.99999998e-01, 1.60851007e-09],\n",
       "       [1.65843339e-10, 1.00000000e+00],\n",
       "       [2.55515108e-07, 9.99999744e-01],\n",
       "       [9.99999977e-01, 2.25647617e-08],\n",
       "       [1.52572843e-10, 1.00000000e+00],\n",
       "       [9.99999972e-01, 2.77388634e-08],\n",
       "       [1.00000000e+00, 7.81170346e-12],\n",
       "       [1.00000000e+00, 5.16387927e-13],\n",
       "       [1.00000000e+00, 5.26207982e-11],\n",
       "       [1.00000000e+00, 5.16071224e-15],\n",
       "       [5.10620633e-05, 9.99948938e-01],\n",
       "       [9.99996668e-01, 3.33220105e-06],\n",
       "       [9.99999991e-01, 9.42102717e-09],\n",
       "       [1.82430693e-09, 9.99999998e-01],\n",
       "       [2.86913494e-07, 9.99999713e-01],\n",
       "       [9.99999999e-01, 6.16915593e-10],\n",
       "       [8.82449786e-06, 9.99991176e-01],\n",
       "       [3.78415892e-05, 9.99962158e-01],\n",
       "       [2.08327666e-09, 9.99999998e-01],\n",
       "       [1.00000000e+00, 9.23554484e-11],\n",
       "       [9.99994332e-01, 5.66819425e-06],\n",
       "       [5.12723197e-12, 1.00000000e+00],\n",
       "       [9.99999980e-01, 1.96944951e-08],\n",
       "       [4.14356816e-09, 9.99999996e-01],\n",
       "       [7.67870212e-11, 1.00000000e+00],\n",
       "       [1.00000000e+00, 3.24513634e-10],\n",
       "       [3.61503050e-10, 1.00000000e+00],\n",
       "       [1.21547217e-11, 1.00000000e+00],\n",
       "       [8.39551868e-06, 9.99991604e-01],\n",
       "       [9.99999980e-01, 1.97908622e-08],\n",
       "       [1.91144212e-10, 1.00000000e+00],\n",
       "       [1.00000000e+00, 6.05386673e-11],\n",
       "       [8.03912492e-12, 1.00000000e+00],\n",
       "       [9.99999995e-01, 5.17807720e-09],\n",
       "       [9.99998433e-01, 1.56736170e-06],\n",
       "       [6.95670188e-11, 1.00000000e+00],\n",
       "       [2.06390460e-11, 1.00000000e+00],\n",
       "       [1.61982872e-10, 1.00000000e+00],\n",
       "       [1.00000000e+00, 2.68387150e-11],\n",
       "       [9.99999999e-01, 1.31322340e-09],\n",
       "       [9.99999782e-01, 2.18233606e-07],\n",
       "       [1.53410618e-11, 1.00000000e+00],\n",
       "       [1.68758341e-11, 1.00000000e+00],\n",
       "       [2.87476342e-08, 9.99999971e-01],\n",
       "       [1.00000000e+00, 4.61615661e-11],\n",
       "       [9.99888851e-01, 1.11148559e-04],\n",
       "       [5.99520433e-15, 1.00000000e+00],\n",
       "       [1.00000000e+00, 4.91393587e-10],\n",
       "       [9.99999377e-01, 6.22703629e-07],\n",
       "       [9.99998900e-01, 1.09956326e-06],\n",
       "       [1.00000000e+00, 5.89733036e-11],\n",
       "       [9.99967930e-01, 3.20703226e-05],\n",
       "       [2.37987408e-12, 1.00000000e+00],\n",
       "       [1.00000000e+00, 6.28076116e-13],\n",
       "       [7.80602250e-11, 1.00000000e+00],\n",
       "       [1.00000000e+00, 3.01949272e-11]])"
      ]
     },
     "execution_count": 50,
     "metadata": {},
     "output_type": "execute_result"
    }
   ],
   "source": [
    "# 予測器が出来ていることを確認する\n",
    "import numpy as np\n",
    "np.set_printoptions(precision = 8, floatmode = \"maxprec\")\n",
    "pred_train_proba = logistic.predict_proba(X_train) #7である確率と9である確率を予測\n",
    "pred_train_proba"
   ]
  },
  {
   "cell_type": "code",
   "execution_count": 64,
   "metadata": {},
   "outputs": [
    {
     "name": "stdout",
     "output_type": "stream",
     "text": [
      "4番目の画像データについて\n",
      "[1.00000000e+00 8.32319249e-12] 7\n",
      "和は 1.0\n",
      "この画像は7です\n",
      "\n",
      "130番目の画像データについて\n",
      "[1.00000000e+00 1.46551138e-12] 7\n",
      "和は 1.0\n",
      "この画像は7です\n",
      "\n",
      "125番目の画像データについて\n",
      "[6.59250432e-13 1.00000000e+00] 9\n",
      "和は 1.0\n",
      "この画像は9です\n",
      "\n",
      "256番目の画像データについて\n",
      "[1.00000000e+00 3.24513634e-10] 7\n",
      "和は 1.0\n",
      "この画像は7です\n",
      "\n",
      "281番目の画像データについて\n",
      "[1.00000000e+00 5.89733036e-11] 7\n",
      "和は 1.0\n",
      "この画像は7です\n",
      "\n",
      "154番目の画像データについて\n",
      "[2.07389661e-13 1.00000000e+00] 9\n",
      "和は 1.0\n",
      "この画像は9です\n",
      "\n",
      "174番目の画像データについて\n",
      "[1.02503591e-08 9.99999990e-01] 9\n",
      "和は 1.0\n",
      "この画像は9です\n",
      "\n",
      "218番目の画像データについて\n",
      "[2.47039278e-10 1.00000000e+00] 9\n",
      "和は 1.0\n",
      "この画像は9です\n",
      "\n",
      "87番目の画像データについて\n",
      "[1.18330431e-08 9.99999988e-01] 9\n",
      "和は 1.0\n",
      "この画像は9です\n",
      "\n",
      "275番目の画像データについて\n",
      "[1.00000000e+00 4.61615661e-11] 7\n",
      "和は 1.0\n",
      "この画像は7です\n",
      "\n"
     ]
    }
   ],
   "source": [
    "import random\n",
    "for i in range(0,10):\n",
    "    j = random.randint(1,287)\n",
    "    print(f\"{j}番目の画像データについて\")\n",
    "    print(pred_train_proba[j],y_train[j]) #7である確率と9である確率の予測値と、実際の画像に書かれた数字\n",
    "    print(\"和は\",pred_train_proba[j][0]+pred_train_proba[j][1]) #和が1になっているか。\n",
    "    \n",
    "    if(pred_train_proba[j][0] > pred_train_proba[j][1]):\n",
    "        print(\"この画像は7です\")\n",
    "    if(pred_train_proba[j][0] < pred_train_proba[j][1]):\n",
    "        print(\"この画像は9です\")\n",
    "    \n",
    "    print(\"\")"
   ]
  },
  {
   "cell_type": "markdown",
   "metadata": {},
   "source": [
    "#### 見た感じ正答率ほぼ100％"
   ]
  },
  {
   "cell_type": "markdown",
   "metadata": {},
   "source": [
    "## 4. モデルの評価\n",
    "モデル評価は訓練データ、テストデータともに行う必要があります。訓練データでのモデル評価が悪い場合、より複雑なモデルを選択することを視野に入れる必要があるからです。またテストデータでの正答率が訓練データよりも著しく悪い場合、モデルをより単純にする必要が出てくるためです。これらは**過剰適合**・**過小適合**という言葉で議論されます。\n",
    "\n",
    "今回モデルの評価を行う方法の一例として、\n",
    "* 正答率\n",
    "* 混同行列\n",
    "\n",
    "を書いてみましょう。"
   ]
  },
  {
   "cell_type": "markdown",
   "metadata": {},
   "source": [
    "### 4.1 訓練データでの評価"
   ]
  },
  {
   "cell_type": "code",
   "execution_count": 66,
   "metadata": {},
   "outputs": [
    {
     "data": {
      "text/plain": [
       "1.0"
      ]
     },
     "execution_count": 66,
     "metadata": {},
     "output_type": "execute_result"
    }
   ],
   "source": [
    "# 訓練データでの精度\n",
    "from sklearn.metrics import accuracy_score\n",
    "pred_train = logistic.predict(X_train)\n",
    "accuracy_score(y_true = y_train, y_pred = pred_train)"
   ]
  },
  {
   "cell_type": "code",
   "execution_count": 67,
   "metadata": {},
   "outputs": [
    {
     "data": {
      "text/plain": [
       "array([[138,   0],\n",
       "       [  0, 149]], dtype=int64)"
      ]
     },
     "execution_count": 67,
     "metadata": {},
     "output_type": "execute_result"
    }
   ],
   "source": [
    "# 訓練データでの混同行列\n",
    "from sklearn.metrics import confusion_matrix\n",
    "pred_train = logistic.predict(X_train)\n",
    "confusion_matrix(y_true = y_train, y_pred = pred_train)"
   ]
  },
  {
   "cell_type": "markdown",
   "metadata": {},
   "source": [
    "## 混同行列：行は実際の答え（７と９）、列は作ったモデルが出した予測（７と９）\n",
    "\n",
    "$(0,0)$成分＝実際の答えが「7」でありモデルが「7」であるとしたデータの個数 ($y = 1, p > 1/2$)  \n",
    "$(1,0)$成分＝実際の答えが「9」でありモデルが「7」であるとしたデータの個数 ($y = 0, p > 1/2$)  \n",
    "$(0,1)$成分＝実際の答えが「7」でありモデルが「9」であるとしたデータの個数 ($y = 1, p < 1/2$)  \n",
    "$(1,1)$成分＝実際の答えが「9」でありモデルが「9」であるとしたデータの個数 ($y = 0, p > 1/2$)  "
   ]
  },
  {
   "cell_type": "markdown",
   "metadata": {},
   "source": [
    "### 4.2 テストデータでの評価"
   ]
  },
  {
   "cell_type": "code",
   "execution_count": 68,
   "metadata": {},
   "outputs": [
    {
     "data": {
      "text/plain": [
       "0.9861111111111112"
      ]
     },
     "execution_count": 68,
     "metadata": {},
     "output_type": "execute_result"
    }
   ],
   "source": [
    "# テストデータでの精度（演習）\n",
    "from sklearn.metrics import accuracy_score\n",
    "pred_test = logistic.predict(X_test)\n",
    "accuracy_score(y_true = y_test, y_pred = pred_test)"
   ]
  },
  {
   "cell_type": "code",
   "execution_count": 69,
   "metadata": {},
   "outputs": [
    {
     "data": {
      "text/plain": [
       "array([[40,  1],\n",
       "       [ 0, 31]], dtype=int64)"
      ]
     },
     "execution_count": 69,
     "metadata": {},
     "output_type": "execute_result"
    }
   ],
   "source": [
    "# テストデータでの混同行列（演習）\n",
    "from sklearn.metrics import confusion_matrix\n",
    "pred_test = logistic.predict(X_test)\n",
    "confusion_matrix(y_true = y_test, y_pred = pred_test)"
   ]
  },
  {
   "cell_type": "code",
   "execution_count": 72,
   "metadata": {},
   "outputs": [
    {
     "name": "stdout",
     "output_type": "stream",
     "text": [
      "0番目の画像データについて\n",
      "[5.76941434e-06 9.99994231e-01] 答え 9\n",
      "この画像は9です\n",
      "\n",
      "1番目の画像データについて\n",
      "[0.96346708 0.03653292] 答え 7\n",
      "この画像は7です\n",
      "\n",
      "2番目の画像データについて\n",
      "[1.00000000e+00 6.94152308e-11] 答え 7\n",
      "この画像は7です\n",
      "\n",
      "3番目の画像データについて\n",
      "[2.93021163e-11 1.00000000e+00] 答え 9\n",
      "この画像は9です\n",
      "\n",
      "4番目の画像データについて\n",
      "[1.44306789e-12 1.00000000e+00] 答え 9\n",
      "この画像は9です\n",
      "\n",
      "5番目の画像データについて\n",
      "[9.99894452e-01 1.05548036e-04] 答え 7\n",
      "この画像は7です\n",
      "\n",
      "6番目の画像データについて\n",
      "[9.99999998e-01 2.44907870e-09] 答え 7\n",
      "この画像は7です\n",
      "\n",
      "7番目の画像データについて\n",
      "[3.88578059e-14 1.00000000e+00] 答え 9\n",
      "この画像は9です\n",
      "\n",
      "8番目の画像データについて\n",
      "[2.74725821e-07 9.99999725e-01] 答え 9\n",
      "この画像は9です\n",
      "\n",
      "9番目の画像データについて\n",
      "[1.00000000e+00 1.90909641e-12] 答え 7\n",
      "この画像は7です\n",
      "\n",
      "10番目の画像データについて\n",
      "[1.57651669e-14 1.00000000e+00] 答え 9\n",
      "この画像は9です\n",
      "\n",
      "11番目の画像データについて\n",
      "[1.00000000e+00 4.19255158e-10] 答え 7\n",
      "この画像は7です\n",
      "\n",
      "12番目の画像データについて\n",
      "[2.03937054e-08 9.99999980e-01] 答え 9\n",
      "この画像は9です\n",
      "\n",
      "13番目の画像データについて\n",
      "[2.79201062e-09 9.99999997e-01] 答え 9\n",
      "この画像は9です\n",
      "\n",
      "14番目の画像データについて\n",
      "[4.34652314e-12 1.00000000e+00] 答え 9\n",
      "この画像は9です\n",
      "\n",
      "15番目の画像データについて\n",
      "[5.87663251e-12 1.00000000e+00] 答え 9\n",
      "この画像は9です\n",
      "\n",
      "16番目の画像データについて\n",
      "[7.04458714e-12 1.00000000e+00] 答え 9\n",
      "この画像は9です\n",
      "\n",
      "17番目の画像データについて\n",
      "[1.00000000e+00 1.28311369e-10] 答え 7\n",
      "この画像は7です\n",
      "\n",
      "18番目の画像データについて\n",
      "[1.19111387e-11 1.00000000e+00] 答え 9\n",
      "この画像は9です\n",
      "\n",
      "19番目の画像データについて\n",
      "[2.22475371e-11 1.00000000e+00] 答え 9\n",
      "この画像は9です\n",
      "\n",
      "20番目の画像データについて\n",
      "[1.0000000e+00 4.6275161e-10] 答え 7\n",
      "この画像は7です\n",
      "\n",
      "21番目の画像データについて\n",
      "[3.70209374e-07 9.99999630e-01] 答え 9\n",
      "この画像は9です\n",
      "\n",
      "22番目の画像データについて\n",
      "[9.23930664e-08 9.99999908e-01] 答え 9\n",
      "この画像は9です\n",
      "\n",
      "23番目の画像データについて\n",
      "[3.08966186e-11 1.00000000e+00] 答え 9\n",
      "この画像は9です\n",
      "\n",
      "24番目の画像データについて\n",
      "[1.000000e+00 1.486123e-14] 答え 7\n",
      "この画像は7です\n",
      "\n",
      "25番目の画像データについて\n",
      "[6.68385791e-10 9.99999999e-01] 答え 9\n",
      "この画像は9です\n",
      "\n",
      "26番目の画像データについて\n",
      "[0.95400227 0.04599773] 答え 7\n",
      "この画像は7です\n",
      "\n",
      "27番目の画像データについて\n",
      "[9.99989423e-01 1.05767402e-05] 答え 7\n",
      "この画像は7です\n",
      "\n",
      "28番目の画像データについて\n",
      "[9.99999995e-01 5.49107319e-09] 答え 7\n",
      "この画像は7です\n",
      "\n",
      "29番目の画像データについて\n",
      "[1.00000000e+00 1.05044097e-13] 答え 7\n",
      "この画像は7です\n",
      "\n",
      "30番目の画像データについて\n",
      "[8.48770502e-08 9.99999915e-01] 答え 9\n",
      "この画像は9です\n",
      "\n",
      "31番目の画像データについて\n",
      "[1.00000000e+00 2.49730817e-15] 答え 7\n",
      "この画像は7です\n",
      "\n",
      "32番目の画像データについて\n",
      "[9.61719593e-12 1.00000000e+00] 答え 9\n",
      "この画像は9です\n",
      "\n",
      "33番目の画像データについて\n",
      "[1.00000000e+00 3.93246658e-13] 答え 7\n",
      "この画像は7です\n",
      "\n",
      "34番目の画像データについて\n",
      "[1.00000000e+00 2.85142274e-13] 答え 7\n",
      "この画像は7です\n",
      "\n",
      "35番目の画像データについて\n",
      "[9.99999999e-01 1.35979798e-09] 答え 7\n",
      "この画像は7です\n",
      "\n",
      "36番目の画像データについて\n",
      "[9.99999994e-01 5.86821627e-09] 答え 7\n",
      "この画像は7です\n",
      "\n",
      "37番目の画像データについて\n",
      "[9.99997321e-01 2.67887615e-06] 答え 7\n",
      "この画像は7です\n",
      "\n",
      "38番目の画像データについて\n",
      "[9.99999858e-01 1.41805548e-07] 答え 7\n",
      "この画像は7です\n",
      "\n",
      "39番目の画像データについて\n",
      "[0.00176624 0.99823376] 答え 7\n",
      "この画像は9です\n",
      "\n",
      "40番目の画像データについて\n",
      "[9.99999999e-01 8.67214920e-10] 答え 7\n",
      "この画像は7です\n",
      "\n",
      "41番目の画像データについて\n",
      "[1.33226763e-15 1.00000000e+00] 答え 9\n",
      "この画像は9です\n",
      "\n",
      "42番目の画像データについて\n",
      "[1.12015905e-04 9.99887984e-01] 答え 9\n",
      "この画像は9です\n",
      "\n",
      "43番目の画像データについて\n",
      "[1.00000000e+00 5.84899815e-11] 答え 7\n",
      "この画像は7です\n",
      "\n",
      "44番目の画像データについて\n",
      "[1.00000000e+00 5.97645687e-13] 答え 7\n",
      "この画像は7です\n",
      "\n",
      "45番目の画像データについて\n",
      "[9.99999988e-01 1.22831086e-08] 答え 7\n",
      "この画像は7です\n",
      "\n",
      "46番目の画像データについて\n",
      "[9.99999659e-01 3.40519138e-07] 答え 7\n",
      "この画像は7です\n",
      "\n",
      "47番目の画像データについて\n",
      "[3.89821508e-12 1.00000000e+00] 答え 9\n",
      "この画像は9です\n",
      "\n",
      "48番目の画像データについて\n",
      "[1.00000000e+00 4.07574325e-13] 答え 7\n",
      "この画像は7です\n",
      "\n",
      "49番目の画像データについて\n",
      "[1.00000000e+00 4.03209315e-13] 答え 7\n",
      "この画像は7です\n",
      "\n",
      "50番目の画像データについて\n",
      "[9.99999988e-01 1.22403784e-08] 答え 7\n",
      "この画像は7です\n",
      "\n",
      "51番目の画像データについて\n",
      "[3.37507799e-14 1.00000000e+00] 答え 9\n",
      "この画像は9です\n",
      "\n",
      "52番目の画像データについて\n",
      "[1.00000000e+00 1.72459373e-11] 答え 7\n",
      "この画像は7です\n",
      "\n",
      "53番目の画像データについて\n",
      "[1.00000000e+00 5.51060927e-13] 答え 7\n",
      "この画像は7です\n",
      "\n",
      "54番目の画像データについて\n",
      "[0.00564857 0.99435143] 答え 9\n",
      "この画像は9です\n",
      "\n",
      "55番目の画像データについて\n",
      "[0.04455016 0.95544984] 答え 9\n",
      "この画像は9です\n",
      "\n",
      "56番目の画像データについて\n",
      "[1.00000000e+00 6.89152777e-15] 答え 7\n",
      "この画像は7です\n",
      "\n",
      "57番目の画像データについて\n",
      "[1.00000000e+00 2.68278826e-11] 答え 7\n",
      "この画像は7です\n",
      "\n",
      "58番目の画像データについて\n",
      "[9.99999999e-01 7.70688642e-10] 答え 7\n",
      "この画像は7です\n",
      "\n",
      "59番目の画像データについて\n",
      "[1.00000000e+00 4.59838329e-12] 答え 7\n",
      "この画像は7です\n",
      "\n",
      "60番目の画像データについて\n",
      "[1.00000000e+00 7.25261083e-12] 答え 7\n",
      "この画像は7です\n",
      "\n",
      "61番目の画像データについて\n",
      "[1.21856081e-10 1.00000000e+00] 答え 9\n",
      "この画像は9です\n",
      "\n",
      "62番目の画像データについて\n",
      "[9.37394606e-11 1.00000000e+00] 答え 9\n",
      "この画像は9です\n",
      "\n",
      "63番目の画像データについて\n",
      "[3.62065933e-12 1.00000000e+00] 答え 9\n",
      "この画像は9です\n",
      "\n",
      "64番目の画像データについて\n",
      "[1.7696955e-13 1.0000000e+00] 答え 9\n",
      "この画像は9です\n",
      "\n",
      "65番目の画像データについて\n",
      "[9.99999999e-01 9.50334156e-10] 答え 7\n",
      "この画像は7です\n",
      "\n",
      "66番目の画像データについて\n",
      "[1.37964937e-06 9.99998620e-01] 答え 9\n",
      "この画像は9です\n",
      "\n",
      "67番目の画像データについて\n",
      "[3.05533376e-13 1.00000000e+00] 答え 9\n",
      "この画像は9です\n",
      "\n",
      "68番目の画像データについて\n",
      "[9.99999998e-01 2.10281907e-09] 答え 7\n",
      "この画像は7です\n",
      "\n",
      "69番目の画像データについて\n",
      "[1.0000000e+00 1.3654491e-11] 答え 7\n",
      "この画像は7です\n",
      "\n",
      "70番目の画像データについて\n",
      "[9.99999923e-01 7.71348710e-08] 答え 7\n",
      "この画像は7です\n",
      "\n",
      "71番目の画像データについて\n",
      "[1.00000000e+00 5.70047172e-14] 答え 7\n",
      "この画像は7です\n",
      "\n"
     ]
    }
   ],
   "source": [
    "#テストデータの予測値\n",
    "pred_test_proba = logistic.predict_proba(X_test)\n",
    "for i in range(0,72):\n",
    "    print(f\"{i}番目の画像データについて\")\n",
    "    print(pred_test_proba[i],\"答え\", y_test[i]) #7である確率と9である確率の予測値と、実際の画像に書かれた数字\n",
    "    \n",
    "    if(pred_test_proba[i][0] > pred_test_proba[i][1]):\n",
    "        print(\"この画像は7です\")\n",
    "    if(pred_test_proba[i][0] < pred_test_proba[i][1]):\n",
    "        print(\"この画像は9です\")\n",
    "    \n",
    "    print(\"\")"
   ]
  },
  {
   "cell_type": "code",
   "execution_count": 79,
   "metadata": {},
   "outputs": [
    {
     "data": {
      "image/png": "[encoded data removed]",
      "text/plain": [
       "<Figure size 432x288 with 2 Axes>"
      ]
     },
     "metadata": {
      "needs_background": "light"
     },
     "output_type": "display_data"
    }
   ],
   "source": [
    "# 画像の確認\n",
    "import matplotlib.pyplot as plt\n",
    "plt.imshow(X_test[32].reshape(8, 8))\n",
    "plt.colorbar()\n",
    "plt.show()"
   ]
  },
  {
   "cell_type": "code",
   "execution_count": 80,
   "metadata": {},
   "outputs": [
    {
     "data": {
      "text/plain": [
       "9"
      ]
     },
     "execution_count": 80,
     "metadata": {},
     "output_type": "execute_result"
    }
   ],
   "source": [
    "y_test[32]"
   ]
  },
  {
   "cell_type": "code",
   "execution_count": 81,
   "metadata": {},
   "outputs": [
    {
     "data": {
      "text/plain": [
       "array([9.61719593e-12, 1.00000000e+00])"
      ]
     },
     "execution_count": 81,
     "metadata": {},
     "output_type": "execute_result"
    }
   ],
   "source": [
    "pred_test_proba[32]"
   ]
  },
  {
   "cell_type": "markdown",
   "metadata": {},
   "source": [
    "### 4.3 モデルの解釈\n",
    "モデルを評価する際に、モデルを解釈するのはとても大事なことです。モデルがどうやって「7」画像と「9」画像を識別できるのか少しでも把握しておくことで、\n",
    "* モデルが適切に画像を識別できているか？\n",
    "* どのような画像に対してはモデルが識別しづらそうか？\n",
    "\n",
    "などを事前に考えるきっかけを得られるからです。\n",
    "\n",
    "#### [課題] 「1」と「７」、「8」と「９」などでlogstic回帰を試してみてください。その際、下記の手法で画像のどこに着目しているか考えてみてください"
   ]
  },
  {
   "cell_type": "code",
   "execution_count": 17,
   "metadata": {},
   "outputs": [
    {
     "data": {
      "text/plain": [
       "array([-0.0077153])"
      ]
     },
     "execution_count": 17,
     "metadata": {},
     "output_type": "execute_result"
    }
   ],
   "source": [
    "# 切片\n",
    "logistic.intercept_"
   ]
  },
  {
   "cell_type": "code",
   "execution_count": 82,
   "metadata": {},
   "outputs": [
    {
     "data": {
      "image/png": "[encoded data removed]",
      "text/plain": [
       "<Figure size 432x288 with 2 Axes>"
      ]
     },
     "metadata": {
      "needs_background": "light"
     },
     "output_type": "display_data"
    }
   ],
   "source": [
    "# 画像のどこに注目しているか\n",
    "import matplotlib.pyplot as plt\n",
    "weights = logistic.coef_\n",
    "plt.imshow(weights.reshape(8, 8))\n",
    "plt.colorbar()\n",
    "plt.show()"
   ]
  },
  {
   "cell_type": "code",
   "execution_count": null,
   "metadata": {},
   "outputs": [],
   "source": []
  }
 ],
 "metadata": {
  "kernelspec": {
   "display_name": "Python 3",
   "language": "python",
   "name": "python3"
  },
  "language_info": {
   "codemirror_mode": {
    "name": "ipython",
    "version": 3
   },
   "file_extension": ".py",
   "mimetype": "text/x-python",
   "name": "python",
   "nbconvert_exporter": "python",
   "pygments_lexer": "ipython3",
   "version": "3.7.6"
  }
 },
 "nbformat": 4,
 "nbformat_minor": 2
}
