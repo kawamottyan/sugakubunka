{
 "cells": [
  {
   "cell_type": "markdown",
   "metadata": {},
   "source": [
    "## G　logistic回帰モデルを用いた手書き文字画像の分類\n",
    "\n",
    "MNIST datasetは有名なデータセットのひとつです。手書きで書かれた0-9までの数字の画像データと、その書かれた数字を表すラベルデータから構成されています。今回はそのうち「7」と「9」の画像のみを扱うことにしましょう。\n",
    "\n",
    "**目標** : 「7」か「9」の手書き数字画像を入力すると、それが「7」か「9」かを自動で識別してくれる仕組みを作る。\n",
    "\n",
    "今回はlogistic回帰モデルというモデルを用いて「7」画像と「9」画像を自動で識別できる仕組みを作りましょう。"
   ]
  },
  {
   "cell_type": "markdown",
   "metadata": {},
   "source": [
    "### 準備 : small MNIST datasetの読み込み\n",
    "small MNIST datasetは「0」から「9」の画像が1797枚レコードされています。画像サイズは8×8 pixel、色深度は4bit gray scaleです。\n",
    "\n",
    "`sklearn`パッケージの`datasets`モジュールにある`load_digits`メソッドを用いると、small MNIST datasetを読み込むことが出来ます。\n",
    "* data : 訓練用の画像\n",
    "* target : dataにレコードされている画像それぞれのラベル\n",
    "\n",
    "を`numpy.array`の形で得ることが出来ます。"
   ]
  },
  {
   "cell_type": "code",
   "execution_count": 1,
   "metadata": {},
   "outputs": [
    {
     "data": {
      "text/plain": [
       "((1797, 64), (1797,))"
      ]
     },
     "execution_count": 1,
     "metadata": {},
     "output_type": "execute_result"
    }
   ],
   "source": [
    "# MNISTデータセットのimport\n",
    "from sklearn.datasets import load_digits\n",
    "X, y = load_digits().data, load_digits().target\n",
    "X.shape, y.shape"
   ]
  },
  {
   "cell_type": "code",
   "execution_count": 2,
   "metadata": {},
   "outputs": [
    {
     "data": {
      "image/png": "[encoded data removed]",
      "text/plain": [
       "<Figure size 432x288 with 2 Axes>"
      ]
     },
     "metadata": {
      "needs_background": "light"
     },
     "output_type": "display_data"
    }
   ],
   "source": [
    "# 画像の確認\n",
    "import matplotlib.pyplot as plt\n",
    "plt.imshow(X[1003, :].reshape(8, 8))\n",
    "plt.colorbar()\n",
    "plt.show()"
   ]
  },
  {
   "cell_type": "code",
   "execution_count": 3,
   "metadata": {},
   "outputs": [
    {
     "data": {
      "image/png": "[encoded data removed]",
      "text/plain": [
       "<Figure size 360x360 with 1 Axes>"
      ]
     },
     "metadata": {
      "needs_background": "light"
     },
     "output_type": "display_data"
    }
   ],
   "source": [
    "import seaborn as sns\n",
    "import matplotlib.pyplot as plt\n",
    "sns.displot(X[1003,:]) #X[1003,:]の輝度ヒストグラム\n",
    "plt.show()"
   ]
  },
  {
   "cell_type": "code",
   "execution_count": 4,
   "metadata": {},
   "outputs": [
    {
     "data": {
      "text/plain": [
       "(0.0, 16.0)"
      ]
     },
     "execution_count": 4,
     "metadata": {},
     "output_type": "execute_result"
    }
   ],
   "source": [
    "# 画像データの最小値と最大値\n",
    "X.min(), X.max()"
   ]
  },
  {
   "cell_type": "code",
   "execution_count": 5,
   "metadata": {},
   "outputs": [
    {
     "data": {
      "text/plain": [
       "(array([0, 1, 2, 3, 4, 5, 6, 7, 8, 9]),\n",
       " array([178, 182, 177, 183, 181, 182, 181, 179, 174, 180]))"
      ]
     },
     "execution_count": 5,
     "metadata": {},
     "output_type": "execute_result"
    }
   ],
   "source": [
    "# 画像のラベル\n",
    "import numpy as np\n",
    "np.unique(y, return_counts = True)"
   ]
  },
  {
   "cell_type": "markdown",
   "metadata": {},
   "source": [
    "今回は「7」画像と「9」画像のみを用いるので、ここで事前に抽出しておきます。"
   ]
  },
  {
   "cell_type": "code",
   "execution_count": 6,
   "metadata": {},
   "outputs": [],
   "source": [
    "# ラベルが7/9の画像のindexを取得する。\n",
    "index = np.where((y == 7) | (y == 9)) #|はまたはを意味する"
   ]
  },
  {
   "cell_type": "code",
   "execution_count": 7,
   "metadata": {},
   "outputs": [
    {
     "data": {
      "text/plain": [
       "((359, 64), (359,))"
      ]
     },
     "execution_count": 7,
     "metadata": {},
     "output_type": "execute_result"
    }
   ],
   "source": [
    "# ラベルが7/9の画像を抽出する。\n",
    "X, y = X[index], y[index]\n",
    "X.shape, y.shape"
   ]
  },
  {
   "cell_type": "code",
   "execution_count": 8,
   "metadata": {},
   "outputs": [],
   "source": [
    "from sklearn.model_selection import train_test_split\n",
    "X_train, X_test, y_train, y_test = train_test_split(X, y, test_size = 0.2) #訓練データとテストデータに8:2で分けている"
   ]
  },
  {
   "cell_type": "code",
   "execution_count": 9,
   "metadata": {},
   "outputs": [
    {
     "data": {
      "text/plain": [
       "((287, 64), (72, 64))"
      ]
     },
     "execution_count": 9,
     "metadata": {},
     "output_type": "execute_result"
    }
   ],
   "source": [
    "X_train.shape, X_test.shape"
   ]
  },
  {
   "cell_type": "code",
   "execution_count": 10,
   "metadata": {},
   "outputs": [
    {
     "data": {
      "text/plain": [
       "((array([7, 9]), array([149, 138])), (array([7, 9]), array([30, 42])))"
      ]
     },
     "execution_count": 10,
     "metadata": {},
     "output_type": "execute_result"
    }
   ],
   "source": [
    "# 「7」画像と「9」画像の枚数の確認\n",
    "np.unique(y_train, return_counts = True), np.unique(y_test, return_counts = True)"
   ]
  },
  {
   "cell_type": "markdown",
   "metadata": {},
   "source": [
    "「7」画像と「9」画像のみを抽出した結果、\n",
    "* 訓練データ : 「7」画像138件, 「9」画像149件, 合計287件\n",
    "* テストデータ : 「7」画像41件, 「9」画像31件, 合計72件\n",
    "\n",
    "になりました。"
   ]
  },
  {
   "cell_type": "markdown",
   "metadata": {},
   "source": [
    "### データの確認\n",
    "今回の実習のように、画像を識別できる仕組みを作るタスクを**画像認識タスク**といいます。画像認識タスクでは、その難易度を自分で知っておくためにも、画像を自分の目で確認することがとても重要です。最初の10枚の画像を確認して、どれくらい手書き文字が汚いのかをチェックしておきましょう。"
   ]
  },
  {
   "cell_type": "code",
   "execution_count": 11,
   "metadata": {},
   "outputs": [
    {
     "data": {
      "image/png": "[encoded data removed]",
      "text/plain": [
       "<Figure size 720x7200 with 10 Axes>"
      ]
     },
     "metadata": {
      "needs_background": "light"
     },
     "output_type": "display_data"
    }
   ],
   "source": [
    "# 画像の確認\n",
    "import matplotlib.pyplot as plt\n",
    "n_images = 10\n",
    "plt.figure(figsize = (10, 100))\n",
    "for i in range(n_images):\n",
    "    plt.subplot(1, n_images, i + 1)\n",
    "    plt.imshow(X_train[i].reshape(8, 8))\n",
    "plt.show()"
   ]
  },
  {
   "cell_type": "code",
   "execution_count": 12,
   "metadata": {},
   "outputs": [
    {
     "data": {
      "text/plain": [
       "array([7, 7, 9, 7, 9, 7, 7, 7, 9, 9])"
      ]
     },
     "execution_count": 12,
     "metadata": {},
     "output_type": "execute_result"
    }
   ],
   "source": [
    "y_train[0:10]"
   ]
  },
  {
   "cell_type": "markdown",
   "metadata": {},
   "source": [
    "### logistic回帰モデル"
   ]
  },
  {
   "cell_type": "markdown",
   "metadata": {},
   "source": [
    "#### logistic回帰モデルの実装\n",
    "logistic回帰モデルには様々な学習アルゴリズムの設定値があり、この設定によって学習の様子は大きく変わってきます"
   ]
  },
  {
   "cell_type": "code",
   "execution_count": 13,
   "metadata": {},
   "outputs": [],
   "source": [
    "# logistic回帰モデルの実装\n",
    "from sklearn.linear_model import LogisticRegression\n",
    "logistic = LogisticRegression(penalty = \"l2\", C = 100.0) "
   ]
  },
  {
   "cell_type": "code",
   "execution_count": 14,
   "metadata": {},
   "outputs": [
    {
     "name": "stderr",
     "output_type": "stream",
     "text": [
      "/Users/sugakubunka/Library/Python/3.8/lib/python/site-packages/sklearn/linear_model/_logistic.py:762: ConvergenceWarning: lbfgs failed to converge (status=1):\n",
      "STOP: TOTAL NO. of ITERATIONS REACHED LIMIT.\n",
      "\n",
      "Increase the number of iterations (max_iter) or scale the data as shown in:\n",
      "    https://scikit-learn.org/stable/modules/preprocessing.html\n",
      "Please also refer to the documentation for alternative solver options:\n",
      "    https://scikit-learn.org/stable/modules/linear_model.html#logistic-regression\n",
      "  n_iter_i = _check_optimize_result(\n"
     ]
    },
    {
     "data": {
      "text/plain": [
       "LogisticRegression(C=100.0)"
      ]
     },
     "execution_count": 14,
     "metadata": {},
     "output_type": "execute_result"
    }
   ],
   "source": [
    "#y_trainっていう答えを元に、画像データX_trainが7か9か予測するlogistic回帰モデルのパラメータを決定する\n",
    "logistic.fit(X_train, y_train)"
   ]
  },
  {
   "cell_type": "code",
   "execution_count": 15,
   "metadata": {},
   "outputs": [
    {
     "data": {
      "text/plain": [
       "(array([-13.71367721]),\n",
       " array([[ 0.00000000e+00, -8.41389448e-02, -2.85362348e-01,\n",
       "          1.37719006e-01,  2.13489875e-01, -7.52415607e-02,\n",
       "         -1.45649531e-01, -1.50105352e-01,  0.00000000e+00,\n",
       "          6.25034789e-03, -9.87943526e-03, -7.27021510e-02,\n",
       "         -5.20115672e-01,  1.14692460e-02, -3.53561065e-02,\n",
       "         -8.18297857e-02,  0.00000000e+00,  6.16823116e-01,\n",
       "          6.99645090e-01,  3.82785231e-01,  1.95670507e-01,\n",
       "         -1.56921150e-02,  1.61316413e-01, -2.27348830e-03,\n",
       "          0.00000000e+00,  2.32274688e-01,  2.89349509e-01,\n",
       "          7.97406970e-01,  3.47731005e-01,  5.83415388e-02,\n",
       "         -2.76868712e-01,  0.00000000e+00,  0.00000000e+00,\n",
       "         -2.88434216e-01, -1.51280955e-01, -9.61601190e-02,\n",
       "         -1.39218269e-01, -1.14631624e-02, -7.13152329e-02,\n",
       "          0.00000000e+00,  0.00000000e+00,  8.12075934e-03,\n",
       "         -2.11673501e-01, -6.24854251e-01, -3.29640075e-01,\n",
       "          3.13126941e-01,  1.07623149e-01, -3.57860421e-04,\n",
       "          0.00000000e+00,  7.94490631e-02, -2.08718240e-01,\n",
       "         -3.03655783e-01, -1.04916933e-01,  4.99448713e-01,\n",
       "          1.52645815e-01, -2.81105706e-04,  0.00000000e+00,\n",
       "         -4.89606568e-02, -2.87355719e-02,  1.92746092e-01,\n",
       "         -6.84160590e-02,  3.89054025e-01,  2.53988220e-02,\n",
       "          1.32312135e-04]]))"
      ]
     },
     "execution_count": 15,
     "metadata": {},
     "output_type": "execute_result"
    }
   ],
   "source": [
    "logistic.intercept_, logistic.coef_"
   ]
  },
  {
   "cell_type": "code",
   "execution_count": 16,
   "metadata": {},
   "outputs": [
    {
     "data": {
      "text/plain": [
       "array([7, 9])"
      ]
     },
     "execution_count": 16,
     "metadata": {},
     "output_type": "execute_result"
    }
   ],
   "source": [
    "logistic.classes_"
   ]
  },
  {
   "cell_type": "code",
   "execution_count": 17,
   "metadata": {},
   "outputs": [
    {
     "data": {
      "text/plain": [
       "array([[9.99674633e-01, 3.25367374e-04],\n",
       "       [9.99998220e-01, 1.78023044e-06],\n",
       "       [4.13413802e-05, 9.99958659e-01],\n",
       "       [9.99999420e-01, 5.79967311e-07],\n",
       "       [1.26905597e-10, 1.00000000e+00]])"
      ]
     },
     "execution_count": 17,
     "metadata": {},
     "output_type": "execute_result"
    }
   ],
   "source": [
    "# 予測器が出来ていることを確認する\n",
    "import numpy as np\n",
    "np.set_printoptions(precision = 8, floatmode = \"maxprec\")\n",
    "pred_train_proba = logistic.predict_proba(X_train) #7である確率と9である確率を予測\n",
    "pred_train_proba[:5, :]    # 先頭5行のみ確認"
   ]
  },
  {
   "cell_type": "markdown",
   "metadata": {},
   "source": [
    "### モデルの評価\n",
    "モデル評価は訓練データ、テストデータともに行う必要があります。訓練データでのモデル評価が悪い場合、より複雑なモデルを選択することを視野に入れる必要があるからです。またテストデータでの正答率が訓練データよりも著しく悪い場合、モデルをより単純にする必要が出てくるためです。これらは**過剰適合**・**過小適合**という言葉で議論されます。\n",
    "\n",
    "今回モデルの評価を行う方法の一例として、\n",
    "* 正答率\n",
    "* 混同行列\n",
    "\n",
    "を書いてみましょう。"
   ]
  },
  {
   "cell_type": "markdown",
   "metadata": {},
   "source": [
    "#### 訓練データでの評価"
   ]
  },
  {
   "cell_type": "code",
   "execution_count": 18,
   "metadata": {},
   "outputs": [
    {
     "data": {
      "text/plain": [
       "1.0"
      ]
     },
     "execution_count": 18,
     "metadata": {},
     "output_type": "execute_result"
    }
   ],
   "source": [
    "# 訓練データでの精度\n",
    "from sklearn.metrics import accuracy_score\n",
    "pred_train = logistic.predict(X_train)\n",
    "accuracy_score(y_true = y_train, y_pred = pred_train)"
   ]
  },
  {
   "cell_type": "code",
   "execution_count": 19,
   "metadata": {},
   "outputs": [
    {
     "data": {
      "text/plain": [
       "array([[149,   0],\n",
       "       [  0, 138]])"
      ]
     },
     "execution_count": 19,
     "metadata": {},
     "output_type": "execute_result"
    }
   ],
   "source": [
    "# 訓練データでの混同行列\n",
    "from sklearn.metrics import confusion_matrix\n",
    "pred_train = logistic.predict(X_train)\n",
    "confusion_matrix(y_true = y_train, y_pred = pred_train)"
   ]
  },
  {
   "cell_type": "markdown",
   "metadata": {},
   "source": [
    "#### テストデータでの評価"
   ]
  },
  {
   "cell_type": "code",
   "execution_count": 20,
   "metadata": {},
   "outputs": [
    {
     "data": {
      "text/plain": [
       "1.0"
      ]
     },
     "execution_count": 20,
     "metadata": {},
     "output_type": "execute_result"
    }
   ],
   "source": [
    "# テストデータでの精度（演習）\n",
    "from sklearn.metrics import accuracy_score\n",
    "pred_test = logistic.predict(X_test)\n",
    "accuracy_score(y_true = y_test, y_pred = pred_test)"
   ]
  },
  {
   "cell_type": "code",
   "execution_count": 21,
   "metadata": {},
   "outputs": [
    {
     "data": {
      "text/plain": [
       "array([[30,  0],\n",
       "       [ 0, 42]])"
      ]
     },
     "execution_count": 21,
     "metadata": {},
     "output_type": "execute_result"
    }
   ],
   "source": [
    "# テストデータでの混同行列（演習）\n",
    "from sklearn.metrics import confusion_matrix\n",
    "pred_test = logistic.predict(X_test)\n",
    "confusion_matrix(y_true = y_test, y_pred = pred_test)"
   ]
  },
  {
   "cell_type": "code",
   "execution_count": 22,
   "metadata": {},
   "outputs": [
    {
     "data": {
      "image/png": "[encoded data removed]",
      "text/plain": [
       "<Figure size 432x288 with 2 Axes>"
      ]
     },
     "metadata": {
      "needs_background": "light"
     },
     "output_type": "display_data"
    }
   ],
   "source": [
    "# 画像の確認\n",
    "import matplotlib.pyplot as plt\n",
    "plt.imshow(X_test[32].reshape(8, 8))\n",
    "plt.colorbar()\n",
    "plt.show()"
   ]
  },
  {
   "cell_type": "code",
   "execution_count": 23,
   "metadata": {},
   "outputs": [
    {
     "data": {
      "text/plain": [
       "7"
      ]
     },
     "execution_count": 23,
     "metadata": {},
     "output_type": "execute_result"
    }
   ],
   "source": [
    "y_test[32]"
   ]
  },
  {
   "cell_type": "code",
   "execution_count": 24,
   "metadata": {},
   "outputs": [
    {
     "data": {
      "text/plain": [
       "array([1.00000000e+00, 5.28403624e-13])"
      ]
     },
     "execution_count": 24,
     "metadata": {},
     "output_type": "execute_result"
    }
   ],
   "source": [
    "# 予測器が出来ていることを確認する\n",
    "import numpy as np\n",
    "np.set_printoptions(precision = 8, floatmode = \"maxprec\")\n",
    "pred_test = logistic.predict_proba(X_test) #7である確率と9である確率を予測\n",
    "pred_test[32, :]"
   ]
  },
  {
   "cell_type": "markdown",
   "metadata": {},
   "source": [
    "### モデルの解釈\n",
    "モデルを評価する際に、モデルを解釈するのはとても大事なことです。モデルがどうやって「7」画像と「9」画像を識別できるのか少しでも把握しておくことで、\n",
    "\n",
    "* モデルが適切に画像を識別できているか？\n",
    "* どのような画像に対してはモデルが識別しづらそうか？\n",
    "\n",
    "などを事前に考えるきっかけを得られるからです。\n",
    "\n",
    "[課題]　「1」と「７」、「8」と「９」などでlogstic回帰を試してみてください。その際、下記の手法で画像のどこに着目しているか考えてみてください。また、正則化を入れた場合と入れなかった場合で、どのように結果が変わるかを見てみましょう。"
   ]
  },
  {
   "cell_type": "code",
   "execution_count": 25,
   "metadata": {},
   "outputs": [
    {
     "data": {
      "text/plain": [
       "array([-13.71367721])"
      ]
     },
     "execution_count": 25,
     "metadata": {},
     "output_type": "execute_result"
    }
   ],
   "source": [
    "# 切片\n",
    "logistic.intercept_"
   ]
  },
  {
   "cell_type": "code",
   "execution_count": 26,
   "metadata": {},
   "outputs": [
    {
     "data": {
      "image/png": "[encoded data removed]",
      "text/plain": [
       "<Figure size 432x288 with 2 Axes>"
      ]
     },
     "metadata": {
      "needs_background": "light"
     },
     "output_type": "display_data"
    }
   ],
   "source": [
    "# 画像のどこに注目しているか\n",
    "import matplotlib.pyplot as plt\n",
    "weights = logistic.coef_\n",
    "plt.imshow(weights.reshape(8, 8))\n",
    "plt.colorbar()\n",
    "plt.show()"
   ]
  }
 ],
 "metadata": {
  "kernelspec": {
   "display_name": "Python 3",
   "language": "python",
   "name": "python3"
  },
  "language_info": {
   "codemirror_mode": {
    "name": "ipython",
    "version": 3
   },
   "file_extension": ".py",
   "mimetype": "text/x-python",
   "name": "python",
   "nbconvert_exporter": "python",
   "pygments_lexer": "ipython3",
   "version": "3.8.2"
  }
 },
 "nbformat": 4,
 "nbformat_minor": 4
}
