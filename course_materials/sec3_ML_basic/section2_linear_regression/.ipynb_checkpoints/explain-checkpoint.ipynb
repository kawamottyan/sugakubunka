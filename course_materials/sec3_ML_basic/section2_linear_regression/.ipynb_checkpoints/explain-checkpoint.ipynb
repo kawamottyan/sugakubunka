{
 "cells": [
  {
   "cell_type": "markdown",
   "metadata": {},
   "source": [
    "## 線形回帰モデル\n",
    "このノートでは、教師あり学習、特に回帰問題の手法のなかで最も基本的な**線形回帰モデル(linear regression)**について説明します。\n",
    "\n",
    "線形回帰モデルは、入力と出力との関係が1次式によっておおよそ表現可能な場合に有効なモデルで、**2乗損失**と呼ばれる損失を最小化するような1次式を予測器として学習することを説明します。また、線形回帰モデルの学習は\n",
    "* 外れ値の影響を強く受ける。\n",
    "* 多重共線性に注意する必要がある。\n",
    "\n",
    "という注意点があげられることを説明し、特に多重共線性に対して有効な**正則化**という手法を紹介します。"
   ]
  },
  {
   "cell_type": "code",
   "execution_count": 1,
   "metadata": {
    "collapsed": true
   },
   "outputs": [
    {
     "name": "stderr",
     "output_type": "stream",
     "text": [
      "C:\\Users\\utaka.DESKTOP-NJPQUDQ\\Anaconda3\\lib\\site-packages\\sklearn\\utils\\deprecation.py:144: FutureWarning: The sklearn.metrics.classification module is  deprecated in version 0.22 and will be removed in version 0.24. The corresponding classes / functions should instead be imported from sklearn.metrics. Anything that cannot be imported from sklearn.metrics is now part of the private API.\n",
      "  warnings.warn(message, FutureWarning)\n"
     ]
    }
   ],
   "source": [
    "# 以下で必要なモジュールをimportしておきましょう。\n",
    "import numpy as np\n",
    "import matplotlib.pyplot as plt\n",
    "import pandas as pd\n",
    "import seaborn as sns\n",
    "from sklearn.linear_model import LinearRegression, Lasso, Ridge\n",
    "from sklearn.linear_model import LassoCV, RidgeCV\n",
    "from yellowbrick.regressor import AlphaSelection\n",
    "from sklearn.preprocessing import StandardScaler"
   ]
  },
  {
   "cell_type": "markdown",
   "metadata": {},
   "source": [
    "### A. 線形回帰モデル\n",
    "**線形回帰モデル(linear regression)**について紹介しましょう。線形回帰モデルは、入力と出力が次のようにおおよそ1次式の関係で表現されるときに用いられるモデルです。"
   ]
  },
  {
   "cell_type": "code",
   "execution_count": 2,
   "metadata": {
    "collapsed": true
   },
   "outputs": [],
   "source": [
    "# ダミーデータの生成\n",
    "X_train = np.linspace(start = -1.0, stop = 1.0, num = 50)\n",
    "y_train = 1.0 + 2.0*X_train + np.random.normal(loc = 0.0, scale = 1.0, size = 50)"
   ]
  },
  {
   "cell_type": "code",
   "execution_count": 3,
   "metadata": {},
   "outputs": [
    {
     "data": {
      "image/png": "[encoded data removed]",
      "text/plain": [
       "<Figure size 432x288 with 1 Axes>"
      ]
     },
     "metadata": {
      "needs_background": "light"
     },
     "output_type": "display_data"
    }
   ],
   "source": [
    "# データの可視化\n",
    "plt.scatter(X_train, y_train)\n",
    "plt.show()"
   ]
  },
  {
   "cell_type": "markdown",
   "metadata": {},
   "source": [
    "#### A1. 仮説・損失関数\n",
    "* 仮説：入力変数による1次式\n",
    "$$f(x;w)=w_0+w_1x_1+\\cdots+w_dx_d$$\n",
    "* 損失関数：2乗損失\n",
    "$$L(w)=(y-f(x;w))^2$$\n",
    "\n",
    "学習時には、各データポイントに対して2乗損失を計算し、その平均値（**平均2乗損失**）\n",
    "$$J(w) = \\frac{1}{n}\\sum_{i=1}^{n}(y_i-f(x_i;w))^2$$\n",
    "が最も小さくなるような1次式の仮説$f(x;w)=w_0+w_1x_1+\\cdots+w_dx_d$を予測器として求めます。"
   ]
  },
  {
   "cell_type": "markdown",
   "metadata": {},
   "source": [
    "**演習** 次のようなデータポイントに対して、\n",
    "* model A：$f(x) = 1 + 2x$\n",
    "* model B：$g(x) = 3x$\n",
    "\n",
    "を考えます。どちらのほうが平均2乗損失が低いかを計算してください。"
   ]
  },
  {
   "cell_type": "code",
   "execution_count": 4,
   "metadata": {},
   "outputs": [
    {
     "data": {
      "text/html": [
       "<div>\n",
       "<style scoped>\n",
       "    .dataframe tbody tr th:only-of-type {\n",
       "        vertical-align: middle;\n",
       "    }\n",
       "\n",
       "    .dataframe tbody tr th {\n",
       "        vertical-align: top;\n",
       "    }\n",
       "\n",
       "    .dataframe thead th {\n",
       "        text-align: right;\n",
       "    }\n",
       "</style>\n",
       "<table border=\"1\" class=\"dataframe\">\n",
       "  <thead>\n",
       "    <tr style=\"text-align: right;\">\n",
       "      <th></th>\n",
       "      <th>X</th>\n",
       "      <th>y</th>\n",
       "    </tr>\n",
       "  </thead>\n",
       "  <tbody>\n",
       "    <tr>\n",
       "      <td>0</td>\n",
       "      <td>0</td>\n",
       "      <td>0</td>\n",
       "    </tr>\n",
       "    <tr>\n",
       "      <td>1</td>\n",
       "      <td>1</td>\n",
       "      <td>3</td>\n",
       "    </tr>\n",
       "    <tr>\n",
       "      <td>2</td>\n",
       "      <td>2</td>\n",
       "      <td>4</td>\n",
       "    </tr>\n",
       "  </tbody>\n",
       "</table>\n",
       "</div>"
      ],
      "text/plain": [
       "   X  y\n",
       "0  0  0\n",
       "1  1  3\n",
       "2  2  4"
      ]
     },
     "execution_count": 4,
     "metadata": {},
     "output_type": "execute_result"
    }
   ],
   "source": [
    "# 演習のためのデータ\n",
    "pd.DataFrame([[0, 0], [1, 3], [2, 4]], columns = [\"X\", \"y\"])"
   ]
  },
  {
   "cell_type": "markdown",
   "metadata": {},
   "source": [
    "#### A2. LinearRegressionのsklearnによる実装\n",
    "#### 前準備\n",
    "まずは前準備として、sklearnのために入力Xを2次元配列, 出力yを1次元配列で準備しておきましょう。（注意：先ほど入力を準備したとき、1次元配列になっていたためです。）"
   ]
  },
  {
   "cell_type": "code",
   "execution_count": 5,
   "metadata": {
    "collapsed": true
   },
   "outputs": [],
   "source": [
    "# 前準備：sklearnのために入力Xを2次元配列, 出力yを1次元配列で準備する。\n",
    "X_train = X_train.reshape(50, 1)    # X_train.shape : (50,) -> (50, 1)"
   ]
  },
  {
   "cell_type": "markdown",
   "metadata": {},
   "source": [
    "#### 学習と予測\n",
    "では、実際に入力$X$と出力$y$のデータから線形回帰モデルを学習させてみましょう。線形回帰モデルは`LinearRegression`というクラス名で`sklearn.linear_model`モジュールに含まれています。\n",
    "* trainメソッド：学習\n",
    "* predictメソッド：予測"
   ]
  },
  {
   "cell_type": "code",
   "execution_count": 6,
   "metadata": {},
   "outputs": [
    {
     "data": {
      "text/plain": [
       "LinearRegression(copy_X=True, fit_intercept=True, n_jobs=None, normalize=False)"
      ]
     },
     "execution_count": 6,
     "metadata": {},
     "output_type": "execute_result"
    }
   ],
   "source": [
    "# LinearRegressionのインスタンスを建てて、学習させる。\n",
    "LR = LinearRegression()    # インスタンスを建てる。\n",
    "LR.fit(X_train, y_train)    # fitメソッド：学習させる。"
   ]
  },
  {
   "cell_type": "code",
   "execution_count": 7,
   "metadata": {},
   "outputs": [
    {
     "data": {
      "text/plain": [
       "array([-0.92899254, -0.92860446, -0.92821637, ...,  2.95068241,\n",
       "        2.95107049,  2.95145857])"
      ]
     },
     "execution_count": 7,
     "metadata": {},
     "output_type": "execute_result"
    }
   ],
   "source": [
    "# テストデータの入力を生成し、実際に予測させる。\n",
    "X_test = np.linspace(start = -1.0, stop = 1.0, num = 10000).reshape(10000, 1)\n",
    "y_pred = LR.predict(X_test)    # predictメソッド：予測させる。\n",
    "y_pred"
   ]
  },
  {
   "cell_type": "markdown",
   "metadata": {},
   "source": [
    "#### 結果の確認\n",
    "折角なので学習した結果を、入力をx軸に出力をy軸にとった散布図上に描いてみましょう。"
   ]
  },
  {
   "cell_type": "code",
   "execution_count": 8,
   "metadata": {
    "scrolled": true
   },
   "outputs": [
    {
     "data": {
      "image/png": "[encoded data removed]",
      "text/plain": [
       "<Figure size 432x288 with 1 Axes>"
      ]
     },
     "metadata": {
      "needs_background": "light"
     },
     "output_type": "display_data"
    }
   ],
   "source": [
    "# 予測結果（1次式による直線）を散布図上に描いて確認する。\n",
    "plt.scatter(X_train, y_train)\n",
    "plt.plot(X_test.reshape(10000), y_pred)\n",
    "plt.show()"
   ]
  },
  {
   "cell_type": "markdown",
   "metadata": {},
   "source": [
    "また、学習によって得た予測式$f(x;w)=w_0+w_1x_1$のパラメータ$w_0,w_1$をそれぞれ**切片**、**回帰係数**といいます。これらは次のインスタンス変数で確認できます。\n",
    "* intercept_：切片\n",
    "* coef_:回帰係数"
   ]
  },
  {
   "cell_type": "code",
   "execution_count": 9,
   "metadata": {},
   "outputs": [
    {
     "data": {
      "text/plain": [
       "(1.0112330160505731, array([1.94022556]))"
      ]
     },
     "execution_count": 9,
     "metadata": {},
     "output_type": "execute_result"
    }
   ],
   "source": [
    "LR.intercept_, LR.coef_"
   ]
  },
  {
   "cell_type": "markdown",
   "metadata": {},
   "source": [
    "#### A3. 線形回帰モデルの性質\n",
    "線形回帰モデルには次のような3つの性質があります。\n",
    "1. 入力と出力の関係がおおよそ1次式と言えない場合には不適切なモデルである。\n",
    "2. 外れ値の影響を強く受ける。\n",
    "3. 多重共線性に注意する必要がある。\n",
    "\n",
    "これらは、線形回帰モデルの仮説と損失の形をよく理解することで気づくことができるので、以下に説明しましょう。\n",
    "\n",
    "#### 性質1について\n",
    "これは仮説が1次式であることからきます。このような入力と出力の関係を**線形**といい、そうでない関係を**非線形**といいますが、明らかに非線形な関係がある場合に線形回帰モデルは適切ではありません。\n",
    "\n",
    "#### 性質2について\n",
    "線形回帰モデルは外れ値の影響を強く受けます。次のような例を考えてみましょう。\n",
    "<img src = \"outliner_LinearRegression.png\">\n",
    "このように、線形回帰モデルは外れ値に引っ張られてしまいます。線形回帰モデルは、損失が平均2乗損失であることから外れ値ではその値がとても大きくなる傾向があります。そのため、学習時に平均2乗損失を最小にする過程で、外れ値での損失をなるべく小さくするようにパラメータが求められ、外れ値に引っ張られてしまうのです。\n",
    "\n",
    "#### 性質3について\n",
    "例えば、2つの入力変数$x_1$と$x_2$がちょうど値が2倍になっているような場合を考えてみましょう。この場合、\n",
    "* $f(x) = x_1 + x_2$\n",
    "* $g(x) = 3x_1$\n",
    "\n",
    "という2つの式の間で予測値は異なるでしょうか？いえ、実は同じです。すなわち、この2つの1次式はどちらも全く同じ平均2乗損失を達成します。線形回帰モデルは、このようにある列が他の列によっておよそ1次式で表現できてしまうような場合、得られたデータに対する学習結果が不安定になってしまいます。"
   ]
  },
  {
   "cell_type": "code",
   "execution_count": 10,
   "metadata": {},
   "outputs": [
    {
     "data": {
      "text/plain": [
       "(1.2475154690628583, array([1.13531498, 0.08638267]))"
      ]
     },
     "execution_count": 10,
     "metadata": {},
     "output_type": "execute_result"
    }
   ],
   "source": [
    "# 以下のスクリプトの内容を理解して、繰り返し実行した時の結果を確認してみましょう。\n",
    "# 前準備：入力変数間の相関の強いデータ\n",
    "X_train = np.random.multivariate_normal(mean = [0, 0],\n",
    "                                        cov = [[1.0, 0.9],\n",
    "                                               [0.9, 1.0]],\n",
    "                                        size = 100)\n",
    "y_train = 1.0 + X_train[:, 0] + np.random.normal(loc = 0.0, scale = 1.0, size  = 100)\n",
    "# LinearRegressionのインスタンスを建てて、学習させる。\n",
    "LR = LinearRegression()    # インスタンスを建てる。\n",
    "LR.fit(X_train, y_train)    # fitメソッド：学習させる。\n",
    "LR.intercept_, LR.coef_"
   ]
  },
  {
   "cell_type": "markdown",
   "metadata": {},
   "source": [
    "### B. 正則化を加えた線形回帰モデル\n",
    "前の節で、線形回帰モデルの多重共線性を見ました。多重共線性の課題は入力をサンプリングし直すごとに学習結果（パラメータの推定）が不安定になることです。そこで、学習結果として得られるパラメータの数値の大きさを制限してしまうことで学習結果を安定させようという考え方があります。これを**正則化**といいます。以下では、正則化の代表例であるRidge回帰を説明しましょう。"
   ]
  },
  {
   "cell_type": "markdown",
   "metadata": {},
   "source": [
    "#### B1. 仮説・損失関数\n",
    "* 仮説：入力変数による1次式\n",
    "$$f(x;w)=w_0+w_1x_1+\\cdots+w_dx_d$$\n",
    "* 損失関数：2乗損失\n",
    "$$L(w)=(y-f(x;w))^2$$\n",
    "* 罰則：パラメータの大きさ\n",
    "$$||w||^2=w_0^2+w_1^2\\cdots+w_d^2$$\n",
    "\n",
    "学習時には、目的関数\n",
    "$$J(w) = \\frac{1}{n}\\sum_{i=1}^{n}(y_i-f(x_i;w))^2+\\lambda||w||^2$$\n",
    "が最も小さくなるような1次式を予測器として求める。ここで$\\lambda$は正則化項を損失に比べてどれだけ重要視するか調整するハイパーパラメータで、学習時には適切な値を自分で決める必要があります。"
   ]
  },
  {
   "cell_type": "markdown",
   "metadata": {},
   "source": [
    "**演習** 次のようなデータポイントに対して、\n",
    "* model A：$f(x) = 1 + 2x$\n",
    "* model B：$g(x) = 3x$\n",
    "\n",
    "を考えます。$\\lambda=1$としたときの$J(w)$を計算しましょう。"
   ]
  },
  {
   "cell_type": "code",
   "execution_count": 11,
   "metadata": {},
   "outputs": [
    {
     "data": {
      "text/html": [
       "<div>\n",
       "<style scoped>\n",
       "    .dataframe tbody tr th:only-of-type {\n",
       "        vertical-align: middle;\n",
       "    }\n",
       "\n",
       "    .dataframe tbody tr th {\n",
       "        vertical-align: top;\n",
       "    }\n",
       "\n",
       "    .dataframe thead th {\n",
       "        text-align: right;\n",
       "    }\n",
       "</style>\n",
       "<table border=\"1\" class=\"dataframe\">\n",
       "  <thead>\n",
       "    <tr style=\"text-align: right;\">\n",
       "      <th></th>\n",
       "      <th>X</th>\n",
       "      <th>y</th>\n",
       "    </tr>\n",
       "  </thead>\n",
       "  <tbody>\n",
       "    <tr>\n",
       "      <td>0</td>\n",
       "      <td>0</td>\n",
       "      <td>0</td>\n",
       "    </tr>\n",
       "    <tr>\n",
       "      <td>1</td>\n",
       "      <td>1</td>\n",
       "      <td>3</td>\n",
       "    </tr>\n",
       "    <tr>\n",
       "      <td>2</td>\n",
       "      <td>2</td>\n",
       "      <td>6</td>\n",
       "    </tr>\n",
       "  </tbody>\n",
       "</table>\n",
       "</div>"
      ],
      "text/plain": [
       "   X  y\n",
       "0  0  0\n",
       "1  1  3\n",
       "2  2  6"
      ]
     },
     "execution_count": 11,
     "metadata": {},
     "output_type": "execute_result"
    }
   ],
   "source": [
    "# 演習のためのデータ\n",
    "pd.DataFrame([[0, 0], [1, 3], [2, 6]], columns = [\"X\", \"y\"])"
   ]
  },
  {
   "cell_type": "markdown",
   "metadata": {},
   "source": [
    "正則化項は、学習の結果で得られるパラメータの数値の大きさを抑制することで、想定している仮説の規模を抑える効果がある。それゆえ、過剰適合を防ぐアイディアとして良く用いられている。ここでは、なぜ$||w||^2$という項を損失関数に加えることで、学習時に得られるパラメータの数値の大きさを抑制できるのか考えてみましょう。\n",
    "\n",
    "<center><img src = \"./imgs/L2_regularization.png\" width=500px></center>\n",
    "\n",
    "仮に損失を最小にするようなパラメータの数値の大きさが大きかった場合、今回は正則化項の数値が大きくなるので学習の結果としてこのような数値が得られなくなります。結局、ある程度正則化項の数値の大きさを小さくしつつ、損失が出来るだけ小さくなるようなパラメータの数値が今回の学習で得られる結果です。これは要するに、パラメータの数値の大きさを制限していると解釈できます。"
   ]
  },
  {
   "cell_type": "markdown",
   "metadata": {},
   "source": [
    "#### B2. Ridgeのsklearnによる実装\n",
    "#### 学習と予測\n",
    "実際に入力$X$と出力$y$のデータからRidge回帰モデルを学習させてみましょう。Ridge回帰モデルは`Ridge`というクラス名で`sklearn.linear_model`モジュールに含まれています。Ridge回帰の正則化パラメータは`alpha`という引数で指定できます。（ただし$\\alpha = n\\lambda$です。）\n",
    "* trainメソッド：学習\n",
    "* predictメソッド：予測値を計算する。\n",
    "\n",
    "線形回帰で多重共線性を確認した例で、実際にやってみましょう。"
   ]
  },
  {
   "cell_type": "code",
   "execution_count": 12,
   "metadata": {},
   "outputs": [
    {
     "data": {
      "text/plain": [
       "(1.1107137079209861, array([0.87669558, 0.00504882]))"
      ]
     },
     "execution_count": 12,
     "metadata": {},
     "output_type": "execute_result"
    }
   ],
   "source": [
    "# 前準備：入力変数間の相関の強いデータ\n",
    "X_train = np.random.multivariate_normal(mean = [0, 0],\n",
    "                                        cov = [[1.0, 0.9], [0.9, 1.0]],\n",
    "                                        size = 100)\n",
    "y_train = 1.0 + X_train[:, 0] + np.random.normal(loc = 0.0, scale = 1.0, size  = 100)\n",
    "# 入力を標準化する。\n",
    "SS = StandardScaler()\n",
    "X_train = SS.fit_transform(X_train)\n",
    "# Ridgeのインスタンスを建てて、学習させる。\n",
    "RIDGE = Ridge(alpha = 1.0)    # インスタンスを建てる。\n",
    "RIDGE.fit(X_train, y_train)    # fitメソッド：学習させる。\n",
    "RIDGE.intercept_, RIDGE.coef_"
   ]
  },
  {
   "cell_type": "markdown",
   "metadata": {},
   "source": [
    "#### alphaの探索\n",
    "実際には正則化ハイパーパラメータ`alpha`は探索して決めることになります。ここでは、grid searchという考え方で`alpha`を探索する手法を一例として紹介しておきましょう。"
   ]
  },
  {
   "cell_type": "code",
   "execution_count": 13,
   "metadata": {},
   "outputs": [
    {
     "data": {
      "image/png": "[encoded data removed]",
      "text/plain": [
       "<Figure size 432x288 with 1 Axes>"
      ]
     },
     "metadata": {
      "needs_background": "light"
     },
     "output_type": "display_data"
    }
   ],
   "source": [
    "alphas = np.logspace(-10, 1, 500)    # alphaの探索空間 = [10**(-10), 10**1]\n",
    "RIDGE_CV = RidgeCV(alphas=alphas)\n",
    "visualizer = AlphaSelection(RIDGE_CV)\n",
    "visualizer.fit(X_train, y_train)\n",
    "visualizer.show()\n",
    "plt.show()"
   ]
  },
  {
   "cell_type": "markdown",
   "metadata": {},
   "source": [
    "### Ridge回帰係数の変化"
   ]
  },
  {
   "cell_type": "markdown",
   "metadata": {},
   "source": [
    "Ridge正則化ハイパーパラメータ$\\alpha$が大きくなるにつれて、各入力変数の回帰係数がどのように変化するか観察しましょう。"
   ]
  },
  {
   "cell_type": "code",
   "execution_count": 14,
   "metadata": {},
   "outputs": [],
   "source": [
    "alphas = np.logspace(-10, 10, 500)\n",
    "coefs = []\n",
    "for alpha in alphas:\n",
    "    RIDGE = Ridge(alpha = alpha)\n",
    "    RIDGE.fit(X_train, y_train)\n",
    "    coefs.append(RIDGE.coef_)"
   ]
  },
  {
   "cell_type": "code",
   "execution_count": 15,
   "metadata": {},
   "outputs": [
    {
     "data": {
      "image/png": "[encoded data removed]",
      "text/plain": [
       "<Figure size 432x288 with 1 Axes>"
      ]
     },
     "metadata": {
      "needs_background": "light"
     },
     "output_type": "display_data"
    }
   ],
   "source": [
    "# 横軸 : alpha, 縦軸 : Ridge coefficient\n",
    "ax = plt.gca()\n",
    "ax.plot(alphas, coefs)\n",
    "ax.set_xscale(\"log\")\n",
    "plt.xlabel(\"alpha\")\n",
    "plt.ylabel(\"weights\")\n",
    "plt.title(\"Ridge coefficients as a function of the regularization\")\n",
    "plt.axis(\"tight\")\n",
    "plt.show()"
   ]
  },
  {
   "cell_type": "markdown",
   "metadata": {},
   "source": [
    "**演習** 正則化にはRidge回帰モデル以外にも、Lasso回帰モデルが知られています。Lasso回帰モデルは罰則に\n",
    "$$||w||=|w_0|+|w_1|+\\cdots+|w_d|$$\n",
    "を用いる回帰モデルです。\n",
    "1. model A：$f(x) = 1 + 2x$, model B：$g(x) = 3x$でLasso回帰では受ける罰則の大きさは同じであることを説明してください。\n",
    "2. Lasso回帰はRidge回帰と同様、`sklearn.linear_model`モジュールの`Lasso`クラスとして実装されています。Ridge回帰の場合のスクリプトを書き換えて、線形回帰モデルにおける多重共線性の例の場合にLasso回帰を実装してみてください。\n",
    "3. Lasso正則化ハイパーパラメータの変化に応じてLasso回帰係数がどのように変化するかをプロットし、Ridge回帰と比較してLasso回帰がどのような特徴を持つか述べてください。"
   ]
  },
  {
   "cell_type": "markdown",
   "metadata": {},
   "source": [
    "**解答**\n",
    "\n",
    "* 1の解答：model Aもmodel Bも$||w||=3$なので罰則は等しい。"
   ]
  },
  {
   "cell_type": "code",
   "execution_count": 16,
   "metadata": {},
   "outputs": [
    {
     "data": {
      "text/plain": [
       "(1.1107137079209861, array([0., 0.]))"
      ]
     },
     "execution_count": 16,
     "metadata": {},
     "output_type": "execute_result"
    }
   ],
   "source": [
    "# 2の解答, 上と同じデータを用いる。\n",
    "# Lassoのインスタンスを建てて、学習させる。\n",
    "LASSO = Lasso(alpha = 1.0)    # インスタンスを建てる。\n",
    "LASSO.fit(X_train, y_train)    # fitメソッド：学習させる。\n",
    "LASSO.intercept_, LASSO.coef_"
   ]
  },
  {
   "cell_type": "markdown",
   "metadata": {},
   "source": [
    "* 3の解答：Lasso回帰はRidge回帰に比べ、回帰係数を厳密に0にする性質があります。これを**スパース性**といいます。"
   ]
  },
  {
   "cell_type": "code",
   "execution_count": 17,
   "metadata": {},
   "outputs": [],
   "source": [
    "alphas = np.logspace(-10, 10, 500)\n",
    "coefs = []\n",
    "for alpha in alphas:\n",
    "    LASSO = Lasso(alpha = alpha)\n",
    "    LASSO.fit(X_train, y_train)\n",
    "    coefs.append(LASSO.coef_)"
   ]
  },
  {
   "cell_type": "code",
   "execution_count": 18,
   "metadata": {},
   "outputs": [
    {
     "data": {
      "image/png": "[encoded data removed]",
      "text/plain": [
       "<Figure size 432x288 with 1 Axes>"
      ]
     },
     "metadata": {
      "needs_background": "light"
     },
     "output_type": "display_data"
    }
   ],
   "source": [
    "# 横軸 : alpha, 縦軸 : Ridge coefficient\n",
    "ax = plt.gca()\n",
    "ax.plot(alphas, coefs)\n",
    "ax.set_xscale(\"log\")\n",
    "plt.xlabel(\"alpha\")\n",
    "plt.ylabel(\"weights\")\n",
    "plt.title(\"Lasso coefficients as a function of the regularization\")\n",
    "plt.axis(\"tight\")\n",
    "plt.show()"
   ]
  },
  {
   "cell_type": "markdown",
   "metadata": {},
   "source": [
    "#### B3. 正則化における留意点\n",
    "正則化を用いる場合、**入力を標準化して用いた方が良いかもしれない**ということは念頭においておくと良いでしょう。\n",
    "\n",
    "Ridge回帰やLasso回帰のように正則化項がパラメータの重みの大きさによって定義されている場合、例えば変数を100倍でレコードしなおすとパラメータは0.01倍になることが期待されるので、それだけ正則化の影響を受けなくなるといった現象が起こります。このような理由から、なんらかの方法で入力変数を標準化してから正則化を行うことが一般的です。"
   ]
  }
 ],
 "metadata": {
  "kernelspec": {
   "display_name": "Python 3",
   "language": "python",
   "name": "python3"
  },
  "language_info": {
   "codemirror_mode": {
    "name": "ipython",
    "version": 3
   },
   "file_extension": ".py",
   "mimetype": "text/x-python",
   "name": "python",
   "nbconvert_exporter": "python",
   "pygments_lexer": "ipython3",
   "version": "3.7.3"
  }
 },
 "nbformat": 4,
 "nbformat_minor": 2
}
