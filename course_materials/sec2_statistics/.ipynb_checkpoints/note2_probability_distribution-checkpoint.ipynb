{
 "cells": [
  {
   "cell_type": "markdown",
   "metadata": {},
   "source": [
    "# 2　確率と確率分布"
   ]
  },
  {
   "cell_type": "markdown",
   "metadata": {},
   "source": [
    "さて、これまでデータを数値で要約したりや可視化することで、データの傾向を掴み、自分の持っているデータに関して何らかの知見を得ようとしてきました。このような作業を**記述統計学**(descriptive statistics)といいます。\n",
    "\n",
    "これに対して、手持ちのデータからさらに大きな対象、**母集団(universe, population)**を推測することを目的とした統計学を**推測統計学**(inferential statistics)といいます。\n",
    "\n",
    "この推測統計学において、重要な役割を果たしているのが、**確率分布**(probability distribution)という概念です。直言すれば、統計学の目的は、**自分の持つデータがどのような確率分布から発生しているか**(=データ生成分布としての母集団分布)を知ることにあります。これは大変大きなテーマですが、この講義を通じて理解して欲しいことの第一です。"
   ]
  },
  {
   "cell_type": "markdown",
   "metadata": {},
   "source": [
    "##　2.1　確率変数と確率分布\n",
    "\n",
    "ここでは、統計学で最も重要な概念といっても過言ではない**確率分布**(probability distibution)について説明します。\n",
    "\n",
    "さいころを２つ振り、その和をデータとしてとる。和がどのような分布をするか考えてみたい。いま十分な回数の試行を重ねた後に以下のような表が得られたとします。\n",
    "\n",
    "\n",
    "|和 | 2 | 3 | 4 | 5 | 6 | 7 | 8 | 9 | 10 | 11 | 12 |\n",
    "|:-:|:-:|:-:|:-:|:-:|:-:|:-:|:-:|:-:|:-:|:-:|:-:|\n",
    "|確率 | 1/36 | 2/36 | 3/36 | 4/36 | 5/36 | 6/36 | 5/36 | 4/36 | 3/36 | 2/36 | 1/36 | \n"
   ]
  },
  {
   "cell_type": "markdown",
   "metadata": {},
   "source": [
    "このとき、サイコロの目の和は何らかの法則にしたがって、確率的に2から12までの値をとる。このようなときサイコロの目の和を**確率変数**(random variable)とよびます。また、表下段のように、全ての確率変数について、その確率の分布を示したものを**確率分布**(probability distribution)とよびます。これは以下のような線グラフを用いても表現できます。"
   ]
  },
  {
   "cell_type": "markdown",
   "metadata": {},
   "source": [
    "<center><img src=\"./imgs/categorcal.png\" width=400px></center>"
   ]
  },
  {
   "cell_type": "markdown",
   "metadata": {},
   "source": [
    "ここには数学でいう**関数**としての対応があることがわかります。すなわち、確率変数を入力として、確率を出力してくれるようなある関数$P$が存在して、\n",
    "\n",
    "$$X \\xrightarrow[]{P} P(X)$$\n",
    "\n",
    "このとき、この関数$P$を**確率関数**(probability function)といいます。\n",
    "\n",
    "ある確率変数$X$の確率分布が$P(X=x)$であることを、$X$は$P(X=x)$に従うといい、\n",
    "\n",
    "$$X \\sim P(X=x)$$\n",
    "\n",
    "とも表します。"
   ]
  },
  {
   "cell_type": "markdown",
   "metadata": {},
   "source": [
    "[問題]　全部で5本のくじがあり、当たりくじが3本入っている。このくじから同時に2本引くとき、その中に含まれる当たりくじの本数の確率分布を求めよ。\n"
   ]
  },
  {
   "cell_type": "markdown",
   "metadata": {},
   "source": [
    "[回答]　当たりくじの本数を$X$とする。$X$は$0,1,2$のどれかをとる。\n",
    "\n",
    "$$P(X=0) = 1/{}_5C_2 = 1/10$$\n",
    "\n",
    "$$P(X=1) = {}_3C_1 \\times  {}_2C_1/{}_5C_2 = 6/10$$\n",
    "\n",
    "$$P(X=2) = {}_3C_2/{}_5C_2 = 3/10$$\n"
   ]
  },
  {
   "cell_type": "markdown",
   "metadata": {},
   "source": [
    "## 2.2　確率(質量)関数と確率密度関数\n",
    "\n",
    "さて、先の例ではサイコロの目の和を確率変数の説明として用いたが、これは**離散型**(descrete type)の確率変数とよばれます。連続型についても同じように確率分布を考えることができるだろうか。ここには少し困難がある。例えば、**連続型**(continuous type)の確率変数として、成人男性の身長を考えてみよう。これが正規分布にしたがっていると仮定して話を進めます(正規分布については、後に詳しく説明します)。\n",
    "\n",
    "連続型確率変数$X$の場合、$X$はある範囲でどの値でも際限なく細かく取りうるため、先のサイコロの目の和のように確率分布を線グラフで表現することは難しい。したがって、下の図のようにその上端を滑らかに結んだ線をこの場合の確率分布と見るのが良いでしょう。"
   ]
  },
  {
   "cell_type": "markdown",
   "metadata": {},
   "source": [
    "<center><img src=\"./imgs/normal.dis.png\" width=400px></center>"
   ]
  },
  {
   "cell_type": "markdown",
   "metadata": {},
   "source": [
    "しかしながら、この場合の$y$軸にあたる$f(X =x)$が示す値は確率ではありません。"
   ]
  },
  {
   "cell_type": "markdown",
   "metadata": {},
   "source": [
    "[問題]　なぜ、上記のグラフの縦軸は確率ではないのでしょうか。"
   ]
  },
  {
   "cell_type": "markdown",
   "metadata": {},
   "source": [
    "[回答]　例えば、[169, 170]という狭い区間を考えたとしても、連続型確率変数の場合は無限に細かく値を取りうるため、その場合の$f(X = x)$も無限個存在します。図から明らかに、ある程度の長さを持つ線分が無限個存在し、その総和は無限大へと発散する。しかし確率の総和は1です。したがって縦軸は確率ではあり得ません。\n"
   ]
  },
  {
   "cell_type": "markdown",
   "metadata": {},
   "source": [
    "連続型の場合はこの縦軸の値を**確率密度**(probability density)とよび、確率とは区別します。また、この場合の関数$f$のことを、**確率密度関数**(probability density function)とよびます。この場合、**確率は確率密度関数のある区間の面積**により定義される。ちなみに離散型の場合をこれと比して**確率質量関数**(probability mass function)とよぶこともあります。\n",
    "\n",
    "以下の関数を**累積分布関数**(cumulative distribution function)といい、$F(X=x)$と表すことにします。\n",
    "\n",
    "$$F(X=x) = \\int_{-\\infty}^{x} f(x) dx$$\n",
    "\n",
    "これはグラフの左端から、$X=x$までの面積を表しているので、$X=x$以下の確率を示している関数であるといえます。"
   ]
  },
  {
   "cell_type": "markdown",
   "metadata": {},
   "source": [
    "[問題]　以下の関数のどちらが確率密度関数といえるでしょうか。\n",
    "\n",
    "$$f(X=x) = x \\hspace{10pt}(0\\le x\\le 1) , \\hspace{10pt} 0 \\hspace{10pt}(otherwise)$$\n",
    "\n",
    "$$f(X=x) = 2x \\hspace{10pt}(0\\le x\\le 1) , \\hspace{10pt} 0 \\hspace{10pt}(otherwise)$$"
   ]
  },
  {
   "cell_type": "markdown",
   "metadata": {},
   "source": [
    "[回答]　後者です。全面積が1になっているのは後者だからです。"
   ]
  },
  {
   "cell_type": "markdown",
   "metadata": {},
   "source": [
    "## 2.3　平均値と分散\n",
    "\n",
    "ある確率分布$X$が確率分布$P$(離散型)および, $f$(連続型)にしたがっているとき、その期待値$E(X)$と分散$V(X)$は以下のような式で与えられます。ここでも、離散型と連続型で定義が異なります。"
   ]
  },
  {
   "cell_type": "markdown",
   "metadata": {},
   "source": [
    "[離散型]\n",
    "\n",
    "$E(X) = \\sum x_i \\cdot P(X=x_i)$\n",
    "\n",
    "$V(X) = \\sum (x_i - E(X))^2 \\cdot P(X=x_i)$"
   ]
  },
  {
   "cell_type": "markdown",
   "metadata": {},
   "source": [
    "[連続型]\n",
    "\n",
    "$E(X) = \\int_{-\\infty}^{\\infty} x \\cdot f(x) dx$\n",
    "\n",
    "$V(X) = \\int_{-\\infty}^{\\infty} (x - E(X))^2 \\cdot f(x) dx$"
   ]
  },
  {
   "cell_type": "markdown",
   "metadata": {},
   "source": [
    "また、より一般的に以下が成り立ちます。\n",
    "\n",
    "離散型 : $E(g(X)) = \\sum g(x_i) \\cdot P(X=x_i)$\n",
    "\n",
    "連続型 : $E(g(X)) = \\int_{-\\infty}^{\\infty} g(x) \\cdot f(x) dx$"
   ]
  },
  {
   "cell_type": "markdown",
   "metadata": {},
   "source": [
    "\n",
    "離散型の場合も連続型の場合も、分散と期待値の間に、\n",
    "\n",
    "$$V(X) = E(X^2) - E(X)^2$$\n",
    "\n",
    "の等式が成立し、これを使った方が分散の計算が楽な場合が多い。"
   ]
  },
  {
   "cell_type": "markdown",
   "metadata": {},
   "source": [
    "[問題]　ある離散型確率変数$X$の確率分布が以下のように与えられたときの期待値と分散を求めなさい。\n",
    "\n",
    "|X|0|1|2|\n",
    "|:-----------:|:------------:|:------------:|:------------:|\n",
    "|P(X=x)|1/10 |6/10 |3/10|\n"
   ]
  },
  {
   "cell_type": "markdown",
   "metadata": {},
   "source": [
    "[回答]\n",
    "\n",
    "$$E(X) = 0 \\cdot \\frac{1}{10} + 1\\cdot \\frac{6}{10} + 2 \\cdot \\frac{3}{10} = \\frac{6}{5}$$\n",
    "\n",
    "$$E(X^2) =  0^2 \\cdot \\frac{1}{10} + 1^2\\cdot \\frac{6}{10} + 2^2 \\cdot \\frac{3}{10} = \\frac{9}{5}$$\n",
    "\n",
    "$$V(X) = E(X^2) - E(X)^2 =  \\frac{9}{5} - \\left(\\frac{6}{5}\\right)^2 = \\frac{9}{25}$$\n",
    "\n"
   ]
  },
  {
   "cell_type": "markdown",
   "metadata": {},
   "source": [
    "[問題] 　以下の確率密度関数$f$に従う、確率変数$X$の期待値と分散を求めてください。\n",
    "\n",
    "$$f(X=x) = 2x \\hspace{10pt}(0\\le x\\le 1) , \\hspace{10pt} 0 \\hspace{10pt}(otherwise)$$"
   ]
  },
  {
   "cell_type": "markdown",
   "metadata": {},
   "source": [
    "[回答]\n",
    "\n",
    "$$E(X) = \\int_{0}^{1} x \\cdot 2x dx = \\left[\\frac{2}{3} x^3 \\right]_{0}^{1} = \\frac{2}{3}$$\n",
    "\n",
    "$$E(X^2) = \\int_{0}^{1} x^2 \\cdot 2x dx = \\left[\\frac{2}{4} x^4 \\right]_{0}^{1} = \\frac{1}{2}$$\n",
    "\n",
    "$$V(X) = E(X^2)- E(X)^2 = \\frac{1}{2} - \\left(\\frac{2}{3}\\right)^2 = \\frac{1}{18}$$\n"
   ]
  },
  {
   "cell_type": "markdown",
   "metadata": {},
   "source": [
    "## 2.4　いくつかの確率分布\n",
    "これまで、一般的な確率分布について考えてきたが、ここからは具体的に個々の有名な確率分布について見ていくことにする。あまりに網羅的に紹介しすぎると、これだけで講義が終わってしまうので、すぐに使うものだけに絞って解説をする。学習を進めるうちに別の確率分布が必要になってくることもあるが、それはその都度用意します。\n",
    "\n",
    "[離散型]\n",
    "\n",
    "1. 二項分布\n",
    "2. ポアソン分布\n",
    "\n",
    "[連続型]\n",
    "1. 正規分布\n",
    "\n"
   ]
  },
  {
   "cell_type": "markdown",
   "metadata": {},
   "source": [
    "### 2.4.1　二項分布\n",
    "\n",
    "**二項分布**(binomial distribution)はベルヌーイ試行を複数回($n$回)繰り返したときに、当該事象(起きる確率は$p$)が起きる回数を確率変数$X$としたときの確率分布です。その確率質量関数は以下のようになります。\n",
    "\n",
    "$$P(X = x) = {}_n C_x p^x (1-p)^{n-x}$$\n",
    "\n",
    "またこのとき、以下のように表現し、\n",
    "\n",
    "$$X \\sim B(n, p) $$\n",
    "\n",
    "このとき確率変数$X$は二項分布に従うといいます。このような表現が許されるのは、二項分布は$n,p$によって決定されるからです。このように分布を1つに決定する為に必要な値を、その分布のもつ**パラメータ**(parameter)とよびます。各分布がどのようなパラメータによって決定せられているかを覚えておくことは重要です。\n",
    "\n",
    "\n"
   ]
  },
  {
   "cell_type": "markdown",
   "metadata": {},
   "source": [
    "また、証明は省略しますが、二項分布の期待値と分散は以下で決定されます。(※余裕があれば証明してみてください。ただし、この計算を毎回すると大変なので有名な分布の期待値と分散は覚えておく、もしくは参照できるようにしておくことをお勧めします。)\n",
    "\n",
    "$$E(X) = np,\\hspace{10pt} V(X) = np(1-p)$$"
   ]
  },
  {
   "cell_type": "markdown",
   "metadata": {},
   "source": [
    "Pythonでは、二項分布に従うような乱数を発生させることができるので、それを用いて分布を図示してみよう。"
   ]
  },
  {
   "cell_type": "code",
   "execution_count": 1,
   "metadata": {},
   "outputs": [
    {
     "name": "stdout",
     "output_type": "stream",
     "text": [
      "平均値 29.9802\n",
      "分散 20.97780796\n"
     ]
    },
    {
     "data": {
      "image/png": "[encoded data removed]",
      "text/plain": [
       "<Figure size 432x288 with 1 Axes>"
      ]
     },
     "metadata": {
      "needs_background": "light"
     },
     "output_type": "display_data"
    }
   ],
   "source": [
    "import matplotlib.pyplot as plt \n",
    "import seaborn as sns\n",
    "import numpy.random as npr\n",
    "import numpy as np\n",
    "\n",
    "r_binom = npr.binomial(n=100, p=0.3, size=10000)\n",
    "x, count = np.unique(r_binom, return_counts = True) \n",
    "plt.bar(x, count)\n",
    "print('平均値', np.mean(r_binom))\n",
    "print('分散', np.var(r_binom, ddof=0)) #理論値と合致している？"
   ]
  },
  {
   "cell_type": "markdown",
   "metadata": {},
   "source": [
    "### 2.4.2　ポアソン分布\n",
    "**ポアソン分布**(poisson distribution)は、起こりにくい事象のある期間における発生回数の分布であるといわれます。この分布は二項分布の$n$を大きくし、$p$を小さくしていったときの極限として与えられます。この分布の確率関数は以下です。\n",
    "\n",
    "$$P(X=k) = \\frac{\\lambda^k \\cdot e^{-\\lambda}}{k!}$$\n",
    "\n",
    "これを\n",
    "\n",
    "$$X \\sim Po(\\lambda)$$\n",
    "\n",
    "と表します。すなわちポアソン分布のパラメータは$\\lambda$のみです。これは、ある期間における事象の平均生起回数になります。\n",
    "\n",
    "期待値と分散は、\n",
    "\n",
    "$$E(X) = \\lambda \\hspace{10pt} V(X)= \\lambda$$\n",
    "\n",
    "です。ポアソン分布の特徴として、期待値と分散が一致することが挙げられます。（これは過分散といわれる統計モデリングの重要な考察対象に関連していますが、ここでは深く取り上げないことにします。）"
   ]
  },
  {
   "cell_type": "code",
   "execution_count": 2,
   "metadata": {},
   "outputs": [
    {
     "name": "stdout",
     "output_type": "stream",
     "text": [
      "平均値 4.971\n",
      "分散 4.672159\n"
     ]
    },
    {
     "data": {
      "image/png": "[encoded data removed]",
      "text/plain": [
       "<Figure size 432x288 with 1 Axes>"
      ]
     },
     "metadata": {
      "needs_background": "light"
     },
     "output_type": "display_data"
    }
   ],
   "source": [
    "r_pois = npr.poisson(size= 1000, lam=5)\n",
    "x, count = np.unique(r_pois, return_counts = True) \n",
    "plt.bar(x, count)\n",
    "print('平均値', np.mean(r_pois))\n",
    "print('分散', np.var(r_pois, ddof=0)) #理論値と合致している？"
   ]
  },
  {
   "cell_type": "markdown",
   "metadata": {},
   "source": [
    "### 2.4.3　正規分布\n",
    "\n",
    "**正規分布**(normal distribution)は現実のあらゆる場面で登場し、また理論的にも非常に重要な連続型確率分布です。その密度関数は以下の式で与えられます。\n",
    "\n",
    "$$f(X =x) = \\frac{1}{\\sqrt{2 \\pi \\sigma^2}} \\exp \\left(\\frac{-(x - \\mu)^2}{2\\sigma^2}\\right)$$\n",
    "\n",
    "これは、\n",
    "\n",
    "$$X \\sim N(\\mu, \\sigma^2)$$\n",
    "\n",
    "とも表せます。パラメータ$\\mu$ は平均値、$\\sigma^2$は分散を示しています。\n",
    "\n",
    "Pythonを使って描画しておくと、"
   ]
  },
  {
   "cell_type": "code",
   "execution_count": 3,
   "metadata": {},
   "outputs": [
    {
     "data": {
      "image/png": "[encoded data removed]",
      "text/plain": [
       "<Figure size 432x288 with 1 Axes>"
      ]
     },
     "metadata": {
      "needs_background": "light"
     },
     "output_type": "display_data"
    }
   ],
   "source": [
    "from scipy import stats\n",
    "# 代入するxを用意(少し難しいかも)\n",
    "nx = np.arange(start=1, stop=100.1, step=0.1)\n",
    "#確率密度の計算\n",
    "norm_d = stats.norm.pdf(x = nx, loc=50, scale=20) #loc平均 scale標準偏差\n",
    "#分布の描画\n",
    "plt.plot(nx, norm_d, color='orange')\n",
    "plt.show()"
   ]
  },
  {
   "cell_type": "code",
   "execution_count": 4,
   "metadata": {},
   "outputs": [
    {
     "data": {
      "text/plain": [
       "50.500000000000036"
      ]
     },
     "execution_count": 4,
     "metadata": {},
     "output_type": "execute_result"
    }
   ],
   "source": [
    "nx.mean()"
   ]
  },
  {
   "cell_type": "code",
   "execution_count": 5,
   "metadata": {},
   "outputs": [
    {
     "data": {
      "text/plain": [
       "28.60769127350198"
      ]
     },
     "execution_count": 5,
     "metadata": {},
     "output_type": "execute_result"
    }
   ],
   "source": [
    "nx.std()"
   ]
  },
  {
   "cell_type": "markdown",
   "metadata": {},
   "source": [
    "このように正規分布は、分布の中央に平均値をもち(=中央値, 最頻値)、そこから左右対称なベル型分布の代表例です。この正規分布の面積については、以下のことを記憶しておくと良いでしょう。"
   ]
  },
  {
   "cell_type": "markdown",
   "metadata": {},
   "source": [
    "<center><img src=\"./imgs/normal.dis2.png\" width=350px></center>"
   ]
  },
  {
   "cell_type": "markdown",
   "metadata": {},
   "source": [
    "### 2.4.4　標準正規分布\n",
    "正規分布のうち、平均が$0$、分散が$1$の正規分布を**標準正規分布**(standard normal distribution)とよび、$N(0,1)$で表します。正規分布は、どんな正規分布であっても、平均値から$a$標準偏差離れた区間の面積が同じであるという性質から、1$\\sigma$範囲のようなキリのいい区間でなくても、この分布を使って計算できます。その際には、変数の**標準化**(standardization)を利用します。\n",
    "\n",
    "標準化は以下の式で行います。\n",
    "\n",
    "$$z_i = \\frac{x_i - \\mu}{\\sigma}$$\n",
    "\n",
    "左辺の$z_i$を**標準化得点、z値**という。これは、各データ$x_i$が標準偏差いくつ分平均$\\mu$から離れているかを示しています。\n",
    "\n",
    "昔は、この分布の面積を記した、標準正規分布表を使ったが、現在ではコンピュータを用いて簡単に計算することができます。問題演習を通じて、この理屈を学ぼう。\n",
    "\n",
    "(※少しわき道にそれるが、$t_i = 10z_i + 50$を**偏差値**という。一応紹介。)"
   ]
  },
  {
   "cell_type": "markdown",
   "metadata": {},
   "source": [
    "[問題]　\n",
    "あるテストの点数$X$は正規分布$N(50, 100)$に従い、Aくんの点数は75点だった。Aくんは受験生が10000人だったとして、上位何番目くらいにいるか。"
   ]
  },
  {
   "cell_type": "markdown",
   "metadata": {},
   "source": [
    "[回答]　Aくんの$z$値は$z_A = \\frac{75 - 50}{10} = 2.5$"
   ]
  },
  {
   "cell_type": "code",
   "execution_count": 6,
   "metadata": {},
   "outputs": [
    {
     "name": "stdout",
     "output_type": "stream",
     "text": [
      "上位 62.09665325776159 番目くらい\n"
     ]
    }
   ],
   "source": [
    "#累積分布関数cdfを用いた計算。2つが一致する。\n",
    "prb_normA = 1- stats.norm.cdf(loc=0, scale=1, x=2.5)\n",
    "prb_A = 1- stats.norm.cdf(loc=50, scale=10, x=75)\n",
    "\n",
    "print('上位', 10000 * prb_normA, '番目くらい')"
   ]
  },
  {
   "cell_type": "code",
   "execution_count": 7,
   "metadata": {},
   "outputs": [
    {
     "name": "stdout",
     "output_type": "stream",
     "text": [
      "0.006209665325776159 0.006209665325776159\n"
     ]
    }
   ],
   "source": [
    "print(prb_A, prb_normA)"
   ]
  },
  {
   "cell_type": "markdown",
   "metadata": {},
   "source": [
    "## 2.5　標本分布\n",
    "\n",
    "### 2.5.1　推定量は確率変数\n",
    "\n",
    "ある母集団のもつなんらかの数値、例えば母平均$\\mu$や母分散$\\sigma^2$を**母数**(parameter)という。これを一般に$\\theta$という記号であらわす。これは、母集団すべてを調べきったときにわかる数値だから、ある一つの確定値であると考えることができます。\n",
    "\n",
    "それに対して、標本を使って計算された何らかの統計量を考える。これは基本的には母数の推定(後述)のために用いられる量であるから、ある母数の**推定量**(estimator)とよぶ。これを記号$\\hat{\\theta}$であらわします。例えば、母平均に対しての推定量としては、標本平均が考えられる。\n",
    "\n",
    "母数が確定値であったのに対して、**推定量は確率変数**です。また、この推定量のもつ確率分布を**標本分布**(sample distribution)とよびます。"
   ]
  },
  {
   "cell_type": "markdown",
   "metadata": {},
   "source": [
    "[問題]　推定量が確率変数とはどういうことか？\n"
   ]
  },
  {
   "cell_type": "markdown",
   "metadata": {},
   "source": [
    "[解答]　現在自分の持っている標本は、**たまたま手に入った標本**であり、そのほかの標本を手にする可能性もあったと考えねばならない。そのような架空の標本セットを無数に考え、そのときの各セットの標本統計量を計算したものが、標本分布であると考えればいい。"
   ]
  },
  {
   "cell_type": "markdown",
   "metadata": {},
   "source": [
    "<center><img src=\"./imgs/sample_distribution.png\" width=350px></center>"
   ]
  },
  {
   "cell_type": "markdown",
   "metadata": {},
   "source": [
    "概念的にはこのように考えればいいのだが、この標本分布を得るには現実的な問題があります。上の図のように標本抽出を同一の母集団から何回もするということは可能だろうか。少し考えてみれば、このような方法は現実的でないということがわかるでしょう。\n",
    "\n",
    "では、どのようにして標本分布を得るのでしょうか。標本平均の場合は、**中心極限定理**(central limit theorem)とよばれる定理からわかります。"
   ]
  },
  {
   "cell_type": "markdown",
   "metadata": {},
   "source": [
    "### 2.5.2　中心極限定理\n",
    "\n",
    "統計学において、もっとも重要な定理であるといわれているのが、この**中心極限定理**(central limit theorem)です。\n",
    "\n",
    "**[中心極限定理(CLT)]**　確率変数$X$が平均$\\mu$, 分散$\\sigma^2$をもつとする。このとき、$X_1 + X_2 + \\cdots  + X_n$の確率分布は$N(n\\mu, n\\sigma^2)$となる。"
   ]
  },
  {
   "cell_type": "markdown",
   "metadata": {},
   "source": [
    "[問題]　中心極限定理からすぐに、$$\\bar{x} \\sim N\\left(\\mu, \\frac{\\sigma^2}{n}\\right)$$が導ける。これを証明せよ。中心極限定理の成立は仮定して良い。"
   ]
  },
  {
   "cell_type": "markdown",
   "metadata": {},
   "source": [
    "[解答]　中心極限定理から\n",
    "$$X_1 + X_2 + \\cdots  + X_n \\sim N(n\\mu, n\\sigma^2)$$\n",
    "なので\n",
    "$$\\bar{x} = \\frac{X_1 + X_2 + \\cdots  + X_n}{n} \\sim  N(\\frac{n\\mu}{n}, \\frac{n\\sigma^2}{n^2})$$"
   ]
  },
  {
   "cell_type": "markdown",
   "metadata": {},
   "source": [
    "また、中心極限定理で重要なことは、確率変数$X$が母平均と母分散を持っていさえすれば、$X$の確率分布がどんなものであったとしてもこの定理が成立し、その分布の形状が正規分布となるということです。"
   ]
  },
  {
   "cell_type": "markdown",
   "metadata": {},
   "source": [
    "この驚くべき定理が本当に成り立つのかは興味があるところだが、数学的に証明するのは中々に難しい。そこで`Python`を用いて本当に定理が成り立つかシミュレーションをしてみよう。"
   ]
  },
  {
   "cell_type": "code",
   "execution_count": 8,
   "metadata": {},
   "outputs": [
    {
     "data": {
      "image/png": "[encoded data removed]",
      "text/plain": [
       "<Figure size 360x360 with 1 Axes>"
      ]
     },
     "metadata": {
      "needs_background": "light"
     },
     "output_type": "display_data"
    }
   ],
   "source": [
    "import numpy as np\n",
    "import matplotlib.pyplot as plt\n",
    "import seaborn as sns\n",
    "import math\n",
    "\n",
    "N=10000 #サンプル数\n",
    "means = []\n",
    "\n",
    "for i in range(N):\n",
    "    x = np.random.uniform(low=-1, high=1, size = 10)\n",
    "    #x = np.random.exponential(scale=5, size=100)\n",
    "    means.append(np.mean(x))\n",
    "sns.displot(means, bins=20)\n",
    "plt.show()"
   ]
  },
  {
   "cell_type": "markdown",
   "metadata": {},
   "source": [
    "[問題]　上のスクリプトの設定を色々と変えて、それでも中心極限定理が成り立つか調べてみよう。\n"
   ]
  },
  {
   "cell_type": "markdown",
   "metadata": {},
   "source": [
    "[解答]\n",
    "* 'N': サンプル数\n",
    "* 'np.random.uniform':乱数を引いてくる確率分布\n",
    "* 'size' : サンプルサイズ\n",
    "\n",
    "あたりを変えてみましょう。"
   ]
  },
  {
   "cell_type": "markdown",
   "metadata": {},
   "source": [
    "以下は、中心極限定理が成立しない例です。乱数を引いてくる分布に**コーシー分布**(cauchy distribution)を用いているが、コーシー分布は$\\int_{- \\infty}^{\\infty} x f(x) dx$が可積分でないため、平均値が定義されません。これが中心極限定理が成り立たない理由になっています。"
   ]
  },
  {
   "cell_type": "code",
   "execution_count": 9,
   "metadata": {},
   "outputs": [
    {
     "data": {
      "image/png": "[encoded data removed]",
      "text/plain": [
       "<Figure size 360x360 with 1 Axes>"
      ]
     },
     "metadata": {
      "needs_background": "light"
     },
     "output_type": "display_data"
    }
   ],
   "source": [
    "import numpy as np\n",
    "import matplotlib.pyplot as plt\n",
    "import seaborn as sns\n",
    "import math\n",
    "\n",
    "N=100 #サンプル数\n",
    "means = []\n",
    "\n",
    "for i in range(N):\n",
    "    x = np.random.standard_cauchy(size=10)\n",
    "    means.append(np.mean(x))\n",
    "sns.displot(means, bins=20)\n",
    "plt.show()"
   ]
  },
  {
   "cell_type": "markdown",
   "metadata": {},
   "source": [
    "## 2.6　条件付き確率\n",
    "\n",
    "まず確認しておきたいのが、条件付き確率とそれに付随するいくつかの定理である。条件付き確率は以下のように定義されます。\n",
    "\n",
    "事象$A$が起きたという条件で、事象$B$が生起する確率を$P(B|A)$で表し、\n",
    "\n",
    "$$P(B|A) = \\frac{P(A \\cap B)}{P(A)}$$\n",
    "\n",
    "と定義されます。\n",
    "\n",
    "\n"
   ]
  },
  {
   "cell_type": "markdown",
   "metadata": {},
   "source": [
    "[問題]\n",
    "\n",
    "1. ある人には、2人の子供がいて、そのうちの1人は男であるとわかっている。もう一人が男である確率はいくつか。\n",
    "　<br>\n",
    " <br>\n",
    "2. ある人には、2人の子供がいて、そのうちの長子は男であるとわかっている。もう一人が男である確率はいくつか。\n",
    "\n",
    "ただし、男女の出生確率は$\\frac{1}{2}$であるとする。\n"
   ]
  },
  {
   "cell_type": "markdown",
   "metadata": {},
   "source": [
    "[回答]\n",
    "\n",
    "1. \n",
    "\n",
    "$$P(もう一人が男|どちらかは男) = \\frac{P(もう一人が男 \\cap どちらかが男)}{P(どちらかは男)} $$\n",
    "\n",
    "$$= \\frac{1/4}{3/4} = \\frac{1}{3}$$\n",
    "\n",
    "2. \n",
    "\n",
    "$$P(もう一人が男|長子は男) = \\frac{P(もう一人が男 \\cap 長子は男)}{P(長子は男)} $$\n",
    "\n",
    "$$= \\frac{1/4}{2/4} = \\frac{1}{2}$$"
   ]
  },
  {
   "cell_type": "markdown",
   "metadata": {},
   "source": [
    "## 2.7　ベイズの定理\n",
    "条件付き確率の定義式を少し変形して見ると、\n",
    "\\begin{eqnarray*}\n",
    "P(B|A) = \\frac{P(A \\cap B)}{P(A)} \\iff P(A)P(B|A) = P(A \\cap B)\n",
    "\\end{eqnarray*}\n",
    "\n",
    "このような式が成立することがわかる。この法則を**条件付き確率の積の法則という**"
   ]
  },
  {
   "cell_type": "markdown",
   "metadata": {},
   "source": [
    "[問題]　この式の意味を理解し、\n",
    "\n",
    "$$P(B)P(A|B) = P(A)P(B|A) = P(A \\cap B) $$\n",
    "\n",
    "が成り立つことを説明してください。"
   ]
  },
  {
   "cell_type": "markdown",
   "metadata": {},
   "source": [
    "[回答]\n",
    "\n",
    "$P(A\\cap B)$ : AとBが同時に起きる確率(同時確率)<br>\n",
    "$P(A)P(B|A)$:Aが起きる確率とAが起きたという前提でBが起きる確率の積<br>\n",
    "$P(B)P(A|B)$:Bが起きる確率とBが起きたという前提でAが起きる確率の積<br>\n",
    "\n",
    "結局どれも事象として同じ状況を指しています。"
   ]
  },
  {
   "cell_type": "markdown",
   "metadata": {},
   "source": [
    "さて、この積の法則を用いれば、条件付き確率は以下のようにさらに式変形できる。\n",
    "\n",
    "$$P(B|A) = \\frac{P(A \\cap B)}{P(A)} = \\frac{P(B)P(A|B)}{P(A)}$$\n",
    "\n",
    "この式を**ベイズの定理**(Bayes' theorem)とよびます。"
   ]
  },
  {
   "cell_type": "markdown",
   "metadata": {},
   "source": [
    "さらに今、$B$が$k$個の事象$B_1, B_2, \\cdots B_k$に分割できるような状況を考えよう。"
   ]
  },
  {
   "cell_type": "markdown",
   "metadata": {},
   "source": [
    "<center><img src=\"./imgs/bayes_thorem.png\" width=400px></center>"
   ]
  },
  {
   "cell_type": "markdown",
   "metadata": {},
   "source": [
    "このようなときに、条件付き確率$P(B_j|A) $を考えて見ると、\n",
    "\n",
    "$$P(B_j|A) = \\frac{P(B_j)P(A|B_j)}{P(A)} = \\frac{P(B_j)P(A|B_j)}{P(A\\cap B_1) + P(A\\cap B_2) + \\cdots + P(A\\cap B_k)}$$ \n",
    "\n",
    "$$= \\frac{P(B_j)P(A|B_j)}{\\sum_{i=1}^{k} P(B_i)P(A|B_i)}$$\n",
    "\n",
    "が成立します。これを**ベイズの展開公式**(Bayes' expansion formula)**といいます。この式はラプラスによって発見されました。"
   ]
  },
  {
   "cell_type": "markdown",
   "metadata": {},
   "source": [
    "[問題]　ある病気に感染する確率は、0.1%であり、その病気の検査の感度(=本当に病気の時に陽性判定)は99.9%、偽陽性率(=本当は病気でない時に陽性判定)は5%であるとします。ある人がこの検査で陽性の判定を得たときに、本当にその病気にかかっている確率はいくつでしょうか\n"
   ]
  },
  {
   "cell_type": "markdown",
   "metadata": {},
   "source": [
    "[回答]\n",
    "\n",
    "\\begin{eqnarray*}\n",
    "P(病気|陽性) &=& \\frac{P(病気)P(陽性|病気)}{P(陽性)} \\\\\n",
    "&=& \\frac{P(病気)P(陽性|病気)}{P(病気 \\cap 陽性) + P(病気でない \\cap 陽性)} \\\\\n",
    "&=&  \\frac{P(病気)P(陽性|病気)}{P(病気)P(陽性|病気) + P(病気でない)P(陽性|病気でない)}\\\\\n",
    "&=& \\frac{0.001 \\times 0.999}{0.001 \\times 0.999 + 0.999 \\times 0.05}\\\\ \n",
    "&=& 0.0196\n",
    "\\end{eqnarray*}\n"
   ]
  }
 ],
 "metadata": {
  "kernelspec": {
   "display_name": "Python 3",
   "language": "python",
   "name": "python3"
  },
  "language_info": {
   "codemirror_mode": {
    "name": "ipython",
    "version": 3
   },
   "file_extension": ".py",
   "mimetype": "text/x-python",
   "name": "python",
   "nbconvert_exporter": "python",
   "pygments_lexer": "ipython3",
   "version": "3.8.2"
  }
 },
 "nbformat": 4,
 "nbformat_minor": 4
}
