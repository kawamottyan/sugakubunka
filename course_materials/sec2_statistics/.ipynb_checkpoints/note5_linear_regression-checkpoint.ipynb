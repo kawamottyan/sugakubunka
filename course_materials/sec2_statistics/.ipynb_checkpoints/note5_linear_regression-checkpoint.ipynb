{
 "cells": [
  {
   "cell_type": "markdown",
   "metadata": {},
   "source": [
    "# 5. 線形回帰分析\n",
    "\n",
    "## 5.1 回帰分析の概要\n",
    "\n",
    "**線形回帰分析**(linear regression analysis)は、2つの量的変数の関係を線形関数で表現することを目的とした分析である。"
   ]
  },
  {
   "cell_type": "markdown",
   "metadata": {},
   "source": [
    "[問題]　ビールの売り上げと気温の関係はどちらを目的変数と考えるのが自然か。"
   ]
  },
  {
   "cell_type": "markdown",
   "metadata": {},
   "source": [
    "[回答]　ビールの売り上げ。"
   ]
  },
  {
   "cell_type": "markdown",
   "metadata": {},
   "source": [
    "2変数以上の説明変数を用いて、回帰分析を行う手法を**重回帰分析**(multi-regression analysis)という。原理上重回帰分析では、幾つでも説明変数の追加を行うことができるが、後に学ぶ過剰適合の問題、また**多重共線性**(multi colinearlity)の問題などのため、変数をどんどん追加すれば良いというものではない。"
   ]
  },
  {
   "cell_type": "markdown",
   "metadata": {},
   "source": [
    "まず以下に回帰分析の手順を説明する。\n",
    "\n",
    "0. 目的変数と説明変数についての仮説を持っておく\n",
    "1. 散布図を作成する、記述統計量を計算する\n",
    "2. 回帰式を求める(最小二乗法OLS)\n",
    "3. 決定係数で、点と線の当てはまりを確認する\n",
    "4. 回帰係数の検定、推定を行う\n",
    "5. 予測を行う(信頼区間, 予測区間)\n",
    "\n",
    "この手順にしたがって、回帰分析を行ってみよう。"
   ]
  },
  {
   "cell_type": "markdown",
   "metadata": {},
   "source": [
    "## 5.2　仮説を立てる\n",
    "\n",
    "まず、[手順0]として仮説を立てる。"
   ]
  },
  {
   "cell_type": "markdown",
   "metadata": {},
   "source": [
    "[問題]　下のデータを見ながら、目的変数を家賃として、どのようなモデルが考えられるか。"
   ]
  },
  {
   "cell_type": "markdown",
   "metadata": {},
   "source": [
    "[解答]　部屋の大きさは良い説明変数になっているかもしれない。"
   ]
  },
  {
   "cell_type": "markdown",
   "metadata": {},
   "source": [
    "実際の分析をする前に、このような仮説を考えておくことは極めて重要である。良い学習モデルを作成するには、良い変数を選択的に使用する必要がある。このような作業を機械学習の文脈では**特徴量抽出**(feature selection)と呼んだりする。ここでは変数選択が主な特徴量抽出の方法だが、より広範に問題に対してクリティカルなデータを用意することと捉えればいい。"
   ]
  },
  {
   "cell_type": "markdown",
   "metadata": {},
   "source": [
    "## 5.3　記述統計量と可視化\n",
    "\n",
    "続いて、[手順1] 様々な記述統計量をみてみることにしよう。"
   ]
  },
  {
   "cell_type": "code",
   "execution_count": 1,
   "metadata": {},
   "outputs": [
    {
     "data": {
      "text/html": [
       "<div>\n",
       "<style scoped>\n",
       "    .dataframe tbody tr th:only-of-type {\n",
       "        vertical-align: middle;\n",
       "    }\n",
       "\n",
       "    .dataframe tbody tr th {\n",
       "        vertical-align: top;\n",
       "    }\n",
       "\n",
       "    .dataframe thead th {\n",
       "        text-align: right;\n",
       "    }\n",
       "</style>\n",
       "<table border=\"1\" class=\"dataframe\">\n",
       "  <thead>\n",
       "    <tr style=\"text-align: right;\">\n",
       "      <th></th>\n",
       "      <th>distance</th>\n",
       "      <th>rent</th>\n",
       "      <th>floorPlan</th>\n",
       "      <th>space</th>\n",
       "      <th>direction</th>\n",
       "      <th>age</th>\n",
       "    </tr>\n",
       "  </thead>\n",
       "  <tbody>\n",
       "    <tr>\n",
       "      <th>0</th>\n",
       "      <td>B</td>\n",
       "      <td>68000</td>\n",
       "      <td>1K</td>\n",
       "      <td>19</td>\n",
       "      <td>西</td>\n",
       "      <td>12</td>\n",
       "    </tr>\n",
       "    <tr>\n",
       "      <th>1</th>\n",
       "      <td>B</td>\n",
       "      <td>68000</td>\n",
       "      <td>1K</td>\n",
       "      <td>19</td>\n",
       "      <td>南</td>\n",
       "      <td>12</td>\n",
       "    </tr>\n",
       "    <tr>\n",
       "      <th>2</th>\n",
       "      <td>B</td>\n",
       "      <td>69000</td>\n",
       "      <td>1K</td>\n",
       "      <td>19</td>\n",
       "      <td>北西</td>\n",
       "      <td>14</td>\n",
       "    </tr>\n",
       "    <tr>\n",
       "      <th>3</th>\n",
       "      <td>B</td>\n",
       "      <td>70000</td>\n",
       "      <td>1K</td>\n",
       "      <td>19</td>\n",
       "      <td>南</td>\n",
       "      <td>14</td>\n",
       "    </tr>\n",
       "    <tr>\n",
       "      <th>4</th>\n",
       "      <td>B</td>\n",
       "      <td>72000</td>\n",
       "      <td>1K</td>\n",
       "      <td>15</td>\n",
       "      <td>南</td>\n",
       "      <td>9</td>\n",
       "    </tr>\n",
       "  </tbody>\n",
       "</table>\n",
       "</div>"
      ],
      "text/plain": [
       "  distance   rent floorPlan  space direction  age\n",
       "0        B  68000        1K     19         西   12\n",
       "1        B  68000        1K     19         南   12\n",
       "2        B  69000        1K     19        北西   14\n",
       "3        B  70000        1K     19         南   14\n",
       "4        B  72000        1K     15         南    9"
      ]
     },
     "execution_count": 1,
     "metadata": {},
     "output_type": "execute_result"
    }
   ],
   "source": [
    "import numpy as np\n",
    "import pandas as pd\n",
    "\n",
    "m_d = pd.read_csv(\"./data/Mansion1.csv\") #高田馬場の1人暮らし用賃貸\n",
    "m_d.head(n = 5)"
   ]
  },
  {
   "cell_type": "code",
   "execution_count": 2,
   "metadata": {},
   "outputs": [
    {
     "data": {
      "text/plain": [
       "(140, 6)"
      ]
     },
     "execution_count": 2,
     "metadata": {},
     "output_type": "execute_result"
    }
   ],
   "source": [
    "m_d.shape #dimensionの確認"
   ]
  },
  {
   "cell_type": "code",
   "execution_count": 3,
   "metadata": {},
   "outputs": [
    {
     "data": {
      "text/html": [
       "<div>\n",
       "<style scoped>\n",
       "    .dataframe tbody tr th:only-of-type {\n",
       "        vertical-align: middle;\n",
       "    }\n",
       "\n",
       "    .dataframe tbody tr th {\n",
       "        vertical-align: top;\n",
       "    }\n",
       "\n",
       "    .dataframe thead th {\n",
       "        text-align: right;\n",
       "    }\n",
       "</style>\n",
       "<table border=\"1\" class=\"dataframe\">\n",
       "  <thead>\n",
       "    <tr style=\"text-align: right;\">\n",
       "      <th></th>\n",
       "      <th>rent</th>\n",
       "      <th>space</th>\n",
       "      <th>age</th>\n",
       "    </tr>\n",
       "  </thead>\n",
       "  <tbody>\n",
       "    <tr>\n",
       "      <th>count</th>\n",
       "      <td>140.000000</td>\n",
       "      <td>140.00000</td>\n",
       "      <td>140.000000</td>\n",
       "    </tr>\n",
       "    <tr>\n",
       "      <th>mean</th>\n",
       "      <td>101612.857143</td>\n",
       "      <td>26.90000</td>\n",
       "      <td>9.557143</td>\n",
       "    </tr>\n",
       "    <tr>\n",
       "      <th>std</th>\n",
       "      <td>19278.078066</td>\n",
       "      <td>7.81467</td>\n",
       "      <td>5.550645</td>\n",
       "    </tr>\n",
       "    <tr>\n",
       "      <th>min</th>\n",
       "      <td>68000.000000</td>\n",
       "      <td>15.00000</td>\n",
       "      <td>0.000000</td>\n",
       "    </tr>\n",
       "    <tr>\n",
       "      <th>25%</th>\n",
       "      <td>86750.000000</td>\n",
       "      <td>21.75000</td>\n",
       "      <td>6.000000</td>\n",
       "    </tr>\n",
       "    <tr>\n",
       "      <th>50%</th>\n",
       "      <td>98750.000000</td>\n",
       "      <td>25.00000</td>\n",
       "      <td>9.000000</td>\n",
       "    </tr>\n",
       "    <tr>\n",
       "      <th>75%</th>\n",
       "      <td>113250.000000</td>\n",
       "      <td>29.00000</td>\n",
       "      <td>13.000000</td>\n",
       "    </tr>\n",
       "    <tr>\n",
       "      <th>max</th>\n",
       "      <td>150000.000000</td>\n",
       "      <td>60.00000</td>\n",
       "      <td>28.000000</td>\n",
       "    </tr>\n",
       "  </tbody>\n",
       "</table>\n",
       "</div>"
      ],
      "text/plain": [
       "                rent      space         age\n",
       "count     140.000000  140.00000  140.000000\n",
       "mean   101612.857143   26.90000    9.557143\n",
       "std     19278.078066    7.81467    5.550645\n",
       "min     68000.000000   15.00000    0.000000\n",
       "25%     86750.000000   21.75000    6.000000\n",
       "50%     98750.000000   25.00000    9.000000\n",
       "75%    113250.000000   29.00000   13.000000\n",
       "max    150000.000000   60.00000   28.000000"
      ]
     },
     "execution_count": 3,
     "metadata": {},
     "output_type": "execute_result"
    }
   ],
   "source": [
    "m_d.describe() #量的変数の要約"
   ]
  },
  {
   "cell_type": "code",
   "execution_count": 4,
   "metadata": {},
   "outputs": [
    {
     "data": {
      "text/plain": [
       "B    71\n",
       "A    69\n",
       "Name: distance, dtype: int64"
      ]
     },
     "execution_count": 4,
     "metadata": {},
     "output_type": "execute_result"
    }
   ],
   "source": [
    "#近さのテーブル\n",
    "m_d['distance'].value_counts()"
   ]
  },
  {
   "cell_type": "code",
   "execution_count": 5,
   "metadata": {},
   "outputs": [
    {
     "data": {
      "text/plain": [
       "1K       105\n",
       "2DK        9\n",
       "1R         9\n",
       "1LDK       8\n",
       "1DK        6\n",
       "2LDK       1\n",
       "1SLDK      1\n",
       "2K         1\n",
       "Name: floorPlan, dtype: int64"
      ]
     },
     "execution_count": 5,
     "metadata": {},
     "output_type": "execute_result"
    }
   ],
   "source": [
    "#間取りのテーブル\n",
    "m_d['floorPlan'].value_counts()"
   ]
  },
  {
   "cell_type": "code",
   "execution_count": 6,
   "metadata": {},
   "outputs": [
    {
     "data": {
      "text/plain": [
       "南     37\n",
       "南東    33\n",
       "東     23\n",
       "西     21\n",
       "南西    14\n",
       "北西     6\n",
       "北東     5\n",
       "北      1\n",
       "Name: direction, dtype: int64"
      ]
     },
     "execution_count": 6,
     "metadata": {},
     "output_type": "execute_result"
    }
   ],
   "source": [
    "#方角のテーブル\n",
    "m_d['direction'].value_counts()"
   ]
  },
  {
   "cell_type": "code",
   "execution_count": 7,
   "metadata": {},
   "outputs": [
    {
     "data": {
      "image/png": "[encoded data removed]",
      "text/plain": [
       "<Figure size 540x540 with 12 Axes>"
      ]
     },
     "metadata": {
      "needs_background": "light"
     },
     "output_type": "display_data"
    }
   ],
   "source": [
    "import matplotlib.pyplot as plt\n",
    "import seaborn as sns\n",
    "\n",
    "sns.pairplot(m_d)\n",
    "plt.show()"
   ]
  },
  {
   "cell_type": "code",
   "execution_count": 8,
   "metadata": {},
   "outputs": [
    {
     "data": {
      "text/html": [
       "<div>\n",
       "<style scoped>\n",
       "    .dataframe tbody tr th:only-of-type {\n",
       "        vertical-align: middle;\n",
       "    }\n",
       "\n",
       "    .dataframe tbody tr th {\n",
       "        vertical-align: top;\n",
       "    }\n",
       "\n",
       "    .dataframe thead th {\n",
       "        text-align: right;\n",
       "    }\n",
       "</style>\n",
       "<table border=\"1\" class=\"dataframe\">\n",
       "  <thead>\n",
       "    <tr style=\"text-align: right;\">\n",
       "      <th></th>\n",
       "      <th>rent</th>\n",
       "      <th>space</th>\n",
       "      <th>age</th>\n",
       "    </tr>\n",
       "  </thead>\n",
       "  <tbody>\n",
       "    <tr>\n",
       "      <th>rent</th>\n",
       "      <td>1.000000</td>\n",
       "      <td>0.841193</td>\n",
       "      <td>0.245452</td>\n",
       "    </tr>\n",
       "    <tr>\n",
       "      <th>space</th>\n",
       "      <td>0.841193</td>\n",
       "      <td>1.000000</td>\n",
       "      <td>0.515945</td>\n",
       "    </tr>\n",
       "    <tr>\n",
       "      <th>age</th>\n",
       "      <td>0.245452</td>\n",
       "      <td>0.515945</td>\n",
       "      <td>1.000000</td>\n",
       "    </tr>\n",
       "  </tbody>\n",
       "</table>\n",
       "</div>"
      ],
      "text/plain": [
       "           rent     space       age\n",
       "rent   1.000000  0.841193  0.245452\n",
       "space  0.841193  1.000000  0.515945\n",
       "age    0.245452  0.515945  1.000000"
      ]
     },
     "execution_count": 8,
     "metadata": {},
     "output_type": "execute_result"
    }
   ],
   "source": [
    "#相関係数の計算\n",
    "m_d.corr()"
   ]
  },
  {
   "cell_type": "markdown",
   "metadata": {},
   "source": [
    "[問題]　上で色々な記述統計をみた。何か気づいたこと、今後の分析で注意しなければならない点をあげなさい。"
   ]
  },
  {
   "cell_type": "markdown",
   "metadata": {},
   "source": [
    "[回答]\n",
    "\n",
    "・`rent`に対して、`space`は良い説明変数になっていそう。\n",
    "\n",
    "・`space`と`age`は中程度の相関がある。多重共線性の問題は起こらないだろう。\n",
    "\n",
    "・`rent`と`age`の相関係数は正?\n",
    "\n",
    "・`floorPlan`や`direction`は質的変数だが、度数が非常に小さいクラスがいくつかある。合併を考えた方がいいか？\n",
    "\n",
    "などなど"
   ]
  },
  {
   "cell_type": "markdown",
   "metadata": {},
   "source": [
    "[問題]　`rent`(家賃)と`age`(築年数)が正の相関係数を持つ理由を考えてみよ。"
   ]
  },
  {
   "cell_type": "markdown",
   "metadata": {},
   "source": [
    "[回答]　以下を実行して想像してみる。"
   ]
  },
  {
   "cell_type": "code",
   "execution_count": 9,
   "metadata": {},
   "outputs": [
    {
     "data": {
      "text/html": [
       "<div>\n",
       "<style scoped>\n",
       "    .dataframe tbody tr th:only-of-type {\n",
       "        vertical-align: middle;\n",
       "    }\n",
       "\n",
       "    .dataframe tbody tr th {\n",
       "        vertical-align: top;\n",
       "    }\n",
       "\n",
       "    .dataframe thead th {\n",
       "        text-align: right;\n",
       "    }\n",
       "</style>\n",
       "<table border=\"1\" class=\"dataframe\">\n",
       "  <thead>\n",
       "    <tr style=\"text-align: right;\">\n",
       "      <th></th>\n",
       "      <th>rent</th>\n",
       "      <th>space</th>\n",
       "      <th>age</th>\n",
       "    </tr>\n",
       "    <tr>\n",
       "      <th>distance</th>\n",
       "      <th></th>\n",
       "      <th></th>\n",
       "      <th></th>\n",
       "    </tr>\n",
       "  </thead>\n",
       "  <tbody>\n",
       "    <tr>\n",
       "      <th>A</th>\n",
       "      <td>103079.710145</td>\n",
       "      <td>25.492754</td>\n",
       "      <td>9.072464</td>\n",
       "    </tr>\n",
       "    <tr>\n",
       "      <th>B</th>\n",
       "      <td>100187.323944</td>\n",
       "      <td>28.267606</td>\n",
       "      <td>10.028169</td>\n",
       "    </tr>\n",
       "  </tbody>\n",
       "</table>\n",
       "</div>"
      ],
      "text/plain": [
       "                   rent      space        age\n",
       "distance                                     \n",
       "A         103079.710145  25.492754   9.072464\n",
       "B         100187.323944  28.267606  10.028169"
      ]
     },
     "execution_count": 9,
     "metadata": {},
     "output_type": "execute_result"
    }
   ],
   "source": [
    "m_d.groupby('distance').mean()"
   ]
  },
  {
   "cell_type": "markdown",
   "metadata": {},
   "source": [
    "## 5.4　回帰式を算出する(最小二乗法) \n"
   ]
  },
  {
   "cell_type": "markdown",
   "metadata": {},
   "source": [
    "さて、記述統計量を一通りみたので、[手順2]回帰分析を行って回帰係数の推定をする。ここでは**最小二乗法**(least square method)を用いてみよう。最小二乗法とは、実測値$y$と回帰式から得られる予測値$\\hat{y}$の差$y-\\hat{y}$の二乗和すなわち、\n",
    "$$Se(\\mathbf{w}) = \\sum_{i=1}^n (y - \\hat{y})^2$$\n",
    "を最小化するような回帰係数(重回帰分析の場合は偏回帰係数)の組$\\mathbf{w}$、すなわち$\\mathbf{\\hat{w}} = {\\rm argmin} \\hspace{3pt}Se(\\mathbf{w})$を求める問題である。上の式を**残差平方和**(sum-square of residuals)という。"
   ]
  },
  {
   "cell_type": "markdown",
   "metadata": {},
   "source": [
    "ちなみに、これをデータサイズ$n$で除した式、すなわち\n",
    "$$\\frac{1}{n}\\sum_{i=1}^n (y - \\hat{y})^2$$\n",
    "のことを**MSE**(mean square error)。さらにこれの平方根をとった値\n",
    "$$\\sqrt{\\frac{1}{n}\\sum_{i=1}^n (y - \\hat{y})^2}$$\n",
    "を**RMSE**(root mean square error)という。"
   ]
  },
  {
   "cell_type": "markdown",
   "metadata": {},
   "source": [
    "最小二乗法は、まず残差平方和を回帰係数のベクトル$\\mathbf{w}$の関数として表したのちに、$\\mathbf{w}$の微分係数を0にするよう方程式を解けば良い。"
   ]
  },
  {
   "cell_type": "markdown",
   "metadata": {},
   "source": [
    "これを実行すると正規方程式から、**計画行列**(design matrix)$X$を用いて、\n",
    "\n",
    "$$\\mathbf{w} = (X^T X)^{-1}X^T \\mathbf{y}$$\n",
    "\n",
    "を得る。これが、最小二乗法を用いた時の解析解である。この式は**最小二乗法を発展させた様々な方法の基礎**となっているので理解しておきたい。"
   ]
  },
  {
   "cell_type": "markdown",
   "metadata": {},
   "source": [
    "[問題]　以下のデータを変数`Y`を目的変数、`X1`,`X2`を説明変数とした重回帰分析にかけたときの偏回帰係数の組を求めなさい。"
   ]
  },
  {
   "cell_type": "code",
   "execution_count": 10,
   "metadata": {},
   "outputs": [
    {
     "data": {
      "text/html": [
       "<div>\n",
       "<style scoped>\n",
       "    .dataframe tbody tr th:only-of-type {\n",
       "        vertical-align: middle;\n",
       "    }\n",
       "\n",
       "    .dataframe tbody tr th {\n",
       "        vertical-align: top;\n",
       "    }\n",
       "\n",
       "    .dataframe thead th {\n",
       "        text-align: right;\n",
       "    }\n",
       "</style>\n",
       "<table border=\"1\" class=\"dataframe\">\n",
       "  <thead>\n",
       "    <tr style=\"text-align: right;\">\n",
       "      <th></th>\n",
       "      <th>X1</th>\n",
       "      <th>X2</th>\n",
       "      <th>Y</th>\n",
       "    </tr>\n",
       "  </thead>\n",
       "  <tbody>\n",
       "    <tr>\n",
       "      <th>0</th>\n",
       "      <td>1</td>\n",
       "      <td>2</td>\n",
       "      <td>5</td>\n",
       "    </tr>\n",
       "    <tr>\n",
       "      <th>1</th>\n",
       "      <td>2</td>\n",
       "      <td>5</td>\n",
       "      <td>7</td>\n",
       "    </tr>\n",
       "    <tr>\n",
       "      <th>2</th>\n",
       "      <td>3</td>\n",
       "      <td>5</td>\n",
       "      <td>8</td>\n",
       "    </tr>\n",
       "    <tr>\n",
       "      <th>3</th>\n",
       "      <td>4</td>\n",
       "      <td>9</td>\n",
       "      <td>10</td>\n",
       "    </tr>\n",
       "  </tbody>\n",
       "</table>\n",
       "</div>"
      ],
      "text/plain": [
       "   X1  X2   Y\n",
       "0   1   2   5\n",
       "1   2   5   7\n",
       "2   3   5   8\n",
       "3   4   9  10"
      ]
     },
     "execution_count": 10,
     "metadata": {},
     "output_type": "execute_result"
    }
   ],
   "source": [
    "x1 = np.array([1,2,3,4])\n",
    "x2 = np.array([2,5,5,9])\n",
    "y = np.array([5,7, 8,10])\n",
    "\n",
    "sample_df = pd.DataFrame({\n",
    "    'X1':x1,\n",
    "    'X2':x2,\n",
    "    'Y':y\n",
    "})\n",
    "\n",
    "sample_df"
   ]
  },
  {
   "cell_type": "markdown",
   "metadata": {},
   "source": [
    "[回答]\n",
    "\n",
    "まず、回帰式を$\\hat{y} = w_o + w_1x_1 + w_2x_2$とする。これから残差平方和$L$を定式化すれば、\n"
   ]
  },
  {
   "cell_type": "markdown",
   "metadata": {},
   "source": [
    "$$L(\\mathbf{w}|\\mathbf{x},y) = [5 - (w_0 + 1w_1 + 2w_2)]^2 + \\cdots +  [10 -(w_0 + 4w_1 + 9w_2)]^2$$\n",
    "これを$w_o, w_1, w_2$で微分した式を考える。"
   ]
  },
  {
   "cell_type": "markdown",
   "metadata": {},
   "source": [
    "$$\\frac{\\partial L}{\\partial w_0} = 0 \\iff 2[5 - (w_0 + 1w_1 + 2w_2)]\\cdot(-1) + \\cdots + 2[10 -(w_0 + 4w_1 + 9w_2)] \\cdot(-1) = 0$$\n",
    "$$\\iff 4w_0 + (1 + \\cdots  + 4)w_1 + (2 + \\cdots + 9)w_2 = 5 + \\cdots +10$$"
   ]
  },
  {
   "cell_type": "markdown",
   "metadata": {},
   "source": [
    "$$\\frac{\\partial L}{\\partial w_1} = 0 \\iff 2[5 - (w_0 + 1w_1 + 2w_2)]\\cdot(-1) + \\cdots + 2[10 -(w_0 + 4w_1 + 9w_2)] \\cdot(-4) = 0$$\n",
    "$$\\iff (1 + \\cdots + 4)w_0 + (1^2 + \\cdots  + 4^2)w_1 + (1\\cdot2 + \\cdots + 4\\cdot9)w_2 = 1\\cdot5 + \\cdots +4\\cdot10$$"
   ]
  },
  {
   "cell_type": "markdown",
   "metadata": {},
   "source": [
    "$$\\frac{\\partial L}{\\partial w_2} = 0 \\iff 2[5 - (w_0 + 1w_1 + 2w_2)]\\cdot(-2) + \\cdots + 2[10 -(w_0 + 4w_1 + 9w_2)] \\cdot(-9) = 0$$\n",
    "$$\\iff (2 + \\cdots + 9)w_0 + (1\\cdot2  + \\cdots  + 4\\cdot9)w_1 + (2^2 + \\cdots + 9^2)w_2 = 2\\cdot5 + \\cdots +9\\cdot10$$\n",
    "\n",
    "となる。これらを再び行列の形式にまとめると、"
   ]
  },
  {
   "cell_type": "markdown",
   "metadata": {},
   "source": [
    "$$\\begin{bmatrix}4&1 + \\cdots  + 4&2 + \\cdots + 9\\\\ \n",
    "1 + \\cdots + 4&1^2 + \\cdots  + 4^2&1\\cdot2 + \\cdots + 4\\cdot9\\\\\n",
    "2 + \\cdots + 9&1\\cdot2  + \\cdots  + 4\\cdot9&2^2 + \\cdots + 9^2\\\\\\end{bmatrix} \\begin{bmatrix}w_0\\\\w_1\\\\w_2\\end{bmatrix} = \\begin{bmatrix}5 + \\cdots +10\\\\1\\cdot5 + \\cdots +4\\cdot10\\\\2\\cdot5 + \\cdots +9\\cdot10\\end{bmatrix}$$"
   ]
  },
  {
   "cell_type": "markdown",
   "metadata": {},
   "source": [
    "両辺に、左の行列の逆行列を乗じて、\n",
    "$$\\begin{bmatrix}w_0\\\\w_1\\\\w_2\\end{bmatrix} =\\begin{bmatrix}4&1 + \\cdots  + 4&2 + \\cdots + 9\\\\ \n",
    "1 + \\cdots + 4&1^2 + \\cdots  + 4^2&1\\cdot2 + \\cdots + 4\\cdot9\\\\\n",
    "2 + \\cdots + 9&1\\cdot2  + \\cdots  + 4\\cdot9&2^2 + \\cdots + 9^2\\\\\\end{bmatrix} ^{-1}\\begin{bmatrix}5 + \\cdots +10\\\\1\\cdot5 + \\cdots +4\\cdot10\\\\2\\cdot5 + \\cdots +9\\cdot10\\end{bmatrix} = \\left(\\begin{bmatrix}1&1&1&1\\\\1&2&3&4\\\\2&5&5&9\\end{bmatrix} \\begin{bmatrix}1&1&2\\\\1&2&5\\\\1&3&5\\\\1&4&9\\end{bmatrix}\\right)^{-1}\\begin{bmatrix}1&1&1&1\\\\1&2&3&4\\\\2&5&5&9\\end{bmatrix}\\begin{bmatrix}5\\\\7\\\\8\\\\10\\end{bmatrix}$$\n",
    "\n",
    "したがって、以下の計算をしてみる。"
   ]
  },
  {
   "cell_type": "code",
   "execution_count": 11,
   "metadata": {},
   "outputs": [
    {
     "name": "stdout",
     "output_type": "stream",
     "text": [
      "デザイン行列 [[1 1 2]\n",
      " [1 2 5]\n",
      " [1 3 5]\n",
      " [1 4 9]]\n",
      "目的変数 [[ 5]\n",
      " [ 7]\n",
      " [ 8]\n",
      " [10]]\n",
      "偏回帰係数 [[3.5       ]\n",
      " [1.05555556]\n",
      " [0.25925926]]\n"
     ]
    }
   ],
   "source": [
    "X = np.array([[1,1,2],[1,2,5],[1,3,5],[1,4,9]])\n",
    "y = np.array([5,7,8,10]).reshape(4,1)\n",
    "print('デザイン行列',X)\n",
    "print('目的変数',y)\n",
    "\n",
    "ans = np.linalg.inv(X.T@X)@X.T@y\n",
    "print('偏回帰係数', ans)"
   ]
  },
  {
   "cell_type": "markdown",
   "metadata": {},
   "source": [
    "`scikit-learn`でやってみるとこんな感じ。"
   ]
  },
  {
   "cell_type": "code",
   "execution_count": 12,
   "metadata": {},
   "outputs": [
    {
     "name": "stdout",
     "output_type": "stream",
     "text": [
      "[1.05555556 0.25925926]\n",
      "3.5000000000000004\n"
     ]
    }
   ],
   "source": [
    "from sklearn import linear_model as lm\n",
    "#インスタンス用意\n",
    "reg = lm.LinearRegression()\n",
    "result = reg.fit(sample_df[['X1', 'X2']], sample_df['Y'])\n",
    "\n",
    "#偏回帰係数\n",
    "print(result.coef_)\n",
    "#切片\n",
    "print(result.intercept_)"
   ]
  },
  {
   "cell_type": "markdown",
   "metadata": {},
   "source": [
    "※　最小二乗法の解析解である$\\mathbf{w} = (X^T X)^{-1}X^T\\mathbf{y}$についてもう少し理解を深めておこう。\n"
   ]
  },
  {
   "cell_type": "markdown",
   "metadata": {},
   "source": [
    "基本的に回帰分析を点を通る直線を求める問題であると解釈すれば、\n",
    "$$X\\mathbf{w} = \\mathbf{y}$$\n",
    "を$w$について解く問題であると考えられる。"
   ]
  },
  {
   "cell_type": "markdown",
   "metadata": {},
   "source": [
    "ここから、すぐに\n",
    "$$\\mathbf{w} = X^{-1}\\mathbf{y}$$"
   ]
  },
  {
   "cell_type": "markdown",
   "metadata": {},
   "source": [
    "と変形したいところだが、この方程式が解を持つのは、$X$が正方行列(データ数と説明変数+1の数が同じ)かつ逆行列を持つ場合のみである。そこで式の両辺に$X$の転置行列である$X^T$を乗ずる。すると式は\n",
    "\n"
   ]
  },
  {
   "cell_type": "markdown",
   "metadata": {},
   "source": [
    "$$X^TX \\mathbf{w} = X^T\\mathbf{y}$$"
   ]
  },
  {
   "cell_type": "markdown",
   "metadata": {},
   "source": [
    "ここで、$X^TX$は必ず正方行列となることに注意し、それが逆行列を持つならば、両辺にその逆行列$$(X^TX)^{-1}$$を乗じて、"
   ]
  },
  {
   "cell_type": "markdown",
   "metadata": {},
   "source": [
    "$$\\mathbf{w} = (X^TX)^{-1}X^T\\mathbf{y}$$"
   ]
  },
  {
   "cell_type": "markdown",
   "metadata": {},
   "source": [
    "を得る。このとき、$(X^TX)^{-1}X^T$の部分は$X^{-1}$という本来は正方行列の場合しか定義できないものの代替になっていると考えることができる。この$(X^TX)^{-1}X^T$のことを、**ムーア・ペンローズ型擬似逆行列**(Moore-Penrose's pseudo-inverse matrix)という。これが、最小二乗解という具体的な意味を持っているものと解釈できることは、自明ではない大変面白い性質であろう。"
   ]
  },
  {
   "cell_type": "markdown",
   "metadata": {},
   "source": [
    "さて、元のデータに戻って解説を続けよう。先ほどは、`scikit-learn`というライブラリを使用して回帰係数を求めたが`Python`では`statmodels`ライブラリにも線形回帰を扱う関数がある。どちらかというと、`statmodels`の方が詳しく出力をみることができる。以後は下の出力結果を用いながら話を進める。"
   ]
  },
  {
   "cell_type": "code",
   "execution_count": 13,
   "metadata": {},
   "outputs": [
    {
     "data": {
      "text/html": [
       "<table class=\"simpletable\">\n",
       "<caption>OLS Regression Results</caption>\n",
       "<tr>\n",
       "  <th>Dep. Variable:</th>          <td>rent</td>       <th>  R-squared:         </th> <td>   0.708</td>\n",
       "</tr>\n",
       "<tr>\n",
       "  <th>Model:</th>                   <td>OLS</td>       <th>  Adj. R-squared:    </th> <td>   0.705</td>\n",
       "</tr>\n",
       "<tr>\n",
       "  <th>Method:</th>             <td>Least Squares</td>  <th>  F-statistic:       </th> <td>   334.0</td>\n",
       "</tr>\n",
       "<tr>\n",
       "  <th>Date:</th>             <td>Fri, 26 Nov 2021</td> <th>  Prob (F-statistic):</th> <td>1.14e-38</td>\n",
       "</tr>\n",
       "<tr>\n",
       "  <th>Time:</th>                 <td>19:15:39</td>     <th>  Log-Likelihood:    </th> <td> -1493.4</td>\n",
       "</tr>\n",
       "<tr>\n",
       "  <th>No. Observations:</th>      <td>   140</td>      <th>  AIC:               </th> <td>   2991.</td>\n",
       "</tr>\n",
       "<tr>\n",
       "  <th>Df Residuals:</th>          <td>   138</td>      <th>  BIC:               </th> <td>   2997.</td>\n",
       "</tr>\n",
       "<tr>\n",
       "  <th>Df Model:</th>              <td>     1</td>      <th>                     </th>     <td> </td>   \n",
       "</tr>\n",
       "<tr>\n",
       "  <th>Covariance Type:</th>      <td>nonrobust</td>    <th>                     </th>     <td> </td>   \n",
       "</tr>\n",
       "</table>\n",
       "<table class=\"simpletable\">\n",
       "<tr>\n",
       "      <td></td>         <th>coef</th>     <th>std err</th>      <th>t</th>      <th>P>|t|</th>  <th>[0.025</th>    <th>0.975]</th>  \n",
       "</tr>\n",
       "<tr>\n",
       "  <th>Intercept</th> <td> 4.579e+04</td> <td> 3179.976</td> <td>   14.400</td> <td> 0.000</td> <td> 3.95e+04</td> <td> 5.21e+04</td>\n",
       "</tr>\n",
       "<tr>\n",
       "  <th>space</th>     <td> 2075.1455</td> <td>  113.553</td> <td>   18.275</td> <td> 0.000</td> <td> 1850.617</td> <td> 2299.674</td>\n",
       "</tr>\n",
       "</table>\n",
       "<table class=\"simpletable\">\n",
       "<tr>\n",
       "  <th>Omnibus:</th>       <td> 6.374</td> <th>  Durbin-Watson:     </th> <td>   1.308</td>\n",
       "</tr>\n",
       "<tr>\n",
       "  <th>Prob(Omnibus):</th> <td> 0.041</td> <th>  Jarque-Bera (JB):  </th> <td>   6.691</td>\n",
       "</tr>\n",
       "<tr>\n",
       "  <th>Skew:</th>          <td> 0.352</td> <th>  Prob(JB):          </th> <td>  0.0352</td>\n",
       "</tr>\n",
       "<tr>\n",
       "  <th>Kurtosis:</th>      <td> 3.808</td> <th>  Cond. No.          </th> <td>    101.</td>\n",
       "</tr>\n",
       "</table><br/><br/>Notes:<br/>[1] Standard Errors assume that the covariance matrix of the errors is correctly specified."
      ],
      "text/plain": [
       "<class 'statsmodels.iolib.summary.Summary'>\n",
       "\"\"\"\n",
       "                            OLS Regression Results                            \n",
       "==============================================================================\n",
       "Dep. Variable:                   rent   R-squared:                       0.708\n",
       "Model:                            OLS   Adj. R-squared:                  0.705\n",
       "Method:                 Least Squares   F-statistic:                     334.0\n",
       "Date:                Fri, 26 Nov 2021   Prob (F-statistic):           1.14e-38\n",
       "Time:                        19:15:39   Log-Likelihood:                -1493.4\n",
       "No. Observations:                 140   AIC:                             2991.\n",
       "Df Residuals:                     138   BIC:                             2997.\n",
       "Df Model:                           1                                         \n",
       "Covariance Type:            nonrobust                                         \n",
       "==============================================================================\n",
       "                 coef    std err          t      P>|t|      [0.025      0.975]\n",
       "------------------------------------------------------------------------------\n",
       "Intercept   4.579e+04   3179.976     14.400      0.000    3.95e+04    5.21e+04\n",
       "space       2075.1455    113.553     18.275      0.000    1850.617    2299.674\n",
       "==============================================================================\n",
       "Omnibus:                        6.374   Durbin-Watson:                   1.308\n",
       "Prob(Omnibus):                  0.041   Jarque-Bera (JB):                6.691\n",
       "Skew:                           0.352   Prob(JB):                       0.0352\n",
       "Kurtosis:                       3.808   Cond. No.                         101.\n",
       "==============================================================================\n",
       "\n",
       "Notes:\n",
       "[1] Standard Errors assume that the covariance matrix of the errors is correctly specified.\n",
       "\"\"\""
      ]
     },
     "execution_count": 13,
     "metadata": {},
     "output_type": "execute_result"
    }
   ],
   "source": [
    "import statsmodels.formula.api as smf #Rっぽい使い方ができる\n",
    "\n",
    "model1 = smf.ols(formula = 'rent ~ space', data=m_d,)\n",
    "result1 = model1.fit()\n",
    "result1.summary()"
   ]
  },
  {
   "cell_type": "markdown",
   "metadata": {},
   "source": [
    "### 5.5　決定係数をみる\n",
    "\n",
    "これで、最小二乗法による線形回帰モデルは確定したわけだが、ここで終わりではない。ここからは、このモデルの正当性を様々な角度から検証する。まずは、[手順3] **決定係数**(R-squared)を確認することにより、点と線の一致度合いを見ておこう。上の出力では決定係数は0.708となっている。これはこのような調査においては、非常に高い値であるといえる。したがって、点と線の一致度は非常に高い。"
   ]
  },
  {
   "cell_type": "markdown",
   "metadata": {},
   "source": [
    "また、決定係数はよく目的変数$\\mathbf{y}$を説明変数$X$で説明できた割合と解釈されることがある。つまり今回の場合は71%程度説明できているというわけだ。決定係数は以下の式で算出される。"
   ]
  },
  {
   "cell_type": "markdown",
   "metadata": {},
   "source": [
    "<center><img src=\"./imgs/rsquared.png\" width=\"350\"></center>"
   ]
  },
  {
   "cell_type": "markdown",
   "metadata": {},
   "source": [
    "$$R^2 = \\frac{\\sum(xの効果)^2}{\\sum(ヌル残差)^2} = 1 - \\frac{\\sum(回帰残差)^2}{\\sum(偏差)^2}$$\n"
   ]
  },
  {
   "cell_type": "markdown",
   "metadata": {},
   "source": [
    "このことから、回帰分析とは、分散分析の説明変数が連続値をとる場合の分析法であると解釈できる。このようなことからt検定、分散分析、線形回帰分析は**線形モデル**(linear model)と呼ばれる手法に属している。"
   ]
  },
  {
   "cell_type": "markdown",
   "metadata": {},
   "source": [
    "さて、決定係数をより上昇させるために変数の追加をしよう。以下のようにすれば、説明変数を追加して重回帰分析を行うことができる。"
   ]
  },
  {
   "cell_type": "code",
   "execution_count": 14,
   "metadata": {},
   "outputs": [
    {
     "data": {
      "text/html": [
       "<table class=\"simpletable\">\n",
       "<caption>OLS Regression Results</caption>\n",
       "<tr>\n",
       "  <th>Dep. Variable:</th>          <td>rent</td>       <th>  R-squared:         </th> <td>   0.851</td>\n",
       "</tr>\n",
       "<tr>\n",
       "  <th>Model:</th>                   <td>OLS</td>       <th>  Adj. R-squared:    </th> <td>   0.830</td>\n",
       "</tr>\n",
       "<tr>\n",
       "  <th>Method:</th>             <td>Least Squares</td>  <th>  F-statistic:       </th> <td>   40.84</td>\n",
       "</tr>\n",
       "<tr>\n",
       "  <th>Date:</th>             <td>Fri, 26 Nov 2021</td> <th>  Prob (F-statistic):</th> <td>3.85e-42</td>\n",
       "</tr>\n",
       "<tr>\n",
       "  <th>Time:</th>                 <td>19:15:39</td>     <th>  Log-Likelihood:    </th> <td> -1446.4</td>\n",
       "</tr>\n",
       "<tr>\n",
       "  <th>No. Observations:</th>      <td>   140</td>      <th>  AIC:               </th> <td>   2929.</td>\n",
       "</tr>\n",
       "<tr>\n",
       "  <th>Df Residuals:</th>          <td>   122</td>      <th>  BIC:               </th> <td>   2982.</td>\n",
       "</tr>\n",
       "<tr>\n",
       "  <th>Df Model:</th>              <td>    17</td>      <th>                     </th>     <td> </td>   \n",
       "</tr>\n",
       "<tr>\n",
       "  <th>Covariance Type:</th>      <td>nonrobust</td>    <th>                     </th>     <td> </td>   \n",
       "</tr>\n",
       "</table>\n",
       "<table class=\"simpletable\">\n",
       "<tr>\n",
       "           <td></td>             <th>coef</th>     <th>std err</th>      <th>t</th>      <th>P>|t|</th>  <th>[0.025</th>    <th>0.975]</th>  \n",
       "</tr>\n",
       "<tr>\n",
       "  <th>Intercept</th>          <td> 4.215e+04</td> <td> 1.14e+04</td> <td>    3.703</td> <td> 0.000</td> <td> 1.96e+04</td> <td> 6.47e+04</td>\n",
       "</tr>\n",
       "<tr>\n",
       "  <th>distance[T.B]</th>      <td>-8131.7828</td> <td> 1488.182</td> <td>   -5.464</td> <td> 0.000</td> <td>-1.11e+04</td> <td>-5185.778</td>\n",
       "</tr>\n",
       "<tr>\n",
       "  <th>floorPlan[T.1K]</th>    <td>-1185.6327</td> <td> 4207.411</td> <td>   -0.282</td> <td> 0.779</td> <td>-9514.624</td> <td> 7143.358</td>\n",
       "</tr>\n",
       "<tr>\n",
       "  <th>floorPlan[T.1LDK]</th>  <td> -435.5080</td> <td> 4400.231</td> <td>   -0.099</td> <td> 0.921</td> <td>-9146.204</td> <td> 8275.188</td>\n",
       "</tr>\n",
       "<tr>\n",
       "  <th>floorPlan[T.1R]</th>    <td> 5532.5310</td> <td> 4791.241</td> <td>    1.155</td> <td> 0.250</td> <td>-3952.209</td> <td>  1.5e+04</td>\n",
       "</tr>\n",
       "<tr>\n",
       "  <th>floorPlan[T.1SLDK]</th> <td>-1.886e+04</td> <td> 1.06e+04</td> <td>   -1.779</td> <td> 0.078</td> <td>-3.98e+04</td> <td> 2127.005</td>\n",
       "</tr>\n",
       "<tr>\n",
       "  <th>floorPlan[T.2DK]</th>   <td>-9127.6323</td> <td> 5384.814</td> <td>   -1.695</td> <td> 0.093</td> <td>-1.98e+04</td> <td> 1532.146</td>\n",
       "</tr>\n",
       "<tr>\n",
       "  <th>floorPlan[T.2K]</th>    <td> 1715.5228</td> <td> 9077.955</td> <td>    0.189</td> <td> 0.850</td> <td>-1.63e+04</td> <td> 1.97e+04</td>\n",
       "</tr>\n",
       "<tr>\n",
       "  <th>floorPlan[T.2LDK]</th>  <td>-4.009e+04</td> <td> 1.11e+04</td> <td>   -3.611</td> <td> 0.000</td> <td>-6.21e+04</td> <td>-1.81e+04</td>\n",
       "</tr>\n",
       "<tr>\n",
       "  <th>direction[T.北東]</th>    <td> -783.6430</td> <td> 8750.302</td> <td>   -0.090</td> <td> 0.929</td> <td>-1.81e+04</td> <td> 1.65e+04</td>\n",
       "</tr>\n",
       "<tr>\n",
       "  <th>direction[T.北西]</th>    <td>-4190.1981</td> <td> 8639.198</td> <td>   -0.485</td> <td> 0.629</td> <td>-2.13e+04</td> <td> 1.29e+04</td>\n",
       "</tr>\n",
       "<tr>\n",
       "  <th>direction[T.南]</th>     <td>-2227.7685</td> <td> 8167.319</td> <td>   -0.273</td> <td> 0.785</td> <td>-1.84e+04</td> <td> 1.39e+04</td>\n",
       "</tr>\n",
       "<tr>\n",
       "  <th>direction[T.南東]</th>    <td> 1266.8274</td> <td> 8161.010</td> <td>    0.155</td> <td> 0.877</td> <td>-1.49e+04</td> <td> 1.74e+04</td>\n",
       "</tr>\n",
       "<tr>\n",
       "  <th>direction[T.南西]</th>    <td>-3084.3765</td> <td> 8354.896</td> <td>   -0.369</td> <td> 0.713</td> <td>-1.96e+04</td> <td> 1.35e+04</td>\n",
       "</tr>\n",
       "<tr>\n",
       "  <th>direction[T.東]</th>     <td>-2150.3998</td> <td> 8185.271</td> <td>   -0.263</td> <td> 0.793</td> <td>-1.84e+04</td> <td> 1.41e+04</td>\n",
       "</tr>\n",
       "<tr>\n",
       "  <th>direction[T.西]</th>     <td>-4075.5925</td> <td> 8239.112</td> <td>   -0.495</td> <td> 0.622</td> <td>-2.04e+04</td> <td> 1.22e+04</td>\n",
       "</tr>\n",
       "<tr>\n",
       "  <th>space</th>              <td> 2719.4847</td> <td>  207.600</td> <td>   13.100</td> <td> 0.000</td> <td> 2308.520</td> <td> 3130.450</td>\n",
       "</tr>\n",
       "<tr>\n",
       "  <th>age</th>                <td> -652.6729</td> <td>  194.068</td> <td>   -3.363</td> <td> 0.001</td> <td>-1036.849</td> <td> -268.497</td>\n",
       "</tr>\n",
       "</table>\n",
       "<table class=\"simpletable\">\n",
       "<tr>\n",
       "  <th>Omnibus:</th>       <td> 5.014</td> <th>  Durbin-Watson:     </th> <td>   1.768</td>\n",
       "</tr>\n",
       "<tr>\n",
       "  <th>Prob(Omnibus):</th> <td> 0.082</td> <th>  Jarque-Bera (JB):  </th> <td>   7.162</td>\n",
       "</tr>\n",
       "<tr>\n",
       "  <th>Skew:</th>          <td> 0.013</td> <th>  Prob(JB):          </th> <td>  0.0278</td>\n",
       "</tr>\n",
       "<tr>\n",
       "  <th>Kurtosis:</th>      <td> 4.108</td> <th>  Cond. No.          </th> <td>1.01e+03</td>\n",
       "</tr>\n",
       "</table><br/><br/>Notes:<br/>[1] Standard Errors assume that the covariance matrix of the errors is correctly specified.<br/>[2] The condition number is large, 1.01e+03. This might indicate that there are<br/>strong multicollinearity or other numerical problems."
      ],
      "text/plain": [
       "<class 'statsmodels.iolib.summary.Summary'>\n",
       "\"\"\"\n",
       "                            OLS Regression Results                            \n",
       "==============================================================================\n",
       "Dep. Variable:                   rent   R-squared:                       0.851\n",
       "Model:                            OLS   Adj. R-squared:                  0.830\n",
       "Method:                 Least Squares   F-statistic:                     40.84\n",
       "Date:                Fri, 26 Nov 2021   Prob (F-statistic):           3.85e-42\n",
       "Time:                        19:15:39   Log-Likelihood:                -1446.4\n",
       "No. Observations:                 140   AIC:                             2929.\n",
       "Df Residuals:                     122   BIC:                             2982.\n",
       "Df Model:                          17                                         \n",
       "Covariance Type:            nonrobust                                         \n",
       "======================================================================================\n",
       "                         coef    std err          t      P>|t|      [0.025      0.975]\n",
       "--------------------------------------------------------------------------------------\n",
       "Intercept           4.215e+04   1.14e+04      3.703      0.000    1.96e+04    6.47e+04\n",
       "distance[T.B]      -8131.7828   1488.182     -5.464      0.000   -1.11e+04   -5185.778\n",
       "floorPlan[T.1K]    -1185.6327   4207.411     -0.282      0.779   -9514.624    7143.358\n",
       "floorPlan[T.1LDK]   -435.5080   4400.231     -0.099      0.921   -9146.204    8275.188\n",
       "floorPlan[T.1R]     5532.5310   4791.241      1.155      0.250   -3952.209     1.5e+04\n",
       "floorPlan[T.1SLDK] -1.886e+04   1.06e+04     -1.779      0.078   -3.98e+04    2127.005\n",
       "floorPlan[T.2DK]   -9127.6323   5384.814     -1.695      0.093   -1.98e+04    1532.146\n",
       "floorPlan[T.2K]     1715.5228   9077.955      0.189      0.850   -1.63e+04    1.97e+04\n",
       "floorPlan[T.2LDK]  -4.009e+04   1.11e+04     -3.611      0.000   -6.21e+04   -1.81e+04\n",
       "direction[T.北東]     -783.6430   8750.302     -0.090      0.929   -1.81e+04    1.65e+04\n",
       "direction[T.北西]    -4190.1981   8639.198     -0.485      0.629   -2.13e+04    1.29e+04\n",
       "direction[T.南]     -2227.7685   8167.319     -0.273      0.785   -1.84e+04    1.39e+04\n",
       "direction[T.南東]     1266.8274   8161.010      0.155      0.877   -1.49e+04    1.74e+04\n",
       "direction[T.南西]    -3084.3765   8354.896     -0.369      0.713   -1.96e+04    1.35e+04\n",
       "direction[T.東]     -2150.3998   8185.271     -0.263      0.793   -1.84e+04    1.41e+04\n",
       "direction[T.西]     -4075.5925   8239.112     -0.495      0.622   -2.04e+04    1.22e+04\n",
       "space               2719.4847    207.600     13.100      0.000    2308.520    3130.450\n",
       "age                 -652.6729    194.068     -3.363      0.001   -1036.849    -268.497\n",
       "==============================================================================\n",
       "Omnibus:                        5.014   Durbin-Watson:                   1.768\n",
       "Prob(Omnibus):                  0.082   Jarque-Bera (JB):                7.162\n",
       "Skew:                           0.013   Prob(JB):                       0.0278\n",
       "Kurtosis:                       4.108   Cond. No.                     1.01e+03\n",
       "==============================================================================\n",
       "\n",
       "Notes:\n",
       "[1] Standard Errors assume that the covariance matrix of the errors is correctly specified.\n",
       "[2] The condition number is large, 1.01e+03. This might indicate that there are\n",
       "strong multicollinearity or other numerical problems.\n",
       "\"\"\""
      ]
     },
     "execution_count": 14,
     "metadata": {},
     "output_type": "execute_result"
    }
   ],
   "source": [
    "#別のモデル（全投入式）の作成\n",
    "model2 = smf.ols(formula = 'rent ~ distance + floorPlan + space + direction + age', data=m_d,)\n",
    "result2 = model2.fit()\n",
    "result2.summary()"
   ]
  },
  {
   "cell_type": "markdown",
   "metadata": {},
   "source": [
    "決定係数は0.851にまで上昇した。"
   ]
  },
  {
   "cell_type": "markdown",
   "metadata": {},
   "source": [
    "[問題]　`model1`と`model2`は決定係数を比べれば、`model2`の方が高い。このことからすぐに`model2`の方が優れたモデルだと結論できない理由は何か。"
   ]
  },
  {
   "cell_type": "markdown",
   "metadata": {},
   "source": [
    "[解答]　決定係数は、過剰適合に対応した指標ではない。また、**目的変数$y$に対してほとんど説明力のない説明変数$x$を追加したとしても、決定係数は上昇してしまう**。すなわち、持っている変数を全て説明変数にした式(=全投入式)が最高の決定係数を持つことになり、モデルの選択には使用できない。"
   ]
  },
  {
   "cell_type": "markdown",
   "metadata": {},
   "source": [
    "決定係数では、過剰適合に対応できないことがわかった。そこで、過学習に対応するために先述の過学習に対する対策をしなければならない。ここでは、先に説明した方法のうち「**過剰適合に対応した評価指標を使う**」ことにしよう。"
   ]
  },
  {
   "cell_type": "markdown",
   "metadata": {},
   "source": [
    "まず、決定係数のすぐ下に出力されている**自由度調整済み決定係数**(adjusted R-squared)確認してみよう。これは以下の式で表される。\n",
    "\n",
    "$$R^*{^2} = 1 - \\frac{\\sum(回帰残差)^2/(n-p-1)}{\\sum(偏差)^2/(n-1)}$$\n",
    "\n",
    "上の式で、$p$は説明変数の個数。説明変数が増加すると、モデルによる自由度の減少分は増加し、残差の自由度は減少する。そのため、説明変数が多くなりすぎると必然決定係数は大きくなるため、それを調整したものが自由度調整済みの決定係数である。"
   ]
  },
  {
   "cell_type": "markdown",
   "metadata": {},
   "source": [
    "これをみれば、ある程度過学習に対応できる。\n",
    "\n",
    "また、さらに出力を追うと、**赤池情報量規準**(AIC)や**ベイズ・シュワルツ情報量規準**(BIC)も出力されていることがわかる。\n",
    "\n",
    "$$AIC = -2 L^* + 2k$$\n",
    "$$BIC = -2 L^* + k \\log n$$ \n",
    "($L^*$は最大対数尤度、$k$はモデルのパラメータ数)"
   ]
  },
  {
   "cell_type": "markdown",
   "metadata": {},
   "source": [
    "これらは、我々が作成したモデルと、真のモデルの距離を測る**KL距離(Kullbuck-Leibler distance)**の近似式($-2n$を乗じたもの)であるということができる。したがって、AIC,BICは**小さい方が良いモデル**である。第1項はモデルの当てはまりの良さを、第2項は複雑なモデルに対するペナルティを与えていると解釈できる。"
   ]
  },
  {
   "cell_type": "markdown",
   "metadata": {},
   "source": [
    "### 5.6　回帰係数の検定・推定\n",
    "\n",
    "続いて[手順4]回帰係数の検定・推定に移ろう。しかしその前にこれまで述べてこなかった、回帰分析の標準的な仮定について話しておかなければならない。なぜなら回帰分析の推定や検定に必要な標準誤差はその前提を元に計算されているからである。\n",
    "\n"
   ]
  },
  {
   "cell_type": "markdown",
   "metadata": {},
   "source": [
    "**[回帰分析の標準的な仮定]**\n",
    "\n",
    "1. **目的変数$y$は以下の式で表されるとする。**\n",
    "$$y_i = \\hat{y_i} + \\varepsilon_i = w_0 + \\sum_{i=1}^p w_ix_i+\\varepsilon_i  \\hspace{10pt} \\varepsilon_i \\sim N(0, \\sigma^2)$$\n",
    "2. 説明変数は線形独立である。\n",
    "3. 誤差$\\varepsilon_i$は**互いに無相関**である。すなわち、$Cov(\\varepsilon_i, \\varepsilon_j) = 0$"
   ]
  },
  {
   "cell_type": "markdown",
   "metadata": {},
   "source": [
    "[問題]　例えば、目的変数を世帯の支出とし、説明変数を世帯の収入とするような回帰分析はしてはいけないと言われている。これはなぜか。"
   ]
  },
  {
   "cell_type": "markdown",
   "metadata": {},
   "source": [
    "[回答]　明らかに、説明変数の値が大きくなるにつれて、目的変数の分散が拡大すると考えられるため、回帰分析の標準的な仮定1.を満たさないから。"
   ]
  },
  {
   "cell_type": "markdown",
   "metadata": {},
   "source": [
    "では、検定の説明をしよう。回帰係数の検定は\n",
    "\n",
    "$$H_0:W_i = 0$$\n",
    "$$H_1:W_i \\neq 0$$\n",
    "\n",
    "を仮説とする検定である。"
   ]
  },
  {
   "cell_type": "markdown",
   "metadata": {},
   "source": [
    "[問題]　仮説において、回帰係数が小文字$w_i$ではなく、大文字$W_i$で表されていることは、何を示しているか答えよ。\n"
   ]
  },
  {
   "cell_type": "markdown",
   "metadata": {},
   "source": [
    "[回答]　最小二乗法で得られた解はあくまで、標本の回帰係数であり、母集団の回帰係数でない。大文字を使うことで、母集団の回帰係数であることを示している。"
   ]
  },
  {
   "cell_type": "markdown",
   "metadata": {},
   "source": [
    "回帰係数の検定の仕組みは、いつもの通りで、母集団回帰係数$W_i$をパラメータとすれば、その推定量は標本回帰係数$w_i$の確率分布を考えればいい。ここで、$w_i$の標準化変量を考えたいが、$w_i$の標準誤差を求める式は大変複雑(単回帰でも中々、重回帰がとかなり面倒)なので、ここでは`Python`での出力`std err`を用いることにしよう。そうすれば、\n",
    "\n",
    "$$t = \\frac{w_i - 0}{std\\hspace{3pt}err} \\sim t(\\nu = n-p-1)$$\n",
    "\n",
    "がいえるので、これを使って検定をすればいい。検定の結果の$p$値も`Python`の出力を参照すれば、簡単に検定の結果がわかる。"
   ]
  },
  {
   "cell_type": "markdown",
   "metadata": {},
   "source": [
    "[問題]　`distance`, `floorPlan`,`direction`などの質的変数に関してはダミー変数化という作業をしてから、回帰式に入れている。このダミー変数化について説明しなさい。さらに、このダミー変数化された変数の回帰係数の検定の$p$値はそのまま信用できるか。(例えば`floorPlan[T.2LDK]`のp値は0.000となっているが、この係数は信頼できるか。)"
   ]
  },
  {
   "cell_type": "markdown",
   "metadata": {},
   "source": [
    "[回答]　ダミー変数化された変数のうち、1つの水準は回帰式から消えている。そこ消えているように見える水準が基準で、それぞれの偏回帰係数はそこからの差分を表している。1つの水準を消したようにしないと、完全な多重共線性が説明変数間に生まれてしまうため、回帰係数が不定になる。"
   ]
  },
  {
   "cell_type": "markdown",
   "metadata": {},
   "source": [
    "ダミー化した場合、1つ1つの水準の度数に注意しなければならない。2LDKの物件はデータ中に1件しかなく、この場合の回帰係数は完全にその物件の値段を予測する。(なぜならその物件の家賃とぴったり合うように他の係数が決まった後に調整すればいいから。)ただし、それはたった1つの標本データに過剰に適合した結果であるから、統計的な意味はない。この場合は近接カテゴリーへの合併を考える必要がある。"
   ]
  },
  {
   "cell_type": "markdown",
   "metadata": {},
   "source": [
    "続いて、回帰係数の区間推定を行ってみよう。\n",
    "\n",
    "$$t = \\frac{w_i - 0}{std\\hspace{3pt}err} \\sim t(\\nu = n-p-1)$$\n",
    "\n",
    "なのでここから回帰係数の95%信頼区間は、\n",
    "\n",
    "$$w_i  +  t(0.025, \\nu=n-p-1) \\cdot std \\hspace{3pt}err \\le W_i \\le w_i  +  t(0.975, \\nu=n-p-1) \\cdot std\\hspace{3pt} err$$\n",
    "\n",
    "とすることが可能である。"
   ]
  },
  {
   "cell_type": "code",
   "execution_count": 15,
   "metadata": {},
   "outputs": [
    {
     "data": {
      "text/plain": [
       "Intercept             42145.163840\n",
       "distance[T.B]         -8131.782806\n",
       "floorPlan[T.1K]       -1185.632698\n",
       "floorPlan[T.1LDK]      -435.508016\n",
       "floorPlan[T.1R]        5532.531044\n",
       "floorPlan[T.1SLDK]   -18857.542426\n",
       "floorPlan[T.2DK]      -9127.632282\n",
       "floorPlan[T.2K]        1715.522773\n",
       "floorPlan[T.2LDK]    -40086.611209\n",
       "direction[T.北東]        -783.642961\n",
       "direction[T.北西]       -4190.198054\n",
       "direction[T.南]        -2227.768508\n",
       "direction[T.南東]        1266.827425\n",
       "direction[T.南西]       -3084.376491\n",
       "direction[T.東]        -2150.399831\n",
       "direction[T.西]        -4075.592513\n",
       "space                  2719.484716\n",
       "age                    -652.672881\n",
       "dtype: float64"
      ]
     },
     "execution_count": 15,
     "metadata": {},
     "output_type": "execute_result"
    }
   ],
   "source": [
    "result2.params #標本回帰係数の表示"
   ]
  },
  {
   "cell_type": "code",
   "execution_count": 16,
   "metadata": {},
   "outputs": [
    {
     "data": {
      "text/plain": [
       "Intercept             11382.736484\n",
       "distance[T.B]          1488.182079\n",
       "floorPlan[T.1K]        4207.411288\n",
       "floorPlan[T.1LDK]      4400.230603\n",
       "floorPlan[T.1R]        4791.241034\n",
       "floorPlan[T.1SLDK]    10600.398207\n",
       "floorPlan[T.2DK]       5384.814430\n",
       "floorPlan[T.2K]        9077.954769\n",
       "floorPlan[T.2LDK]     11100.059368\n",
       "direction[T.北東]        8750.302374\n",
       "direction[T.北西]        8639.198216\n",
       "direction[T.南]         8167.319052\n",
       "direction[T.南東]        8161.010187\n",
       "direction[T.南西]        8354.895884\n",
       "direction[T.東]         8185.271305\n",
       "direction[T.西]         8239.111665\n",
       "space                   207.600141\n",
       "age                     194.067605\n",
       "dtype: float64"
      ]
     },
     "execution_count": 16,
     "metadata": {},
     "output_type": "execute_result"
    }
   ],
   "source": [
    "result2.bse #標準誤差の表示"
   ]
  },
  {
   "cell_type": "code",
   "execution_count": 17,
   "metadata": {},
   "outputs": [
    {
     "name": "stdout",
     "output_type": "stream",
     "text": [
      "Intercept             19611.900079\n",
      "distance[T.B]        -11077.787869\n",
      "floorPlan[T.1K]       -9514.623573\n",
      "floorPlan[T.1LDK]     -9146.203983\n",
      "floorPlan[T.1R]       -3952.209124\n",
      "floorPlan[T.1SLDK]   -39842.089429\n",
      "floorPlan[T.2DK]     -19787.410273\n",
      "floorPlan[T.2K]      -16255.195384\n",
      "floorPlan[T.2LDK]    -62060.287384\n",
      "direction[T.北東]      -18105.740476\n",
      "direction[T.北西]      -21292.353793\n",
      "direction[T.南]       -18395.792311\n",
      "direction[T.南東]      -14888.707350\n",
      "direction[T.南西]      -19623.727367\n",
      "direction[T.東]       -18353.961911\n",
      "direction[T.西]       -20385.736963\n",
      "space                  2308.519502\n",
      "age                   -1036.849089\n",
      "dtype: float64 Intercept             64678.427600\n",
      "distance[T.B]         -5185.777743\n",
      "floorPlan[T.1K]        7143.358176\n",
      "floorPlan[T.1LDK]      8275.187950\n",
      "floorPlan[T.1R]       15017.271212\n",
      "floorPlan[T.1SLDK]     2127.004577\n",
      "floorPlan[T.2DK]       1532.145710\n",
      "floorPlan[T.2K]       19686.240930\n",
      "floorPlan[T.2LDK]    -18112.935035\n",
      "direction[T.北東]       16538.454555\n",
      "direction[T.北西]       12911.957685\n",
      "direction[T.南]        13940.255294\n",
      "direction[T.南東]       17422.362200\n",
      "direction[T.南西]       13454.974386\n",
      "direction[T.東]        14053.162249\n",
      "direction[T.西]        12234.551937\n",
      "space                  3130.449929\n",
      "age                    -268.496673\n",
      "dtype: float64\n"
     ]
    }
   ],
   "source": [
    "#信頼区間の計算\n",
    "import scipy.stats as ss\n",
    "\n",
    "#信頼下限\n",
    "lwr = result2.params + ss.t.ppf(0.025,122 ) * result2.bse\n",
    "#信頼上限\n",
    "upr = result2.params + ss.t.ppf(0.975,122 ) * result2.bse\n",
    "\n",
    "print(lwr, upr)"
   ]
  },
  {
   "cell_type": "markdown",
   "metadata": {},
   "source": [
    "### 5.7　予測を行う\n",
    "\n",
    "\n",
    "さて、[手順5]である予測に進もう。ここでは、回帰式を使って、ある$\\mathbf{x_i}$を与えた時の$y_i$の値を予測することを考える。もっとも単純なのは、[手順2]で求めた、標本の回帰式に$\\mathbf{x_i}$を代入して答えを得ることだ。これは以下のようにしてできる。"
   ]
  },
  {
   "cell_type": "code",
   "execution_count": 18,
   "metadata": {},
   "outputs": [
    {
     "data": {
      "text/plain": [
       "array([72590.29084374, 74438.11484865, 71170.33954033, 73132.76908626,\n",
       "       65518.19463   ])"
      ]
     },
     "execution_count": 18,
     "metadata": {},
     "output_type": "execute_result"
    }
   ],
   "source": [
    "pred = result2.predict() #モデル作成に使ったデータを再代入して予測値を求めている\n",
    "pred[:5] # 最初の5個だけ確認してみよう"
   ]
  },
  {
   "cell_type": "markdown",
   "metadata": {},
   "source": [
    "しかし、せっかく[手順4]で回帰係数の信頼区間を求めたのだから、それを使って予測の方も区間推定したいところである。それをするには、以下のようにすればいい。"
   ]
  },
  {
   "cell_type": "code",
   "execution_count": 19,
   "metadata": {},
   "outputs": [
    {
     "data": {
      "text/html": [
       "<div>\n",
       "<style scoped>\n",
       "    .dataframe tbody tr th:only-of-type {\n",
       "        vertical-align: middle;\n",
       "    }\n",
       "\n",
       "    .dataframe tbody tr th {\n",
       "        vertical-align: top;\n",
       "    }\n",
       "\n",
       "    .dataframe thead th {\n",
       "        text-align: right;\n",
       "    }\n",
       "</style>\n",
       "<table border=\"1\" class=\"dataframe\">\n",
       "  <thead>\n",
       "    <tr style=\"text-align: right;\">\n",
       "      <th></th>\n",
       "      <th>mean</th>\n",
       "      <th>mean_se</th>\n",
       "      <th>mean_ci_lower</th>\n",
       "      <th>mean_ci_upper</th>\n",
       "      <th>obs_ci_lower</th>\n",
       "      <th>obs_ci_upper</th>\n",
       "    </tr>\n",
       "  </thead>\n",
       "  <tbody>\n",
       "    <tr>\n",
       "      <th>0</th>\n",
       "      <td>72590.290844</td>\n",
       "      <td>2117.030003</td>\n",
       "      <td>68399.418507</td>\n",
       "      <td>76781.163181</td>\n",
       "      <td>56294.800971</td>\n",
       "      <td>88885.780716</td>\n",
       "    </tr>\n",
       "    <tr>\n",
       "      <th>1</th>\n",
       "      <td>74438.114849</td>\n",
       "      <td>1887.682826</td>\n",
       "      <td>70701.258156</td>\n",
       "      <td>78174.971542</td>\n",
       "      <td>58253.440704</td>\n",
       "      <td>90622.788994</td>\n",
       "    </tr>\n",
       "    <tr>\n",
       "      <th>2</th>\n",
       "      <td>71170.339540</td>\n",
       "      <td>3538.079806</td>\n",
       "      <td>64166.357187</td>\n",
       "      <td>78174.321894</td>\n",
       "      <td>53935.626080</td>\n",
       "      <td>88405.053000</td>\n",
       "    </tr>\n",
       "    <tr>\n",
       "      <th>3</th>\n",
       "      <td>73132.769086</td>\n",
       "      <td>2007.917203</td>\n",
       "      <td>69157.896435</td>\n",
       "      <td>77107.641737</td>\n",
       "      <td>56891.488600</td>\n",
       "      <td>89374.049573</td>\n",
       "    </tr>\n",
       "    <tr>\n",
       "      <th>4</th>\n",
       "      <td>65518.194630</td>\n",
       "      <td>2387.571226</td>\n",
       "      <td>60791.758921</td>\n",
       "      <td>70244.630339</td>\n",
       "      <td>49076.820790</td>\n",
       "      <td>81959.568470</td>\n",
       "    </tr>\n",
       "  </tbody>\n",
       "</table>\n",
       "</div>"
      ],
      "text/plain": [
       "           mean      mean_se  mean_ci_lower  mean_ci_upper  obs_ci_lower  \\\n",
       "0  72590.290844  2117.030003   68399.418507   76781.163181  56294.800971   \n",
       "1  74438.114849  1887.682826   70701.258156   78174.971542  58253.440704   \n",
       "2  71170.339540  3538.079806   64166.357187   78174.321894  53935.626080   \n",
       "3  73132.769086  2007.917203   69157.896435   77107.641737  56891.488600   \n",
       "4  65518.194630  2387.571226   60791.758921   70244.630339  49076.820790   \n",
       "\n",
       "   obs_ci_upper  \n",
       "0  88885.780716  \n",
       "1  90622.788994  \n",
       "2  88405.053000  \n",
       "3  89374.049573  \n",
       "4  81959.568470  "
      ]
     },
     "execution_count": 19,
     "metadata": {},
     "output_type": "execute_result"
    }
   ],
   "source": [
    "#予測値の信頼区間, 予測区間などが全てわかる\n",
    "predictions = result2.get_prediction()\n",
    "predictions.summary_frame(alpha=0.05).head()"
   ]
  },
  {
   "cell_type": "markdown",
   "metadata": {},
   "source": [
    "## 5.8　線形回帰分析のモデルの検討\n"
   ]
  },
  {
   "cell_type": "markdown",
   "metadata": {},
   "source": [
    "### 5.8.1　残差の検討\n",
    "\n",
    "回帰分析には、通常の仮定として、残差が正規分布$N(0 , \\sigma^2)$に従うという仮定が置かれている。ここではそれを確かめる。明らかに仮定に反している場合は、モデルの正当性を疑う。"
   ]
  },
  {
   "cell_type": "code",
   "execution_count": 20,
   "metadata": {},
   "outputs": [
    {
     "data": {
      "image/png": "[encoded data removed]",
      "text/plain": [
       "<Figure size 432x288 with 1 Axes>"
      ]
     },
     "metadata": {
      "needs_background": "light"
     },
     "output_type": "display_data"
    }
   ],
   "source": [
    "import matplotlib.pyplot as plt\n",
    "%matplotlib inline\n",
    "train_residual = plt.scatter(result2.predict(), (m_d['rent']- result2.predict()))"
   ]
  },
  {
   "cell_type": "markdown",
   "metadata": {},
   "source": [
    "### 5.8.2　外れ値について"
   ]
  },
  {
   "cell_type": "code",
   "execution_count": 21,
   "metadata": {},
   "outputs": [
    {
     "name": "stderr",
     "output_type": "stream",
     "text": [
      "/Users/sugakubunka/Library/Python/3.8/lib/python/site-packages/statsmodels/stats/outliers_influence.py:693: RuntimeWarning: invalid value encountered in sqrt\n",
      "  return self.resid / sigma / np.sqrt(1 - hii)\n"
     ]
    },
    {
     "data": {
      "text/plain": [
       "(array([ 55,  76, 132]),)"
      ]
     },
     "execution_count": 21,
     "metadata": {},
     "output_type": "execute_result"
    },
    {
     "data": {
      "image/png": "[encoded data removed]",
      "text/plain": [
       "<Figure size 432x288 with 1 Axes>"
      ]
     },
     "metadata": {
      "needs_background": "light"
     },
     "output_type": "display_data"
    }
   ],
   "source": [
    "#クック距離(大域的挙動)を見るのが便利\n",
    "influence = result2.get_influence()\n",
    "c ,p = influence.cooks_distance\n",
    "plt.stem(np.arange(len(m_d)), c, markerfmt=\",\")\n",
    "\n",
    "#cook距離が0.3以上のindexをとってくる\n",
    "np.where( c>0.3)"
   ]
  }
 ],
 "metadata": {
  "kernelspec": {
   "display_name": "Python 3",
   "language": "python",
   "name": "python3"
  },
  "language_info": {
   "codemirror_mode": {
    "name": "ipython",
    "version": 3
   },
   "file_extension": ".py",
   "mimetype": "text/x-python",
   "name": "python",
   "nbconvert_exporter": "python",
   "pygments_lexer": "ipython3",
   "version": "3.8.2"
  }
 },
 "nbformat": 4,
 "nbformat_minor": 4
}
