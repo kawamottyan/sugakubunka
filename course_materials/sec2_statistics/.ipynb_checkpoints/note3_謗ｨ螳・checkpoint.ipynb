{
 "cells": [
  {
   "cell_type": "markdown",
   "metadata": {},
   "source": [
    "# 3. 推定\n",
    "\n",
    "## 3.1 推定の理論\n",
    "### 3.1.1 推定量\n",
    "\n",
    "**推定(estimation)**とは標本をもとに**母数(parameter)**を定めることをいう。この作業は推測統計学の目的そのものと言って良いほど重要で、後述する統計学的仮説検定の理論と共に、現代統計学の中核をなす理論である。\n",
    "\n",
    "今、ある母数$\\theta$に対して、標本から得た何らかの値でそれを推定する場合、その値を**推定量(estimator)**と呼ぶことにして、$\\hat{\\theta}$で表す。\n",
    "\n",
    "ここで注意しておきたいのは、$\\theta$に対するその推定量$\\hat{\\theta}$はいくつも考えうるということである。例えば、母平均$\\mu$を推定するのに、標本平均$\\bar{x}$を用いるのは自然だが、そのほかにもトリム平均$\\bar{x_p}$を用いることも考えうる。\n",
    "\n",
    "しかしながら、何でも推定量にしてしまって良いという訳ではなく、推定量であるための望ましい性質がいくつかある。以下の2つは大変重要な性質なのでここでとりあげておくことにする。\n",
    "\n",
    "1. 不偏性\n",
    "$$E(\\hat{\\theta}) = \\theta$$\n",
    "\n",
    "2. 一致性\n",
    "$$\\hat{\\theta} = \\theta \\hspace{10pt} (n \\to \\infty)$$"
   ]
  },
  {
   "cell_type": "markdown",
   "metadata": {},
   "source": [
    "##### [問題] \n",
    "不偏性と一致性について、自分の言葉で説明しなさい。"
   ]
  },
  {
   "cell_type": "markdown",
   "metadata": {},
   "source": [
    "##### [回答]\n",
    "\n",
    "1. 不偏性はある推定量の期待値(標本分布)が、母数と一致すること。 ちなみに、$E(\\hat{\\theta}) - \\theta$のことをその推定量の**バイアス(bias)**と呼ぶ。バイアスが0の推定量を**不偏推定量(non-biased estimator)**と呼ぶ。\n",
    "\n",
    "2. 一致性は、標本サイズが大きくなると推定量と母数が一致するという性質。"
   ]
  },
  {
   "cell_type": "markdown",
   "metadata": {},
   "source": [
    "※$n-1$でわる分散(不偏分散)が不偏性をもつ証明\n",
    "\n",
    "\n",
    "$$\n",
    "\\begin{align}\n",
    "E\\left(\\sum_{i=1}^n (X_i - \\bar{X})^2\\right)  &= E\\left(\\sum_{i=1}^{n} \\{(X_i - \\mu) - (\\bar{X} - \\mu)\\}^2\\right) \\\\&=E(\\sum_{i=1}^{n} (X_i - \\mu)^2 - 2\\sum_{i=1}^{n}(X_i -\\mu)(\\bar{X} - \\mu) + \\sum_{i=1}^{n}(\\bar{X} - \\mu)^2)\\\\&=E(\\sum_{i=1}^{n} (X_i - \\mu)^2 - 2n(\\bar{X} - \\mu)^2 + n(\\bar{X} - \\mu)^2)\\\\&=\\sum_{i=1}^{n}V(X_i) - nV(\\bar{X})\\\\&=n\\sigma^2 - n \\frac{\\sigma^2}{n} = (n-1)\\sigma^2　\\hspace{10pt}(中心極限定理)\n",
    "\\end{align}\n",
    "$$\n",
    "\n",
    "これより、$$E\\left(\\frac{1}{n-1} \\sum_{i=1}^n (X_i - \\bar{X})^2\\right) = \\sigma^2.$$"
   ]
  },
  {
   "cell_type": "markdown",
   "metadata": {},
   "source": [
    "### 不偏分散の不偏性のシミュレーション\n",
    "標準偏差10、つまり分散が100の正規分布からサイズ5の乱数を発生させ、その標本分散と不偏分散を計算してみましょう。\n",
    "\n",
    "どちらも乱数を発生しなおすたびにいろいろな値を取ります。何度かくり返したものを眺めても違いはわかりにくいかもしれませんが、たくさん(下のコードでは2000回)くり返し、その平均値を計算すると違いが見えてきます。$s_{0}$は標本分散をくり返し計算したものの平均値で80辺りの値、$s_{1}$は不偏分散をくり返し計算したものの平均値100辺りの値となるはずです。\n",
    "\n",
    "母分散は100としていたので、平均的には不偏分散の方が母分散をとらえることができています。"
   ]
  },
  {
   "cell_type": "code",
   "execution_count": 3,
   "metadata": {},
   "outputs": [
    {
     "name": "stdout",
     "output_type": "stream",
     "text": [
      "[ -8.45581557   7.27344044  -6.12891747  -1.38251198   3.29821028\n",
      " -15.00710683   5.04652702   6.57844858  -4.30453434   2.82577374\n",
      "  -1.68760381   2.51646833  -5.20895097  -7.34511      4.54610389\n",
      "   4.31767309   0.34979904   7.29028126   8.39626315  -8.66681063\n",
      "   5.87469231   5.54757874  17.980127     4.96433688   6.94072555\n",
      " -14.76306199 -14.89571063  21.05136838   3.77224982  11.38732149\n",
      " -12.86004673  -6.69815922 -10.86554301  15.30239361  17.7172457\n",
      "  -3.22192003   5.80661798  -2.2950213    5.37657471   9.55664197\n",
      "   7.3813261   28.00287741 -11.21124722   3.37595364   7.33571518\n",
      "  19.22931608 -15.78310914  12.48337502 -12.93043759  -4.77951597\n",
      " -17.5741431   14.47043821  -4.6768303    8.1439496    6.06858491\n",
      "   9.66284006   2.22106518  -6.10716495 -10.16190804   5.20004529\n",
      "   7.36566791  -2.83511826   0.65124421 -10.48715741  -8.41960489\n",
      "   4.53069155 -20.88117266 -18.52457681  15.40492355  -4.54265979\n",
      "  -5.81506843   6.64302919 -14.45534434  15.26770932 -19.09694798\n",
      "  -7.97141972  -1.79168587  -3.70215632  -5.30465954   3.05338158\n",
      "  -8.63621289   2.33734892  -9.10729059   0.16637318   6.07804544\n",
      "   1.4977326   -6.35501807 -11.26319285  -4.82295161  -6.08303237\n",
      "  -5.2128943   10.42135551  -4.8038585  -16.89479019  -1.95259253\n",
      "  11.70803138 -13.22478394  -8.89396941 -21.0781128  -17.1179134 ]\n"
     ]
    }
   ],
   "source": [
    "x = np.random.normal(loc = 0, scale = 10, size=100)\n",
    "print(x)"
   ]
  },
  {
   "cell_type": "code",
   "execution_count": 2,
   "metadata": {},
   "outputs": [
    {
     "data": {
      "text/plain": [
       "41.14825336942851"
      ]
     },
     "execution_count": 2,
     "metadata": {},
     "output_type": "execute_result"
    }
   ],
   "source": [
    "x.var(ddof=1)"
   ]
  },
  {
   "cell_type": "code",
   "execution_count": 3,
   "metadata": {},
   "outputs": [],
   "source": [
    "s_0 = np.array([])\n",
    "s_1 = np.array([])\n",
    "for i in range(1000):\n",
    "    x = np.random.normal(loc = 0, scale = 10, size = 5)    #母分散100\n",
    "    s_0 = np.append(s_0,x.var(ddof=0))\n",
    "    s_1 = np.append(s_1,x.var(ddof=1))"
   ]
  },
  {
   "cell_type": "code",
   "execution_count": 4,
   "metadata": {},
   "outputs": [
    {
     "data": {
      "text/plain": [
       "99.784103468432"
      ]
     },
     "execution_count": 4,
     "metadata": {},
     "output_type": "execute_result"
    }
   ],
   "source": [
    "s_1.mean()    # 100 不偏分散は不偏性をもつ。"
   ]
  },
  {
   "cell_type": "code",
   "execution_count": 5,
   "metadata": {},
   "outputs": [
    {
     "data": {
      "text/plain": [
       "79.82728277474558"
      ]
     },
     "execution_count": 5,
     "metadata": {},
     "output_type": "execute_result"
    }
   ],
   "source": [
    "s_0.mean()    # 100より小さい。標本分散は不偏性をもたない。"
   ]
  },
  {
   "cell_type": "markdown",
   "metadata": {},
   "source": [
    "ここで見たように、まず大事なのは母数の推定をする際に**どの推定量を選ぶか**であり、これが推定の第一歩である。\n",
    "ここでは、不偏性と一致性について説明したが、そのほかにも**最小分散性(効率性), 漸近正規性, 十分性, 線形推定量**などの推定量が満たすべき性質がいくつかある。"
   ]
  },
  {
   "cell_type": "markdown",
   "metadata": {},
   "source": [
    "### 3.1.2 点推定と区間推定\n",
    "推定には2つの種類がある。1つは、母数を1点で予測する**点推定(point estimation)**。もう一つは、母数を区間で予測する**区間推定(interval estimation)**である。\n",
    "\n",
    "例えば、母平均$\\mu$が知りたいときに、標本平均$\\bar{x}$を推定量とした推定を考える。例えば$\\bar{x} = 100$がわかったときに以下のようにする(数値は適当)。\n",
    "\n",
    "1.点推定\n",
    "\n",
    "$$\\bar{x} = 100 \\to \\mu = 100$$\n",
    "\n",
    "2.区間推定\n",
    " \n",
    "$$ \\bar{x} = 100 \\to 90 \\le \\mu \\le110 \\hspace{10pt} (95\\%)$$\n",
    "\n",
    "この2通りの推定法を見比べながら考える。\n",
    "\n",
    "このままでは点推定は区間推定と比べて統計的な情報量が劣っているといわざるをえない。区間推定がその推定の精度の情報をある程度含んでいるのに対して、点推定にはその情報が含まれていないことがわかるだろう。\n",
    "\n",
    "そこで、点推定の精度を**推定量の標準偏差である、標準誤差(standard error)**を併記することによって示す。\n",
    "すなわち、\n",
    "\n",
    "$$\\bar{x} = 100 \\to \\mu = 100 \\hspace{10pt}(std.error = 10)$$\n",
    "\n",
    "のようにする。"
   ]
  },
  {
   "cell_type": "markdown",
   "metadata": {},
   "source": [
    "##### [問題]\n",
    "推定量の標準偏差である標準誤差が、推定の精度を表しているということを納得できるか。考えてみよ。"
   ]
  },
  {
   "cell_type": "markdown",
   "metadata": {},
   "source": [
    "##### [回答]\n",
    "\n",
    "例えば、ある母集団かサンプルサイズ$n$の標本をいくつかとってきたとする。\n",
    "\n",
    "ある例では、\n",
    "$$\\hat{\\theta} = 100,\\hspace{10pt} \\hat{\\theta} = 90, \\hspace{10pt}\\hat{\\theta} = 110$$\n",
    "\n",
    "別の例では、\n",
    "$$\\hat{\\theta} = 100,\\hspace{10pt} \\hat{\\theta} = 0, \\hspace{10pt}\\hat{\\theta} = 200$$\n",
    "だったとする。\n",
    "\n",
    "明らかに前者の方が、$\\hat{\\theta}$の推定の精度は高いとして良いだろう。\n"
   ]
  },
  {
   "cell_type": "markdown",
   "metadata": {},
   "source": [
    "ここで、取り上げた標準誤差はこれから学ぶ推測統計学においては、中心的な役割をはたす統計量である。しかし、これはもちろん標本分布の標準偏差なので、具体的に計算するというわけにはいかない。しかし中心極限定理を用いて、理論的にこれを知ることができる。"
   ]
  },
  {
   "cell_type": "markdown",
   "metadata": {},
   "source": [
    "### 3.1.3 中心極限定理\n",
    "\n",
    "統計学において、もっとも重要な定理であるといわれているのが、この**中心極限定理(central limit theorem)**である。\n",
    "\n",
    "**[中心極限定理(CLT)]**\n",
    "\n",
    "確率変数$X$が平均$\\mu$, 分散$\\sigma^2$をもつとする。このとき、$X_1 + X_2 + \\cdots  + X_n$の確率分布は$N(n\\mu, n\\sigma^2)$となる。"
   ]
  },
  {
   "cell_type": "markdown",
   "metadata": {},
   "source": [
    "##### [問題]\n",
    "中心極限定理からすぐに、$$\\bar{x} \\sim N\\left(\\mu, \\frac{\\sigma^2}{n}\\right)$$が導ける。これを証明せよ。中心極限定理の成立は仮定して良い。"
   ]
  },
  {
   "cell_type": "markdown",
   "metadata": {},
   "source": [
    "##### [回答]\n",
    "中心極限定理から\n",
    "$$X_1 + X_2 + \\cdots  + X_n \\sim N(n\\mu, n\\sigma^2)$$\n",
    "なので\n",
    "$$\\bar{x} = \\frac{X_1 + X_2 + \\cdots  + X_n}{n} \\sim  N(\\frac{n\\mu}{n}, \\frac{n\\sigma^2}{n^2})$$"
   ]
  },
  {
   "cell_type": "markdown",
   "metadata": {},
   "source": [
    "上の問題から、標本平均の平均は母平均$\\mu$と等しく、標準誤差は$\\frac{\\sigma^2}{n}$　であることがいえる。\n",
    "また、中心極限定理で重要なことは、確率変数$X$が母平均と母分散を持っていさえすれば、**$X$の確率分布がどんなものであったとしても**この定理が成立し、その分布の形状が正規分布となるということである。"
   ]
  },
  {
   "cell_type": "markdown",
   "metadata": {},
   "source": [
    "この驚くべき定理が本当に成り立つのかは興味があるところだが、数学的に証明するのは中々に難しい。そこで'Python'を用いて本当に定理が成り立つかシミュレーションをしてみよう。"
   ]
  },
  {
   "cell_type": "code",
   "execution_count": 6,
   "metadata": {},
   "outputs": [
    {
     "data": {
      "text/plain": [
       "<Figure size 640x480 with 1 Axes>"
      ]
     },
     "metadata": {},
     "output_type": "display_data"
    }
   ],
   "source": [
    "import numpy as np\n",
    "import matplotlib.pyplot as plt\n",
    "import seaborn as sns\n",
    "import math\n",
    "sns.set()\n",
    "\n",
    "plt.hist(np.random.uniform(low=-1, high=1, size=10000))\n",
    "plt.show()"
   ]
  },
  {
   "cell_type": "code",
   "execution_count": 7,
   "metadata": {},
   "outputs": [
    {
     "data": {
      "image/png": "[encoded data removed]",
      "text/plain": [
       "<Figure size 432x288 with 1 Axes>"
      ]
     },
     "metadata": {
      "needs_background": "light"
     },
     "output_type": "display_data"
    }
   ],
   "source": [
    "N=1000 #サンプル数\n",
    "means = []\n",
    "\n",
    "for i in range(N):\n",
    "    x = np.random.uniform(low=-1, high=1, size=10000)\n",
    "    means.append(np.mean(x))\n",
    "sns.distplot(means, bins=20)\n",
    "plt.show()"
   ]
  },
  {
   "cell_type": "markdown",
   "metadata": {},
   "source": [
    "##### [問題]\n",
    "上のスクリプトを色々いじってみて、中心極限定理が成り立つか調べてみよ。"
   ]
  },
  {
   "cell_type": "markdown",
   "metadata": {},
   "source": [
    "##### [回答]\n",
    "'N': サンプル数<br>\n",
    "'np.random.uniform':乱数を引いてくる確率分布<br>\n",
    "'size' : サンプルサイズ\n",
    "\n",
    "あたりをいじってみる。\n",
    "\n",
    "乱数を引いてくる確率分布については以下を参照。<br>\n",
    "https://docs.scipy.org/doc/numpy-1.14.0/reference/routines.random.html\n",
    "\n",
    "たとえば、<br>\n",
    "np.random.exponential(scale=5, size=10000)<br>\n",
    "とするとscaleパラメータが5の指数分布に変更できる。\n",
    "\n",
    "以下は、中心極限定理が成立しない例。乱数を引いてくる分布に**コーシー分布(cauchy distribution)**を用いているが、コーシー分布は$\\int_{- \\infty}^{\\infty} x f(x) dx$が可積分でないため、平均値が定義されない。"
   ]
  },
  {
   "cell_type": "code",
   "execution_count": 8,
   "metadata": {},
   "outputs": [
    {
     "data": {
      "image/png": "[encoded data removed]",
      "text/plain": [
       "<Figure size 432x288 with 1 Axes>"
      ]
     },
     "metadata": {},
     "output_type": "display_data"
    }
   ],
   "source": [
    "import numpy as np\n",
    "import matplotlib.pyplot as plt\n",
    "import seaborn as sns\n",
    "import math\n",
    "sns.set()\n",
    "\n",
    "N=100 #サンプル数\n",
    "means = []\n",
    "\n",
    "for i in range(N):\n",
    "    x = np.random.standard_cauchy(size=10)\n",
    "    means.append(np.mean(x))\n",
    "sns.distplot(means, bins=20)\n",
    "plt.show()"
   ]
  },
  {
   "cell_type": "code",
   "execution_count": 9,
   "metadata": {},
   "outputs": [
    {
     "data": {
      "image/png": "[encoded data removed]",
      "text/plain": [
       "<Figure size 432x288 with 1 Axes>"
      ]
     },
     "metadata": {},
     "output_type": "display_data"
    }
   ],
   "source": [
    "plt.hist(np.random.standard_cauchy(size=1000), bins = 20)\n",
    "plt.show()"
   ]
  },
  {
   "cell_type": "markdown",
   "metadata": {},
   "source": [
    "### 3.1.4 点推定の方法"
   ]
  },
  {
   "cell_type": "markdown",
   "metadata": {},
   "source": [
    "先の節で、点推定の例として、\n",
    "\n",
    "$$\\bar{x} = 100 \\to \\mu = 100$$\n",
    "\n",
    "という例を挙げた。これは単純に見れば、標本平均と母平均を一致させて考えるということなのだが、この根拠はどこにあるのだろうか。確率分布を用いた点推定(=パラメトリックな推定)の方法として、有名なものに、**モーメント法(method of moments)**と**最尤法(most likelyfood method)**がある。\n",
    "\n",
    "1.モーメント法\n",
    "\n",
    "ある確率変数$X$について\n",
    "$$M_k(X) = \\int_{-\\infty}^{\\infty} (x - \\alpha)^k f(x)dx = E[(X-\\alpha)^k] \\in \\mathbb{R}$$\n",
    "を**$\\alpha$周りの$k$次モーメント**と呼ぶ。この量を母集団分布と標本から両方計算し、それらが一致するだろうという仮定を用いてパラメータを推定する方法。\n",
    "\n",
    "\n",
    "2.最尤法\n",
    "\n",
    "条件付き確率$f(x|\\theta)$を**尤度(likelyfood)**という。この尤度を$\\theta$の関数とみたとき(**=尤度関数**)にこれを最大とするような$\\theta$をパラメータとして採用することにする。これを**最尤法(most likelyfood method)**という。\n",
    "\n",
    "$\\theta$（パラメータ）の例：ポアソン分布の$\\lambda$,二項分布の$n$と$p$, 正規分布の$\\mu,\\sigma^2$.\n",
    "\n",
    "独立な事象が複数生起する場合の尤度は一般に多数の積を含む。これより、尤度関数に対数をかけたもの(**=対数尤度関数**)を用いることが多い。\n",
    "\n",
    "少し抽象的でわかりにくいので、例題を解きながら理解する。"
   ]
  },
  {
   "cell_type": "markdown",
   "metadata": {},
   "source": [
    "##### [問題]\n",
    "\n",
    "今、コインを10回投げたら、4回表がでた。このコインの表がでる確率$q$を最尤推定しなさい。"
   ]
  },
  {
   "cell_type": "markdown",
   "metadata": {},
   "source": [
    "##### [回答]\n",
    "尤度は以下のように表せる。\n",
    "$$p(X=4|q) = \\binom{10}{4} q^4(1-q)^6$$\n",
    "これをパラメータ$q$の関数として\n",
    "$$f(q) = \\binom{10}{4} q^4(1-q)^6$$\n",
    "とする。\n",
    "この関数の対数をとれば、\n",
    "$$\\log f(q) = \\log \\binom{10}{4} q^4(1-q)^6 = \\log \\binom{10}{4} + 4\\log q + 6 \\log(1-q)$$\n",
    "これを微分して\n",
    "$$\\frac{\\partial \\log f(q)}{\\partial q} = \\frac{4}{q} - \\frac{6}{1-q}$$\n",
    "極値条件から、\n",
    "$$\\frac{4}{q} - \\frac{6}{1-q} = 0 \\iff  q = \\frac{4}{10}$$\n",
    "\n",
    "したがって、$q = \\frac{4}{10}$のとき、対数尤度関数は最大値(=最大対数尤度)をとるので、最尤原理を採用すれば$q = \\frac{4}{10}$。"
   ]
  },
  {
   "cell_type": "code",
   "execution_count": 8,
   "metadata": {},
   "outputs": [
    {
     "data": {
      "text/plain": [
       "32"
      ]
     },
     "execution_count": 8,
     "metadata": {},
     "output_type": "execute_result"
    }
   ],
   "source": [
    "2**5 #Pythonのべき乗は**で表す"
   ]
  },
  {
   "cell_type": "code",
   "execution_count": 11,
   "metadata": {},
   "outputs": [
    {
     "name": "stdout",
     "output_type": "stream",
     "text": [
      "-0.0009529568999999997\n",
      "-0.0011943936\n",
      "-0.0009765625\n"
     ]
    },
    {
     "data": {
      "text/plain": [
       "      fun: -0.001194393246386612\n",
       " hess_inv: array([[19.99191196]])\n",
       "      jac: array([5.93259756e-06])\n",
       "  message: 'Optimization terminated successfully.'\n",
       "     nfev: 30\n",
       "      nit: 3\n",
       "     njev: 10\n",
       "   status: 0\n",
       "  success: True\n",
       "        x: array([0.40011921])"
      ]
     },
     "execution_count": 11,
     "metadata": {},
     "output_type": "execute_result"
    }
   ],
   "source": [
    "from scipy import optimize\n",
    "\n",
    "#負の尤度関数を定義→これが最小になるのが最尤法の解\n",
    "def mlf (x):\n",
    "    c = -x**4 * (1- x)**6\n",
    "    return c\n",
    "\n",
    "print(mlf(3/10))\n",
    "print(mlf(4/10))\n",
    "print(mlf(5/10))\n",
    "\n",
    "# https://en.wikipedia.org/w/index.php?oldid=844181818\n",
    "# https://docs.scipy.org/doc/scipy/reference/generated/scipy.optimize.minimize.html\n",
    "optimize.minimize(mlf, x0=0.1) #与えた関数の最小値を数値計算で求める→どうしてもズレがある"
   ]
  },
  {
   "cell_type": "markdown",
   "metadata": {},
   "source": [
    "##### [問題]\n",
    "一様分布$U[0, b]$がある。今、データ$x = [1, 4, 6, 7, 2]$が得られたときモーメント法により$b$を推定した場合と、最尤法により$b$を推定した場合を比較して検討しなさい。"
   ]
  },
  {
   "cell_type": "markdown",
   "metadata": {},
   "source": [
    "##### [回答]"
   ]
  },
  {
   "cell_type": "markdown",
   "metadata": {},
   "source": [
    "[モーメント法]\n",
    "\n",
    "まず、分布から平均値(原点周りの1次モーメント)を計算すれば、$\\frac{0 + b}{2} = \\frac{b}{2}$であることがわかる。\n",
    "標本から得られたデータの平均値は$\\frac{1 + 4 + 6 + 7 +2}{5} = 4$なので、これから$\\frac{b}{2} = 4 \\iff b = 8$と推定する。\n",
    "\n",
    "[最尤法]\n",
    "\n",
    "尤度は、$P(x|b) = (\\frac{1}{b})^5$である。これを最大にするにはできるだけ$b$は小さい方がいい。しかし、$b$は一様分布の最大値であり、データの中の最大値を下回ることは許されないので、$b = 7$と推定する。\n"
   ]
  },
  {
   "cell_type": "markdown",
   "metadata": {},
   "source": [
    "### 2.1.5 区間推定の方法\n",
    "\n",
    "次に区間推定を考える。区間推定には、推定したい母数$\\theta$に対して設定した推定量$\\hat{\\theta}$の確率分布を用いればよく、確率分布を用いるどのような推定法でもこのやり方で推定が可能である。"
   ]
  },
  {
   "cell_type": "markdown",
   "metadata": {},
   "source": [
    "## 3.2 具体的な推定法"
   ]
  },
  {
   "cell_type": "markdown",
   "metadata": {},
   "source": [
    "### 3.2.1 母平均の推定\n",
    "\n",
    "もっとも単純な母平均の区間推定について説明しよう。今、母平均$\\mu$をパラメータとし、標本平均$\\bar{x}$をエスティメータとする。このとき、$\\bar{x}$の分布は中心極限定理から、\n",
    "$$\\bar{x} \\sim N(\\mu, \\frac{\\sigma^2}{n})$$である。\n",
    "\n",
    "したがって、この確率分布は以下のようになっている。"
   ]
  },
  {
   "cell_type": "markdown",
   "metadata": {},
   "source": [
    "<center><img src=\"./imgs/sample_mean_distribution.png\" width=400px></center>"
   ]
  },
  {
   "cell_type": "markdown",
   "metadata": {},
   "source": [
    "上のように、この分布の95%部分を考えれば、\n",
    "\n",
    "$$\\mu - 1.96\\hspace{3pt} \\sqrt{\\frac{\\sigma^2}{n}} \\le \\bar{x} \\le \\mu + 1.96 \\hspace{3pt} \\sqrt{\\frac{\\sigma^2}{n}} $$\n",
    "\n",
    "この不等式を$\\mu$についてときなおせば、\n",
    "\n",
    "$$\\bar{x} - 1.96\\hspace{3pt} \\sqrt{\\frac{\\sigma^2}{n}} \\le \\mu \\le \\bar{x} + 1.96 \\hspace{3pt}\\sqrt{\\frac{\\sigma^2}{n}} $$\n",
    "\n",
    "これが母平均の95%の区間推定公式である。99%にしたければ、1.96を2.58に変えればいい。"
   ]
  },
  {
   "cell_type": "code",
   "execution_count": 23,
   "metadata": {},
   "outputs": [
    {
     "name": "stdout",
     "output_type": "stream",
     "text": [
      "標準正規分布のパーセンタイル点 1.959963984540054\n",
      "母平均の信頼区間 [ 9.912347745942341 , 10.087652254057659 ]\n"
     ]
    }
   ],
   "source": [
    "import numpy as np\n",
    "import matplotlib.pyplot as plt\n",
    "import seaborn as sns\n",
    "from scipy import stats\n",
    "\n",
    "n = 500 #500個のデータ\n",
    "sigma = 1 #母集団の分散\n",
    "mean = 10 #標本平均\n",
    "\n",
    "pt = stats.norm.ppf(0.975, loc=0, scale=1) #標準正規分布の97.5％点＝その間が95％になる点\n",
    "\n",
    "print(\"標準正規分布のパーセンタイル点\",pt)\n",
    "\n",
    "print(\"母平均の信頼区間 [\",mean-pt*np.sqrt(sigma**2/n),\",\",mean+pt*np.sqrt(sigma**2/n),\"]\")"
   ]
  },
  {
   "cell_type": "markdown",
   "metadata": {},
   "source": [
    "##### [問題]\n",
    "この式はこのままでは大抵の場合使えないが、それはなぜか。"
   ]
  },
  {
   "cell_type": "markdown",
   "metadata": {},
   "source": [
    "##### [回答]\n",
    "式中に$\\sigma^2$ 母集団分散が含まれているから。"
   ]
  },
  {
   "cell_type": "markdown",
   "metadata": {},
   "source": [
    "上で議論したように、このままでは母平均の区間推定公式は使えないので、母分散$\\sigma^2$を標本分散$s^2$で置きかえることを考える。この議論は自然である。しかしながら、これは問題がある。\n",
    "\n",
    "今、$\\sigma^2$が既知の状態で、確率変数$\\bar{x} \\sim N(\\mu, \\frac{\\sigma^2}{n})$の標準化変量\n",
    "$$z = \\frac{\\bar{x} - \\mu}{\\frac{\\sigma}{\\sqrt{n}}}$$を考える。このとき$z$は標準正規分布に従う。\n",
    "$$Z \\sim N(0 ,1)$$\n",
    "\n",
    "次に$$t = \\frac{\\bar{x} - \\mu}{\\frac{s}{\\sqrt{n}}}$$\n",
    "という量を考えてみる。ここで注意したいのは、$s$が$\\sigma$とは違い確率変数であるという点である。実は、この統計量は**$t$分布(t-distribution)**という確率分布に従う確率変数である。\n",
    "\n",
    "$t$分布の確率密度関数はガンマ関数$\\Gamma(z) = \\int_0^{\\infty} t^{z-1}e^{-t}dt$を用いて、\n",
    "$$f(t) = \\frac{\\Gamma(\\frac{\\nu+1}{2})}{\\sqrt{\\nu \\pi} \\Gamma(\\frac{\\nu}{2})} (1 + \\frac{t^2}{\\nu})^{\\frac{-(\\nu + 1)}{2}}$$\n",
    "\n",
    "この関数の導出は大変複雑なので省略するが、大切なのは式中の$\\nu$というパラメータであり、これを$t$分布の**自由度(degree of freedom)**という。自由度が変化すると分布の形状は連続的に変化していく。この自由度は標本サイズ$n$を用いて、$\\nu = n - 1$で与えられる。\n",
    "\n",
    "$t$分布は、正規分布と同様にベル型の確率分布であり、その中心は0である(分散は $\\frac{\\nu}{\\nu-2}$)が、正規分布と比べて裾が厚くなっている。しかしこの特徴は自由度が小さなときの特徴であり、自由度が十分高い場合は、$t$分布と正規分布は見分けがつかないほど似ている。$n \\to \\infty$の極限においては、$t$分布は正規分布と完全に一致している。"
   ]
  },
  {
   "cell_type": "code",
   "execution_count": 28,
   "metadata": {},
   "outputs": [
    {
     "data": {
      "image/png": "[encoded data removed]",
      "text/plain": [
       "<Figure size 432x288 with 1 Axes>"
      ]
     },
     "metadata": {},
     "output_type": "display_data"
    }
   ],
   "source": [
    "import matplotlib.pyplot as plt\n",
    "%matplotlib inline\n",
    "import scipy.stats as ss\n",
    "import numpy as np\n",
    "import seaborn as sns\n",
    "sns.set()\n",
    "\n",
    "#自由度\n",
    "degree_of_freedom = 5\n",
    "\n",
    "#x軸の数字の用意\n",
    "x = np.linspace(-5,5, 100) #arangeでもいい\n",
    "#print(x)\n",
    "\n",
    "#t分布は青\n",
    "plt.plot(x, ss.t(degree_of_freedom).pdf(x), color=\"blue\")\n",
    "\n",
    "#標準正規分布は赤\n",
    "plt.plot(x, ss.norm(0,1).pdf(x), color=\"red\")\n",
    "plt.show()"
   ]
  },
  {
   "cell_type": "code",
   "execution_count": 32,
   "metadata": {},
   "outputs": [
    {
     "name": "stdout",
     "output_type": "stream",
     "text": [
      "標準正規分布 1.959963984540054\n",
      "t(10)分布 2.2281388519649385\n"
     ]
    }
   ],
   "source": [
    "# 97.5パーセンタイル点の計算\n",
    "import scipy.stats as ss\n",
    "\n",
    "degree_of_freedom = 10\n",
    "\n",
    "print('標準正規分布', ss.norm(0,1).ppf(0.975))\n",
    "print(f't({degree_of_freedom})分布', ss.t(degree_of_freedom).ppf(0.975))"
   ]
  },
  {
   "cell_type": "code",
   "execution_count": 36,
   "metadata": {},
   "outputs": [
    {
     "data": {
      "text/plain": [
       "1.98349525849594"
      ]
     },
     "execution_count": 36,
     "metadata": {},
     "output_type": "execute_result"
    }
   ],
   "source": [
    "t = ss.t(102) #自由度10のt分布のインスタンス\n",
    "t.ppf(0.975) #自由度10のt分布の97.5%点"
   ]
  },
  {
   "cell_type": "markdown",
   "metadata": {},
   "source": [
    "##### [問題] \n",
    "ある実験を同じ条件で10回実験したところ、最終的な生成物の重量[g]に関して以下のようなデータが得られた。\n",
    "\n",
    "[12,13,12,17,10,14,18,10,9,12]\n",
    "\n",
    "最終生成物の重量の母平均の信頼区間を95%の信頼率で求めなさい。"
   ]
  },
  {
   "cell_type": "markdown",
   "metadata": {},
   "source": [
    "##### [回答]\n",
    "以下のscriptが回答。"
   ]
  },
  {
   "cell_type": "code",
   "execution_count": 39,
   "metadata": {},
   "outputs": [
    {
     "name": "stdout",
     "output_type": "stream",
     "text": [
      "平均 12.7 不偏標準偏差 2.94580681270476\n",
      "正規分布を使った場合 上限= 10.296611558653074 下限= 15.103388441346924\n",
      "t分布を使った場合 上限= 9.67262899892832 下限= 15.72737100107168\n",
      "(10.300496753863516, 15.099503246136482)\n",
      "(9.67262899892832, 15.72737100107168)\n"
     ]
    }
   ],
   "source": [
    "import matplotlib.pyplot as plt\n",
    "%matplotlib inline\n",
    "import scipy.stats as ss\n",
    "import numpy as np\n",
    "import seaborn as sns\n",
    "import scipy.stats as ss\n",
    "\n",
    "\n",
    "#データの定義\n",
    "weight = np.array([12,13,12,17,10,14,18,10,9,12])\n",
    "\n",
    "xbar = np.mean(weight)\n",
    "s = np.std(weight, ddof=1)\n",
    "print('平均', xbar,'不偏標準偏差', s)\n",
    "\n",
    "\n",
    "#正規分布を使った場合 ppf(0.025) = -1.96, ppf(0.975) = 1.96\n",
    "lwr1 = xbar + (- 2.58) * s/np.sqrt(len(weight))\n",
    "upr1 = xbar + 2.58 * s/np.sqrt(len(weight))\n",
    "print('正規分布を使った場合','上限=',lwr1,'下限=',upr1)\n",
    "\n",
    "\n",
    "#t分布の場合 P(ppf(0.025) ≦ t ≦ ppf(0975)) = 0.05\n",
    "#ss.t(len(weight)-1).ppf(0.025)=自由度n-1の2.5%点\n",
    "#ss.t(len(weight)-1).ppf(0.975)=自由度n-1の97.5%点\n",
    "lwr2 = xbar  + ss.t(len(weight)-1).ppf(0.005) * s/np.sqrt(len(weight))\n",
    "upr2 = xbar + ss.t(len(weight)-1).ppf(0.995) * s/np.sqrt(len(weight))\n",
    "print('t分布を使った場合','上限=',lwr2,'下限=',upr2)\n",
    "\n",
    "\n",
    "#関数でやるとこんな感じ\n",
    "print(ss.norm.interval(alpha=0.99,loc = xbar, scale=s/np.sqrt(len(weight))))\n",
    "print(ss.t.interval(alpha=0.99,df=len(weight)-1, loc=xbar, scale=s/np.sqrt(len(weight))))"
   ]
  },
  {
   "cell_type": "markdown",
   "metadata": {},
   "source": [
    "### 3.2.2 母平均の差の推定\n",
    "\n",
    "ここで学ぶのは**母平均の差の推定(estimation of difference of means)**である。これはのちに学ぶ$t$検定と対になる推定であり、もっともよく使う推定法の一つである。\n",
    "\n",
    "例えば、以下のようなデータを手に入れたとする。"
   ]
  },
  {
   "cell_type": "code",
   "execution_count": 40,
   "metadata": {},
   "outputs": [
    {
     "data": {
      "text/html": [
       "<div>\n",
       "<style scoped>\n",
       "    .dataframe tbody tr th:only-of-type {\n",
       "        vertical-align: middle;\n",
       "    }\n",
       "\n",
       "    .dataframe tbody tr th {\n",
       "        vertical-align: top;\n",
       "    }\n",
       "\n",
       "    .dataframe thead th {\n",
       "        text-align: right;\n",
       "    }\n",
       "</style>\n",
       "<table border=\"1\" class=\"dataframe\">\n",
       "  <thead>\n",
       "    <tr style=\"text-align: right;\">\n",
       "      <th></th>\n",
       "      <th>A</th>\n",
       "      <th>B</th>\n",
       "    </tr>\n",
       "  </thead>\n",
       "  <tbody>\n",
       "    <tr>\n",
       "      <th>0</th>\n",
       "      <td>10.1</td>\n",
       "      <td>5.2</td>\n",
       "    </tr>\n",
       "    <tr>\n",
       "      <th>1</th>\n",
       "      <td>11.2</td>\n",
       "      <td>4.5</td>\n",
       "    </tr>\n",
       "    <tr>\n",
       "      <th>2</th>\n",
       "      <td>12.5</td>\n",
       "      <td>10.3</td>\n",
       "    </tr>\n",
       "    <tr>\n",
       "      <th>3</th>\n",
       "      <td>10.2</td>\n",
       "      <td>11.1</td>\n",
       "    </tr>\n",
       "    <tr>\n",
       "      <th>4</th>\n",
       "      <td>5.1</td>\n",
       "      <td>7.2</td>\n",
       "    </tr>\n",
       "    <tr>\n",
       "      <th>5</th>\n",
       "      <td>6.7</td>\n",
       "      <td>9.8</td>\n",
       "    </tr>\n",
       "    <tr>\n",
       "      <th>6</th>\n",
       "      <td>8.1</td>\n",
       "      <td>6.5</td>\n",
       "    </tr>\n",
       "    <tr>\n",
       "      <th>7</th>\n",
       "      <td>9.9</td>\n",
       "      <td>4.5</td>\n",
       "    </tr>\n",
       "    <tr>\n",
       "      <th>8</th>\n",
       "      <td>10.3</td>\n",
       "      <td>6.8</td>\n",
       "    </tr>\n",
       "    <tr>\n",
       "      <th>9</th>\n",
       "      <td>11.4</td>\n",
       "      <td>5.4</td>\n",
       "    </tr>\n",
       "  </tbody>\n",
       "</table>\n",
       "</div>"
      ],
      "text/plain": [
       "      A     B\n",
       "0  10.1   5.2\n",
       "1  11.2   4.5\n",
       "2  12.5  10.3\n",
       "3  10.2  11.1\n",
       "4   5.1   7.2\n",
       "5   6.7   9.8\n",
       "6   8.1   6.5\n",
       "7   9.9   4.5\n",
       "8  10.3   6.8\n",
       "9  11.4   5.4"
      ]
     },
     "execution_count": 40,
     "metadata": {},
     "output_type": "execute_result"
    }
   ],
   "source": [
    "import pandas as pd\n",
    "drink = pd.read_csv(\"./data/drink_t.csv\", encoding=\"utf-8\") #tidyでないデータ\n",
    "drink"
   ]
  },
  {
   "cell_type": "markdown",
   "metadata": {},
   "source": [
    "このデータは、ある特定保険飲料を12週継続摂取した群(B群)と、対照飲料を摂取した群(A群)の空腹時血中中性脂肪量の測定値である。また事前の調査で摂取前には中性脂肪量には差がないことがわかっているとする。"
   ]
  },
  {
   "cell_type": "code",
   "execution_count": 41,
   "metadata": {},
   "outputs": [
    {
     "name": "stdout",
     "output_type": "stream",
     "text": [
      "A    9.55\n",
      "B    7.13\n",
      "dtype: float64\n",
      "A    2.267769\n",
      "B    2.449512\n",
      "dtype: float64\n"
     ]
    }
   ],
   "source": [
    "#平均と分散の計算\n",
    "import numpy as np\n",
    "print(np.mean(drink))\n",
    "print(np.std(drink, ddof=1))"
   ]
  },
  {
   "cell_type": "markdown",
   "metadata": {},
   "source": [
    "<center><img src=\"./imgs/dif_mean.png\" width=400px></center>"
   ]
  },
  {
   "cell_type": "markdown",
   "metadata": {},
   "source": [
    "上図のように記号を定義しておく。この場合でも、母平均の区間推定の場合と同様に必要なのはエスティメータである$d$の分布である。\n",
    "$d$の分布は、正規分布の再生性から以下のように与えられる。\n",
    "\n",
    "$$d \\sim N(\\delta, \\frac{\\sigma_1^2}{m} +\\frac{\\sigma_2^2}{n})$$\n",
    "\n",
    "このことから、母平均の差の95%信頼区間は\n",
    "\n",
    "$$d - 1.96 \\hspace{3pt} \\sqrt{\\frac{\\sigma_1^2}{m} +\\frac{\\sigma_2^2}{n}} \\le \\delta \\le d  +  1.96 \\hspace{3pt} \\sqrt{\\frac{\\sigma_1^2}{m} +\\frac{\\sigma_2^2}{n}}$$\n",
    "\n",
    "となるが、母平均の差の検定のときと同様の問題で、通常$\\sigma_1, \\sigma_2$は未知である。そこで、やはり$t$分布を使用する。この場合の自由度はいくつかの検定手法によって異なる。"
   ]
  },
  {
   "cell_type": "markdown",
   "metadata": {},
   "source": [
    "<center><img src=\"./imgs/t-flow.png\" width=400px></center>"
   ]
  },
  {
   "cell_type": "markdown",
   "metadata": {},
   "source": [
    "何やら複雑な感じがするが、実用上は最下部の方法のみを覚えておけばいい。このやり方を**Welchの推定(Welch's t-estimation)**と呼ぶ(その上はStudentの推定と呼ばれる)。ただし、自由度の計算の導出はかなり難しいので覚える必要はない。それでは先のデータに戻って推定をしてみよう。"
   ]
  },
  {
   "cell_type": "code",
   "execution_count": 42,
   "metadata": {},
   "outputs": [
    {
     "data": {
      "text/html": [
       "<div>\n",
       "<style scoped>\n",
       "    .dataframe tbody tr th:only-of-type {\n",
       "        vertical-align: middle;\n",
       "    }\n",
       "\n",
       "    .dataframe tbody tr th {\n",
       "        vertical-align: top;\n",
       "    }\n",
       "\n",
       "    .dataframe thead th {\n",
       "        text-align: right;\n",
       "    }\n",
       "</style>\n",
       "<table border=\"1\" class=\"dataframe\">\n",
       "  <thead>\n",
       "    <tr style=\"text-align: right;\">\n",
       "      <th></th>\n",
       "      <th>A</th>\n",
       "      <th>B</th>\n",
       "    </tr>\n",
       "  </thead>\n",
       "  <tbody>\n",
       "    <tr>\n",
       "      <th>0</th>\n",
       "      <td>10.1</td>\n",
       "      <td>5.2</td>\n",
       "    </tr>\n",
       "    <tr>\n",
       "      <th>1</th>\n",
       "      <td>11.2</td>\n",
       "      <td>4.5</td>\n",
       "    </tr>\n",
       "    <tr>\n",
       "      <th>2</th>\n",
       "      <td>12.5</td>\n",
       "      <td>10.3</td>\n",
       "    </tr>\n",
       "    <tr>\n",
       "      <th>3</th>\n",
       "      <td>10.2</td>\n",
       "      <td>11.1</td>\n",
       "    </tr>\n",
       "    <tr>\n",
       "      <th>4</th>\n",
       "      <td>5.1</td>\n",
       "      <td>7.2</td>\n",
       "    </tr>\n",
       "    <tr>\n",
       "      <th>5</th>\n",
       "      <td>6.7</td>\n",
       "      <td>9.8</td>\n",
       "    </tr>\n",
       "    <tr>\n",
       "      <th>6</th>\n",
       "      <td>8.1</td>\n",
       "      <td>6.5</td>\n",
       "    </tr>\n",
       "    <tr>\n",
       "      <th>7</th>\n",
       "      <td>9.9</td>\n",
       "      <td>4.5</td>\n",
       "    </tr>\n",
       "    <tr>\n",
       "      <th>8</th>\n",
       "      <td>10.3</td>\n",
       "      <td>6.8</td>\n",
       "    </tr>\n",
       "    <tr>\n",
       "      <th>9</th>\n",
       "      <td>11.4</td>\n",
       "      <td>5.4</td>\n",
       "    </tr>\n",
       "  </tbody>\n",
       "</table>\n",
       "</div>"
      ],
      "text/plain": [
       "      A     B\n",
       "0  10.1   5.2\n",
       "1  11.2   4.5\n",
       "2  12.5  10.3\n",
       "3  10.2  11.1\n",
       "4   5.1   7.2\n",
       "5   6.7   9.8\n",
       "6   8.1   6.5\n",
       "7   9.9   4.5\n",
       "8  10.3   6.8\n",
       "9  11.4   5.4"
      ]
     },
     "execution_count": 42,
     "metadata": {},
     "output_type": "execute_result"
    }
   ],
   "source": [
    "drink"
   ]
  },
  {
   "cell_type": "code",
   "execution_count": 49,
   "metadata": {},
   "outputs": [
    {
     "name": "stdout",
     "output_type": "stream",
     "text": [
      "d = 2.42\n",
      "標準誤差（標準化してt分布にするときの分母）= 1.0555988295223184\n",
      "自由度 = 17.89407146000646\n"
     ]
    },
    {
     "data": {
      "text/plain": [
       "(0.5889372637283155, 4.251062736271684)"
      ]
     },
     "execution_count": 49,
     "metadata": {},
     "output_type": "execute_result"
    }
   ],
   "source": [
    "import scipy.stats as ss\n",
    "\n",
    "#標本平均の差。これが従う分布の平均を調べたい！\n",
    "d = np.mean(drink.A) - np.mean(drink.B)\n",
    "\n",
    "#今回の標準誤差＝推定量（d）の標準偏差\n",
    "ste = np.sqrt(np.var(drink.A, ddof=1)/len(drink.A)  +  np.var(drink.B, ddof=1)/len(drink.B))\n",
    "\n",
    "#自由度＝Degree of Freedom = df の計算。ここは一旦公式に従いましょう。\n",
    "w_df_bunshi = (np.var(drink.A, ddof=1)/len(drink.A)  +  np.var(drink.B,ddof=1)/len(drink.B))**2\n",
    "w_df_bunbo = np.var(drink.A, ddof=1)**2/(len(drink.A)**2 * (len(drink.A)-1))  + np.var(drink.B, ddof=1)**2/(len(drink.B)**2 * (len(drink.B)-1))\n",
    "w_df = w_df_bunshi/w_df_bunbo\n",
    "print(\"d =\",d)\n",
    "print(\"標準誤差（標準化してt分布にするときの分母）=\", ste)\n",
    "print(\"自由度 =\", w_df)\n",
    "\n",
    "#自由度 w_df, 標本平均 d, 標準誤差 steの状況での t分布を用いた信頼係数95%の区間推定\n",
    "ss.t.interval(alpha=0.90, df=w_df, loc=d, scale=ste) "
   ]
  },
  {
   "cell_type": "markdown",
   "metadata": {},
   "source": [
    "### 3.2.3 母分散の推定\n",
    "\n",
    "**母分散の推定(estimation of variance)**は、次の式で表される$\\chi^2$統計量が自由度$n-1$の$\\chi^2$分布に従うことを用いて計算される。\n",
    "\n",
    "$$\\chi^2 = \\frac{(n-1)s^2}{\\sigma^2}$$\n",
    "\n",
    "$$\\sigma^2 = \\text{母分散}, s^2 = \\text{標本（不偏）分散}$$\n",
    "\n",
    "[$\\chi^2$分布とは]\n",
    "標準正規分布に従う確率変数$X_1, X_2, \\cdots X_k$の二乗和、すなわち$$\\chi^2 = X_1^2 + X_2^2 + \\cdots + X_k^2$$\n",
    "は自由度$k$の$\\chi^2$分布に従う。この密度関数は以下だが、覚える必要はない。\n",
    "\n",
    "$$f(x) = \\frac{x^{\\frac{k}{2}-1} e^{\\frac{-x}{2}}}{2^{\\frac{k}{2}} \\Gamma(\\frac{k}{2})}$$\n",
    "\n",
    "母分散の推定について、以下の問題を解きながら解説する。"
   ]
  },
  {
   "cell_type": "code",
   "execution_count": 55,
   "metadata": {},
   "outputs": [
    {
     "data": {
      "image/png": "[encoded data removed]",
      "text/plain": [
       "<Figure size 432x288 with 1 Axes>"
      ]
     },
     "metadata": {},
     "output_type": "display_data"
    }
   ],
   "source": [
    "import matplotlib.pyplot as plt\n",
    "%matplotlib inline\n",
    "import scipy.stats as ss\n",
    "import numpy as np\n",
    "import seaborn as sns\n",
    "sns.set()\n",
    "\n",
    "#自由度\n",
    "degree_of_freedom = 20\n",
    "\n",
    "#x軸の数字の用意, chi二乗は0以上しかとらない\n",
    "x = np.linspace(-1,100, 1000) #arangeでもいい\n",
    "\n",
    "#分布の形（カイ二乗分布のインスタンスのpdf関数のグラフ）\n",
    "plt.plot(x, ss.chi2(degree_of_freedom).pdf(x), color=\"black\")\n",
    "\n",
    "plt.show()"
   ]
  },
  {
   "cell_type": "markdown",
   "metadata": {},
   "source": [
    "- カイ二乗分布は正の値のみ、左右非対称"
   ]
  },
  {
   "cell_type": "code",
   "execution_count": 56,
   "metadata": {},
   "outputs": [
    {
     "name": "stdout",
     "output_type": "stream",
     "text": [
      "   day  price\n",
      "0    1    190\n",
      "1    2    200\n",
      "2    3    230\n",
      "3    4    200\n",
      "4    5    230\n",
      "5    6    250\n",
      "6    7    220\n",
      "7    8    190\n",
      "8    9    200\n",
      "9   10    210\n"
     ]
    }
   ],
   "source": [
    "import pandas as pd\n",
    "stock = pd.read_csv(\"./data/price.csv\", encoding=\"utf-8\")\n",
    "print(stock)"
   ]
  },
  {
   "cell_type": "markdown",
   "metadata": {},
   "source": [
    "以下のデータは、ある株式の終値を集めてきたものである。このpriceの信頼率95%の母分散の区間推定を行ってみよう。"
   ]
  },
  {
   "cell_type": "code",
   "execution_count": 57,
   "metadata": {},
   "outputs": [
    {
     "data": {
      "text/plain": [
       "(395.55555555555554, 19.888578520235065)"
      ]
     },
     "execution_count": 57,
     "metadata": {},
     "output_type": "execute_result"
    }
   ],
   "source": [
    "import numpy as np\n",
    "#標本分散\n",
    "np.var(stock.price, ddof=1), np.std(stock.price, ddof=1)"
   ]
  },
  {
   "cell_type": "markdown",
   "metadata": {},
   "source": [
    "$\\chi^2$値は以下のような分布に従う。"
   ]
  },
  {
   "cell_type": "markdown",
   "metadata": {},
   "source": [
    "<center><img src=\"./imgs/chi-dis.png\" width=400px></center>"
   ]
  },
  {
   "cell_type": "markdown",
   "metadata": {},
   "source": [
    "これより、\n",
    "$$\\chi^2_{0.025}(9) \\le \\frac{(n-1)s^2}{\\sigma^2} \\le \\chi^2_{0.975}(9)$$\n",
    "これを以下のようにとき直して、\n",
    "$$ \\frac{(n-1)s^2}{\\chi^2_{0.975}(9)} \\le \\sigma^2 \\le \\frac{(n-1)s^2}{\\chi^2_{0.025}(9)}$$"
   ]
  },
  {
   "cell_type": "code",
   "execution_count": 59,
   "metadata": {},
   "outputs": [
    {
     "name": "stdout",
     "output_type": "stream",
     "text": [
      "2.5パーセンタイル点 2.7003894999803584\n",
      "97.5パーセンタイル点 19.02276779864163\n"
     ]
    }
   ],
   "source": [
    "import scipy.stats as ss\n",
    "\n",
    "#chi^2分布のパーセンタイル点を求める\n",
    "print('2.5パーセンタイル点', ss.chi2(9).ppf(0.025))\n",
    "print('97.5パーセンタイル点', ss.chi2(9).ppf(0.975))"
   ]
  },
  {
   "cell_type": "code",
   "execution_count": 60,
   "metadata": {},
   "outputs": [
    {
     "name": "stdout",
     "output_type": "stream",
     "text": [
      "下限 187.14416522784927 上限 1318.3283374586867\n"
     ]
    }
   ],
   "source": [
    "lwr = (len(stock.price)-1)*np.var(stock.price, ddof = 1)/ss.chi2(len(stock.price)-1).ppf(0.975)\n",
    "upr = (len(stock.price)-1)*np.var(stock.price, ddof = 1)/ss.chi2(len(stock.price)-1).ppf(0.025)\n",
    "print('下限', lwr, '上限', upr)"
   ]
  },
  {
   "cell_type": "code",
   "execution_count": 61,
   "metadata": {},
   "outputs": [
    {
     "name": "stdout",
     "output_type": "stream",
     "text": [
      "13.6800645184096 36.30879146238121\n"
     ]
    }
   ],
   "source": [
    "print(np.sqrt(lwr), np.sqrt(upr))"
   ]
  },
  {
   "cell_type": "code",
   "execution_count": 62,
   "metadata": {},
   "outputs": [
    {
     "name": "stdout",
     "output_type": "stream",
     "text": [
      "   day  price\n",
      "0    1    190\n",
      "1    2    200\n",
      "2    3    230\n",
      "3    4    200\n",
      "4    5    230\n",
      "5    6    250\n",
      "6    7    220\n",
      "7    8    190\n",
      "8    9    200\n",
      "9   10    210\n"
     ]
    }
   ],
   "source": [
    "print(stock)"
   ]
  },
  {
   "cell_type": "markdown",
   "metadata": {},
   "source": [
    "### 3.2.4 母比率の推定\n",
    "\n",
    "次に**母比率の推定(estimation of population proportion)**を紹介する。\n",
    "\n",
    "以下のような状況を例にとる。\n",
    "\n",
    "[ある市の学習扶助率を推定したい。サンプルサイズ$n = 1000$の標本を調査し、標本比率$p = 0.10$を得た。この市の母集団比率$\\rho$を95%の信頼率で区間推定せよ。]"
   ]
  },
  {
   "cell_type": "markdown",
   "metadata": {},
   "source": [
    "<center><img src=\"./imgs/ratio-est.png\" width=400px></center>"
   ]
  },
  {
   "cell_type": "markdown",
   "metadata": {},
   "source": [
    "このとき、標本比率$p$の確率分布は\n",
    "$$ p \\sim N(\\rho, \\frac{\\rho(1-\\rho)}{n})$$\n",
    "と与えられる。"
   ]
  },
  {
   "cell_type": "markdown",
   "metadata": {},
   "source": [
    "##### [問題] \n",
    "$p = \\frac{\\sum x_k}{n}$であることから、上の式を導いてみよ。($x_k$は1, 0 をとる確率変数)"
   ]
  },
  {
   "cell_type": "markdown",
   "metadata": {},
   "source": [
    "##### [回答]"
   ]
  },
  {
   "cell_type": "markdown",
   "metadata": {},
   "source": [
    "$\\sum x_k$の確率分布は二項分布であると考えられる。二項分布の場合、\n",
    "\n",
    "$$E(X) = n\\rho$$\n",
    "$$V(X) = n\\rho(1-\\rho)$$\n",
    "\n",
    "したがって、$p$の平均と分散は\n",
    "$$E(X) = \\frac{np}{n} = \\rho $$\n",
    "$$V(X) = \\frac{n\\rho(1-\\rho)}{n^2} = \\frac{\\rho(1-\\rho)}{n}$$\n",
    "\n",
    "また、$n$が十分大きいとき二項分布は正規分布に近似できるから、\n",
    "$$p \\sim N(\\rho, \\frac{\\rho(1-\\rho)}{n})$$\n"
   ]
  },
  {
   "cell_type": "markdown",
   "metadata": {},
   "source": [
    "さて、この式から\n",
    "$$ p - 1.96 \\sqrt{\\frac{\\rho(1-\\rho)}{n}} \\le \\rho \\le p+ 1.96 \\sqrt{\\frac{\\rho(1-\\rho)}{n}}$$"
   ]
  },
  {
   "cell_type": "markdown",
   "metadata": {},
   "source": [
    "という区間推定公式が得られる。いつものように、母集団比率$\\rho$が式中に含まれているため計算が厳密に言えばこのままでは計算不可能だが、この**母比率の区間推定の場合は母集団比率$\\rho$を単に標本比率$p$に置き換えて計算するだけで良い**($t$分布は使用しない)。これには、そもそもこの正規分布による近似が、ある程度の標本サイズがないと通用しないことからきている。したがって、最終的に以下の式を得る。"
   ]
  },
  {
   "cell_type": "markdown",
   "metadata": {},
   "source": [
    "$$ p - 1.96 \\sqrt{\\frac{p(1-p)}{n}} \\le \\rho \\le p+ 1.96 \\sqrt{\\frac{p(1-p)}{n}}$$"
   ]
  },
  {
   "cell_type": "code",
   "execution_count": 65,
   "metadata": {},
   "outputs": [
    {
     "name": "stdout",
     "output_type": "stream",
     "text": [
      "下限 0.08140580735820993 上限 0.11859419264179008\n"
     ]
    }
   ],
   "source": [
    "#母比率の区間推定\n",
    "p = 0.1\n",
    "n= 1000\n",
    "lwr = p - 1.96*np.sqrt(p*(1-p)/n)\n",
    "upr = p + 1.96*np.sqrt(p*(1-p)/n)\n",
    "print('下限', lwr, '上限', upr)"
   ]
  },
  {
   "cell_type": "markdown",
   "metadata": {},
   "source": [
    "少し、推定の本筋から脱線するが、以下のような問題を考えてみよう。"
   ]
  },
  {
   "cell_type": "markdown",
   "metadata": {},
   "source": [
    "##### [問題]　\n",
    "内閣支持率の調査を95%の信頼率で、信頼区間の幅0.1を上限として行いたい。このとき必要なサンプルサイズの下限はいくつか。整数値で答えよ。"
   ]
  },
  {
   "cell_type": "markdown",
   "metadata": {},
   "source": [
    "##### [回答]\n",
    "\n",
    "区間推定の公式から、信頼区間の幅は$2 \\times 1.96 \\sqrt{\\frac{p(1-p)}{n}}$になるとわかるので、以下の不等式が成立する。\n",
    "\n",
    "$$2 \\times 1.96  \\sqrt{\\frac{p(1-p)}{n}} \\le 0.1$$\n",
    "\n",
    "これを$n$について解きたいが、$n$以外にも未知変数$p$が式中に含まれている。そこで、信頼区間が最大になるときの$p$を考え、そのときでも不等式が成立するような$n$を求めることにする。\n",
    "\n",
    "信頼区間が最大となるのは、明らかに$p =0.5$のときなので、不等式は\n",
    "$$2 \\times 1.96  \\sqrt{\\frac{0.5(1-0.5)}{n}} \\le 0.1$$\n",
    "となる。これを$n$について解けば、\n",
    "$$\\sqrt{n} \\ge 19.6$$\n",
    "$$n \\ge 384.16$$\n",
    "\n",
    "求める答えは、$n = 385$である。"
   ]
  },
  {
   "cell_type": "markdown",
   "metadata": {},
   "source": [
    "この問題で覚えておきたいのは、サンプルサイズ計算は、\n",
    "\n",
    "**1. どのような統計手法を最終的に用いるのか**\n",
    "\n",
    "**2. その手法を使う際に、許容する誤差はどの程度か**\n",
    "\n",
    "を決めなければ出来ないということである。"
   ]
  }
 ],
 "metadata": {
  "kernelspec": {
   "display_name": "Python 3",
   "language": "python",
   "name": "python3"
  },
  "language_info": {
   "codemirror_mode": {
    "name": "ipython",
    "version": 3
   },
   "file_extension": ".py",
   "mimetype": "text/x-python",
   "name": "python",
   "nbconvert_exporter": "python",
   "pygments_lexer": "ipython3",
   "version": "3.7.6"
  }
 },
 "nbformat": 4,
 "nbformat_minor": 2
}
