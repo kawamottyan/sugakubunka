{
 "cells": [
  {
   "cell_type": "markdown",
   "metadata": {},
   "source": [
    "# 4　統計的仮説検定\n",
    "\n",
    "## 4.1　検定の理論\n",
    "### 4.1.1　導入(確率的背理法としての検定)\n",
    "\n",
    "統計学的仮説検定は、ある**命題**(proposition)に対して、その真偽を判断する方法の一つである。\n",
    "通常の数学における真偽の判断と、統計学的な仮説検定にはどのような考え方の違いが存在するだろうか。\n",
    "そのことについて考えるために以下のような問題を考える。"
   ]
  },
  {
   "cell_type": "markdown",
   "metadata": {},
   "source": [
    "[問題]　道を歩いていたら、遠くからとても背が高い人が歩いて来た。遠目なのでよくわからないが身長2m以上はありそうだ。この時あなたは「背が高い人だなぁ、多分日本人ではないだろうな」と思った。この判断は正しいか。また、この判断をするときあなたは何を知っているのか。"
   ]
  },
  {
   "cell_type": "markdown",
   "metadata": {},
   "source": [
    "[回答]　まず命題を正確に定義する。命題とは真偽の判断が可能な文章のことである。\n",
    "今回の命題は、「身長2m以上の人は日本人でない。」である。この真偽を考える。\n",
    "\n",
    "[数学]　正しくない。なぜなら2m以上の日本人も1人以上はいるから。\n",
    "\n",
    "[統計学] 2m以上の日本人は本当にまれにしかいないから、日本人であるという判断は間違いである可能性が高い。よって、日本人でないと判断して良い。\n",
    "\n",
    "日本人の身長の**確率分布を経験的に知っている**から、このような判断が可能になる。"
   ]
  },
  {
   "cell_type": "markdown",
   "metadata": {},
   "source": [
    "このように、統計学ではある命題の真偽を**確率的に判断**することを許容している。通常、数学では絶対の真理(あえて確率的な物言いをすれば100%正しいこと)しか真と認めない。例えば、命題「ある実数を2乗すれば正の数になる」は偽である。先の例のように、抽象化された数学の命題ならまだしも、現実の問題で100%の精度で成り立つ命題は限られてくるため、統計学的仮説検定は現実的な判断方法であると言えよう。\n",
    "\n",
    "また、このとき一旦示したいことの逆を考えていることに注意しよう。つまり、この例では**日本人でないことを示したい**(対立仮説alternative hypothesisという)のだが、**日本人であったとしたら**(帰無仮説null hypothesisという)その身長の確率分布は？という思考の過程があるはずだ。その上で、日本人出会ったとしたら確率が低すぎるために(統計学的に)**矛盾する**としているのである。\n",
    "\n",
    "このように、示したいことの逆が成立すると一旦仮定して矛盾を導くやり方を数学では**背理法**(proof by contradiction)と呼ぶ。そのため統計学的仮説検定は、**確率付きの背理法**といわれる。"
   ]
  },
  {
   "cell_type": "markdown",
   "metadata": {},
   "source": [
    "### 4.1.2　具体例(二項検定)\n",
    "\n",
    "\n",
    "先の例は数学的に扱いずらいので、ここでは、もう少し扱いやすい例で説明する。\n",
    "\n",
    "[例]　あるコインを20回繰り返し投げて、その裏表で賭け事をする。1回のレートは1万円。コインは私が用意する。\n",
    "\n",
    "表：私の勝ち\n",
    "裏：みなさん勝ち\n",
    "\n",
    "このとき、15回の表が出た。私の用意したコインはイカサマコインだろうか？"
   ]
  },
  {
   "cell_type": "markdown",
   "metadata": {},
   "source": [
    "<center><img src=\"./imgs/img_coin1.png\" width=200px></center>"
   ]
  },
  {
   "cell_type": "markdown",
   "metadata": {},
   "source": [
    "このとき、示したい命題を定義すれば、「このコインは歪んでいる」となるだろう。これを$H_1$として、**対立仮説**(alternative hypothesis)と呼ぶ。そして一旦この逆を考えよう。それは「このコインは歪んでない」となる。これを$H_0$として、**帰無仮説**(null hypothesis)という。\n",
    "\n",
    "次にこれらの命題を数式にして簡潔な形で表現する。すると、表の出る確率を$\\rho$とすれば、以下のように表現できるであろう。\n",
    "\n",
    "$$H_0：\\rho = \\frac{1}{2}$$\n",
    "\n",
    "$$H_1： \\rho \\neq \\frac{1}{2}$$\n",
    "\n",
    "そして、この後に一旦$H_0$を正しいとして、表の出る回数$X$の確率分布を考える。"
   ]
  },
  {
   "cell_type": "markdown",
   "metadata": {},
   "source": [
    "すなわち、一般的に仮説検定をするには**母数に対しての命題をたて、帰無仮説が正しいと仮定したときのその推定量(もしくはそれに関連する量)の分布を考える。**その上で、**今回起こったこと(それよりも起こりづらいことも含む)の確率を計算して、それが非常に小さいことを示す。**さすれば、**帰無仮説が正しいと仮定すると、非常に低い確率でしか起こらないはずのことが起きてしまっているので、帰無仮説を諦めて(=棄却するreject)、対立仮説を採用(accept)する。**以上が仮説検定の流れである。"
   ]
  },
  {
   "cell_type": "markdown",
   "metadata": {},
   "source": [
    "さて、問題に戻ってみると今回注目すべき確率変数は表の出る回数$X$でこれは明らかに二項分布に従うだろう。$\\rho$が未知のため、その二項分布のパラメータは本来定まらないが、検定の場合は$H_0$が正しい場合の$p$の確率分布を考えれば良いことに注意すれば、\n",
    "\n",
    "$$X \\sim B(20, \\frac{1}{2})$$\n",
    "\n",
    "と言える。"
   ]
  },
  {
   "cell_type": "markdown",
   "metadata": {},
   "source": [
    "この分布に$X$が従うとき、二項分布の累積確率を計算する`Python`の関数を用いて、15回以上表がでる確率(**片側p値 one-side p-value**)を求めてみよう。ここで、15回のときだけでなく、15回以上とした方が良いことは明らかであろう。"
   ]
  },
  {
   "cell_type": "code",
   "execution_count": 1,
   "metadata": {},
   "outputs": [
    {
     "name": "stdout",
     "output_type": "stream",
     "text": [
      "0.020694732666015625\n"
     ]
    }
   ],
   "source": [
    "import scipy.stats as ss\n",
    "\n",
    "#cdfは累積分布関数\n",
    "c_prob = 1 - ss.binom.cdf(14, 20, 1/2) #片側p値ともいう。\n",
    "print(c_prob)"
   ]
  },
  {
   "cell_type": "markdown",
   "metadata": {},
   "source": [
    "このことから、帰無仮説が正しいとしたときに20回コインを投げて15回以上表の出る確率は、約0.02であることがわかる。さてこれは稀な事象といえるだろうか？判断する人や状況によって稀かどうかの判断は異なる。そこで統一的な基準として、**有意水準**(significant level)という稀の基準を設ける。有意水準は$\\alpha$で表され、通常0.05や0.01が採用される。ただしこれは必然ではない。そして有意水準より小さな$p値$の場合、今回の出来事は稀だと判断する。"
   ]
  },
  {
   "cell_type": "code",
   "execution_count": 2,
   "metadata": {},
   "outputs": [
    {
     "name": "stdout",
     "output_type": "stream",
     "text": [
      "0.020694732666015625\n"
     ]
    }
   ],
   "source": [
    "p_greater = ss.binom_test(15, 20, 1/2, alternative = \"greater\") #片側p値\n",
    "print(p_greater)"
   ]
  },
  {
   "cell_type": "code",
   "execution_count": 3,
   "metadata": {},
   "outputs": [
    {
     "name": "stdout",
     "output_type": "stream",
     "text": [
      "0.04138946533203125\n"
     ]
    }
   ],
   "source": [
    "p_two = ss.binom_test(15, 20, 1/2, alternative = \"two-sided\") #両側p値\n",
    "print(p_two)"
   ]
  },
  {
   "cell_type": "markdown",
   "metadata": {},
   "source": [
    "##### [問題]\n",
    "両側検定と片側検定ということについて調べてみよ。"
   ]
  },
  {
   "cell_type": "markdown",
   "metadata": {},
   "source": [
    "##### [回答]\n",
    "両側検定$$H_1：\\rho \\neq \\frac{1}{2}$$\n",
    "片側検定$$H_1：\\rho  > \\frac{1}{2}$$"
   ]
  },
  {
   "cell_type": "markdown",
   "metadata": {},
   "source": [
    "現代では、直接的に両側、片側$p$値を計算して、判断することが多いが、実際には$p$値がわからなくても、$p$値が**有意水準を下回っているのか**だけわかれば事足りる。この方法は後に説明する。"
   ]
  },
  {
   "cell_type": "markdown",
   "metadata": {},
   "source": [
    "##### [問題]\n",
    "\n",
    "なぜ、対立仮説を示したいのに、一旦帰無仮説を考えてそれを棄却するという遠回りな方法を使っているのか。"
   ]
  },
  {
   "cell_type": "markdown",
   "metadata": {},
   "source": [
    "##### [回答]\n",
    "帰無仮説を仮定しないと、確率計算が不可能だから。"
   ]
  },
  {
   "cell_type": "markdown",
   "metadata": {},
   "source": [
    "### 4.1.3　第１種の誤りと第２種の誤り"
   ]
  },
  {
   "cell_type": "markdown",
   "metadata": {},
   "source": [
    "先の節で、統計学的仮説検定は確率付きの手法であると述べた。このことは、検定には常に**誤った判断をする**危険性が付いて回ることと等しい。誤った判断を検定の**過誤**(error)という。統計学的検定における判断は、絶対的な**真実**(truth)ではなく、あくまで確率合理的な**判断**(judgement)であることを忘れてはならない。"
   ]
  },
  {
   "cell_type": "markdown",
   "metadata": {},
   "source": [
    "過誤には以下の２種類がある。\n",
    "\n",
    "| 判断\\真実 | H_0 True | H_0 False |\n",
    "|:-----|:-----|:------|\n",
    "| H_0 accept | ◯ | type 2 error |\n",
    "| H_0 reject | type 1 error | ◯ |\n"
   ]
  },
  {
   "cell_type": "markdown",
   "metadata": {},
   "source": [
    "上の表のように、$H_0$が真実のとき、$H_0$を棄却するという判断を下す過誤を、**第1種の誤り**(type1 error)といい、$H_0$が真実でないときに、$H_0$を受容するという判断を下すエラーを**第2種の誤り**(type2 error)という。また、第1種の誤りを犯す確率を$\\alpha$、第二種の誤りを犯す確率を$\\beta$と呼ぶ。\n",
    "\n",
    "ここで、有意水準$\\alpha$と第1種の誤りを犯す確率である$\\alpha$が同じ文字であわらされることに注意しよう。これらは本質的に同じであるから、同じ文字で表す(よく考えてみよう)。それに対して$\\beta$の方の計算は容易にではない。有意水準$\\alpha$は自分で設定できるのだから、すなわち第1種の誤りを犯す確率はコントロールできるの。ただし、$\\alpha$と$\\beta$はトレードオフの関係にあるので、両方のエラーを同時に減らすということはできない(標本サイズを大きくすること以外には)。"
   ]
  },
  {
   "cell_type": "markdown",
   "metadata": {},
   "source": [
    "## 4.2　具体的な検定"
   ]
  },
  {
   "cell_type": "markdown",
   "metadata": {},
   "source": [
    "### 4.2.1 母平均の検定(1-sample t-test)\n",
    "\n",
    "母平均と比較値が等しいかどうかを確認する手法が**母平均の検定**である。この検定は俗に**1sample t-test**と呼ばれる。\n",
    "検定は、その適用する状況に応じて正しく使い分けをしなくてはならないので、問題を見ながら適用のシチュエーションを理解しよう。\n",
    "\n",
    "\n",
    "[例題]\n",
    "\n",
    "50代男性の最高血圧測定結果として$n = 100$の標本をえた。標本の平均値は139.5であり、不偏標準偏差は20である。このとき「50代男性の最高血圧の平均は135より高い」という命題をどう判断すべきか。有意水準を適宜設定して統計学的仮説検定により結論を導け。\n"
   ]
  },
  {
   "cell_type": "markdown",
   "metadata": {},
   "source": [
    "<center><img src=\"./imgs/1-sample-t.fig.png\" width=400px></center>"
   ]
  },
  {
   "cell_type": "markdown",
   "metadata": {},
   "source": [
    "ここで、検定の手順をまとめておこう。\n",
    "\n",
    "\n",
    "1. 母集団を定義する。\n",
    "2. 母数に対して仮説をたてる。帰無仮説と対立仮説を数式を使って明確にする。\n",
    "3. 帰無仮説が正しいと仮定した元での、2.で決めた母数に対する推定量(もしくはそれに関連する量)の確率分布を考える。\n",
    "4. 今回起きた出来事(それより起こりづらいことも含む)がその分布の中でどの位置にあるかを確認する。\n",
    "\n",
    "5-1. p値(仮説により、両側or片側)を計算して、有意水準よりも小さい場合、帰無仮説を棄却する。\n",
    "\n",
    "5-2. **検定統計量**(test statistic)と呼ばれる値を計算して、検定統計量が**臨界値**(critical value)を超え、**棄却域**(critical region)に入っているかを判断する。\n"
   ]
  },
  {
   "cell_type": "markdown",
   "metadata": {},
   "source": [
    "[回答]\n",
    "\n",
    "上で確認した手順にしたがって回答してみよう。\n",
    "\n",
    "1. 母集団は「50代の男性全てである。」\n",
    "2. 母集団の平均を$\\mu$と表すことにすれば、\n",
    "$$H_0：\\mu = 135$$\n",
    "$$H_1：\\mu > 135$$\n",
    "3. 　帰無仮説が正しいとすれば、標本平均$\\bar{x}$は$N(\\mu = 135, \\frac{\\sigma^2}{n})$の正規分布に従う。$\\sigma^2$を$ s^2 = 20^2 =400 $で代用すれば、$N(135, \\frac{400}{100})$である。ただし、厳密には**t分布を用いるべき**であり、統計量$t = \\frac{\\bar{x} - 135}{2}$は自由度$\\nu = n-1 = 99$のt分布に従う。\n",
    "4. 今回起きた出来事、$\\bar{x} = 139.5$を標準化した$t = \\frac{139.5 - 135}{2} = 2.25$はこの分布でどこにあるかを考える。\n",
    "\n",
    "\n",
    "※注意　厳密なことをいえば、元々の確率変数(今回でいえば、50代男性の最高血圧)が正規分布にしたがっていない場合は、$t$統計量の分布は$t$分布にはならない。しかしながら、もし正規分布から分布がずれていたとしても、この1sample t-testはほとんどの場合正しい判断ができる。こういった性質を**ロバスト性**(robustness)という。正規性の検定によって、事前に確率変数の正規性を確かめてから検定にかけるということも考えうるが、その場合は**多重検定の問題**が発生する。したがって、今回は分布の検定はせずにいきなり1sample t-testを実施している。"
   ]
  },
  {
   "cell_type": "markdown",
   "metadata": {},
   "source": [
    "<center><img src=\"./imgs/1sample-t.png\" width=350px></center>"
   ]
  },
  {
   "cell_type": "markdown",
   "metadata": {},
   "source": [
    "5-1. p-値を直接計算する方法。"
   ]
  },
  {
   "cell_type": "code",
   "execution_count": 4,
   "metadata": {},
   "outputs": [
    {
     "name": "stdout",
     "output_type": "stream",
     "text": [
      "0.013331186128795025\n"
     ]
    }
   ],
   "source": [
    "import scipy.stats as ss\n",
    "pval_t = 1 - ss.t.cdf(x = 2.25, df = 99)\n",
    "print(pval_t)"
   ]
  },
  {
   "cell_type": "markdown",
   "metadata": {},
   "source": [
    "5-2. 臨界値を計算して、棄却域の検定統計量(今回は$t$値)が入っているかを判断する方法。有意水準は片側$\\alpha=0.05$とする。"
   ]
  },
  {
   "cell_type": "code",
   "execution_count": 5,
   "metadata": {},
   "outputs": [
    {
     "name": "stdout",
     "output_type": "stream",
     "text": [
      "臨界値 1.6603911559963895\n",
      "検定統計量 2.25\n"
     ]
    }
   ],
   "source": [
    "critical_val = ss.t.ppf(q = 0.95, df=99)\n",
    "print('臨界値', critical_val)\n",
    "\n",
    "#t値\n",
    "t = (139.5 - 135)/2\n",
    "print('検定統計量', t)"
   ]
  },
  {
   "cell_type": "code",
   "execution_count": 6,
   "metadata": {},
   "outputs": [
    {
     "data": {
      "text/plain": [
       "Ttest_1sampResult(statistic=2.4595321652912023, pvalue=0.05726152018022434)"
      ]
     },
     "execution_count": 6,
     "metadata": {},
     "output_type": "execute_result"
    }
   ],
   "source": [
    "#全て関数でやるなら\n",
    "import numpy as np\n",
    "x = np.array([10,20,30,40,50.60,70])\n",
    "ss.ttest_1samp(x, popmean=15) #比較値をpopmeanに入れる"
   ]
  },
  {
   "cell_type": "markdown",
   "metadata": {},
   "source": [
    "### 4.2.2　母平均の差の検定(2-sample t-test)\n",
    "\n",
    "続いて、もっとも良く用いられる検定であろう母平均の差の検定について学習する。この検定は**2-sample t-test**あるいは単に$t-test$とも呼ばれる。この問題のように、ある標本とある標本が2つの異なる確率分布から生成したことを示すような問題を**２標本問題**(two-sample problem)と呼ぶことがある。\n",
    "\n",
    "データ分析においては、ある量的変数を質的変数で分割したときに(この作業をスライシングslicingと呼ぶ)、その分割された集団の確率分布の違いを考える問題となることが多い。\n",
    "\n",
    "この検定も具体的な例を扱いながら、説明していこう。\n",
    "\n",
    "[問題]\n",
    "\n",
    "東京で勤務する正社員57人と、大阪で勤務する正社員45人を標本として抽出し、年収の調査をした。\n",
    "`tokyo_osaka_salary.csv`というファイルを分析し、東京で勤務する社員と大阪で勤務する社員では平均年収に差があるといえるか考えなさい。"
   ]
  },
  {
   "cell_type": "markdown",
   "metadata": {},
   "source": [
    "まずは、記述統計的の方法を用いて、問題にアタックしてみる。"
   ]
  },
  {
   "cell_type": "code",
   "execution_count": 7,
   "metadata": {},
   "outputs": [
    {
     "data": {
      "text/html": [
       "<div>\n",
       "<style scoped>\n",
       "    .dataframe tbody tr th:only-of-type {\n",
       "        vertical-align: middle;\n",
       "    }\n",
       "\n",
       "    .dataframe tbody tr th {\n",
       "        vertical-align: top;\n",
       "    }\n",
       "\n",
       "    .dataframe thead th {\n",
       "        text-align: right;\n",
       "    }\n",
       "</style>\n",
       "<table border=\"1\" class=\"dataframe\">\n",
       "  <thead>\n",
       "    <tr style=\"text-align: right;\">\n",
       "      <th></th>\n",
       "      <th>number</th>\n",
       "      <th>place</th>\n",
       "      <th>salary</th>\n",
       "    </tr>\n",
       "  </thead>\n",
       "  <tbody>\n",
       "    <tr>\n",
       "      <th>0</th>\n",
       "      <td>1</td>\n",
       "      <td>Tokyo</td>\n",
       "      <td>435.9</td>\n",
       "    </tr>\n",
       "    <tr>\n",
       "      <th>1</th>\n",
       "      <td>2</td>\n",
       "      <td>Tokyo</td>\n",
       "      <td>622.0</td>\n",
       "    </tr>\n",
       "    <tr>\n",
       "      <th>2</th>\n",
       "      <td>3</td>\n",
       "      <td>Tokyo</td>\n",
       "      <td>518.4</td>\n",
       "    </tr>\n",
       "    <tr>\n",
       "      <th>3</th>\n",
       "      <td>4</td>\n",
       "      <td>Tokyo</td>\n",
       "      <td>941.7</td>\n",
       "    </tr>\n",
       "    <tr>\n",
       "      <th>4</th>\n",
       "      <td>5</td>\n",
       "      <td>Tokyo</td>\n",
       "      <td>655.6</td>\n",
       "    </tr>\n",
       "  </tbody>\n",
       "</table>\n",
       "</div>"
      ],
      "text/plain": [
       "   number  place  salary\n",
       "0       1  Tokyo   435.9\n",
       "1       2  Tokyo   622.0\n",
       "2       3  Tokyo   518.4\n",
       "3       4  Tokyo   941.7\n",
       "4       5  Tokyo   655.6"
      ]
     },
     "execution_count": 7,
     "metadata": {},
     "output_type": "execute_result"
    }
   ],
   "source": [
    "#データの読み込み\n",
    "import pandas as pd\n",
    "d1 = pd.read_csv(\"./data/tokyo_osaka_salary.csv\", \n",
    "                 encoding=\"cp932\", skiprows = 1)\n",
    "d1.head(n = 5)"
   ]
  },
  {
   "cell_type": "code",
   "execution_count": 8,
   "metadata": {},
   "outputs": [
    {
     "data": {
      "text/plain": [
       "<AxesSubplot:xlabel='place', ylabel='salary'>"
      ]
     },
     "execution_count": 8,
     "metadata": {},
     "output_type": "execute_result"
    },
    {
     "data": {
      "image/png": "[encoded data removed]",
      "text/plain": [
       "<Figure size 432x288 with 1 Axes>"
      ]
     },
     "metadata": {
      "needs_background": "light"
     },
     "output_type": "display_data"
    }
   ],
   "source": [
    "#可視化\n",
    "import seaborn as sns\n",
    "sns.violinplot(x = 'place', y='salary', data=d1, palette='colorblind')\n"
   ]
  },
  {
   "cell_type": "code",
   "execution_count": 9,
   "metadata": {},
   "outputs": [
    {
     "data": {
      "text/html": [
       "<div>\n",
       "<style scoped>\n",
       "    .dataframe tbody tr th:only-of-type {\n",
       "        vertical-align: middle;\n",
       "    }\n",
       "\n",
       "    .dataframe tbody tr th {\n",
       "        vertical-align: top;\n",
       "    }\n",
       "\n",
       "    .dataframe thead th {\n",
       "        text-align: right;\n",
       "    }\n",
       "</style>\n",
       "<table border=\"1\" class=\"dataframe\">\n",
       "  <thead>\n",
       "    <tr style=\"text-align: right;\">\n",
       "      <th></th>\n",
       "      <th>number</th>\n",
       "      <th>salary</th>\n",
       "    </tr>\n",
       "    <tr>\n",
       "      <th>place</th>\n",
       "      <th></th>\n",
       "      <th></th>\n",
       "    </tr>\n",
       "  </thead>\n",
       "  <tbody>\n",
       "    <tr>\n",
       "      <th>Osaka</th>\n",
       "      <td>80</td>\n",
       "      <td>451.504444</td>\n",
       "    </tr>\n",
       "    <tr>\n",
       "      <th>Tokyo</th>\n",
       "      <td>29</td>\n",
       "      <td>567.307018</td>\n",
       "    </tr>\n",
       "  </tbody>\n",
       "</table>\n",
       "</div>"
      ],
      "text/plain": [
       "       number      salary\n",
       "place                    \n",
       "Osaka      80  451.504444\n",
       "Tokyo      29  567.307018"
      ]
     },
     "execution_count": 9,
     "metadata": {},
     "output_type": "execute_result"
    }
   ],
   "source": [
    "#グループ平均\n",
    "d1.groupby(['place']).mean()"
   ]
  },
  {
   "cell_type": "code",
   "execution_count": 10,
   "metadata": {},
   "outputs": [
    {
     "data": {
      "text/html": [
       "<div>\n",
       "<style scoped>\n",
       "    .dataframe tbody tr th:only-of-type {\n",
       "        vertical-align: middle;\n",
       "    }\n",
       "\n",
       "    .dataframe tbody tr th {\n",
       "        vertical-align: top;\n",
       "    }\n",
       "\n",
       "    .dataframe thead th {\n",
       "        text-align: right;\n",
       "    }\n",
       "</style>\n",
       "<table border=\"1\" class=\"dataframe\">\n",
       "  <thead>\n",
       "    <tr style=\"text-align: right;\">\n",
       "      <th></th>\n",
       "      <th>salary</th>\n",
       "    </tr>\n",
       "    <tr>\n",
       "      <th>place</th>\n",
       "      <th></th>\n",
       "    </tr>\n",
       "  </thead>\n",
       "  <tbody>\n",
       "    <tr>\n",
       "      <th>Osaka</th>\n",
       "      <td>102.760958</td>\n",
       "    </tr>\n",
       "    <tr>\n",
       "      <th>Tokyo</th>\n",
       "      <td>113.656713</td>\n",
       "    </tr>\n",
       "  </tbody>\n",
       "</table>\n",
       "</div>"
      ],
      "text/plain": [
       "           salary\n",
       "place            \n",
       "Osaka  102.760958\n",
       "Tokyo  113.656713"
      ]
     },
     "execution_count": 10,
     "metadata": {},
     "output_type": "execute_result"
    }
   ],
   "source": [
    "#グループ標準偏差(dropメソッドでnumberを落としてある)\n",
    "d1.drop('number', axis=1).groupby(['place']).std()"
   ]
  },
  {
   "cell_type": "markdown",
   "metadata": {},
   "source": [
    "<center><img src=\"./imgs/2sample-t.png\" width=400px></center>"
   ]
  },
  {
   "cell_type": "markdown",
   "metadata": {},
   "source": [
    "問題が整理されたので、手順にしたがって検定してみる。\n",
    "\n",
    "1. 母集団は、「東京で勤務する正社員全員と大阪で勤務する正社員全員」である。\n",
    "2. 帰無仮説と対立仮説は、上の図で定義された記号を用いて、\n",
    "$$H_0：\\delta = 0$$\n",
    "$$H_1：\\delta \\not= 0$$\n",
    "3. 帰無仮説がただしとしたときの推定量$d$の分布は、$N(\\delta = 0, \\frac{\\sigma_1^2}{m} + \\frac{\\sigma_2^2}{n})$。$\\sigma_1, \\sigma_2$は未知なので、これを$s_1, s_2$で置き換えることを考える。すると、$N(0, \\frac{113.7^2}{57} + \\frac{102.8^2}{45})$ 。計算して $N(0, 461.6)$となる。しかしながら、厳密には$t$分布を用いなければならない。この辺りの自由度周りの計算は、推定の場合と同じなので省略する。\n",
    "4. 今回の出来事、$t = \\frac{(567.3 - 451.5) - 0 }{\\sqrt{461.6}}$が分布のどの位置にあるのか確認する。\n",
    "5. p値を求める(今回は仮説から両側p値)。"
   ]
  },
  {
   "cell_type": "code",
   "execution_count": 11,
   "metadata": {},
   "outputs": [
    {
     "data": {
      "text/plain": [
       "Ttest_indResult(statistic=5.39175933757837, pvalue=4.817718570798468e-07)"
      ]
     },
     "execution_count": 11,
     "metadata": {},
     "output_type": "execute_result"
    }
   ],
   "source": [
    "#関数を使ってしまおう。\n",
    "import scipy.stats as ss\n",
    "tokyo_s = d1.salary[d1.place=='Tokyo']\n",
    "osaka_s = d1.salary[d1.place=='Osaka']\n",
    "ss.ttest_ind(tokyo_s, osaka_s, equal_var=False) # Welchのt検定"
   ]
  },
  {
   "cell_type": "code",
   "execution_count": 12,
   "metadata": {},
   "outputs": [
    {
     "data": {
      "text/plain": [
       "Ttest_indResult(statistic=5.327799301401295, pvalue=6.149942080415932e-07)"
      ]
     },
     "execution_count": 12,
     "metadata": {},
     "output_type": "execute_result"
    }
   ],
   "source": [
    "ss.ttest_ind(tokyo_s, osaka_s ,equal_var=True) # Studentのt検定"
   ]
  },
  {
   "cell_type": "code",
   "execution_count": 13,
   "metadata": {},
   "outputs": [
    {
     "data": {
      "text/plain": [
       "Ttest_relResult(statistic=5.798574589370188, pvalue=6.666877574684305e-07)"
      ]
     },
     "execution_count": 13,
     "metadata": {},
     "output_type": "execute_result"
    }
   ],
   "source": [
    "ss.ttest_rel(tokyo_s[0:45], osaka_s)  #ペアになったデータのt検定"
   ]
  },
  {
   "cell_type": "markdown",
   "metadata": {},
   "source": [
    "### 4.2.4　独立性の検定（母平均の差の検定）\n",
    "\n",
    "\n",
    "続いて、母平均の差の検定に次いでよく使うであろう、**独立性の検定**(test of independence)について紹介する。この検定を俗に$\\chi^2$検定と呼ぶことが多い。また、この検定はクロス集計表に対してその表頭と表側の変数に関連があるかを確かめるために行われることから、クロス表の検定などとも呼ばれる。\n",
    "\n",
    "[問題]　男女別に、ある法案についての賛成、中立、反対を集計したところ、以下のようなクロス集計表が得られた。\n",
    "\n",
    "|性別\\態度|賛成|中立|反対|合計|\n",
    "|:-:|:-:|:-:|:-:|:-:|\n",
    "|男性|60|30|10|100|\n",
    "|女性|20|40|40|100|\n",
    "|合計|80|70|50|200|\n",
    "\n",
    "\n",
    "\n",
    "\n"
   ]
  },
  {
   "cell_type": "markdown",
   "metadata": {},
   "source": [
    "この検定では、\n",
    "\n",
    "$$H_0：２つの質的変数には関連がない(\\chi^2 = 0)$$\n",
    "$$H_1：2つの質的変数には関連がある(\\chi^2 \\neq 0)$$\n",
    "\n",
    "を検定することになる。検定統計量は、\n",
    "\\begin{eqnarray*}\n",
    "\\chi^2  &=& \\sum \\frac{(実測度数-期待度数)^2}{期待度数}\n",
    "\\end{eqnarray*}\n",
    "であり、\n",
    "これが自由度$\\nu = (行数 -1)(列数-1)$の$\\chi^2$分布に従うことを使って検定する。"
   ]
  },
  {
   "cell_type": "code",
   "execution_count": 14,
   "metadata": {},
   "outputs": [
    {
     "name": "stdout",
     "output_type": "stream",
     "text": [
      "カイ二乗値 39.42857142857143\n",
      "p値 2.7428022661917792e-09\n",
      "自由度 2\n",
      "期待度数表 [[40. 35. 25.]\n",
      " [40. 35. 25.]]\n"
     ]
    }
   ],
   "source": [
    "import numpy as np\n",
    "cross = np.array([[60,30,10], [20,40,40]])\n",
    "chitest = ss.chi2_contingency(cross)\n",
    "print('カイ二乗値', chitest[0])\n",
    "print('p値', chitest[1])\n",
    "print('自由度', chitest[2])\n",
    "print('期待度数表', chitest[3])"
   ]
  },
  {
   "cell_type": "markdown",
   "metadata": {},
   "source": [
    "## 4.3 検出力\n",
    "\n",
    "統計学的仮説検定の方法にある程度慣れてきたところで、少し検定について再考してみることにする。まず、ここでのテーマである**検出力**(statistical power)について考えてみる。\n",
    "\n",
    "検出力とは、帰無仮説$H_1$が真実として正しいときに、$H_1$が正しいと判断できる確率をさす。これは、先に学んだエラーと関連する概念であり、第2種の誤りの起きる確率$\\beta$を用いて、検出力は$1-\\beta$と表すことができる。"
   ]
  },
  {
   "cell_type": "markdown",
   "metadata": {},
   "source": [
    "[問題]　分散64の正規母集団から大きさ100の標本を抽出する。ある確率変数$X$の母平均$\\mu$について、\n",
    "$$H_0:\\mu=20$$\n",
    "$$H_1:\\mu=21$$\n",
    "とするとき、この検定の検出力を答えよ。"
   ]
  },
  {
   "cell_type": "markdown",
   "metadata": {},
   "source": [
    "[回答]\n",
    "\n",
    "<center><img src=\"./imgs/power.png\" width=300px></center>"
   ]
  },
  {
   "cell_type": "markdown",
   "metadata": {},
   "source": [
    "中心極限定理から、標本平均$\\bar{x}$の確率分布は$N(\\mu, \\frac{64}{100})$である。したがって、統計量$z = \\frac{\\bar{x}-\\mu}{0.8}$は標準正規分布$N(0,1)$に従う。標準正規分布の0.95パーセンタイル点は1.64の位置にあることから、帰無仮説$\\mu=20$の元で、\n",
    "$$\\frac{\\bar{x}-\\mu}{0.8} > 1.64$$\n",
    "が満たされれば、帰無仮説は棄却される。\n",
    "\n",
    "これを、$\\bar{x}$について解いて、 \n",
    "$$\\bar{x} > 21.32$$\n",
    "を得る。\n",
    "\n",
    "次にこの値を用いて、図中の$\\beta$および検出力$1-\\beta$を計算する。"
   ]
  },
  {
   "cell_type": "code",
   "execution_count": 15,
   "metadata": {},
   "outputs": [
    {
     "name": "stdout",
     "output_type": "stream",
     "text": [
      "検出力 0.3445782583896757\n"
     ]
    }
   ],
   "source": [
    "import scipy.stats as ss\n",
    "beta = ss.norm.cdf(21.32, loc=21, scale=0.8)\n",
    "print('検出力', 1- beta)"
   ]
  },
  {
   "cell_type": "markdown",
   "metadata": {},
   "source": [
    "[問題]　検出力をあげるには、どうすればいいか考えてみよ。"
   ]
  },
  {
   "cell_type": "markdown",
   "metadata": {},
   "source": [
    "[解答]\n",
    "1. 対立仮説を$\\mu= 25$とかにする。\n",
    "2. $n$を大きくする。"
   ]
  },
  {
   "cell_type": "markdown",
   "metadata": {},
   "source": [
    "例えば、2sample t-testの検出力の計算は以下のような要領で実行できる。"
   ]
  },
  {
   "cell_type": "code",
   "execution_count": 16,
   "metadata": {},
   "outputs": [
    {
     "name": "stdout",
     "output_type": "stream",
     "text": [
      "0.14224918674352224\n"
     ]
    }
   ],
   "source": [
    "# 平均値の差\n",
    "delta = 1\n",
    "# 標準偏差\n",
    "sd    = 8\n",
    "\n",
    "import statsmodels.stats.power as smp\n",
    "pw = smp.TTestIndPower().power(effect_size = delta/sd, nobs1=100, alpha=0.05,  alternative='two-sided')\n",
    "print(pw)"
   ]
  },
  {
   "cell_type": "markdown",
   "metadata": {},
   "source": [
    "サンプルサイズを逆算することも可能。"
   ]
  },
  {
   "cell_type": "code",
   "execution_count": 17,
   "metadata": {},
   "outputs": [
    {
     "name": "stdout",
     "output_type": "stream",
     "text": [
      "63.765611775409525\n"
     ]
    }
   ],
   "source": [
    "from statsmodels.stats.power import tt_ind_solve_power\n",
    "\n",
    "# 平均値の差\n",
    "delta = 0.5\n",
    "# 標準偏差\n",
    "sd = 1\n",
    "\n",
    "n = tt_ind_solve_power(effect_size=delta/sd,  alpha=0.05, power=0.8, alternative='two-sided')\n",
    "print(n)"
   ]
  },
  {
   "cell_type": "markdown",
   "metadata": {},
   "source": [
    "## 4.4 分散分析\n",
    "\n",
    "母平均の差の検定では、2群の平均値の差について分析した。３群以上の場合は、2sample t-testを繰り返し用いると、多重検定の問題が発生することから、また別の方法を用いなければならない。**分散分析**(analysis of variance)はその方法の一つである。\n",
    "\n",
    "\n",
    "例えば今、趣味と睡眠時間について以下のようなデータが与えられたとしよう。\n",
    " \n",
    "|趣味|1|2|3|4|平均|\n",
    "|:-:|:-:|:-:|:-:|:-:|:-:|\n",
    "|ゲーム|5|6|3|2|4|\n",
    "|釣り|7|5|4|4|5|\n",
    "|サッカー|12|10|8|6|9|\n",
    "\n",
    "このデータから、趣味の違いによって平均の睡眠時間は異なるという仮説を検定することにする。\n",
    "\n",
    "$$H_0 : 趣味の違いによって、平均睡眠時間は異ならない$$\n",
    "$$H_1 : 趣味の違いによって、平均睡眠時間は異なる$$\n",
    "\n",
    "\n",
    "\n"
   ]
  },
  {
   "cell_type": "code",
   "execution_count": 18,
   "metadata": {},
   "outputs": [
    {
     "data": {
      "text/html": [
       "<div>\n",
       "<style scoped>\n",
       "    .dataframe tbody tr th:only-of-type {\n",
       "        vertical-align: middle;\n",
       "    }\n",
       "\n",
       "    .dataframe tbody tr th {\n",
       "        vertical-align: top;\n",
       "    }\n",
       "\n",
       "    .dataframe thead th {\n",
       "        text-align: right;\n",
       "    }\n",
       "</style>\n",
       "<table border=\"1\" class=\"dataframe\">\n",
       "  <thead>\n",
       "    <tr style=\"text-align: right;\">\n",
       "      <th></th>\n",
       "      <th>hobby</th>\n",
       "      <th>sleep</th>\n",
       "    </tr>\n",
       "  </thead>\n",
       "  <tbody>\n",
       "    <tr>\n",
       "      <th>0</th>\n",
       "      <td>game</td>\n",
       "      <td>5</td>\n",
       "    </tr>\n",
       "    <tr>\n",
       "      <th>1</th>\n",
       "      <td>game</td>\n",
       "      <td>6</td>\n",
       "    </tr>\n",
       "    <tr>\n",
       "      <th>2</th>\n",
       "      <td>game</td>\n",
       "      <td>3</td>\n",
       "    </tr>\n",
       "    <tr>\n",
       "      <th>3</th>\n",
       "      <td>game</td>\n",
       "      <td>2</td>\n",
       "    </tr>\n",
       "    <tr>\n",
       "      <th>4</th>\n",
       "      <td>fishing</td>\n",
       "      <td>7</td>\n",
       "    </tr>\n",
       "    <tr>\n",
       "      <th>5</th>\n",
       "      <td>fishing</td>\n",
       "      <td>5</td>\n",
       "    </tr>\n",
       "    <tr>\n",
       "      <th>6</th>\n",
       "      <td>fishing</td>\n",
       "      <td>4</td>\n",
       "    </tr>\n",
       "    <tr>\n",
       "      <th>7</th>\n",
       "      <td>fishing</td>\n",
       "      <td>4</td>\n",
       "    </tr>\n",
       "    <tr>\n",
       "      <th>8</th>\n",
       "      <td>soccer</td>\n",
       "      <td>12</td>\n",
       "    </tr>\n",
       "    <tr>\n",
       "      <th>9</th>\n",
       "      <td>soccer</td>\n",
       "      <td>10</td>\n",
       "    </tr>\n",
       "  </tbody>\n",
       "</table>\n",
       "</div>"
      ],
      "text/plain": [
       "     hobby  sleep\n",
       "0     game      5\n",
       "1     game      6\n",
       "2     game      3\n",
       "3     game      2\n",
       "4  fishing      7\n",
       "5  fishing      5\n",
       "6  fishing      4\n",
       "7  fishing      4\n",
       "8   soccer     12\n",
       "9   soccer     10"
      ]
     },
     "execution_count": 18,
     "metadata": {},
     "output_type": "execute_result"
    }
   ],
   "source": [
    "import pandas as pd\n",
    "d2 = pd.read_csv(\"./data/sleep_by_hobby.csv\")\n",
    "d2.head(10)"
   ]
  },
  {
   "cell_type": "code",
   "execution_count": 19,
   "metadata": {},
   "outputs": [
    {
     "data": {
      "text/plain": [
       "sleep    6.0\n",
       "dtype: float64"
      ]
     },
     "execution_count": 19,
     "metadata": {},
     "output_type": "execute_result"
    }
   ],
   "source": [
    "d2.mean()"
   ]
  },
  {
   "cell_type": "code",
   "execution_count": 20,
   "metadata": {},
   "outputs": [
    {
     "data": {
      "image/png": "[encoded data removed]",
      "text/plain": [
       "<Figure size 432x288 with 1 Axes>"
      ]
     },
     "metadata": {
      "needs_background": "light"
     },
     "output_type": "display_data"
    }
   ],
   "source": [
    "#可視化\n",
    "import matplotlib.pyplot as plt\n",
    "import seaborn as sns\n",
    "\n",
    "sns.violinplot(x = 'hobby', y='sleep', data=d2, palette='colorblind')\n",
    "plt.show()"
   ]
  },
  {
   "cell_type": "markdown",
   "metadata": {},
   "source": [
    "分散分析を説明する。\n",
    "まず、1人の人例えば、ゲームを趣味とする、3時間寝ている人に注目しよう。全体平均は6なので、何も理由がなければ誰もが6時間寝ていると考えれば、この人の睡眠時間は-3時間である。これを**偏差**(deviation)というのであった。ここで**偏差を分解する**ことを考える。\n",
    "\n",
    "$$-3 = -2 + (-1)$$\n",
    "\n",
    "右辺の-2は、ゲームを趣味とする群の群平均から全体平均の差である。これは、ゲームを趣味としているから、睡眠時間が減っていると考えることができるだろう。これを**要因の効果**(factor effect)という。残りの-1は個人差(理由のつかない差)であると考えることができる。これを**残差**(residuals)という。これは以前に紹介した、**偏差の分解**(decomposition of deviation)である。\n",
    "\n",
    "※統計学による説明とは、偶然誤差(理由のつかない誤差)を系統誤差(理由のつく誤差)に転化することであるといわれる。ここで行なっているのは、まさにそれである。"
   ]
  },
  {
   "cell_type": "code",
   "execution_count": 21,
   "metadata": {},
   "outputs": [
    {
     "name": "stdout",
     "output_type": "stream",
     "text": [
      "要因の平方和 56\n",
      "残差の平方和 36\n"
     ]
    }
   ],
   "source": [
    "factor_m = np.array([[-2,-2,-2,-2], [-1,-1,-1,-1], [3,3,3,3]])\n",
    "resid_m = np.array([[1,2,-1,-2],[2, 0, -1,-1],[3,1,-1,-3]])\n",
    "print('要因の平方和', np.sum(factor_m**2))\n",
    "print('残差の平方和', np.sum(resid_m**2))"
   ]
  },
  {
   "cell_type": "markdown",
   "metadata": {},
   "source": [
    "|　|自由度|平方和|平均平方(本当の分散)|F値|\n",
    "|:-:|:-:|:-:|:-:|:-:|\n",
    "|要因|2|56|28|7|\n",
    "|残差|9|36|4|　|\n",
    "|全体|11|92|　|　|\n"
   ]
  },
  {
   "cell_type": "code",
   "execution_count": 22,
   "metadata": {},
   "outputs": [
    {
     "data": {
      "text/plain": [
       "92.0"
      ]
     },
     "execution_count": 22,
     "metadata": {},
     "output_type": "execute_result"
    }
   ],
   "source": [
    "np.var(d2.sleep)*12 #本当に平方和が分解されていることを確かめる。"
   ]
  },
  {
   "cell_type": "markdown",
   "metadata": {},
   "source": [
    "**Remark**　**相関比**を復習し、その考え方の類似性を確認してください。"
   ]
  },
  {
   "cell_type": "markdown",
   "metadata": {},
   "source": [
    "ここで計算された $F値 = \\frac{要因の平均平方}{残差の平均平方}$は帰無仮説の元、自由度(2,9)の$F$分布に従う。これを用いて検定する。"
   ]
  },
  {
   "cell_type": "code",
   "execution_count": 23,
   "metadata": {},
   "outputs": [
    {
     "name": "stdout",
     "output_type": "stream",
     "text": [
      "0.014666146890146226\n"
     ]
    }
   ],
   "source": [
    "import scipy.stats as ss\n",
    "pval=1- ss.f.cdf(x = 7,  dfn=2, dfd=9) #p値\n",
    "print(pval)"
   ]
  },
  {
   "cell_type": "markdown",
   "metadata": {},
   "source": [
    "`Python`では、`statsmodels`を使えば以下のようなscriptで実行できる。\n",
    "\n",
    "※`ols`は回帰分析でよく使われる、**最小二乗法**(ordinary least square)のメソッドである。"
   ]
  },
  {
   "cell_type": "code",
   "execution_count": 24,
   "metadata": {},
   "outputs": [
    {
     "name": "stderr",
     "output_type": "stream",
     "text": [
      "/Users/sugakubunka/Library/Python/3.8/lib/python/site-packages/scipy/stats/stats.py:1534: UserWarning: kurtosistest only valid for n>=20 ... continuing anyway, n=12\n",
      "  warnings.warn(\"kurtosistest only valid for n>=20 ... continuing \"\n"
     ]
    },
    {
     "data": {
      "text/html": [
       "<table class=\"simpletable\">\n",
       "<caption>OLS Regression Results</caption>\n",
       "<tr>\n",
       "  <th>Dep. Variable:</th>          <td>sleep</td>      <th>  R-squared:         </th> <td>   0.609</td>\n",
       "</tr>\n",
       "<tr>\n",
       "  <th>Model:</th>                   <td>OLS</td>       <th>  Adj. R-squared:    </th> <td>   0.522</td>\n",
       "</tr>\n",
       "<tr>\n",
       "  <th>Method:</th>             <td>Least Squares</td>  <th>  F-statistic:       </th> <td>   7.000</td>\n",
       "</tr>\n",
       "<tr>\n",
       "  <th>Date:</th>             <td>Fri, 26 Nov 2021</td> <th>  Prob (F-statistic):</th>  <td>0.0147</td> \n",
       "</tr>\n",
       "<tr>\n",
       "  <th>Time:</th>                 <td>19:13:46</td>     <th>  Log-Likelihood:    </th> <td> -23.619</td>\n",
       "</tr>\n",
       "<tr>\n",
       "  <th>No. Observations:</th>      <td>    12</td>      <th>  AIC:               </th> <td>   53.24</td>\n",
       "</tr>\n",
       "<tr>\n",
       "  <th>Df Residuals:</th>          <td>     9</td>      <th>  BIC:               </th> <td>   54.69</td>\n",
       "</tr>\n",
       "<tr>\n",
       "  <th>Df Model:</th>              <td>     2</td>      <th>                     </th>     <td> </td>   \n",
       "</tr>\n",
       "<tr>\n",
       "  <th>Covariance Type:</th>      <td>nonrobust</td>    <th>                     </th>     <td> </td>   \n",
       "</tr>\n",
       "</table>\n",
       "<table class=\"simpletable\">\n",
       "<tr>\n",
       "         <td></td>            <th>coef</th>     <th>std err</th>      <th>t</th>      <th>P>|t|</th>  <th>[0.025</th>    <th>0.975]</th>  \n",
       "</tr>\n",
       "<tr>\n",
       "  <th>Intercept</th>       <td>    5.0000</td> <td>    1.000</td> <td>    5.000</td> <td> 0.001</td> <td>    2.738</td> <td>    7.262</td>\n",
       "</tr>\n",
       "<tr>\n",
       "  <th>hobby[T.game]</th>   <td>   -1.0000</td> <td>    1.414</td> <td>   -0.707</td> <td> 0.497</td> <td>   -4.199</td> <td>    2.199</td>\n",
       "</tr>\n",
       "<tr>\n",
       "  <th>hobby[T.soccer]</th> <td>    4.0000</td> <td>    1.414</td> <td>    2.828</td> <td> 0.020</td> <td>    0.801</td> <td>    7.199</td>\n",
       "</tr>\n",
       "</table>\n",
       "<table class=\"simpletable\">\n",
       "<tr>\n",
       "  <th>Omnibus:</th>       <td> 0.489</td> <th>  Durbin-Watson:     </th> <td>   1.667</td>\n",
       "</tr>\n",
       "<tr>\n",
       "  <th>Prob(Omnibus):</th> <td> 0.783</td> <th>  Jarque-Bera (JB):  </th> <td>   0.519</td>\n",
       "</tr>\n",
       "<tr>\n",
       "  <th>Skew:</th>          <td> 0.096</td> <th>  Prob(JB):          </th> <td>   0.772</td>\n",
       "</tr>\n",
       "<tr>\n",
       "  <th>Kurtosis:</th>      <td> 2.000</td> <th>  Cond. No.          </th> <td>    3.73</td>\n",
       "</tr>\n",
       "</table><br/><br/>Notes:<br/>[1] Standard Errors assume that the covariance matrix of the errors is correctly specified."
      ],
      "text/plain": [
       "<class 'statsmodels.iolib.summary.Summary'>\n",
       "\"\"\"\n",
       "                            OLS Regression Results                            \n",
       "==============================================================================\n",
       "Dep. Variable:                  sleep   R-squared:                       0.609\n",
       "Model:                            OLS   Adj. R-squared:                  0.522\n",
       "Method:                 Least Squares   F-statistic:                     7.000\n",
       "Date:                Fri, 26 Nov 2021   Prob (F-statistic):             0.0147\n",
       "Time:                        19:13:46   Log-Likelihood:                -23.619\n",
       "No. Observations:                  12   AIC:                             53.24\n",
       "Df Residuals:                       9   BIC:                             54.69\n",
       "Df Model:                           2                                         \n",
       "Covariance Type:            nonrobust                                         \n",
       "===================================================================================\n",
       "                      coef    std err          t      P>|t|      [0.025      0.975]\n",
       "-----------------------------------------------------------------------------------\n",
       "Intercept           5.0000      1.000      5.000      0.001       2.738       7.262\n",
       "hobby[T.game]      -1.0000      1.414     -0.707      0.497      -4.199       2.199\n",
       "hobby[T.soccer]     4.0000      1.414      2.828      0.020       0.801       7.199\n",
       "==============================================================================\n",
       "Omnibus:                        0.489   Durbin-Watson:                   1.667\n",
       "Prob(Omnibus):                  0.783   Jarque-Bera (JB):                0.519\n",
       "Skew:                           0.096   Prob(JB):                        0.772\n",
       "Kurtosis:                       2.000   Cond. No.                         3.73\n",
       "==============================================================================\n",
       "\n",
       "Notes:\n",
       "[1] Standard Errors assume that the covariance matrix of the errors is correctly specified.\n",
       "\"\"\""
      ]
     },
     "execution_count": 24,
     "metadata": {},
     "output_type": "execute_result"
    }
   ],
   "source": [
    "import statsmodels.api as sma\n",
    "from statsmodels.formula.api import ols\n",
    "anova = ols('sleep ~ hobby', data=d2).fit()                \n",
    "anova.summary()"
   ]
  },
  {
   "cell_type": "markdown",
   "metadata": {},
   "source": [
    "## 4.5　演習問題"
   ]
  },
  {
   "cell_type": "markdown",
   "metadata": {},
   "source": [
    "[問題] tidyデータ出ないデータの例を考え、それをtidyデータに直すとどうなるか答えなさい。"
   ]
  },
  {
   "cell_type": "markdown",
   "metadata": {},
   "source": [
    "[問題]`Mansion1.csv`ファイルを読み込んで、様々な変数同士の関係についてレポートしなさい。"
   ]
  },
  {
   "cell_type": "markdown",
   "metadata": {},
   "source": [
    "[解答]"
   ]
  },
  {
   "cell_type": "code",
   "execution_count": 25,
   "metadata": {},
   "outputs": [
    {
     "data": {
      "text/html": [
       "<div>\n",
       "<style scoped>\n",
       "    .dataframe tbody tr th:only-of-type {\n",
       "        vertical-align: middle;\n",
       "    }\n",
       "\n",
       "    .dataframe tbody tr th {\n",
       "        vertical-align: top;\n",
       "    }\n",
       "\n",
       "    .dataframe thead th {\n",
       "        text-align: right;\n",
       "    }\n",
       "</style>\n",
       "<table border=\"1\" class=\"dataframe\">\n",
       "  <thead>\n",
       "    <tr style=\"text-align: right;\">\n",
       "      <th></th>\n",
       "      <th>distance</th>\n",
       "      <th>rent</th>\n",
       "      <th>floorPlan</th>\n",
       "      <th>space</th>\n",
       "      <th>direction</th>\n",
       "      <th>age</th>\n",
       "    </tr>\n",
       "  </thead>\n",
       "  <tbody>\n",
       "    <tr>\n",
       "      <th>0</th>\n",
       "      <td>B</td>\n",
       "      <td>68000</td>\n",
       "      <td>1K</td>\n",
       "      <td>19</td>\n",
       "      <td>西</td>\n",
       "      <td>12</td>\n",
       "    </tr>\n",
       "    <tr>\n",
       "      <th>1</th>\n",
       "      <td>B</td>\n",
       "      <td>68000</td>\n",
       "      <td>1K</td>\n",
       "      <td>19</td>\n",
       "      <td>南</td>\n",
       "      <td>12</td>\n",
       "    </tr>\n",
       "    <tr>\n",
       "      <th>2</th>\n",
       "      <td>B</td>\n",
       "      <td>69000</td>\n",
       "      <td>1K</td>\n",
       "      <td>19</td>\n",
       "      <td>北西</td>\n",
       "      <td>14</td>\n",
       "    </tr>\n",
       "    <tr>\n",
       "      <th>3</th>\n",
       "      <td>B</td>\n",
       "      <td>70000</td>\n",
       "      <td>1K</td>\n",
       "      <td>19</td>\n",
       "      <td>南</td>\n",
       "      <td>14</td>\n",
       "    </tr>\n",
       "    <tr>\n",
       "      <th>4</th>\n",
       "      <td>B</td>\n",
       "      <td>72000</td>\n",
       "      <td>1K</td>\n",
       "      <td>15</td>\n",
       "      <td>南</td>\n",
       "      <td>9</td>\n",
       "    </tr>\n",
       "  </tbody>\n",
       "</table>\n",
       "</div>"
      ],
      "text/plain": [
       "  distance   rent floorPlan  space direction  age\n",
       "0        B  68000        1K     19         西   12\n",
       "1        B  68000        1K     19         南   12\n",
       "2        B  69000        1K     19        北西   14\n",
       "3        B  70000        1K     19         南   14\n",
       "4        B  72000        1K     15         南    9"
      ]
     },
     "execution_count": 25,
     "metadata": {},
     "output_type": "execute_result"
    }
   ],
   "source": [
    "import pandas as pd\n",
    "d3 = pd.read_csv('./data/Mansion1.csv')\n",
    "d3.head()"
   ]
  },
  {
   "cell_type": "markdown",
   "metadata": {},
   "source": [
    "[問題]　`R_Titanic.csv`ファイルを読み込んで、様々な変数同士の関係についてレポートしなさい。"
   ]
  },
  {
   "cell_type": "markdown",
   "metadata": {},
   "source": [
    "[解答]"
   ]
  },
  {
   "cell_type": "code",
   "execution_count": 26,
   "metadata": {},
   "outputs": [
    {
     "name": "stdout",
     "output_type": "stream",
     "text": [
      "Survived    No  Yes\n",
      "Sex                \n",
      "Female     126  344\n",
      "Male      1364  367\n",
      "(454.4998451882266, 7.56546196493555e-101, 1, array([[ 318.17355747,  151.82644253],\n",
      "       [1171.82644253,  559.17355747]]))\n"
     ]
    }
   ],
   "source": [
    "d4 = pd.read_csv('./data/R_Titanic.csv')\n",
    "d4.head()\n",
    "\n",
    "crs_tb = pd.crosstab(d4.Sex, d4.Survived)\n",
    "print(crs_tb)\n",
    "\n",
    "import scipy.stats as ss\n",
    "\n",
    "res_chi = ss.chi2_contingency(crs_tb)\n",
    "print(res_chi)"
   ]
  }
 ],
 "metadata": {
  "kernelspec": {
   "display_name": "Python 3",
   "language": "python",
   "name": "python3"
  },
  "language_info": {
   "codemirror_mode": {
    "name": "ipython",
    "version": 3
   },
   "file_extension": ".py",
   "mimetype": "text/x-python",
   "name": "python",
   "nbconvert_exporter": "python",
   "pygments_lexer": "ipython3",
   "version": "3.8.2"
  }
 },
 "nbformat": 4,
 "nbformat_minor": 4
}
