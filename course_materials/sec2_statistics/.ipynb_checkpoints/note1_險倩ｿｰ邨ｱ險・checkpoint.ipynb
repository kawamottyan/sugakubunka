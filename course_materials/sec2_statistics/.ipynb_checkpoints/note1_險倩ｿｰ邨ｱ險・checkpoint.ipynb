{
 "cells": [
  {
   "cell_type": "markdown",
   "metadata": {},
   "source": [
    "\n",
    "# 1　記述統計学\n",
    "\n",
    "## 1.1　データの分類\n",
    "### 1.1.1　質的変数と量的変数\n",
    "まず、私たちが扱うデータの分類について、いくつかの視点からみておくことにしましょう。身長や体重、年収などのデータのことを統計学では**変数**とよびます。最も重要な分類は、**質的変数**と**量的変数**の区別です。\n",
    "\n",
    "    質的変数 : あるデータがカテゴリーに属することを示すデータ。;性別、国\n",
    "    量的変数 : 数字で表現されたデータ"
   ]
  },
  {
   "cell_type": "markdown",
   "metadata": {},
   "source": [
    "### 1.1.2　尺度\n",
    "もう少し細かい分類として、尺度と呼ばれる変数の分類法があります。\n",
    "\n",
    "    名義尺度 : あるデータがカテゴリーに属することを示す。\n",
    "    順序尺度 : 順序を持つ。；かけっこの順位、「好き、嫌い、普通」といったアンケートの結果\n",
    "    間隔尺度 : 等間隔性をもつ。；温度、西暦、テストの点数\n",
    "    比例尺度 : 倍数関係がある。（0であることに意味がある）；身長、体重、速度\n",
    "\n",
    "[問題]　各尺度の例を挙げてみてください。"
   ]
  },
  {
   "cell_type": "markdown",
   "metadata": {},
   "source": [
    "[解答]\n",
    "* 名義尺度：性別、出身地　\n",
    "* 順序尺度：順番、アンケートなどの5件法　\n",
    "* 間隔尺度：日付、摂氏温度　\n",
    "* 比例尺度：絶対温度、体重、年収"
   ]
  },
  {
   "cell_type": "markdown",
   "metadata": {},
   "source": [
    "### 1.1.3　離散変数と連続変数\n",
    "\n",
    "変数の分類でもう一つ重要なのが、**離散変数**と**連続変数**の区別です。\n",
    "\n",
    "    離散変数 : 整数などのように、飛び飛びの値しか取れない変数。例えばサイコロの目など。\n",
    "    連続変数 : 離散変数とは違い、どこまでも細かく値を取れる変数。（どこまでも細かい値が考えられる）\n",
    "\n",
    "この区別は、後に**確率分布**を考えるときに重要になります。\n",
    "\n",
    "[問題]　離散変数と連続変数の実例を挙げてみてください。"
   ]
  },
  {
   "cell_type": "markdown",
   "metadata": {},
   "source": [
    "[解答]\n",
    "\n",
    "離散変数：サイコロの目、訪問者数\n",
    "\n",
    "連続変数：身長、重さ、年収?(厳密には離散値だが・・・)"
   ]
  },
  {
   "cell_type": "markdown",
   "metadata": {},
   "source": [
    "##　1.2　基礎統計量"
   ]
  },
  {
   "cell_type": "markdown",
   "metadata": {},
   "source": [
    "統計学では、ある変数の様子を様々な数値に要約して表現します。その中でも特に有用なものを**基礎統計量**として定義します。これ以降の数式は、以下のような抽象的なデータ構造を想定していきます。\n",
    "\n",
    "| index | $X$ |$Y$ |\n",
    "|:----------------:|:------------:|:------------:|\n",
    "| 1| $x_1$ |$y_1$ |\n",
    "| 2| $x_2$ | $y_2$ |\n",
    "| 3 | $x_3$| $y_3$|\n",
    "| $\\vdots$| $\\vdots$| $\\vdots$ |\n",
    "| n-1 | $x_{n-1}$ | $y_{n-1}$ |\n",
    "| n | $x_n$ | $y_n$ |"
   ]
  },
  {
   "cell_type": "code",
   "execution_count": 1,
   "metadata": {},
   "outputs": [
    {
     "data": {
      "text/html": [
       "<div>\n",
       "<style scoped>\n",
       "    .dataframe tbody tr th:only-of-type {\n",
       "        vertical-align: middle;\n",
       "    }\n",
       "\n",
       "    .dataframe tbody tr th {\n",
       "        vertical-align: top;\n",
       "    }\n",
       "\n",
       "    .dataframe thead th {\n",
       "        text-align: right;\n",
       "    }\n",
       "</style>\n",
       "<table border=\"1\" class=\"dataframe\">\n",
       "  <thead>\n",
       "    <tr style=\"text-align: right;\">\n",
       "      <th></th>\n",
       "      <th>height</th>\n",
       "      <th>weight</th>\n",
       "      <th>sex</th>\n",
       "    </tr>\n",
       "  </thead>\n",
       "  <tbody>\n",
       "    <tr>\n",
       "      <th>0</th>\n",
       "      <td>170</td>\n",
       "      <td>55</td>\n",
       "      <td>女</td>\n",
       "    </tr>\n",
       "    <tr>\n",
       "      <th>1</th>\n",
       "      <td>172</td>\n",
       "      <td>65</td>\n",
       "      <td>男</td>\n",
       "    </tr>\n",
       "    <tr>\n",
       "      <th>2</th>\n",
       "      <td>180</td>\n",
       "      <td>65</td>\n",
       "      <td>男</td>\n",
       "    </tr>\n",
       "    <tr>\n",
       "      <th>3</th>\n",
       "      <td>165</td>\n",
       "      <td>59</td>\n",
       "      <td>女</td>\n",
       "    </tr>\n",
       "    <tr>\n",
       "      <th>4</th>\n",
       "      <td>177</td>\n",
       "      <td>68</td>\n",
       "      <td>男</td>\n",
       "    </tr>\n",
       "    <tr>\n",
       "      <th>5</th>\n",
       "      <td>162</td>\n",
       "      <td>44</td>\n",
       "      <td>女</td>\n",
       "    </tr>\n",
       "    <tr>\n",
       "      <th>6</th>\n",
       "      <td>159</td>\n",
       "      <td>57</td>\n",
       "      <td>女</td>\n",
       "    </tr>\n",
       "    <tr>\n",
       "      <th>7</th>\n",
       "      <td>172</td>\n",
       "      <td>70</td>\n",
       "      <td>男</td>\n",
       "    </tr>\n",
       "    <tr>\n",
       "      <th>8</th>\n",
       "      <td>168</td>\n",
       "      <td>59</td>\n",
       "      <td>女</td>\n",
       "    </tr>\n",
       "    <tr>\n",
       "      <th>9</th>\n",
       "      <td>162</td>\n",
       "      <td>55</td>\n",
       "      <td>女</td>\n",
       "    </tr>\n",
       "  </tbody>\n",
       "</table>\n",
       "</div>"
      ],
      "text/plain": [
       "   height  weight sex\n",
       "0     170      55   女\n",
       "1     172      65   男\n",
       "2     180      65   男\n",
       "3     165      59   女\n",
       "4     177      68   男\n",
       "5     162      44   女\n",
       "6     159      57   女\n",
       "7     172      70   男\n",
       "8     168      59   女\n",
       "9     162      55   女"
      ]
     },
     "execution_count": 1,
     "metadata": {},
     "output_type": "execute_result"
    }
   ],
   "source": [
    "import numpy as np\n",
    "import pandas as pd\n",
    "\n",
    "height = np.array([170, 172, 180, 165, 177, 162, 159, 172, 168, 162])\n",
    "weight = np.array([55, 65, 65, 59, 68, 44, 57, 70, 59, 55])\n",
    "sex = np.array(['女','男', '男', '女', '男', '女', '女', '男', '女', '女'])\n",
    "\n",
    "sample_df = pd.DataFrame({\n",
    "    'height':height,\n",
    "    'weight':weight,\n",
    "    'sex':sex\n",
    "})\n",
    "\n",
    "sample_df"
   ]
  },
  {
   "cell_type": "markdown",
   "metadata": {},
   "source": [
    "### 1.2.1　標本平均, 中央値, 最頻値\n",
    "\n",
    "まず、最もよく使われる統計量である、**標本平均**(mean)を定義します。\n",
    "\n",
    "$$\\bar{x} = \\frac{1}{n}\\sum_{i=1}^{n} x_i$$\n",
    "\n",
    "$$\\bar{y} = \\frac{1}{n}\\sum_{i=1}^{n} y_i$$\n",
    "\n",
    "先の`sample_df`の標本平均を求めておきます。"
   ]
  },
  {
   "cell_type": "code",
   "execution_count": 2,
   "metadata": {},
   "outputs": [
    {
     "data": {
      "text/plain": [
       "height    168.7\n",
       "weight     59.7\n",
       "dtype: float64"
      ]
     },
     "execution_count": 2,
     "metadata": {},
     "output_type": "execute_result"
    }
   ],
   "source": [
    "sample_df.mean()"
   ]
  },
  {
   "cell_type": "code",
   "execution_count": 3,
   "metadata": {},
   "outputs": [
    {
     "data": {
      "text/html": [
       "<div>\n",
       "<style scoped>\n",
       "    .dataframe tbody tr th:only-of-type {\n",
       "        vertical-align: middle;\n",
       "    }\n",
       "\n",
       "    .dataframe tbody tr th {\n",
       "        vertical-align: top;\n",
       "    }\n",
       "\n",
       "    .dataframe thead th {\n",
       "        text-align: right;\n",
       "    }\n",
       "</style>\n",
       "<table border=\"1\" class=\"dataframe\">\n",
       "  <thead>\n",
       "    <tr style=\"text-align: right;\">\n",
       "      <th></th>\n",
       "      <th>height</th>\n",
       "      <th>weight</th>\n",
       "    </tr>\n",
       "    <tr>\n",
       "      <th>sex</th>\n",
       "      <th></th>\n",
       "      <th></th>\n",
       "    </tr>\n",
       "  </thead>\n",
       "  <tbody>\n",
       "    <tr>\n",
       "      <th>女</th>\n",
       "      <td>164.333333</td>\n",
       "      <td>54.833333</td>\n",
       "    </tr>\n",
       "    <tr>\n",
       "      <th>男</th>\n",
       "      <td>175.250000</td>\n",
       "      <td>67.000000</td>\n",
       "    </tr>\n",
       "  </tbody>\n",
       "</table>\n",
       "</div>"
      ],
      "text/plain": [
       "         height     weight\n",
       "sex                       \n",
       "女    164.333333  54.833333\n",
       "男    175.250000  67.000000"
      ]
     },
     "execution_count": 3,
     "metadata": {},
     "output_type": "execute_result"
    }
   ],
   "source": [
    "sample_df.groupby(['sex']).mean()    #男女別の平均をだす"
   ]
  },
  {
   "cell_type": "markdown",
   "metadata": {},
   "source": [
    "続いて**中央値**(median)、これはデータをソートしたときに丁度中央にくる値のことです。"
   ]
  },
  {
   "cell_type": "code",
   "execution_count": 4,
   "metadata": {},
   "outputs": [
    {
     "data": {
      "text/plain": [
       "array([159, 162, 162, 165, 168, 170, 172, 172, 177, 180])"
      ]
     },
     "execution_count": 4,
     "metadata": {},
     "output_type": "execute_result"
    }
   ],
   "source": [
    "np.sort(sample_df.height)    #データをsortした"
   ]
  },
  {
   "cell_type": "code",
   "execution_count": 5,
   "metadata": {},
   "outputs": [
    {
     "data": {
      "text/plain": [
       "height    169.0\n",
       "weight     59.0\n",
       "dtype: float64"
      ]
     },
     "execution_count": 5,
     "metadata": {},
     "output_type": "execute_result"
    }
   ],
   "source": [
    "sample_df.median()    #偶数個のときは、中央2つの平均"
   ]
  },
  {
   "cell_type": "markdown",
   "metadata": {},
   "source": [
    "[問題]　以下のスクリプトを参考に、標本平均と中央値の違いについて考察してください。"
   ]
  },
  {
   "cell_type": "code",
   "execution_count": 6,
   "metadata": {},
   "outputs": [
    {
     "data": {
      "text/plain": [
       "array([     0,      0,      0,      0,      0,      0, 100000])"
      ]
     },
     "execution_count": 6,
     "metadata": {},
     "output_type": "execute_result"
    }
   ],
   "source": [
    "d = np.asarray([0,0,0,0,0,0,100000])\n",
    "d"
   ]
  },
  {
   "cell_type": "code",
   "execution_count": 7,
   "metadata": {},
   "outputs": [
    {
     "name": "stdout",
     "output_type": "stream",
     "text": [
      "mean 14285.714285714286\n",
      "median 0.0\n"
     ]
    }
   ],
   "source": [
    "print(\"mean\", np.mean(d))\n",
    "print(\"median\", np.median(d))"
   ]
  },
  {
   "cell_type": "markdown",
   "metadata": {},
   "source": [
    "**最頻値**(mode)は最も出てくる回数が多い値のことです。最頻値は一つの値に定まるとは限りません。"
   ]
  },
  {
   "cell_type": "code",
   "execution_count": 8,
   "metadata": {},
   "outputs": [
    {
     "data": {
      "text/html": [
       "<div>\n",
       "<style scoped>\n",
       "    .dataframe tbody tr th:only-of-type {\n",
       "        vertical-align: middle;\n",
       "    }\n",
       "\n",
       "    .dataframe tbody tr th {\n",
       "        vertical-align: top;\n",
       "    }\n",
       "\n",
       "    .dataframe thead th {\n",
       "        text-align: right;\n",
       "    }\n",
       "</style>\n",
       "<table border=\"1\" class=\"dataframe\">\n",
       "  <thead>\n",
       "    <tr style=\"text-align: right;\">\n",
       "      <th></th>\n",
       "      <th>height</th>\n",
       "      <th>weight</th>\n",
       "      <th>sex</th>\n",
       "    </tr>\n",
       "  </thead>\n",
       "  <tbody>\n",
       "    <tr>\n",
       "      <th>0</th>\n",
       "      <td>162.0</td>\n",
       "      <td>55</td>\n",
       "      <td>女</td>\n",
       "    </tr>\n",
       "    <tr>\n",
       "      <th>1</th>\n",
       "      <td>172.0</td>\n",
       "      <td>59</td>\n",
       "      <td>NaN</td>\n",
       "    </tr>\n",
       "    <tr>\n",
       "      <th>2</th>\n",
       "      <td>NaN</td>\n",
       "      <td>65</td>\n",
       "      <td>NaN</td>\n",
       "    </tr>\n",
       "  </tbody>\n",
       "</table>\n",
       "</div>"
      ],
      "text/plain": [
       "   height  weight  sex\n",
       "0   162.0      55    女\n",
       "1   172.0      59  NaN\n",
       "2     NaN      65  NaN"
      ]
     },
     "execution_count": 8,
     "metadata": {},
     "output_type": "execute_result"
    }
   ],
   "source": [
    "sample_df.mode() #複数個の最頻値が取得できる"
   ]
  },
  {
   "cell_type": "markdown",
   "metadata": {},
   "source": [
    "### 1.2.2 分散・標準偏差"
   ]
  },
  {
   "cell_type": "markdown",
   "metadata": {},
   "source": [
    "**分散**(variance)や**標準偏差**(standard deviation)は散らばり具合を表す統計量で、統計学において最も重要といっても過言ではない統計量です。"
   ]
  },
  {
   "cell_type": "code",
   "execution_count": 9,
   "metadata": {},
   "outputs": [
    {
     "data": {
      "text/plain": [
       "height    46.455556\n",
       "weight    58.900000\n",
       "dtype: float64"
      ]
     },
     "execution_count": 9,
     "metadata": {},
     "output_type": "execute_result"
    }
   ],
   "source": [
    "sample_df.var()"
   ]
  },
  {
   "cell_type": "markdown",
   "metadata": {},
   "source": [
    "[問題]　不偏分散の定義式を確認し、不偏分散を計算する関数を定義しなさい。"
   ]
  },
  {
   "cell_type": "markdown",
   "metadata": {},
   "source": [
    "[解答]"
   ]
  },
  {
   "cell_type": "code",
   "execution_count": 10,
   "metadata": {},
   "outputs": [
    {
     "name": "stdout",
     "output_type": "stream",
     "text": [
      "体重の不偏分散 58.900000000000006\n",
      "体重の分散 58.900000000000006\n"
     ]
    }
   ],
   "source": [
    "def my_var(x):\n",
    "    var = np.sum((x - np.mean(x))**2)/(len(x)-1)\n",
    "    return var\n",
    "\n",
    "print(\"体重の不偏分散\", my_var(sample_df.weight))\n",
    "print(\"体重の分散\", sample_df.weight.var())"
   ]
  },
  {
   "cell_type": "markdown",
   "metadata": {},
   "source": [
    "標準偏差を計算する場合は以下のようになります。\n",
    "\n",
    "* 標準偏差 = 分散の平方根\n",
    "\n",
    "平方根を取る理由は、変数の単位に注目するとわかります。身長を例にするなら分散の単位は$cm^2$、身長の標準偏差の単位は$cm$になります。"
   ]
  },
  {
   "cell_type": "code",
   "execution_count": 11,
   "metadata": {},
   "outputs": [
    {
     "data": {
      "text/plain": [
       "height    6.815831\n",
       "weight    7.674634\n",
       "dtype: float64"
      ]
     },
     "execution_count": 11,
     "metadata": {},
     "output_type": "execute_result"
    }
   ],
   "source": [
    "sample_df.std()"
   ]
  },
  {
   "cell_type": "markdown",
   "metadata": {},
   "source": [
    "### 1.2.3 分位点\n",
    "\n",
    "**四分位点**(quantile point)を導入します。四分位点とは、それより小さい値たちが全体の1/4, 2/4, 3/4となる点のことです。より一般に、n分位点とはそれより小さい値たちが全体の1/n, 2/n, ... , (n-1)/nとなる点のことをいいます。"
   ]
  },
  {
   "cell_type": "code",
   "execution_count": 12,
   "metadata": {},
   "outputs": [
    {
     "data": {
      "text/html": [
       "<div>\n",
       "<style scoped>\n",
       "    .dataframe tbody tr th:only-of-type {\n",
       "        vertical-align: middle;\n",
       "    }\n",
       "\n",
       "    .dataframe tbody tr th {\n",
       "        vertical-align: top;\n",
       "    }\n",
       "\n",
       "    .dataframe thead th {\n",
       "        text-align: right;\n",
       "    }\n",
       "</style>\n",
       "<table border=\"1\" class=\"dataframe\">\n",
       "  <thead>\n",
       "    <tr style=\"text-align: right;\">\n",
       "      <th></th>\n",
       "      <th>height</th>\n",
       "      <th>weight</th>\n",
       "    </tr>\n",
       "  </thead>\n",
       "  <tbody>\n",
       "    <tr>\n",
       "      <th>0.25</th>\n",
       "      <td>162.75</td>\n",
       "      <td>55.5</td>\n",
       "    </tr>\n",
       "    <tr>\n",
       "      <th>0.50</th>\n",
       "      <td>169.00</td>\n",
       "      <td>59.0</td>\n",
       "    </tr>\n",
       "    <tr>\n",
       "      <th>0.75</th>\n",
       "      <td>172.00</td>\n",
       "      <td>65.0</td>\n",
       "    </tr>\n",
       "  </tbody>\n",
       "</table>\n",
       "</div>"
      ],
      "text/plain": [
       "      height  weight\n",
       "0.25  162.75    55.5\n",
       "0.50  169.00    59.0\n",
       "0.75  172.00    65.0"
      ]
     },
     "execution_count": 12,
     "metadata": {},
     "output_type": "execute_result"
    }
   ],
   "source": [
    "#身長の四分位点\n",
    "sample_df.quantile(q = [0.25, 0.5, 0.75]) "
   ]
  },
  {
   "cell_type": "code",
   "execution_count": 13,
   "metadata": {},
   "outputs": [
    {
     "data": {
      "text/plain": [
       "array([159, 162, 162, 165, 168, 170, 172, 172, 177, 180])"
      ]
     },
     "execution_count": 13,
     "metadata": {},
     "output_type": "execute_result"
    }
   ],
   "source": [
    "# ソートした結果から四分位点がどのように計算されたか考えてみよう\n",
    "np.sort(sample_df.height) "
   ]
  },
  {
   "cell_type": "markdown",
   "metadata": {},
   "source": [
    "[問題]　以下のデータの平均気温について、4分位点を求めてみなさい。"
   ]
  },
  {
   "cell_type": "code",
   "execution_count": 14,
   "metadata": {},
   "outputs": [
    {
     "data": {
      "text/html": [
       "<div>\n",
       "<style scoped>\n",
       "    .dataframe tbody tr th:only-of-type {\n",
       "        vertical-align: middle;\n",
       "    }\n",
       "\n",
       "    .dataframe tbody tr th {\n",
       "        vertical-align: top;\n",
       "    }\n",
       "\n",
       "    .dataframe thead th {\n",
       "        text-align: right;\n",
       "    }\n",
       "</style>\n",
       "<table border=\"1\" class=\"dataframe\">\n",
       "  <thead>\n",
       "    <tr style=\"text-align: right;\">\n",
       "      <th></th>\n",
       "      <th>日</th>\n",
       "      <th>平均気温</th>\n",
       "      <th>平均湿度</th>\n",
       "      <th>日照時間</th>\n",
       "      <th>風向き</th>\n",
       "    </tr>\n",
       "  </thead>\n",
       "  <tbody>\n",
       "    <tr>\n",
       "      <th>0</th>\n",
       "      <td>1</td>\n",
       "      <td>6.6</td>\n",
       "      <td>33.0</td>\n",
       "      <td>7.9</td>\n",
       "      <td>北西</td>\n",
       "    </tr>\n",
       "    <tr>\n",
       "      <th>1</th>\n",
       "      <td>2</td>\n",
       "      <td>7.0</td>\n",
       "      <td>41.0</td>\n",
       "      <td>8.4</td>\n",
       "      <td>北北西</td>\n",
       "    </tr>\n",
       "    <tr>\n",
       "      <th>2</th>\n",
       "      <td>3</td>\n",
       "      <td>5.9</td>\n",
       "      <td>48.0</td>\n",
       "      <td>5.2</td>\n",
       "      <td>北北西</td>\n",
       "    </tr>\n",
       "    <tr>\n",
       "      <th>3</th>\n",
       "      <td>4</td>\n",
       "      <td>6.3</td>\n",
       "      <td>40.0</td>\n",
       "      <td>8.4</td>\n",
       "      <td>北西</td>\n",
       "    </tr>\n",
       "    <tr>\n",
       "      <th>4</th>\n",
       "      <td>5</td>\n",
       "      <td>7.3</td>\n",
       "      <td>39.0</td>\n",
       "      <td>7.4</td>\n",
       "      <td>南西</td>\n",
       "    </tr>\n",
       "    <tr>\n",
       "      <th>5</th>\n",
       "      <td>6</td>\n",
       "      <td>6.5</td>\n",
       "      <td>34.0</td>\n",
       "      <td>6.7</td>\n",
       "      <td>北西</td>\n",
       "    </tr>\n",
       "    <tr>\n",
       "      <th>6</th>\n",
       "      <td>7</td>\n",
       "      <td>4.0</td>\n",
       "      <td>25.0</td>\n",
       "      <td>9.2</td>\n",
       "      <td>北西</td>\n",
       "    </tr>\n",
       "    <tr>\n",
       "      <th>7</th>\n",
       "      <td>8</td>\n",
       "      <td>5.9</td>\n",
       "      <td>33.0</td>\n",
       "      <td>9.2</td>\n",
       "      <td>北北西</td>\n",
       "    </tr>\n",
       "    <tr>\n",
       "      <th>8</th>\n",
       "      <td>9</td>\n",
       "      <td>6.1</td>\n",
       "      <td>46.0</td>\n",
       "      <td>9.1</td>\n",
       "      <td>東北東</td>\n",
       "    </tr>\n",
       "    <tr>\n",
       "      <th>9</th>\n",
       "      <td>10</td>\n",
       "      <td>3.4</td>\n",
       "      <td>27.0</td>\n",
       "      <td>9.2</td>\n",
       "      <td>北北西</td>\n",
       "    </tr>\n",
       "    <tr>\n",
       "      <th>10</th>\n",
       "      <td>11</td>\n",
       "      <td>3.8</td>\n",
       "      <td>31.0</td>\n",
       "      <td>6.7</td>\n",
       "      <td>北北西</td>\n",
       "    </tr>\n",
       "    <tr>\n",
       "      <th>11</th>\n",
       "      <td>12</td>\n",
       "      <td>5.1</td>\n",
       "      <td>37.0</td>\n",
       "      <td>8.4</td>\n",
       "      <td>北北西</td>\n",
       "    </tr>\n",
       "    <tr>\n",
       "      <th>12</th>\n",
       "      <td>13</td>\n",
       "      <td>4.4</td>\n",
       "      <td>28.0</td>\n",
       "      <td>8.6</td>\n",
       "      <td>北北西</td>\n",
       "    </tr>\n",
       "    <tr>\n",
       "      <th>13</th>\n",
       "      <td>14</td>\n",
       "      <td>3.8</td>\n",
       "      <td>36.0</td>\n",
       "      <td>9.1</td>\n",
       "      <td>西北西</td>\n",
       "    </tr>\n",
       "    <tr>\n",
       "      <th>14</th>\n",
       "      <td>15</td>\n",
       "      <td>4.0</td>\n",
       "      <td>52.0</td>\n",
       "      <td>1.1</td>\n",
       "      <td>東北東</td>\n",
       "    </tr>\n",
       "    <tr>\n",
       "      <th>15</th>\n",
       "      <td>16</td>\n",
       "      <td>2.2</td>\n",
       "      <td>39.0</td>\n",
       "      <td>8.2</td>\n",
       "      <td>北北西</td>\n",
       "    </tr>\n",
       "    <tr>\n",
       "      <th>16</th>\n",
       "      <td>17</td>\n",
       "      <td>5.0</td>\n",
       "      <td>26.0</td>\n",
       "      <td>8.7</td>\n",
       "      <td>北北西</td>\n",
       "    </tr>\n",
       "    <tr>\n",
       "      <th>17</th>\n",
       "      <td>18</td>\n",
       "      <td>5.5</td>\n",
       "      <td>36.0</td>\n",
       "      <td>9.4</td>\n",
       "      <td>北西</td>\n",
       "    </tr>\n",
       "    <tr>\n",
       "      <th>18</th>\n",
       "      <td>19</td>\n",
       "      <td>6.3</td>\n",
       "      <td>41.0</td>\n",
       "      <td>9.3</td>\n",
       "      <td>北北西</td>\n",
       "    </tr>\n",
       "    <tr>\n",
       "      <th>19</th>\n",
       "      <td>20</td>\n",
       "      <td>5.4</td>\n",
       "      <td>31.0</td>\n",
       "      <td>9.4</td>\n",
       "      <td>北北西</td>\n",
       "    </tr>\n",
       "    <tr>\n",
       "      <th>20</th>\n",
       "      <td>21</td>\n",
       "      <td>5.0</td>\n",
       "      <td>28.0</td>\n",
       "      <td>9.3</td>\n",
       "      <td>北西</td>\n",
       "    </tr>\n",
       "    <tr>\n",
       "      <th>21</th>\n",
       "      <td>22</td>\n",
       "      <td>6.0</td>\n",
       "      <td>34.0</td>\n",
       "      <td>9.4</td>\n",
       "      <td>北北西</td>\n",
       "    </tr>\n",
       "    <tr>\n",
       "      <th>22</th>\n",
       "      <td>23</td>\n",
       "      <td>5.7</td>\n",
       "      <td>42.0</td>\n",
       "      <td>6.3</td>\n",
       "      <td>南東</td>\n",
       "    </tr>\n",
       "    <tr>\n",
       "      <th>23</th>\n",
       "      <td>24</td>\n",
       "      <td>5.1</td>\n",
       "      <td>65.0</td>\n",
       "      <td>3.5</td>\n",
       "      <td>北西</td>\n",
       "    </tr>\n",
       "    <tr>\n",
       "      <th>24</th>\n",
       "      <td>25</td>\n",
       "      <td>5.9</td>\n",
       "      <td>34.0</td>\n",
       "      <td>8.6</td>\n",
       "      <td>北西</td>\n",
       "    </tr>\n",
       "    <tr>\n",
       "      <th>25</th>\n",
       "      <td>26</td>\n",
       "      <td>5.3</td>\n",
       "      <td>37.0</td>\n",
       "      <td>7.3</td>\n",
       "      <td>北西</td>\n",
       "    </tr>\n",
       "    <tr>\n",
       "      <th>26</th>\n",
       "      <td>27</td>\n",
       "      <td>5.5</td>\n",
       "      <td>28.0</td>\n",
       "      <td>8.0</td>\n",
       "      <td>北北西</td>\n",
       "    </tr>\n",
       "    <tr>\n",
       "      <th>27</th>\n",
       "      <td>28</td>\n",
       "      <td>3.7</td>\n",
       "      <td>30.0</td>\n",
       "      <td>9.3</td>\n",
       "      <td>北北西</td>\n",
       "    </tr>\n",
       "    <tr>\n",
       "      <th>28</th>\n",
       "      <td>29</td>\n",
       "      <td>4.2</td>\n",
       "      <td>40.0</td>\n",
       "      <td>7.8</td>\n",
       "      <td>北北西</td>\n",
       "    </tr>\n",
       "    <tr>\n",
       "      <th>29</th>\n",
       "      <td>30</td>\n",
       "      <td>2.9</td>\n",
       "      <td>34.0</td>\n",
       "      <td>5.1</td>\n",
       "      <td>北西</td>\n",
       "    </tr>\n",
       "    <tr>\n",
       "      <th>30</th>\n",
       "      <td>31</td>\n",
       "      <td>2.9</td>\n",
       "      <td>28.0</td>\n",
       "      <td>9.7</td>\n",
       "      <td>西北西</td>\n",
       "    </tr>\n",
       "  </tbody>\n",
       "</table>\n",
       "</div>"
      ],
      "text/plain": [
       "     日  平均気温  平均湿度  日照時間  風向き\n",
       "0    1   6.6  33.0   7.9   北西\n",
       "1    2   7.0  41.0   8.4  北北西\n",
       "2    3   5.9  48.0   5.2  北北西\n",
       "3    4   6.3  40.0   8.4   北西\n",
       "4    5   7.3  39.0   7.4   南西\n",
       "5    6   6.5  34.0   6.7   北西\n",
       "6    7   4.0  25.0   9.2   北西\n",
       "7    8   5.9  33.0   9.2  北北西\n",
       "8    9   6.1  46.0   9.1  東北東\n",
       "9   10   3.4  27.0   9.2  北北西\n",
       "10  11   3.8  31.0   6.7  北北西\n",
       "11  12   5.1  37.0   8.4  北北西\n",
       "12  13   4.4  28.0   8.6  北北西\n",
       "13  14   3.8  36.0   9.1  西北西\n",
       "14  15   4.0  52.0   1.1  東北東\n",
       "15  16   2.2  39.0   8.2  北北西\n",
       "16  17   5.0  26.0   8.7  北北西\n",
       "17  18   5.5  36.0   9.4   北西\n",
       "18  19   6.3  41.0   9.3  北北西\n",
       "19  20   5.4  31.0   9.4  北北西\n",
       "20  21   5.0  28.0   9.3   北西\n",
       "21  22   6.0  34.0   9.4  北北西\n",
       "22  23   5.7  42.0   6.3   南東\n",
       "23  24   5.1  65.0   3.5   北西\n",
       "24  25   5.9  34.0   8.6   北西\n",
       "25  26   5.3  37.0   7.3   北西\n",
       "26  27   5.5  28.0   8.0  北北西\n",
       "27  28   3.7  30.0   9.3  北北西\n",
       "28  29   4.2  40.0   7.8  北北西\n",
       "29  30   2.9  34.0   5.1   北西\n",
       "30  31   2.9  28.0   9.7  西北西"
      ]
     },
     "execution_count": 14,
     "metadata": {},
     "output_type": "execute_result"
    }
   ],
   "source": [
    "weather_d = pd.read_csv(\"./data/weather.csv\", encoding = \"cp932\")\n",
    "weather_d"
   ]
  },
  {
   "cell_type": "markdown",
   "metadata": {},
   "source": [
    "[解答] "
   ]
  },
  {
   "cell_type": "code",
   "execution_count": 15,
   "metadata": {},
   "outputs": [
    {
     "data": {
      "text/html": [
       "<div>\n",
       "<style scoped>\n",
       "    .dataframe tbody tr th:only-of-type {\n",
       "        vertical-align: middle;\n",
       "    }\n",
       "\n",
       "    .dataframe tbody tr th {\n",
       "        vertical-align: top;\n",
       "    }\n",
       "\n",
       "    .dataframe thead th {\n",
       "        text-align: right;\n",
       "    }\n",
       "</style>\n",
       "<table border=\"1\" class=\"dataframe\">\n",
       "  <thead>\n",
       "    <tr style=\"text-align: right;\">\n",
       "      <th></th>\n",
       "      <th>height</th>\n",
       "      <th>weight</th>\n",
       "    </tr>\n",
       "  </thead>\n",
       "  <tbody>\n",
       "    <tr>\n",
       "      <th>0.25</th>\n",
       "      <td>162.75</td>\n",
       "      <td>55.5</td>\n",
       "    </tr>\n",
       "    <tr>\n",
       "      <th>0.50</th>\n",
       "      <td>169.00</td>\n",
       "      <td>59.0</td>\n",
       "    </tr>\n",
       "    <tr>\n",
       "      <th>0.75</th>\n",
       "      <td>172.00</td>\n",
       "      <td>65.0</td>\n",
       "    </tr>\n",
       "  </tbody>\n",
       "</table>\n",
       "</div>"
      ],
      "text/plain": [
       "      height  weight\n",
       "0.25  162.75    55.5\n",
       "0.50  169.00    59.0\n",
       "0.75  172.00    65.0"
      ]
     },
     "execution_count": 15,
     "metadata": {},
     "output_type": "execute_result"
    }
   ],
   "source": [
    "sample_df.quantile(q = [0.25, 0.5, 0.75])"
   ]
  },
  {
   "cell_type": "markdown",
   "metadata": {},
   "source": [
    "## 1.3 tidyデータについて\n",
    "\n",
    "### 1.3.1 tidyデータとは\n",
    "\n",
    "`tidy`データ(2014～)という概念があります。これはデータ分析言語として`Python`言語と双璧をなす`R`言語において提唱された概念です。提唱者は`R`言語の神様として有名な **Hadley Wickham**です。`tidy`データとは、簡単に言えばすべての変数情報を列として持つデータのことをいいます。\n",
    "\n",
    "データがこの形式に整理されている利点は、特にデータ分析、機械学習を実行する際のコストのうち**前処理**と呼ばれるデータ成型のためのコストの面で非常に大きくなります。Wickhamは`tidy`データの概念を中心としたエコシステムを作り上げようとしています。"
   ]
  },
  {
   "cell_type": "markdown",
   "metadata": {},
   "source": [
    "<center><img src=\"./imgs/EPgIMLi.jpg\" width=200px></center>"
   ]
  },
  {
   "cell_type": "markdown",
   "metadata": {},
   "source": [
    "少し抽象的なので、例を見て考えてみよう。まず`tidy`でないデータから見てみることにしよう。"
   ]
  },
  {
   "cell_type": "code",
   "execution_count": 16,
   "metadata": {},
   "outputs": [
    {
     "data": {
      "text/html": [
       "<div>\n",
       "<style scoped>\n",
       "    .dataframe tbody tr th:only-of-type {\n",
       "        vertical-align: middle;\n",
       "    }\n",
       "\n",
       "    .dataframe tbody tr th {\n",
       "        vertical-align: top;\n",
       "    }\n",
       "\n",
       "    .dataframe thead th {\n",
       "        text-align: right;\n",
       "    }\n",
       "</style>\n",
       "<table border=\"1\" class=\"dataframe\">\n",
       "  <thead>\n",
       "    <tr style=\"text-align: right;\">\n",
       "      <th></th>\n",
       "      <th>患者</th>\n",
       "      <th>投薬前血圧</th>\n",
       "      <th>投薬後血圧</th>\n",
       "    </tr>\n",
       "  </thead>\n",
       "  <tbody>\n",
       "    <tr>\n",
       "      <th>0</th>\n",
       "      <td>A</td>\n",
       "      <td>150</td>\n",
       "      <td>100</td>\n",
       "    </tr>\n",
       "    <tr>\n",
       "      <th>1</th>\n",
       "      <td>B</td>\n",
       "      <td>160</td>\n",
       "      <td>130</td>\n",
       "    </tr>\n",
       "    <tr>\n",
       "      <th>2</th>\n",
       "      <td>C</td>\n",
       "      <td>175</td>\n",
       "      <td>150</td>\n",
       "    </tr>\n",
       "    <tr>\n",
       "      <th>3</th>\n",
       "      <td>D</td>\n",
       "      <td>130</td>\n",
       "      <td>90</td>\n",
       "    </tr>\n",
       "    <tr>\n",
       "      <th>4</th>\n",
       "      <td>E</td>\n",
       "      <td>155</td>\n",
       "      <td>130</td>\n",
       "    </tr>\n",
       "  </tbody>\n",
       "</table>\n",
       "</div>"
      ],
      "text/plain": [
       "  患者  投薬前血圧  投薬後血圧\n",
       "0  A    150    100\n",
       "1  B    160    130\n",
       "2  C    175    150\n",
       "3  D    130     90\n",
       "4  E    155    130"
      ]
     },
     "execution_count": 16,
     "metadata": {},
     "output_type": "execute_result"
    }
   ],
   "source": [
    "a0 = np.array(['A', 'B', 'C', 'D', 'E'])\n",
    "a1 = np.array([150,160,175,130,155])\n",
    "a2 = np.array([100,130,150,90,130])\n",
    "\n",
    "bp_df = pd.DataFrame({\n",
    "    '患者':a0,\n",
    "    '投薬前血圧':a1,\n",
    "    '投薬後血圧':a2,\n",
    "})\n",
    "\n",
    "bp_df"
   ]
  },
  {
   "cell_type": "markdown",
   "metadata": {},
   "source": [
    "さてこれを`tidy`データ化してみるとどうなるだろうか。"
   ]
  },
  {
   "cell_type": "code",
   "execution_count": 17,
   "metadata": {},
   "outputs": [
    {
     "name": "stdout",
     "output_type": "stream",
     "text": [
      "  患者   血圧 状態\n",
      "0  A  150  前\n",
      "1  B  160  前\n",
      "2  C  175  前\n",
      "3  D  130  前\n",
      "4  E  155  前\n",
      "5  A  100  後\n",
      "6  B  130  後\n",
      "7  C  150  後\n",
      "8  D   90  後\n",
      "9  E  130  後\n"
     ]
    }
   ],
   "source": [
    "a3 = np.array(['A', 'B', 'C', 'D', 'E','A', 'B', 'C', 'D', 'E'])\n",
    "a4 = np.array([150,160,175,130,155,100,130,150,90,130])\n",
    "a5 = np.array(['前', '後'])\n",
    "a6 = np.repeat(a5, [5,5], axis=0)\n",
    "\n",
    "tidybp_df = pd.DataFrame({\n",
    "    '患者':a3,\n",
    "    '血圧':a4,\n",
    "    '状態':a6\n",
    "})\n",
    "print(tidybp_df)"
   ]
  },
  {
   "cell_type": "markdown",
   "metadata": {},
   "source": [
    "`tidy`データの意味が伝わったでしょうか。\n",
    "\n",
    "**tidyの条件**\n",
    "\n",
    "**・一つの変数に一つの列**\n",
    "\n",
    "**・一つの観測に一つの行**\n",
    "\n",
    "**・一つの表には一種類の観測**\n",
    "\n",
    "**・一つのセルには1つの値**\n",
    "\n",
    "`Python`や`R`では近年、このデータ形式に対してさまざな関数が対応するように設計されています。普段のデータ作成においても、`tidy`データを念頭において作成しておくとよいでしょう。"
   ]
  },
  {
   "cell_type": "markdown",
   "metadata": {},
   "source": [
    "[問題]　以下の`tidy`でないデータを`tidy`データに直してみてください。"
   ]
  },
  {
   "cell_type": "code",
   "execution_count": 18,
   "metadata": {},
   "outputs": [
    {
     "data": {
      "text/html": [
       "<div>\n",
       "<style scoped>\n",
       "    .dataframe tbody tr th:only-of-type {\n",
       "        vertical-align: middle;\n",
       "    }\n",
       "\n",
       "    .dataframe tbody tr th {\n",
       "        vertical-align: top;\n",
       "    }\n",
       "\n",
       "    .dataframe thead th {\n",
       "        text-align: right;\n",
       "    }\n",
       "</style>\n",
       "<table border=\"1\" class=\"dataframe\">\n",
       "  <thead>\n",
       "    <tr style=\"text-align: right;\">\n",
       "      <th></th>\n",
       "      <th>地点</th>\n",
       "      <th>6時</th>\n",
       "      <th>12時</th>\n",
       "      <th>18時</th>\n",
       "    </tr>\n",
       "  </thead>\n",
       "  <tbody>\n",
       "    <tr>\n",
       "      <th>0</th>\n",
       "      <td>札幌</td>\n",
       "      <td>晴れ</td>\n",
       "      <td>晴れ</td>\n",
       "      <td>晴れ</td>\n",
       "    </tr>\n",
       "    <tr>\n",
       "      <th>1</th>\n",
       "      <td>東京</td>\n",
       "      <td>曇り</td>\n",
       "      <td>雨</td>\n",
       "      <td>雨</td>\n",
       "    </tr>\n",
       "    <tr>\n",
       "      <th>2</th>\n",
       "      <td>神戸</td>\n",
       "      <td>雨</td>\n",
       "      <td>曇り</td>\n",
       "      <td>晴れ</td>\n",
       "    </tr>\n",
       "  </tbody>\n",
       "</table>\n",
       "</div>"
      ],
      "text/plain": [
       "   地点  6時 12時 18時\n",
       "0  札幌  晴れ  晴れ  晴れ\n",
       "1  東京  曇り   雨   雨\n",
       "2  神戸   雨  曇り  晴れ"
      ]
     },
     "execution_count": 18,
     "metadata": {},
     "output_type": "execute_result"
    }
   ],
   "source": [
    "weather_notidy = pd.read_csv('./data/weather_notidy.csv', encoding='cp932')\n",
    "weather_notidy"
   ]
  },
  {
   "cell_type": "markdown",
   "metadata": {},
   "source": [
    "[解答]"
   ]
  },
  {
   "cell_type": "code",
   "execution_count": 19,
   "metadata": {},
   "outputs": [
    {
     "name": "stdout",
     "output_type": "stream",
     "text": [
      "   地点   時刻  天候\n",
      "0  札幌   6時  晴れ\n",
      "1  札幌  12時  晴れ\n",
      "2  札幌  18時  晴れ\n",
      "3  東京   6時  曇り\n",
      "4  東京  12時   雨\n",
      "5  東京  18時   雨\n",
      "6  神戸   6時   雨\n",
      "7  神戸  12時  曇り\n",
      "8  神戸  18時  晴れ\n"
     ]
    }
   ],
   "source": [
    "b1 = np.repeat(['札幌', '東京', '神戸'], 3)\n",
    "b2 = np.array(['6時', '12時', '18時']*3)\n",
    "b3 = np.array(['晴れ','晴れ','晴れ','曇り','雨','雨','雨','曇り','晴れ' ])\n",
    "\n",
    "tidyweather_df = pd.DataFrame({\n",
    "    '地点':b1,\n",
    "    '時刻':b2,\n",
    "    '天候':b3\n",
    "})\n",
    "print(tidyweather_df)"
   ]
  },
  {
   "cell_type": "markdown",
   "metadata": {},
   "source": [
    "## 1.4 データの可視化\n",
    "\n",
    "ここではPythonを使って、**データの可視化**(data visualization)をする方法について学んでいきます。`matplotlib`や`seaborn`というライブラリが標準的に使われています。\n",
    "\n",
    "### 1.4.1 1変量データの可視化"
   ]
  },
  {
   "cell_type": "code",
   "execution_count": 20,
   "metadata": {},
   "outputs": [],
   "source": [
    "#ライブラリなどの準備\n",
    "import numpy as np\n",
    "import pandas as pd\n",
    "#表示桁数を調節する\n",
    "%precision 3\n",
    "import matplotlib.pyplot as plt\n",
    "import japanize_matplotlib    # 日本語のトーフ化を避けるため\n",
    "import seaborn as sns"
   ]
  },
  {
   "cell_type": "code",
   "execution_count": 21,
   "metadata": {},
   "outputs": [
    {
     "name": "stdout",
     "output_type": "stream",
     "text": [
      "[ 0.496  0.501 -2.584  1.918 -0.805  1.62  -0.456 -1.153  0.28  -0.254]\n",
      "[ 0.448 -0.774  0.921  0.671 -1.321 -1.596 -0.415 -2.001 -0.802 -1.123]\n"
     ]
    },
    {
     "data": {
      "image/png": "[encoded data removed]",
      "text/plain": [
       "<Figure size 432x288 with 1 Axes>"
      ]
     },
     "metadata": {
      "needs_background": "light"
     },
     "output_type": "display_data"
    }
   ],
   "source": [
    "#折れ線グラフ\n",
    "#正規分布に従う10個の乱数x,yの生成\n",
    "from numpy.random import randn\n",
    "x = randn(10)\n",
    "y = randn(10)\n",
    "print(x)\n",
    "print(y)\n",
    "\n",
    "#線グラフの描画\n",
    "plt.plot(x, color = \"orange\")\n",
    "plt.xlabel(\"x\")\n",
    "plt.plot(y, color = \"blue\")\n",
    "plt.ylabel(\"y\")\n",
    "plt.title(\"line plot\")\n",
    "plt.show()"
   ]
  },
  {
   "cell_type": "markdown",
   "metadata": {},
   "source": [
    "統計学的に大変重要なグラフである**ヒストグラム**(histogram)は以下のように作成できます。"
   ]
  },
  {
   "cell_type": "code",
   "execution_count": 22,
   "metadata": {},
   "outputs": [
    {
     "name": "stdout",
     "output_type": "stream",
     "text": [
      "[36.857 35.53  42.77  39.399 28.335 37.085 34.019 34.198 21.992 23.452\n",
      " 34.321 18.117 24.027 38.624 29.416 41.86  26.939 30.9   36.779 24.317\n",
      " 16.753 21.083 12.313 20.669 36.342 29.441 34.211 15.185 37.367 32.876\n",
      " 33.059 31.741 34.706 29.781 46.742 23.499 14.455 25.506 34.966 33.876\n",
      " 21.376 20.597 34.139 32.549 37.36  24.334 36.157 28.671 20.343 24.22\n",
      " 35.753 20.819 27.699 48.236 30.459 26.033 23.29  37.857 30.55  23.58\n",
      " 32.845 27.33  41.112 24.826 33.716 21.179 41.127 34.807 19.828 33.036\n",
      "  7.799 26.273 32.455 40.695 21.72  26.924 22.651 32.497 23.199 48.589\n",
      " 21.867 43.517 24.996 26.925 40.344 28.889 30.261 17.695 26.911 12.31\n",
      " 35.723 13.943 39.872 29.314 37.828 15.075 27.247 37.676 35.448 37.115]\n"
     ]
    },
    {
     "name": "stderr",
     "output_type": "stream",
     "text": [
      "/Users/sugakubunka/Library/Python/3.8/lib/python/site-packages/seaborn/distributions.py:2557: FutureWarning: `distplot` is a deprecated function and will be removed in a future version. Please adapt your code to use either `displot` (a figure-level function with similar flexibility) or `histplot` (an axes-level function for histograms).\n",
      "  warnings.warn(msg, FutureWarning)\n"
     ]
    },
    {
     "data": {
      "image/png": "[encoded data removed]",
      "text/plain": [
       "<Figure size 432x288 with 1 Axes>"
      ]
     },
     "metadata": {
      "needs_background": "light"
     },
     "output_type": "display_data"
    }
   ],
   "source": [
    "#正規乱数を100個生成\n",
    "from numpy.random import normal\n",
    "x = normal(loc=30,scale=10,size=100)\n",
    "print(x)\n",
    "\n",
    "#seabornでヒストグラム作成(kdeはカーネル密度推定)\n",
    "sns.distplot(x,bins=range(0,100,10), color='black', kde=True)\n",
    "plt.show()"
   ]
  },
  {
   "cell_type": "code",
   "execution_count": 23,
   "metadata": {},
   "outputs": [
    {
     "name": "stdout",
     "output_type": "stream",
     "text": [
      "[7 3 4 6 4 3 1 4 2 4 4 2 3 2 2 4 7 2 2 3 2 5 4 3 3 3 6 4 4 2 5 2 5 2 4 4 3\n",
      " 0 6 2 2 4 3 1 3 3 4 1 7 4 3 0 2 4 0 2 3 5 2 1 3 2 2 4 5 3 6 4 4 3 4 3 3 5\n",
      " 4 4 3 3 6 6 4 2 1 2 1 3 3 5 2 1 2 4 1 5 5 1 3 5 3 2]\n"
     ]
    },
    {
     "name": "stderr",
     "output_type": "stream",
     "text": [
      "/Users/sugakubunka/Library/Python/3.8/lib/python/site-packages/seaborn/distributions.py:2557: FutureWarning: `distplot` is a deprecated function and will be removed in a future version. Please adapt your code to use either `displot` (a figure-level function with similar flexibility) or `histplot` (an axes-level function for histograms).\n",
      "  warnings.warn(msg, FutureWarning)\n"
     ]
    },
    {
     "data": {
      "image/png": "[encoded data removed]",
      "text/plain": [
       "<Figure size 432x288 with 1 Axes>"
      ]
     },
     "metadata": {
      "needs_background": "light"
     },
     "output_type": "display_data"
    }
   ],
   "source": [
    "#二項乱数を100個生成\n",
    "from numpy.random import binomial\n",
    "x = binomial(p = 0.3, n =10,size=100)\n",
    "print(x)\n",
    "\n",
    "#seabornでヒストグラム作成\n",
    "sns.distplot(x,bins = 5,color='black', kde = True)\n",
    "plt.show()"
   ]
  },
  {
   "cell_type": "code",
   "execution_count": 24,
   "metadata": {},
   "outputs": [
    {
     "name": "stderr",
     "output_type": "stream",
     "text": [
      "/Users/sugakubunka/Library/Python/3.8/lib/python/site-packages/seaborn/distributions.py:2557: FutureWarning: `distplot` is a deprecated function and will be removed in a future version. Please adapt your code to use either `displot` (a figure-level function with similar flexibility) or `histplot` (an axes-level function for histograms).\n",
      "  warnings.warn(msg, FutureWarning)\n"
     ]
    },
    {
     "data": {
      "image/png": "[encoded data removed]",
      "text/plain": [
       "<Figure size 432x288 with 1 Axes>"
      ]
     },
     "metadata": {
      "needs_background": "light"
     },
     "output_type": "display_data"
    }
   ],
   "source": [
    "sns.distplot(x,bins = 1,color='black', kde = False)\n",
    "plt.show()"
   ]
  },
  {
   "cell_type": "markdown",
   "metadata": {},
   "source": [
    "**度数＝その値が何個出てきているか**\n",
    "\n",
    "**ヒストグラム＝度数を縦軸、横軸に観測された値のグラフ**"
   ]
  },
  {
   "cell_type": "markdown",
   "metadata": {},
   "source": [
    "[問題]　ヒストグラムをみるときに注目したいポイントについて考えてみましょう。"
   ]
  },
  {
   "cell_type": "markdown",
   "metadata": {},
   "source": [
    "[解答]\n",
    "\n",
    "ヒストグラムを見るときには、\n",
    "\n",
    "**1) 峰の数=山の頂点の個数（母集団の確率分布の種類を決める情報）**<br>\n",
    "**2) 全体の形状（=なだらかか、急か、どのくらい広がっているか→分散）**<br>\n",
    "**3) 変域（どこからどこまで数字が出ているか）, 幅（そのヒストグラムがどう作られたか）** \n",
    "\n",
    "について注目すると良いです。"
   ]
  },
  {
   "cell_type": "markdown",
   "metadata": {},
   "source": [
    "### 1.4.2 多変量データの可視化\n",
    "次に多変量データの可視化、特に2変量の場合について考えよう。そのパターンとしては、\n",
    "\n",
    " **1) 量的変数×量的変数　→　散布図**\n",
    "\n",
    " **2) 量的変数×質的変数　→　箱ひげ図, バイオリンプロット**\n",
    "\n",
    " **3) 質的変数×質的変数　→　クロス集計表**\n",
    "\n",
    "があります。"
   ]
  },
  {
   "cell_type": "markdown",
   "metadata": {},
   "source": [
    "#### 1.4.2.1 散布図\n",
    "\n",
    "まずは、量×量の場合の**散布図**(scatter plot)を書いてみましょう。\n",
    "ちなみに、以下に使用する`iris`データセットは非常に有名なデータセットであり、統計学では機械学習では頻繁に登場するので、どんなデータセットなのか覚えてしまうとよいでしょう。(ちなみに大統計学者Fisherのアヤメの分類のデータセットであり、歴史的な意義もあります。)"
   ]
  },
  {
   "cell_type": "code",
   "execution_count": 25,
   "metadata": {},
   "outputs": [
    {
     "data": {
      "text/html": [
       "<div>\n",
       "<style scoped>\n",
       "    .dataframe tbody tr th:only-of-type {\n",
       "        vertical-align: middle;\n",
       "    }\n",
       "\n",
       "    .dataframe tbody tr th {\n",
       "        vertical-align: top;\n",
       "    }\n",
       "\n",
       "    .dataframe thead th {\n",
       "        text-align: right;\n",
       "    }\n",
       "</style>\n",
       "<table border=\"1\" class=\"dataframe\">\n",
       "  <thead>\n",
       "    <tr style=\"text-align: right;\">\n",
       "      <th></th>\n",
       "      <th>sepal_length</th>\n",
       "      <th>sepal_width</th>\n",
       "      <th>petal_length</th>\n",
       "      <th>petal_width</th>\n",
       "      <th>species</th>\n",
       "    </tr>\n",
       "  </thead>\n",
       "  <tbody>\n",
       "    <tr>\n",
       "      <th>0</th>\n",
       "      <td>5.1</td>\n",
       "      <td>3.5</td>\n",
       "      <td>1.4</td>\n",
       "      <td>0.2</td>\n",
       "      <td>setosa</td>\n",
       "    </tr>\n",
       "    <tr>\n",
       "      <th>1</th>\n",
       "      <td>4.9</td>\n",
       "      <td>3.0</td>\n",
       "      <td>1.4</td>\n",
       "      <td>0.2</td>\n",
       "      <td>setosa</td>\n",
       "    </tr>\n",
       "    <tr>\n",
       "      <th>2</th>\n",
       "      <td>4.7</td>\n",
       "      <td>3.2</td>\n",
       "      <td>1.3</td>\n",
       "      <td>0.2</td>\n",
       "      <td>setosa</td>\n",
       "    </tr>\n",
       "    <tr>\n",
       "      <th>3</th>\n",
       "      <td>4.6</td>\n",
       "      <td>3.1</td>\n",
       "      <td>1.5</td>\n",
       "      <td>0.2</td>\n",
       "      <td>setosa</td>\n",
       "    </tr>\n",
       "    <tr>\n",
       "      <th>4</th>\n",
       "      <td>5.0</td>\n",
       "      <td>3.6</td>\n",
       "      <td>1.4</td>\n",
       "      <td>0.2</td>\n",
       "      <td>setosa</td>\n",
       "    </tr>\n",
       "    <tr>\n",
       "      <th>5</th>\n",
       "      <td>5.4</td>\n",
       "      <td>3.9</td>\n",
       "      <td>1.7</td>\n",
       "      <td>0.4</td>\n",
       "      <td>setosa</td>\n",
       "    </tr>\n",
       "    <tr>\n",
       "      <th>6</th>\n",
       "      <td>4.6</td>\n",
       "      <td>3.4</td>\n",
       "      <td>1.4</td>\n",
       "      <td>0.3</td>\n",
       "      <td>setosa</td>\n",
       "    </tr>\n",
       "    <tr>\n",
       "      <th>7</th>\n",
       "      <td>5.0</td>\n",
       "      <td>3.4</td>\n",
       "      <td>1.5</td>\n",
       "      <td>0.2</td>\n",
       "      <td>setosa</td>\n",
       "    </tr>\n",
       "    <tr>\n",
       "      <th>8</th>\n",
       "      <td>4.4</td>\n",
       "      <td>2.9</td>\n",
       "      <td>1.4</td>\n",
       "      <td>0.2</td>\n",
       "      <td>setosa</td>\n",
       "    </tr>\n",
       "    <tr>\n",
       "      <th>9</th>\n",
       "      <td>4.9</td>\n",
       "      <td>3.1</td>\n",
       "      <td>1.5</td>\n",
       "      <td>0.1</td>\n",
       "      <td>setosa</td>\n",
       "    </tr>\n",
       "  </tbody>\n",
       "</table>\n",
       "</div>"
      ],
      "text/plain": [
       "   sepal_length  sepal_width  petal_length  petal_width species\n",
       "0           5.1          3.5           1.4          0.2  setosa\n",
       "1           4.9          3.0           1.4          0.2  setosa\n",
       "2           4.7          3.2           1.3          0.2  setosa\n",
       "3           4.6          3.1           1.5          0.2  setosa\n",
       "4           5.0          3.6           1.4          0.2  setosa\n",
       "5           5.4          3.9           1.7          0.4  setosa\n",
       "6           4.6          3.4           1.4          0.3  setosa\n",
       "7           5.0          3.4           1.5          0.2  setosa\n",
       "8           4.4          2.9           1.4          0.2  setosa\n",
       "9           4.9          3.1           1.5          0.1  setosa"
      ]
     },
     "execution_count": 25,
     "metadata": {},
     "output_type": "execute_result"
    }
   ],
   "source": [
    "#irisデータのダウンロードと確認\n",
    "iris = sns.load_dataset('iris')\n",
    "iris.head(n = 10)"
   ]
  },
  {
   "cell_type": "markdown",
   "metadata": {},
   "source": [
    "[問題]　`species`ごとに、各変数の平均値を求め、散布図をかいてみてください。"
   ]
  },
  {
   "cell_type": "markdown",
   "metadata": {},
   "source": [
    "[解答]"
   ]
  },
  {
   "cell_type": "code",
   "execution_count": 26,
   "metadata": {
    "scrolled": true
   },
   "outputs": [
    {
     "data": {
      "text/html": [
       "<div>\n",
       "<style scoped>\n",
       "    .dataframe tbody tr th:only-of-type {\n",
       "        vertical-align: middle;\n",
       "    }\n",
       "\n",
       "    .dataframe tbody tr th {\n",
       "        vertical-align: top;\n",
       "    }\n",
       "\n",
       "    .dataframe thead th {\n",
       "        text-align: right;\n",
       "    }\n",
       "</style>\n",
       "<table border=\"1\" class=\"dataframe\">\n",
       "  <thead>\n",
       "    <tr style=\"text-align: right;\">\n",
       "      <th></th>\n",
       "      <th>sepal_length</th>\n",
       "      <th>sepal_width</th>\n",
       "      <th>petal_length</th>\n",
       "      <th>petal_width</th>\n",
       "    </tr>\n",
       "    <tr>\n",
       "      <th>species</th>\n",
       "      <th></th>\n",
       "      <th></th>\n",
       "      <th></th>\n",
       "      <th></th>\n",
       "    </tr>\n",
       "  </thead>\n",
       "  <tbody>\n",
       "    <tr>\n",
       "      <th>setosa</th>\n",
       "      <td>5.006</td>\n",
       "      <td>3.428</td>\n",
       "      <td>1.462</td>\n",
       "      <td>0.246</td>\n",
       "    </tr>\n",
       "    <tr>\n",
       "      <th>versicolor</th>\n",
       "      <td>5.936</td>\n",
       "      <td>2.770</td>\n",
       "      <td>4.260</td>\n",
       "      <td>1.326</td>\n",
       "    </tr>\n",
       "    <tr>\n",
       "      <th>virginica</th>\n",
       "      <td>6.588</td>\n",
       "      <td>2.974</td>\n",
       "      <td>5.552</td>\n",
       "      <td>2.026</td>\n",
       "    </tr>\n",
       "  </tbody>\n",
       "</table>\n",
       "</div>"
      ],
      "text/plain": [
       "            sepal_length  sepal_width  petal_length  petal_width\n",
       "species                                                         \n",
       "setosa             5.006        3.428         1.462        0.246\n",
       "versicolor         5.936        2.770         4.260        1.326\n",
       "virginica          6.588        2.974         5.552        2.026"
      ]
     },
     "execution_count": 26,
     "metadata": {},
     "output_type": "execute_result"
    }
   ],
   "source": [
    "iris.groupby(\"species\").mean()"
   ]
  },
  {
   "cell_type": "code",
   "execution_count": 27,
   "metadata": {},
   "outputs": [
    {
     "data": {
      "image/png": "[encoded data removed]",
      "text/plain": [
       "<Figure size 432x432 with 3 Axes>"
      ]
     },
     "metadata": {
      "needs_background": "light"
     },
     "output_type": "display_data"
    }
   ],
   "source": [
    "#散布図の作成(joint plot)\n",
    "sns.jointplot(x = iris.sepal_length, \n",
    "              y = iris.sepal_width, \n",
    "              data = iris)\n",
    "plt.show()"
   ]
  },
  {
   "cell_type": "code",
   "execution_count": 28,
   "metadata": {},
   "outputs": [
    {
     "data": {
      "image/png": "[encoded data removed]",
      "text/plain": [
       "<Figure size 801.625x720 with 20 Axes>"
      ]
     },
     "metadata": {
      "needs_background": "light"
     },
     "output_type": "display_data"
    }
   ],
   "source": [
    "sns.pairplot(iris, hue = \"species\")\n",
    "plt.show()"
   ]
  },
  {
   "cell_type": "markdown",
   "metadata": {},
   "source": [
    "#### 1.4.2.2 箱ひげ図"
   ]
  },
  {
   "cell_type": "markdown",
   "metadata": {},
   "source": [
    "量的変数×質的変数の可視化に便利なのが、**箱ひげ図**(boxplot)です。これは以下のようにかきます。"
   ]
  },
  {
   "cell_type": "code",
   "execution_count": 29,
   "metadata": {},
   "outputs": [
    {
     "data": {
      "image/png": "[encoded data removed]",
      "text/plain": [
       "<Figure size 432x288 with 1 Axes>"
      ]
     },
     "metadata": {
      "needs_background": "light"
     },
     "output_type": "display_data"
    }
   ],
   "source": [
    "sns.boxplot(x = \"species\", y = \"sepal_width\", data = iris)\n",
    "plt.show()"
   ]
  },
  {
   "cell_type": "markdown",
   "metadata": {},
   "source": [
    "####  1.4.2.3 バイオリンプロット"
   ]
  },
  {
   "cell_type": "markdown",
   "metadata": {},
   "source": [
    "最近、箱ひげ図の代わりに**バイオリンプロット**と呼ばれるものもよく使われるようになってきました。これにより、箱ひげ図とカーネル密度推定を同時に描画した図を得ることができます。"
   ]
  },
  {
   "cell_type": "code",
   "execution_count": 30,
   "metadata": {},
   "outputs": [
    {
     "data": {
      "image/png": "[encoded data removed]",
      "text/plain": [
       "<Figure size 432x288 with 1 Axes>"
      ]
     },
     "metadata": {
      "needs_background": "light"
     },
     "output_type": "display_data"
    }
   ],
   "source": [
    "sns.violinplot(x = \"species\", y = \"sepal_width\", \n",
    "               data = iris, palette = \"colorblind\")\n",
    "plt.show()"
   ]
  },
  {
   "cell_type": "markdown",
   "metadata": {},
   "source": [
    "#### 1.4.2.4 クロス集計表"
   ]
  },
  {
   "cell_type": "markdown",
   "metadata": {},
   "source": [
    "質的変数同士の関係を表すには、**クロス集計表**(cross table)にまとめるのが一般的です。ここでは、`tidy`データからクロス集計表を作成してみましょう。"
   ]
  },
  {
   "cell_type": "code",
   "execution_count": 31,
   "metadata": {},
   "outputs": [
    {
     "data": {
      "text/html": [
       "<div>\n",
       "<style scoped>\n",
       "    .dataframe tbody tr th:only-of-type {\n",
       "        vertical-align: middle;\n",
       "    }\n",
       "\n",
       "    .dataframe tbody tr th {\n",
       "        vertical-align: top;\n",
       "    }\n",
       "\n",
       "    .dataframe thead th {\n",
       "        text-align: right;\n",
       "    }\n",
       "</style>\n",
       "<table border=\"1\" class=\"dataframe\">\n",
       "  <thead>\n",
       "    <tr style=\"text-align: right;\">\n",
       "      <th></th>\n",
       "      <th>地点</th>\n",
       "      <th>時刻</th>\n",
       "      <th>天候</th>\n",
       "    </tr>\n",
       "  </thead>\n",
       "  <tbody>\n",
       "    <tr>\n",
       "      <th>0</th>\n",
       "      <td>札幌</td>\n",
       "      <td>6時</td>\n",
       "      <td>晴れ</td>\n",
       "    </tr>\n",
       "    <tr>\n",
       "      <th>1</th>\n",
       "      <td>札幌</td>\n",
       "      <td>12時</td>\n",
       "      <td>晴れ</td>\n",
       "    </tr>\n",
       "    <tr>\n",
       "      <th>2</th>\n",
       "      <td>札幌</td>\n",
       "      <td>18時</td>\n",
       "      <td>晴れ</td>\n",
       "    </tr>\n",
       "    <tr>\n",
       "      <th>3</th>\n",
       "      <td>東京</td>\n",
       "      <td>6時</td>\n",
       "      <td>曇り</td>\n",
       "    </tr>\n",
       "    <tr>\n",
       "      <th>4</th>\n",
       "      <td>東京</td>\n",
       "      <td>12時</td>\n",
       "      <td>雨</td>\n",
       "    </tr>\n",
       "    <tr>\n",
       "      <th>5</th>\n",
       "      <td>東京</td>\n",
       "      <td>18時</td>\n",
       "      <td>雨</td>\n",
       "    </tr>\n",
       "    <tr>\n",
       "      <th>6</th>\n",
       "      <td>神戸</td>\n",
       "      <td>6時</td>\n",
       "      <td>雨</td>\n",
       "    </tr>\n",
       "    <tr>\n",
       "      <th>7</th>\n",
       "      <td>神戸</td>\n",
       "      <td>12時</td>\n",
       "      <td>曇り</td>\n",
       "    </tr>\n",
       "    <tr>\n",
       "      <th>8</th>\n",
       "      <td>神戸</td>\n",
       "      <td>18時</td>\n",
       "      <td>晴れ</td>\n",
       "    </tr>\n",
       "  </tbody>\n",
       "</table>\n",
       "</div>"
      ],
      "text/plain": [
       "   地点   時刻  天候\n",
       "0  札幌   6時  晴れ\n",
       "1  札幌  12時  晴れ\n",
       "2  札幌  18時  晴れ\n",
       "3  東京   6時  曇り\n",
       "4  東京  12時   雨\n",
       "5  東京  18時   雨\n",
       "6  神戸   6時   雨\n",
       "7  神戸  12時  曇り\n",
       "8  神戸  18時  晴れ"
      ]
     },
     "execution_count": 31,
     "metadata": {},
     "output_type": "execute_result"
    }
   ],
   "source": [
    "tidyweather_df"
   ]
  },
  {
   "cell_type": "code",
   "execution_count": 32,
   "metadata": {},
   "outputs": [
    {
     "data": {
      "text/html": [
       "<div>\n",
       "<style scoped>\n",
       "    .dataframe tbody tr th:only-of-type {\n",
       "        vertical-align: middle;\n",
       "    }\n",
       "\n",
       "    .dataframe tbody tr th {\n",
       "        vertical-align: top;\n",
       "    }\n",
       "\n",
       "    .dataframe thead tr th {\n",
       "        text-align: left;\n",
       "    }\n",
       "\n",
       "    .dataframe thead tr:last-of-type th {\n",
       "        text-align: right;\n",
       "    }\n",
       "</style>\n",
       "<table border=\"1\" class=\"dataframe\">\n",
       "  <thead>\n",
       "    <tr>\n",
       "      <th></th>\n",
       "      <th colspan=\"3\" halign=\"left\">時刻</th>\n",
       "    </tr>\n",
       "    <tr>\n",
       "      <th>天候</th>\n",
       "      <th>晴れ</th>\n",
       "      <th>曇り</th>\n",
       "      <th>雨</th>\n",
       "    </tr>\n",
       "    <tr>\n",
       "      <th>地点</th>\n",
       "      <th></th>\n",
       "      <th></th>\n",
       "      <th></th>\n",
       "    </tr>\n",
       "  </thead>\n",
       "  <tbody>\n",
       "    <tr>\n",
       "      <th>札幌</th>\n",
       "      <td>3.0</td>\n",
       "      <td>NaN</td>\n",
       "      <td>NaN</td>\n",
       "    </tr>\n",
       "    <tr>\n",
       "      <th>東京</th>\n",
       "      <td>NaN</td>\n",
       "      <td>1.0</td>\n",
       "      <td>2.0</td>\n",
       "    </tr>\n",
       "    <tr>\n",
       "      <th>神戸</th>\n",
       "      <td>1.0</td>\n",
       "      <td>1.0</td>\n",
       "      <td>1.0</td>\n",
       "    </tr>\n",
       "  </tbody>\n",
       "</table>\n",
       "</div>"
      ],
      "text/plain": [
       "     時刻          \n",
       "天候   晴れ   曇り    雨\n",
       "地点               \n",
       "札幌  3.0  NaN  NaN\n",
       "東京  NaN  1.0  2.0\n",
       "神戸  1.0  1.0  1.0"
      ]
     },
     "execution_count": 32,
     "metadata": {},
     "output_type": "execute_result"
    }
   ],
   "source": [
    "#tidyweather_dfを使ってクロス集計\n",
    "cross = pd.pivot_table(data=tidyweather_df,\n",
    "                       index='地点',\n",
    "                       columns='天候',\n",
    "                       aggfunc='count'\n",
    "                      )\n",
    "cross"
   ]
  },
  {
   "cell_type": "markdown",
   "metadata": {},
   "source": [
    "## 1.5 相関係数\n",
    "\n",
    "2つの変数間になんらかの関係があるとき**相関**(correlation)があるといいます。相関という言葉は厳密には、2つの量的変数の線形な関係についてあてられるべき言葉ですが、ここではより広義に相関の意味をとっておきます。\n",
    "\n",
    "この場合も、可視化のときと同じく大分類として3通りになります。\n",
    "\n",
    " **1) 量的変数×量的変数　→　ピアソンの積率相関係数**\n",
    "\n",
    " **2) 量的変数×質的変数　→　相関比**\n",
    "\n",
    " **3) 質的変数×質的変数　→　クラメールの連関係数**\n"
   ]
  },
  {
   "cell_type": "markdown",
   "metadata": {},
   "source": [
    "### 1.5.1 相関係数(ピアソンの積率相関係数)\n",
    "\n",
    "まずは、量×量のときの**ピアソンの積率相関係数**(Pearson's correlation coefficient)についてここで見ておきましょう。この値は単に**相関係数**(correlation coefficient)とよぶことが多いです。\n",
    "\n",
    "$$Cor(x, y) = \\frac{Cov(x, y)}{sd(x)\\cdot sd(y)} = \\frac{\\frac{1}{n}\\sum_{i=1}^{n}(x_i - \\bar{x})(y - \\bar{y})}{\\sqrt{\\frac{1}{n}\\sum_{i=1}^{n}(x - \\bar{x})^2}\\sqrt{\\frac{1}{n}\\sum_{i=1}^{n}(y - \\bar{y})^2}}$$\n"
   ]
  },
  {
   "cell_type": "markdown",
   "metadata": {},
   "source": [
    "##### [問題]\n",
    "上の式で定義された相関係数の分子の値を**共分散**(covariance)というが、この値が相関の強さを決定することを説明してください。"
   ]
  },
  {
   "cell_type": "markdown",
   "metadata": {},
   "source": [
    "[解答]　共分散は、散布図上で点が左下と右下に多く集中しているときには、大きくなり。また、点が左上と右下に集中しているときには小さくなるから。"
   ]
  },
  {
   "cell_type": "code",
   "execution_count": 33,
   "metadata": {},
   "outputs": [
    {
     "data": {
      "text/html": [
       "<div>\n",
       "<style scoped>\n",
       "    .dataframe tbody tr th:only-of-type {\n",
       "        vertical-align: middle;\n",
       "    }\n",
       "\n",
       "    .dataframe tbody tr th {\n",
       "        vertical-align: top;\n",
       "    }\n",
       "\n",
       "    .dataframe thead th {\n",
       "        text-align: right;\n",
       "    }\n",
       "</style>\n",
       "<table border=\"1\" class=\"dataframe\">\n",
       "  <thead>\n",
       "    <tr style=\"text-align: right;\">\n",
       "      <th></th>\n",
       "      <th>平均気温</th>\n",
       "      <th>平均湿度</th>\n",
       "      <th>日照時間</th>\n",
       "    </tr>\n",
       "  </thead>\n",
       "  <tbody>\n",
       "    <tr>\n",
       "      <th>平均気温</th>\n",
       "      <td>1.000000</td>\n",
       "      <td>0.227116</td>\n",
       "      <td>0.066385</td>\n",
       "    </tr>\n",
       "    <tr>\n",
       "      <th>平均湿度</th>\n",
       "      <td>0.227116</td>\n",
       "      <td>1.000000</td>\n",
       "      <td>-0.672524</td>\n",
       "    </tr>\n",
       "    <tr>\n",
       "      <th>日照時間</th>\n",
       "      <td>0.066385</td>\n",
       "      <td>-0.672524</td>\n",
       "      <td>1.000000</td>\n",
       "    </tr>\n",
       "  </tbody>\n",
       "</table>\n",
       "</div>"
      ],
      "text/plain": [
       "          平均気温      平均湿度      日照時間\n",
       "平均気温  1.000000  0.227116  0.066385\n",
       "平均湿度  0.227116  1.000000 -0.672524\n",
       "日照時間  0.066385 -0.672524  1.000000"
      ]
     },
     "execution_count": 33,
     "metadata": {},
     "output_type": "execute_result"
    }
   ],
   "source": [
    "weather_d.drop(\"日\", axis = 1).corr()"
   ]
  },
  {
   "cell_type": "markdown",
   "metadata": {},
   "source": [
    "### 1.5.2 相関比\n",
    "質的変数と量的変数の関係の深さを表すには、**相関比**(correlation ratio)を用います。この値は、以下のように定義されます。\n",
    "\n",
    "$$ \\eta^2 = \\frac{S_B}{S_W + S_B}$$\n",
    "\n",
    "ここで、$S_B$は級間変動、$S_W$は級内変動と呼ばれる値です。以下のデータを用いて計算法を確認してみよう。"
   ]
  },
  {
   "cell_type": "code",
   "execution_count": 34,
   "metadata": {},
   "outputs": [
    {
     "data": {
      "text/html": [
       "<div>\n",
       "<style scoped>\n",
       "    .dataframe tbody tr th:only-of-type {\n",
       "        vertical-align: middle;\n",
       "    }\n",
       "\n",
       "    .dataframe tbody tr th {\n",
       "        vertical-align: top;\n",
       "    }\n",
       "\n",
       "    .dataframe thead th {\n",
       "        text-align: right;\n",
       "    }\n",
       "</style>\n",
       "<table border=\"1\" class=\"dataframe\">\n",
       "  <thead>\n",
       "    <tr style=\"text-align: right;\">\n",
       "      <th></th>\n",
       "      <th>salary</th>\n",
       "      <th>place</th>\n",
       "    </tr>\n",
       "  </thead>\n",
       "  <tbody>\n",
       "    <tr>\n",
       "      <th>0</th>\n",
       "      <td>400</td>\n",
       "      <td>Kobe</td>\n",
       "    </tr>\n",
       "    <tr>\n",
       "      <th>1</th>\n",
       "      <td>500</td>\n",
       "      <td>Kobe</td>\n",
       "    </tr>\n",
       "    <tr>\n",
       "      <th>2</th>\n",
       "      <td>600</td>\n",
       "      <td>Kobe</td>\n",
       "    </tr>\n",
       "    <tr>\n",
       "      <th>3</th>\n",
       "      <td>400</td>\n",
       "      <td>Kagoshima</td>\n",
       "    </tr>\n",
       "    <tr>\n",
       "      <th>4</th>\n",
       "      <td>450</td>\n",
       "      <td>Kagoshima</td>\n",
       "    </tr>\n",
       "    <tr>\n",
       "      <th>5</th>\n",
       "      <td>350</td>\n",
       "      <td>Kagoshima</td>\n",
       "    </tr>\n",
       "    <tr>\n",
       "      <th>6</th>\n",
       "      <td>500</td>\n",
       "      <td>Osaka</td>\n",
       "    </tr>\n",
       "    <tr>\n",
       "      <th>7</th>\n",
       "      <td>600</td>\n",
       "      <td>Osaka</td>\n",
       "    </tr>\n",
       "    <tr>\n",
       "      <th>8</th>\n",
       "      <td>700</td>\n",
       "      <td>Osaka</td>\n",
       "    </tr>\n",
       "  </tbody>\n",
       "</table>\n",
       "</div>"
      ],
      "text/plain": [
       "   salary      place\n",
       "0     400       Kobe\n",
       "1     500       Kobe\n",
       "2     600       Kobe\n",
       "3     400  Kagoshima\n",
       "4     450  Kagoshima\n",
       "5     350  Kagoshima\n",
       "6     500      Osaka\n",
       "7     600      Osaka\n",
       "8     700      Osaka"
      ]
     },
     "execution_count": 34,
     "metadata": {},
     "output_type": "execute_result"
    }
   ],
   "source": [
    "x = np.array([400,500,600, 400,450,350, 500,600,700])\n",
    "y = np.repeat(['Kobe','Kagoshima','Osaka'], 3)\n",
    "\n",
    "salary_df = pd.DataFrame({\n",
    "    'salary' : x,\n",
    "    'place' : y\n",
    "})\n",
    "\n",
    "salary_df"
   ]
  },
  {
   "cell_type": "code",
   "execution_count": 35,
   "metadata": {},
   "outputs": [
    {
     "data": {
      "image/png": "[encoded data removed]",
      "text/plain": [
       "<Figure size 432x288 with 1 Axes>"
      ]
     },
     "metadata": {
      "needs_background": "light"
     },
     "output_type": "display_data"
    }
   ],
   "source": [
    "sns.boxplot(x = \"place\", y = \"salary\", data = salary_df)\n",
    "plt.show()"
   ]
  },
  {
   "cell_type": "code",
   "execution_count": 36,
   "metadata": {
    "scrolled": true
   },
   "outputs": [
    {
     "name": "stdout",
     "output_type": "stream",
     "text": [
      "全体平均 500.0\n",
      "水準平均 [500 500 500 400 400 400 600 600 600]\n",
      "級間変動 60000.0\n",
      "残差 0   -100\n",
      "1      0\n",
      "2    100\n",
      "3      0\n",
      "4     50\n",
      "5    -50\n",
      "6   -100\n",
      "7      0\n",
      "8    100\n",
      "Name: salary, dtype: int64\n",
      "級内変動 45000\n",
      "相関比 0.5714285714285714\n"
     ]
    }
   ],
   "source": [
    "#全体平均の計算\n",
    "mu = salary_df.salary.mean()\n",
    "print('全体平均', mu)\n",
    "\n",
    "level_mu = np.repeat([500, 400, 600],3)\n",
    "print('水準平均', level_mu)\n",
    "\n",
    "#級間変動\n",
    "S_B = np.sum((level_mu - mu)**2)\n",
    "print('級間変動', S_B)\n",
    "\n",
    "#級内変動\n",
    "residuals = salary_df.salary - level_mu\n",
    "print('残差', residuals)\n",
    "S_W = np.sum(residuals**2)\n",
    "print('級内変動', S_W)\n",
    "\n",
    "#相関比\n",
    "eta2 = (S_B)/(S_B + S_W)\n",
    "print('相関比', eta2)"
   ]
  },
  {
   "cell_type": "markdown",
   "metadata": {},
   "source": [
    " ちなみに、相関比の分母の$S_B + S_W$のことを**全体変動**$S_T$といいこの値は**偏差平方和**と一致します。すなわち\n",
    " \n",
    " $$偏差平方和 = 級間変動 + 級内変動$$\n",
    "\n",
    "が成立しています。これを**平方和分解**(decomposition of sum of squares)といい、統計学的にたいへん重要な概念です。"
   ]
  },
  {
   "cell_type": "markdown",
   "metadata": {},
   "source": [
    "[問題]　上記のことが本当に成り立っているか確認してください。"
   ]
  },
  {
   "cell_type": "markdown",
   "metadata": {},
   "source": [
    "[解答]　以下を実行して偏差平方和を計算してみると、確かに級間変動と級内変動の和になっていることがわかります。"
   ]
  },
  {
   "cell_type": "code",
   "execution_count": 37,
   "metadata": {},
   "outputs": [
    {
     "data": {
      "text/plain": [
       "105000.0"
      ]
     },
     "execution_count": 37,
     "metadata": {},
     "output_type": "execute_result"
    }
   ],
   "source": [
    "#偏差平方和の計算\n",
    "np.sum((salary_df.salary - mu)**2)"
   ]
  },
  {
   "cell_type": "markdown",
   "metadata": {},
   "source": [
    "数学的に証明できる人は証明してみるのも面白いでしょう。幾何学的には三平方の定理として説明できたりもします。"
   ]
  },
  {
   "cell_type": "markdown",
   "metadata": {},
   "source": [
    "### 1.5.3 クラメールの連関係数\n",
    "\n",
    "質的変数同士の場合は、クロス集計表に対して、**クラメールの連関係数**(Cramer's coefficient of association)$r_c$を計算することで、2つの質的変数の結びつきの強さを測定します。この値は以下の式で与えられます。\n",
    "\n",
    "$$r_c = \\sqrt{\\frac{\\chi^2}{n(k-1)}}$$\n",
    "\n",
    "ここで、$\\chi^2$を**カイ二乗値**(chi-square)と呼び。以下の式で定義します。\n",
    "\n",
    "$$\\chi^2 = \\sum \\frac{(観測度数 - 期待度数)^2}{期待度数}$$\n",
    "\n",
    "そのほか$n$は全データ数、$k$はクロス表の次元のうち小さい方の値です。以下のデータを用いて実際に計算してみよう。\n",
    "\n",
    "\n",
    "|科目\\専攻|数学専攻|それ以外|周辺度数|\n",
    "|:-:|:-:|:-:|:-:|\n",
    "|算数好き|30 |20|50|\n",
    "|国語好き|10 |60|70|\n",
    "|周辺度数|40|80|120|\n"
   ]
  },
  {
   "cell_type": "code",
   "execution_count": 38,
   "metadata": {},
   "outputs": [
    {
     "name": "stdout",
     "output_type": "stream",
     "text": [
      "[[16.667 33.333]\n",
      " [23.333 46.667]]\n"
     ]
    }
   ],
   "source": [
    "#実測度数表\n",
    "sample_cross = np.array([[30,20],\n",
    "                         [10,60]])\n",
    "\n",
    "#期待度数表の作成\n",
    "ex_cross = np.array([[40 * 50/120, 80*50/120],\n",
    "                    [40 * 70/120, 80*70/120]])\n",
    "print(ex_cross)"
   ]
  },
  {
   "cell_type": "markdown",
   "metadata": {},
   "source": [
    "[問題]　上記の計算をして求める期待度数とは何か答えてください。"
   ]
  },
  {
   "cell_type": "markdown",
   "metadata": {},
   "source": [
    "[解答]　2つの質的変数に関係が全くなかった時に期待される度数のこと。"
   ]
  },
  {
   "cell_type": "code",
   "execution_count": 39,
   "metadata": {},
   "outputs": [
    {
     "name": "stdout",
     "output_type": "stream",
     "text": [
      "[[10.667  5.333]\n",
      " [ 7.619  3.81 ]]\n",
      "カイ二乗値 27.428571428571427\n",
      "クラメールの連関係数 0.47809144373375745\n"
     ]
    }
   ],
   "source": [
    "#クラメール連関係数計算の続き\n",
    "chi_table = (sample_cross - ex_cross)**2/ex_cross\n",
    "print(chi_table)\n",
    "\n",
    "chisq = np.sum(chi_table)\n",
    "print('カイ二乗値', chisq)\n",
    "\n",
    "r_c = np.sqrt(chisq/(np.sum(sample_cross)*(min(sample_cross.shape)-1)))\n",
    "print('クラメールの連関係数', r_c)"
   ]
  },
  {
   "cell_type": "markdown",
   "metadata": {},
   "source": [
    "連関係数は0から１の値をとります。1に近いほど関係が強い、0に近いほど関係が弱いことを表します。"
   ]
  }
 ],
 "metadata": {
  "kernelspec": {
   "display_name": "Python 3",
   "language": "python",
   "name": "python3"
  },
  "language_info": {
   "codemirror_mode": {
    "name": "ipython",
    "version": 3
   },
   "file_extension": ".py",
   "mimetype": "text/x-python",
   "name": "python",
   "nbconvert_exporter": "python",
   "pygments_lexer": "ipython3",
   "version": "3.8.2"
  }
 },
 "nbformat": 4,
 "nbformat_minor": 4
}
