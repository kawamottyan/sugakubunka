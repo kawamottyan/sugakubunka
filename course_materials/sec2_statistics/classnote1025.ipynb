{
 "cells": [
  {
   "cell_type": "code",
   "execution_count": 1,
   "id": "f22fca4b-6932-49fb-a4aa-b64c56784bf7",
   "metadata": {},
   "outputs": [],
   "source": [
    "# import文\n",
    "import numpy as np\n",
    "import pandas as pd\n",
    "import pingouin as pg"
   ]
  },
  {
   "cell_type": "markdown",
   "id": "4aa38c22-93d8-4e69-8ff0-1ecf37de1612",
   "metadata": {},
   "source": [
    "### 母平均の検定（母分散が未知の場合）"
   ]
  },
  {
   "cell_type": "code",
   "execution_count": 2,
   "id": "3df02d9d-1f4e-4199-996d-98c57b2bbdb7",
   "metadata": {},
   "outputs": [
    {
     "data": {
      "text/html": [
       "<div>\n",
       "<style scoped>\n",
       "    .dataframe tbody tr th:only-of-type {\n",
       "        vertical-align: middle;\n",
       "    }\n",
       "\n",
       "    .dataframe tbody tr th {\n",
       "        vertical-align: top;\n",
       "    }\n",
       "\n",
       "    .dataframe thead th {\n",
       "        text-align: right;\n",
       "    }\n",
       "</style>\n",
       "<table border=\"1\" class=\"dataframe\">\n",
       "  <thead>\n",
       "    <tr style=\"text-align: right;\">\n",
       "      <th></th>\n",
       "      <th>月収</th>\n",
       "    </tr>\n",
       "  </thead>\n",
       "  <tbody>\n",
       "    <tr>\n",
       "      <th>0</th>\n",
       "      <td>14</td>\n",
       "    </tr>\n",
       "    <tr>\n",
       "      <th>1</th>\n",
       "      <td>15</td>\n",
       "    </tr>\n",
       "    <tr>\n",
       "      <th>2</th>\n",
       "      <td>15</td>\n",
       "    </tr>\n",
       "    <tr>\n",
       "      <th>3</th>\n",
       "      <td>18</td>\n",
       "    </tr>\n",
       "    <tr>\n",
       "      <th>4</th>\n",
       "      <td>20</td>\n",
       "    </tr>\n",
       "  </tbody>\n",
       "</table>\n",
       "</div>"
      ],
      "text/plain": [
       "   月収\n",
       "0  14\n",
       "1  15\n",
       "2  15\n",
       "3  18\n",
       "4  20"
      ]
     },
     "execution_count": 2,
     "metadata": {},
     "output_type": "execute_result"
    }
   ],
   "source": [
    "x = np.array([14, 15, 15, 18, 20])\n",
    "data = pd.DataFrame()\n",
    "data[\"月収\"] = x\n",
    "data"
   ]
  },
  {
   "cell_type": "code",
   "execution_count": 3,
   "id": "7c593bba-fa53-4f5b-b92b-2220c126cfdc",
   "metadata": {},
   "outputs": [
    {
     "data": {
      "text/plain": [
       "array([14, 15, 15, 18, 20])"
      ]
     },
     "execution_count": 3,
     "metadata": {},
     "output_type": "execute_result"
    }
   ],
   "source": [
    "data.月収.values"
   ]
  },
  {
   "cell_type": "code",
   "execution_count": 4,
   "id": "145ee2d7-9d2c-4573-80e1-eeec528757f8",
   "metadata": {},
   "outputs": [
    {
     "data": {
      "text/html": [
       "<div>\n",
       "<style scoped>\n",
       "    .dataframe tbody tr th:only-of-type {\n",
       "        vertical-align: middle;\n",
       "    }\n",
       "\n",
       "    .dataframe tbody tr th {\n",
       "        vertical-align: top;\n",
       "    }\n",
       "\n",
       "    .dataframe thead th {\n",
       "        text-align: right;\n",
       "    }\n",
       "</style>\n",
       "<table border=\"1\" class=\"dataframe\">\n",
       "  <thead>\n",
       "    <tr style=\"text-align: right;\">\n",
       "      <th></th>\n",
       "      <th>T</th>\n",
       "      <th>dof</th>\n",
       "      <th>alternative</th>\n",
       "      <th>p-val</th>\n",
       "      <th>CI95%</th>\n",
       "      <th>cohen-d</th>\n",
       "      <th>BF10</th>\n",
       "      <th>power</th>\n",
       "    </tr>\n",
       "  </thead>\n",
       "  <tbody>\n",
       "    <tr>\n",
       "      <th>T-test</th>\n",
       "      <td>1.247219</td>\n",
       "      <td>4</td>\n",
       "      <td>greater</td>\n",
       "      <td>0.140178</td>\n",
       "      <td>[14.01, inf]</td>\n",
       "      <td>0.557773</td>\n",
       "      <td>1.37</td>\n",
       "      <td>0.273233</td>\n",
       "    </tr>\n",
       "  </tbody>\n",
       "</table>\n",
       "</div>"
      ],
      "text/plain": [
       "               T  dof alternative     p-val         CI95%   cohen-d  BF10  \\\n",
       "T-test  1.247219    4     greater  0.140178  [14.01, inf]  0.557773  1.37   \n",
       "\n",
       "           power  \n",
       "T-test  0.273233  "
      ]
     },
     "execution_count": 4,
     "metadata": {},
     "output_type": "execute_result"
    }
   ],
   "source": [
    "pg.ttest(x = data.月収.values,\n",
    "         y = 15,\n",
    "         alternative = \"greater\",\n",
    "         confidence = 0.95)"
   ]
  },
  {
   "cell_type": "code",
   "execution_count": 5,
   "id": "2bbe26e7-016d-4234-a04a-721a35edfc73",
   "metadata": {},
   "outputs": [
    {
     "data": {
      "text/plain": [
       "1.247219128924646"
      ]
     },
     "execution_count": 5,
     "metadata": {},
     "output_type": "execute_result"
    }
   ],
   "source": [
    "(data.月収.mean() - 15.0) / np.sqrt(data.月収.var(ddof = 1)/len(data.月収))"
   ]
  },
  {
   "cell_type": "markdown",
   "id": "f79f3570-ee22-40d4-b021-11e490a5618c",
   "metadata": {},
   "source": [
    "### 母平均の差の検定"
   ]
  },
  {
   "cell_type": "code",
   "execution_count": 6,
   "id": "c5f02ccd-001a-4427-9050-1cb6d108d041",
   "metadata": {},
   "outputs": [
    {
     "data": {
      "text/html": [
       "<div>\n",
       "<style scoped>\n",
       "    .dataframe tbody tr th:only-of-type {\n",
       "        vertical-align: middle;\n",
       "    }\n",
       "\n",
       "    .dataframe tbody tr th {\n",
       "        vertical-align: top;\n",
       "    }\n",
       "\n",
       "    .dataframe thead th {\n",
       "        text-align: right;\n",
       "    }\n",
       "</style>\n",
       "<table border=\"1\" class=\"dataframe\">\n",
       "  <thead>\n",
       "    <tr style=\"text-align: right;\">\n",
       "      <th></th>\n",
       "      <th>number</th>\n",
       "      <th>place</th>\n",
       "      <th>salary</th>\n",
       "    </tr>\n",
       "  </thead>\n",
       "  <tbody>\n",
       "    <tr>\n",
       "      <th>0</th>\n",
       "      <td>1</td>\n",
       "      <td>Tokyo</td>\n",
       "      <td>435.9</td>\n",
       "    </tr>\n",
       "    <tr>\n",
       "      <th>1</th>\n",
       "      <td>2</td>\n",
       "      <td>Tokyo</td>\n",
       "      <td>622.0</td>\n",
       "    </tr>\n",
       "    <tr>\n",
       "      <th>2</th>\n",
       "      <td>3</td>\n",
       "      <td>Tokyo</td>\n",
       "      <td>518.4</td>\n",
       "    </tr>\n",
       "    <tr>\n",
       "      <th>3</th>\n",
       "      <td>4</td>\n",
       "      <td>Tokyo</td>\n",
       "      <td>941.7</td>\n",
       "    </tr>\n",
       "    <tr>\n",
       "      <th>4</th>\n",
       "      <td>5</td>\n",
       "      <td>Tokyo</td>\n",
       "      <td>655.6</td>\n",
       "    </tr>\n",
       "  </tbody>\n",
       "</table>\n",
       "</div>"
      ],
      "text/plain": [
       "   number  place  salary\n",
       "0       1  Tokyo   435.9\n",
       "1       2  Tokyo   622.0\n",
       "2       3  Tokyo   518.4\n",
       "3       4  Tokyo   941.7\n",
       "4       5  Tokyo   655.6"
      ]
     },
     "execution_count": 6,
     "metadata": {},
     "output_type": "execute_result"
    }
   ],
   "source": [
    "# dataディレクトリの中に、tokyo_osaka_salary.csv\n",
    "data = pd.read_csv(\"./data/tokyo_osaka_salary.csv\",\n",
    "                   skiprows = 1,\n",
    "                   encoding = \"cp932\")\n",
    "data.head(n = 5)"
   ]
  },
  {
   "cell_type": "code",
   "execution_count": 7,
   "id": "b4d8ad96-9026-41d3-85fb-f37b87f41806",
   "metadata": {},
   "outputs": [
    {
     "data": {
      "text/plain": [
       "((57,), (45,))"
      ]
     },
     "execution_count": 7,
     "metadata": {},
     "output_type": "execute_result"
    }
   ],
   "source": [
    "tokyo = data.query('place == \"Tokyo\"').salary.values\n",
    "osaka = data.query('place == \"Osaka\"').salary.values\n",
    "tokyo.shape, osaka.shape"
   ]
  },
  {
   "cell_type": "markdown",
   "id": "6f1f0999-6ee4-45e7-aa53-0ccbf43c69d5",
   "metadata": {},
   "source": [
    "以下は、対応がある場合。父子の身長の差など。東京・大阪の年収の差はこれに該当しない。"
   ]
  },
  {
   "cell_type": "code",
   "execution_count": 8,
   "id": "13616aad-a34d-4b55-a599-51d4aaa30ed4",
   "metadata": {},
   "outputs": [
    {
     "data": {
      "text/html": [
       "<div>\n",
       "<style scoped>\n",
       "    .dataframe tbody tr th:only-of-type {\n",
       "        vertical-align: middle;\n",
       "    }\n",
       "\n",
       "    .dataframe tbody tr th {\n",
       "        vertical-align: top;\n",
       "    }\n",
       "\n",
       "    .dataframe thead th {\n",
       "        text-align: right;\n",
       "    }\n",
       "</style>\n",
       "<table border=\"1\" class=\"dataframe\">\n",
       "  <thead>\n",
       "    <tr style=\"text-align: right;\">\n",
       "      <th></th>\n",
       "      <th>T</th>\n",
       "      <th>dof</th>\n",
       "      <th>alternative</th>\n",
       "      <th>p-val</th>\n",
       "      <th>CI95%</th>\n",
       "      <th>cohen-d</th>\n",
       "      <th>BF10</th>\n",
       "      <th>power</th>\n",
       "    </tr>\n",
       "  </thead>\n",
       "  <tbody>\n",
       "    <tr>\n",
       "      <th>T-test</th>\n",
       "      <td>5.798575</td>\n",
       "      <td>44</td>\n",
       "      <td>two-sided</td>\n",
       "      <td>6.666878e-07</td>\n",
       "      <td>[75.23, 155.39]</td>\n",
       "      <td>1.076844</td>\n",
       "      <td>2.439e+04</td>\n",
       "      <td>1.0</td>\n",
       "    </tr>\n",
       "  </tbody>\n",
       "</table>\n",
       "</div>"
      ],
      "text/plain": [
       "               T  dof alternative         p-val            CI95%   cohen-d  \\\n",
       "T-test  5.798575   44   two-sided  6.666878e-07  [75.23, 155.39]  1.076844   \n",
       "\n",
       "             BF10  power  \n",
       "T-test  2.439e+04    1.0  "
      ]
     },
     "execution_count": 8,
     "metadata": {},
     "output_type": "execute_result"
    }
   ],
   "source": [
    "# 東京都大阪の年収の差\n",
    "pg.ttest(x = tokyo[:45], y = osaka, paired = True,\n",
    "         alternative = \"two-sided\", confidence = 0.95)"
   ]
  },
  {
   "cell_type": "code",
   "execution_count": 9,
   "id": "a27fcd60-f381-4776-819c-a8a14d147f77",
   "metadata": {},
   "outputs": [
    {
     "data": {
      "text/html": [
       "<div>\n",
       "<style scoped>\n",
       "    .dataframe tbody tr th:only-of-type {\n",
       "        vertical-align: middle;\n",
       "    }\n",
       "\n",
       "    .dataframe tbody tr th {\n",
       "        vertical-align: top;\n",
       "    }\n",
       "\n",
       "    .dataframe thead th {\n",
       "        text-align: right;\n",
       "    }\n",
       "</style>\n",
       "<table border=\"1\" class=\"dataframe\">\n",
       "  <thead>\n",
       "    <tr style=\"text-align: right;\">\n",
       "      <th></th>\n",
       "      <th>T</th>\n",
       "      <th>dof</th>\n",
       "      <th>alternative</th>\n",
       "      <th>p-val</th>\n",
       "      <th>CI95%</th>\n",
       "      <th>cohen-d</th>\n",
       "      <th>BF10</th>\n",
       "      <th>power</th>\n",
       "    </tr>\n",
       "  </thead>\n",
       "  <tbody>\n",
       "    <tr>\n",
       "      <th>T-test</th>\n",
       "      <td>5.798575</td>\n",
       "      <td>44</td>\n",
       "      <td>two-sided</td>\n",
       "      <td>6.666878e-07</td>\n",
       "      <td>[75.23, 155.39]</td>\n",
       "      <td>0.8644</td>\n",
       "      <td>2.439e+04</td>\n",
       "      <td>0.999896</td>\n",
       "    </tr>\n",
       "  </tbody>\n",
       "</table>\n",
       "</div>"
      ],
      "text/plain": [
       "               T  dof alternative         p-val            CI95%  cohen-d  \\\n",
       "T-test  5.798575   44   two-sided  6.666878e-07  [75.23, 155.39]   0.8644   \n",
       "\n",
       "             BF10     power  \n",
       "T-test  2.439e+04  0.999896  "
      ]
     },
     "execution_count": 9,
     "metadata": {},
     "output_type": "execute_result"
    }
   ],
   "source": [
    "pg.ttest(x = tokyo[:45]-osaka, y = 0,\n",
    "         alternative = \"two-sided\", confidence = 0.95)"
   ]
  },
  {
   "cell_type": "markdown",
   "id": "4ea6650b-2565-4bff-93cb-7ba4a59b7054",
   "metadata": {},
   "source": [
    "### 独立性の検定"
   ]
  },
  {
   "cell_type": "code",
   "execution_count": 10,
   "id": "1dcfa3ad-af62-4429-8391-2a675b3e509f",
   "metadata": {},
   "outputs": [
    {
     "data": {
      "text/plain": [
       "array([[60, 30, 10],\n",
       "       [20, 40, 40]])"
      ]
     },
     "execution_count": 10,
     "metadata": {},
     "output_type": "execute_result"
    }
   ],
   "source": [
    "# クロス集計表\n",
    "cross = np.array([[60,30,10], [20,40,40]])\n",
    "cross"
   ]
  },
  {
   "cell_type": "code",
   "execution_count": 11,
   "id": "61605a54-f311-4b1c-85e4-31dd27d24833",
   "metadata": {},
   "outputs": [
    {
     "data": {
      "text/html": [
       "<div>\n",
       "<style scoped>\n",
       "    .dataframe tbody tr th:only-of-type {\n",
       "        vertical-align: middle;\n",
       "    }\n",
       "\n",
       "    .dataframe tbody tr th {\n",
       "        vertical-align: top;\n",
       "    }\n",
       "\n",
       "    .dataframe thead th {\n",
       "        text-align: right;\n",
       "    }\n",
       "</style>\n",
       "<table border=\"1\" class=\"dataframe\">\n",
       "  <thead>\n",
       "    <tr style=\"text-align: right;\">\n",
       "      <th></th>\n",
       "      <th>index</th>\n",
       "      <th>賛成</th>\n",
       "      <th>中立</th>\n",
       "      <th>反対</th>\n",
       "    </tr>\n",
       "  </thead>\n",
       "  <tbody>\n",
       "    <tr>\n",
       "      <th>0</th>\n",
       "      <td>男性</td>\n",
       "      <td>60</td>\n",
       "      <td>30</td>\n",
       "      <td>10</td>\n",
       "    </tr>\n",
       "    <tr>\n",
       "      <th>1</th>\n",
       "      <td>女性</td>\n",
       "      <td>20</td>\n",
       "      <td>40</td>\n",
       "      <td>40</td>\n",
       "    </tr>\n",
       "  </tbody>\n",
       "</table>\n",
       "</div>"
      ],
      "text/plain": [
       "  index  賛成  中立  反対\n",
       "0    男性  60  30  10\n",
       "1    女性  20  40  40"
      ]
     },
     "execution_count": 11,
     "metadata": {},
     "output_type": "execute_result"
    }
   ],
   "source": [
    "# データフレームに変えていく\n",
    "ctab = pd.DataFrame(cross, \n",
    "                    columns = [\"賛成\", \"中立\", \"反対\"],\n",
    "                    index = [\"男性\", \"女性\"])\n",
    "#ctab\n",
    "ctab.reset_index()"
   ]
  },
  {
   "cell_type": "code",
   "execution_count": 12,
   "id": "07272f08-460d-4b03-ac04-ef6fdcaf2b3a",
   "metadata": {},
   "outputs": [
    {
     "data": {
      "text/html": [
       "<div>\n",
       "<style scoped>\n",
       "    .dataframe tbody tr th:only-of-type {\n",
       "        vertical-align: middle;\n",
       "    }\n",
       "\n",
       "    .dataframe tbody tr th {\n",
       "        vertical-align: top;\n",
       "    }\n",
       "\n",
       "    .dataframe thead th {\n",
       "        text-align: right;\n",
       "    }\n",
       "</style>\n",
       "<table border=\"1\" class=\"dataframe\">\n",
       "  <thead>\n",
       "    <tr style=\"text-align: right;\">\n",
       "      <th></th>\n",
       "      <th>index</th>\n",
       "      <th>variable</th>\n",
       "      <th>value</th>\n",
       "    </tr>\n",
       "  </thead>\n",
       "  <tbody>\n",
       "    <tr>\n",
       "      <th>0</th>\n",
       "      <td>男性</td>\n",
       "      <td>賛成</td>\n",
       "      <td>60</td>\n",
       "    </tr>\n",
       "    <tr>\n",
       "      <th>1</th>\n",
       "      <td>女性</td>\n",
       "      <td>賛成</td>\n",
       "      <td>20</td>\n",
       "    </tr>\n",
       "    <tr>\n",
       "      <th>2</th>\n",
       "      <td>男性</td>\n",
       "      <td>中立</td>\n",
       "      <td>30</td>\n",
       "    </tr>\n",
       "    <tr>\n",
       "      <th>3</th>\n",
       "      <td>女性</td>\n",
       "      <td>中立</td>\n",
       "      <td>40</td>\n",
       "    </tr>\n",
       "    <tr>\n",
       "      <th>4</th>\n",
       "      <td>男性</td>\n",
       "      <td>反対</td>\n",
       "      <td>10</td>\n",
       "    </tr>\n",
       "  </tbody>\n",
       "</table>\n",
       "</div>"
      ],
      "text/plain": [
       "  index variable  value\n",
       "0    男性       賛成     60\n",
       "1    女性       賛成     20\n",
       "2    男性       中立     30\n",
       "3    女性       中立     40\n",
       "4    男性       反対     10"
      ]
     },
     "execution_count": 12,
     "metadata": {},
     "output_type": "execute_result"
    }
   ],
   "source": [
    "ctab_df = pd.melt(ctab.reset_index(), id_vars = \"index\")\n",
    "ctab_df.head(n = 5)"
   ]
  },
  {
   "cell_type": "code",
   "execution_count": 13,
   "id": "995e4f20-d1f0-477f-b416-9b8d7e4d7226",
   "metadata": {},
   "outputs": [
    {
     "data": {
      "text/html": [
       "<div>\n",
       "<style scoped>\n",
       "    .dataframe tbody tr th:only-of-type {\n",
       "        vertical-align: middle;\n",
       "    }\n",
       "\n",
       "    .dataframe tbody tr th {\n",
       "        vertical-align: top;\n",
       "    }\n",
       "\n",
       "    .dataframe thead th {\n",
       "        text-align: right;\n",
       "    }\n",
       "</style>\n",
       "<table border=\"1\" class=\"dataframe\">\n",
       "  <thead>\n",
       "    <tr style=\"text-align: right;\">\n",
       "      <th></th>\n",
       "      <th>index</th>\n",
       "      <th>variable</th>\n",
       "    </tr>\n",
       "  </thead>\n",
       "  <tbody>\n",
       "    <tr>\n",
       "      <th>0</th>\n",
       "      <td>男性</td>\n",
       "      <td>賛成</td>\n",
       "    </tr>\n",
       "    <tr>\n",
       "      <th>1</th>\n",
       "      <td>男性</td>\n",
       "      <td>賛成</td>\n",
       "    </tr>\n",
       "    <tr>\n",
       "      <th>2</th>\n",
       "      <td>男性</td>\n",
       "      <td>賛成</td>\n",
       "    </tr>\n",
       "    <tr>\n",
       "      <th>3</th>\n",
       "      <td>男性</td>\n",
       "      <td>賛成</td>\n",
       "    </tr>\n",
       "    <tr>\n",
       "      <th>4</th>\n",
       "      <td>男性</td>\n",
       "      <td>賛成</td>\n",
       "    </tr>\n",
       "  </tbody>\n",
       "</table>\n",
       "</div>"
      ],
      "text/plain": [
       "  index variable\n",
       "0    男性       賛成\n",
       "1    男性       賛成\n",
       "2    男性       賛成\n",
       "3    男性       賛成\n",
       "4    男性       賛成"
      ]
     },
     "execution_count": 13,
     "metadata": {},
     "output_type": "execute_result"
    }
   ],
   "source": [
    "ctab_df = ctab_df.reindex(ctab_df.index.repeat(ctab_df.value)).reset_index(drop = True).drop(\"value\", axis = 1)\n",
    "ctab_df.head(n = 5)"
   ]
  },
  {
   "cell_type": "code",
   "execution_count": 14,
   "id": "a4bf46db-433a-4e9a-8078-750c52307004",
   "metadata": {},
   "outputs": [
    {
     "data": {
      "text/html": [
       "<div>\n",
       "<style scoped>\n",
       "    .dataframe tbody tr th:only-of-type {\n",
       "        vertical-align: middle;\n",
       "    }\n",
       "\n",
       "    .dataframe tbody tr th {\n",
       "        vertical-align: top;\n",
       "    }\n",
       "\n",
       "    .dataframe thead th {\n",
       "        text-align: right;\n",
       "    }\n",
       "</style>\n",
       "<table border=\"1\" class=\"dataframe\">\n",
       "  <thead>\n",
       "    <tr style=\"text-align: right;\">\n",
       "      <th></th>\n",
       "      <th>test</th>\n",
       "      <th>lambda</th>\n",
       "      <th>chi2</th>\n",
       "      <th>dof</th>\n",
       "      <th>pval</th>\n",
       "      <th>cramer</th>\n",
       "      <th>power</th>\n",
       "    </tr>\n",
       "  </thead>\n",
       "  <tbody>\n",
       "    <tr>\n",
       "      <th>0</th>\n",
       "      <td>pearson</td>\n",
       "      <td>1.0</td>\n",
       "      <td>39.428571</td>\n",
       "      <td>2.0</td>\n",
       "      <td>2.742802e-09</td>\n",
       "      <td>0.444008</td>\n",
       "      <td>0.999962</td>\n",
       "    </tr>\n",
       "  </tbody>\n",
       "</table>\n",
       "</div>"
      ],
      "text/plain": [
       "      test  lambda       chi2  dof          pval    cramer     power\n",
       "0  pearson     1.0  39.428571  2.0  2.742802e-09  0.444008  0.999962"
      ]
     },
     "execution_count": 14,
     "metadata": {},
     "output_type": "execute_result"
    }
   ],
   "source": [
    "_, _, stats = pg.chi2_independence(data = ctab_df,\n",
    "                                   x = \"index\",\n",
    "                                   y = \"variable\")\n",
    "stats.query('test == \"pearson\"')"
   ]
  }
 ],
 "metadata": {
  "kernelspec": {
   "display_name": "Python 3 (ipykernel)",
   "language": "python",
   "name": "python3"
  },
  "language_info": {
   "codemirror_mode": {
    "name": "ipython",
    "version": 3
   },
   "file_extension": ".py",
   "mimetype": "text/x-python",
   "name": "python",
   "nbconvert_exporter": "python",
   "pygments_lexer": "ipython3",
   "version": "3.8.9"
  }
 },
 "nbformat": 4,
 "nbformat_minor": 5
}
