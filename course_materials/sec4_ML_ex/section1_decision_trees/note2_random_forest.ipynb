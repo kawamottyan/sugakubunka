{
 "cells": [
  {
   "cell_type": "markdown",
   "metadata": {},
   "source": [
    "## F ランダムフォレスト回帰の学習\n",
    "\n",
    "この節の目標は、ランダムフォレスト回帰の学習の様子を理解することです。入力$X$に対して出力$y$が非線形な関係にある問題を準備し、ランダムフォレスト回帰にこれを学習させます。学習ののち、ランダムフォレスト回帰が入力$X$に対してどのような予測値$f(X)$を返すようになったのかを、入力と予測値のグラフを描くことで確認します。"
   ]
  },
  {
   "cell_type": "markdown",
   "metadata": {},
   "source": [
    "#### データの生成\n",
    "以下のような訓練データセットを準備します。\n",
    "* 入力 $X_{train}$ : 区間$[0,1]$上に等間隔に配置された100個の値\n",
    "* 出力 $y_{train}$ : $y_{train} = (X_{train} - 0.5)^2 + ε$\n",
    "\n",
    "ここで、εは平均0, 標準偏差0.1の正規分布$N(0, 0.1^2)$に従って決まる確率変数とします。要はεは誤差です。"
   ]
  },
  {
   "cell_type": "code",
   "execution_count": 1,
   "metadata": {},
   "outputs": [],
   "source": [
    "# データを生成する。\n",
    "import numpy as np\n",
    "X_train = np.linspace(start = 0, stop = 1, num = 100)\n",
    "y_train = (X_train - 0.5) ** 2 + np.random.normal(loc = 0, scale = 0.1, size = 100)"
   ]
  },
  {
   "cell_type": "code",
   "execution_count": 2,
   "metadata": {},
   "outputs": [
    {
     "data": {
      "text/plain": [
       "(100,)"
      ]
     },
     "execution_count": 2,
     "metadata": {},
     "output_type": "execute_result"
    }
   ],
   "source": [
    "# X_trainのshape\n",
    "X_train.shape"
   ]
  },
  {
   "cell_type": "code",
   "execution_count": 3,
   "metadata": {},
   "outputs": [
    {
     "data": {
      "text/plain": [
       "(100,)"
      ]
     },
     "execution_count": 3,
     "metadata": {},
     "output_type": "execute_result"
    }
   ],
   "source": [
    "# y_trainのshape\n",
    "y_train.shape"
   ]
  },
  {
   "cell_type": "code",
   "execution_count": 4,
   "metadata": {},
   "outputs": [
    {
     "data": {
      "image/png": "[encoded data removed]",
      "text/plain": [
       "<Figure size 432x288 with 1 Axes>"
      ]
     },
     "metadata": {
      "needs_background": "light"
     },
     "output_type": "display_data"
    }
   ],
   "source": [
    "# X_trainとy_trainの散布図を描く。\n",
    "import matplotlib.pyplot as plt\n",
    "\n",
    "plt.scatter(X_train, y_train)\n",
    "plt.show()"
   ]
  },
  {
   "cell_type": "markdown",
   "metadata": {},
   "source": [
    "#### ランダムフォレスト回帰のsckit-learnによる実装\n",
    "scikit-learnモジュールにはランダムフォレスト回帰のクラス`RandomForestRegressor`が準備されています。今回はこれを用いてランダムフォレスト回帰の学習を行いましょう。\n",
    "\n",
    "ランダムフォレスト回帰は決定木のハイパーパラメータのほかに「弱学習器の数」・「決定木の各ノードを決定する際に参照する特徴量の最大数」というハイパーパラメータがあり、`RandomForestRegressor` classでは\n",
    "* `n_estimators` : 弱学習器の個数\n",
    "* `max_features` : 決定木の各ノードを決定する際に参照する特徴量の最大数\n",
    "\n",
    "というインスタンス変数で指定することができます。今回は入力変数が1変数しかなくノードの特徴量の最大数は自動的に1なので、`n_estimators=100`を指定することにします。また、決定木のハイパーパラメータを`max_leaf_nodes = 5`に指定します。"
   ]
  },
  {
   "cell_type": "code",
   "execution_count": 5,
   "metadata": {},
   "outputs": [],
   "source": [
    "# ランダムフォレスト回帰のインスタンスを立てる。\n",
    "from sklearn.ensemble import RandomForestRegressor\n",
    "RFR = RandomForestRegressor(n_estimators = 100, max_leaf_nodes = 5)"
   ]
  },
  {
   "cell_type": "code",
   "execution_count": 6,
   "metadata": {},
   "outputs": [
    {
     "data": {
      "text/plain": [
       "(100,)"
      ]
     },
     "execution_count": 6,
     "metadata": {},
     "output_type": "execute_result"
    }
   ],
   "source": [
    "# X_trainのshapeの確認\n",
    "X_train.shape"
   ]
  },
  {
   "cell_type": "code",
   "execution_count": 7,
   "metadata": {},
   "outputs": [],
   "source": [
    "# fitメソッドに渡すための整形\n",
    "X_train = X_train.reshape(100, 1)"
   ]
  },
  {
   "cell_type": "code",
   "execution_count": 8,
   "metadata": {},
   "outputs": [
    {
     "data": {
      "text/plain": [
       "RandomForestRegressor(max_leaf_nodes=5)"
      ]
     },
     "execution_count": 8,
     "metadata": {},
     "output_type": "execute_result"
    }
   ],
   "source": [
    "RFR.fit(X_train, y_train)"
   ]
  },
  {
   "cell_type": "markdown",
   "metadata": {},
   "source": [
    "#### ランダムフォレスト回帰の学習結果の確認\n",
    "ランダムフォレスト回帰の学習の結果を確認するために、入力$X_{test}$として区間$[0,1]$上に100個の点を等間隔に生成し、学習済みのランダムフォレスト回帰がこれらの入力に対して与える予測値$f(X_{test})$を計算します。さらに、入力$X$と予測値$f(X_{test})$関係を先ほどの散布図上に描画しましょう。\n",
    "\n",
    "ランダムフォレスト回帰の予測値の計算は`predict`メソッドで実行できます。"
   ]
  },
  {
   "cell_type": "code",
   "execution_count": 9,
   "metadata": {},
   "outputs": [],
   "source": [
    "# 予測値を計算するための入力を生成\n",
    "X_test = np.linspace(0, 1, 10)"
   ]
  },
  {
   "cell_type": "code",
   "execution_count": 10,
   "metadata": {},
   "outputs": [],
   "source": [
    "# predictメソッドに渡すために整形する。\n",
    "X_test = X_test.reshape(10, 1)"
   ]
  },
  {
   "cell_type": "code",
   "execution_count": 11,
   "metadata": {},
   "outputs": [
    {
     "data": {
      "text/plain": [
       "array([0.22633421, 0.1161044 , 0.03324258, 0.00959407, 0.00451353,\n",
       "       0.00459542, 0.01941041, 0.10223977, 0.13139554, 0.14401562])"
      ]
     },
     "execution_count": 11,
     "metadata": {},
     "output_type": "execute_result"
    }
   ],
   "source": [
    "# 予測値を計算する。\n",
    "y_pred = RFR.predict(X_test)\n",
    "y_pred"
   ]
  },
  {
   "cell_type": "markdown",
   "metadata": {},
   "source": [
    "入力と予測値の関係を散布図で表現しましょう。matplotlib.pyplot.scatter関数のために訓練データおよびテストデータの入力$X_{train}, X_{test}$のshapeをそれぞれ(100,), (100,)に戻す必要があることに注意しましょう。"
   ]
  },
  {
   "cell_type": "code",
   "execution_count": 12,
   "metadata": {},
   "outputs": [],
   "source": [
    "# matplotlib.pyplot.scatterのために入力を整形する。\n",
    "X_train = X_train.reshape(100)\n",
    "X_test = X_test.reshape(10)"
   ]
  },
  {
   "cell_type": "code",
   "execution_count": 13,
   "metadata": {},
   "outputs": [
    {
     "data": {
      "image/png": "[encoded data removed]",
      "text/plain": [
       "<Figure size 432x288 with 1 Axes>"
      ]
     },
     "metadata": {
      "needs_background": "light"
     },
     "output_type": "display_data"
    }
   ],
   "source": [
    "# 入力と出力、予測値を散布図に図示する。\n",
    "import matplotlib.pyplot as plt\n",
    "plt.scatter(X_train, y_train)\n",
    "plt.plot(X_test, y_pred)\n",
    "plt.show()"
   ]
  },
  {
   "cell_type": "markdown",
   "metadata": {},
   "source": [
    "#### ランダムフォレスト回帰の学習の数理\n",
    "**ランダムフォレスト回帰**は、\n",
    "1. 訓練データからn個のブートストラップ標本を作る。\n",
    "2. n個の標本それぞれに決定木回帰を学習させ、n個の学習済み決定木回帰を作る。\n",
    "\n",
    "このn個の決定木回帰の平均値でもって予測値を決定するような学習器です。ここで**ブートストラップ標本**とは、サイズ$m$の標本を決められた回数$n$だけ復元抽出で再標本化することによって、$n$個の標本を作る操作を指します。例えば、サイズ5の標本$\\{1,2,3,4,5\\}$を4回ブートストラップすることは、以下のような操作に対応します。"
   ]
  },
  {
   "cell_type": "code",
   "execution_count": 14,
   "metadata": {},
   "outputs": [
    {
     "name": "stdout",
     "output_type": "stream",
     "text": [
      "再標本 0 : [5 4 5 5 4]\n",
      "再標本 1 : [1 2 5 4 1]\n",
      "再標本 2 : [3 5 5 3 3]\n",
      "再標本 3 : [5 4 1 1 2]\n"
     ]
    }
   ],
   "source": [
    "sample = np.array([1, 2, 3, 4, 5])    # 元の標本\n",
    "for i in range(4):\n",
    "    resample = np.random.choice(a = sample, size = 5, replace = True)    # 復元抽出による再標本\n",
    "    print(\"再標本\", i, \":\", resample)"
   ]
  },
  {
   "cell_type": "markdown",
   "metadata": {},
   "source": [
    "`RandomForestRegressor`クラスの`n_estimators`引数は決定木回帰の個数（すなわちブートストラップの回数）に対応しています。\n",
    "\n",
    "このように弱学習器を複数作って組み合わせるような手法は**アンサンブル学習**と呼ばれています。ランダムフォレスト回帰もアンサンブル学習の一手法です。アンサンブル学習の弱学習器には、データに対してロバスト性がない学習器（**不安定な学習器**）が望ましいことが知られているので、一般には今回のように決定木学習が採用されます。"
   ]
  },
  {
   "cell_type": "markdown",
   "metadata": {},
   "source": [
    "また、ランダムフォレスト回帰は決定木回帰の各ノードを決定する際に、すべての入力変数のなかから分割に用いる軸を探すのではなく、ランダムに$d$個選んできたもののなかから選択します。この$d$を指定するのが`max_features`です。このランダムな入力変数の選択よってデータに対するロバスト性をさらに向上することに成功しました。"
   ]
  },
  {
   "cell_type": "markdown",
   "metadata": {},
   "source": [
    "## F　ランダムフォレスト回帰の性質\n",
    "ランダムフォレスト回帰は\n",
    "* 過剰適合しづらい。\n",
    "* データに対してロバスト性がある。\n",
    "\n",
    "という性質があることが知られています。これは実験的にわかっているだけでなく、数理統計の議論によって確かめられています。これは決定木回帰の弱点を克服しているという意味で、特筆すべき性質です。これらの性質を確認するため、訓練データだけを変えたときにランダムフォレスト回帰の入力に対する予測値のグラフがどれくらい変化するのかを見てみます。"
   ]
  },
  {
   "cell_type": "code",
   "execution_count": 15,
   "metadata": {},
   "outputs": [
    {
     "data": {
      "image/png": "[encoded data removed]",
      "text/plain": [
       "<Figure size 432x288 with 1 Axes>"
      ]
     },
     "metadata": {
      "needs_background": "light"
     },
     "output_type": "display_data"
    }
   ],
   "source": [
    "# 前節の一連のスクリプトまとめ（何度か繰り返し実行して、結果の違いを見る。）\n",
    "import numpy as np\n",
    "import matplotlib.pyplot as plt\n",
    "from sklearn.ensemble import RandomForestRegressor\n",
    "\n",
    "X_train = np.linspace(start = 0, stop = 1, num = 100)\n",
    "y_train = (X_train - 0.5) ** 2 + np.random.normal(loc = 0.0, scale = 0.1, size = 100)\n",
    "\n",
    "X_train = X_train.reshape(100, 1)\n",
    "\n",
    "RFR = RandomForestRegressor(max_leaf_nodes = 5, n_estimators = 100)\n",
    "RFR.fit(X_train, y_train)\n",
    "\n",
    "X_test = np.linspace(0, 1, 100)\n",
    "X_test = X_test.reshape(100, 1)\n",
    "y_pred = RFR.predict(X_test)\n",
    "\n",
    "X_train = X_train.reshape(100)\n",
    "X_test = X_test.reshape(100)\n",
    "\n",
    "plt.scatter(X_train, y_train)\n",
    "plt.plot(X_test, y_pred)\n",
    "plt.show()"
   ]
  },
  {
   "cell_type": "markdown",
   "metadata": {},
   "source": [
    "参考のために、同じ条件で決定木回帰の学習を行い、ランダムフォレスト回帰の場合と見比べてみましょう。決定木回帰は何度か繰り返しているとしばしば突飛な予測値を返すような分割領域をもつ学習器が作られ、データに過剰適合しているかつデータの変化に弱い傾向が見て取れます。"
   ]
  },
  {
   "cell_type": "code",
   "execution_count": 16,
   "metadata": {},
   "outputs": [
    {
     "data": {
      "image/png": "[encoded data removed]",
      "text/plain": [
       "<Figure size 432x288 with 1 Axes>"
      ]
     },
     "metadata": {
      "needs_background": "light"
     },
     "output_type": "display_data"
    }
   ],
   "source": [
    "# 上の一連のスクリプトまとめ\n",
    "import numpy as np\n",
    "import matplotlib.pyplot as plt\n",
    "from sklearn.tree import DecisionTreeRegressor\n",
    "\n",
    "X_train = np.linspace(start = 0, stop = 1, num = 100)\n",
    "y_train = (X_train - 0.5) ** 2 + np.random.normal(loc = 0.0, scale = 0.1, size = 100)\n",
    "\n",
    "X_train = X_train.reshape(100, 1)\n",
    "\n",
    "DTR = DecisionTreeRegressor(max_leaf_nodes = 5)\n",
    "DTR.fit(X_train, y_train)\n",
    "\n",
    "X_test = np.linspace(0, 1, 100)\n",
    "X_test = X_test.reshape(100, 1)\n",
    "y_pred = DTR.predict(X_test)\n",
    "\n",
    "X_train = X_train.reshape(100)\n",
    "X_test = X_test.reshape(100)\n",
    "\n",
    "plt.scatter(X_train, y_train)\n",
    "plt.plot(X_test, y_pred)\n",
    "plt.show()"
   ]
  },
  {
   "cell_type": "markdown",
   "metadata": {},
   "source": [
    "## G　ランダムフォレスト回帰による変数重要度\n",
    "ランダムフォレスト回帰も決定木回帰と同様に各変数の変数重要度を計算することが出来ます。これは、弱学習器である決定木回帰の変数重要度の単純平均によって算出されます。\n",
    "\n",
    "決定木回帰1個による変数重要度には、学習時に分割領域の決定に採用されなかった変数の重要度を算出できないという欠点があります。これは仮にとある変数が重要でも、より重要な変数によってその変数の重要性を見逃す可能性があることを指します。しかし、ランダムフォレスト回帰では、訓練データをブートストラップ標本で取り換えて学習した様々な決定木回帰の変数重要度の平均によって変数重要度を計算するため、重要な変数を見逃すリスクを減らせるという長所があります。\n",
    "\n",
    "scikit-learnの`RandomForestRegressor`クラスでは、`DecisionTreeRegressor`クラスと同様に訓練データの学習ののちインスタンス変数`feature_importances_`にこの計算結果が代入されます。"
   ]
  },
  {
   "cell_type": "markdown",
   "metadata": {},
   "source": [
    "以下のような訓練データセットを準備します。\n",
    "* 入力 $X_{train}$ : 区間$[-1,1]×[-1,1]$上に格子状に配置された9個の点\n",
    "* 出力 $y_{train}$ : $y_{train} = X_{train}[:, 0]^2 + X_{train}[:, 1]^2$\n",
    "\n",
    "出力は入力の第0変数の値と第1変数の値の2乗和で与えています。"
   ]
  },
  {
   "cell_type": "code",
   "execution_count": 17,
   "metadata": {},
   "outputs": [
    {
     "data": {
      "text/plain": [
       "(10000, 2)"
      ]
     },
     "execution_count": 17,
     "metadata": {},
     "output_type": "execute_result"
    }
   ],
   "source": [
    "# 訓練データの入力の生成\n",
    "a = np.linspace(start = -1, stop = 1, num = 100)\n",
    "b = np.linspace(start = -1, stop = 1, num = 100)\n",
    "x0_train, x1_train = np.meshgrid(a, b)\n",
    "X_train = np.c_[x0_train.ravel(), x1_train.ravel()]\n",
    "X_train.shape"
   ]
  },
  {
   "cell_type": "code",
   "execution_count": 18,
   "metadata": {},
   "outputs": [
    {
     "data": {
      "text/plain": [
       "(10000,)"
      ]
     },
     "execution_count": 18,
     "metadata": {},
     "output_type": "execute_result"
    }
   ],
   "source": [
    "# 訓練データの出力の生成\n",
    "y_train = X_train[:, 0]**2 + X_train[:, 1]**2\n",
    "y_train.shape"
   ]
  },
  {
   "cell_type": "code",
   "execution_count": 19,
   "metadata": {},
   "outputs": [
    {
     "data": {
      "text/plain": [
       "RandomForestRegressor(max_leaf_nodes=5)"
      ]
     },
     "execution_count": 19,
     "metadata": {},
     "output_type": "execute_result"
    }
   ],
   "source": [
    "# ランダムフォレスト回帰のインスタンスを立てる。\n",
    "from sklearn.ensemble import RandomForestRegressor\n",
    "RFR = RandomForestRegressor(max_leaf_nodes = 5, n_estimators = 100)\n",
    "RFR.fit(X_train, y_train)"
   ]
  },
  {
   "cell_type": "code",
   "execution_count": 20,
   "metadata": {},
   "outputs": [
    {
     "data": {
      "text/plain": [
       "array([0.49947803, 0.50052197])"
      ]
     },
     "execution_count": 20,
     "metadata": {},
     "output_type": "execute_result"
    }
   ],
   "source": [
    "RFR.feature_importances_"
   ]
  },
  {
   "cell_type": "markdown",
   "metadata": {},
   "source": [
    "今回、ランダムフォレスト回帰の変数重要度の計算の結果、どちらの変数重要度もほぼ0.5という結果でした。これはどちらの変数も予測値の決定に同じくらい貢献していることを意味しています。\n",
    "\n",
    "実際、データを生成する際に入力と出力の関係は\n",
    "* 出力 $y_{train}$ : $y_{train} = X_{train}[:, 0]^2 + X_{train}[:, 1]^2$\n",
    "\n",
    "で決めたので、入力の第0変数と入力の第1変数のうち、特にどちらが予測値の決定により重要ということはなさそうであることが分かるので、今回の変数重要度の計算結果も頷ける結果と言えるでしょう。"
   ]
  }
 ],
 "metadata": {
  "kernelspec": {
   "display_name": "Python 3",
   "language": "python",
   "name": "python3"
  },
  "language_info": {
   "codemirror_mode": {
    "name": "ipython",
    "version": 3
   },
   "file_extension": ".py",
   "mimetype": "text/x-python",
   "name": "python",
   "nbconvert_exporter": "python",
   "pygments_lexer": "ipython3",
   "version": "3.8.2"
  }
 },
 "nbformat": 4,
 "nbformat_minor": 4
}
