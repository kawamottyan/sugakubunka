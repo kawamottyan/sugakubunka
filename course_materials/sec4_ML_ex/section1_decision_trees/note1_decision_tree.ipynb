{
 "cells": [
  {
   "cell_type": "markdown",
   "metadata": {},
   "source": [
    "# 1　決定木回帰とランダムフォレスト"
   ]
  },
  {
   "cell_type": "markdown",
   "metadata": {},
   "source": [
    "## A　決定木回帰の学習\n",
    "\n",
    "この節の目標は、決定木回帰の学習の様子を理解することです。入力$X$に対して出力$y$が非線形な関係にある問題を準備し、決定木回帰にこれを学習させます。学習ののち、決定木回帰が入力$X$に対してどのような予測値$f(X)$を返すようになったのかを、入力と予測値のグラフを描くことで確認します。"
   ]
  },
  {
   "cell_type": "markdown",
   "metadata": {},
   "source": [
    "#### データの生成\n",
    "以下のような訓練データセットを準備します。\n",
    "* 入力 $X_{train}$ : 区間$[0,1]$上に等間隔に配置された16個の値\n",
    "* 出力 $y_{train}$ : $y_{train} = (X_{train} - 0.5)^2$\n",
    "\n",
    "訓練データセットは入力と出力が2次関数の関係にあり、線形(1次式)な関係ではありません。このような問題を非線形な問題といいます。"
   ]
  },
  {
   "cell_type": "code",
   "execution_count": 1,
   "metadata": {},
   "outputs": [],
   "source": [
    "# データを生成する。\n",
    "import numpy as np\n",
    "X_train = np.linspace(start = 0, stop = 1, num = 16)\n",
    "y_train = (X_train - 0.5) ** 2"
   ]
  },
  {
   "cell_type": "code",
   "execution_count": 2,
   "metadata": {},
   "outputs": [
    {
     "data": {
      "image/png": "[encoded data removed]",
      "text/plain": [
       "<Figure size 432x288 with 1 Axes>"
      ]
     },
     "metadata": {
      "needs_background": "light"
     },
     "output_type": "display_data"
    }
   ],
   "source": [
    "# X_trainとy_trainの散布図を描く。\n",
    "import matplotlib.pyplot as plt\n",
    "\n",
    "plt.scatter(X_train, y_train)\n",
    "plt.show()"
   ]
  },
  {
   "cell_type": "markdown",
   "metadata": {},
   "source": [
    "#### 決定木回帰のsckit-learnによる実装\n",
    "scikit-learnモジュールには決定木回帰のクラス`DecisionTreeRegressor`が準備されています。今回はこれを用いて決定木回帰の学習を行いましょう。\n",
    "\n",
    "決定木回帰は「葉ノードの最大数」というハイパーパラメータがあり、`DecisionTreeRegressor`でも`max_leaf_nodes`というインスタンス変数で指定することができます。今回はこの変数の値を5にしてインスタンスを立ててみましょう。"
   ]
  },
  {
   "cell_type": "code",
   "execution_count": 3,
   "metadata": {},
   "outputs": [],
   "source": [
    "# 決定木回帰のインスタンスを立てる。\n",
    "from sklearn.tree import DecisionTreeRegressor\n",
    "DTR = DecisionTreeRegressor(max_leaf_nodes = 5)"
   ]
  },
  {
   "cell_type": "markdown",
   "metadata": {},
   "source": [
    "`fit`メソッドでは、このように各データポイントごとに1つのリストが充てがわれるように入力が準備されます。では早速、決定木回帰を学習させてみましょう。"
   ]
  },
  {
   "cell_type": "code",
   "execution_count": 4,
   "metadata": {},
   "outputs": [
    {
     "data": {
      "text/plain": [
       "DecisionTreeRegressor(max_leaf_nodes=5)"
      ]
     },
     "execution_count": 4,
     "metadata": {},
     "output_type": "execute_result"
    }
   ],
   "source": [
    "X_train = X_train.reshape(16, 1) # fitメソッドに渡すための整形\n",
    "DTR.fit(X_train, y_train)"
   ]
  },
  {
   "cell_type": "markdown",
   "metadata": {},
   "source": [
    "#### 決定木回帰の学習結果の確認\n",
    "決定木回帰の学習の結果を確認するために、入力$X_{test}$として区間$[0,1]$上に100個の点を等間隔に生成し、学習済みの決定木回帰がこれらの入力に対して与える予測値$f(X_{test})$を計算します。さらに、入力$X$と予測値$f(X_{test})$関係を先ほどの散布図上に描画しましょう。\n",
    "\n",
    "決定木回帰の予測値の計算は`predict`メソッドで実行できます。"
   ]
  },
  {
   "cell_type": "code",
   "execution_count": 5,
   "metadata": {},
   "outputs": [],
   "source": [
    "# 予測値を計算するための入力を生成\n",
    "X_test = np.linspace(0, 1, 100)"
   ]
  },
  {
   "cell_type": "code",
   "execution_count": 6,
   "metadata": {},
   "outputs": [],
   "source": [
    "# predictメソッドに渡すために整形する。\n",
    "X_test = X_test.reshape(100, 1)"
   ]
  },
  {
   "cell_type": "code",
   "execution_count": 7,
   "metadata": {},
   "outputs": [],
   "source": [
    "# 予測値を計算する。\n",
    "y_pred = DTR.predict(X_test)"
   ]
  },
  {
   "cell_type": "markdown",
   "metadata": {},
   "source": [
    "入力と予測値の関係を散布図で表現しましょう。"
   ]
  },
  {
   "cell_type": "code",
   "execution_count": 8,
   "metadata": {},
   "outputs": [],
   "source": [
    "# matplotlib.pyplot.scatterのために入力を整形する。\n",
    "X_train = X_train.reshape(16)\n",
    "X_test = X_test.reshape(100)"
   ]
  },
  {
   "cell_type": "code",
   "execution_count": 9,
   "metadata": {},
   "outputs": [
    {
     "data": {
      "image/png": "[encoded data removed]",
      "text/plain": [
       "<Figure size 432x288 with 1 Axes>"
      ]
     },
     "metadata": {
      "needs_background": "light"
     },
     "output_type": "display_data"
    }
   ],
   "source": [
    "# 入力と出力、予測値を散布図に図示する。\n",
    "import matplotlib.pyplot as plt\n",
    "plt.scatter(X_train, y_train)\n",
    "plt.plot(X_test, y_pred)\n",
    "plt.show()"
   ]
  },
  {
   "cell_type": "markdown",
   "metadata": {},
   "source": [
    "#### 決定木回帰の学習の数理\n",
    "これまでの結果を参考に、決定木回帰の学習の数学的な部分を説明しましょう。決定木回帰は入力$X$に対する予測$f(X)$を**階段関数**で与えるような学習器です。階段関数とは、区分的に定数関数になっているような関数になっているようなものです。入力空間をいくつかの領域に分割して、その領域ごとに一定の予測値が充てがわれています。\n",
    "\n",
    "入力空間をどれくらい細かく分割するかを決めているのが**葉ノードの最大数**です。先ほどの例では、葉ノードの最大数が5だったので、入力空間もまた5つに分割されています。\n",
    "* $X < 0.1$\n",
    "* $0.1 < X < 0.2$\n",
    "* $0.2< X < 0.8$\n",
    "* $0.8 < X < 0.9$\n",
    "* $0.9 < X$\n",
    "\n",
    "決定木回帰の学習では、訓練データでの平均2乗誤差が最小になるように入力空間の分割領域とその領域における予測値を決定しています(問3参照)。ここで、入力空間の分割領域はその領域の数が葉ノードの最大数を超えない範囲で求めます。\n",
    "\n",
    "要するに決定木回帰は、仮説を階段関数、損失を平均２乗誤差、罰則を葉ノードの数であるような学習アルゴリズムです。"
   ]
  },
  {
   "cell_type": "markdown",
   "metadata": {},
   "source": [
    "#### 演習問題\n",
    "**問1**. 上記の例で、決定木回帰の最大葉ノード数を16にしたとき、入力$X$に対する予測値$f(X)$のグラフはどのような折れ線グラフになるだろうか。\n",
    "\n",
    "(1) 学習の結果として得られるグラフを考え、手書きで描いてみましょう。\n",
    "\n",
    "(2) (1)の結果が正しいを確認するために、上記に倣ってPythonでグラフを描いてみましょう。\n",
    "> Hint. `DecisionTreeRegressor`クラスのインスタンス変数`max_leaf_nodes`に16を渡せばよい。\n",
    "\n",
    "(3) (2)で確認されるような現象を何というか答えてください。\n",
    "\n",
    "**問2**. 以下のようなデータセットを、最大葉ノード数が2の決定木回帰に学習させる。このとき、入力$X$に対する予測値$f(X)$のグラフはどのような折れ線グラフになるだろうか。手書きで答えてください。"
   ]
  },
  {
   "cell_type": "code",
   "execution_count": 10,
   "metadata": {},
   "outputs": [
    {
     "data": {
      "image/png": "[encoded data removed]",
      "text/plain": [
       "<Figure size 432x288 with 1 Axes>"
      ]
     },
     "metadata": {
      "needs_background": "light"
     },
     "output_type": "display_data"
    }
   ],
   "source": [
    "import numpy as np\n",
    "import matplotlib.pyplot as plt\n",
    "\n",
    "X_train = np.array([0, 0.33, 0.67, 1.00])\n",
    "y_train = np.array([-1.25, -0.75, 0.75, 1.25])\n",
    "\n",
    "plt.scatter(X_train, y_train)\n",
    "plt.show()"
   ]
  },
  {
   "cell_type": "markdown",
   "metadata": {},
   "source": [
    "**問3**. データ$y_1,..., y_n$に対して、平均２乗誤差を最小にするような予測値は**$y$の標本平均**であることを証明してください。\n",
    "> 要は、決定木回帰の分割領域に充てがわれる予測値は、分割領域に存在しているデータポイントの出力の値$y$の標本平均になるということです。"
   ]
  },
  {
   "cell_type": "markdown",
   "metadata": {},
   "source": [
    "## B　決定木回帰の性質\n",
    "決定木回帰の学習には、\n",
    "* 葉ノードの最大数を適切にコントロールしないと過剰適合する。\n",
    "* 訓練データの変化が学習に大きな影響を与える。（データに対してロバストでない。）\n",
    "\n",
    "という性質があることが知られています。1番目の性質は前節の問1で確認しました。この節では、2番目のデータに対してロバストでない性質を確認しましょう。\n",
    "\n",
    "入力に対して出力が一意に決まらない（誤差がついている）ような回帰問題を考えます。データを発生させる確率分布は変えずに、訓練データだけを変えたとき、決定木回帰の入力に対する予測値のグラフがどれくらい変化するのかを見てみましょう。"
   ]
  },
  {
   "cell_type": "markdown",
   "metadata": {},
   "source": [
    "#### データの生成\n",
    "以下のような訓練データセットを準備します。\n",
    "* 入力 $X_{train}$ : 区間$[0,1]$上に等間隔に配置された16個の値\n",
    "* 出力 $y_{train}$ : $y_{train} = (X_{train} - 0.5)^2 + ε$\n",
    "\n",
    "ここで、εは平均0, 標準偏差0.1の正規分布$N(0, 0.1^2)$に従って決まる確率変数とします。要はεは誤差です。"
   ]
  },
  {
   "cell_type": "code",
   "execution_count": 11,
   "metadata": {},
   "outputs": [],
   "source": [
    "# データを生成する。\n",
    "import numpy as np\n",
    "X_train = np.linspace(start = 0, stop = 1, num = 16)\n",
    "y_train = (X_train - 0.5) ** 2 + np.random.normal(loc = 0.0, scale = 0.1, size = 16)"
   ]
  },
  {
   "cell_type": "markdown",
   "metadata": {},
   "source": [
    "ここで、`numpy.random.normal(loc, scale, size)`は平均loc, 標準偏差scaleの正規乱数をsize個生成し、numpy.arrayで返します。今回の場合、誤差εとして平均0, 標準偏差1の正規乱数16個を`np.random.normal(loc = 0.0, scale = 0.1, size = 16)`で生成します。"
   ]
  },
  {
   "cell_type": "code",
   "execution_count": 12,
   "metadata": {},
   "outputs": [
    {
     "data": {
      "image/png": "[encoded data removed]",
      "text/plain": [
       "<Figure size 432x288 with 1 Axes>"
      ]
     },
     "metadata": {
      "needs_background": "light"
     },
     "output_type": "display_data"
    }
   ],
   "source": [
    "# X_trainとy_trainの散布図を描く。\n",
    "import matplotlib.pyplot as plt\n",
    "plt.scatter(X_train, y_train)\n",
    "plt.show()"
   ]
  },
  {
   "cell_type": "markdown",
   "metadata": {},
   "source": [
    "さて、この訓練データを決定木回帰に学習させ、学習の結果を入力に対する予測値のグラフで確認してみましょう。"
   ]
  },
  {
   "cell_type": "code",
   "execution_count": 13,
   "metadata": {},
   "outputs": [],
   "source": [
    "# fitメソッドに渡すための整形\n",
    "X_train = X_train.reshape(16, 1)"
   ]
  },
  {
   "cell_type": "markdown",
   "metadata": {},
   "source": [
    "#### 決定木回帰の学習とその結果の確認"
   ]
  },
  {
   "cell_type": "code",
   "execution_count": 14,
   "metadata": {},
   "outputs": [
    {
     "data": {
      "text/plain": [
       "DecisionTreeRegressor(max_leaf_nodes=5)"
      ]
     },
     "execution_count": 14,
     "metadata": {},
     "output_type": "execute_result"
    }
   ],
   "source": [
    "# 決定木回帰のインスタンスを立てる。\n",
    "from sklearn.tree import DecisionTreeRegressor\n",
    "DTR = DecisionTreeRegressor(max_leaf_nodes = 5)\n",
    "DTR.fit(X_train, y_train)"
   ]
  },
  {
   "cell_type": "code",
   "execution_count": 15,
   "metadata": {},
   "outputs": [],
   "source": [
    "# 予測値を計算するための入力を生成\n",
    "X_test = np.linspace(0, 1, 100)"
   ]
  },
  {
   "cell_type": "code",
   "execution_count": 16,
   "metadata": {},
   "outputs": [],
   "source": [
    "# predictメソッドに渡すために整形する。\n",
    "X_test = X_test.reshape(100, 1)"
   ]
  },
  {
   "cell_type": "code",
   "execution_count": 17,
   "metadata": {},
   "outputs": [],
   "source": [
    "# 予測値を計算する。\n",
    "y_pred = DTR.predict(X_test)"
   ]
  },
  {
   "cell_type": "code",
   "execution_count": 18,
   "metadata": {},
   "outputs": [],
   "source": [
    "# matplotlib.pyplot.scatterのために入力を整形する。\n",
    "X_train = X_train.reshape(16)\n",
    "X_test = X_test.reshape(100)"
   ]
  },
  {
   "cell_type": "code",
   "execution_count": 19,
   "metadata": {},
   "outputs": [
    {
     "data": {
      "image/png": "[encoded data removed]",
      "text/plain": [
       "<Figure size 432x288 with 1 Axes>"
      ]
     },
     "metadata": {
      "needs_background": "light"
     },
     "output_type": "display_data"
    }
   ],
   "source": [
    "# 入力と出力、予測値を散布図に図示する。\n",
    "import matplotlib.pyplot as plt\n",
    "plt.scatter(X_train, y_train)\n",
    "plt.plot(X_test, y_pred)\n",
    "plt.show()"
   ]
  },
  {
   "cell_type": "markdown",
   "metadata": {},
   "source": [
    "#### 訓練データの変化が学習に及ぼす影響\n",
    "さて、一連のスクリプトを繰り返し実行してみましょう。データを発生させる確率分布は変わらない一方、誤差εは取り替えられるので訓練データは変わります。このとき、入力$X$に対する予測値$f(X)$のグラフがどれくらい変わるかをチェックしてみましょう。"
   ]
  },
  {
   "cell_type": "code",
   "execution_count": 20,
   "metadata": {},
   "outputs": [
    {
     "data": {
      "image/png": "[encoded data removed]",
      "text/plain": [
       "<Figure size 432x288 with 1 Axes>"
      ]
     },
     "metadata": {
      "needs_background": "light"
     },
     "output_type": "display_data"
    }
   ],
   "source": [
    "# 上の一連のスクリプトまとめ\n",
    "import numpy as np\n",
    "import matplotlib.pyplot as plt\n",
    "from sklearn.tree import DecisionTreeRegressor\n",
    "\n",
    "X_train = np.linspace(start = 0, stop = 1, num = 16)\n",
    "y_train = (X_train - 0.5) ** 2 + np.random.normal(loc = 0.0, scale = 0.1, size = 16)\n",
    "\n",
    "X_train = X_train.reshape(16, 1)\n",
    "\n",
    "DTR = DecisionTreeRegressor(max_leaf_nodes = 5)\n",
    "DTR.fit(X_train, y_train)\n",
    "\n",
    "X_test = np.linspace(0, 1, 100)\n",
    "X_test = X_test.reshape(100, 1)\n",
    "y_pred = DTR.predict(X_test)\n",
    "\n",
    "X_train = X_train.reshape(16)\n",
    "X_test = X_test.reshape(100)\n",
    "\n",
    "plt.scatter(X_train, y_train)\n",
    "plt.plot(X_test, y_pred)\n",
    "plt.show()"
   ]
  },
  {
   "cell_type": "markdown",
   "metadata": {},
   "source": [
    "決定木回帰のデータに対するロバスト性の欠如は、結果の再現性のなさを意味するため、決定木回帰を実際に運用する例は現在あまり見られません。しかし、この致命的に見える決定木回帰の性質は、**アンサンブル学習**という考え方によって脚光を浴びることになりました。"
   ]
  },
  {
   "cell_type": "markdown",
   "metadata": {},
   "source": [
    "## C　多次元の入力に対する決定木回帰と分割領域\n",
    "前節までは1次元の入力の場合に決定木回帰の学習を説明しました。多次元の入力の場合に、1次元の入力の場合と学習に大きな違いがあるわけではないですが、入力空間の分割領域に特徴的な性質が現れます。入力空間の分割領域の境界が、変数軸に対して必ず垂直に決定されるのです。\n",
    "\n",
    "この節では、実際に多次元の入力に決定木回帰の学習を行うことで、分割領域の境界が変数軸に垂直に決まっている様子をチェックしましょう。また、この分割領域が**決定木**というif thenルールを決めることを確認しましょう。"
   ]
  },
  {
   "cell_type": "markdown",
   "metadata": {},
   "source": [
    "#### データの生成\n",
    "以下のような訓練データセットを準備します。\n",
    "* 入力 $X_{train}$ : 区間$[-1,1]×[-1,1]$上に格子状に配置された9個の点\n",
    "* 出力 $y_{train}$ : $y_{train} = X_{train}[:, 0]^2 + X_{train}[:, 1]^2$\n",
    "\n",
    "出力は入力の第0変数の値と第1変数の値の2乗和で与えています。"
   ]
  },
  {
   "cell_type": "code",
   "execution_count": 21,
   "metadata": {},
   "outputs": [
    {
     "data": {
      "text/plain": [
       "array([[-1., -1.],\n",
       "       [ 0., -1.],\n",
       "       [ 1., -1.],\n",
       "       [-1.,  0.],\n",
       "       [ 0.,  0.],\n",
       "       [ 1.,  0.],\n",
       "       [-1.,  1.],\n",
       "       [ 0.,  1.],\n",
       "       [ 1.,  1.]])"
      ]
     },
     "execution_count": 21,
     "metadata": {},
     "output_type": "execute_result"
    }
   ],
   "source": [
    "# 訓練データの入力の生成\n",
    "a = np.linspace(start = -1, stop = 1, num = 3)\n",
    "b = np.linspace(start = -1, stop = 1, num = 3)\n",
    "x0_train, x1_train = np.meshgrid(a, b)\n",
    "X_train = np.c_[x0_train.ravel(), x1_train.ravel()]\n",
    "X_train"
   ]
  },
  {
   "cell_type": "code",
   "execution_count": 22,
   "metadata": {},
   "outputs": [
    {
     "data": {
      "text/plain": [
       "array([2., 1., 2., 1., 0., 1., 2., 1., 2.])"
      ]
     },
     "execution_count": 22,
     "metadata": {},
     "output_type": "execute_result"
    }
   ],
   "source": [
    "# 訓練データの出力の生成\n",
    "y_train = X_train[:, 0]**2 + X_train[:, 1]**2\n",
    "y_train"
   ]
  },
  {
   "cell_type": "markdown",
   "metadata": {},
   "source": [
    "2次元の入力空間を散布図で描画し、点の色で出力の値を表現しましょう。今回、紺は0, 緑は1, 黄は2の値を表しています。"
   ]
  },
  {
   "cell_type": "code",
   "execution_count": 23,
   "metadata": {},
   "outputs": [
    {
     "data": {
      "image/png": "[encoded data removed]",
      "text/plain": [
       "<Figure size 432x288 with 1 Axes>"
      ]
     },
     "metadata": {
      "needs_background": "light"
     },
     "output_type": "display_data"
    }
   ],
   "source": [
    "# 散布図上に入力と出力を図示する。\n",
    "plt.scatter(x = X_train[:, 0], y = X_train[:, 1], c = y_train)\n",
    "plt.show()"
   ]
  },
  {
   "cell_type": "markdown",
   "metadata": {},
   "source": [
    "#### 決定木回帰の学習と分割領域の可視化"
   ]
  },
  {
   "cell_type": "code",
   "execution_count": 24,
   "metadata": {},
   "outputs": [
    {
     "data": {
      "text/plain": [
       "DecisionTreeRegressor(max_leaf_nodes=5, random_state=2)"
      ]
     },
     "execution_count": 24,
     "metadata": {},
     "output_type": "execute_result"
    }
   ],
   "source": [
    "# 決定木回帰の学習\n",
    "from sklearn.tree import DecisionTreeRegressor\n",
    "DTR = DecisionTreeRegressor(max_leaf_nodes = 5, random_state = 2)    # random_stateは学習の結果が都度変化しないようにするための乱数シード\n",
    "DTR.fit(X_train, y_train)"
   ]
  },
  {
   "cell_type": "markdown",
   "metadata": {},
   "source": [
    "決定木回帰の学習の結果を確認するために、入力$X_{test}$として区間$[-1,1]×[-1,1]$上に10000個の点を格子状に生成し、学習済みの決定木回帰がこれらの入力に対して与える予測値$f(X_{test})$を計算します。さらに、入力$X$と予測値$f(X_{test})$関係を先ほどの散布図上に描画しましょう。"
   ]
  },
  {
   "cell_type": "code",
   "execution_count": 25,
   "metadata": {},
   "outputs": [
    {
     "data": {
      "text/plain": [
       "array([[-1.        , -1.        ],\n",
       "       [-0.97979798, -1.        ],\n",
       "       [-0.95959596, -1.        ],\n",
       "       ...,\n",
       "       [ 0.95959596,  1.        ],\n",
       "       [ 0.97979798,  1.        ],\n",
       "       [ 1.        ,  1.        ]])"
      ]
     },
     "execution_count": 25,
     "metadata": {},
     "output_type": "execute_result"
    }
   ],
   "source": [
    "# テストデータの入力の生成\n",
    "c = np.linspace(start = -1, stop = 1, num = 100)\n",
    "d = np.linspace(start = -1, stop = 1, num = 100)\n",
    "x0_test, x1_test = np.meshgrid(c, d)\n",
    "X_test = np.c_[x0_test.ravel(), x1_test.ravel()]\n",
    "X_test"
   ]
  },
  {
   "cell_type": "code",
   "execution_count": 26,
   "metadata": {},
   "outputs": [
    {
     "data": {
      "text/plain": [
       "array([1.66666667, 1.66666667, 1.66666667, ..., 1.66666667, 1.66666667,\n",
       "       1.66666667])"
      ]
     },
     "execution_count": 26,
     "metadata": {},
     "output_type": "execute_result"
    }
   ],
   "source": [
    "# テストデータの入力に対する決定木回帰の予測値の計算\n",
    "y_pred = DTR.predict(X_test)\n",
    "y_pred"
   ]
  },
  {
   "cell_type": "code",
   "execution_count": 27,
   "metadata": {},
   "outputs": [
    {
     "data": {
      "image/png": "[encoded data removed]",
      "text/plain": [
       "<Figure size 432x288 with 1 Axes>"
      ]
     },
     "metadata": {
      "needs_background": "light"
     },
     "output_type": "display_data"
    }
   ],
   "source": [
    "# 学習の結果の可視化と入力空間の分割領域\n",
    "plt.scatter(x = X_train[:, 0], y = X_train[:, 1], c = y_train)\n",
    "plt.scatter(x = X_test[:, 0], y = X_test[:, 1], c = y_pred, alpha = 0.05)\n",
    "plt.show()"
   ]
  },
  {
   "cell_type": "markdown",
   "metadata": {},
   "source": [
    "この図から見て取れるように、決定木回帰は多次元の入力空間に対して分割領域の境界を必ず変数軸に垂直に決定することが分かりました。この性質は、次に説明するように決定木というif-thenルールとの対応を与えます。"
   ]
  },
  {
   "cell_type": "markdown",
   "metadata": {},
   "source": [
    "#### 決定木\n",
    "先ほど描画した入力空間の分割領域は、以下のようにif-thenルールとして書き下すことが可能です(問1参照)。このようなif-thenルールを**決定木**といいます。決定木回帰は予測値を決めるような決定木を学習する機械学習モデルであるところから、その名前で呼ばれるようになりました。\n",
    "<center><img src=\"./imgs/decision_tree.png\" width = \"250px\"></center>\n",
    "\n",
    "決定木の四角の部分は**ノード**、特に予測値が描かれている四角は**葉ノード(終端ノード)**と呼ばれています。各ノードには入力空間の分割規則が、特に葉ノードは各分割領域に宛がわれた予測値が示されています。`DecisionTreeRegressor`クラスのインスタンス変数`max_leaf_nodes`は、各分割領域が決定木の葉ノードに対応していることが名前の由来だったわけです。"
   ]
  },
  {
   "cell_type": "markdown",
   "metadata": {},
   "source": [
    "#### 演習問題\n",
    "**問1**. 上の例について、決定木から入力空間の分割領域を、入力空間を表す2次元の散布図上に手書きで復元してみてください。また入力空間の分割領域それぞれに、宛がわれている予測値を書き込んでください。\n",
    "> もし余力があれば、第1節の演習問題(問3)を参考に、決定木の葉ノードに書かれた予測値を訓練データの出力の値から直接計算してみましょう。"
   ]
  },
  {
   "cell_type": "markdown",
   "metadata": {},
   "source": [
    "## D　変数重要度\n",
    "決定木回帰では、各変数が決定木の各ノードで領域を分割する軸として選択されたことにより、結果として平均2乗誤差をどれだけ減少させることに貢献したかを表す**変数重要度**という指標が定義されています。scikit-learnの`DecisionTreeRegressor`クラスでも、訓練データの学習ののちインスタンス変数`feature_importances_`にこの計算結果が代入されます。"
   ]
  },
  {
   "cell_type": "code",
   "execution_count": 28,
   "metadata": {},
   "outputs": [
    {
     "data": {
      "text/plain": [
       "array([0.75, 0.25])"
      ]
     },
     "execution_count": 28,
     "metadata": {},
     "output_type": "execute_result"
    }
   ],
   "source": [
    "DTR.feature_importances_"
   ]
  },
  {
   "cell_type": "markdown",
   "metadata": {},
   "source": [
    "先ほどの2次元の入力の例の場合は、第0変数の変数重要度は0.75, 第1変数の変数重要度は0.25と計算されました。つまり今回の例の決定木回帰では、第1変数よりも第0変数のほうが予測値の決定に貢献しているであろうことが変数重要度から読み取れます。\n",
    "\n",
    "決定木回帰は、訓練データへの過剰適合のしやすさやデータに対するロバスト性の欠如という欠点を持つ傍ら、決定木や変数重要度による**高い解釈可能性**をもつ手法として\n",
    "* データマイニング\n",
    "* 入力が高次元の場合の特徴量選択\n",
    "\n",
    "を行ううえで、ヒントを得るための布石として大きな支持を得てきた歴史があります。このように決定木回帰の存在意義とも言える変数重要度について、この節では実際の定義とその計算を説明しましょう。"
   ]
  },
  {
   "cell_type": "markdown",
   "metadata": {},
   "source": [
    "#### ノード1での平均2乗誤差の変化\n",
    "変数重要度の定義・計算で最も重要な登場人物は、各ノードにおける平均2乗誤差の変化です。そのノードに対応する入力空間の分割について、その分割が行われる前と行われた後とで平均2乗誤差がどれだけ減少したかを計算します。\n",
    "\n",
    "今回は試しに最初のノード（分割規則 : $X[:,0] < -0.5$）の場合に、平均2乗誤差の変化を計算してみましょう。まず、分割前の平均2乗誤差は\n",
    "* 訓練データの出力の値とその予測値の差の2乗\n",
    "\n",
    "の平均値です。第1節の演習問題(問3)で、予測値は分割領域に属するデータポイントの平均値で与えられることを示しました。今回、分割前は入力空間を分割していないので、予測値はデータポイント全体の出力の平均値になります。"
   ]
  },
  {
   "cell_type": "code",
   "execution_count": 29,
   "metadata": {},
   "outputs": [
    {
     "data": {
      "text/plain": [
       "0.4444444444444444"
      ]
     },
     "execution_count": 29,
     "metadata": {},
     "output_type": "execute_result"
    }
   ],
   "source": [
    "node1_pre = np.mean((y_train - y_train.mean())**2)\n",
    "node1_pre"
   ]
  },
  {
   "cell_type": "markdown",
   "metadata": {},
   "source": [
    "次に分割後の平均2乗誤差を計算します。分割後の平均2乗誤差は、\n",
    "* ノードの左側に対応する分割領域の平均2乗誤差\n",
    "* ノードの右側に対応する分割領域の平均2乗誤差\n",
    "\n",
    "をそれぞれの分割領域に所属するデータポイントの割合(今回の場合、左側に対応する領域には3/9, 右側に対応する領域には6/9)で重み付き平均することで計算できます。"
   ]
  },
  {
   "cell_type": "code",
   "execution_count": 30,
   "metadata": {},
   "outputs": [
    {
     "data": {
      "text/plain": [
       "0.3888888888888889"
      ]
     },
     "execution_count": 30,
     "metadata": {},
     "output_type": "execute_result"
    }
   ],
   "source": [
    "node1_left_y = np.array([1, 2, 2])    # ノードの左側に対応する分割領域に所属するデータポイントの出力の値\n",
    "node1_right_y = np.array([0, 1, 1, 1, 2, 2])    # ノードの右側に対応する分割領域に所属するデータポイントの出力の値\n",
    "node1_post = (3/9) * np.mean((node1_left_y - node1_left_y.mean())**2) + (6/9) * np.mean((node1_right_y - node1_right_y.mean())**2)\n",
    "node1_post"
   ]
  },
  {
   "cell_type": "markdown",
   "metadata": {},
   "source": [
    "以上の計算からノード1における平均2乗誤差の変化は次のように算出されます。"
   ]
  },
  {
   "cell_type": "code",
   "execution_count": 31,
   "metadata": {},
   "outputs": [
    {
     "data": {
      "text/plain": [
       "0.055555555555555525"
      ]
     },
     "execution_count": 31,
     "metadata": {},
     "output_type": "execute_result"
    }
   ],
   "source": [
    "node1_diff = node1_pre - node1_post\n",
    "node1_diff"
   ]
  },
  {
   "cell_type": "markdown",
   "metadata": {},
   "source": [
    "#### 各ノードでの平均2乗誤差の変化\n",
    "ノード1での平均2乗誤差の変化の計算を、他の分割規則を表すノードでも同様にやってみましょう。まず、分割規則 : $X[:,0] < 0.5$のノードの場合。"
   ]
  },
  {
   "cell_type": "code",
   "execution_count": 32,
   "metadata": {},
   "outputs": [
    {
     "data": {
      "text/plain": [
       "0.25000000000000006"
      ]
     },
     "execution_count": 32,
     "metadata": {},
     "output_type": "execute_result"
    }
   ],
   "source": [
    "node2_pre = np.mean((node1_right_y - node1_right_y.mean())**2)\n",
    "node2_left_y = np.array([0, 1, 1])\n",
    "node2_right_y = np.array([1, 2, 2])\n",
    "node2_post = (3/6) * np.mean((node2_left_y - node2_left_y.mean())**2) + (3/6) * np.mean((node2_right_y - node2_right_y.mean())**2)\n",
    "node2_diff = node2_pre - node2_post\n",
    "node2_diff"
   ]
  },
  {
   "cell_type": "markdown",
   "metadata": {},
   "source": [
    "次に、分割規則 : $X[:,1] < -0.5$のノードの場合。"
   ]
  },
  {
   "cell_type": "code",
   "execution_count": 33,
   "metadata": {},
   "outputs": [
    {
     "data": {
      "text/plain": [
       "0.05555555555555558"
      ]
     },
     "execution_count": 33,
     "metadata": {},
     "output_type": "execute_result"
    }
   ],
   "source": [
    "node3_pre = np.mean((node2_left_y - node2_left_y.mean())**2)\n",
    "node3_left_y = np.array([1])\n",
    "node3_right_y = np.array([0, 1])\n",
    "node3_post = (1/3) * np.mean((node3_left_y - node3_left_y.mean())**2) + (2/3) * np.mean((node3_right_y - node3_right_y.mean())**2)\n",
    "node3_diff = node3_pre - node3_post\n",
    "node3_diff"
   ]
  },
  {
   "cell_type": "markdown",
   "metadata": {},
   "source": [
    "最後に、分割規則 : $X[:,1] < 0.5$のノードの場合。"
   ]
  },
  {
   "cell_type": "code",
   "execution_count": 34,
   "metadata": {},
   "outputs": [
    {
     "data": {
      "text/plain": [
       "0.25"
      ]
     },
     "execution_count": 34,
     "metadata": {},
     "output_type": "execute_result"
    }
   ],
   "source": [
    "node4_pre = np.mean((node3_right_y - node3_right_y.mean())**2)\n",
    "node4_left_y = np.array([0])\n",
    "node4_right_y = np.array([1])\n",
    "node4_post = (1/2) * np.mean((node4_left_y - node4_left_y.mean())**2) + (1/2) * np.mean((node4_right_y - node4_right_y.mean())**2)\n",
    "node4_diff = node4_pre - node4_post\n",
    "node4_diff"
   ]
  },
  {
   "cell_type": "markdown",
   "metadata": {},
   "source": [
    "以上で全てのノードにおける平均2乗誤差の変化が出揃いました。"
   ]
  },
  {
   "cell_type": "markdown",
   "metadata": {},
   "source": [
    "#### 変数重要度の算出\n",
    "変数重要度は入力の各変数に対して、分割規則に採用されたノードでの平均2乗誤差の変化を、分割前の領域に存在するデータポイント数で重み付けした和をとることで計算されます。例えば、入力の第0変数は\n",
    "* ノード1 : 分割前はデータポイント数9個\n",
    "* ノード2 : 分割前はデータポイント数6個\n",
    "\n",
    "の分割規則に採用された変数なので、その変数重要度は次のように計算されます。"
   ]
  },
  {
   "cell_type": "code",
   "execution_count": 35,
   "metadata": {},
   "outputs": [
    {
     "data": {
      "text/plain": [
       "2.0"
      ]
     },
     "execution_count": 35,
     "metadata": {},
     "output_type": "execute_result"
    }
   ],
   "source": [
    "X0_importance = 9 * node1_diff + 6 * node2_diff\n",
    "X0_importance"
   ]
  },
  {
   "cell_type": "markdown",
   "metadata": {},
   "source": [
    "同様に入力の第1変数の変数重要度も次のように計算されます。"
   ]
  },
  {
   "cell_type": "code",
   "execution_count": 36,
   "metadata": {},
   "outputs": [
    {
     "data": {
      "text/plain": [
       "0.6666666666666667"
      ]
     },
     "execution_count": 36,
     "metadata": {},
     "output_type": "execute_result"
    }
   ],
   "source": [
    "X1_importance = 3 * node3_diff + 2 * node4_diff\n",
    "X1_importance"
   ]
  },
  {
   "cell_type": "markdown",
   "metadata": {},
   "source": [
    "なお、scikit-learnの`DecisionTreeRegressor`クラスのインスタンス変数`feature_importances_`では変数重要度の総和を1に標準化する仕様になっています。結果として次のような計算を行えば、この節の最初に見た値を得ることが出来ます。"
   ]
  },
  {
   "cell_type": "code",
   "execution_count": 37,
   "metadata": {},
   "outputs": [
    {
     "data": {
      "text/plain": [
       "array([0.75, 0.25])"
      ]
     },
     "execution_count": 37,
     "metadata": {},
     "output_type": "execute_result"
    }
   ],
   "source": [
    "(X0_importance, X1_importance) / (X0_importance + X1_importance)"
   ]
  }
 ],
 "metadata": {
  "kernelspec": {
   "display_name": "Python 3",
   "language": "python",
   "name": "python3"
  },
  "language_info": {
   "codemirror_mode": {
    "name": "ipython",
    "version": 3
   },
   "file_extension": ".py",
   "mimetype": "text/x-python",
   "name": "python",
   "nbconvert_exporter": "python",
   "pygments_lexer": "ipython3",
   "version": "3.8.2"
  }
 },
 "nbformat": 4,
 "nbformat_minor": 4
}
