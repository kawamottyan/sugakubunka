{
 "cells": [
  {
   "cell_type": "markdown",
   "metadata": {},
   "source": [
    "## 3.5. ランダムフォレスト回帰の学習\n",
    "\n",
    "この節の目標は、ランダムフォレスト回帰の学習の様子を理解することです。入力$X$に対して出力$y$が非線形な関係にある問題を準備し、ランダムフォレスト回帰にこれを学習させます。学習ののち、ランダムフォレスト回帰が入力$X$に対してどのような予測値$f(X)$を返すようになったのかを、入力と予測値のグラフを描くことで確認します。"
   ]
  },
  {
   "cell_type": "markdown",
   "metadata": {},
   "source": [
    "#### データの生成\n",
    "以下のような訓練データセットを準備します。\n",
    "* 入力 $X_{train}$ : 区間$[0,1]$上に等間隔に配置された100個の値\n",
    "* 出力 $y_{train}$ : $y_{train} = (X_{train} - 0.5)^2 + ε$\n",
    "\n",
    "ここで、εは平均0, 標準偏差0.1の正規分布$N(0, 0.1^2)$に従って決まる確率変数とします。要はεは誤差です。"
   ]
  },
  {
   "cell_type": "code",
   "execution_count": 2,
   "metadata": {},
   "outputs": [],
   "source": [
    "# データを生成する。\n",
    "import numpy as np\n",
    "X_train = np.linspace(start = 0, stop = 1, num = 100)\n",
    "y_train = (X_train - 0.5) ** 2 + np.random.normal(loc = 0, scale = 0.1, size = 100)"
   ]
  },
  {
   "cell_type": "code",
   "execution_count": 3,
   "metadata": {},
   "outputs": [
    {
     "data": {
      "text/plain": [
       "array([0.        , 0.01010101, 0.02020202, 0.03030303, 0.04040404,\n",
       "       0.05050505, 0.06060606, 0.07070707, 0.08080808, 0.09090909,\n",
       "       0.1010101 , 0.11111111, 0.12121212, 0.13131313, 0.14141414,\n",
       "       0.15151515, 0.16161616, 0.17171717, 0.18181818, 0.19191919,\n",
       "       0.2020202 , 0.21212121, 0.22222222, 0.23232323, 0.24242424,\n",
       "       0.25252525, 0.26262626, 0.27272727, 0.28282828, 0.29292929,\n",
       "       0.3030303 , 0.31313131, 0.32323232, 0.33333333, 0.34343434,\n",
       "       0.35353535, 0.36363636, 0.37373737, 0.38383838, 0.39393939,\n",
       "       0.4040404 , 0.41414141, 0.42424242, 0.43434343, 0.44444444,\n",
       "       0.45454545, 0.46464646, 0.47474747, 0.48484848, 0.49494949,\n",
       "       0.50505051, 0.51515152, 0.52525253, 0.53535354, 0.54545455,\n",
       "       0.55555556, 0.56565657, 0.57575758, 0.58585859, 0.5959596 ,\n",
       "       0.60606061, 0.61616162, 0.62626263, 0.63636364, 0.64646465,\n",
       "       0.65656566, 0.66666667, 0.67676768, 0.68686869, 0.6969697 ,\n",
       "       0.70707071, 0.71717172, 0.72727273, 0.73737374, 0.74747475,\n",
       "       0.75757576, 0.76767677, 0.77777778, 0.78787879, 0.7979798 ,\n",
       "       0.80808081, 0.81818182, 0.82828283, 0.83838384, 0.84848485,\n",
       "       0.85858586, 0.86868687, 0.87878788, 0.88888889, 0.8989899 ,\n",
       "       0.90909091, 0.91919192, 0.92929293, 0.93939394, 0.94949495,\n",
       "       0.95959596, 0.96969697, 0.97979798, 0.98989899, 1.        ])"
      ]
     },
     "execution_count": 3,
     "metadata": {},
     "output_type": "execute_result"
    }
   ],
   "source": [
    "# X_trainの確認\n",
    "X_train"
   ]
  },
  {
   "cell_type": "code",
   "execution_count": 4,
   "metadata": {},
   "outputs": [
    {
     "data": {
      "text/plain": [
       "(100,)"
      ]
     },
     "execution_count": 4,
     "metadata": {},
     "output_type": "execute_result"
    }
   ],
   "source": [
    "# X_trainのshape\n",
    "X_train.shape"
   ]
  },
  {
   "cell_type": "code",
   "execution_count": 5,
   "metadata": {},
   "outputs": [
    {
     "data": {
      "text/plain": [
       "array([ 0.49193185,  0.21863114,  0.12958833,  0.14244858,  0.12411085,\n",
       "        0.12704292,  0.08319957, -0.00913178,  0.07352768,  0.10312266,\n",
       "        0.17572902,  0.24837254,  0.16491489,  0.12835254,  0.24940613,\n",
       "        0.15239157,  0.1355231 ,  0.05578827,  0.16778014,  0.14616199,\n",
       "        0.03267588,  0.02888617, -0.05293694,  0.01697377, -0.03917363,\n",
       "        0.00856128,  0.09809556,  0.03625102, -0.02782035,  0.11233842,\n",
       "        0.03141477,  0.01158387, -0.02030751, -0.04624213, -0.0325688 ,\n",
       "       -0.05736347,  0.16214461, -0.07300675, -0.04908831, -0.01650132,\n",
       "       -0.2103677 ,  0.08861679,  0.14276462, -0.20777587, -0.01108324,\n",
       "       -0.1190678 ,  0.04993418, -0.00877429,  0.04608617, -0.16157963,\n",
       "       -0.0735174 , -0.04443485,  0.01640841,  0.08652756,  0.05246317,\n",
       "       -0.05437237,  0.15185983,  0.08639139, -0.04774694,  0.13057841,\n",
       "       -0.02811874,  0.06199951,  0.15299617,  0.02306706, -0.00170251,\n",
       "        0.07887881, -0.00121984,  0.02763668,  0.0397754 , -0.01173052,\n",
       "        0.18907953,  0.03571666,  0.17487981, -0.03230352, -0.02321659,\n",
       "        0.05871617, -0.01396702, -0.05205858,  0.06463685,  0.0511105 ,\n",
       "        0.09085654, -0.06474944,  0.09632213, -0.01615717,  0.05165637,\n",
       "        0.15817053,  0.39642064,  0.15912112,  0.08423527,  0.12453837,\n",
       "       -0.03032629,  0.05403336,  0.02169902,  0.26857936,  0.11093629,\n",
       "        0.06583543,  0.23330063,  0.26495179,  0.25508547,  0.28057731])"
      ]
     },
     "execution_count": 5,
     "metadata": {},
     "output_type": "execute_result"
    }
   ],
   "source": [
    "# y_trainの確認\n",
    "y_train"
   ]
  },
  {
   "cell_type": "code",
   "execution_count": 6,
   "metadata": {},
   "outputs": [
    {
     "data": {
      "text/plain": [
       "(100,)"
      ]
     },
     "execution_count": 6,
     "metadata": {},
     "output_type": "execute_result"
    }
   ],
   "source": [
    "# y_trainのshape\n",
    "y_train.shape"
   ]
  },
  {
   "cell_type": "markdown",
   "metadata": {},
   "source": [
    "`matplotlib.pyplot.scatter(x, y)`は、x, yに同じ形の1次元numpy.arrayを与えることで、散布図を描いてくれます。この関数を用いて、以下のように入力$X_{train}$と出力$y_{train}$のグラフを描いておきましょう。"
   ]
  },
  {
   "cell_type": "code",
   "execution_count": 7,
   "metadata": {},
   "outputs": [
    {
     "data": {
      "image/png": "[encoded data removed]",
      "text/plain": [
       "<Figure size 432x288 with 1 Axes>"
      ]
     },
     "metadata": {
      "needs_background": "light"
     },
     "output_type": "display_data"
    }
   ],
   "source": [
    "# X_trainとy_trainの散布図を描く。\n",
    "import matplotlib.pyplot as plt\n",
    "plt.scatter(X_train, y_train)\n",
    "plt.show()"
   ]
  },
  {
   "cell_type": "markdown",
   "metadata": {},
   "source": [
    "#### ランダムフォレスト回帰のsckit-learnによる実装\n",
    "scikit-learnモジュールにはランダムフォレスト回帰のクラス`RandomForestRegressor`が準備されています。今回はこれを用いてランダムフォレスト回帰の学習を行いましょう。\n",
    "\n",
    "ランダムフォレスト回帰は決定木のハイパーパラメータのほかに「弱学習器の数」・「決定木の各ノードを決定する際に参照する特徴量の最大数」というハイパーパラメータがあり、`RandomForestRegressor` classでは\n",
    "* `n_estimators` : 弱学習器の個数\n",
    "* `max_features` : 決定木の各ノードを決定する際に参照する特徴量の最大数\n",
    "\n",
    "というインスタンス変数で指定することができます。今回は入力変数が1変数しかなくノードの特徴量の最大数は自動的に1なので、`n_estimators=100`を指定することにします。また、決定木のハイパーパラメータを`max_leaf_nodes = 5`に指定します。"
   ]
  },
  {
   "cell_type": "code",
   "execution_count": 11,
   "metadata": {},
   "outputs": [],
   "source": [
    "# ランダムフォレスト回帰のインスタンスを立てる。\n",
    "from sklearn.ensemble import RandomForestRegressor\n",
    "RFR = RandomForestRegressor(n_estimators = 100, max_leaf_nodes = 5)"
   ]
  },
  {
   "cell_type": "code",
   "execution_count": 12,
   "metadata": {},
   "outputs": [
    {
     "data": {
      "text/plain": [
       "(100,)"
      ]
     },
     "execution_count": 12,
     "metadata": {},
     "output_type": "execute_result"
    }
   ],
   "source": [
    "# X_trainのshapeの確認\n",
    "X_train.shape"
   ]
  },
  {
   "cell_type": "code",
   "execution_count": 13,
   "metadata": {},
   "outputs": [],
   "source": [
    "# fitメソッドに渡すための整形\n",
    "X_train = X_train.reshape(100, 1)"
   ]
  },
  {
   "cell_type": "code",
   "execution_count": 14,
   "metadata": {},
   "outputs": [
    {
     "data": {
      "text/plain": [
       "RandomForestRegressor(bootstrap=True, ccp_alpha=0.0, criterion='mse',\n",
       "                      max_depth=None, max_features='auto', max_leaf_nodes=5,\n",
       "                      max_samples=None, min_impurity_decrease=0.0,\n",
       "                      min_impurity_split=None, min_samples_leaf=1,\n",
       "                      min_samples_split=2, min_weight_fraction_leaf=0.0,\n",
       "                      n_estimators=100, n_jobs=None, oob_score=False,\n",
       "                      random_state=None, verbose=0, warm_start=False)"
      ]
     },
     "execution_count": 14,
     "metadata": {},
     "output_type": "execute_result"
    }
   ],
   "source": [
    "RFR.fit(X_train, y_train)"
   ]
  },
  {
   "cell_type": "markdown",
   "metadata": {},
   "source": [
    "#### ランダムフォレスト回帰の学習結果の確認\n",
    "ランダムフォレスト回帰の学習の結果を確認するために、入力$X_{test}$として区間$[0,1]$上に100個の点を等間隔に生成し、学習済みのランダムフォレスト回帰がこれらの入力に対して与える予測値$f(X_{test})$を計算します。さらに、入力$X$と予測値$f(X_{test})$関係を先ほどの散布図上に描画しましょう。\n",
    "\n",
    "ランダムフォレスト回帰の予測値の計算は`predict`メソッドで実行できます。`predict`メソッドも`fit`メソッド同様に、予測したいデータポイントの入力$X_{test}ををnumpy.arrayで渡し、特にそのshapeは(データポイントの数, 入力変数の次元)で渡す仕様になっていることに注意しましょう。"
   ]
  },
  {
   "cell_type": "code",
   "execution_count": 21,
   "metadata": {},
   "outputs": [],
   "source": [
    "# 予測値を計算するための入力を生成\n",
    "X_test = np.linspace(0, 1, 10)"
   ]
  },
  {
   "cell_type": "code",
   "execution_count": 22,
   "metadata": {},
   "outputs": [],
   "source": [
    "# predictメソッドに渡すために整形する。\n",
    "X_test = X_test.reshape(10, 1)"
   ]
  },
  {
   "cell_type": "code",
   "execution_count": 23,
   "metadata": {},
   "outputs": [
    {
     "data": {
      "text/plain": [
       "array([ 0.35438829,  0.13892052,  0.00453844,  0.00414497, -0.00337416,\n",
       "        0.01990381,  0.03260684,  0.03560954,  0.10148657,  0.21622315])"
      ]
     },
     "execution_count": 23,
     "metadata": {},
     "output_type": "execute_result"
    }
   ],
   "source": [
    "# 予測値を計算する。\n",
    "y_pred = RFR.predict(X_test)\n",
    "y_pred"
   ]
  },
  {
   "cell_type": "markdown",
   "metadata": {},
   "source": [
    "入力と予測値の関係を散布図で表現しましょう。matplotlib.pyplot.scatter関数のために訓練データおよびテストデータの入力$X_{train}, X_{test}$のshapeをそれぞれ(100,), (100,)に戻す必要があることに注意しましょう。"
   ]
  },
  {
   "cell_type": "code",
   "execution_count": 24,
   "metadata": {},
   "outputs": [
    {
     "data": {
      "text/plain": [
       "array([0.        , 0.01010101, 0.02020202, 0.03030303, 0.04040404,\n",
       "       0.05050505, 0.06060606, 0.07070707, 0.08080808, 0.09090909,\n",
       "       0.1010101 , 0.11111111, 0.12121212, 0.13131313, 0.14141414,\n",
       "       0.15151515, 0.16161616, 0.17171717, 0.18181818, 0.19191919,\n",
       "       0.2020202 , 0.21212121, 0.22222222, 0.23232323, 0.24242424,\n",
       "       0.25252525, 0.26262626, 0.27272727, 0.28282828, 0.29292929,\n",
       "       0.3030303 , 0.31313131, 0.32323232, 0.33333333, 0.34343434,\n",
       "       0.35353535, 0.36363636, 0.37373737, 0.38383838, 0.39393939,\n",
       "       0.4040404 , 0.41414141, 0.42424242, 0.43434343, 0.44444444,\n",
       "       0.45454545, 0.46464646, 0.47474747, 0.48484848, 0.49494949,\n",
       "       0.50505051, 0.51515152, 0.52525253, 0.53535354, 0.54545455,\n",
       "       0.55555556, 0.56565657, 0.57575758, 0.58585859, 0.5959596 ,\n",
       "       0.60606061, 0.61616162, 0.62626263, 0.63636364, 0.64646465,\n",
       "       0.65656566, 0.66666667, 0.67676768, 0.68686869, 0.6969697 ,\n",
       "       0.70707071, 0.71717172, 0.72727273, 0.73737374, 0.74747475,\n",
       "       0.75757576, 0.76767677, 0.77777778, 0.78787879, 0.7979798 ,\n",
       "       0.80808081, 0.81818182, 0.82828283, 0.83838384, 0.84848485,\n",
       "       0.85858586, 0.86868687, 0.87878788, 0.88888889, 0.8989899 ,\n",
       "       0.90909091, 0.91919192, 0.92929293, 0.93939394, 0.94949495,\n",
       "       0.95959596, 0.96969697, 0.97979798, 0.98989899, 1.        ])"
      ]
     },
     "execution_count": 24,
     "metadata": {},
     "output_type": "execute_result"
    }
   ],
   "source": [
    "# matplotlib.pyplot.scatterのために入力を整形する。\n",
    "X_train = X_train.reshape(100)\n",
    "X_train"
   ]
  },
  {
   "cell_type": "code",
   "execution_count": 25,
   "metadata": {},
   "outputs": [
    {
     "data": {
      "text/plain": [
       "array([0.        , 0.11111111, 0.22222222, 0.33333333, 0.44444444,\n",
       "       0.55555556, 0.66666667, 0.77777778, 0.88888889, 1.        ])"
      ]
     },
     "execution_count": 25,
     "metadata": {},
     "output_type": "execute_result"
    }
   ],
   "source": [
    "X_test = X_test.reshape(10)\n",
    "X_test"
   ]
  },
  {
   "cell_type": "code",
   "execution_count": 26,
   "metadata": {},
   "outputs": [
    {
     "data": {
      "image/png": "[encoded data removed]",
      "text/plain": [
       "<Figure size 432x288 with 1 Axes>"
      ]
     },
     "metadata": {
      "needs_background": "light"
     },
     "output_type": "display_data"
    }
   ],
   "source": [
    "# 入力と出力、予測値を散布図に図示する。\n",
    "import matplotlib.pyplot as plt\n",
    "plt.scatter(X_train, y_train)\n",
    "plt.plot(X_test, y_pred)\n",
    "plt.show()"
   ]
  },
  {
   "cell_type": "markdown",
   "metadata": {},
   "source": [
    "#### ランダムフォレスト回帰の学習の数理\n",
    "**ランダムフォレスト回帰**は、\n",
    "1. 訓練データからn個のブートストラップ標本を作る。\n",
    "2. n個の標本それぞれに決定木回帰を学習させ、n個の学習済み決定木回帰を作る。\n",
    "\n",
    "このn個の決定木回帰の平均値でもって予測値を決定するような学習器です。ここで**ブートストラップ標本**とは、サイズ$m$の標本を決められた回数$n$だけ復元抽出で再標本化することによって、$n$個の標本を作る操作を指します。例えば、サイズ5の標本$\\{1,2,3,4,5\\}$を4回ブートストラップすることは、以下のような操作に対応します。"
   ]
  },
  {
   "cell_type": "code",
   "execution_count": 17,
   "metadata": {},
   "outputs": [
    {
     "name": "stdout",
     "output_type": "stream",
     "text": [
      "再標本 0 : [5 1 3 4 1]\n",
      "再標本 1 : [4 2 3 4 4]\n",
      "再標本 2 : [1 2 2 1 1]\n",
      "再標本 3 : [5 3 4 1 1]\n"
     ]
    }
   ],
   "source": [
    "sample = np.array([1, 2, 3, 4, 5])    # 元の標本\n",
    "for i in range(4):\n",
    "    resample = np.random.choice(a = sample, size = 5, replace = True)    # 復元抽出による再標本\n",
    "    print(\"再標本\", i, \":\", resample)"
   ]
  },
  {
   "cell_type": "markdown",
   "metadata": {},
   "source": [
    "`RandomForestRegressor`クラスの`n_estimators`引数は決定木回帰の個数（すなわちブートストラップの回数）に対応しています。\n",
    "\n",
    "このように弱学習器を複数作って組み合わせるような手法は**アンサンブル学習**と呼ばれています。ランダムフォレスト回帰もアンサンブル学習の一手法です。アンサンブル学習の弱学習器には、データに対してロバスト性がない学習器（**不安定な学習器**）が望ましいことが知られているので、一般には今回のように決定木学習が採用されます。"
   ]
  },
  {
   "cell_type": "markdown",
   "metadata": {},
   "source": [
    "また、ランダムフォレスト回帰は決定木回帰の各ノードを決定する際に、すべての入力変数のなかから分割に用いる軸を探すのではなく、ランダムに$d$個選んできたもののなかから選択します。この$d$を指定するのが`max_features`です。このランダムな入力変数の選択よってデータに対するロバスト性をさらに向上することに成功しました。"
   ]
  },
  {
   "cell_type": "markdown",
   "metadata": {},
   "source": [
    "### 3.6. ランダムフォレスト回帰の性質\n",
    "ランダムフォレスト回帰は\n",
    "* 過剰適合しづらい。\n",
    "* データに対してロバスト性がある。\n",
    "\n",
    "という性質があることが知られています。これは実験的にわかっているだけでなく、数理統計の議論によって確かめられています。これは決定木回帰の弱点を克服しているという意味で、特筆すべき性質です。これらの性質を確認するため、訓練データだけを変えたときにランダムフォレスト回帰の入力に対する予測値のグラフがどれくらい変化するのかを見てみます。"
   ]
  },
  {
   "cell_type": "code",
   "execution_count": 18,
   "metadata": {},
   "outputs": [
    {
     "data": {
      "image/png": "[encoded data removed]",
      "text/plain": [
       "<matplotlib.figure.Figure at 0x1d5c0fd5ac8>"
      ]
     },
     "metadata": {},
     "output_type": "display_data"
    }
   ],
   "source": [
    "# 前節の一連のスクリプトまとめ（何度か繰り返し実行して、結果の違いを見る。）\n",
    "import numpy as np\n",
    "import matplotlib.pyplot as plt\n",
    "% matplotlib inline\n",
    "from sklearn.ensemble import RandomForestRegressor\n",
    "\n",
    "X_train = np.linspace(start = 0, stop = 1, num = 100)\n",
    "y_train = (X_train - 0.5) ** 2 + np.random.normal(loc = 0.0, scale = 0.1, size = 100)\n",
    "\n",
    "X_train = X_train.reshape(100, 1)\n",
    "\n",
    "RFR = RandomForestRegressor(max_leaf_nodes = 5, n_estimators = 100)\n",
    "RFR.fit(X_train, y_train)\n",
    "\n",
    "X_test = np.linspace(0, 1, 100)\n",
    "X_test = X_test.reshape(100, 1)\n",
    "y_pred = RFR.predict(X_test)\n",
    "\n",
    "X_train = X_train.reshape(100)\n",
    "X_test = X_test.reshape(100)\n",
    "\n",
    "plt.scatter(X_train, y_train)\n",
    "plt.plot(X_test, y_pred)\n",
    "plt.show()"
   ]
  },
  {
   "cell_type": "markdown",
   "metadata": {},
   "source": [
    "参考のために、同じ条件で決定木回帰の学習を行い、ランダムフォレスト回帰の場合と見比べてみましょう。決定木回帰は何度か繰り返しているとしばしば突飛な予測値を返すような分割領域をもつ学習器が作られ、データに過剰適合しているかつデータの変化に弱い傾向が見て取れます。"
   ]
  },
  {
   "cell_type": "code",
   "execution_count": 19,
   "metadata": {},
   "outputs": [
    {
     "data": {
      "image/png": "[encoded data removed]",
      "text/plain": [
       "<matplotlib.figure.Figure at 0x1d5c0f8a940>"
      ]
     },
     "metadata": {},
     "output_type": "display_data"
    }
   ],
   "source": [
    "# 上の一連のスクリプトまとめ\n",
    "import numpy as np\n",
    "import matplotlib.pyplot as plt\n",
    "% matplotlib inline\n",
    "from sklearn.tree import DecisionTreeRegressor\n",
    "\n",
    "X_train = np.linspace(start = 0, stop = 1, num = 100)\n",
    "y_train = (X_train - 0.5) ** 2 + np.random.normal(loc = 0.0, scale = 0.1, size = 100)\n",
    "\n",
    "X_train = X_train.reshape(100, 1)\n",
    "\n",
    "DTR = DecisionTreeRegressor(max_leaf_nodes = 5)\n",
    "DTR.fit(X_train, y_train)\n",
    "\n",
    "X_test = np.linspace(0, 1, 100)\n",
    "X_test = X_test.reshape(100, 1)\n",
    "y_pred = DTR.predict(X_test)\n",
    "\n",
    "X_train = X_train.reshape(100)\n",
    "X_test = X_test.reshape(100)\n",
    "\n",
    "plt.scatter(X_train, y_train)\n",
    "plt.plot(X_test, y_pred)\n",
    "plt.show()"
   ]
  },
  {
   "cell_type": "markdown",
   "metadata": {},
   "source": [
    "### 3.7. ランダムフォレスト回帰による変数重要度\n",
    "ランダムフォレスト回帰も決定木回帰と同様に各変数の変数重要度を計算することが出来ます。これは、弱学習器である決定木回帰の変数重要度の単純平均によって算出されます。\n",
    "\n",
    "決定木回帰1個による変数重要度には、学習時に分割領域の決定に採用されなかった変数の重要度を算出できないという欠点があります。これは仮にとある変数が重要でも、より重要な変数によってその変数の重要性を見逃す可能性があることを指します。しかし、ランダムフォレスト回帰では、訓練データをブートストラップ標本で取り換えて学習した様々な決定木回帰の変数重要度の平均によって変数重要度を計算するため、重要な変数を見逃すリスクを減らせるという長所があります。\n",
    "\n",
    "scikit-learnの`RandomForestRegressor`クラスでは、`DecisionTreeRegressor`クラスと同様に訓練データの学習ののちインスタンス変数`feature_importances_`にこの計算結果が代入されます。"
   ]
  },
  {
   "cell_type": "markdown",
   "metadata": {},
   "source": [
    "以下のような訓練データセットを準備します。\n",
    "* 入力 $X_{train}$ : 区間$[-1,1]×[-1,1]$上に格子状に配置された9個の点\n",
    "* 出力 $y_{train}$ : $y_{train} = X_{train}[:, 0]^2 + X_{train}[:, 1]^2$\n",
    "\n",
    "出力は入力の第0変数の値と第1変数の値の2乗和で与えています。"
   ]
  },
  {
   "cell_type": "code",
   "execution_count": 19,
   "metadata": {},
   "outputs": [
    {
     "data": {
      "text/plain": [
       "(10000, 2)"
      ]
     },
     "execution_count": 19,
     "metadata": {},
     "output_type": "execute_result"
    }
   ],
   "source": [
    "# 訓練データの入力の生成\n",
    "a = np.linspace(start = -1, stop = 1, num = 100)\n",
    "b = np.linspace(start = -1, stop = 1, num = 100)\n",
    "x0_train, x1_train = np.meshgrid(a, b)\n",
    "X_train = np.c_[x0_train.ravel(), x1_train.ravel()]\n",
    "X_train.shape"
   ]
  },
  {
   "cell_type": "code",
   "execution_count": 20,
   "metadata": {},
   "outputs": [
    {
     "data": {
      "text/plain": [
       "(10000,)"
      ]
     },
     "execution_count": 20,
     "metadata": {},
     "output_type": "execute_result"
    }
   ],
   "source": [
    "# 訓練データの出力の生成\n",
    "y_train = X_train[:, 0]**2 + X_train[:, 1]**2\n",
    "y_train.shape"
   ]
  },
  {
   "cell_type": "code",
   "execution_count": 21,
   "metadata": {},
   "outputs": [
    {
     "data": {
      "text/plain": [
       "RandomForestRegressor(bootstrap=True, ccp_alpha=0.0, criterion='mse',\n",
       "                      max_depth=None, max_features='auto', max_leaf_nodes=5,\n",
       "                      max_samples=None, min_impurity_decrease=0.0,\n",
       "                      min_impurity_split=None, min_samples_leaf=1,\n",
       "                      min_samples_split=2, min_weight_fraction_leaf=0.0,\n",
       "                      n_estimators=100, n_jobs=None, oob_score=False,\n",
       "                      random_state=None, verbose=0, warm_start=False)"
      ]
     },
     "execution_count": 21,
     "metadata": {},
     "output_type": "execute_result"
    }
   ],
   "source": [
    "# ランダムフォレスト回帰のインスタンスを立てる。\n",
    "from sklearn.ensemble import RandomForestRegressor\n",
    "RFR = RandomForestRegressor(max_leaf_nodes = 5, n_estimators = 100)\n",
    "RFR.fit(X_train, y_train)"
   ]
  },
  {
   "cell_type": "code",
   "execution_count": 22,
   "metadata": {},
   "outputs": [
    {
     "data": {
      "text/plain": [
       "array([0.50861247, 0.49138753])"
      ]
     },
     "execution_count": 22,
     "metadata": {},
     "output_type": "execute_result"
    }
   ],
   "source": [
    "RFR.feature_importances_"
   ]
  },
  {
   "cell_type": "markdown",
   "metadata": {},
   "source": [
    "今回、ランダムフォレスト回帰の変数重要度の計算の結果、どちらの変数重要度もほぼ0.5という結果でした。これはどちらの変数も予測値の決定に同じくらい貢献していることを意味しています。\n",
    "\n",
    "実際、データを生成する際に入力と出力の関係は\n",
    "* 出力 $y_{train}$ : $y_{train} = X_{train}[:, 0]^2 + X_{train}[:, 1]^2$\n",
    "\n",
    "で決めたので、入力の第0変数と入力の第1変数のうち、特にどちらが予測値の決定により重要ということはなさそうであることが分かるので、今回の変数重要度の計算結果も頷ける結果と言えるでしょう。"
   ]
  }
 ],
 "metadata": {
  "kernelspec": {
   "display_name": "Python 3",
   "language": "python",
   "name": "python3"
  },
  "language_info": {
   "codemirror_mode": {
    "name": "ipython",
    "version": 3
   },
   "file_extension": ".py",
   "mimetype": "text/x-python",
   "name": "python",
   "nbconvert_exporter": "python",
   "pygments_lexer": "ipython3",
   "version": "3.7.6"
  }
 },
 "nbformat": 4,
 "nbformat_minor": 2
}
