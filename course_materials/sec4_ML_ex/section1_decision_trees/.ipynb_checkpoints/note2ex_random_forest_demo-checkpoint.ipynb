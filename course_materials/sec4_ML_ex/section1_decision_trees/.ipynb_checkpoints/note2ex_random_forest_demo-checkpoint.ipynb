{
 "cells": [
  {
   "cell_type": "markdown",
   "metadata": {},
   "source": [
    "## H ランダムフォレスト回帰による予測タスク"
   ]
  },
  {
   "cell_type": "markdown",
   "metadata": {},
   "source": [
    "### 荻窪の家賃予測タスク\n",
    "**ポイント** ランダムフォレスト回帰のハイパーパラメータの選択の重要性を確認しましょう。"
   ]
  },
  {
   "cell_type": "markdown",
   "metadata": {},
   "source": [
    "#### データを読み込もう"
   ]
  },
  {
   "cell_type": "code",
   "execution_count": 1,
   "metadata": {},
   "outputs": [
    {
     "data": {
      "text/html": [
       "<div>\n",
       "<style scoped>\n",
       "    .dataframe tbody tr th:only-of-type {\n",
       "        vertical-align: middle;\n",
       "    }\n",
       "\n",
       "    .dataframe tbody tr th {\n",
       "        vertical-align: top;\n",
       "    }\n",
       "\n",
       "    .dataframe thead th {\n",
       "        text-align: right;\n",
       "    }\n",
       "</style>\n",
       "<table border=\"1\" class=\"dataframe\">\n",
       "  <thead>\n",
       "    <tr style=\"text-align: right;\">\n",
       "      <th></th>\n",
       "      <th>name</th>\n",
       "      <th>value</th>\n",
       "      <th>area</th>\n",
       "      <th>age</th>\n",
       "      <th>distance</th>\n",
       "      <th>bath_toilet_separated</th>\n",
       "      <th>autolock</th>\n",
       "    </tr>\n",
       "  </thead>\n",
       "  <tbody>\n",
       "    <tr>\n",
       "      <td>0</td>\n",
       "      <td>フェリーチェ上井草A</td>\n",
       "      <td>6.0</td>\n",
       "      <td>15.12</td>\n",
       "      <td>0</td>\n",
       "      <td>15</td>\n",
       "      <td>1</td>\n",
       "      <td>1</td>\n",
       "    </tr>\n",
       "    <tr>\n",
       "      <td>1</td>\n",
       "      <td>メゾン・ド・荻窪</td>\n",
       "      <td>4.5</td>\n",
       "      <td>12.11</td>\n",
       "      <td>40</td>\n",
       "      <td>7</td>\n",
       "      <td>0</td>\n",
       "      <td>0</td>\n",
       "    </tr>\n",
       "    <tr>\n",
       "      <td>2</td>\n",
       "      <td>ＪＲ中央線 荻窪駅 3階建 築40年</td>\n",
       "      <td>4.5</td>\n",
       "      <td>12.11</td>\n",
       "      <td>40</td>\n",
       "      <td>6</td>\n",
       "      <td>0</td>\n",
       "      <td>0</td>\n",
       "    </tr>\n",
       "    <tr>\n",
       "      <td>3</td>\n",
       "      <td>フェリーチェ上井草A</td>\n",
       "      <td>6.3</td>\n",
       "      <td>15.12</td>\n",
       "      <td>0</td>\n",
       "      <td>15</td>\n",
       "      <td>1</td>\n",
       "      <td>1</td>\n",
       "    </tr>\n",
       "    <tr>\n",
       "      <td>4</td>\n",
       "      <td>グローリア初穂阿佐ヶ谷</td>\n",
       "      <td>6.0</td>\n",
       "      <td>16.65</td>\n",
       "      <td>31</td>\n",
       "      <td>15</td>\n",
       "      <td>0</td>\n",
       "      <td>1</td>\n",
       "    </tr>\n",
       "  </tbody>\n",
       "</table>\n",
       "</div>"
      ],
      "text/plain": [
       "                 name  value   area  age  distance  bath_toilet_separated  \\\n",
       "0          フェリーチェ上井草A    6.0  15.12    0        15                      1   \n",
       "1            メゾン・ド・荻窪    4.5  12.11   40         7                      0   \n",
       "2  ＪＲ中央線 荻窪駅 3階建 築40年    4.5  12.11   40         6                      0   \n",
       "3          フェリーチェ上井草A    6.3  15.12    0        15                      1   \n",
       "4         グローリア初穂阿佐ヶ谷    6.0  16.65   31        15                      0   \n",
       "\n",
       "   autolock  \n",
       "0         1  \n",
       "1         0  \n",
       "2         0  \n",
       "3         1  \n",
       "4         1  "
      ]
     },
     "execution_count": 1,
     "metadata": {},
     "output_type": "execute_result"
    }
   ],
   "source": [
    "# データの読み込み\n",
    "import pandas as pd\n",
    "filepath_train = \".\\data\\ogikubo_oneroom_train.csv\"\n",
    "oneroom_train = pd.read_csv(filepath_or_buffer = filepath_train)\n",
    "oneroom_train.head(n = 5)"
   ]
  },
  {
   "cell_type": "markdown",
   "metadata": {},
   "source": [
    "《スクリプトの説明》\n",
    "* 1行目 : Pythonでデータフレーム周りをサポートしている`pandas`というパッケージをimportします。\n",
    "* 2行目 : データをレコードしたcsvファイルがあるパスを`filepath_train`という名前で準備しました。\n",
    "* 3行目 : パス`filepath_train`にあるcsvファイルを`read_csv`メソッドで読み込みます。\n",
    "* 4行目 : 読み込んだファイルを確認するために頭5行を出してみました。"
   ]
  },
  {
   "cell_type": "code",
   "execution_count": 2,
   "metadata": {},
   "outputs": [
    {
     "data": {
      "text/plain": [
       "(100, 7)"
      ]
     },
     "execution_count": 2,
     "metadata": {},
     "output_type": "execute_result"
    }
   ],
   "source": [
    "# データの次元\n",
    "oneroom_train.shape"
   ]
  },
  {
   "cell_type": "markdown",
   "metadata": {},
   "source": [
    "#### 荻窪の家賃予測タスクの説明\n",
    "前節にPythonで読み込んだデータですが、これは荻窪のワンルームマンションの物件に関する情報を収集してきた実データです。次のような変数をレコードしてきました。\n",
    "* name : 物件名\n",
    "* value : 家賃[万円]\n",
    "* area : 面積[m²]\n",
    "* age : 築年数[年]（注 : 新築の場合0年）\n",
    "* distance : 最寄り駅（JR中央線荻窪駅）まで徒歩でかかる時間[分]\n",
    "* bath_toilet_separated : バス・トイレ別（1 : True, 0 : False）\n",
    "* autolock : オートロック（1 : True, 0 : False ）\n",
    "\n",
    "今回は「荻窪のワンルームマンションの家賃を他の物件情報を用いて予測できるようにしよう」というタスクにランダムフォレスト回帰で挑戦してみたいと思います。"
   ]
  },
  {
   "cell_type": "markdown",
   "metadata": {},
   "source": [
    "#### データの可視化と数値要約"
   ]
  },
  {
   "cell_type": "markdown",
   "metadata": {},
   "source": [
    "#### 散布図 : 家賃とその他の変数との関係性\n",
    "家賃を予測する上で必要そうな変数はなにかを絞るために、散布図に注目しましょう。"
   ]
  },
  {
   "cell_type": "code",
   "execution_count": 3,
   "metadata": {},
   "outputs": [
    {
     "name": "stderr",
     "output_type": "stream",
     "text": [
      "C:\\Users\\utaka.DESKTOP-NJPQUDQ\\Anaconda3\\lib\\site-packages\\statsmodels\\nonparametric\\kde.py:488: RuntimeWarning: invalid value encountered in true_divide\n",
      "  binned = fast_linbin(X, a, b, gridsize) / (delta * nobs)\n",
      "C:\\Users\\utaka.DESKTOP-NJPQUDQ\\Anaconda3\\lib\\site-packages\\statsmodels\\nonparametric\\kdetools.py:34: RuntimeWarning: invalid value encountered in double_scalars\n",
      "  FAC1 = 2*(np.pi*bw/RANGE)**2\n"
     ]
    },
    {
     "data": {
      "text/plain": [
       "<Figure size 1662.99x1500 with 42 Axes>"
      ]
     },
     "metadata": {},
     "output_type": "display_data"
    }
   ],
   "source": [
    "# データの可視化\n",
    "import seaborn as sns\n",
    "import matplotlib.pyplot as plt\n",
    "sns.pairplot(oneroom_train, hue = \"bath_toilet_separated\")\n",
    "plt.show()"
   ]
  },
  {
   "cell_type": "markdown",
   "metadata": {},
   "source": [
    "《散布図の説明》\n",
    "\n",
    "散布図は各データポイントの2つの変数の数値を、対応する2軸の座標上に点でプロットしたグラフのことをいいます。例えば、1行2列目のグラフは各データポイントの`area`と`value`の数値を、xy座標上にプロットしたものです。"
   ]
  },
  {
   "cell_type": "markdown",
   "metadata": {},
   "source": [
    "《スクリプトの説明》\n",
    "* 1行目 : Pythonで可視化周りをサポートしている`seaborn`というパッケージをimportします。\n",
    "* 2行目 : Pythonで可視化周りをサポートしている`matplotlib.pyplot`というモジュールをimportします。\n",
    "* 3行目 : `seaborn`の`pairplot`メソッドで各変数間の散布図を描きます。\n",
    "    - `data`引数 : 散布図を書きたいデータ（`pandas.DataFrame`クラス）\n",
    "    - `hue`引数 : 色分けする変数を指定できます。\n",
    "* 4行目 : `pairplot`メソッドで作ったグラフを`show`メソッドで出力します。"
   ]
  },
  {
   "cell_type": "markdown",
   "metadata": {},
   "source": [
    "《考察》\n",
    "\n",
    "今回、`value`（家賃）を予測するうえで必要な変数を探すことが目標でした。実は、1行目のグラフが重要な情報を持っていることに気付くでしょうか。例えば、`area`と`value`の関係はどうでしょう。`area`が大きくなると`value`も大きい値になることが見て取れ、予測に必要そうな変数であることが分かりますね。一方で`distance`はどうでしょうか。`distance`が変化してもあまり`value`は変化せず、あまり予測には必要な変数ではなさそうに見て取れます。\n",
    "\n",
    "「`value`を予測するための変数として、`area`は選択し`distance`は選択しない。」と判断しました。まさにこのプロセスが特徴量選択です。そして特徴量選択には散布図によるデータの可視化が大いに役に立ちます。\n",
    "\n",
    "**演習** 他の変数`age`, `bath_toilet_separated`, `autolock`についても、`value`を予測するうえで必要そうな変数かを考察してみてください。（これが正解というものはないので気楽に考えてみましょう。）"
   ]
  },
  {
   "cell_type": "markdown",
   "metadata": {},
   "source": [
    "#### ヒストグラム : 各変数の規模感の把握"
   ]
  },
  {
   "cell_type": "code",
   "execution_count": 4,
   "metadata": {},
   "outputs": [
    {
     "data": {
      "image/png": "[encoded data removed]",
      "text/plain": [
       "<Figure size 432x288 with 1 Axes>"
      ]
     },
     "metadata": {
      "needs_background": "light"
     },
     "output_type": "display_data"
    }
   ],
   "source": [
    "# ヒストグラム\n",
    "import seaborn as sns\n",
    "import matplotlib.pyplot as plt\n",
    "sns.distplot(a = oneroom_train[\"value\"].values, bins = 10)\n",
    "plt.show()"
   ]
  },
  {
   "cell_type": "markdown",
   "metadata": {},
   "source": [
    "《スクリプトの説明》\n",
    "* 1行目 : Pythonで可視化周りをサポートしている`seaborn`というパッケージをimportします。\n",
    "* 2行目 : Pythonで可視化周りをサポートしている`matplotlib.pyplot`というモジュールをimportします。\n",
    "* 3行目 : `seaborn`パッケージのdistplot`メソッドでヒストグラムを描画します。\n",
    "    - `a`引数 : ヒストグラムを描きたいデータ（`numpy.1darray`クラス）\n",
    "    - `bins`引数 : binの個数を指定します。\n",
    "* 4行目 : `pairplot`メソッドで作ったグラフを`show`メソッドで出力します。"
   ]
  },
  {
   "cell_type": "markdown",
   "metadata": {},
   "source": [
    "《考察》\n",
    "\n",
    "`value`列（家賃）は、およそ2.5万円から15.0万円という幅広いレンジで分布していることが把握できました。"
   ]
  },
  {
   "cell_type": "markdown",
   "metadata": {},
   "source": [
    "#### 特徴量選択とモデルの選択\n",
    "ここでは、ランダムフォレスト回帰のハイパーパラメータ\n",
    "* n_estimators\n",
    "* max_leaf_nodes\n",
    "\n",
    "を探索します。"
   ]
  },
  {
   "cell_type": "code",
   "execution_count": 5,
   "metadata": {},
   "outputs": [],
   "source": [
    "# 特徴量選択\n",
    "feature_name = [\"area\", \"age\", \"bath_toilet_separated\", \"autolock\"]\n",
    "X_train = oneroom_train[feature_name].values\n",
    "y_train = oneroom_train[\"value\"].values"
   ]
  },
  {
   "cell_type": "markdown",
   "metadata": {},
   "source": [
    "《スクリプトの説明》\n",
    "* 1行目 : 散布図を参考に選択した特徴量のリストを作ります。\n",
    "* 2行目 : データから特徴量として選択した列のみを抽出し、`numpy.2darray`の形で取得します。\n",
    "* 3行目 : データから予測したい変数`value`を抽出し、`numpy.1darray`の形で取得します。"
   ]
  },
  {
   "cell_type": "code",
   "execution_count": 6,
   "metadata": {},
   "outputs": [],
   "source": [
    "# ハイパーパラメータを選択するためのデータの分割（演習）\n",
    "from sklearn.model_selection import train_test_split\n",
    "X_learn, X_val, y_learn, y_val = train_test_split(X_train, y_train,\n",
    "                                                  random_state = 1)"
   ]
  },
  {
   "cell_type": "code",
   "execution_count": 7,
   "metadata": {},
   "outputs": [
    {
     "data": {
      "text/plain": [
       "RandomForestRegressor(bootstrap=True, ccp_alpha=0.0, criterion='mse',\n",
       "                      max_depth=None, max_features='auto', max_leaf_nodes=40,\n",
       "                      max_samples=None, min_impurity_decrease=0.0,\n",
       "                      min_impurity_split=None, min_samples_leaf=10,\n",
       "                      min_samples_split=2, min_weight_fraction_leaf=0.0,\n",
       "                      n_estimators=1000, n_jobs=None, oob_score=False,\n",
       "                      random_state=1, verbose=0, warm_start=False)"
      ]
     },
     "execution_count": 7,
     "metadata": {},
     "output_type": "execute_result"
    }
   ],
   "source": [
    "# random forest回帰で回帰モデルを作る。（演習）\n",
    "from sklearn.ensemble import RandomForestRegressor\n",
    "model = RandomForestRegressor(n_estimators = 1000,\n",
    "                              max_leaf_nodes = 40,\n",
    "                              min_samples_leaf = 10,\n",
    "                              random_state = 1)\n",
    "model.fit(X_learn, y_learn)"
   ]
  },
  {
   "cell_type": "markdown",
   "metadata": {},
   "source": [
    "《スクリプトの説明》\n",
    "* 1行目 : 機械学習モデル周りをサポートしている`sklearn`パッケージの`ensemble`モジュールから`RandomForestRegressor`クラスをimportします。\n",
    "* 2行目 : ランダムフォレスト回帰のハイパーパラメータを設定します。\n",
    "    - `n_estimators` : 弱学習器の個数\n",
    "    - `max_features` : ノードの分割に使う入力変数の最大数（今回は指定しない。）\n",
    "    - 決定木回帰のハイパーパラメータ\n",
    "        - `max_leaf_nodes` : 葉ノードの最大数\n",
    "        - `min_sample_leaves` : 葉ノードに属する訓練データ点の最小数（今回は指定しない。）\n",
    "* 3行目 : 特徴量のデータ`X_learn`と予測したい変数のデータ`y_learn`を与えて、予測モデルを作成します。\n",
    "\n",
    "`max_features`を指定しなかったので、各弱学習器では各ノードの学習時にすべての入力変数が用いられます。また、`min_sample_leaves`を指定しなかったので、訓練データ点が1つしか属さないような分割領域が学習されることもありますが、簡単のためこの辺りの細かいチューニングは行わないことにしました。なお、`RandomForestRegressor` classの`random_state`引数は、bootstrap標本の抽出と弱学習器である`DecisionTreeRegressor`を学習する際のシード値を決めているものです。"
   ]
  },
  {
   "cell_type": "code",
   "execution_count": 8,
   "metadata": {},
   "outputs": [],
   "source": [
    "# 予測値の計算（演習）\n",
    "pred_val = model.predict(X_val)"
   ]
  },
  {
   "cell_type": "code",
   "execution_count": 9,
   "metadata": {},
   "outputs": [
    {
     "data": {
      "text/plain": [
       "0.9427155542918567"
      ]
     },
     "execution_count": 9,
     "metadata": {},
     "output_type": "execute_result"
    }
   ],
   "source": [
    "# 正答率の計算（演習）\n",
    "from sklearn.metrics import r2_score\n",
    "r2_score(y_val, pred_val)"
   ]
  },
  {
   "cell_type": "code",
   "execution_count": 10,
   "metadata": {},
   "outputs": [
    {
     "data": {
      "text/plain": [
       "{'max_leaf_nodes': 40}"
      ]
     },
     "execution_count": 10,
     "metadata": {},
     "output_type": "execute_result"
    }
   ],
   "source": [
    "# 補足 : GridSearchCV\n",
    "from sklearn.model_selection import GridSearchCV\n",
    "rfr = RandomForestRegressor(n_estimators = 1000, random_state = 1)\n",
    "param_grid = {\"max_leaf_nodes\" : [10, 20, 30, 40, 50]}\n",
    "model = GridSearchCV(estimator = rfr, param_grid = param_grid, cv = 5, scoring = \"r2\", n_jobs = -1)\n",
    "model.fit(X_train, y_train)\n",
    "model.best_params_"
   ]
  },
  {
   "cell_type": "markdown",
   "metadata": {},
   "source": [
    "#### モデルの評価\n",
    "さて、あと一息です。予測モデルを作成したら、そのモデルの良さを評価しましょう。モデルの良さには2つの軸\n",
    "* 学習に用いたデータをどれくらい学習できたか。\n",
    "* 未知のデータに対してどれだけ精度よく予測できるか。\n",
    "\n",
    "があることを見ていきます。"
   ]
  },
  {
   "cell_type": "markdown",
   "metadata": {},
   "source": [
    "#### モデルの学習"
   ]
  },
  {
   "cell_type": "code",
   "execution_count": 11,
   "metadata": {},
   "outputs": [
    {
     "data": {
      "text/plain": [
       "RandomForestRegressor(bootstrap=True, ccp_alpha=0.0, criterion='mse',\n",
       "                      max_depth=None, max_features='auto', max_leaf_nodes=1024,\n",
       "                      max_samples=None, min_impurity_decrease=0.0,\n",
       "                      min_impurity_split=None, min_samples_leaf=1,\n",
       "                      min_samples_split=2, min_weight_fraction_leaf=0.0,\n",
       "                      n_estimators=100, n_jobs=None, oob_score=False,\n",
       "                      random_state=1, verbose=0, warm_start=False)"
      ]
     },
     "execution_count": 11,
     "metadata": {},
     "output_type": "execute_result"
    }
   ],
   "source": [
    "# modelの学習（演習）\n",
    "model = RandomForestRegressor(n_estimators = 100,\n",
    "                              max_leaf_nodes = 1024,\n",
    "                              random_state = 1)\n",
    "model.fit(X_train, y_train)"
   ]
  },
  {
   "cell_type": "markdown",
   "metadata": {},
   "source": [
    "#### 学習に用いたデータにおけるモデルの評価\n",
    "予測モデルを評価するときに役に立つものとして、**決定係数**と**残差プロット**があります。決定係数は数値的な評価指標で、予測と実際の値がばっちり一致していたら1.0となり、食い違うほどどんどん低い値になります。また、負の数になることもあります。残差プロットは予測値を横軸、残差（= 実測値と予測値の差）を縦軸にしてプロットしたグラフのことで、残差の規模感を実際の予測変数の規模感と比較して「精度」を評価するのに役立ちます。"
   ]
  },
  {
   "cell_type": "code",
   "execution_count": 12,
   "metadata": {},
   "outputs": [
    {
     "data": {
      "text/plain": [
       "0.9767447489370119"
      ]
     },
     "execution_count": 12,
     "metadata": {},
     "output_type": "execute_result"
    }
   ],
   "source": [
    "# 決定係数によるモデルの評価\n",
    "from sklearn.metrics import r2_score\n",
    "pred_train = model.predict(X_train)\n",
    "r2_score(y_true = y_train, y_pred = pred_train)"
   ]
  },
  {
   "cell_type": "markdown",
   "metadata": {},
   "source": [
    "《スクリプトの説明》\n",
    "* 1行目 : `sklearn`パッケージの`metrics`モジュールから`r2_score`メソッドをimportします。\n",
    "* 2行目 : 学習に用いた特徴量のデータから`value`変数の予測値を計算します。\n",
    "* 3行目 : `r2_score`メソッドで決定係数を計算します。\n",
    "    - `y_true`引数 : 実際の値\n",
    "    - `y_pred`引数 : 予測モデルから計算できる予測値"
   ]
  },
  {
   "cell_type": "code",
   "execution_count": 13,
   "metadata": {},
   "outputs": [
    {
     "data": {
      "image/png": "[encoded data removed]",
      "text/plain": [
       "<Figure size 432x288 with 1 Axes>"
      ]
     },
     "metadata": {
      "needs_background": "light"
     },
     "output_type": "display_data"
    }
   ],
   "source": [
    "# 残差プロット\n",
    "import matplotlib.pyplot as plt\n",
    "error_train = y_train - pred_train\n",
    "plt.scatter(pred_train, error_train)\n",
    "plt.show()"
   ]
  },
  {
   "cell_type": "markdown",
   "metadata": {},
   "source": [
    "《スクリプトの説明》\n",
    "* 1行目 : データの可視化周りをサポートする`matplot`パッケージの`pyplot`モジュールをimportします。\n",
    "* 2行目 : 残差を計算します。\n",
    "* 3行目 : x軸を予測値、y軸を残差とする散布図を`scatter`メソッドで描きます。\n",
    "* 4行目 : `show`メソッドでグラフを出力します。"
   ]
  },
  {
   "cell_type": "markdown",
   "metadata": {},
   "source": [
    "《考察》\n",
    "\n",
    "決定係数が1.0に近いことから、データを良く学習できていることが見て取れます。また、残差プロットから予測値が13万円になるまでは、残差が±1万円程度に収まっており、予測した`value`変数の規模感（2.5万円-15.0万円）と見比べてみても、残差が小さめであることが見て取れます。ただし、予測値として13万円以上を返す際には、1.5万円と大きく予測が外れるケースが見受けられ、13万円以上の予測値を得た場合に信頼できるかは注意が必要であろうことも見て取れるでしょう。"
   ]
  },
  {
   "cell_type": "markdown",
   "metadata": {},
   "source": [
    "#### 未知のデータにおけるモデルの評価\n",
    "予測モデルは、実はその学習の仕組みから、学習したデータに対する予測精度は可能な限り高くなるようになっていることが分かります。ここで注意を払いたいのは、本来「予測の精度」とは新しく入ってきたデータに対しても、上手く予測できることを指すという点です。要するに、学習したデータを用いたモデルの評価は、学習が上手く進んでいたかを確認する指標にはなっても、予測の精度を評価する指標にはなりません。そこで、機械学習では、事前に学習に使わないデータを別に作っておいて、精度評価のためだけに用いるということを行います。"
   ]
  },
  {
   "cell_type": "code",
   "execution_count": 14,
   "metadata": {},
   "outputs": [
    {
     "data": {
      "text/plain": [
       "(61, 7)"
      ]
     },
     "execution_count": 14,
     "metadata": {},
     "output_type": "execute_result"
    }
   ],
   "source": [
    "# 未知データの読み込み\n",
    "import pandas as pd\n",
    "filepath_test = \".\\data\\ogikubo_oneroom_test.csv\"\n",
    "oneroom_test = pd.read_csv(filepath_or_buffer = filepath_test)\n",
    "oneroom_test = oneroom_test.drop_duplicates()\n",
    "oneroom_test.shape"
   ]
  },
  {
   "cell_type": "code",
   "execution_count": 15,
   "metadata": {},
   "outputs": [],
   "source": [
    "# 未知データの入力と出力を作る。\n",
    "X_test = oneroom_test[feature_name].values\n",
    "y_test = oneroom_test[\"value\"].values"
   ]
  },
  {
   "cell_type": "code",
   "execution_count": 16,
   "metadata": {},
   "outputs": [
    {
     "data": {
      "text/plain": [
       "0.9130002678561966"
      ]
     },
     "execution_count": 16,
     "metadata": {},
     "output_type": "execute_result"
    }
   ],
   "source": [
    "# 未知データに対する決定係数\n",
    "from sklearn.metrics import r2_score\n",
    "pred_test = model.predict(X_test)\n",
    "r2_score(y_test, pred_test)"
   ]
  },
  {
   "cell_type": "code",
   "execution_count": 17,
   "metadata": {},
   "outputs": [
    {
     "data": {
      "image/png": "[encoded data removed]",
      "text/plain": [
       "<Figure size 432x288 with 1 Axes>"
      ]
     },
     "metadata": {
      "needs_background": "light"
     },
     "output_type": "display_data"
    }
   ],
   "source": [
    "# 残差プロット\n",
    "import matplotlib.pyplot as plt\n",
    "error_test = y_test - pred_test\n",
    "plt.scatter(pred_test, error_test)\n",
    "plt.show()"
   ]
  },
  {
   "cell_type": "markdown",
   "metadata": {},
   "source": [
    "《考察》\n",
    "\n",
    "未知のデータに対しても決定係数は1.0に近い値をとっていることから、予測モデルの精度は高いことが見て取れます。特に残差プロットからも、予測値が13万円になるまでは、残差がおよそ±1万円程度に収まっており、予測した`value`変数の規模感（2.5万円-15.0万円）と見比べてみても、残差が小さめであることが見て取れます。"
   ]
  },
  {
   "cell_type": "markdown",
   "metadata": {},
   "source": [
    "#### 変数重要度\n",
    "その変数を用いて、出力の平均値で予測を決めるよりもどれだけ残差の2乗和を減らすことが出来たかを表す指標が変数重要度です。`sklearn`では、変数重要度は合計して1.0になるように正規化されて出力されます。"
   ]
  },
  {
   "cell_type": "code",
   "execution_count": 18,
   "metadata": {},
   "outputs": [
    {
     "data": {
      "image/png": "[encoded data removed]",
      "text/plain": [
       "<Figure size 432x288 with 1 Axes>"
      ]
     },
     "metadata": {
      "needs_background": "light"
     },
     "output_type": "display_data"
    }
   ],
   "source": [
    "import numpy as np\n",
    "importances = model.feature_importances_\n",
    "indices = np.argsort(importances)\n",
    "plt.barh(np.asarray(feature_name)[indices], importances[indices],\n",
    "         color=\"r\", align=\"center\")\n",
    "plt.show()"
   ]
  },
  {
   "cell_type": "code",
   "execution_count": 19,
   "metadata": {},
   "outputs": [
    {
     "data": {
      "text/plain": [
       "array([0.83515805, 0.1064884 , 0.03858263, 0.01977092])"
      ]
     },
     "execution_count": 19,
     "metadata": {},
     "output_type": "execute_result"
    }
   ],
   "source": [
    "model.feature_importances_"
   ]
  }
 ],
 "metadata": {
  "kernelspec": {
   "display_name": "Python 3",
   "language": "python",
   "name": "python3"
  },
  "language_info": {
   "codemirror_mode": {
    "name": "ipython",
    "version": 3
   },
   "file_extension": ".py",
   "mimetype": "text/x-python",
   "name": "python",
   "nbconvert_exporter": "python",
   "pygments_lexer": "ipython3",
   "version": "3.8.2"
  }
 },
 "nbformat": 4,
 "nbformat_minor": 4
}
