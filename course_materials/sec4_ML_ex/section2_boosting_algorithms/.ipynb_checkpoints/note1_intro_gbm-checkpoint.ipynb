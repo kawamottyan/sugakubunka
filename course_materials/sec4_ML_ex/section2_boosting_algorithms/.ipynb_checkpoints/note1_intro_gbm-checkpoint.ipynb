{
 "cells": [
  {
   "cell_type": "markdown",
   "metadata": {},
   "source": [
    "# 4. ブースティングアルゴリズム"
   ]
  },
  {
   "cell_type": "markdown",
   "metadata": {},
   "source": [
    "## 4.1. 勾配ブースティング法の考え方"
   ]
  },
  {
   "cell_type": "markdown",
   "metadata": {},
   "source": [
    "**abstract** : 勾配ブースティング法は、教師あり学習が仮説空間に対する損失関数の最小化問題であることに注目し、数理最適化の手法である勾配降下法を関数空間に拡張することで最適な仮説を導く方法を提案したものです。このことを理解するために、\n",
    "\n",
    "A. 数理最適化と教師あり学習の関係<br/>\n",
    "B. 勾配降下法と勾配ブースティング法\n",
    "\n",
    "を説明します。"
   ]
  },
  {
   "cell_type": "markdown",
   "metadata": {},
   "source": [
    "### A. 数理最適化と教師あり学習との関係"
   ]
  },
  {
   "cell_type": "markdown",
   "metadata": {},
   "source": [
    "#### A1. 数理最適化とは"
   ]
  },
  {
   "cell_type": "markdown",
   "metadata": {},
   "source": [
    "**最適化問題の定式化** : 関数$L$は集合$S$を定義域に持ち、実数を値として返すことにしましょう。このとき、関数$L$が最小値を返すような要素$s\\in S$を**最適解**といい、$\\mathrm{argmin}_{s\\in S}L(s)$と書きます。また、このような問題を**最適化問題**、関数$L$を**目的関数**といいます。\n",
    "\n",
    "[Remark] 定義域$S$は実数を要素に持つような集合とは限りません。例えば、関数を要素に持つような集合（関数空間）も考えることができ、実際に教師あり学習の定式化に現れます。■\n",
    "\n",
    "<center><img src=\"./imgs/optim.png\" width=300px><br>最適化問題の定式化</center>"
   ]
  },
  {
   "cell_type": "markdown",
   "metadata": {},
   "source": [
    "**数理最適化の例** : 例えば、実数の全体$\\mathbb{R}$を定義域に持つ関数$L(x)=x^2+1$を考えます。この最適解は$0$ですが、これは次のように表現できます。\\begin{eqnarray*}\\mathrm{argmin}_{x\\in\\mathbb{R}}x^2+1=0\\end{eqnarray*}"
   ]
  },
  {
   "cell_type": "markdown",
   "metadata": {},
   "source": [
    "#### A2. 教師あり学習の復習"
   ]
  },
  {
   "cell_type": "markdown",
   "metadata": {},
   "source": [
    "**線形回帰モデルの例** : 物件の月当たりの賃料をその物件の情報から予測するようなタスクを考えましょう。物件の月当たりの賃料を$y$, その物件の情報を表す値のベクトル（例えば敷地面積や最寄り駅との距離など）を$x$と書くことにします。タスクの目標は$x$から$y$を予測する関数$\\hat{h}(x)$を求めることです。\n",
    "\n",
    "例えば線形回帰モデルは、予測する関数$\\hat{h}(x)$を以下のように求めようという考え方でした : \n",
    "1. 実際に複数個($n$個)の物件について、物件の情報と月当たりの賃料$(x_1,y_1),\\cdots,(x_n,y_n)$を集めてきます。\n",
    "2. 予測する関数$\\hat{h}(x)$を1次式のなかから探すと決めるのでした。要するに、\\begin{eqnarray*}\\hat{h}(x)=w_0+w_1x_1+\\cdots+w_dx_d\\end{eqnarray*}です。\n",
    "3. 賃料の予測値$\\hat{y_i}$と実際の賃料の値$y_i$の「食い違い」を計る関数$l(\\hat{y_i},y_i)$を\\begin{eqnarray*}l(\\hat{y_i},y_i)=(\\hat{y_i}-y_i)^2\\end{eqnarray*}に決めます。これを2乗損失というのでした。\n",
    "4. 1次式全体を$\\mathcal{H}$と書くことにします。$\\mathcal{H}$のなかから、`step 1`で収集した物件全体に対する「食い違い」\\begin{eqnarray*}L(h)&=&\\sum_{i=1}^{n}l(h(x_i),y_i)\\\\&=&\\sum_{i=1}^n(h(x_i)-y_i)^2\\end{eqnarray*}が最も小さくなるような関数$\\hat{h}(x)$を求めます。これを賃料を予測する関数として用いようというわけです。\n",
    "\n",
    "<center><img src=\"./imgs/supervised.png\" width=400px></center>"
   ]
  },
  {
   "cell_type": "markdown",
   "metadata": {},
   "source": [
    "**教師あり学習の定式化** : 機械学習では、予測したい変数を**出力** (output) といいます。また、予測に用いる関数を**仮説** (hypothesis) 、仮説に渡すベクトルを**入力** (input) と言います。入力と出力のペア$(x_i,y_i)$を複数観測したものを**データ**といい、$\\mathcal{D}=\\{(x_1,y_1),\\cdots,(x_n,y_n)\\}$と表現します。\n",
    "\n",
    "事前にデータ$\\mathcal{D}=\\{(x_1,y_1),\\cdots,(x_n,y_n)\\}$を準備し、\n",
    "1. 想定される仮説の全体$\\mathcal{H}$\n",
    "2. 予測値$\\hat{y}$と出力の観測値$y$の「食い違い」$l(\\hat{y_i},y)$\n",
    "\n",
    "を定義したうえで、以下の最適化問題を解くことを**教師あり学習**といいます。\\begin{eqnarray*}\\hat{h}(x)=\\mathrm{argmin}_{h\\in\\mathcal{H}}\\sum_{i=1}^{n}l(h(x_i),y_i)\\end{eqnarray*}このとき、使われたデータ$\\mathcal{D}$を**訓練データ**、想定される仮説の全体$\\mathcal{H}$を**仮説空間**、「食い違い」を計るために定義した関数$l(\\hat{y_i},y_i)$を**損失関数**といいます。求めた仮説$\\hat{h}(x)$を出力を予測するための関数として採用します。\n",
    "\n",
    "[Remark] このように教師あり学習は仮説空間と呼ばれる予測式の候補として想定した関数の集合に対して、データと損失関数に基づいて定義した目的関数$L(h)$の最適化問題を解いていると考えることが出来ます。この数理最適化による定式化は、後で勾配ブースティング法を理解するヒントになります。■"
   ]
  },
  {
   "cell_type": "markdown",
   "metadata": {},
   "source": [
    "### B. 勾配降下法と勾配ブースティング法 "
   ]
  },
  {
   "cell_type": "markdown",
   "metadata": {},
   "source": [
    "#### B1. 勾配降下法"
   ]
  },
  {
   "cell_type": "markdown",
   "metadata": {},
   "source": [
    "**勾配降下法とそのalgorithm** : $d$個の実数からなるベクトルの全体$\\mathbb{R}^d$を定義域に持つような関数$L(x)$の最適解の値を計算したいとします。特に、関数$L(x)$が1階微分可能、要するに導関数$\\nabla_x L(x)$を持ち、この導関数に$x=a$を代入した値$\\nabla_x L(a)$を計算できるとしましょう。このとき、以下のようなalgorithmが用いられることがあります。\n",
    "\n",
    "**Input** :\n",
    "* $x_0$ : 初期値\n",
    "* $\\eta>0$ : 学習率\n",
    "* $\\nabla_x L$ : 目的関数$L$の導関数\n",
    "* $M$ : 繰り返しの最大回数\n",
    "\n",
    "**Process** :\n",
    "1. $a\\leftarrow x_0$\n",
    "2. for $t$ in $1,\\cdots,M$:\n",
    "3. 　　$a\\leftarrow a-\\eta\\nabla_x L(a)$\n",
    "4. return $a$\n",
    "\n",
    "このようなalgorithmを**勾配降下法** (gradient descent) といいます。以下にPython言語における実装例を紹介します。"
   ]
  },
  {
   "cell_type": "code",
   "execution_count": 1,
   "metadata": {},
   "outputs": [],
   "source": [
    "# numpyを用いた実装\n",
    "import numpy as np\n",
    "def gradient_descent(x0, eta, deriv, M):\n",
    "    a = x0\n",
    "    for t in range(M):\n",
    "        a = a - eta * deriv(a)\n",
    "    return a"
   ]
  },
  {
   "cell_type": "markdown",
   "metadata": {},
   "source": [
    "**勾配降下法のイメージ** : 勾配降下法は以下の図のように、$k$回繰り返した時点での解$x^{(k)}$において、より目的関数$f(x)$の値が現状より小さくなる方向$-\\nabla_{x}f(a)$へ解を更新するalgorithmです。\n",
    "<center><img src=\"./imgs/gradient_descent.png\" width=400px><br>勾配降下法の計算の仕組み, $\\mathrm{grad}(f)=\\nabla_{x}fとする。$<center/>"
   ]
  },
  {
   "cell_type": "markdown",
   "metadata": {},
   "source": [
    "**勾配降下法の性質** : 勾配降下法の性質を述べるうえで重要なキーワードは局所最適解です。適当な開集合$S'$に目的関数を制限したとき、その最小値を与えるような点$s'$が$S'$の要素として存在すれば、それを**局所最適解**といいます。例えば、以下のようなグラフを持つ関数\n",
    "\\begin{eqnarray*}\n",
    "f(x) &=& \\frac{1}{4}x^4 - \\frac{1}{3}x^3 - x^2\n",
    "\\end{eqnarray*}\n",
    "では、最適解は$x=2$なのに対して、局所最適解は$x=-1, 2$の2つです。"
   ]
  },
  {
   "cell_type": "code",
   "execution_count": 2,
   "metadata": {},
   "outputs": [],
   "source": [
    "# 目的関数\n",
    "def example(x):\n",
    "    return (1/4)*x**4 - (1/3)*x**3 - x**2"
   ]
  },
  {
   "cell_type": "code",
   "execution_count": 7,
   "metadata": {},
   "outputs": [
    {
     "data": {
      "image/png": "[encoded data removed]",
      "text/plain": [
       "<Figure size 432x288 with 1 Axes>"
      ]
     },
     "metadata": {
      "needs_background": "light"
     },
     "output_type": "display_data"
    }
   ],
   "source": [
    "# 目的関数のグラフ\n",
    "import matplotlib.pyplot as plt\n",
    "x = np.linspace(start = -2, stop = 3, num = 100)\n",
    "plt.plot(x, example(x))\n",
    "plt.show()"
   ]
  },
  {
   "cell_type": "markdown",
   "metadata": {},
   "source": [
    "このようなグラフを持つ関数に対して勾配降下法を用いた場合、計算結果は必ずしも最適解$x=2$に収束するとは限らず、局所最適解$x=-1,2$のいずれかに収束します。以下の計算例を確認してみてください。"
   ]
  },
  {
   "cell_type": "code",
   "execution_count": 4,
   "metadata": {},
   "outputs": [],
   "source": [
    "# 目的関数の導関数\n",
    "def nabla_example(x):\n",
    "    return x**3 - x**2 - 2*x"
   ]
  },
  {
   "cell_type": "code",
   "execution_count": 5,
   "metadata": {},
   "outputs": [
    {
     "data": {
      "text/plain": [
       "-1.0000000000000002"
      ]
     },
     "execution_count": 5,
     "metadata": {},
     "output_type": "execute_result"
    }
   ],
   "source": [
    "# 勾配降下法 : 初期値がx=-2の場合, 学習率は0.1\n",
    "gradient_descent(x0 = -2, eta = 0.1, deriv = nabla_example, M = 100)"
   ]
  },
  {
   "cell_type": "code",
   "execution_count": 6,
   "metadata": {},
   "outputs": [
    {
     "data": {
      "text/plain": [
       "2.0"
      ]
     },
     "execution_count": 6,
     "metadata": {},
     "output_type": "execute_result"
    }
   ],
   "source": [
    "# 勾配降下法 : 初期値がx=3の場合, 学習率は0.1\n",
    "gradient_descent(x0 = 3, eta = 0.1, deriv = nabla_example, M = 100)"
   ]
  },
  {
   "cell_type": "markdown",
   "metadata": {},
   "source": [
    "#### B2. 勾配ブースティング法"
   ]
  },
  {
   "cell_type": "markdown",
   "metadata": {},
   "source": [
    "**勾配ブースティング法のアイディア** : 勾配ブースティング法は、`B1`節で紹介した勾配降下法のようなalgorithmを教師あり学習における最適化問題に実現したものです。教師あり学習における最適化問題とは、事前にデータ$\\mathcal{D}=\\{(x_1,y_1),\\cdots,(x_n,y_n)\\}$を準備し、\n",
    "1. 仮説空間$\\mathcal{H}$\n",
    "2. 損失関数$l(\\hat{y_i},y)$\n",
    "\n",
    "を定義したうえで、以下のような問題を解くことを言うのでした。\\begin{eqnarray*}\\hat{h}(x)&=&\\mathrm{argmin}_{h\\in\\mathcal{H}}L(h)\\\\\n",
    "\\text{ where }L(h)&=&\\sum_{i=1}^{n}l(h(x_i),y_i)\\end{eqnarray*}勾配降下法をこの問題に拡張するということは、勾配降下法が対象としている目的関数の定義域を実数ベクトルの全体$\\mathbb{R}^n$から仮説空間（要するに予測式の候補になる関数の空間）$\\mathcal{H}$に拡張するためにはどうするかを考えるということです。"
   ]
  },
  {
   "cell_type": "markdown",
   "metadata": {},
   "source": [
    "**仮説空間を定義域にもつ目的関数の導関数** : 勾配降下法は目的関数の導関数を用いるalgorithmでした。そこで、勾配降下法の対象を実数ベクトルを代入できる目的関数から、仮説（関数）$h$を代入できる目的関数$L(h)$に拡張するには、**仮説（関数）$h$を代入できる関数の導関数$\\nabla_{h}L$を定義する必要がある**わけです。\n",
    "\n",
    "実数ベクトルを代入できる関数の導関数$\\nabla_{x}L$は$x_1,\\cdots,x_d$軸方向に対する関数$L(x)$の変化率を意味するものでした。\n",
    "\n",
    "\\begin{eqnarray*}\n",
    "\\nabla_{x}L(x) &:=& \\left(\\frac{\\partial L}{\\partial x_1}(x),\\cdots,\\frac{\\partial L}{\\partial x_d}(x)\\right)^T\n",
    "\\end{eqnarray*}\n",
    "\n",
    "この考え方は、実数ベクトル$x$が$x_i$軸に対応する単位ベクトル$e_i$を用いて$x=\\sum_{i=1}^{d}x_ie_i$と書けることからきています。\n",
    "\n",
    "同様のことを仮説を代入できる関数に対して考えてみましょう。ここで役に立つのは仮説$h(x)$が指示関数\n",
    "\n",
    "\\begin{eqnarray*}\n",
    "\\mathbb{1}[x=a]&=&\\begin{cases}1\\text{ if }x=a\\\\0\\text{ otherwise}\\end{cases}\n",
    "\\end{eqnarray*}\n",
    "\n",
    "を用いて$h(x)=\\sum_{a\\in\\mathbb{R}^d}h(a)\\mathbb{1}[x=a]$と書けるという事実です。要するに、仮説を代入できる関数の導関数$\\nabla_{h}L$は$\\mathbb{1}[x=a]$, $a\\in\\mathbb{R}^d$を軸とする方向に仮説$L(h)$がどれくらいの変化率を持つかを意味するように定義すればよいでしょう。これは数式で次のように書くことができます。\n",
    "\n",
    "\\begin{eqnarray*}\n",
    "\\nabla_{h}L(h)(a) &:=& \\left.\\frac{\\partial L(h+\\alpha\\mathbb{1}[x=a])}{\\partial \\alpha}\\right|_{\\alpha=0}\n",
    "\\end{eqnarray*}\n",
    "\n",
    "重要な例を1つやっておきましょう。\n",
    "\n",
    "**2乗損失の場合の例** : サイズ$n$のデータ$\\mathcal{D}=\\{(x_1,y_1),\\cdots,(x_n,y_n)\\}$と2乗損失$l(\\hat{y},y)=(y-\\hat{y_i})^2$から定義される教師あり学習の最適化問題の目的関数\n",
    "\\begin{eqnarray*}\n",
    "L(h) &=& \\sum_{i=1}^{n}(y_i-h(x_i))^2\n",
    "\\end{eqnarray*}\n",
    "\n",
    "に対して、導関数は次のように計算することが出来ます。\n",
    "\\begin{eqnarray*}\n",
    "\\nabla_{h}L(h)(a) &=& \\left.\\frac{\\partial \\sum_{i=1}^{n}\\{y_i-(h(x_i)+\\alpha\\mathbb{1}[x_i=a])\\}^2}{\\partial \\alpha}\\right|_{\\alpha=0}\\\\\n",
    "&=& -2\\{y_i-(h(x_i)+\\alpha\\mathbb{1}[x_i=a])\\}\\mathbb{1}[x_i=a]|_{\\alpha=0}\\\\\n",
    "&=& -2(y_i-h(x_i))\\mathbb{1}[x_i=a]\\\\\n",
    "&=& \\begin{cases}-2(y_i-h(x_i))\\text{ if }a=x_i\\\\0\\text{ otherwise }\\end{cases}\n",
    "\\end{eqnarray*}\n",
    "\n",
    "L(h)の勾配＝１つの関数"
   ]
  },
  {
   "cell_type": "markdown",
   "metadata": {},
   "source": [
    "**勾配ブースティング法** : さて、これまでの準備を用いて、勾配ブースティング法を紹介しましょう。次のような最適化問題を考えます。\n",
    "\n",
    "<div style=\"padding: 10px; margin-bottom: 10px; border: 1px dotted #333333;\">\n",
    "事前にデータ$\\mathcal{D}=\\{(x_1,y_1),\\cdots,(x_n,y_n)\\}$を準備し、仮説を表現するために基底となる関数$h_i$の形を事前に決めておきます。\n",
    "    \n",
    "1. 仮説空間$\\mathcal{H}=\\{\\sum_{i}w_ih_i(x)\\mid h_{i}:基底となる関数\\}$\n",
    "2. 損失関数$l(\\hat{y_i},y)$\n",
    "\n",
    "を定義したうえで、以下のような問題を解く。\n",
    "    $$\\hat{h}(x)=\\mathrm{argmin}_{h\\in\\mathcal{H}}L(h)$$\n",
    "    $$\\text{where }L(h)=\\sum_{i=1}^{n}l(h(x_i),y_i)$$\n",
    "</div>\n",
    "\n",
    "例えば、基底となる関数$h_i$には**決定木**を用います。この問題を次のようなalgorithmで解くのが勾配ブースティング法です。\n",
    "\n",
    "**Input** :\n",
    "* $\\eta>0$ : 学習率\n",
    "* $\\nabla_h L$ : 目的関数$L$の導関数\n",
    "* $M$ : 繰り返しの最大回数\n",
    "\n",
    "**Process** :\n",
    "1. $\\hat{h}(x)\\leftarrow \\mathrm{argmax}_{c:constant}L(c)$　　# 初期値は目的関数を最小化する定数関数\n",
    "2. for $t$ in $1,\\cdots,M$:\n",
    "3. 　　$r=(\\nabla_{h}L(x_1),\\cdots,\\nabla_{h}L(x_n))$を計算する。\n",
    "4. 　　$\\mathcal{D}':=\\{(x_1,-r_1),\\cdots,(x_n,-r_n)\\}$で$h_{t}(x)$を学習する。\n",
    "5. 　　$w_{t}:=\\mathrm{argmin}_{w\\in\\mathbb{R}}L(\\hat{h}+wh_{t})$を求める。\n",
    "6. 　　$\\hat{h}(x)\\leftarrow\\hat{h}(x)+\\eta w_{t}h_{t}(x)$\n",
    "7. return $\\hat{h}(x)$\n",
    "\n",
    "ここで、勾配降下法が$a\\leftarrow a-\\eta\\nabla_x L(a)$としているところを、勾配ブースティング法では直接行わなわず、代わりに`step 4`と`step 5`を行っていることが見て取れます。これは関数$h\\in\\mathcal{H}$に対して、\n",
    "\\begin{eqnarray*}\n",
    "h(x)-\\eta\\nabla_{h}L(x)\n",
    "\\end{eqnarray*}\n",
    "が仮説空間$\\mathcal{H}$に属する関数になるとは限らないためです。更新したい$-\\nabla_{h}L(x)$と目的関数の意味で大きな差がない基底関数の定数倍$w_{t}h_{t}$を求めることで、更新後の仮説$\\hat{h}(x)$が仮説空間に属するようにしています。\n",
    "\n",
    "ステップ４＝決定木でLの勾配を近似している（学習している）→$\\mathcal{H}$の中に収まる！\n",
    "\n",
    "ステップ５＝目的関数が最小になる定数倍$wh_{t}$を求める"
   ]
  },
  {
   "cell_type": "markdown",
   "metadata": {},
   "source": [
    "**2乗損失の場合の勾配ブースティング法** : 勾配ブースティング法を2乗損失の場合で具体的に書き下しましょう。要するにサイズ$n$のデータ$\\mathcal{D}=\\{(x_1,y_1),\\cdots,(x_n,y_n)\\}$と2乗損失$l(\\hat{y},y)=(y-\\hat{y})^2$から定義される教師あり学習の最適化問題の目的関数\n",
    "\\begin{eqnarray*}\n",
    "L(h) &=& \\sum_{i=1}^{n}(y_i-h(x_i))^2\n",
    "\\end{eqnarray*}\n",
    "\n",
    "に対して、勾配ブースティング法による学習を考えます。ここで、次の2つの事実を用います。\n",
    "1. $\\mathrm{argmax}_{c:constant}L(c)=\\bar{y}$\n",
    "2. $\\nabla_{h}L(h)(a)=\\begin{cases}-2(y_i-h(x_i))\\text{ if }a=x_i\\\\0\\text{ otherwise }\\end{cases}$\n",
    "\n",
    "特に`事実2`は上の**2乗損失の場合の例**で導出したものです。これから、2乗損失の場合の勾配ブースティング法のalgorithmは次のように書き下すことができます。\n",
    "\n",
    "**Input** :\n",
    "* $\\eta>0$ : 学習率\n",
    "* $\\nabla_h L$ : 目的関数$L$の導関数\n",
    "* $M$ : 繰り返しの最大回数\n",
    "\n",
    "**Process** :\n",
    "1. $\\hat{h}(x)\\leftarrow \\bar{y}$\n",
    "2. for $t$ in $1,\\cdots,M$:\n",
    "3. 　　$\\mathcal{D}':=\\{(x_1,2(y_i-\\hat{h}(x_i))),\\cdots,(x_n,2(y_n-\\hat{h}(x_n)))\\}$で$h_{t}(x)$を学習する。\n",
    "4. 　　$w_{t}:=\\mathrm{argmin}_{w\\in\\mathbb{R}}L(\\hat{h}+wh_{t})$を求める。\n",
    "5. 　　$\\hat{h}(x)\\leftarrow\\hat{h}(x)+\\eta w_{t}h_{t}(x)$\n",
    "6. return $\\hat{h}(x)$\n",
    "\n",
    "`note2_gbm_demo.ipynb`では、このalgorithmの`sklearn` packageを用いたデモを行います。"
   ]
  },
  {
   "cell_type": "markdown",
   "metadata": {},
   "source": [
    "### References\n",
    "[Fri2001] J. Friedman, \"Greedy Function Approximation: A Gradient Boosting Machine.\" The Annals of Statistics, Vol. 29, No. 5, 2001.\n",
    "\n",
    "[Mas2000] Mason, Llew, et al. \"Boosting algorithms as gradient descent.\" Advances in neural information processing systems. 2000."
   ]
  }
 ],
 "metadata": {
  "kernelspec": {
   "display_name": "Python 3",
   "language": "python",
   "name": "python3"
  },
  "language_info": {
   "codemirror_mode": {
    "name": "ipython",
    "version": 3
   },
   "file_extension": ".py",
   "mimetype": "text/x-python",
   "name": "python",
   "nbconvert_exporter": "python",
   "pygments_lexer": "ipython3",
   "version": "3.7.6"
  }
 },
 "nbformat": 4,
 "nbformat_minor": 2
}
