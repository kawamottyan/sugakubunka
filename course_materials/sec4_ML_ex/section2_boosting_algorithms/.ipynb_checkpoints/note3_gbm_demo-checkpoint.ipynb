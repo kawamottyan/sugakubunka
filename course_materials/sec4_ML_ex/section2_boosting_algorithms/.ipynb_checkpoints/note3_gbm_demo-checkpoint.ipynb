{
 "cells": [
  {
   "cell_type": "markdown",
   "metadata": {},
   "source": [
    "## 4.2. 勾配ブースティング法の`sklearn`によるデモ"
   ]
  },
  {
   "cell_type": "markdown",
   "metadata": {},
   "source": [
    "### A. 勾配ブースティング決定木回帰モデル"
   ]
  },
  {
   "cell_type": "markdown",
   "metadata": {},
   "source": [
    "ここでは、勾配ブースティング決定木回帰モデルの`sklearn` packageによるデモを行います。勾配ブースティング決定木回帰モデルは次のようなalgorithmのことです:\n",
    "\n",
    "**Input** :\n",
    "* $\\eta>0$ : 学習率\n",
    "* $\\nabla_h L$ : 目的関数$L$の導関数\n",
    "* $M$ : 繰り返しの最大回数\n",
    "\n",
    "**Process** :\n",
    "1. $\\hat{h}(x)\\leftarrow \\bar{y}$\n",
    "2. for $t$ in $1,\\cdots,M$:\n",
    "3. 　　$\\mathcal{D}':=\\{(x_1,2(y_i-\\hat{h}(x_i))),\\cdots,(x_n,2(y_n-\\hat{h}(x_n)))\\}$で決定木回帰$h_{t}(x)$を学習する。\n",
    "4. 　　$w_{t}:=\\mathrm{argmin}_{w\\in\\mathbb{R}}L(\\hat{h}+wh_{t})$を求める。\n",
    "5. 　　$\\hat{h}(x)\\leftarrow\\hat{h}(x)+\\eta w_{t}h_{t}(x)$\n",
    "6. return $\\hat{h}(x)$\n",
    "\n",
    "`sklearn.ensemble` moduleには勾配ブースティング決定木回帰モデルの実装である`GradientBoostingRegressor` classがあります。引数としてhyperparameterである\n",
    "* `learning_rate` : 学習率\n",
    "* `n_estimators` : 繰り返しの最大数\n",
    "* その他、決定木回帰モデルのhyperparameter\n",
    "    - `max_leaf_nodes` : 葉ノードの最大数\n",
    "    - `min_sample_leaf` : 葉ノードに所属する訓練データ点のサイズの最小値\n",
    "\n",
    "を指定することが出来ます。"
   ]
  },
  {
   "cell_type": "markdown",
   "metadata": {},
   "source": [
    "### B. 荻窪ワンルームマンションの予測"
   ]
  },
  {
   "cell_type": "markdown",
   "metadata": {},
   "source": [
    "#### B1. データの説明と読み込み"
   ]
  },
  {
   "cell_type": "markdown",
   "metadata": {},
   "source": [
    "これは荻窪のワンルームマンションの物件に関する情報を収集してきた実データです。次のような変数をレコードしてきました。\n",
    "* name : 物件名\n",
    "* value : 家賃[万円]\n",
    "* area : 面積[m²]\n",
    "* age : 築年数[年]（注 : 新築の場合0年）\n",
    "* distance : 最寄り駅（JR中央線荻窪駅）まで徒歩でかかる時間[分]\n",
    "* bath_toilet_separated : バス・トイレ別（1 : True, 0 : False）\n",
    "* autolock : オートロック（1 : True, 0 : False ）\n",
    "\n",
    "今回は「荻窪のワンルームマンションの家賃を他の物件情報を用いて予測できるようにしよう」というタスクに勾配ブースティング決定木回帰で挑戦してみたいと思います。"
   ]
  },
  {
   "cell_type": "code",
   "execution_count": 1,
   "metadata": {},
   "outputs": [
    {
     "data": {
      "text/html": [
       "<div>\n",
       "<style scoped>\n",
       "    .dataframe tbody tr th:only-of-type {\n",
       "        vertical-align: middle;\n",
       "    }\n",
       "\n",
       "    .dataframe tbody tr th {\n",
       "        vertical-align: top;\n",
       "    }\n",
       "\n",
       "    .dataframe thead th {\n",
       "        text-align: right;\n",
       "    }\n",
       "</style>\n",
       "<table border=\"1\" class=\"dataframe\">\n",
       "  <thead>\n",
       "    <tr style=\"text-align: right;\">\n",
       "      <th></th>\n",
       "      <th>name</th>\n",
       "      <th>value</th>\n",
       "      <th>area</th>\n",
       "      <th>age</th>\n",
       "      <th>distance</th>\n",
       "      <th>bath_toilet_separated</th>\n",
       "      <th>autolock</th>\n",
       "    </tr>\n",
       "  </thead>\n",
       "  <tbody>\n",
       "    <tr>\n",
       "      <th>0</th>\n",
       "      <td>フェリーチェ上井草A</td>\n",
       "      <td>6.0</td>\n",
       "      <td>15.12</td>\n",
       "      <td>0</td>\n",
       "      <td>15</td>\n",
       "      <td>1</td>\n",
       "      <td>1</td>\n",
       "    </tr>\n",
       "    <tr>\n",
       "      <th>1</th>\n",
       "      <td>メゾン・ド・荻窪</td>\n",
       "      <td>4.5</td>\n",
       "      <td>12.11</td>\n",
       "      <td>40</td>\n",
       "      <td>7</td>\n",
       "      <td>0</td>\n",
       "      <td>0</td>\n",
       "    </tr>\n",
       "    <tr>\n",
       "      <th>2</th>\n",
       "      <td>ＪＲ中央線 荻窪駅 3階建 築40年</td>\n",
       "      <td>4.5</td>\n",
       "      <td>12.11</td>\n",
       "      <td>40</td>\n",
       "      <td>6</td>\n",
       "      <td>0</td>\n",
       "      <td>0</td>\n",
       "    </tr>\n",
       "    <tr>\n",
       "      <th>3</th>\n",
       "      <td>フェリーチェ上井草A</td>\n",
       "      <td>6.3</td>\n",
       "      <td>15.12</td>\n",
       "      <td>0</td>\n",
       "      <td>15</td>\n",
       "      <td>1</td>\n",
       "      <td>1</td>\n",
       "    </tr>\n",
       "    <tr>\n",
       "      <th>4</th>\n",
       "      <td>グローリア初穂阿佐ヶ谷</td>\n",
       "      <td>6.0</td>\n",
       "      <td>16.65</td>\n",
       "      <td>31</td>\n",
       "      <td>15</td>\n",
       "      <td>0</td>\n",
       "      <td>1</td>\n",
       "    </tr>\n",
       "  </tbody>\n",
       "</table>\n",
       "</div>"
      ],
      "text/plain": [
       "                 name  value   area  age  distance  bath_toilet_separated  \\\n",
       "0          フェリーチェ上井草A    6.0  15.12    0        15                      1   \n",
       "1            メゾン・ド・荻窪    4.5  12.11   40         7                      0   \n",
       "2  ＪＲ中央線 荻窪駅 3階建 築40年    4.5  12.11   40         6                      0   \n",
       "3          フェリーチェ上井草A    6.3  15.12    0        15                      1   \n",
       "4         グローリア初穂阿佐ヶ谷    6.0  16.65   31        15                      0   \n",
       "\n",
       "   autolock  \n",
       "0         1  \n",
       "1         0  \n",
       "2         0  \n",
       "3         1  \n",
       "4         1  "
      ]
     },
     "execution_count": 1,
     "metadata": {},
     "output_type": "execute_result"
    }
   ],
   "source": [
    "# データの読み込み\n",
    "import pandas as pd\n",
    "filepath_train = \".\\data\\ogikubo_oneroom_train.csv\"\n",
    "oneroom_train = pd.read_csv(filepath_or_buffer = filepath_train)\n",
    "oneroom_train.head(n = 5)"
   ]
  },
  {
   "cell_type": "markdown",
   "metadata": {},
   "source": [
    "#### B2. 特徴量選択"
   ]
  },
  {
   "cell_type": "markdown",
   "metadata": {},
   "source": [
    "今回は、すべての入力変数`area`, `age`, `distance`, `bath_toilet_separated`, `autolock`を用いて、出力変数`value`を予測していきます。"
   ]
  },
  {
   "cell_type": "code",
   "execution_count": 2,
   "metadata": {},
   "outputs": [],
   "source": [
    "# 特徴量の選択とデータの準備\n",
    "feature_name = [\"area\", \"age\", \"distance\", \"bath_toilet_separated\", \"autolock\"]\n",
    "X_train = oneroom_train[feature_name].values\n",
    "y_train = oneroom_train[\"value\"].values"
   ]
  },
  {
   "cell_type": "markdown",
   "metadata": {},
   "source": [
    "#### B3. モデルの学習"
   ]
  },
  {
   "cell_type": "markdown",
   "metadata": {},
   "source": [
    "勾配ブースティング決定木回帰のインスタンスを建てて学習を行います。学習は`fit` methodに入力変数の配列`X_train`と出力変数の配列`y_train`を渡すことで計算できます。"
   ]
  },
  {
   "cell_type": "code",
   "execution_count": 3,
   "metadata": {},
   "outputs": [
    {
     "data": {
      "text/plain": [
       "GradientBoostingRegressor(alpha=0.9, ccp_alpha=0.0, criterion='friedman_mse',\n",
       "                          init=None, learning_rate=0.01, loss='ls', max_depth=3,\n",
       "                          max_features=None, max_leaf_nodes=4,\n",
       "                          min_impurity_decrease=0.0, min_impurity_split=None,\n",
       "                          min_samples_leaf=10, min_samples_split=2,\n",
       "                          min_weight_fraction_leaf=0.0, n_estimators=1000,\n",
       "                          n_iter_no_change=None, presort='deprecated',\n",
       "                          random_state=None, subsample=1.0, tol=0.0001,\n",
       "                          validation_fraction=0.1, verbose=0, warm_start=False)"
      ]
     },
     "execution_count": 3,
     "metadata": {},
     "output_type": "execute_result"
    }
   ],
   "source": [
    "# 勾配ブースティング決定木回帰モデルの学習\n",
    "from sklearn.ensemble import GradientBoostingRegressor\n",
    "gbr = GradientBoostingRegressor(learning_rate = 0.01,\n",
    "                                n_estimators = 1000,\n",
    "                                max_leaf_nodes = 4,\n",
    "                                min_samples_leaf = 10)\n",
    "gbr.fit(X_train, y_train)"
   ]
  },
  {
   "cell_type": "markdown",
   "metadata": {},
   "source": [
    "#### B4. 予測とモデル評価"
   ]
  },
  {
   "cell_type": "markdown",
   "metadata": {},
   "source": [
    "学習したモデルによる予測は`predict` methodに予測したいデータポイントの入力配列を渡すことで計算できます。また、各iteration時の予測値もまた`staged_predict` methodで計算できます。この2つのmethodを用いて、\n",
    "* 訓練データとテストデータにおける残差プロット\n",
    "* 訓練データとテストデータにおける決定係数\n",
    "* 訓練データとテストデータにおける学習曲線\n",
    "\n",
    "を描いてみましょう。テストデータを読み込んでおきます。"
   ]
  },
  {
   "cell_type": "code",
   "execution_count": 4,
   "metadata": {},
   "outputs": [],
   "source": [
    "# テストデータの読み込み\n",
    "filepath_test = \".\\data\\ogikubo_oneroom_test.csv\"\n",
    "oneroom_test = pd.read_csv(filepath_or_buffer = filepath_test)\n",
    "X_test = oneroom_test[feature_name].values\n",
    "y_test = oneroom_test[\"value\"].values"
   ]
  },
  {
   "cell_type": "markdown",
   "metadata": {},
   "source": [
    "また、訓練データ・テストデータに対する予測値を計算しておきます。"
   ]
  },
  {
   "cell_type": "code",
   "execution_count": 5,
   "metadata": {},
   "outputs": [],
   "source": [
    "pred_train, pred_test = gbr.predict(X_train), gbr.predict(X_test)"
   ]
  },
  {
   "cell_type": "markdown",
   "metadata": {},
   "source": [
    "**残差プロット** : 横軸を予測値・縦軸を残差にとった散布図を描きます。"
   ]
  },
  {
   "cell_type": "code",
   "execution_count": 6,
   "metadata": {},
   "outputs": [
    {
     "data": {
      "image/png": "[encoded data removed]",
      "text/plain": [
       "<Figure size 432x288 with 1 Axes>"
      ]
     },
     "metadata": {
      "needs_background": "light"
     },
     "output_type": "display_data"
    }
   ],
   "source": [
    "# 訓練データの残差プロット\n",
    "import matplotlib.pyplot as plt\n",
    "error_train = y_train - pred_train\n",
    "plt.scatter(pred_train, error_train)\n",
    "plt.show()"
   ]
  },
  {
   "cell_type": "code",
   "execution_count": 7,
   "metadata": {},
   "outputs": [
    {
     "data": {
      "image/png": "[encoded data removed]",
      "text/plain": [
       "<Figure size 432x288 with 1 Axes>"
      ]
     },
     "metadata": {
      "needs_background": "light"
     },
     "output_type": "display_data"
    }
   ],
   "source": [
    "# テストデータの残差プロット\n",
    "import matplotlib.pyplot as plt\n",
    "error_test = y_test - pred_test\n",
    "plt.scatter(pred_test, error_test)\n",
    "plt.show()"
   ]
  },
  {
   "cell_type": "markdown",
   "metadata": {},
   "source": [
    "**決定係数** : 訓練データとテストデータにおける決定係数を計算しておきます。"
   ]
  },
  {
   "cell_type": "code",
   "execution_count": 17,
   "metadata": {},
   "outputs": [
    {
     "data": {
      "text/plain": [
       "0.9274891671111587"
      ]
     },
     "execution_count": 17,
     "metadata": {},
     "output_type": "execute_result"
    }
   ],
   "source": [
    "# 決定係数によるモデルの評価（訓練データ）\n",
    "from sklearn.metrics import r2_score\n",
    "r2_score(y_true = y_train, y_pred = pred_train)"
   ]
  },
  {
   "cell_type": "code",
   "execution_count": 18,
   "metadata": {},
   "outputs": [
    {
     "data": {
      "text/plain": [
       "0.8971220246885937"
      ]
     },
     "execution_count": 18,
     "metadata": {},
     "output_type": "execute_result"
    }
   ],
   "source": [
    "# 決定係数によるモデルの評価（テストデータ）\n",
    "from sklearn.metrics import r2_score\n",
    "r2_score(y_true = y_test, y_pred = pred_test)"
   ]
  },
  {
   "cell_type": "markdown",
   "metadata": {},
   "source": [
    "**学習曲線** : 横軸を繰り返し数、縦軸をその繰り返し時点でのモデルの損失の値にとったグラフを学習曲線といいます。ここで、instance `gbr`には`loss_` methodという損失の値を計算できるmethodと`train_score_`という各iterationにおける訓練データの損失をレコードしたinstance変数があることを知っておくと便利です。"
   ]
  },
  {
   "cell_type": "code",
   "execution_count": 11,
   "metadata": {},
   "outputs": [
    {
     "data": {
      "image/png": "[encoded data removed]",
      "text/plain": [
       "<Figure size 432x288 with 1 Axes>"
      ]
     },
     "metadata": {
      "needs_background": "light"
     },
     "output_type": "display_data"
    }
   ],
   "source": [
    "import numpy as np\n",
    "# 学習曲線\n",
    "max_iteration = 1000    # 設定したn_estimatorsの値\n",
    "test_score = np.zeros(max_iteration, dtype=np.float64)\n",
    "\n",
    "for i, pred_test in enumerate(gbr.staged_predict(X_test)):\n",
    "    test_score[i] = gbr.loss_(y_test, pred_test)    # np.mean((y_test, pred_test)**2)と等しい。\n",
    "\n",
    "#gbr.train_score_で訓練データでの損失を呼び出す\n",
    "plt.plot(np.arange(max_iteration) + 1, gbr.train_score_, 'b-', label = \"train\")\n",
    "plt.plot(np.arange(max_iteration) + 1, test_score, 'r-', label = \"test\")\n",
    "plt.xlabel(\"iteration\")\n",
    "plt.ylabel(\"squared loss\")\n",
    "plt.legend()\n",
    "plt.show()"
   ]
  },
  {
   "cell_type": "markdown",
   "metadata": {},
   "source": [
    "### C. early stopping"
   ]
  },
  {
   "cell_type": "markdown",
   "metadata": {},
   "source": [
    "**early stoppingの仕組み** : 学習曲線を見ると分かるように、`n_estimators`が大きくなると勾配ブースティング決定木回帰モデルは**過剰適合**する傾向にあることが知られています。そこで、early stoppingといって学習時に訓練データを学習に使うデータ（学習データ）と未知データに対する損失の値を監視するためのデータ（検証データ）に分割し、検証データにおける損失の値が上昇した時点で学習を打ち止める手法が一般的に採用されています。\n",
    "\n",
    "[Remark] 検証データは勾配ブースティング法の計算自体には用いず、各iterationが終わるごとに得られた仮説の損失を計算し、監視するためだけに用います。"
   ]
  },
  {
   "cell_type": "markdown",
   "metadata": {},
   "source": [
    "**`GradientBoostingRegressor`に対する設定** : `GradientBoostingRegressor` classは\n",
    "* `n_iter_no_change` : 1時点前から`n_iter_no_change`時点前のすべてに対して、検証データにおける損失が現在よりも小さい場合、学習を打ち止める。\n",
    "* `validation_fraction` : 訓練データのうちの何割を検証データとして分割するかを決める。"
   ]
  },
  {
   "cell_type": "code",
   "execution_count": 12,
   "metadata": {},
   "outputs": [
    {
     "data": {
      "text/plain": [
       "GradientBoostingRegressor(alpha=0.9, ccp_alpha=0.0, criterion='friedman_mse',\n",
       "                          init=None, learning_rate=0.01, loss='ls',\n",
       "                          max_depth=None, max_features=None, max_leaf_nodes=4,\n",
       "                          min_impurity_decrease=0.0, min_impurity_split=None,\n",
       "                          min_samples_leaf=10, min_samples_split=2,\n",
       "                          min_weight_fraction_leaf=0.0, n_estimators=1000,\n",
       "                          n_iter_no_change=5, presort='deprecated',\n",
       "                          random_state=None, subsample=1.0, tol=0.0001,\n",
       "                          validation_fraction=0.2, verbose=0, warm_start=False)"
      ]
     },
     "execution_count": 12,
     "metadata": {},
     "output_type": "execute_result"
    }
   ],
   "source": [
    "# 勾配ブースティング決定木回帰モデルの学習\n",
    "from sklearn.ensemble import GradientBoostingRegressor\n",
    "gbr = GradientBoostingRegressor(learning_rate = 0.01,\n",
    "                                n_estimators = 1000,\n",
    "                                max_depth = None,    # max_depthを用いないための設定。\n",
    "                                max_leaf_nodes = 4,\n",
    "                                min_samples_leaf = 10,\n",
    "                                n_iter_no_change = 5, \n",
    "                                validation_fraction = 0.2)\n",
    "gbr.fit(X_train, y_train)"
   ]
  },
  {
   "cell_type": "markdown",
   "metadata": {},
   "source": [
    "実際に、early stoppingつきで学習を行った結果、過剰適合を抑えることが出来ていることが分かります。"
   ]
  },
  {
   "cell_type": "code",
   "execution_count": 13,
   "metadata": {},
   "outputs": [
    {
     "data": {
      "text/plain": [
       "(337,)"
      ]
     },
     "execution_count": 13,
     "metadata": {},
     "output_type": "execute_result"
    }
   ],
   "source": [
    "# 実際のiteration数\n",
    "gbr.train_score_.shape"
   ]
  },
  {
   "cell_type": "code",
   "execution_count": 14,
   "metadata": {},
   "outputs": [
    {
     "data": {
      "image/png": "[encoded data removed]",
      "text/plain": [
       "<Figure size 432x288 with 1 Axes>"
      ]
     },
     "metadata": {
      "needs_background": "light"
     },
     "output_type": "display_data"
    }
   ],
   "source": [
    "# 学習曲線\n",
    "max_iteration = 337    # 確認した実際のiteration数\n",
    "test_score = np.zeros(max_iteration, dtype=np.float64)\n",
    "\n",
    "for i, pred_test in enumerate(gbr.staged_predict(X_test)):\n",
    "    test_score[i] = gbr.loss_(y_test, pred_test) \n",
    "\n",
    "plt.plot(np.arange(max_iteration) + 1, gbr.train_score_, 'b-', label = \"train\")\n",
    "plt.plot(np.arange(max_iteration) + 1, test_score, 'r-', label = \"test\")\n",
    "plt.xlabel(\"iteration\")\n",
    "plt.ylabel(\"squared loss\")\n",
    "plt.legend()\n",
    "plt.show()"
   ]
  },
  {
   "cell_type": "markdown",
   "metadata": {},
   "source": [
    "### D. 変数重要度"
   ]
  },
  {
   "cell_type": "markdown",
   "metadata": {},
   "source": [
    "勾配ブースティング決定木回帰モデルもまた決定木の他のアンサンブル学習と同様にして**変数重要度** (feature importance) を計算することが出来ます。以下の実装からも分かるように、各iterationで学習した決定木回帰の変数重要度について、入力変数ごとに平均をとり、合計が1になるように正規化したものを変数重要度と定義します。\n",
    "\n",
    "<center><img src=\"./imgs/feature_importances_.png\" width=500px></center>\n",
    "\n",
    "[Remark] self.estimators_には、各iterationで学習した決定木回帰がlistで入っています。for文を走らせるとstageに1つずつ順番に決定木回帰が代入され、各列の（正規化された）変数重要度が足されていきます。今回`stage`の長さ`len(stage)`は1であることに注意してください。各列の変数重要度の総和を取ったら、その合計は決定木回帰の個数と一致するので、それで割ることで変数重要度を正規化しています。"
   ]
  },
  {
   "cell_type": "code",
   "execution_count": 16,
   "metadata": {},
   "outputs": [
    {
     "data": {
      "image/png": "[encoded data removed]",
      "text/plain": [
       "<Figure size 432x288 with 1 Axes>"
      ]
     },
     "metadata": {
      "needs_background": "light"
     },
     "output_type": "display_data"
    }
   ],
   "source": [
    "# 変数重要度\n",
    "importances = gbr.feature_importances_\n",
    "indices = np.argsort(importances)\n",
    "plt.barh(np.asarray(feature_name)[indices], importances[indices],\n",
    "         color=\"r\", align=\"center\")\n",
    "plt.show()"
   ]
  },
  {
   "cell_type": "code",
   "execution_count": null,
   "metadata": {},
   "outputs": [],
   "source": []
  }
 ],
 "metadata": {
  "kernelspec": {
   "display_name": "Python 3",
   "language": "python",
   "name": "python3"
  },
  "language_info": {
   "codemirror_mode": {
    "name": "ipython",
    "version": 3
   },
   "file_extension": ".py",
   "mimetype": "text/x-python",
   "name": "python",
   "nbconvert_exporter": "python",
   "pygments_lexer": "ipython3",
   "version": "3.7.6"
  }
 },
 "nbformat": 4,
 "nbformat_minor": 2
}
