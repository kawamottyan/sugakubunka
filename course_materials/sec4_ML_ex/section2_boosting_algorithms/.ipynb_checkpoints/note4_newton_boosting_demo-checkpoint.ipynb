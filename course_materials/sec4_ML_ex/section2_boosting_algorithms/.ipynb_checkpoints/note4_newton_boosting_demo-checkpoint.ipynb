{
 "cells": [
  {
   "cell_type": "markdown",
   "metadata": {},
   "source": [
    "## 4.4. Newtonブースティング法の`lightgbm`によるデモ"
   ]
  },
  {
   "cell_type": "markdown",
   "metadata": {},
   "source": [
    "### A. Newtonブースティング決定木回帰モデル"
   ]
  },
  {
   "cell_type": "markdown",
   "metadata": {},
   "source": [
    "ここでは、Newtonブースティング決定木回帰モデルの`lightgbm` packageによるデモを行います。勾配ブースティング決定木回帰モデルは次のようなalgorithmのことです:\n",
    "\n",
    "**Input** :\n",
    "* $\\eta>0$ : 学習率\n",
    "* $\\nabla_h L$ : 目的関数$L$の1階導関数\n",
    "* $\\nabla^2_h L$ : 目的関数$L$の2階導関数\n",
    "* $M$ : 繰り返しの最大回数\n",
    "\n",
    "**Process** :\n",
    "1. $\\hat{h}(x)\\leftarrow \\bar{y}$\n",
    "2. for $t$ in $1,\\cdots,M$:\n",
    "3. 　　$h_{t}$を$\\nabla_h L$, $\\nabla^2_h L$が定める決定木の学習アルゴリズムで求める。\n",
    "4. 　　$\\hat{h}(x)\\leftarrow\\hat{h}(x)+\\eta h_{t}(x)$\n",
    "5. return $\\hat{h}(x)$\n",
    "\n",
    "`lightgbm` moduleには勾配ブースティング決定木回帰モデルの実装である`GradientBoostingRegressor` classがあります。引数としてhyperparameterである\n",
    "* `learning_rate` : 学習率\n",
    "* `n_estimators` : 繰り返しの最大数\n",
    "* その他、決定木回帰モデルのhyperparameter\n",
    "    - `num_leaves` : 葉ノードの最大数\n",
    "    - `min_child_samples` : 葉ノードに所属する訓練データ点のサイズの最小値\n",
    "\n",
    "を指定することが出来ます。"
   ]
  },
  {
   "cell_type": "markdown",
   "metadata": {},
   "source": [
    "### B. 荻窪ワンルームマンションの予測"
   ]
  },
  {
   "cell_type": "markdown",
   "metadata": {},
   "source": [
    "#### B1. データの説明と読み込み"
   ]
  },
  {
   "cell_type": "markdown",
   "metadata": {},
   "source": [
    "これは荻窪のワンルームマンションの物件に関する情報を収集してきた実データです。次のような変数をレコードしてきました。\n",
    "* name : 物件名\n",
    "* value : 家賃[万円]\n",
    "* area : 面積[m²]\n",
    "* age : 築年数[年]（注 : 新築の場合0年）\n",
    "* distance : 最寄り駅（JR中央線荻窪駅）まで徒歩でかかる時間[分]\n",
    "* bath_toilet_separated : バス・トイレ別（1 : True, 0 : False）\n",
    "* autolock : オートロック（1 : True, 0 : False ）\n",
    "\n",
    "今回は「荻窪のワンルームマンションの家賃を他の物件情報を用いて予測できるようにしよう」というタスクに勾配ブースティング決定木回帰で挑戦してみたいと思います。"
   ]
  },
  {
   "cell_type": "code",
   "execution_count": 1,
   "metadata": {},
   "outputs": [
    {
     "data": {
      "text/html": [
       "<div>\n",
       "<style scoped>\n",
       "    .dataframe tbody tr th:only-of-type {\n",
       "        vertical-align: middle;\n",
       "    }\n",
       "\n",
       "    .dataframe tbody tr th {\n",
       "        vertical-align: top;\n",
       "    }\n",
       "\n",
       "    .dataframe thead th {\n",
       "        text-align: right;\n",
       "    }\n",
       "</style>\n",
       "<table border=\"1\" class=\"dataframe\">\n",
       "  <thead>\n",
       "    <tr style=\"text-align: right;\">\n",
       "      <th></th>\n",
       "      <th>name</th>\n",
       "      <th>value</th>\n",
       "      <th>area</th>\n",
       "      <th>age</th>\n",
       "      <th>distance</th>\n",
       "      <th>bath_toilet_separated</th>\n",
       "      <th>autolock</th>\n",
       "    </tr>\n",
       "  </thead>\n",
       "  <tbody>\n",
       "    <tr>\n",
       "      <td>0</td>\n",
       "      <td>フェリーチェ上井草A</td>\n",
       "      <td>6.0</td>\n",
       "      <td>15.12</td>\n",
       "      <td>0</td>\n",
       "      <td>15</td>\n",
       "      <td>1</td>\n",
       "      <td>1</td>\n",
       "    </tr>\n",
       "    <tr>\n",
       "      <td>1</td>\n",
       "      <td>メゾン・ド・荻窪</td>\n",
       "      <td>4.5</td>\n",
       "      <td>12.11</td>\n",
       "      <td>40</td>\n",
       "      <td>7</td>\n",
       "      <td>0</td>\n",
       "      <td>0</td>\n",
       "    </tr>\n",
       "    <tr>\n",
       "      <td>2</td>\n",
       "      <td>ＪＲ中央線 荻窪駅 3階建 築40年</td>\n",
       "      <td>4.5</td>\n",
       "      <td>12.11</td>\n",
       "      <td>40</td>\n",
       "      <td>6</td>\n",
       "      <td>0</td>\n",
       "      <td>0</td>\n",
       "    </tr>\n",
       "    <tr>\n",
       "      <td>3</td>\n",
       "      <td>フェリーチェ上井草A</td>\n",
       "      <td>6.3</td>\n",
       "      <td>15.12</td>\n",
       "      <td>0</td>\n",
       "      <td>15</td>\n",
       "      <td>1</td>\n",
       "      <td>1</td>\n",
       "    </tr>\n",
       "    <tr>\n",
       "      <td>4</td>\n",
       "      <td>グローリア初穂阿佐ヶ谷</td>\n",
       "      <td>6.0</td>\n",
       "      <td>16.65</td>\n",
       "      <td>31</td>\n",
       "      <td>15</td>\n",
       "      <td>0</td>\n",
       "      <td>1</td>\n",
       "    </tr>\n",
       "  </tbody>\n",
       "</table>\n",
       "</div>"
      ],
      "text/plain": [
       "                 name  value   area  age  distance  bath_toilet_separated  \\\n",
       "0          フェリーチェ上井草A    6.0  15.12    0        15                      1   \n",
       "1            メゾン・ド・荻窪    4.5  12.11   40         7                      0   \n",
       "2  ＪＲ中央線 荻窪駅 3階建 築40年    4.5  12.11   40         6                      0   \n",
       "3          フェリーチェ上井草A    6.3  15.12    0        15                      1   \n",
       "4         グローリア初穂阿佐ヶ谷    6.0  16.65   31        15                      0   \n",
       "\n",
       "   autolock  \n",
       "0         1  \n",
       "1         0  \n",
       "2         0  \n",
       "3         1  \n",
       "4         1  "
      ]
     },
     "execution_count": 1,
     "metadata": {},
     "output_type": "execute_result"
    }
   ],
   "source": [
    "# データの読み込み\n",
    "import pandas as pd\n",
    "filepath_train = \".\\data\\ogikubo_oneroom_train.csv\"\n",
    "oneroom_train = pd.read_csv(filepath_or_buffer = filepath_train)\n",
    "oneroom_train.head(n = 5)"
   ]
  },
  {
   "cell_type": "markdown",
   "metadata": {},
   "source": [
    "#### B2. 特徴量選択"
   ]
  },
  {
   "cell_type": "markdown",
   "metadata": {},
   "source": [
    "今回は、すべての入力変数`area`, `age`, `distance`, `bath_toilet_separated`, `autolock`を用いて、出力変数`value`を予測していきます。"
   ]
  },
  {
   "cell_type": "code",
   "execution_count": 2,
   "metadata": {},
   "outputs": [],
   "source": [
    "# 特徴量の選択とデータの準備\n",
    "feature_name = [\"area\", \"age\", \"distance\", \"bath_toilet_separated\", \"autolock\"]\n",
    "X_train = oneroom_train[feature_name].values\n",
    "y_train = oneroom_train[\"value\"].values"
   ]
  },
  {
   "cell_type": "markdown",
   "metadata": {},
   "source": [
    "また、early stoppingを行うために、訓練データを事前に学習用と検証用に分割します。"
   ]
  },
  {
   "cell_type": "code",
   "execution_count": 3,
   "metadata": {},
   "outputs": [],
   "source": [
    "# early stopping\n",
    "from sklearn.model_selection import train_test_split\n",
    "X_learn, X_val, y_learn, y_val = train_test_split(X_train, y_train, test_size = 0.2)"
   ]
  },
  {
   "cell_type": "markdown",
   "metadata": {},
   "source": [
    "#### B3. モデルの学習"
   ]
  },
  {
   "cell_type": "markdown",
   "metadata": {},
   "source": [
    "Newtonブースティング決定木回帰のインスタンスを建てて学習を行います。学習は`fit` methodに入力変数の配列`X_train`と出力変数の配列`y_train`を渡すことで計算できます。また、`fit` methodはearly stoppingのための\n",
    "* `eval_set` : 検証用データセットを渡す引数\n",
    "* `early_stopping_rounds` : 1時点前から`early_stopping_roundes`時点前のすべてに対して、検証データにおける損失が現在よりも小さい場合、学習を打ち止める。\n",
    "\n",
    "という2つの引数を持ちます。"
   ]
  },
  {
   "cell_type": "code",
   "execution_count": 4,
   "metadata": {},
   "outputs": [
    {
     "name": "stdout",
     "output_type": "stream",
     "text": [
      "Training until validation scores don't improve for 5 rounds\n",
      "[50]\tvalid_0's l2: 2.69296\n",
      "[100]\tvalid_0's l2: 1.92168\n",
      "[150]\tvalid_0's l2: 1.70144\n",
      "[200]\tvalid_0's l2: 1.47298\n",
      "Early stopping, best iteration is:\n",
      "[224]\tvalid_0's l2: 1.39792\n"
     ]
    },
    {
     "data": {
      "text/plain": [
       "LGBMRegressor(boosting_type='gbdt', class_weight=None, colsample_bytree=1.0,\n",
       "              importance_type='split', learning_rate=0.01, max_depth=-1,\n",
       "              min_child_samples=10, min_child_weight=0.001, min_split_gain=0.0,\n",
       "              n_estimators=1000, n_jobs=-1, num_leaves=4, objective=None,\n",
       "              random_state=None, reg_alpha=0.0, reg_lambda=0.0, silent=True,\n",
       "              subsample=1.0, subsample_for_bin=200000, subsample_freq=0)"
      ]
     },
     "execution_count": 4,
     "metadata": {},
     "output_type": "execute_result"
    }
   ],
   "source": [
    "# 勾配ブースティング決定木回帰モデルの学習\n",
    "from lightgbm import LGBMRegressor\n",
    "nbr = LGBMRegressor(learning_rate = 0.01,\n",
    "                    n_estimators = 1000,\n",
    "                    num_leaves = 4,\n",
    "                    min_child_samples = 10)\n",
    "nbr.fit(X_learn, y_learn,\n",
    "        eval_set = (X_val, y_val), \n",
    "        early_stopping_rounds = 5, \n",
    "        verbose = 50)     # verboseは学習の様子をprintするiterationの間隔"
   ]
  },
  {
   "cell_type": "markdown",
   "metadata": {},
   "source": [
    "`[50] valid_0's l2: 2.69296`は`eval_set`に指定した検証用データ (<u>valid</u>ation data) で、<u>50</u>回目のiteration時に学習器の2乗損失(<u>l2</u> loss)が<u>2.69296</u>であったという意味を表しています。"
   ]
  },
  {
   "cell_type": "markdown",
   "metadata": {},
   "source": [
    "#### B4. 予測とモデル評価"
   ]
  },
  {
   "cell_type": "markdown",
   "metadata": {},
   "source": [
    "学習したモデルによる予測は`predict` methodに予測したいデータポイントの入力配列を渡すことで計算できます。このmethodを用いて、\n",
    "* 訓練データとテストデータにおける残差プロット\n",
    "* 訓練データとテストデータにおける決定係数\n",
    "\n",
    "を描いてみましょう。テストデータを読み込んでおきます。"
   ]
  },
  {
   "cell_type": "code",
   "execution_count": 5,
   "metadata": {},
   "outputs": [],
   "source": [
    "# テストデータの読み込み\n",
    "filepath_test = \".\\data\\ogikubo_oneroom_test.csv\"\n",
    "oneroom_test = pd.read_csv(filepath_or_buffer = filepath_test)\n",
    "X_test = oneroom_test[feature_name].values\n",
    "y_test = oneroom_test[\"value\"].values"
   ]
  },
  {
   "cell_type": "markdown",
   "metadata": {},
   "source": [
    "また、訓練データ・テストデータに対する予測値を計算しておきます。"
   ]
  },
  {
   "cell_type": "code",
   "execution_count": 6,
   "metadata": {},
   "outputs": [],
   "source": [
    "pred_train, pred_test = nbr.predict(X_train), nbr.predict(X_test)"
   ]
  },
  {
   "cell_type": "markdown",
   "metadata": {},
   "source": [
    "**残差プロット** : 横軸を予測値・縦軸を残差にとった散布図を描きます。"
   ]
  },
  {
   "cell_type": "code",
   "execution_count": 14,
   "metadata": {},
   "outputs": [
    {
     "data": {
      "image/png": "[encoded data removed]",
      "text/plain": [
       "<Figure size 432x288 with 1 Axes>"
      ]
     },
     "metadata": {
      "needs_background": "light"
     },
     "output_type": "display_data"
    }
   ],
   "source": [
    "# 訓練データの残差プロット\n",
    "import matplotlib.pyplot as plt\n",
    "error_train = y_train - pred_train\n",
    "plt.scatter(pred_train, error_train)\n",
    "plt.show()"
   ]
  },
  {
   "cell_type": "code",
   "execution_count": 8,
   "metadata": {},
   "outputs": [
    {
     "data": {
      "image/png": "[encoded data removed]",
      "text/plain": [
       "<Figure size 432x288 with 1 Axes>"
      ]
     },
     "metadata": {
      "needs_background": "light"
     },
     "output_type": "display_data"
    }
   ],
   "source": [
    "# テストデータの残差プロット\n",
    "import matplotlib.pyplot as plt\n",
    "error_test = y_test - pred_test\n",
    "plt.scatter(pred_test, error_test)\n",
    "plt.show()"
   ]
  },
  {
   "cell_type": "markdown",
   "metadata": {},
   "source": [
    "**決定係数** : 訓練データとテストデータにおける決定係数を計算しておきます。"
   ]
  },
  {
   "cell_type": "code",
   "execution_count": 9,
   "metadata": {},
   "outputs": [
    {
     "data": {
      "text/plain": [
       "0.8296132510341756"
      ]
     },
     "execution_count": 9,
     "metadata": {},
     "output_type": "execute_result"
    }
   ],
   "source": [
    "# 決定係数によるモデルの評価（訓練データ）\n",
    "from sklearn.metrics import r2_score\n",
    "r2_score(y_true = y_train, y_pred = pred_train)"
   ]
  },
  {
   "cell_type": "code",
   "execution_count": 10,
   "metadata": {},
   "outputs": [
    {
     "data": {
      "text/plain": [
       "0.8626106402888712"
      ]
     },
     "execution_count": 10,
     "metadata": {},
     "output_type": "execute_result"
    }
   ],
   "source": [
    "# 決定係数によるモデルの評価（テストデータ）\n",
    "from sklearn.metrics import r2_score\n",
    "r2_score(y_true = y_test, y_pred = pred_test)"
   ]
  },
  {
   "cell_type": "markdown",
   "metadata": {},
   "source": [
    "### C. 変数重要度"
   ]
  },
  {
   "cell_type": "markdown",
   "metadata": {},
   "source": [
    "Newtonブースティング決定木回帰モデルもまた決定木の他のアンサンブル学習と同様にして**変数重要度** (feature importance) を計算することが出来ます。各iterationで学習した決定木回帰の変数重要度について、入力変数ごとに平均をとったものを変数重要度と定義します。なお、`lightGBM` packageは`sklearn`の勾配ブースティング決定木回帰と異なり、変数重要度の合計を1にする正規化は行わずに出力されますが、これと意味は同じです。\n",
    "\n",
    "[Remark] 変数重要度の定義には複数あり、変数重要度の高い順番に入力変数を並べても結果が異なり得るなどの違いを持っています。例えば`feature_impotances_`変数は、決定木のノードにその変数が現れた数を変数重要度として返す方法を採用しています。以下のスクリプトを参考に注意してください。■"
   ]
  },
  {
   "cell_type": "code",
   "execution_count": 11,
   "metadata": {},
   "outputs": [
    {
     "data": {
      "image/png": "[encoded data removed]",
      "text/plain": [
       "<Figure size 432x288 with 1 Axes>"
      ]
     },
     "metadata": {
      "needs_background": "light"
     },
     "output_type": "display_data"
    }
   ],
   "source": [
    "# 変数重要度（入力変数ごとに決定木回帰の変数重要度の平均を取ったもの）\n",
    "importances = nbr.booster_.feature_importance(importance_type = \"gain\")\n",
    "indices = np.argsort(importances)\n",
    "plt.barh(np.asarray(feature_name)[indices], importances[indices],\n",
    "         color=\"r\", align=\"center\")\n",
    "plt.show()"
   ]
  },
  {
   "cell_type": "code",
   "execution_count": 12,
   "metadata": {},
   "outputs": [
    {
     "data": {
      "image/png": "[encoded data removed]",
      "text/plain": [
       "<Figure size 432x288 with 1 Axes>"
      ]
     },
     "metadata": {
      "needs_background": "light"
     },
     "output_type": "display_data"
    }
   ],
   "source": [
    "# 変数重要度（決定木のノードにその変数が現れた数の変数重要度として出す。）\n",
    "importances = nbr.booster_.feature_importance(importance_type = \"split\")\n",
    "indices = np.argsort(importances)\n",
    "plt.barh(np.asarray(feature_name)[indices], importances[indices],\n",
    "         color=\"r\", align=\"center\")\n",
    "plt.show()"
   ]
  },
  {
   "cell_type": "code",
   "execution_count": 13,
   "metadata": {},
   "outputs": [
    {
     "data": {
      "image/png": "[encoded data removed]",
      "text/plain": [
       "<Figure size 432x288 with 1 Axes>"
      ]
     },
     "metadata": {
      "needs_background": "light"
     },
     "output_type": "display_data"
    }
   ],
   "source": [
    "# 変数重要度（feature_importances_は`gain=\"split\"`の結果を返している。）\n",
    "importances = nbr.feature_importances_\n",
    "indices = np.argsort(importances)\n",
    "plt.barh(np.asarray(feature_name)[indices], importances[indices],\n",
    "         color=\"r\", align=\"center\")\n",
    "plt.show()"
   ]
  }
 ],
 "metadata": {
  "kernelspec": {
   "display_name": "Python 3",
   "language": "python",
   "name": "python3"
  },
  "language_info": {
   "codemirror_mode": {
    "name": "ipython",
    "version": 3
   },
   "file_extension": ".py",
   "mimetype": "text/x-python",
   "name": "python",
   "nbconvert_exporter": "python",
   "pygments_lexer": "ipython3",
   "version": "3.7.3"
  }
 },
 "nbformat": 4,
 "nbformat_minor": 2
}
